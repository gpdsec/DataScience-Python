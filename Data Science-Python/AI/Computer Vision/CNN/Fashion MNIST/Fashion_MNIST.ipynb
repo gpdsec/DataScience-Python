{
 "cells": [
  {
   "cell_type": "markdown",
   "metadata": {
    "id": "WJFItf1FQFF7"
   },
   "source": [
    "### **1. Importing Libraries**\r\n",
    "\r\n",
    "\r\n",
    "\r\n"
   ]
  },
  {
   "cell_type": "code",
   "execution_count": 1,
   "metadata": {
    "id": "uT5CUoUogPlA"
   },
   "outputs": [],
   "source": [
    "import tensorflow as tf\n",
    "from tensorflow.keras.layers import Dense, Dropout, Flatten, Conv2D, MaxPooling2D\n",
    "#from tensorflow.keras.models import save_model\n",
    "import pandas as pd\n",
    "import numpy as np\n",
    "from tensorflow.keras import Model\n",
    "import matplotlib.pyplot as plt\n",
    "%matplotlib inline\n"
   ]
  },
  {
   "cell_type": "markdown",
   "metadata": {
    "id": "7P1M6AcOQjjE"
   },
   "source": [
    "### **2. Loading & Processing Data**\r\n",
    "\r\n",
    "\r\n",
    "\r\n"
   ]
  },
  {
   "cell_type": "code",
   "execution_count": 2,
   "metadata": {
    "id": "yxVMpBuagaUC"
   },
   "outputs": [],
   "source": [
    "def data_load():\n",
    "  (X_train, y_train),(X_test, y_test) = tf.keras.datasets.fashion_mnist.load_data()\n",
    "  X_train = X_train/255.0\n",
    "  X_test = X_test/255.0\n",
    "  X_train = X_train[..., tf.newaxis].astype('float32')\n",
    "  X_test = X_test[..., tf.newaxis].astype('float32')\n",
    "  return X_train, y_train, X_test, y_test\n",
    "X_train, y_train, X_test, y_test =data_load()"
   ]
  },
  {
   "cell_type": "code",
   "execution_count": 3,
   "metadata": {
    "colab": {
     "base_uri": "https://localhost:8080/"
    },
    "id": "YJ8HIyqVVE4X",
    "outputId": "f39d33ed-da66-48dd-c748-e6de67a2d4d5"
   },
   "outputs": [
    {
     "name": "stdout",
     "output_type": "stream",
     "text": [
      "(60000, 28, 28, 1)\n",
      "(10000, 28, 28, 1)\n"
     ]
    }
   ],
   "source": [
    "print(X_train.shape)\r\n",
    "print(X_test.shape)"
   ]
  },
  {
   "cell_type": "code",
   "execution_count": 4,
   "metadata": {
    "id": "3PAbxoZVYMC-"
   },
   "outputs": [],
   "source": [
    "## Batching and shuffling Data\r\n",
    "\r\n",
    "def data_batch(X_train, y_train, X_test, y_test):\r\n",
    "  train_ds = tf.data.Dataset.from_tensor_slices(\r\n",
    "    (X_train, y_train)).shuffle(10000).batch(32)\r\n",
    "  test_ds = tf.data.Dataset.from_tensor_slices(\r\n",
    "      (X_test, y_test)).shuffle(10000).batch(32)\r\n",
    "  return train_ds, test_ds\r\n",
    "train_ds,test_ds = data_batch(X_train, y_train, X_test, y_test)"
   ]
  },
  {
   "cell_type": "markdown",
   "metadata": {
    "id": "KD6Ay1NBRxQU"
   },
   "source": [
    "### **3. Creating Class with tf.keras subclass Model**"
   ]
  },
  {
   "cell_type": "code",
   "execution_count": 5,
   "metadata": {
    "id": "_ht5UiifePor"
   },
   "outputs": [],
   "source": [
    "\r\n",
    "class MyModel(Model):\r\n",
    "  def __init__(self):\r\n",
    "    super().__init__()\r\n",
    "    self.conv1 = Conv2D(32,3, activation='relu')\r\n",
    "    self.conv2 = Conv2D(64,3, activation='relu')\r\n",
    "    self.conv3 = Conv2D(128,3, activation='relu')\r\n",
    "    self.flatten = Flatten()\r\n",
    "    self.dropout = Dropout(0.25)\r\n",
    "    self.maxpool = MaxPooling2D(2,2)\r\n",
    "    self.d1 = Dense(1024, activation='relu')\r\n",
    "    self.d2 = Dense(128, activation='relu')\r\n",
    "    self.d3 = Dense(10)\r\n",
    "  def call(self, x):\r\n",
    "    x = self.conv1(x)\r\n",
    "    x = self.maxpool(x)\r\n",
    "    x = self.conv2(x)\r\n",
    "    x = self.maxpool(x)\r\n",
    "    #x = self.conv3(x)\r\n",
    "    #x = self.maxpool(x)\r\n",
    "    x = self.flatten(x)\r\n",
    "    x = self.d1(x)\r\n",
    "    x = self.dropout(x)\r\n",
    "    x = self.d2(x)\r\n",
    "    return self.d3(x)"
   ]
  },
  {
   "cell_type": "code",
   "execution_count": 6,
   "metadata": {
    "id": "5-z7giicjns8"
   },
   "outputs": [],
   "source": [
    "# creating instance of model\r\n",
    "model = MyModel()"
   ]
  },
  {
   "cell_type": "markdown",
   "metadata": {
    "id": "fak0KjtASMdd"
   },
   "source": [
    "### **4. Optimizer and loss Function** "
   ]
  },
  {
   "cell_type": "code",
   "execution_count": 7,
   "metadata": {
    "id": "tv2EtPA2j6nn"
   },
   "outputs": [],
   "source": [
    "loss_object = tf.keras.losses.SparseCategoricalCrossentropy(from_logits=True)\r\n",
    "Optimiser = tf.keras.optimizers.Adam()"
   ]
  },
  {
   "cell_type": "markdown",
   "metadata": {
    "id": "dJDUJLAXSoZn"
   },
   "source": [
    "### **5. Metrics For Loss and Acuracy**"
   ]
  },
  {
   "cell_type": "code",
   "execution_count": 8,
   "metadata": {
    "id": "_ZV_OLFelKHN"
   },
   "outputs": [],
   "source": [
    "train_loss = tf.keras.metrics.Mean(name='train_loss')\r\n",
    "train_accuracy = tf.keras.metrics.SparseCategoricalAccuracy(name='train_accuracy')\r\n",
    "test_loss = tf.keras.metrics.Mean(name=\"test_loss\")\r\n",
    "test_accuracy = tf.keras.metrics.SparseCategoricalAccuracy(name='test_accuracy')"
   ]
  },
  {
   "cell_type": "markdown",
   "metadata": {
    "id": "Gk8eJelPTHA3"
   },
   "source": [
    "### **6. Function for training and Testing**"
   ]
  },
  {
   "cell_type": "code",
   "execution_count": 9,
   "metadata": {
    "id": "tcbvePZavERI"
   },
   "outputs": [],
   "source": [
    "@tf.function\r\n",
    "def train_step(images, labels):\r\n",
    "  with tf.GradientTape() as tape:\r\n",
    "    prediction = model(images, training=True)\r\n",
    "    loss = loss_object(labels,prediction)\r\n",
    "  gradient = tape.gradient(loss, model.trainable_variables)\r\n",
    "  Optimiser.apply_gradients(zip(gradient, model.trainable_variables))\r\n",
    "  train_loss(loss)\r\n",
    "  train_accuracy(labels, prediction)"
   ]
  },
  {
   "cell_type": "code",
   "execution_count": 10,
   "metadata": {
    "id": "UHkF3irCnJ4e"
   },
   "outputs": [],
   "source": [
    "@tf.function\r\n",
    "def test_step(images, labels):\r\n",
    "  prediction = model(images, training = False)\r\n",
    "  t_loss = loss_object(labels, prediction)\r\n",
    "  test_loss(t_loss)\r\n",
    "  test_accuracy(labels, prediction)"
   ]
  },
  {
   "cell_type": "markdown",
   "metadata": {
    "id": "aroHrgIrTYSN"
   },
   "source": [
    "### **7. Training Model**"
   ]
  },
  {
   "cell_type": "code",
   "execution_count": 11,
   "metadata": {
    "colab": {
     "base_uri": "https://localhost:8080/"
    },
    "id": "rx6KtgRvngNN",
    "outputId": "fdf5c209-244e-4cd8-9f9f-eadfe671f745"
   },
   "outputs": [
    {
     "name": "stdout",
     "output_type": "stream",
     "text": [
      "Epoch 1, Loss: 0.43526217341423035, Accuracy: 83.96333312988281, Test Loss: 0.3286125063896179, Test Accuracy: 88.01000213623047\n",
      "Epoch 2, Loss: 0.28981056809425354, Accuracy: 89.3133316040039, Test Loss: 0.29121580719947815, Test Accuracy: 89.51000213623047\n",
      "Saving Best Model 2\n",
      "Epoch 3, Loss: 0.2449345886707306, Accuracy: 90.96500396728516, Test Loss: 0.26345404982566833, Test Accuracy: 90.10000610351562\n",
      "Saving Best Model 3\n",
      "Epoch 4, Loss: 0.2121831327676773, Accuracy: 92.05166625976562, Test Loss: 0.26304492354393005, Test Accuracy: 90.33000183105469\n",
      "Saving Best Model 4\n",
      "Epoch 5, Loss: 0.18580195307731628, Accuracy: 92.99333190917969, Test Loss: 0.2568112015724182, Test Accuracy: 91.38999938964844\n",
      "Saving Best Model 5\n"
     ]
    }
   ],
   "source": [
    "EPOCHS = 5\r\n",
    "#min_Loss = 0\r\n",
    "#min_Accuracy = 0\r\n",
    "Train_LOSS = []\r\n",
    "TRain_Accuracy = []\r\n",
    "Test_LOSS = []\r\n",
    "Test_Accuracy = []\r\n",
    "\r\n",
    "for epoch in range(EPOCHS):\r\n",
    "  train_loss.reset_states()\r\n",
    "  train_accuracy.reset_states()\r\n",
    "  test_loss.reset_states()\r\n",
    "  test_accuracy.reset_states()\r\n",
    "\r\n",
    "  for images, labels in train_ds:\r\n",
    "    train_step(images, labels)\r\n",
    "  for test_images, test_labels in test_ds:\r\n",
    "    test_step(test_images, test_labels)\r\n",
    "\r\n",
    "  print(\r\n",
    "      f'Epoch {epoch + 1}, '\r\n",
    "      f'Loss: {train_loss.result()}, '\r\n",
    "      f'Accuracy: {train_accuracy.result()*100}, '\r\n",
    "      f'Test Loss: {test_loss.result()}, '\r\n",
    "      f'Test Accuracy: {test_accuracy.result()*100}'\r\n",
    "  )\r\n",
    "\r\n",
    "  Train_LOSS.append(train_loss.result())\r\n",
    "  TRain_Accuracy.append(train_accuracy.result()*100)\r\n",
    "  Test_LOSS.append(test_loss.result())\r\n",
    "  Test_Accuracy.append(test_accuracy.result()*100)\r\n",
    "\r\n",
    "  ### Implementing  CallBack\r\n",
    "\r\n",
    "  if epoch==0:\r\n",
    "    min_Loss = test_loss.result()\r\n",
    "    min_Accuracy = test_accuracy.result()*100\r\n",
    "  elif (min_Loss>test_loss.result()):\r\n",
    "    if (min_Accuracy <= test_accuracy.result()*100) :\r\n",
    "      min_Loss = test_loss.result()\r\n",
    "      min_Accuracy = ( test_accuracy.result()*100)\r\n",
    "      #path = 'BS_'+ str(epoch + 1)+'_'+ str(min_Loss)+'_'+str(min_Accuracy) +'.h5'\r\n",
    "      print(f\"Saving Best Model {epoch+1}\")\r\n",
    "      #path = f'/content/drive/MyDrive/Colab Notebooks/Model/BS_{epoch + 1}_{train_loss.result()}_{train_accuracy.result()*100}.h5'\r\n",
    "      path = f'/content/drive/MyDrive/Colab Notebooks/Model/BestModel.h5'  \r\n",
    "  \r\n",
    "\r\n",
    "      model.save_weights(path)                            # Saving Model To drive\r\n",
    "      #tf.keras.models.save_model(model, path, overwrite=True, include_optimizer=True, save_format='tf',\r\n",
    "      #                           signatures=None, options=None, save_traces=True)\r\n",
    " "
   ]
  },
  {
   "cell_type": "markdown",
   "metadata": {
    "id": "GGsV0OJwZB1H"
   },
   "source": [
    "### **8. Ploting Loss and Accuracy Per Iteration**"
   ]
  },
  {
   "cell_type": "code",
   "execution_count": 12,
   "metadata": {
    "colab": {
     "base_uri": "https://localhost:8080/",
     "height": 299
    },
    "id": "A84-OC64WdJ3",
    "outputId": "d725096b-520c-488e-d8a8-fb08ac3fd794"
   },
   "outputs": [
    {
     "data": {
      "text/plain": [
       "<matplotlib.legend.Legend at 0x7ff4c06f4350>"
      ]
     },
     "execution_count": 12,
     "metadata": {
      "tags": []
     },
     "output_type": "execute_result"
    },
    {
     "data": {
      "image/png": "[encoded data removed]",
      "text/plain": [
       "<Figure size 432x288 with 1 Axes>"
      ]
     },
     "metadata": {
      "needs_background": "light",
      "tags": []
     },
     "output_type": "display_data"
    }
   ],
   "source": [
    "# Plot loss per iteration\r\n",
    "plt.plot(Train_LOSS, label='loss')\r\n",
    "plt.plot(Test_LOSS, label='val_loss')\r\n",
    "plt.title('Plot loss per iteration')\r\n",
    "plt.legend()"
   ]
  },
  {
   "cell_type": "code",
   "execution_count": 13,
   "metadata": {
    "colab": {
     "base_uri": "https://localhost:8080/",
     "height": 299
    },
    "id": "6DD26kXBYnwh",
    "outputId": "48852501-23e0-477f-913b-b960f4fdf545"
   },
   "outputs": [
    {
     "data": {
      "text/plain": [
       "<matplotlib.legend.Legend at 0x7ff4c0457890>"
      ]
     },
     "execution_count": 13,
     "metadata": {
      "tags": []
     },
     "output_type": "execute_result"
    },
    {
     "data": {
      "image/png": "[encoded data removed]",
      "text/plain": [
       "<Figure size 432x288 with 1 Axes>"
      ]
     },
     "metadata": {
      "needs_background": "light",
      "tags": []
     },
     "output_type": "display_data"
    }
   ],
   "source": [
    "# Plot Accuracy per iteration\r\n",
    "plt.plot(TRain_Accuracy, label='loss')\r\n",
    "plt.plot(Test_Accuracy, label='val_loss')\r\n",
    "plt.title('Plot Accuracy per iteration')\r\n",
    "plt.legend()"
   ]
  },
  {
   "cell_type": "markdown",
   "metadata": {
    "id": "-KRd5eAut-GR"
   },
   "source": [
    "\n",
    "\n",
    "\n",
    "*   Template Inspired from tensorflow 2.0 [template for expert   \n",
    "](https://colab.research.google.com/github/tensorflow/docs/blob/master/site/en/tutorials/quickstart/advanced.ipynb)\n",
    "\n",
    "\n",
    "\n",
    "\n",
    "\n",
    "\n",
    "\n",
    "\r\n",
    "\r\n",
    "\r\n",
    "\r\n"
   ]
  },
  {
   "cell_type": "code",
   "execution_count": null,
   "metadata": {},
   "outputs": [],
   "source": []
  }
 ],
 "metadata": {
  "accelerator": "GPU",
  "colab": {
   "collapsed_sections": [],
   "name": "Fashion_MNIST.ipynb",
   "provenance": []
  },
  "kernelspec": {
   "display_name": "Python 3",
   "language": "python",
   "name": "python3"
  },
  "language_info": {
   "codemirror_mode": {
    "name": "ipython",
    "version": 3
   },
   "file_extension": ".py",
   "mimetype": "text/x-python",
   "name": "python",
   "nbconvert_exporter": "python",
   "pygments_lexer": "ipython3",
   "version": "3.8.5"
  }
 },
 "nbformat": 4,
 "nbformat_minor": 4
}
