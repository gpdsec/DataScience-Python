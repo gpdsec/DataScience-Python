{
 "cells": [
  {
   "cell_type": "markdown",
   "metadata": {
    "id": "WJFItf1FQFF7"
   },
   "source": [
    "### **1. Importing Libraries**\r\n",
    "\r\n",
    "\r\n",
    "\r\n"
   ]
  },
  {
   "cell_type": "code",
   "execution_count": 14,
   "metadata": {
    "id": "uT5CUoUogPlA"
   },
   "outputs": [],
   "source": [
    "import tensorflow as tf\n",
    "from tensorflow.keras.layers import Dense, Dropout, Flatten, Conv2D, MaxPooling2D\n",
    "#from tensorflow.keras.models import save_model\n",
    "import pandas as pd\n",
    "import numpy as np\n",
    "from tensorflow.keras import Model\n",
    "import matplotlib.pyplot as plt\n",
    "%matplotlib inline\n"
   ]
  },
  {
   "cell_type": "markdown",
   "metadata": {
    "id": "7P1M6AcOQjjE"
   },
   "source": [
    "### **2. Loading & Processing Data**\r\n",
    "\r\n",
    "\r\n",
    "\r\n"
   ]
  },
  {
   "cell_type": "code",
   "execution_count": 15,
   "metadata": {
    "colab": {
     "base_uri": "https://localhost:8080/"
    },
    "id": "yxVMpBuagaUC",
    "outputId": "360b36a0-0614-4790-d0a0-a0e12bbb986b"
   },
   "outputs": [
    {
     "name": "stdout",
     "output_type": "stream",
     "text": [
      "Downloading data from https://storage.googleapis.com/tensorflow/tf-keras-datasets/mnist.npz\n",
      "11493376/11490434 [==============================] - 0s 0us/step\n"
     ]
    }
   ],
   "source": [
    "def data_load():\n",
    "  (X_train, y_train),(X_test, y_test) = tf.keras.datasets.mnist.load_data()\n",
    "  X_train = X_train/255.0\n",
    "  X_test = X_test/255.0\n",
    "  X_train = X_train[..., tf.newaxis].astype('float32')\n",
    "  X_test = X_test[..., tf.newaxis].astype('float32')\n",
    "  return X_train, y_train, X_test, y_test\n",
    "X_train, y_train, X_test, y_test =data_load()"
   ]
  },
  {
   "cell_type": "code",
   "execution_count": 16,
   "metadata": {
    "colab": {
     "base_uri": "https://localhost:8080/"
    },
    "id": "YJ8HIyqVVE4X",
    "outputId": "13b69200-27ce-4057-b237-e62250befde3"
   },
   "outputs": [
    {
     "name": "stdout",
     "output_type": "stream",
     "text": [
      "(60000, 28, 28, 1)\n",
      "(10000, 28, 28, 1)\n"
     ]
    }
   ],
   "source": [
    "print(X_train.shape)\r\n",
    "print(X_test.shape)"
   ]
  },
  {
   "cell_type": "code",
   "execution_count": 17,
   "metadata": {
    "id": "3PAbxoZVYMC-"
   },
   "outputs": [],
   "source": [
    "## Batching and shuffling Data\r\n",
    "\r\n",
    "def data_batch(X_train, y_train, X_test, y_test):\r\n",
    "  train_ds = tf.data.Dataset.from_tensor_slices(\r\n",
    "    (X_train, y_train)).shuffle(10000).batch(32)\r\n",
    "  test_ds = tf.data.Dataset.from_tensor_slices(\r\n",
    "      (X_test, y_test)).shuffle(10000).batch(32)\r\n",
    "  return train_ds, test_ds\r\n",
    "train_ds,test_ds = data_batch(X_train, y_train, X_test, y_test)"
   ]
  },
  {
   "cell_type": "markdown",
   "metadata": {
    "id": "KD6Ay1NBRxQU"
   },
   "source": [
    "### **3. Creating Class with tf.keras subclass Model**"
   ]
  },
  {
   "cell_type": "code",
   "execution_count": 18,
   "metadata": {
    "id": "_ht5UiifePor"
   },
   "outputs": [],
   "source": [
    "class MyModel(Model):\r\n",
    "  def __init__(self):\r\n",
    "    super().__init__()\r\n",
    "    self.conv1 = Conv2D(32,3, activation='relu')\r\n",
    "    self.conv2 = Conv2D(64,3, activation='relu')\r\n",
    "    self.flatten = Flatten()\r\n",
    "    self.dropout = Dropout(0.25)\r\n",
    "    self.maxpool = MaxPooling2D(2,2)\r\n",
    "    self.d1 = Dense(1024, activation='relu')\r\n",
    "    self.d2 = Dense(128, activation='relu')\r\n",
    "    self.d3 = Dense(10)\r\n",
    "  def call(self, x):\r\n",
    "    x = self.conv1(x)\r\n",
    "    x = self.maxpool(x)\r\n",
    "    x = self.conv2(x)\r\n",
    "    x = self.maxpool(x)\r\n",
    "    x = self.flatten(x)\r\n",
    "    x = self.d1(x)\r\n",
    "    x = self.dropout(x)\r\n",
    "    x = self.d2(x)\r\n",
    "    return self.d3(x)"
   ]
  },
  {
   "cell_type": "code",
   "execution_count": 19,
   "metadata": {
    "id": "5-z7giicjns8"
   },
   "outputs": [],
   "source": [
    "# creating instance of model\r\n",
    "model = MyModel()"
   ]
  },
  {
   "cell_type": "markdown",
   "metadata": {
    "id": "fak0KjtASMdd"
   },
   "source": [
    "### **4. Optimizer and loss Function** "
   ]
  },
  {
   "cell_type": "code",
   "execution_count": 20,
   "metadata": {
    "id": "tv2EtPA2j6nn"
   },
   "outputs": [],
   "source": [
    "loss_object = tf.keras.losses.SparseCategoricalCrossentropy(from_logits=True)\r\n",
    "Optimiser = tf.keras.optimizers.Adam()"
   ]
  },
  {
   "cell_type": "markdown",
   "metadata": {
    "id": "dJDUJLAXSoZn"
   },
   "source": [
    "### **5. Metrics For Loss and Acuracy**"
   ]
  },
  {
   "cell_type": "code",
   "execution_count": 21,
   "metadata": {
    "id": "_ZV_OLFelKHN"
   },
   "outputs": [],
   "source": [
    "train_loss = tf.keras.metrics.Mean(name='train_loss')\r\n",
    "train_accuracy = tf.keras.metrics.SparseCategoricalAccuracy(name='train_accuracy')\r\n",
    "test_loss = tf.keras.metrics.Mean(name=\"test_loss\")\r\n",
    "test_accuracy = tf.keras.metrics.SparseCategoricalAccuracy(name='test_accuracy')"
   ]
  },
  {
   "cell_type": "markdown",
   "metadata": {
    "id": "Gk8eJelPTHA3"
   },
   "source": [
    "### **6. Function for training and Testing**"
   ]
  },
  {
   "cell_type": "code",
   "execution_count": 22,
   "metadata": {
    "id": "tcbvePZavERI"
   },
   "outputs": [],
   "source": [
    "@tf.function\r\n",
    "def train_step(images, labels):\r\n",
    "  with tf.GradientTape() as tape:\r\n",
    "    prediction = model(images, training=True)\r\n",
    "    loss = loss_object(labels,prediction)\r\n",
    "  gradient = tape.gradient(loss, model.trainable_variables)\r\n",
    "  Optimiser.apply_gradients(zip(gradient, model.trainable_variables))\r\n",
    "  train_loss(loss)\r\n",
    "  train_accuracy(labels, prediction)"
   ]
  },
  {
   "cell_type": "code",
   "execution_count": 23,
   "metadata": {
    "id": "UHkF3irCnJ4e"
   },
   "outputs": [],
   "source": [
    "@tf.function\r\n",
    "def test_step(images, labels):\r\n",
    "  prediction = model(images, training = False)\r\n",
    "  t_loss = loss_object(labels, prediction)\r\n",
    "  test_loss(t_loss)\r\n",
    "  test_accuracy(labels, prediction)"
   ]
  },
  {
   "cell_type": "markdown",
   "metadata": {
    "id": "aroHrgIrTYSN"
   },
   "source": [
    "### **7. Training Model**"
   ]
  },
  {
   "cell_type": "code",
   "execution_count": 24,
   "metadata": {
    "colab": {
     "base_uri": "https://localhost:8080/"
    },
    "id": "rx6KtgRvngNN",
    "outputId": "e2a4f2ae-963e-4c76-b9c7-61b46872b87c"
   },
   "outputs": [
    {
     "name": "stdout",
     "output_type": "stream",
     "text": [
      "Epoch 1, Loss: 0.11678679287433624, Accuracy: 96.42500305175781, Test Loss: 0.03771808743476868, Test Accuracy: 98.79999542236328\n",
      "Epoch 2, Loss: 0.042565759271383286, Accuracy: 98.71666717529297, Test Loss: 0.03185383602976799, Test Accuracy: 98.90999603271484\n",
      "Saving Best Model 2\n",
      "Epoch 3, Loss: 0.030611276626586914, Accuracy: 99.06999969482422, Test Loss: 0.03415394574403763, Test Accuracy: 98.90999603271484\n",
      "Epoch 4, Loss: 0.02342996373772621, Accuracy: 99.29000091552734, Test Loss: 0.03371540829539299, Test Accuracy: 99.0\n",
      "Epoch 5, Loss: 0.019290799275040627, Accuracy: 99.42166900634766, Test Loss: 0.03422137349843979, Test Accuracy: 99.12999725341797\n"
     ]
    }
   ],
   "source": [
    "EPOCHS = 5\r\n",
    "#min_Loss = 0\r\n",
    "#min_Accuracy = 0\r\n",
    "Train_LOSS = []\r\n",
    "TRain_Accuracy = []\r\n",
    "Test_LOSS = []\r\n",
    "Test_Accuracy = []\r\n",
    "\r\n",
    "for epoch in range(EPOCHS):\r\n",
    "  train_loss.reset_states()\r\n",
    "  train_accuracy.reset_states()\r\n",
    "  test_loss.reset_states()\r\n",
    "  test_accuracy.reset_states()\r\n",
    "\r\n",
    "  for images, labels in train_ds:\r\n",
    "    train_step(images, labels)\r\n",
    "  for test_images, test_labels in test_ds:\r\n",
    "    test_step(test_images, test_labels)\r\n",
    "\r\n",
    "  print(\r\n",
    "      f'Epoch {epoch + 1}, '\r\n",
    "      f'Loss: {train_loss.result()}, '\r\n",
    "      f'Accuracy: {train_accuracy.result()*100}, '\r\n",
    "      f'Test Loss: {test_loss.result()}, '\r\n",
    "      f'Test Accuracy: {test_accuracy.result()*100}'\r\n",
    "  )\r\n",
    "\r\n",
    "  Train_LOSS.append(train_loss.result())\r\n",
    "  TRain_Accuracy.append(train_accuracy.result()*100)\r\n",
    "  Test_LOSS.append(test_loss.result())\r\n",
    "  Test_Accuracy.append(test_accuracy.result()*100)\r\n",
    "\r\n",
    "  ### Implementing  CallBack\r\n",
    "\r\n",
    "  if epoch==0:\r\n",
    "    min_Loss = test_loss.result()\r\n",
    "    min_Accuracy = test_accuracy.result()*100\r\n",
    "  elif (min_Loss>test_loss.result()):\r\n",
    "    if (min_Accuracy <= test_accuracy.result()*100) :\r\n",
    "      min_Loss = test_loss.result()\r\n",
    "      min_Accuracy = ( test_accuracy.result()*100)\r\n",
    "      #path = 'BS_'+ str(epoch + 1)+'_'+ str(min_Loss)+'_'+str(min_Accuracy) +'.h5'\r\n",
    "      print(f\"Saving Best Model {epoch+1}\")\r\n",
    "      #path = f'/content/drive/MyDrive/Colab Notebooks/Model/BS_{epoch + 1}_{train_loss.result()}_{train_accuracy.result()*100}.h5'\r\n",
    "      path = f'/content/drive/MyDrive/Colab Notebooks/Model/BestModel.h5'  \r\n",
    "  \r\n",
    "\r\n",
    "      model.save_weights(path)                            # Saving Model To drive\r\n",
    "      #tf.keras.models.save_model(model, path, overwrite=True, include_optimizer=True, save_format='tf',\r\n",
    "      #                           signatures=None, options=None, save_traces=True)\r\n",
    " "
   ]
  },
  {
   "cell_type": "markdown",
   "metadata": {
    "id": "GGsV0OJwZB1H"
   },
   "source": [
    "### **8. Ploting Loss and Accuracy Per Iteration**"
   ]
  },
  {
   "cell_type": "code",
   "execution_count": 25,
   "metadata": {
    "colab": {
     "base_uri": "https://localhost:8080/",
     "height": 299
    },
    "id": "A84-OC64WdJ3",
    "outputId": "17a92e21-375e-4491-d2ed-ed90141c55c1"
   },
   "outputs": [
    {
     "data": {
      "text/plain": [
       "<matplotlib.legend.Legend at 0x7ff4c0532050>"
      ]
     },
     "execution_count": 25,
     "metadata": {
      "tags": []
     },
     "output_type": "execute_result"
    },
    {
     "data": {
      "image/png": "[encoded data removed]",
      "text/plain": [
       "<Figure size 432x288 with 1 Axes>"
      ]
     },
     "metadata": {
      "needs_background": "light",
      "tags": []
     },
     "output_type": "display_data"
    }
   ],
   "source": [
    "# Plot loss per iteration\r\n",
    "plt.plot(Train_LOSS, label='loss')\r\n",
    "plt.plot(Test_LOSS, label='val_loss')\r\n",
    "plt.title('Plot loss per iteration')\r\n",
    "plt.legend()"
   ]
  },
  {
   "cell_type": "code",
   "execution_count": 26,
   "metadata": {
    "colab": {
     "base_uri": "https://localhost:8080/",
     "height": 299
    },
    "id": "6DD26kXBYnwh",
    "outputId": "7f3e4ae1-c2ba-465d-d6aa-e1be49175f7f"
   },
   "outputs": [
    {
     "data": {
      "text/plain": [
       "<matplotlib.legend.Legend at 0x7ff4c0457050>"
      ]
     },
     "execution_count": 26,
     "metadata": {
      "tags": []
     },
     "output_type": "execute_result"
    },
    {
     "data": {
      "image/png": "[encoded data removed]",
      "text/plain": [
       "<Figure size 432x288 with 1 Axes>"
      ]
     },
     "metadata": {
      "needs_background": "light",
      "tags": []
     },
     "output_type": "display_data"
    }
   ],
   "source": [
    "# Plot Accuracy per iteration\r\n",
    "plt.plot(TRain_Accuracy, label='loss')\r\n",
    "plt.plot(Test_Accuracy, label='val_loss')\r\n",
    "plt.title('Plot Accuracy per iteration')\r\n",
    "plt.legend()"
   ]
  },
  {
   "cell_type": "markdown",
   "metadata": {
    "id": "-KRd5eAut-GR"
   },
   "source": [
    "\n",
    "\n",
    "\n",
    "*   Template Inspired from tensorflow 2.0 [template for expert   \n",
    "](https://colab.research.google.com/github/tensorflow/docs/blob/master/site/en/tutorials/quickstart/advanced.ipynb)\n",
    "\n",
    "\n",
    "\n",
    "\n",
    "\n",
    "\n",
    "\n",
    "\r\n",
    "\r\n",
    "\r\n",
    "\r\n"
   ]
  }
 ],
 "metadata": {
  "accelerator": "GPU",
  "colab": {
   "collapsed_sections": [],
   "name": "MNIST.ipynb",
   "provenance": []
  },
  "kernelspec": {
   "display_name": "Python 3",
   "language": "python",
   "name": "python3"
  },
  "language_info": {
   "codemirror_mode": {
    "name": "ipython",
    "version": 3
   },
   "file_extension": ".py",
   "mimetype": "text/x-python",
   "name": "python",
   "nbconvert_exporter": "python",
   "pygments_lexer": "ipython3",
   "version": "3.8.5"
  }
 },
 "nbformat": 4,
 "nbformat_minor": 4
}
