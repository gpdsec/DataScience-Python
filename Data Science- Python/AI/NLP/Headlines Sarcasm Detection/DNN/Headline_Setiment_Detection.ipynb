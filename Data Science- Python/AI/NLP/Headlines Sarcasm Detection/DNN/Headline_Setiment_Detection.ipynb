{
  "nbformat": 4,
  "nbformat_minor": 0,
  "metadata": {
    "colab": {
      "name": "Headline Setiment Detection.ipynb",
      "provenance": [],
      "collapsed_sections": []
    },
    "kernelspec": {
      "name": "python3",
      "display_name": "Python 3"
    },
    "language_info": {
      "name": "python"
    },
    "widgets": {
      "application/vnd.jupyter.widget-state+json": {
        "21c1dd8d69334d0d874bb43931e90b68": {
          "model_module": "@jupyter-widgets/controls",
          "model_name": "HBoxModel",
          "state": {
            "_view_name": "HBoxView",
            "_dom_classes": [],
            "_model_name": "HBoxModel",
            "_view_module": "@jupyter-widgets/controls",
            "_model_module_version": "1.5.0",
            "_view_count": null,
            "_view_module_version": "1.5.0",
            "box_style": "",
            "layout": "IPY_MODEL_f224183e00a64f0ab49c1d00ed90dcc1",
            "_model_module": "@jupyter-widgets/controls",
            "children": [
              "IPY_MODEL_6ea60941f70c4a7b946afb14d32d7f7b",
              "IPY_MODEL_33d9997458ea46d3a618623e5e24edaf"
            ]
          }
        },
        "f224183e00a64f0ab49c1d00ed90dcc1": {
          "model_module": "@jupyter-widgets/base",
          "model_name": "LayoutModel",
          "state": {
            "_view_name": "LayoutView",
            "grid_template_rows": null,
            "right": null,
            "justify_content": null,
            "_view_module": "@jupyter-widgets/base",
            "overflow": null,
            "_model_module_version": "1.2.0",
            "_view_count": null,
            "flex_flow": null,
            "width": null,
            "min_width": null,
            "border": null,
            "align_items": null,
            "bottom": null,
            "_model_module": "@jupyter-widgets/base",
            "top": null,
            "grid_column": null,
            "overflow_y": null,
            "overflow_x": null,
            "grid_auto_flow": null,
            "grid_area": null,
            "grid_template_columns": null,
            "flex": null,
            "_model_name": "LayoutModel",
            "justify_items": null,
            "grid_row": null,
            "max_height": null,
            "align_content": null,
            "visibility": null,
            "align_self": null,
            "height": null,
            "min_height": null,
            "padding": null,
            "grid_auto_rows": null,
            "grid_gap": null,
            "max_width": null,
            "order": null,
            "_view_module_version": "1.2.0",
            "grid_template_areas": null,
            "object_position": null,
            "object_fit": null,
            "grid_auto_columns": null,
            "margin": null,
            "display": null,
            "left": null
          }
        },
        "6ea60941f70c4a7b946afb14d32d7f7b": {
          "model_module": "@jupyter-widgets/controls",
          "model_name": "FloatProgressModel",
          "state": {
            "_view_name": "ProgressView",
            "style": "IPY_MODEL_c3644d6a14484dd3af0eac47e2f2491a",
            "_dom_classes": [],
            "description": "EPOCHS 0001: 100%",
            "_model_name": "FloatProgressModel",
            "bar_style": "success",
            "max": 668,
            "_view_module": "@jupyter-widgets/controls",
            "_model_module_version": "1.5.0",
            "value": 668,
            "_view_count": null,
            "_view_module_version": "1.5.0",
            "orientation": "horizontal",
            "min": 0,
            "description_tooltip": null,
            "_model_module": "@jupyter-widgets/controls",
            "layout": "IPY_MODEL_c52d34a7716d45fdad31f8936b5cb1da"
          }
        },
        "33d9997458ea46d3a618623e5e24edaf": {
          "model_module": "@jupyter-widgets/controls",
          "model_name": "HTMLModel",
          "state": {
            "_view_name": "HTMLView",
            "style": "IPY_MODEL_2789fc228ada4ec0bb8396aa0569834b",
            "_dom_classes": [],
            "description": "",
            "_model_name": "HTMLModel",
            "placeholder": "​",
            "_view_module": "@jupyter-widgets/controls",
            "_model_module_version": "1.5.0",
            "value": " 668/668 [00:02&lt;00:00, 244.64it/s]",
            "_view_count": null,
            "_view_module_version": "1.5.0",
            "description_tooltip": null,
            "_model_module": "@jupyter-widgets/controls",
            "layout": "IPY_MODEL_8a61418bf05a40bfb4d6e5e2fdeed8cd"
          }
        },
        "c3644d6a14484dd3af0eac47e2f2491a": {
          "model_module": "@jupyter-widgets/controls",
          "model_name": "ProgressStyleModel",
          "state": {
            "_view_name": "StyleView",
            "_model_name": "ProgressStyleModel",
            "description_width": "initial",
            "_view_module": "@jupyter-widgets/base",
            "_model_module_version": "1.5.0",
            "_view_count": null,
            "_view_module_version": "1.2.0",
            "bar_color": null,
            "_model_module": "@jupyter-widgets/controls"
          }
        },
        "c52d34a7716d45fdad31f8936b5cb1da": {
          "model_module": "@jupyter-widgets/base",
          "model_name": "LayoutModel",
          "state": {
            "_view_name": "LayoutView",
            "grid_template_rows": null,
            "right": null,
            "justify_content": null,
            "_view_module": "@jupyter-widgets/base",
            "overflow": null,
            "_model_module_version": "1.2.0",
            "_view_count": null,
            "flex_flow": null,
            "width": null,
            "min_width": null,
            "border": null,
            "align_items": null,
            "bottom": null,
            "_model_module": "@jupyter-widgets/base",
            "top": null,
            "grid_column": null,
            "overflow_y": null,
            "overflow_x": null,
            "grid_auto_flow": null,
            "grid_area": null,
            "grid_template_columns": null,
            "flex": null,
            "_model_name": "LayoutModel",
            "justify_items": null,
            "grid_row": null,
            "max_height": null,
            "align_content": null,
            "visibility": null,
            "align_self": null,
            "height": null,
            "min_height": null,
            "padding": null,
            "grid_auto_rows": null,
            "grid_gap": null,
            "max_width": null,
            "order": null,
            "_view_module_version": "1.2.0",
            "grid_template_areas": null,
            "object_position": null,
            "object_fit": null,
            "grid_auto_columns": null,
            "margin": null,
            "display": null,
            "left": null
          }
        },
        "2789fc228ada4ec0bb8396aa0569834b": {
          "model_module": "@jupyter-widgets/controls",
          "model_name": "DescriptionStyleModel",
          "state": {
            "_view_name": "StyleView",
            "_model_name": "DescriptionStyleModel",
            "description_width": "",
            "_view_module": "@jupyter-widgets/base",
            "_model_module_version": "1.5.0",
            "_view_count": null,
            "_view_module_version": "1.2.0",
            "_model_module": "@jupyter-widgets/controls"
          }
        },
        "8a61418bf05a40bfb4d6e5e2fdeed8cd": {
          "model_module": "@jupyter-widgets/base",
          "model_name": "LayoutModel",
          "state": {
            "_view_name": "LayoutView",
            "grid_template_rows": null,
            "right": null,
            "justify_content": null,
            "_view_module": "@jupyter-widgets/base",
            "overflow": null,
            "_model_module_version": "1.2.0",
            "_view_count": null,
            "flex_flow": null,
            "width": null,
            "min_width": null,
            "border": null,
            "align_items": null,
            "bottom": null,
            "_model_module": "@jupyter-widgets/base",
            "top": null,
            "grid_column": null,
            "overflow_y": null,
            "overflow_x": null,
            "grid_auto_flow": null,
            "grid_area": null,
            "grid_template_columns": null,
            "flex": null,
            "_model_name": "LayoutModel",
            "justify_items": null,
            "grid_row": null,
            "max_height": null,
            "align_content": null,
            "visibility": null,
            "align_self": null,
            "height": null,
            "min_height": null,
            "padding": null,
            "grid_auto_rows": null,
            "grid_gap": null,
            "max_width": null,
            "order": null,
            "_view_module_version": "1.2.0",
            "grid_template_areas": null,
            "object_position": null,
            "object_fit": null,
            "grid_auto_columns": null,
            "margin": null,
            "display": null,
            "left": null
          }
        },
        "21720ff5d5bf4ddcab2cbdfc88e94ce8": {
          "model_module": "@jupyter-widgets/controls",
          "model_name": "HBoxModel",
          "state": {
            "_view_name": "HBoxView",
            "_dom_classes": [],
            "_model_name": "HBoxModel",
            "_view_module": "@jupyter-widgets/controls",
            "_model_module_version": "1.5.0",
            "_view_count": null,
            "_view_module_version": "1.5.0",
            "box_style": "",
            "layout": "IPY_MODEL_1a2fbdf2e3ca41ddbeffb10d5c914d64",
            "_model_module": "@jupyter-widgets/controls",
            "children": [
              "IPY_MODEL_9f415a328f934e6f8fbe71a814a50766",
              "IPY_MODEL_dd051de756284b29aa01b55221b7cc7d"
            ]
          }
        },
        "1a2fbdf2e3ca41ddbeffb10d5c914d64": {
          "model_module": "@jupyter-widgets/base",
          "model_name": "LayoutModel",
          "state": {
            "_view_name": "LayoutView",
            "grid_template_rows": null,
            "right": null,
            "justify_content": null,
            "_view_module": "@jupyter-widgets/base",
            "overflow": null,
            "_model_module_version": "1.2.0",
            "_view_count": null,
            "flex_flow": null,
            "width": null,
            "min_width": null,
            "border": null,
            "align_items": null,
            "bottom": null,
            "_model_module": "@jupyter-widgets/base",
            "top": null,
            "grid_column": null,
            "overflow_y": null,
            "overflow_x": null,
            "grid_auto_flow": null,
            "grid_area": null,
            "grid_template_columns": null,
            "flex": null,
            "_model_name": "LayoutModel",
            "justify_items": null,
            "grid_row": null,
            "max_height": null,
            "align_content": null,
            "visibility": null,
            "align_self": null,
            "height": null,
            "min_height": null,
            "padding": null,
            "grid_auto_rows": null,
            "grid_gap": null,
            "max_width": null,
            "order": null,
            "_view_module_version": "1.2.0",
            "grid_template_areas": null,
            "object_position": null,
            "object_fit": null,
            "grid_auto_columns": null,
            "margin": null,
            "display": null,
            "left": null
          }
        },
        "9f415a328f934e6f8fbe71a814a50766": {
          "model_module": "@jupyter-widgets/controls",
          "model_name": "FloatProgressModel",
          "state": {
            "_view_name": "ProgressView",
            "style": "IPY_MODEL_0b526ddb7be043969c02b146bd476795",
            "_dom_classes": [],
            "description": "EPOCHS 0002: 100%",
            "_model_name": "FloatProgressModel",
            "bar_style": "success",
            "max": 668,
            "_view_module": "@jupyter-widgets/controls",
            "_model_module_version": "1.5.0",
            "value": 668,
            "_view_count": null,
            "_view_module_version": "1.5.0",
            "orientation": "horizontal",
            "min": 0,
            "description_tooltip": null,
            "_model_module": "@jupyter-widgets/controls",
            "layout": "IPY_MODEL_efe19cebe94b46d4af4cfd868760982d"
          }
        },
        "dd051de756284b29aa01b55221b7cc7d": {
          "model_module": "@jupyter-widgets/controls",
          "model_name": "HTMLModel",
          "state": {
            "_view_name": "HTMLView",
            "style": "IPY_MODEL_c416cac0a80845c7b5bd7c7a849f5dc2",
            "_dom_classes": [],
            "description": "",
            "_model_name": "HTMLModel",
            "placeholder": "​",
            "_view_module": "@jupyter-widgets/controls",
            "_model_module_version": "1.5.0",
            "value": " 668/668 [00:01&lt;00:00, 334.35it/s]",
            "_view_count": null,
            "_view_module_version": "1.5.0",
            "description_tooltip": null,
            "_model_module": "@jupyter-widgets/controls",
            "layout": "IPY_MODEL_3d997a2f6e2f4ed6a1d2d36b6b07cbee"
          }
        },
        "0b526ddb7be043969c02b146bd476795": {
          "model_module": "@jupyter-widgets/controls",
          "model_name": "ProgressStyleModel",
          "state": {
            "_view_name": "StyleView",
            "_model_name": "ProgressStyleModel",
            "description_width": "initial",
            "_view_module": "@jupyter-widgets/base",
            "_model_module_version": "1.5.0",
            "_view_count": null,
            "_view_module_version": "1.2.0",
            "bar_color": null,
            "_model_module": "@jupyter-widgets/controls"
          }
        },
        "efe19cebe94b46d4af4cfd868760982d": {
          "model_module": "@jupyter-widgets/base",
          "model_name": "LayoutModel",
          "state": {
            "_view_name": "LayoutView",
            "grid_template_rows": null,
            "right": null,
            "justify_content": null,
            "_view_module": "@jupyter-widgets/base",
            "overflow": null,
            "_model_module_version": "1.2.0",
            "_view_count": null,
            "flex_flow": null,
            "width": null,
            "min_width": null,
            "border": null,
            "align_items": null,
            "bottom": null,
            "_model_module": "@jupyter-widgets/base",
            "top": null,
            "grid_column": null,
            "overflow_y": null,
            "overflow_x": null,
            "grid_auto_flow": null,
            "grid_area": null,
            "grid_template_columns": null,
            "flex": null,
            "_model_name": "LayoutModel",
            "justify_items": null,
            "grid_row": null,
            "max_height": null,
            "align_content": null,
            "visibility": null,
            "align_self": null,
            "height": null,
            "min_height": null,
            "padding": null,
            "grid_auto_rows": null,
            "grid_gap": null,
            "max_width": null,
            "order": null,
            "_view_module_version": "1.2.0",
            "grid_template_areas": null,
            "object_position": null,
            "object_fit": null,
            "grid_auto_columns": null,
            "margin": null,
            "display": null,
            "left": null
          }
        },
        "c416cac0a80845c7b5bd7c7a849f5dc2": {
          "model_module": "@jupyter-widgets/controls",
          "model_name": "DescriptionStyleModel",
          "state": {
            "_view_name": "StyleView",
            "_model_name": "DescriptionStyleModel",
            "description_width": "",
            "_view_module": "@jupyter-widgets/base",
            "_model_module_version": "1.5.0",
            "_view_count": null,
            "_view_module_version": "1.2.0",
            "_model_module": "@jupyter-widgets/controls"
          }
        },
        "3d997a2f6e2f4ed6a1d2d36b6b07cbee": {
          "model_module": "@jupyter-widgets/base",
          "model_name": "LayoutModel",
          "state": {
            "_view_name": "LayoutView",
            "grid_template_rows": null,
            "right": null,
            "justify_content": null,
            "_view_module": "@jupyter-widgets/base",
            "overflow": null,
            "_model_module_version": "1.2.0",
            "_view_count": null,
            "flex_flow": null,
            "width": null,
            "min_width": null,
            "border": null,
            "align_items": null,
            "bottom": null,
            "_model_module": "@jupyter-widgets/base",
            "top": null,
            "grid_column": null,
            "overflow_y": null,
            "overflow_x": null,
            "grid_auto_flow": null,
            "grid_area": null,
            "grid_template_columns": null,
            "flex": null,
            "_model_name": "LayoutModel",
            "justify_items": null,
            "grid_row": null,
            "max_height": null,
            "align_content": null,
            "visibility": null,
            "align_self": null,
            "height": null,
            "min_height": null,
            "padding": null,
            "grid_auto_rows": null,
            "grid_gap": null,
            "max_width": null,
            "order": null,
            "_view_module_version": "1.2.0",
            "grid_template_areas": null,
            "object_position": null,
            "object_fit": null,
            "grid_auto_columns": null,
            "margin": null,
            "display": null,
            "left": null
          }
        },
        "afdb455ec5d740769425b206c914692e": {
          "model_module": "@jupyter-widgets/controls",
          "model_name": "HBoxModel",
          "state": {
            "_view_name": "HBoxView",
            "_dom_classes": [],
            "_model_name": "HBoxModel",
            "_view_module": "@jupyter-widgets/controls",
            "_model_module_version": "1.5.0",
            "_view_count": null,
            "_view_module_version": "1.5.0",
            "box_style": "",
            "layout": "IPY_MODEL_eee48f75d8474e159abb381ee8c3aabe",
            "_model_module": "@jupyter-widgets/controls",
            "children": [
              "IPY_MODEL_6b76d2070b0a4051af655087651ce941",
              "IPY_MODEL_3a31cdbc97d646ee9021483e428715a2"
            ]
          }
        },
        "eee48f75d8474e159abb381ee8c3aabe": {
          "model_module": "@jupyter-widgets/base",
          "model_name": "LayoutModel",
          "state": {
            "_view_name": "LayoutView",
            "grid_template_rows": null,
            "right": null,
            "justify_content": null,
            "_view_module": "@jupyter-widgets/base",
            "overflow": null,
            "_model_module_version": "1.2.0",
            "_view_count": null,
            "flex_flow": null,
            "width": null,
            "min_width": null,
            "border": null,
            "align_items": null,
            "bottom": null,
            "_model_module": "@jupyter-widgets/base",
            "top": null,
            "grid_column": null,
            "overflow_y": null,
            "overflow_x": null,
            "grid_auto_flow": null,
            "grid_area": null,
            "grid_template_columns": null,
            "flex": null,
            "_model_name": "LayoutModel",
            "justify_items": null,
            "grid_row": null,
            "max_height": null,
            "align_content": null,
            "visibility": null,
            "align_self": null,
            "height": null,
            "min_height": null,
            "padding": null,
            "grid_auto_rows": null,
            "grid_gap": null,
            "max_width": null,
            "order": null,
            "_view_module_version": "1.2.0",
            "grid_template_areas": null,
            "object_position": null,
            "object_fit": null,
            "grid_auto_columns": null,
            "margin": null,
            "display": null,
            "left": null
          }
        },
        "6b76d2070b0a4051af655087651ce941": {
          "model_module": "@jupyter-widgets/controls",
          "model_name": "FloatProgressModel",
          "state": {
            "_view_name": "ProgressView",
            "style": "IPY_MODEL_cc93e6d1ce624c57b29b8ee0cd80a379",
            "_dom_classes": [],
            "description": "EPOCHS 0003: 100%",
            "_model_name": "FloatProgressModel",
            "bar_style": "success",
            "max": 668,
            "_view_module": "@jupyter-widgets/controls",
            "_model_module_version": "1.5.0",
            "value": 668,
            "_view_count": null,
            "_view_module_version": "1.5.0",
            "orientation": "horizontal",
            "min": 0,
            "description_tooltip": null,
            "_model_module": "@jupyter-widgets/controls",
            "layout": "IPY_MODEL_882dd8079826414abc54f80e7038f96b"
          }
        },
        "3a31cdbc97d646ee9021483e428715a2": {
          "model_module": "@jupyter-widgets/controls",
          "model_name": "HTMLModel",
          "state": {
            "_view_name": "HTMLView",
            "style": "IPY_MODEL_2b3b5c40a81348ee8ed7dea19153ae64",
            "_dom_classes": [],
            "description": "",
            "_model_name": "HTMLModel",
            "placeholder": "​",
            "_view_module": "@jupyter-widgets/controls",
            "_model_module_version": "1.5.0",
            "value": " 668/668 [00:02&lt;00:00, 326.91it/s]",
            "_view_count": null,
            "_view_module_version": "1.5.0",
            "description_tooltip": null,
            "_model_module": "@jupyter-widgets/controls",
            "layout": "IPY_MODEL_a6dad20e13144aa48ef53af135d20721"
          }
        },
        "cc93e6d1ce624c57b29b8ee0cd80a379": {
          "model_module": "@jupyter-widgets/controls",
          "model_name": "ProgressStyleModel",
          "state": {
            "_view_name": "StyleView",
            "_model_name": "ProgressStyleModel",
            "description_width": "initial",
            "_view_module": "@jupyter-widgets/base",
            "_model_module_version": "1.5.0",
            "_view_count": null,
            "_view_module_version": "1.2.0",
            "bar_color": null,
            "_model_module": "@jupyter-widgets/controls"
          }
        },
        "882dd8079826414abc54f80e7038f96b": {
          "model_module": "@jupyter-widgets/base",
          "model_name": "LayoutModel",
          "state": {
            "_view_name": "LayoutView",
            "grid_template_rows": null,
            "right": null,
            "justify_content": null,
            "_view_module": "@jupyter-widgets/base",
            "overflow": null,
            "_model_module_version": "1.2.0",
            "_view_count": null,
            "flex_flow": null,
            "width": null,
            "min_width": null,
            "border": null,
            "align_items": null,
            "bottom": null,
            "_model_module": "@jupyter-widgets/base",
            "top": null,
            "grid_column": null,
            "overflow_y": null,
            "overflow_x": null,
            "grid_auto_flow": null,
            "grid_area": null,
            "grid_template_columns": null,
            "flex": null,
            "_model_name": "LayoutModel",
            "justify_items": null,
            "grid_row": null,
            "max_height": null,
            "align_content": null,
            "visibility": null,
            "align_self": null,
            "height": null,
            "min_height": null,
            "padding": null,
            "grid_auto_rows": null,
            "grid_gap": null,
            "max_width": null,
            "order": null,
            "_view_module_version": "1.2.0",
            "grid_template_areas": null,
            "object_position": null,
            "object_fit": null,
            "grid_auto_columns": null,
            "margin": null,
            "display": null,
            "left": null
          }
        },
        "2b3b5c40a81348ee8ed7dea19153ae64": {
          "model_module": "@jupyter-widgets/controls",
          "model_name": "DescriptionStyleModel",
          "state": {
            "_view_name": "StyleView",
            "_model_name": "DescriptionStyleModel",
            "description_width": "",
            "_view_module": "@jupyter-widgets/base",
            "_model_module_version": "1.5.0",
            "_view_count": null,
            "_view_module_version": "1.2.0",
            "_model_module": "@jupyter-widgets/controls"
          }
        },
        "a6dad20e13144aa48ef53af135d20721": {
          "model_module": "@jupyter-widgets/base",
          "model_name": "LayoutModel",
          "state": {
            "_view_name": "LayoutView",
            "grid_template_rows": null,
            "right": null,
            "justify_content": null,
            "_view_module": "@jupyter-widgets/base",
            "overflow": null,
            "_model_module_version": "1.2.0",
            "_view_count": null,
            "flex_flow": null,
            "width": null,
            "min_width": null,
            "border": null,
            "align_items": null,
            "bottom": null,
            "_model_module": "@jupyter-widgets/base",
            "top": null,
            "grid_column": null,
            "overflow_y": null,
            "overflow_x": null,
            "grid_auto_flow": null,
            "grid_area": null,
            "grid_template_columns": null,
            "flex": null,
            "_model_name": "LayoutModel",
            "justify_items": null,
            "grid_row": null,
            "max_height": null,
            "align_content": null,
            "visibility": null,
            "align_self": null,
            "height": null,
            "min_height": null,
            "padding": null,
            "grid_auto_rows": null,
            "grid_gap": null,
            "max_width": null,
            "order": null,
            "_view_module_version": "1.2.0",
            "grid_template_areas": null,
            "object_position": null,
            "object_fit": null,
            "grid_auto_columns": null,
            "margin": null,
            "display": null,
            "left": null
          }
        },
        "bbe6bbb68de445e79723a486c5d65fdf": {
          "model_module": "@jupyter-widgets/controls",
          "model_name": "HBoxModel",
          "state": {
            "_view_name": "HBoxView",
            "_dom_classes": [],
            "_model_name": "HBoxModel",
            "_view_module": "@jupyter-widgets/controls",
            "_model_module_version": "1.5.0",
            "_view_count": null,
            "_view_module_version": "1.5.0",
            "box_style": "",
            "layout": "IPY_MODEL_ebef104862af4f92a32a48062fbb6361",
            "_model_module": "@jupyter-widgets/controls",
            "children": [
              "IPY_MODEL_779d99db45834423996d5f2c1293fde8",
              "IPY_MODEL_24c8b815eccd4930852c68715359b035"
            ]
          }
        },
        "ebef104862af4f92a32a48062fbb6361": {
          "model_module": "@jupyter-widgets/base",
          "model_name": "LayoutModel",
          "state": {
            "_view_name": "LayoutView",
            "grid_template_rows": null,
            "right": null,
            "justify_content": null,
            "_view_module": "@jupyter-widgets/base",
            "overflow": null,
            "_model_module_version": "1.2.0",
            "_view_count": null,
            "flex_flow": null,
            "width": null,
            "min_width": null,
            "border": null,
            "align_items": null,
            "bottom": null,
            "_model_module": "@jupyter-widgets/base",
            "top": null,
            "grid_column": null,
            "overflow_y": null,
            "overflow_x": null,
            "grid_auto_flow": null,
            "grid_area": null,
            "grid_template_columns": null,
            "flex": null,
            "_model_name": "LayoutModel",
            "justify_items": null,
            "grid_row": null,
            "max_height": null,
            "align_content": null,
            "visibility": null,
            "align_self": null,
            "height": null,
            "min_height": null,
            "padding": null,
            "grid_auto_rows": null,
            "grid_gap": null,
            "max_width": null,
            "order": null,
            "_view_module_version": "1.2.0",
            "grid_template_areas": null,
            "object_position": null,
            "object_fit": null,
            "grid_auto_columns": null,
            "margin": null,
            "display": null,
            "left": null
          }
        },
        "779d99db45834423996d5f2c1293fde8": {
          "model_module": "@jupyter-widgets/controls",
          "model_name": "FloatProgressModel",
          "state": {
            "_view_name": "ProgressView",
            "style": "IPY_MODEL_39ed1cb68de34ed391a207f0149fe86c",
            "_dom_classes": [],
            "description": "EPOCHS 0004: 100%",
            "_model_name": "FloatProgressModel",
            "bar_style": "success",
            "max": 668,
            "_view_module": "@jupyter-widgets/controls",
            "_model_module_version": "1.5.0",
            "value": 668,
            "_view_count": null,
            "_view_module_version": "1.5.0",
            "orientation": "horizontal",
            "min": 0,
            "description_tooltip": null,
            "_model_module": "@jupyter-widgets/controls",
            "layout": "IPY_MODEL_af855fd7381c4aa6aaf0720cde207c1c"
          }
        },
        "24c8b815eccd4930852c68715359b035": {
          "model_module": "@jupyter-widgets/controls",
          "model_name": "HTMLModel",
          "state": {
            "_view_name": "HTMLView",
            "style": "IPY_MODEL_29673351d3664537b2414c78e5ec89d3",
            "_dom_classes": [],
            "description": "",
            "_model_name": "HTMLModel",
            "placeholder": "​",
            "_view_module": "@jupyter-widgets/controls",
            "_model_module_version": "1.5.0",
            "value": " 668/668 [00:25&lt;00:00, 25.86it/s]",
            "_view_count": null,
            "_view_module_version": "1.5.0",
            "description_tooltip": null,
            "_model_module": "@jupyter-widgets/controls",
            "layout": "IPY_MODEL_2c794800009047548f39ee8ebf6f315a"
          }
        },
        "39ed1cb68de34ed391a207f0149fe86c": {
          "model_module": "@jupyter-widgets/controls",
          "model_name": "ProgressStyleModel",
          "state": {
            "_view_name": "StyleView",
            "_model_name": "ProgressStyleModel",
            "description_width": "initial",
            "_view_module": "@jupyter-widgets/base",
            "_model_module_version": "1.5.0",
            "_view_count": null,
            "_view_module_version": "1.2.0",
            "bar_color": null,
            "_model_module": "@jupyter-widgets/controls"
          }
        },
        "af855fd7381c4aa6aaf0720cde207c1c": {
          "model_module": "@jupyter-widgets/base",
          "model_name": "LayoutModel",
          "state": {
            "_view_name": "LayoutView",
            "grid_template_rows": null,
            "right": null,
            "justify_content": null,
            "_view_module": "@jupyter-widgets/base",
            "overflow": null,
            "_model_module_version": "1.2.0",
            "_view_count": null,
            "flex_flow": null,
            "width": null,
            "min_width": null,
            "border": null,
            "align_items": null,
            "bottom": null,
            "_model_module": "@jupyter-widgets/base",
            "top": null,
            "grid_column": null,
            "overflow_y": null,
            "overflow_x": null,
            "grid_auto_flow": null,
            "grid_area": null,
            "grid_template_columns": null,
            "flex": null,
            "_model_name": "LayoutModel",
            "justify_items": null,
            "grid_row": null,
            "max_height": null,
            "align_content": null,
            "visibility": null,
            "align_self": null,
            "height": null,
            "min_height": null,
            "padding": null,
            "grid_auto_rows": null,
            "grid_gap": null,
            "max_width": null,
            "order": null,
            "_view_module_version": "1.2.0",
            "grid_template_areas": null,
            "object_position": null,
            "object_fit": null,
            "grid_auto_columns": null,
            "margin": null,
            "display": null,
            "left": null
          }
        },
        "29673351d3664537b2414c78e5ec89d3": {
          "model_module": "@jupyter-widgets/controls",
          "model_name": "DescriptionStyleModel",
          "state": {
            "_view_name": "StyleView",
            "_model_name": "DescriptionStyleModel",
            "description_width": "",
            "_view_module": "@jupyter-widgets/base",
            "_model_module_version": "1.5.0",
            "_view_count": null,
            "_view_module_version": "1.2.0",
            "_model_module": "@jupyter-widgets/controls"
          }
        },
        "2c794800009047548f39ee8ebf6f315a": {
          "model_module": "@jupyter-widgets/base",
          "model_name": "LayoutModel",
          "state": {
            "_view_name": "LayoutView",
            "grid_template_rows": null,
            "right": null,
            "justify_content": null,
            "_view_module": "@jupyter-widgets/base",
            "overflow": null,
            "_model_module_version": "1.2.0",
            "_view_count": null,
            "flex_flow": null,
            "width": null,
            "min_width": null,
            "border": null,
            "align_items": null,
            "bottom": null,
            "_model_module": "@jupyter-widgets/base",
            "top": null,
            "grid_column": null,
            "overflow_y": null,
            "overflow_x": null,
            "grid_auto_flow": null,
            "grid_area": null,
            "grid_template_columns": null,
            "flex": null,
            "_model_name": "LayoutModel",
            "justify_items": null,
            "grid_row": null,
            "max_height": null,
            "align_content": null,
            "visibility": null,
            "align_self": null,
            "height": null,
            "min_height": null,
            "padding": null,
            "grid_auto_rows": null,
            "grid_gap": null,
            "max_width": null,
            "order": null,
            "_view_module_version": "1.2.0",
            "grid_template_areas": null,
            "object_position": null,
            "object_fit": null,
            "grid_auto_columns": null,
            "margin": null,
            "display": null,
            "left": null
          }
        },
        "9bdb83c216a34a70ad76b982a643b117": {
          "model_module": "@jupyter-widgets/controls",
          "model_name": "HBoxModel",
          "state": {
            "_view_name": "HBoxView",
            "_dom_classes": [],
            "_model_name": "HBoxModel",
            "_view_module": "@jupyter-widgets/controls",
            "_model_module_version": "1.5.0",
            "_view_count": null,
            "_view_module_version": "1.5.0",
            "box_style": "",
            "layout": "IPY_MODEL_9ca0ba73f58243eeaf3eb90006f5bf6b",
            "_model_module": "@jupyter-widgets/controls",
            "children": [
              "IPY_MODEL_eff28d7920ca419bb2fb3cc16cdb4ed6",
              "IPY_MODEL_ffbe45d484574b06bde2be5676f2fd2e"
            ]
          }
        },
        "9ca0ba73f58243eeaf3eb90006f5bf6b": {
          "model_module": "@jupyter-widgets/base",
          "model_name": "LayoutModel",
          "state": {
            "_view_name": "LayoutView",
            "grid_template_rows": null,
            "right": null,
            "justify_content": null,
            "_view_module": "@jupyter-widgets/base",
            "overflow": null,
            "_model_module_version": "1.2.0",
            "_view_count": null,
            "flex_flow": null,
            "width": null,
            "min_width": null,
            "border": null,
            "align_items": null,
            "bottom": null,
            "_model_module": "@jupyter-widgets/base",
            "top": null,
            "grid_column": null,
            "overflow_y": null,
            "overflow_x": null,
            "grid_auto_flow": null,
            "grid_area": null,
            "grid_template_columns": null,
            "flex": null,
            "_model_name": "LayoutModel",
            "justify_items": null,
            "grid_row": null,
            "max_height": null,
            "align_content": null,
            "visibility": null,
            "align_self": null,
            "height": null,
            "min_height": null,
            "padding": null,
            "grid_auto_rows": null,
            "grid_gap": null,
            "max_width": null,
            "order": null,
            "_view_module_version": "1.2.0",
            "grid_template_areas": null,
            "object_position": null,
            "object_fit": null,
            "grid_auto_columns": null,
            "margin": null,
            "display": null,
            "left": null
          }
        },
        "eff28d7920ca419bb2fb3cc16cdb4ed6": {
          "model_module": "@jupyter-widgets/controls",
          "model_name": "FloatProgressModel",
          "state": {
            "_view_name": "ProgressView",
            "style": "IPY_MODEL_d0bfc61a2ace45ae965bd8a762100ba9",
            "_dom_classes": [],
            "description": "EPOCHS 0005: 100%",
            "_model_name": "FloatProgressModel",
            "bar_style": "success",
            "max": 668,
            "_view_module": "@jupyter-widgets/controls",
            "_model_module_version": "1.5.0",
            "value": 668,
            "_view_count": null,
            "_view_module_version": "1.5.0",
            "orientation": "horizontal",
            "min": 0,
            "description_tooltip": null,
            "_model_module": "@jupyter-widgets/controls",
            "layout": "IPY_MODEL_22a9e8338425497e95e684f3b6cf3b49"
          }
        },
        "ffbe45d484574b06bde2be5676f2fd2e": {
          "model_module": "@jupyter-widgets/controls",
          "model_name": "HTMLModel",
          "state": {
            "_view_name": "HTMLView",
            "style": "IPY_MODEL_4ada6e63ad67440a9eb2b1ee4859e325",
            "_dom_classes": [],
            "description": "",
            "_model_name": "HTMLModel",
            "placeholder": "​",
            "_view_module": "@jupyter-widgets/controls",
            "_model_module_version": "1.5.0",
            "value": " 668/668 [00:02&lt;00:00, 251.22it/s]",
            "_view_count": null,
            "_view_module_version": "1.5.0",
            "description_tooltip": null,
            "_model_module": "@jupyter-widgets/controls",
            "layout": "IPY_MODEL_e912fea099fb4ba9a0aeba8b68b3ceb2"
          }
        },
        "d0bfc61a2ace45ae965bd8a762100ba9": {
          "model_module": "@jupyter-widgets/controls",
          "model_name": "ProgressStyleModel",
          "state": {
            "_view_name": "StyleView",
            "_model_name": "ProgressStyleModel",
            "description_width": "initial",
            "_view_module": "@jupyter-widgets/base",
            "_model_module_version": "1.5.0",
            "_view_count": null,
            "_view_module_version": "1.2.0",
            "bar_color": null,
            "_model_module": "@jupyter-widgets/controls"
          }
        },
        "22a9e8338425497e95e684f3b6cf3b49": {
          "model_module": "@jupyter-widgets/base",
          "model_name": "LayoutModel",
          "state": {
            "_view_name": "LayoutView",
            "grid_template_rows": null,
            "right": null,
            "justify_content": null,
            "_view_module": "@jupyter-widgets/base",
            "overflow": null,
            "_model_module_version": "1.2.0",
            "_view_count": null,
            "flex_flow": null,
            "width": null,
            "min_width": null,
            "border": null,
            "align_items": null,
            "bottom": null,
            "_model_module": "@jupyter-widgets/base",
            "top": null,
            "grid_column": null,
            "overflow_y": null,
            "overflow_x": null,
            "grid_auto_flow": null,
            "grid_area": null,
            "grid_template_columns": null,
            "flex": null,
            "_model_name": "LayoutModel",
            "justify_items": null,
            "grid_row": null,
            "max_height": null,
            "align_content": null,
            "visibility": null,
            "align_self": null,
            "height": null,
            "min_height": null,
            "padding": null,
            "grid_auto_rows": null,
            "grid_gap": null,
            "max_width": null,
            "order": null,
            "_view_module_version": "1.2.0",
            "grid_template_areas": null,
            "object_position": null,
            "object_fit": null,
            "grid_auto_columns": null,
            "margin": null,
            "display": null,
            "left": null
          }
        },
        "4ada6e63ad67440a9eb2b1ee4859e325": {
          "model_module": "@jupyter-widgets/controls",
          "model_name": "DescriptionStyleModel",
          "state": {
            "_view_name": "StyleView",
            "_model_name": "DescriptionStyleModel",
            "description_width": "",
            "_view_module": "@jupyter-widgets/base",
            "_model_module_version": "1.5.0",
            "_view_count": null,
            "_view_module_version": "1.2.0",
            "_model_module": "@jupyter-widgets/controls"
          }
        },
        "e912fea099fb4ba9a0aeba8b68b3ceb2": {
          "model_module": "@jupyter-widgets/base",
          "model_name": "LayoutModel",
          "state": {
            "_view_name": "LayoutView",
            "grid_template_rows": null,
            "right": null,
            "justify_content": null,
            "_view_module": "@jupyter-widgets/base",
            "overflow": null,
            "_model_module_version": "1.2.0",
            "_view_count": null,
            "flex_flow": null,
            "width": null,
            "min_width": null,
            "border": null,
            "align_items": null,
            "bottom": null,
            "_model_module": "@jupyter-widgets/base",
            "top": null,
            "grid_column": null,
            "overflow_y": null,
            "overflow_x": null,
            "grid_auto_flow": null,
            "grid_area": null,
            "grid_template_columns": null,
            "flex": null,
            "_model_name": "LayoutModel",
            "justify_items": null,
            "grid_row": null,
            "max_height": null,
            "align_content": null,
            "visibility": null,
            "align_self": null,
            "height": null,
            "min_height": null,
            "padding": null,
            "grid_auto_rows": null,
            "grid_gap": null,
            "max_width": null,
            "order": null,
            "_view_module_version": "1.2.0",
            "grid_template_areas": null,
            "object_position": null,
            "object_fit": null,
            "grid_auto_columns": null,
            "margin": null,
            "display": null,
            "left": null
          }
        },
        "4ad4b17f830345958b850c998bb44834": {
          "model_module": "@jupyter-widgets/controls",
          "model_name": "HBoxModel",
          "state": {
            "_view_name": "HBoxView",
            "_dom_classes": [],
            "_model_name": "HBoxModel",
            "_view_module": "@jupyter-widgets/controls",
            "_model_module_version": "1.5.0",
            "_view_count": null,
            "_view_module_version": "1.5.0",
            "box_style": "",
            "layout": "IPY_MODEL_d0d31c5b85fb404d99895f81b1cfd7f1",
            "_model_module": "@jupyter-widgets/controls",
            "children": [
              "IPY_MODEL_40132e71e1fd47d883e7f7383ab7340f",
              "IPY_MODEL_888bdd6dfae54378bde657c0361613cb"
            ]
          }
        },
        "d0d31c5b85fb404d99895f81b1cfd7f1": {
          "model_module": "@jupyter-widgets/base",
          "model_name": "LayoutModel",
          "state": {
            "_view_name": "LayoutView",
            "grid_template_rows": null,
            "right": null,
            "justify_content": null,
            "_view_module": "@jupyter-widgets/base",
            "overflow": null,
            "_model_module_version": "1.2.0",
            "_view_count": null,
            "flex_flow": null,
            "width": null,
            "min_width": null,
            "border": null,
            "align_items": null,
            "bottom": null,
            "_model_module": "@jupyter-widgets/base",
            "top": null,
            "grid_column": null,
            "overflow_y": null,
            "overflow_x": null,
            "grid_auto_flow": null,
            "grid_area": null,
            "grid_template_columns": null,
            "flex": null,
            "_model_name": "LayoutModel",
            "justify_items": null,
            "grid_row": null,
            "max_height": null,
            "align_content": null,
            "visibility": null,
            "align_self": null,
            "height": null,
            "min_height": null,
            "padding": null,
            "grid_auto_rows": null,
            "grid_gap": null,
            "max_width": null,
            "order": null,
            "_view_module_version": "1.2.0",
            "grid_template_areas": null,
            "object_position": null,
            "object_fit": null,
            "grid_auto_columns": null,
            "margin": null,
            "display": null,
            "left": null
          }
        },
        "40132e71e1fd47d883e7f7383ab7340f": {
          "model_module": "@jupyter-widgets/controls",
          "model_name": "FloatProgressModel",
          "state": {
            "_view_name": "ProgressView",
            "style": "IPY_MODEL_5c51c5c65c6f448aaaf5ebeff453aca1",
            "_dom_classes": [],
            "description": "EPOCHS 0006: 100%",
            "_model_name": "FloatProgressModel",
            "bar_style": "success",
            "max": 668,
            "_view_module": "@jupyter-widgets/controls",
            "_model_module_version": "1.5.0",
            "value": 668,
            "_view_count": null,
            "_view_module_version": "1.5.0",
            "orientation": "horizontal",
            "min": 0,
            "description_tooltip": null,
            "_model_module": "@jupyter-widgets/controls",
            "layout": "IPY_MODEL_e8ba5acc21634505bf809d841968345b"
          }
        },
        "888bdd6dfae54378bde657c0361613cb": {
          "model_module": "@jupyter-widgets/controls",
          "model_name": "HTMLModel",
          "state": {
            "_view_name": "HTMLView",
            "style": "IPY_MODEL_63b1d2abc8d045828a22ed0ef2eafbcb",
            "_dom_classes": [],
            "description": "",
            "_model_name": "HTMLModel",
            "placeholder": "​",
            "_view_module": "@jupyter-widgets/controls",
            "_model_module_version": "1.5.0",
            "value": " 668/668 [00:21&lt;00:00, 30.97it/s]",
            "_view_count": null,
            "_view_module_version": "1.5.0",
            "description_tooltip": null,
            "_model_module": "@jupyter-widgets/controls",
            "layout": "IPY_MODEL_faff02c4bf0445f3a648d0c716f26578"
          }
        },
        "5c51c5c65c6f448aaaf5ebeff453aca1": {
          "model_module": "@jupyter-widgets/controls",
          "model_name": "ProgressStyleModel",
          "state": {
            "_view_name": "StyleView",
            "_model_name": "ProgressStyleModel",
            "description_width": "initial",
            "_view_module": "@jupyter-widgets/base",
            "_model_module_version": "1.5.0",
            "_view_count": null,
            "_view_module_version": "1.2.0",
            "bar_color": null,
            "_model_module": "@jupyter-widgets/controls"
          }
        },
        "e8ba5acc21634505bf809d841968345b": {
          "model_module": "@jupyter-widgets/base",
          "model_name": "LayoutModel",
          "state": {
            "_view_name": "LayoutView",
            "grid_template_rows": null,
            "right": null,
            "justify_content": null,
            "_view_module": "@jupyter-widgets/base",
            "overflow": null,
            "_model_module_version": "1.2.0",
            "_view_count": null,
            "flex_flow": null,
            "width": null,
            "min_width": null,
            "border": null,
            "align_items": null,
            "bottom": null,
            "_model_module": "@jupyter-widgets/base",
            "top": null,
            "grid_column": null,
            "overflow_y": null,
            "overflow_x": null,
            "grid_auto_flow": null,
            "grid_area": null,
            "grid_template_columns": null,
            "flex": null,
            "_model_name": "LayoutModel",
            "justify_items": null,
            "grid_row": null,
            "max_height": null,
            "align_content": null,
            "visibility": null,
            "align_self": null,
            "height": null,
            "min_height": null,
            "padding": null,
            "grid_auto_rows": null,
            "grid_gap": null,
            "max_width": null,
            "order": null,
            "_view_module_version": "1.2.0",
            "grid_template_areas": null,
            "object_position": null,
            "object_fit": null,
            "grid_auto_columns": null,
            "margin": null,
            "display": null,
            "left": null
          }
        },
        "63b1d2abc8d045828a22ed0ef2eafbcb": {
          "model_module": "@jupyter-widgets/controls",
          "model_name": "DescriptionStyleModel",
          "state": {
            "_view_name": "StyleView",
            "_model_name": "DescriptionStyleModel",
            "description_width": "",
            "_view_module": "@jupyter-widgets/base",
            "_model_module_version": "1.5.0",
            "_view_count": null,
            "_view_module_version": "1.2.0",
            "_model_module": "@jupyter-widgets/controls"
          }
        },
        "faff02c4bf0445f3a648d0c716f26578": {
          "model_module": "@jupyter-widgets/base",
          "model_name": "LayoutModel",
          "state": {
            "_view_name": "LayoutView",
            "grid_template_rows": null,
            "right": null,
            "justify_content": null,
            "_view_module": "@jupyter-widgets/base",
            "overflow": null,
            "_model_module_version": "1.2.0",
            "_view_count": null,
            "flex_flow": null,
            "width": null,
            "min_width": null,
            "border": null,
            "align_items": null,
            "bottom": null,
            "_model_module": "@jupyter-widgets/base",
            "top": null,
            "grid_column": null,
            "overflow_y": null,
            "overflow_x": null,
            "grid_auto_flow": null,
            "grid_area": null,
            "grid_template_columns": null,
            "flex": null,
            "_model_name": "LayoutModel",
            "justify_items": null,
            "grid_row": null,
            "max_height": null,
            "align_content": null,
            "visibility": null,
            "align_self": null,
            "height": null,
            "min_height": null,
            "padding": null,
            "grid_auto_rows": null,
            "grid_gap": null,
            "max_width": null,
            "order": null,
            "_view_module_version": "1.2.0",
            "grid_template_areas": null,
            "object_position": null,
            "object_fit": null,
            "grid_auto_columns": null,
            "margin": null,
            "display": null,
            "left": null
          }
        },
        "e436fd7ca43643249fe9aa1f6a849425": {
          "model_module": "@jupyter-widgets/controls",
          "model_name": "HBoxModel",
          "state": {
            "_view_name": "HBoxView",
            "_dom_classes": [],
            "_model_name": "HBoxModel",
            "_view_module": "@jupyter-widgets/controls",
            "_model_module_version": "1.5.0",
            "_view_count": null,
            "_view_module_version": "1.5.0",
            "box_style": "",
            "layout": "IPY_MODEL_bdaa4b0502b74d2bad15dca38a34abb0",
            "_model_module": "@jupyter-widgets/controls",
            "children": [
              "IPY_MODEL_9ae536be9dcb42508ad34b6748537d5c",
              "IPY_MODEL_5f3ac99841d5490db492225bb8f78758"
            ]
          }
        },
        "bdaa4b0502b74d2bad15dca38a34abb0": {
          "model_module": "@jupyter-widgets/base",
          "model_name": "LayoutModel",
          "state": {
            "_view_name": "LayoutView",
            "grid_template_rows": null,
            "right": null,
            "justify_content": null,
            "_view_module": "@jupyter-widgets/base",
            "overflow": null,
            "_model_module_version": "1.2.0",
            "_view_count": null,
            "flex_flow": null,
            "width": null,
            "min_width": null,
            "border": null,
            "align_items": null,
            "bottom": null,
            "_model_module": "@jupyter-widgets/base",
            "top": null,
            "grid_column": null,
            "overflow_y": null,
            "overflow_x": null,
            "grid_auto_flow": null,
            "grid_area": null,
            "grid_template_columns": null,
            "flex": null,
            "_model_name": "LayoutModel",
            "justify_items": null,
            "grid_row": null,
            "max_height": null,
            "align_content": null,
            "visibility": null,
            "align_self": null,
            "height": null,
            "min_height": null,
            "padding": null,
            "grid_auto_rows": null,
            "grid_gap": null,
            "max_width": null,
            "order": null,
            "_view_module_version": "1.2.0",
            "grid_template_areas": null,
            "object_position": null,
            "object_fit": null,
            "grid_auto_columns": null,
            "margin": null,
            "display": null,
            "left": null
          }
        },
        "9ae536be9dcb42508ad34b6748537d5c": {
          "model_module": "@jupyter-widgets/controls",
          "model_name": "FloatProgressModel",
          "state": {
            "_view_name": "ProgressView",
            "style": "IPY_MODEL_7b2259d4ef8d48fd8020d08a0cd45cb0",
            "_dom_classes": [],
            "description": "EPOCHS 0007: 100%",
            "_model_name": "FloatProgressModel",
            "bar_style": "success",
            "max": 668,
            "_view_module": "@jupyter-widgets/controls",
            "_model_module_version": "1.5.0",
            "value": 668,
            "_view_count": null,
            "_view_module_version": "1.5.0",
            "orientation": "horizontal",
            "min": 0,
            "description_tooltip": null,
            "_model_module": "@jupyter-widgets/controls",
            "layout": "IPY_MODEL_f49d5a489d2d45849e3874f1c0b8ed8a"
          }
        },
        "5f3ac99841d5490db492225bb8f78758": {
          "model_module": "@jupyter-widgets/controls",
          "model_name": "HTMLModel",
          "state": {
            "_view_name": "HTMLView",
            "style": "IPY_MODEL_546e2008d97e4daa82ad2b5d541fd6b9",
            "_dom_classes": [],
            "description": "",
            "_model_name": "HTMLModel",
            "placeholder": "​",
            "_view_module": "@jupyter-widgets/controls",
            "_model_module_version": "1.5.0",
            "value": " 668/668 [00:04&lt;00:00, 154.27it/s]",
            "_view_count": null,
            "_view_module_version": "1.5.0",
            "description_tooltip": null,
            "_model_module": "@jupyter-widgets/controls",
            "layout": "IPY_MODEL_75aa12155e094861acb82f559c8e3ece"
          }
        },
        "7b2259d4ef8d48fd8020d08a0cd45cb0": {
          "model_module": "@jupyter-widgets/controls",
          "model_name": "ProgressStyleModel",
          "state": {
            "_view_name": "StyleView",
            "_model_name": "ProgressStyleModel",
            "description_width": "initial",
            "_view_module": "@jupyter-widgets/base",
            "_model_module_version": "1.5.0",
            "_view_count": null,
            "_view_module_version": "1.2.0",
            "bar_color": null,
            "_model_module": "@jupyter-widgets/controls"
          }
        },
        "f49d5a489d2d45849e3874f1c0b8ed8a": {
          "model_module": "@jupyter-widgets/base",
          "model_name": "LayoutModel",
          "state": {
            "_view_name": "LayoutView",
            "grid_template_rows": null,
            "right": null,
            "justify_content": null,
            "_view_module": "@jupyter-widgets/base",
            "overflow": null,
            "_model_module_version": "1.2.0",
            "_view_count": null,
            "flex_flow": null,
            "width": null,
            "min_width": null,
            "border": null,
            "align_items": null,
            "bottom": null,
            "_model_module": "@jupyter-widgets/base",
            "top": null,
            "grid_column": null,
            "overflow_y": null,
            "overflow_x": null,
            "grid_auto_flow": null,
            "grid_area": null,
            "grid_template_columns": null,
            "flex": null,
            "_model_name": "LayoutModel",
            "justify_items": null,
            "grid_row": null,
            "max_height": null,
            "align_content": null,
            "visibility": null,
            "align_self": null,
            "height": null,
            "min_height": null,
            "padding": null,
            "grid_auto_rows": null,
            "grid_gap": null,
            "max_width": null,
            "order": null,
            "_view_module_version": "1.2.0",
            "grid_template_areas": null,
            "object_position": null,
            "object_fit": null,
            "grid_auto_columns": null,
            "margin": null,
            "display": null,
            "left": null
          }
        },
        "546e2008d97e4daa82ad2b5d541fd6b9": {
          "model_module": "@jupyter-widgets/controls",
          "model_name": "DescriptionStyleModel",
          "state": {
            "_view_name": "StyleView",
            "_model_name": "DescriptionStyleModel",
            "description_width": "",
            "_view_module": "@jupyter-widgets/base",
            "_model_module_version": "1.5.0",
            "_view_count": null,
            "_view_module_version": "1.2.0",
            "_model_module": "@jupyter-widgets/controls"
          }
        },
        "75aa12155e094861acb82f559c8e3ece": {
          "model_module": "@jupyter-widgets/base",
          "model_name": "LayoutModel",
          "state": {
            "_view_name": "LayoutView",
            "grid_template_rows": null,
            "right": null,
            "justify_content": null,
            "_view_module": "@jupyter-widgets/base",
            "overflow": null,
            "_model_module_version": "1.2.0",
            "_view_count": null,
            "flex_flow": null,
            "width": null,
            "min_width": null,
            "border": null,
            "align_items": null,
            "bottom": null,
            "_model_module": "@jupyter-widgets/base",
            "top": null,
            "grid_column": null,
            "overflow_y": null,
            "overflow_x": null,
            "grid_auto_flow": null,
            "grid_area": null,
            "grid_template_columns": null,
            "flex": null,
            "_model_name": "LayoutModel",
            "justify_items": null,
            "grid_row": null,
            "max_height": null,
            "align_content": null,
            "visibility": null,
            "align_self": null,
            "height": null,
            "min_height": null,
            "padding": null,
            "grid_auto_rows": null,
            "grid_gap": null,
            "max_width": null,
            "order": null,
            "_view_module_version": "1.2.0",
            "grid_template_areas": null,
            "object_position": null,
            "object_fit": null,
            "grid_auto_columns": null,
            "margin": null,
            "display": null,
            "left": null
          }
        },
        "ac9a38a998c840a3abdecff41ebc73e2": {
          "model_module": "@jupyter-widgets/controls",
          "model_name": "HBoxModel",
          "state": {
            "_view_name": "HBoxView",
            "_dom_classes": [],
            "_model_name": "HBoxModel",
            "_view_module": "@jupyter-widgets/controls",
            "_model_module_version": "1.5.0",
            "_view_count": null,
            "_view_module_version": "1.5.0",
            "box_style": "",
            "layout": "IPY_MODEL_75301aa9c9374b189b0f88abb256749a",
            "_model_module": "@jupyter-widgets/controls",
            "children": [
              "IPY_MODEL_92494ae49caf456995651bb2e1ec4d08",
              "IPY_MODEL_291ce69a7edc456bad6490567b1e5803"
            ]
          }
        },
        "75301aa9c9374b189b0f88abb256749a": {
          "model_module": "@jupyter-widgets/base",
          "model_name": "LayoutModel",
          "state": {
            "_view_name": "LayoutView",
            "grid_template_rows": null,
            "right": null,
            "justify_content": null,
            "_view_module": "@jupyter-widgets/base",
            "overflow": null,
            "_model_module_version": "1.2.0",
            "_view_count": null,
            "flex_flow": null,
            "width": null,
            "min_width": null,
            "border": null,
            "align_items": null,
            "bottom": null,
            "_model_module": "@jupyter-widgets/base",
            "top": null,
            "grid_column": null,
            "overflow_y": null,
            "overflow_x": null,
            "grid_auto_flow": null,
            "grid_area": null,
            "grid_template_columns": null,
            "flex": null,
            "_model_name": "LayoutModel",
            "justify_items": null,
            "grid_row": null,
            "max_height": null,
            "align_content": null,
            "visibility": null,
            "align_self": null,
            "height": null,
            "min_height": null,
            "padding": null,
            "grid_auto_rows": null,
            "grid_gap": null,
            "max_width": null,
            "order": null,
            "_view_module_version": "1.2.0",
            "grid_template_areas": null,
            "object_position": null,
            "object_fit": null,
            "grid_auto_columns": null,
            "margin": null,
            "display": null,
            "left": null
          }
        },
        "92494ae49caf456995651bb2e1ec4d08": {
          "model_module": "@jupyter-widgets/controls",
          "model_name": "FloatProgressModel",
          "state": {
            "_view_name": "ProgressView",
            "style": "IPY_MODEL_43cd3632c548499a98c32ecbd9d99a1b",
            "_dom_classes": [],
            "description": "EPOCHS 0008: 100%",
            "_model_name": "FloatProgressModel",
            "bar_style": "success",
            "max": 668,
            "_view_module": "@jupyter-widgets/controls",
            "_model_module_version": "1.5.0",
            "value": 668,
            "_view_count": null,
            "_view_module_version": "1.5.0",
            "orientation": "horizontal",
            "min": 0,
            "description_tooltip": null,
            "_model_module": "@jupyter-widgets/controls",
            "layout": "IPY_MODEL_53530c17a85c463ab7558ab2f64aa95c"
          }
        },
        "291ce69a7edc456bad6490567b1e5803": {
          "model_module": "@jupyter-widgets/controls",
          "model_name": "HTMLModel",
          "state": {
            "_view_name": "HTMLView",
            "style": "IPY_MODEL_94115390f50347638a19afec05bec4a3",
            "_dom_classes": [],
            "description": "",
            "_model_name": "HTMLModel",
            "placeholder": "​",
            "_view_module": "@jupyter-widgets/controls",
            "_model_module_version": "1.5.0",
            "value": " 668/668 [00:02&lt;00:00, 309.66it/s]",
            "_view_count": null,
            "_view_module_version": "1.5.0",
            "description_tooltip": null,
            "_model_module": "@jupyter-widgets/controls",
            "layout": "IPY_MODEL_f01e8a9b6eaf45e9900b59acdd9a365a"
          }
        },
        "43cd3632c548499a98c32ecbd9d99a1b": {
          "model_module": "@jupyter-widgets/controls",
          "model_name": "ProgressStyleModel",
          "state": {
            "_view_name": "StyleView",
            "_model_name": "ProgressStyleModel",
            "description_width": "initial",
            "_view_module": "@jupyter-widgets/base",
            "_model_module_version": "1.5.0",
            "_view_count": null,
            "_view_module_version": "1.2.0",
            "bar_color": null,
            "_model_module": "@jupyter-widgets/controls"
          }
        },
        "53530c17a85c463ab7558ab2f64aa95c": {
          "model_module": "@jupyter-widgets/base",
          "model_name": "LayoutModel",
          "state": {
            "_view_name": "LayoutView",
            "grid_template_rows": null,
            "right": null,
            "justify_content": null,
            "_view_module": "@jupyter-widgets/base",
            "overflow": null,
            "_model_module_version": "1.2.0",
            "_view_count": null,
            "flex_flow": null,
            "width": null,
            "min_width": null,
            "border": null,
            "align_items": null,
            "bottom": null,
            "_model_module": "@jupyter-widgets/base",
            "top": null,
            "grid_column": null,
            "overflow_y": null,
            "overflow_x": null,
            "grid_auto_flow": null,
            "grid_area": null,
            "grid_template_columns": null,
            "flex": null,
            "_model_name": "LayoutModel",
            "justify_items": null,
            "grid_row": null,
            "max_height": null,
            "align_content": null,
            "visibility": null,
            "align_self": null,
            "height": null,
            "min_height": null,
            "padding": null,
            "grid_auto_rows": null,
            "grid_gap": null,
            "max_width": null,
            "order": null,
            "_view_module_version": "1.2.0",
            "grid_template_areas": null,
            "object_position": null,
            "object_fit": null,
            "grid_auto_columns": null,
            "margin": null,
            "display": null,
            "left": null
          }
        },
        "94115390f50347638a19afec05bec4a3": {
          "model_module": "@jupyter-widgets/controls",
          "model_name": "DescriptionStyleModel",
          "state": {
            "_view_name": "StyleView",
            "_model_name": "DescriptionStyleModel",
            "description_width": "",
            "_view_module": "@jupyter-widgets/base",
            "_model_module_version": "1.5.0",
            "_view_count": null,
            "_view_module_version": "1.2.0",
            "_model_module": "@jupyter-widgets/controls"
          }
        },
        "f01e8a9b6eaf45e9900b59acdd9a365a": {
          "model_module": "@jupyter-widgets/base",
          "model_name": "LayoutModel",
          "state": {
            "_view_name": "LayoutView",
            "grid_template_rows": null,
            "right": null,
            "justify_content": null,
            "_view_module": "@jupyter-widgets/base",
            "overflow": null,
            "_model_module_version": "1.2.0",
            "_view_count": null,
            "flex_flow": null,
            "width": null,
            "min_width": null,
            "border": null,
            "align_items": null,
            "bottom": null,
            "_model_module": "@jupyter-widgets/base",
            "top": null,
            "grid_column": null,
            "overflow_y": null,
            "overflow_x": null,
            "grid_auto_flow": null,
            "grid_area": null,
            "grid_template_columns": null,
            "flex": null,
            "_model_name": "LayoutModel",
            "justify_items": null,
            "grid_row": null,
            "max_height": null,
            "align_content": null,
            "visibility": null,
            "align_self": null,
            "height": null,
            "min_height": null,
            "padding": null,
            "grid_auto_rows": null,
            "grid_gap": null,
            "max_width": null,
            "order": null,
            "_view_module_version": "1.2.0",
            "grid_template_areas": null,
            "object_position": null,
            "object_fit": null,
            "grid_auto_columns": null,
            "margin": null,
            "display": null,
            "left": null
          }
        },
        "42b67480bf5147cc96aec74611c1d6eb": {
          "model_module": "@jupyter-widgets/controls",
          "model_name": "HBoxModel",
          "state": {
            "_view_name": "HBoxView",
            "_dom_classes": [],
            "_model_name": "HBoxModel",
            "_view_module": "@jupyter-widgets/controls",
            "_model_module_version": "1.5.0",
            "_view_count": null,
            "_view_module_version": "1.5.0",
            "box_style": "",
            "layout": "IPY_MODEL_7213fe1beb704ccb84e132a896093b1f",
            "_model_module": "@jupyter-widgets/controls",
            "children": [
              "IPY_MODEL_a0c46345eb71422898e17c6791f419bf",
              "IPY_MODEL_b0d1648addb04660b3f709be07950eb0"
            ]
          }
        },
        "7213fe1beb704ccb84e132a896093b1f": {
          "model_module": "@jupyter-widgets/base",
          "model_name": "LayoutModel",
          "state": {
            "_view_name": "LayoutView",
            "grid_template_rows": null,
            "right": null,
            "justify_content": null,
            "_view_module": "@jupyter-widgets/base",
            "overflow": null,
            "_model_module_version": "1.2.0",
            "_view_count": null,
            "flex_flow": null,
            "width": null,
            "min_width": null,
            "border": null,
            "align_items": null,
            "bottom": null,
            "_model_module": "@jupyter-widgets/base",
            "top": null,
            "grid_column": null,
            "overflow_y": null,
            "overflow_x": null,
            "grid_auto_flow": null,
            "grid_area": null,
            "grid_template_columns": null,
            "flex": null,
            "_model_name": "LayoutModel",
            "justify_items": null,
            "grid_row": null,
            "max_height": null,
            "align_content": null,
            "visibility": null,
            "align_self": null,
            "height": null,
            "min_height": null,
            "padding": null,
            "grid_auto_rows": null,
            "grid_gap": null,
            "max_width": null,
            "order": null,
            "_view_module_version": "1.2.0",
            "grid_template_areas": null,
            "object_position": null,
            "object_fit": null,
            "grid_auto_columns": null,
            "margin": null,
            "display": null,
            "left": null
          }
        },
        "a0c46345eb71422898e17c6791f419bf": {
          "model_module": "@jupyter-widgets/controls",
          "model_name": "FloatProgressModel",
          "state": {
            "_view_name": "ProgressView",
            "style": "IPY_MODEL_844a5b6e9ccf4f42a029bf16176b6f0d",
            "_dom_classes": [],
            "description": "EPOCHS 0009: 100%",
            "_model_name": "FloatProgressModel",
            "bar_style": "success",
            "max": 668,
            "_view_module": "@jupyter-widgets/controls",
            "_model_module_version": "1.5.0",
            "value": 668,
            "_view_count": null,
            "_view_module_version": "1.5.0",
            "orientation": "horizontal",
            "min": 0,
            "description_tooltip": null,
            "_model_module": "@jupyter-widgets/controls",
            "layout": "IPY_MODEL_6d2a356abe7545b39ca8fa076932f8c7"
          }
        },
        "b0d1648addb04660b3f709be07950eb0": {
          "model_module": "@jupyter-widgets/controls",
          "model_name": "HTMLModel",
          "state": {
            "_view_name": "HTMLView",
            "style": "IPY_MODEL_f1bd93714ead4eb2abccc38c20d6c20a",
            "_dom_classes": [],
            "description": "",
            "_model_name": "HTMLModel",
            "placeholder": "​",
            "_view_module": "@jupyter-widgets/controls",
            "_model_module_version": "1.5.0",
            "value": " 668/668 [00:15&lt;00:00, 44.06it/s]",
            "_view_count": null,
            "_view_module_version": "1.5.0",
            "description_tooltip": null,
            "_model_module": "@jupyter-widgets/controls",
            "layout": "IPY_MODEL_1abcde3c327a4ca49624daa6195fbbb8"
          }
        },
        "844a5b6e9ccf4f42a029bf16176b6f0d": {
          "model_module": "@jupyter-widgets/controls",
          "model_name": "ProgressStyleModel",
          "state": {
            "_view_name": "StyleView",
            "_model_name": "ProgressStyleModel",
            "description_width": "initial",
            "_view_module": "@jupyter-widgets/base",
            "_model_module_version": "1.5.0",
            "_view_count": null,
            "_view_module_version": "1.2.0",
            "bar_color": null,
            "_model_module": "@jupyter-widgets/controls"
          }
        },
        "6d2a356abe7545b39ca8fa076932f8c7": {
          "model_module": "@jupyter-widgets/base",
          "model_name": "LayoutModel",
          "state": {
            "_view_name": "LayoutView",
            "grid_template_rows": null,
            "right": null,
            "justify_content": null,
            "_view_module": "@jupyter-widgets/base",
            "overflow": null,
            "_model_module_version": "1.2.0",
            "_view_count": null,
            "flex_flow": null,
            "width": null,
            "min_width": null,
            "border": null,
            "align_items": null,
            "bottom": null,
            "_model_module": "@jupyter-widgets/base",
            "top": null,
            "grid_column": null,
            "overflow_y": null,
            "overflow_x": null,
            "grid_auto_flow": null,
            "grid_area": null,
            "grid_template_columns": null,
            "flex": null,
            "_model_name": "LayoutModel",
            "justify_items": null,
            "grid_row": null,
            "max_height": null,
            "align_content": null,
            "visibility": null,
            "align_self": null,
            "height": null,
            "min_height": null,
            "padding": null,
            "grid_auto_rows": null,
            "grid_gap": null,
            "max_width": null,
            "order": null,
            "_view_module_version": "1.2.0",
            "grid_template_areas": null,
            "object_position": null,
            "object_fit": null,
            "grid_auto_columns": null,
            "margin": null,
            "display": null,
            "left": null
          }
        },
        "f1bd93714ead4eb2abccc38c20d6c20a": {
          "model_module": "@jupyter-widgets/controls",
          "model_name": "DescriptionStyleModel",
          "state": {
            "_view_name": "StyleView",
            "_model_name": "DescriptionStyleModel",
            "description_width": "",
            "_view_module": "@jupyter-widgets/base",
            "_model_module_version": "1.5.0",
            "_view_count": null,
            "_view_module_version": "1.2.0",
            "_model_module": "@jupyter-widgets/controls"
          }
        },
        "1abcde3c327a4ca49624daa6195fbbb8": {
          "model_module": "@jupyter-widgets/base",
          "model_name": "LayoutModel",
          "state": {
            "_view_name": "LayoutView",
            "grid_template_rows": null,
            "right": null,
            "justify_content": null,
            "_view_module": "@jupyter-widgets/base",
            "overflow": null,
            "_model_module_version": "1.2.0",
            "_view_count": null,
            "flex_flow": null,
            "width": null,
            "min_width": null,
            "border": null,
            "align_items": null,
            "bottom": null,
            "_model_module": "@jupyter-widgets/base",
            "top": null,
            "grid_column": null,
            "overflow_y": null,
            "overflow_x": null,
            "grid_auto_flow": null,
            "grid_area": null,
            "grid_template_columns": null,
            "flex": null,
            "_model_name": "LayoutModel",
            "justify_items": null,
            "grid_row": null,
            "max_height": null,
            "align_content": null,
            "visibility": null,
            "align_self": null,
            "height": null,
            "min_height": null,
            "padding": null,
            "grid_auto_rows": null,
            "grid_gap": null,
            "max_width": null,
            "order": null,
            "_view_module_version": "1.2.0",
            "grid_template_areas": null,
            "object_position": null,
            "object_fit": null,
            "grid_auto_columns": null,
            "margin": null,
            "display": null,
            "left": null
          }
        },
        "2cd0a5d78f834913bed0f942d0951182": {
          "model_module": "@jupyter-widgets/controls",
          "model_name": "HBoxModel",
          "state": {
            "_view_name": "HBoxView",
            "_dom_classes": [],
            "_model_name": "HBoxModel",
            "_view_module": "@jupyter-widgets/controls",
            "_model_module_version": "1.5.0",
            "_view_count": null,
            "_view_module_version": "1.5.0",
            "box_style": "",
            "layout": "IPY_MODEL_cdf4596bd62b45c3af170abe86835706",
            "_model_module": "@jupyter-widgets/controls",
            "children": [
              "IPY_MODEL_973ce13db86748a5beeb5674be9c883b",
              "IPY_MODEL_2d61779100a4441da98cb0ae5ef6dc8a"
            ]
          }
        },
        "cdf4596bd62b45c3af170abe86835706": {
          "model_module": "@jupyter-widgets/base",
          "model_name": "LayoutModel",
          "state": {
            "_view_name": "LayoutView",
            "grid_template_rows": null,
            "right": null,
            "justify_content": null,
            "_view_module": "@jupyter-widgets/base",
            "overflow": null,
            "_model_module_version": "1.2.0",
            "_view_count": null,
            "flex_flow": null,
            "width": null,
            "min_width": null,
            "border": null,
            "align_items": null,
            "bottom": null,
            "_model_module": "@jupyter-widgets/base",
            "top": null,
            "grid_column": null,
            "overflow_y": null,
            "overflow_x": null,
            "grid_auto_flow": null,
            "grid_area": null,
            "grid_template_columns": null,
            "flex": null,
            "_model_name": "LayoutModel",
            "justify_items": null,
            "grid_row": null,
            "max_height": null,
            "align_content": null,
            "visibility": null,
            "align_self": null,
            "height": null,
            "min_height": null,
            "padding": null,
            "grid_auto_rows": null,
            "grid_gap": null,
            "max_width": null,
            "order": null,
            "_view_module_version": "1.2.0",
            "grid_template_areas": null,
            "object_position": null,
            "object_fit": null,
            "grid_auto_columns": null,
            "margin": null,
            "display": null,
            "left": null
          }
        },
        "973ce13db86748a5beeb5674be9c883b": {
          "model_module": "@jupyter-widgets/controls",
          "model_name": "FloatProgressModel",
          "state": {
            "_view_name": "ProgressView",
            "style": "IPY_MODEL_95b912e8574c416e89af38ccc0f49016",
            "_dom_classes": [],
            "description": "EPOCHS 0010: 100%",
            "_model_name": "FloatProgressModel",
            "bar_style": "success",
            "max": 668,
            "_view_module": "@jupyter-widgets/controls",
            "_model_module_version": "1.5.0",
            "value": 668,
            "_view_count": null,
            "_view_module_version": "1.5.0",
            "orientation": "horizontal",
            "min": 0,
            "description_tooltip": null,
            "_model_module": "@jupyter-widgets/controls",
            "layout": "IPY_MODEL_e7527d0f151f429697573fb1cd9e052b"
          }
        },
        "2d61779100a4441da98cb0ae5ef6dc8a": {
          "model_module": "@jupyter-widgets/controls",
          "model_name": "HTMLModel",
          "state": {
            "_view_name": "HTMLView",
            "style": "IPY_MODEL_cbe369f5bf9948c8b0f28dccab76ae01",
            "_dom_classes": [],
            "description": "",
            "_model_name": "HTMLModel",
            "placeholder": "​",
            "_view_module": "@jupyter-widgets/controls",
            "_model_module_version": "1.5.0",
            "value": " 668/668 [00:02&lt;00:00, 255.44it/s]",
            "_view_count": null,
            "_view_module_version": "1.5.0",
            "description_tooltip": null,
            "_model_module": "@jupyter-widgets/controls",
            "layout": "IPY_MODEL_0517af45c58b4688a268c0668e4a7e1d"
          }
        },
        "95b912e8574c416e89af38ccc0f49016": {
          "model_module": "@jupyter-widgets/controls",
          "model_name": "ProgressStyleModel",
          "state": {
            "_view_name": "StyleView",
            "_model_name": "ProgressStyleModel",
            "description_width": "initial",
            "_view_module": "@jupyter-widgets/base",
            "_model_module_version": "1.5.0",
            "_view_count": null,
            "_view_module_version": "1.2.0",
            "bar_color": null,
            "_model_module": "@jupyter-widgets/controls"
          }
        },
        "e7527d0f151f429697573fb1cd9e052b": {
          "model_module": "@jupyter-widgets/base",
          "model_name": "LayoutModel",
          "state": {
            "_view_name": "LayoutView",
            "grid_template_rows": null,
            "right": null,
            "justify_content": null,
            "_view_module": "@jupyter-widgets/base",
            "overflow": null,
            "_model_module_version": "1.2.0",
            "_view_count": null,
            "flex_flow": null,
            "width": null,
            "min_width": null,
            "border": null,
            "align_items": null,
            "bottom": null,
            "_model_module": "@jupyter-widgets/base",
            "top": null,
            "grid_column": null,
            "overflow_y": null,
            "overflow_x": null,
            "grid_auto_flow": null,
            "grid_area": null,
            "grid_template_columns": null,
            "flex": null,
            "_model_name": "LayoutModel",
            "justify_items": null,
            "grid_row": null,
            "max_height": null,
            "align_content": null,
            "visibility": null,
            "align_self": null,
            "height": null,
            "min_height": null,
            "padding": null,
            "grid_auto_rows": null,
            "grid_gap": null,
            "max_width": null,
            "order": null,
            "_view_module_version": "1.2.0",
            "grid_template_areas": null,
            "object_position": null,
            "object_fit": null,
            "grid_auto_columns": null,
            "margin": null,
            "display": null,
            "left": null
          }
        },
        "cbe369f5bf9948c8b0f28dccab76ae01": {
          "model_module": "@jupyter-widgets/controls",
          "model_name": "DescriptionStyleModel",
          "state": {
            "_view_name": "StyleView",
            "_model_name": "DescriptionStyleModel",
            "description_width": "",
            "_view_module": "@jupyter-widgets/base",
            "_model_module_version": "1.5.0",
            "_view_count": null,
            "_view_module_version": "1.2.0",
            "_model_module": "@jupyter-widgets/controls"
          }
        },
        "0517af45c58b4688a268c0668e4a7e1d": {
          "model_module": "@jupyter-widgets/base",
          "model_name": "LayoutModel",
          "state": {
            "_view_name": "LayoutView",
            "grid_template_rows": null,
            "right": null,
            "justify_content": null,
            "_view_module": "@jupyter-widgets/base",
            "overflow": null,
            "_model_module_version": "1.2.0",
            "_view_count": null,
            "flex_flow": null,
            "width": null,
            "min_width": null,
            "border": null,
            "align_items": null,
            "bottom": null,
            "_model_module": "@jupyter-widgets/base",
            "top": null,
            "grid_column": null,
            "overflow_y": null,
            "overflow_x": null,
            "grid_auto_flow": null,
            "grid_area": null,
            "grid_template_columns": null,
            "flex": null,
            "_model_name": "LayoutModel",
            "justify_items": null,
            "grid_row": null,
            "max_height": null,
            "align_content": null,
            "visibility": null,
            "align_self": null,
            "height": null,
            "min_height": null,
            "padding": null,
            "grid_auto_rows": null,
            "grid_gap": null,
            "max_width": null,
            "order": null,
            "_view_module_version": "1.2.0",
            "grid_template_areas": null,
            "object_position": null,
            "object_fit": null,
            "grid_auto_columns": null,
            "margin": null,
            "display": null,
            "left": null
          }
        },
        "b85ec639164b4e5ab840989b46eaf185": {
          "model_module": "@jupyter-widgets/controls",
          "model_name": "HBoxModel",
          "state": {
            "_view_name": "HBoxView",
            "_dom_classes": [],
            "_model_name": "HBoxModel",
            "_view_module": "@jupyter-widgets/controls",
            "_model_module_version": "1.5.0",
            "_view_count": null,
            "_view_module_version": "1.5.0",
            "box_style": "",
            "layout": "IPY_MODEL_d8a4108420fb4a5c8bd36f0e6db1af48",
            "_model_module": "@jupyter-widgets/controls",
            "children": [
              "IPY_MODEL_77385b96d5544801ad9f074f313f694f",
              "IPY_MODEL_324c022cb8b34cd0ae759f31476066b0"
            ]
          }
        },
        "d8a4108420fb4a5c8bd36f0e6db1af48": {
          "model_module": "@jupyter-widgets/base",
          "model_name": "LayoutModel",
          "state": {
            "_view_name": "LayoutView",
            "grid_template_rows": null,
            "right": null,
            "justify_content": null,
            "_view_module": "@jupyter-widgets/base",
            "overflow": null,
            "_model_module_version": "1.2.0",
            "_view_count": null,
            "flex_flow": null,
            "width": null,
            "min_width": null,
            "border": null,
            "align_items": null,
            "bottom": null,
            "_model_module": "@jupyter-widgets/base",
            "top": null,
            "grid_column": null,
            "overflow_y": null,
            "overflow_x": null,
            "grid_auto_flow": null,
            "grid_area": null,
            "grid_template_columns": null,
            "flex": null,
            "_model_name": "LayoutModel",
            "justify_items": null,
            "grid_row": null,
            "max_height": null,
            "align_content": null,
            "visibility": null,
            "align_self": null,
            "height": null,
            "min_height": null,
            "padding": null,
            "grid_auto_rows": null,
            "grid_gap": null,
            "max_width": null,
            "order": null,
            "_view_module_version": "1.2.0",
            "grid_template_areas": null,
            "object_position": null,
            "object_fit": null,
            "grid_auto_columns": null,
            "margin": null,
            "display": null,
            "left": null
          }
        },
        "77385b96d5544801ad9f074f313f694f": {
          "model_module": "@jupyter-widgets/controls",
          "model_name": "FloatProgressModel",
          "state": {
            "_view_name": "ProgressView",
            "style": "IPY_MODEL_9cf8b5198bb7474fb68a581159e42ef4",
            "_dom_classes": [],
            "description": "EPOCHS 0011: 100%",
            "_model_name": "FloatProgressModel",
            "bar_style": "success",
            "max": 668,
            "_view_module": "@jupyter-widgets/controls",
            "_model_module_version": "1.5.0",
            "value": 668,
            "_view_count": null,
            "_view_module_version": "1.5.0",
            "orientation": "horizontal",
            "min": 0,
            "description_tooltip": null,
            "_model_module": "@jupyter-widgets/controls",
            "layout": "IPY_MODEL_9cf06f16148343ae8bcbd4ddda11b5dc"
          }
        },
        "324c022cb8b34cd0ae759f31476066b0": {
          "model_module": "@jupyter-widgets/controls",
          "model_name": "HTMLModel",
          "state": {
            "_view_name": "HTMLView",
            "style": "IPY_MODEL_96e0b32281bb4baba3ad0c2f698bf3ce",
            "_dom_classes": [],
            "description": "",
            "_model_name": "HTMLModel",
            "placeholder": "​",
            "_view_module": "@jupyter-widgets/controls",
            "_model_module_version": "1.5.0",
            "value": " 668/668 [00:10&lt;00:00, 61.05it/s]",
            "_view_count": null,
            "_view_module_version": "1.5.0",
            "description_tooltip": null,
            "_model_module": "@jupyter-widgets/controls",
            "layout": "IPY_MODEL_f1215be44371491db5b6939af638122a"
          }
        },
        "9cf8b5198bb7474fb68a581159e42ef4": {
          "model_module": "@jupyter-widgets/controls",
          "model_name": "ProgressStyleModel",
          "state": {
            "_view_name": "StyleView",
            "_model_name": "ProgressStyleModel",
            "description_width": "initial",
            "_view_module": "@jupyter-widgets/base",
            "_model_module_version": "1.5.0",
            "_view_count": null,
            "_view_module_version": "1.2.0",
            "bar_color": null,
            "_model_module": "@jupyter-widgets/controls"
          }
        },
        "9cf06f16148343ae8bcbd4ddda11b5dc": {
          "model_module": "@jupyter-widgets/base",
          "model_name": "LayoutModel",
          "state": {
            "_view_name": "LayoutView",
            "grid_template_rows": null,
            "right": null,
            "justify_content": null,
            "_view_module": "@jupyter-widgets/base",
            "overflow": null,
            "_model_module_version": "1.2.0",
            "_view_count": null,
            "flex_flow": null,
            "width": null,
            "min_width": null,
            "border": null,
            "align_items": null,
            "bottom": null,
            "_model_module": "@jupyter-widgets/base",
            "top": null,
            "grid_column": null,
            "overflow_y": null,
            "overflow_x": null,
            "grid_auto_flow": null,
            "grid_area": null,
            "grid_template_columns": null,
            "flex": null,
            "_model_name": "LayoutModel",
            "justify_items": null,
            "grid_row": null,
            "max_height": null,
            "align_content": null,
            "visibility": null,
            "align_self": null,
            "height": null,
            "min_height": null,
            "padding": null,
            "grid_auto_rows": null,
            "grid_gap": null,
            "max_width": null,
            "order": null,
            "_view_module_version": "1.2.0",
            "grid_template_areas": null,
            "object_position": null,
            "object_fit": null,
            "grid_auto_columns": null,
            "margin": null,
            "display": null,
            "left": null
          }
        },
        "96e0b32281bb4baba3ad0c2f698bf3ce": {
          "model_module": "@jupyter-widgets/controls",
          "model_name": "DescriptionStyleModel",
          "state": {
            "_view_name": "StyleView",
            "_model_name": "DescriptionStyleModel",
            "description_width": "",
            "_view_module": "@jupyter-widgets/base",
            "_model_module_version": "1.5.0",
            "_view_count": null,
            "_view_module_version": "1.2.0",
            "_model_module": "@jupyter-widgets/controls"
          }
        },
        "f1215be44371491db5b6939af638122a": {
          "model_module": "@jupyter-widgets/base",
          "model_name": "LayoutModel",
          "state": {
            "_view_name": "LayoutView",
            "grid_template_rows": null,
            "right": null,
            "justify_content": null,
            "_view_module": "@jupyter-widgets/base",
            "overflow": null,
            "_model_module_version": "1.2.0",
            "_view_count": null,
            "flex_flow": null,
            "width": null,
            "min_width": null,
            "border": null,
            "align_items": null,
            "bottom": null,
            "_model_module": "@jupyter-widgets/base",
            "top": null,
            "grid_column": null,
            "overflow_y": null,
            "overflow_x": null,
            "grid_auto_flow": null,
            "grid_area": null,
            "grid_template_columns": null,
            "flex": null,
            "_model_name": "LayoutModel",
            "justify_items": null,
            "grid_row": null,
            "max_height": null,
            "align_content": null,
            "visibility": null,
            "align_self": null,
            "height": null,
            "min_height": null,
            "padding": null,
            "grid_auto_rows": null,
            "grid_gap": null,
            "max_width": null,
            "order": null,
            "_view_module_version": "1.2.0",
            "grid_template_areas": null,
            "object_position": null,
            "object_fit": null,
            "grid_auto_columns": null,
            "margin": null,
            "display": null,
            "left": null
          }
        },
        "d9d230f6e57942d5a967703cd2412ff5": {
          "model_module": "@jupyter-widgets/controls",
          "model_name": "HBoxModel",
          "state": {
            "_view_name": "HBoxView",
            "_dom_classes": [],
            "_model_name": "HBoxModel",
            "_view_module": "@jupyter-widgets/controls",
            "_model_module_version": "1.5.0",
            "_view_count": null,
            "_view_module_version": "1.5.0",
            "box_style": "",
            "layout": "IPY_MODEL_88dce11278dc45dca3edccef3427a08c",
            "_model_module": "@jupyter-widgets/controls",
            "children": [
              "IPY_MODEL_66779fcb2184412ab25182224ee815fb",
              "IPY_MODEL_fb09f7c58fc64befaad04e83a417639a"
            ]
          }
        },
        "88dce11278dc45dca3edccef3427a08c": {
          "model_module": "@jupyter-widgets/base",
          "model_name": "LayoutModel",
          "state": {
            "_view_name": "LayoutView",
            "grid_template_rows": null,
            "right": null,
            "justify_content": null,
            "_view_module": "@jupyter-widgets/base",
            "overflow": null,
            "_model_module_version": "1.2.0",
            "_view_count": null,
            "flex_flow": null,
            "width": null,
            "min_width": null,
            "border": null,
            "align_items": null,
            "bottom": null,
            "_model_module": "@jupyter-widgets/base",
            "top": null,
            "grid_column": null,
            "overflow_y": null,
            "overflow_x": null,
            "grid_auto_flow": null,
            "grid_area": null,
            "grid_template_columns": null,
            "flex": null,
            "_model_name": "LayoutModel",
            "justify_items": null,
            "grid_row": null,
            "max_height": null,
            "align_content": null,
            "visibility": null,
            "align_self": null,
            "height": null,
            "min_height": null,
            "padding": null,
            "grid_auto_rows": null,
            "grid_gap": null,
            "max_width": null,
            "order": null,
            "_view_module_version": "1.2.0",
            "grid_template_areas": null,
            "object_position": null,
            "object_fit": null,
            "grid_auto_columns": null,
            "margin": null,
            "display": null,
            "left": null
          }
        },
        "66779fcb2184412ab25182224ee815fb": {
          "model_module": "@jupyter-widgets/controls",
          "model_name": "FloatProgressModel",
          "state": {
            "_view_name": "ProgressView",
            "style": "IPY_MODEL_76e19aa7b6e346dfa676e290c070eef1",
            "_dom_classes": [],
            "description": "EPOCHS 0012: 100%",
            "_model_name": "FloatProgressModel",
            "bar_style": "success",
            "max": 668,
            "_view_module": "@jupyter-widgets/controls",
            "_model_module_version": "1.5.0",
            "value": 668,
            "_view_count": null,
            "_view_module_version": "1.5.0",
            "orientation": "horizontal",
            "min": 0,
            "description_tooltip": null,
            "_model_module": "@jupyter-widgets/controls",
            "layout": "IPY_MODEL_6260de4c0c4c4f08adaa78aa733d528b"
          }
        },
        "fb09f7c58fc64befaad04e83a417639a": {
          "model_module": "@jupyter-widgets/controls",
          "model_name": "HTMLModel",
          "state": {
            "_view_name": "HTMLView",
            "style": "IPY_MODEL_a3d4857c0ad8403c8ac744823c56a4f9",
            "_dom_classes": [],
            "description": "",
            "_model_name": "HTMLModel",
            "placeholder": "​",
            "_view_module": "@jupyter-widgets/controls",
            "_model_module_version": "1.5.0",
            "value": " 668/668 [00:04&lt;00:00, 156.42it/s]",
            "_view_count": null,
            "_view_module_version": "1.5.0",
            "description_tooltip": null,
            "_model_module": "@jupyter-widgets/controls",
            "layout": "IPY_MODEL_6f1ac2ed8d0d4141a1855e6dfcacf7ce"
          }
        },
        "76e19aa7b6e346dfa676e290c070eef1": {
          "model_module": "@jupyter-widgets/controls",
          "model_name": "ProgressStyleModel",
          "state": {
            "_view_name": "StyleView",
            "_model_name": "ProgressStyleModel",
            "description_width": "initial",
            "_view_module": "@jupyter-widgets/base",
            "_model_module_version": "1.5.0",
            "_view_count": null,
            "_view_module_version": "1.2.0",
            "bar_color": null,
            "_model_module": "@jupyter-widgets/controls"
          }
        },
        "6260de4c0c4c4f08adaa78aa733d528b": {
          "model_module": "@jupyter-widgets/base",
          "model_name": "LayoutModel",
          "state": {
            "_view_name": "LayoutView",
            "grid_template_rows": null,
            "right": null,
            "justify_content": null,
            "_view_module": "@jupyter-widgets/base",
            "overflow": null,
            "_model_module_version": "1.2.0",
            "_view_count": null,
            "flex_flow": null,
            "width": null,
            "min_width": null,
            "border": null,
            "align_items": null,
            "bottom": null,
            "_model_module": "@jupyter-widgets/base",
            "top": null,
            "grid_column": null,
            "overflow_y": null,
            "overflow_x": null,
            "grid_auto_flow": null,
            "grid_area": null,
            "grid_template_columns": null,
            "flex": null,
            "_model_name": "LayoutModel",
            "justify_items": null,
            "grid_row": null,
            "max_height": null,
            "align_content": null,
            "visibility": null,
            "align_self": null,
            "height": null,
            "min_height": null,
            "padding": null,
            "grid_auto_rows": null,
            "grid_gap": null,
            "max_width": null,
            "order": null,
            "_view_module_version": "1.2.0",
            "grid_template_areas": null,
            "object_position": null,
            "object_fit": null,
            "grid_auto_columns": null,
            "margin": null,
            "display": null,
            "left": null
          }
        },
        "a3d4857c0ad8403c8ac744823c56a4f9": {
          "model_module": "@jupyter-widgets/controls",
          "model_name": "DescriptionStyleModel",
          "state": {
            "_view_name": "StyleView",
            "_model_name": "DescriptionStyleModel",
            "description_width": "",
            "_view_module": "@jupyter-widgets/base",
            "_model_module_version": "1.5.0",
            "_view_count": null,
            "_view_module_version": "1.2.0",
            "_model_module": "@jupyter-widgets/controls"
          }
        },
        "6f1ac2ed8d0d4141a1855e6dfcacf7ce": {
          "model_module": "@jupyter-widgets/base",
          "model_name": "LayoutModel",
          "state": {
            "_view_name": "LayoutView",
            "grid_template_rows": null,
            "right": null,
            "justify_content": null,
            "_view_module": "@jupyter-widgets/base",
            "overflow": null,
            "_model_module_version": "1.2.0",
            "_view_count": null,
            "flex_flow": null,
            "width": null,
            "min_width": null,
            "border": null,
            "align_items": null,
            "bottom": null,
            "_model_module": "@jupyter-widgets/base",
            "top": null,
            "grid_column": null,
            "overflow_y": null,
            "overflow_x": null,
            "grid_auto_flow": null,
            "grid_area": null,
            "grid_template_columns": null,
            "flex": null,
            "_model_name": "LayoutModel",
            "justify_items": null,
            "grid_row": null,
            "max_height": null,
            "align_content": null,
            "visibility": null,
            "align_self": null,
            "height": null,
            "min_height": null,
            "padding": null,
            "grid_auto_rows": null,
            "grid_gap": null,
            "max_width": null,
            "order": null,
            "_view_module_version": "1.2.0",
            "grid_template_areas": null,
            "object_position": null,
            "object_fit": null,
            "grid_auto_columns": null,
            "margin": null,
            "display": null,
            "left": null
          }
        },
        "1f4f2340d2a9445f8f7256998a0e2c6b": {
          "model_module": "@jupyter-widgets/controls",
          "model_name": "HBoxModel",
          "state": {
            "_view_name": "HBoxView",
            "_dom_classes": [],
            "_model_name": "HBoxModel",
            "_view_module": "@jupyter-widgets/controls",
            "_model_module_version": "1.5.0",
            "_view_count": null,
            "_view_module_version": "1.5.0",
            "box_style": "",
            "layout": "IPY_MODEL_550fea10290c4be8ba2c0f8eac09e7eb",
            "_model_module": "@jupyter-widgets/controls",
            "children": [
              "IPY_MODEL_5b845ad55361472c941a42ae248dda48",
              "IPY_MODEL_cd93c8e1b15b44fabf49cf6aba943a9c"
            ]
          }
        },
        "550fea10290c4be8ba2c0f8eac09e7eb": {
          "model_module": "@jupyter-widgets/base",
          "model_name": "LayoutModel",
          "state": {
            "_view_name": "LayoutView",
            "grid_template_rows": null,
            "right": null,
            "justify_content": null,
            "_view_module": "@jupyter-widgets/base",
            "overflow": null,
            "_model_module_version": "1.2.0",
            "_view_count": null,
            "flex_flow": null,
            "width": null,
            "min_width": null,
            "border": null,
            "align_items": null,
            "bottom": null,
            "_model_module": "@jupyter-widgets/base",
            "top": null,
            "grid_column": null,
            "overflow_y": null,
            "overflow_x": null,
            "grid_auto_flow": null,
            "grid_area": null,
            "grid_template_columns": null,
            "flex": null,
            "_model_name": "LayoutModel",
            "justify_items": null,
            "grid_row": null,
            "max_height": null,
            "align_content": null,
            "visibility": null,
            "align_self": null,
            "height": null,
            "min_height": null,
            "padding": null,
            "grid_auto_rows": null,
            "grid_gap": null,
            "max_width": null,
            "order": null,
            "_view_module_version": "1.2.0",
            "grid_template_areas": null,
            "object_position": null,
            "object_fit": null,
            "grid_auto_columns": null,
            "margin": null,
            "display": null,
            "left": null
          }
        },
        "5b845ad55361472c941a42ae248dda48": {
          "model_module": "@jupyter-widgets/controls",
          "model_name": "FloatProgressModel",
          "state": {
            "_view_name": "ProgressView",
            "style": "IPY_MODEL_e91c7617f68941dc920a2bc92453b1a1",
            "_dom_classes": [],
            "description": "EPOCHS 0013: 100%",
            "_model_name": "FloatProgressModel",
            "bar_style": "success",
            "max": 668,
            "_view_module": "@jupyter-widgets/controls",
            "_model_module_version": "1.5.0",
            "value": 668,
            "_view_count": null,
            "_view_module_version": "1.5.0",
            "orientation": "horizontal",
            "min": 0,
            "description_tooltip": null,
            "_model_module": "@jupyter-widgets/controls",
            "layout": "IPY_MODEL_a8cfe1f04bb54ef8b0df6982566deeb5"
          }
        },
        "cd93c8e1b15b44fabf49cf6aba943a9c": {
          "model_module": "@jupyter-widgets/controls",
          "model_name": "HTMLModel",
          "state": {
            "_view_name": "HTMLView",
            "style": "IPY_MODEL_fd5c7b1ddc19441988a76f8d71a8e742",
            "_dom_classes": [],
            "description": "",
            "_model_name": "HTMLModel",
            "placeholder": "​",
            "_view_module": "@jupyter-widgets/controls",
            "_model_module_version": "1.5.0",
            "value": " 668/668 [00:02&lt;00:00, 305.08it/s]",
            "_view_count": null,
            "_view_module_version": "1.5.0",
            "description_tooltip": null,
            "_model_module": "@jupyter-widgets/controls",
            "layout": "IPY_MODEL_e4f76e6045914b96abe5d5d21c6a6cb3"
          }
        },
        "e91c7617f68941dc920a2bc92453b1a1": {
          "model_module": "@jupyter-widgets/controls",
          "model_name": "ProgressStyleModel",
          "state": {
            "_view_name": "StyleView",
            "_model_name": "ProgressStyleModel",
            "description_width": "initial",
            "_view_module": "@jupyter-widgets/base",
            "_model_module_version": "1.5.0",
            "_view_count": null,
            "_view_module_version": "1.2.0",
            "bar_color": null,
            "_model_module": "@jupyter-widgets/controls"
          }
        },
        "a8cfe1f04bb54ef8b0df6982566deeb5": {
          "model_module": "@jupyter-widgets/base",
          "model_name": "LayoutModel",
          "state": {
            "_view_name": "LayoutView",
            "grid_template_rows": null,
            "right": null,
            "justify_content": null,
            "_view_module": "@jupyter-widgets/base",
            "overflow": null,
            "_model_module_version": "1.2.0",
            "_view_count": null,
            "flex_flow": null,
            "width": null,
            "min_width": null,
            "border": null,
            "align_items": null,
            "bottom": null,
            "_model_module": "@jupyter-widgets/base",
            "top": null,
            "grid_column": null,
            "overflow_y": null,
            "overflow_x": null,
            "grid_auto_flow": null,
            "grid_area": null,
            "grid_template_columns": null,
            "flex": null,
            "_model_name": "LayoutModel",
            "justify_items": null,
            "grid_row": null,
            "max_height": null,
            "align_content": null,
            "visibility": null,
            "align_self": null,
            "height": null,
            "min_height": null,
            "padding": null,
            "grid_auto_rows": null,
            "grid_gap": null,
            "max_width": null,
            "order": null,
            "_view_module_version": "1.2.0",
            "grid_template_areas": null,
            "object_position": null,
            "object_fit": null,
            "grid_auto_columns": null,
            "margin": null,
            "display": null,
            "left": null
          }
        },
        "fd5c7b1ddc19441988a76f8d71a8e742": {
          "model_module": "@jupyter-widgets/controls",
          "model_name": "DescriptionStyleModel",
          "state": {
            "_view_name": "StyleView",
            "_model_name": "DescriptionStyleModel",
            "description_width": "",
            "_view_module": "@jupyter-widgets/base",
            "_model_module_version": "1.5.0",
            "_view_count": null,
            "_view_module_version": "1.2.0",
            "_model_module": "@jupyter-widgets/controls"
          }
        },
        "e4f76e6045914b96abe5d5d21c6a6cb3": {
          "model_module": "@jupyter-widgets/base",
          "model_name": "LayoutModel",
          "state": {
            "_view_name": "LayoutView",
            "grid_template_rows": null,
            "right": null,
            "justify_content": null,
            "_view_module": "@jupyter-widgets/base",
            "overflow": null,
            "_model_module_version": "1.2.0",
            "_view_count": null,
            "flex_flow": null,
            "width": null,
            "min_width": null,
            "border": null,
            "align_items": null,
            "bottom": null,
            "_model_module": "@jupyter-widgets/base",
            "top": null,
            "grid_column": null,
            "overflow_y": null,
            "overflow_x": null,
            "grid_auto_flow": null,
            "grid_area": null,
            "grid_template_columns": null,
            "flex": null,
            "_model_name": "LayoutModel",
            "justify_items": null,
            "grid_row": null,
            "max_height": null,
            "align_content": null,
            "visibility": null,
            "align_self": null,
            "height": null,
            "min_height": null,
            "padding": null,
            "grid_auto_rows": null,
            "grid_gap": null,
            "max_width": null,
            "order": null,
            "_view_module_version": "1.2.0",
            "grid_template_areas": null,
            "object_position": null,
            "object_fit": null,
            "grid_auto_columns": null,
            "margin": null,
            "display": null,
            "left": null
          }
        },
        "a3712afc14cd43f69eaea227ae25cc50": {
          "model_module": "@jupyter-widgets/controls",
          "model_name": "HBoxModel",
          "state": {
            "_view_name": "HBoxView",
            "_dom_classes": [],
            "_model_name": "HBoxModel",
            "_view_module": "@jupyter-widgets/controls",
            "_model_module_version": "1.5.0",
            "_view_count": null,
            "_view_module_version": "1.5.0",
            "box_style": "",
            "layout": "IPY_MODEL_20946f2e8b3a4cfbbce55e7faef37034",
            "_model_module": "@jupyter-widgets/controls",
            "children": [
              "IPY_MODEL_d85741c03d3446fcb19646b3a0b7d50a",
              "IPY_MODEL_050b2d75d46145c7aaf00de5f6a1276a"
            ]
          }
        },
        "20946f2e8b3a4cfbbce55e7faef37034": {
          "model_module": "@jupyter-widgets/base",
          "model_name": "LayoutModel",
          "state": {
            "_view_name": "LayoutView",
            "grid_template_rows": null,
            "right": null,
            "justify_content": null,
            "_view_module": "@jupyter-widgets/base",
            "overflow": null,
            "_model_module_version": "1.2.0",
            "_view_count": null,
            "flex_flow": null,
            "width": null,
            "min_width": null,
            "border": null,
            "align_items": null,
            "bottom": null,
            "_model_module": "@jupyter-widgets/base",
            "top": null,
            "grid_column": null,
            "overflow_y": null,
            "overflow_x": null,
            "grid_auto_flow": null,
            "grid_area": null,
            "grid_template_columns": null,
            "flex": null,
            "_model_name": "LayoutModel",
            "justify_items": null,
            "grid_row": null,
            "max_height": null,
            "align_content": null,
            "visibility": null,
            "align_self": null,
            "height": null,
            "min_height": null,
            "padding": null,
            "grid_auto_rows": null,
            "grid_gap": null,
            "max_width": null,
            "order": null,
            "_view_module_version": "1.2.0",
            "grid_template_areas": null,
            "object_position": null,
            "object_fit": null,
            "grid_auto_columns": null,
            "margin": null,
            "display": null,
            "left": null
          }
        },
        "d85741c03d3446fcb19646b3a0b7d50a": {
          "model_module": "@jupyter-widgets/controls",
          "model_name": "FloatProgressModel",
          "state": {
            "_view_name": "ProgressView",
            "style": "IPY_MODEL_4dbf4d09805740c2b58b1dc6f6fc35d6",
            "_dom_classes": [],
            "description": "EPOCHS 0014: 100%",
            "_model_name": "FloatProgressModel",
            "bar_style": "success",
            "max": 668,
            "_view_module": "@jupyter-widgets/controls",
            "_model_module_version": "1.5.0",
            "value": 668,
            "_view_count": null,
            "_view_module_version": "1.5.0",
            "orientation": "horizontal",
            "min": 0,
            "description_tooltip": null,
            "_model_module": "@jupyter-widgets/controls",
            "layout": "IPY_MODEL_b806184af9ae41d9a121d82a74e10523"
          }
        },
        "050b2d75d46145c7aaf00de5f6a1276a": {
          "model_module": "@jupyter-widgets/controls",
          "model_name": "HTMLModel",
          "state": {
            "_view_name": "HTMLView",
            "style": "IPY_MODEL_c5cfd19402fc4e478b685a3652e9b801",
            "_dom_classes": [],
            "description": "",
            "_model_name": "HTMLModel",
            "placeholder": "​",
            "_view_module": "@jupyter-widgets/controls",
            "_model_module_version": "1.5.0",
            "value": " 668/668 [00:04&lt;00:00, 146.73it/s]",
            "_view_count": null,
            "_view_module_version": "1.5.0",
            "description_tooltip": null,
            "_model_module": "@jupyter-widgets/controls",
            "layout": "IPY_MODEL_11c8d61f0b024efdadd7e6d956c26a67"
          }
        },
        "4dbf4d09805740c2b58b1dc6f6fc35d6": {
          "model_module": "@jupyter-widgets/controls",
          "model_name": "ProgressStyleModel",
          "state": {
            "_view_name": "StyleView",
            "_model_name": "ProgressStyleModel",
            "description_width": "initial",
            "_view_module": "@jupyter-widgets/base",
            "_model_module_version": "1.5.0",
            "_view_count": null,
            "_view_module_version": "1.2.0",
            "bar_color": null,
            "_model_module": "@jupyter-widgets/controls"
          }
        },
        "b806184af9ae41d9a121d82a74e10523": {
          "model_module": "@jupyter-widgets/base",
          "model_name": "LayoutModel",
          "state": {
            "_view_name": "LayoutView",
            "grid_template_rows": null,
            "right": null,
            "justify_content": null,
            "_view_module": "@jupyter-widgets/base",
            "overflow": null,
            "_model_module_version": "1.2.0",
            "_view_count": null,
            "flex_flow": null,
            "width": null,
            "min_width": null,
            "border": null,
            "align_items": null,
            "bottom": null,
            "_model_module": "@jupyter-widgets/base",
            "top": null,
            "grid_column": null,
            "overflow_y": null,
            "overflow_x": null,
            "grid_auto_flow": null,
            "grid_area": null,
            "grid_template_columns": null,
            "flex": null,
            "_model_name": "LayoutModel",
            "justify_items": null,
            "grid_row": null,
            "max_height": null,
            "align_content": null,
            "visibility": null,
            "align_self": null,
            "height": null,
            "min_height": null,
            "padding": null,
            "grid_auto_rows": null,
            "grid_gap": null,
            "max_width": null,
            "order": null,
            "_view_module_version": "1.2.0",
            "grid_template_areas": null,
            "object_position": null,
            "object_fit": null,
            "grid_auto_columns": null,
            "margin": null,
            "display": null,
            "left": null
          }
        },
        "c5cfd19402fc4e478b685a3652e9b801": {
          "model_module": "@jupyter-widgets/controls",
          "model_name": "DescriptionStyleModel",
          "state": {
            "_view_name": "StyleView",
            "_model_name": "DescriptionStyleModel",
            "description_width": "",
            "_view_module": "@jupyter-widgets/base",
            "_model_module_version": "1.5.0",
            "_view_count": null,
            "_view_module_version": "1.2.0",
            "_model_module": "@jupyter-widgets/controls"
          }
        },
        "11c8d61f0b024efdadd7e6d956c26a67": {
          "model_module": "@jupyter-widgets/base",
          "model_name": "LayoutModel",
          "state": {
            "_view_name": "LayoutView",
            "grid_template_rows": null,
            "right": null,
            "justify_content": null,
            "_view_module": "@jupyter-widgets/base",
            "overflow": null,
            "_model_module_version": "1.2.0",
            "_view_count": null,
            "flex_flow": null,
            "width": null,
            "min_width": null,
            "border": null,
            "align_items": null,
            "bottom": null,
            "_model_module": "@jupyter-widgets/base",
            "top": null,
            "grid_column": null,
            "overflow_y": null,
            "overflow_x": null,
            "grid_auto_flow": null,
            "grid_area": null,
            "grid_template_columns": null,
            "flex": null,
            "_model_name": "LayoutModel",
            "justify_items": null,
            "grid_row": null,
            "max_height": null,
            "align_content": null,
            "visibility": null,
            "align_self": null,
            "height": null,
            "min_height": null,
            "padding": null,
            "grid_auto_rows": null,
            "grid_gap": null,
            "max_width": null,
            "order": null,
            "_view_module_version": "1.2.0",
            "grid_template_areas": null,
            "object_position": null,
            "object_fit": null,
            "grid_auto_columns": null,
            "margin": null,
            "display": null,
            "left": null
          }
        },
        "6044fc66387241089d527d0a7742b469": {
          "model_module": "@jupyter-widgets/controls",
          "model_name": "HBoxModel",
          "state": {
            "_view_name": "HBoxView",
            "_dom_classes": [],
            "_model_name": "HBoxModel",
            "_view_module": "@jupyter-widgets/controls",
            "_model_module_version": "1.5.0",
            "_view_count": null,
            "_view_module_version": "1.5.0",
            "box_style": "",
            "layout": "IPY_MODEL_c19561b708af4802bae8c6adfc241a21",
            "_model_module": "@jupyter-widgets/controls",
            "children": [
              "IPY_MODEL_84d6ec706fec417b9cc9783cbf565b3c",
              "IPY_MODEL_be3f50d6cb284cc79ab17cfaa0476d9a"
            ]
          }
        },
        "c19561b708af4802bae8c6adfc241a21": {
          "model_module": "@jupyter-widgets/base",
          "model_name": "LayoutModel",
          "state": {
            "_view_name": "LayoutView",
            "grid_template_rows": null,
            "right": null,
            "justify_content": null,
            "_view_module": "@jupyter-widgets/base",
            "overflow": null,
            "_model_module_version": "1.2.0",
            "_view_count": null,
            "flex_flow": null,
            "width": null,
            "min_width": null,
            "border": null,
            "align_items": null,
            "bottom": null,
            "_model_module": "@jupyter-widgets/base",
            "top": null,
            "grid_column": null,
            "overflow_y": null,
            "overflow_x": null,
            "grid_auto_flow": null,
            "grid_area": null,
            "grid_template_columns": null,
            "flex": null,
            "_model_name": "LayoutModel",
            "justify_items": null,
            "grid_row": null,
            "max_height": null,
            "align_content": null,
            "visibility": null,
            "align_self": null,
            "height": null,
            "min_height": null,
            "padding": null,
            "grid_auto_rows": null,
            "grid_gap": null,
            "max_width": null,
            "order": null,
            "_view_module_version": "1.2.0",
            "grid_template_areas": null,
            "object_position": null,
            "object_fit": null,
            "grid_auto_columns": null,
            "margin": null,
            "display": null,
            "left": null
          }
        },
        "84d6ec706fec417b9cc9783cbf565b3c": {
          "model_module": "@jupyter-widgets/controls",
          "model_name": "FloatProgressModel",
          "state": {
            "_view_name": "ProgressView",
            "style": "IPY_MODEL_7a13bb0096444ad9b77283fcd791dbfa",
            "_dom_classes": [],
            "description": "EPOCHS 0015: 100%",
            "_model_name": "FloatProgressModel",
            "bar_style": "success",
            "max": 668,
            "_view_module": "@jupyter-widgets/controls",
            "_model_module_version": "1.5.0",
            "value": 668,
            "_view_count": null,
            "_view_module_version": "1.5.0",
            "orientation": "horizontal",
            "min": 0,
            "description_tooltip": null,
            "_model_module": "@jupyter-widgets/controls",
            "layout": "IPY_MODEL_7d02b89a87b0449b9aaef33605c82dfd"
          }
        },
        "be3f50d6cb284cc79ab17cfaa0476d9a": {
          "model_module": "@jupyter-widgets/controls",
          "model_name": "HTMLModel",
          "state": {
            "_view_name": "HTMLView",
            "style": "IPY_MODEL_12830a18494d484c902ce0b9e03872e9",
            "_dom_classes": [],
            "description": "",
            "_model_name": "HTMLModel",
            "placeholder": "​",
            "_view_module": "@jupyter-widgets/controls",
            "_model_module_version": "1.5.0",
            "value": " 668/668 [00:02&lt;00:00, 310.29it/s]",
            "_view_count": null,
            "_view_module_version": "1.5.0",
            "description_tooltip": null,
            "_model_module": "@jupyter-widgets/controls",
            "layout": "IPY_MODEL_3c0376062dc741018e89108c045a9ebe"
          }
        },
        "7a13bb0096444ad9b77283fcd791dbfa": {
          "model_module": "@jupyter-widgets/controls",
          "model_name": "ProgressStyleModel",
          "state": {
            "_view_name": "StyleView",
            "_model_name": "ProgressStyleModel",
            "description_width": "initial",
            "_view_module": "@jupyter-widgets/base",
            "_model_module_version": "1.5.0",
            "_view_count": null,
            "_view_module_version": "1.2.0",
            "bar_color": null,
            "_model_module": "@jupyter-widgets/controls"
          }
        },
        "7d02b89a87b0449b9aaef33605c82dfd": {
          "model_module": "@jupyter-widgets/base",
          "model_name": "LayoutModel",
          "state": {
            "_view_name": "LayoutView",
            "grid_template_rows": null,
            "right": null,
            "justify_content": null,
            "_view_module": "@jupyter-widgets/base",
            "overflow": null,
            "_model_module_version": "1.2.0",
            "_view_count": null,
            "flex_flow": null,
            "width": null,
            "min_width": null,
            "border": null,
            "align_items": null,
            "bottom": null,
            "_model_module": "@jupyter-widgets/base",
            "top": null,
            "grid_column": null,
            "overflow_y": null,
            "overflow_x": null,
            "grid_auto_flow": null,
            "grid_area": null,
            "grid_template_columns": null,
            "flex": null,
            "_model_name": "LayoutModel",
            "justify_items": null,
            "grid_row": null,
            "max_height": null,
            "align_content": null,
            "visibility": null,
            "align_self": null,
            "height": null,
            "min_height": null,
            "padding": null,
            "grid_auto_rows": null,
            "grid_gap": null,
            "max_width": null,
            "order": null,
            "_view_module_version": "1.2.0",
            "grid_template_areas": null,
            "object_position": null,
            "object_fit": null,
            "grid_auto_columns": null,
            "margin": null,
            "display": null,
            "left": null
          }
        },
        "12830a18494d484c902ce0b9e03872e9": {
          "model_module": "@jupyter-widgets/controls",
          "model_name": "DescriptionStyleModel",
          "state": {
            "_view_name": "StyleView",
            "_model_name": "DescriptionStyleModel",
            "description_width": "",
            "_view_module": "@jupyter-widgets/base",
            "_model_module_version": "1.5.0",
            "_view_count": null,
            "_view_module_version": "1.2.0",
            "_model_module": "@jupyter-widgets/controls"
          }
        },
        "3c0376062dc741018e89108c045a9ebe": {
          "model_module": "@jupyter-widgets/base",
          "model_name": "LayoutModel",
          "state": {
            "_view_name": "LayoutView",
            "grid_template_rows": null,
            "right": null,
            "justify_content": null,
            "_view_module": "@jupyter-widgets/base",
            "overflow": null,
            "_model_module_version": "1.2.0",
            "_view_count": null,
            "flex_flow": null,
            "width": null,
            "min_width": null,
            "border": null,
            "align_items": null,
            "bottom": null,
            "_model_module": "@jupyter-widgets/base",
            "top": null,
            "grid_column": null,
            "overflow_y": null,
            "overflow_x": null,
            "grid_auto_flow": null,
            "grid_area": null,
            "grid_template_columns": null,
            "flex": null,
            "_model_name": "LayoutModel",
            "justify_items": null,
            "grid_row": null,
            "max_height": null,
            "align_content": null,
            "visibility": null,
            "align_self": null,
            "height": null,
            "min_height": null,
            "padding": null,
            "grid_auto_rows": null,
            "grid_gap": null,
            "max_width": null,
            "order": null,
            "_view_module_version": "1.2.0",
            "grid_template_areas": null,
            "object_position": null,
            "object_fit": null,
            "grid_auto_columns": null,
            "margin": null,
            "display": null,
            "left": null
          }
        }
      }
    }
  },
  "cells": [
    {
      "cell_type": "markdown",
      "metadata": {
        "id": "LLLF8bc0WFpj"
      },
      "source": [
        "# **1. Importing Libraries**"
      ]
    },
    {
      "cell_type": "code",
      "metadata": {
        "id": "qcOy13bz4nCN",
        "colab": {
          "base_uri": "https://localhost:8080/"
        },
        "outputId": "5d5166c5-256f-498c-aa28-056e417c0f6b"
      },
      "source": [
        "import tensorflow as tf\n",
        "from tensorflow.keras.preprocessing.text import Tokenizer\n",
        "from tensorflow.keras.preprocessing.sequence import pad_sequences\n",
        "from tensorflow.keras.layers import Dense, Embedding, Dropout, GlobalMaxPooling1D, GlobalAveragePooling1D\n",
        "from tqdm.notebook import tqdm\n",
        "from sklearn.model_selection import train_test_split\n",
        "import matplotlib.pyplot as plt\n",
        "import pandas as pd\n",
        "import json\n",
        "tf.version\n"
      ],
      "execution_count": 40,
      "outputs": [
        {
          "output_type": "execute_result",
          "data": {
            "text/plain": [
              "<module 'tensorflow._api.v2.version' from '/usr/local/lib/python3.7/dist-packages/tensorflow/_api/v2/version/__init__.py'>"
            ]
          },
          "metadata": {
            "tags": []
          },
          "execution_count": 40
        }
      ]
    },
    {
      "cell_type": "markdown",
      "metadata": {
        "id": "dLJHu4d3Xs_c"
      },
      "source": [
        "# **2. Procesing Data**"
      ]
    },
    {
      "cell_type": "code",
      "metadata": {
        "colab": {
          "base_uri": "https://localhost:8080/"
        },
        "id": "9_C0XA10gbE8",
        "outputId": "a7066b74-8d39-4453-a680-33b645ff52eb"
      },
      "source": [
        "!wget --no-check-certificate \\\n",
        "    https://storage.googleapis.com/laurencemoroney-blog.appspot.com/sarcasm.json \\\n",
        "    -O /tmp/sarcasm.json"
      ],
      "execution_count": 41,
      "outputs": [
        {
          "output_type": "stream",
          "text": [
            "--2021-04-09 16:20:01--  https://storage.googleapis.com/laurencemoroney-blog.appspot.com/sarcasm.json\n",
            "Resolving storage.googleapis.com (storage.googleapis.com)... 108.177.125.128, 74.125.204.128, 64.233.189.128, ...\n",
            "Connecting to storage.googleapis.com (storage.googleapis.com)|108.177.125.128|:443... connected.\n",
            "HTTP request sent, awaiting response... 200 OK\n",
            "Length: 5643545 (5.4M) [application/json]\n",
            "Saving to: ‘/tmp/sarcasm.json’\n",
            "\n",
            "/tmp/sarcasm.json   100%[===================>]   5.38M  --.-KB/s    in 0.03s   \n",
            "\n",
            "2021-04-09 16:20:01 (158 MB/s) - ‘/tmp/sarcasm.json’ saved [5643545/5643545]\n",
            "\n"
          ],
          "name": "stdout"
        }
      ]
    },
    {
      "cell_type": "markdown",
      "metadata": {
        "id": "6aH0n4AdxRWC"
      },
      "source": [
        "###### **Loading and spliting Data**"
      ]
    },
    {
      "cell_type": "code",
      "metadata": {
        "colab": {
          "base_uri": "https://localhost:8080/"
        },
        "id": "wefQFbZ9X5UB",
        "outputId": "1369a2b5-a2e6-4df2-e448-5c90dc20aeda"
      },
      "source": [
        "df = pd.read_json('/tmp/sarcasm.json')\n",
        "df.columns"
      ],
      "execution_count": 42,
      "outputs": [
        {
          "output_type": "execute_result",
          "data": {
            "text/plain": [
              "Index(['article_link', 'headline', 'is_sarcastic'], dtype='object')"
            ]
          },
          "metadata": {
            "tags": []
          },
          "execution_count": 42
        }
      ]
    },
    {
      "cell_type": "code",
      "metadata": {
        "colab": {
          "base_uri": "https://localhost:8080/"
        },
        "id": "UXtSvqgOcqYr",
        "outputId": "2f71e82f-3691-4469-f60e-780a03fe7e78"
      },
      "source": [
        "len(df)"
      ],
      "execution_count": 43,
      "outputs": [
        {
          "output_type": "execute_result",
          "data": {
            "text/plain": [
              "26709"
            ]
          },
          "metadata": {
            "tags": []
          },
          "execution_count": 43
        }
      ]
    },
    {
      "cell_type": "code",
      "metadata": {
        "id": "Fx0PVEua1W_D"
      },
      "source": [
        "label = df['is_sarcastic']\n",
        "sentences = df['headline']\n",
        "X_train, X_test, y_train, y_test = train_test_split(sentences, label, test_size=0.2)"
      ],
      "execution_count": 44,
      "outputs": []
    },
    {
      "cell_type": "markdown",
      "metadata": {
        "id": "ZKC2Ys_ZxbBW"
      },
      "source": [
        "###### **Tokenizing Data**"
      ]
    },
    {
      "cell_type": "code",
      "metadata": {
        "colab": {
          "base_uri": "https://localhost:8080/"
        },
        "id": "IM-_BFp-v8oy",
        "outputId": "015fcfc7-2abb-4cd7-8ece-53c59e2ac396"
      },
      "source": [
        "\n",
        "tokenizer = Tokenizer(num_words=10000, oov_token='<OOV>')\n",
        "tokenizer.fit_on_texts(X_train)\n",
        "word_index = tokenizer.word_index\n",
        "print(word_index)\n"
      ],
      "execution_count": 45,
      "outputs": [
        {
          "output_type": "stream",
          "text": [
            "{'<OOV>': 1, 'to': 2, 'of': 3, 'the': 4, 'in': 5, 'for': 6, 'a': 7, 'on': 8, 'and': 9, 'with': 10, 'is': 11, 'new': 12, 'trump': 13, 'man': 14, 'from': 15, 'at': 16, 'about': 17, 'you': 18, 'by': 19, 'this': 20, 'be': 21, 'out': 22, 'after': 23, 'up': 24, 'how': 25, 'as': 26, 'that': 27, 'it': 28, 'not': 29, 'are': 30, 'your': 31, 'his': 32, 'what': 33, 'he': 34, 'just': 35, 'who': 36, 'has': 37, 'all': 38, 'will': 39, 'more': 40, 'year': 41, 'one': 42, 'report': 43, 'why': 44, 'into': 45, 'area': 46, 'over': 47, 'u': 48, 'have': 49, 'donald': 50, 's': 51, 'day': 52, 'says': 53, 'can': 54, 'woman': 55, 'first': 56, 'like': 57, 'time': 58, \"trump's\": 59, 'old': 60, 'her': 61, 'no': 62, 'get': 63, 'off': 64, 'an': 65, 'people': 66, 'obama': 67, 'now': 68, 'life': 69, 'house': 70, 'make': 71, \"'\": 72, 'than': 73, 'still': 74, 'back': 75, 'was': 76, 'i': 77, 'my': 78, 'women': 79, 'white': 80, 'clinton': 81, 'down': 82, '5': 83, 'when': 84, 'if': 85, 'world': 86, 'before': 87, 'could': 88, 'we': 89, 'americans': 90, 'their': 91, 'family': 92, 'do': 93, 'way': 94, 'they': 95, 'black': 96, 'most': 97, 'so': 98, 'gop': 99, 'should': 100, 'years': 101, 'bill': 102, 'school': 103, 'study': 104, 'him': 105, 'would': 106, 'police': 107, 'being': 108, \"it's\": 109, '10': 110, 'last': 111, 'best': 112, 'american': 113, 'but': 114, 'only': 115, '3': 116, 'know': 117, \"can't\": 118, 'going': 119, 'home': 120, 'death': 121, 'state': 122, 'watch': 123, 'video': 124, 'health': 125, 'or': 126, 'during': 127, 'good': 128, 'show': 129, \"'the\": 130, 'nation': 131, 'hillary': 132, 'finds': 133, 'president': 134, 'every': 135, 'need': 136, 'campaign': 137, 'say': 138, 'really': 139, '000': 140, 'may': 141, '2': 142, 'getting': 143, 'things': 144, 'love': 145, 'right': 146, 'she': 147, 'mom': 148, 'these': 149, 'too': 150, 'big': 151, 'work': 152, 'change': 153, 'take': 154, 'party': 155, 'gets': 156, 'against': 157, 'court': 158, 'john': 159, 'our': 160, \"doesn't\": 161, 'self': 162, 'some': 163, 'high': 164, 'kids': 165, 'little': 166, '4': 167, '7': 168, 'makes': 169, 'america': 170, 'through': 171, 'child': 172, 'parents': 173, 'dead': 174, 'takes': 175, 'news': 176, 'election': 177, \"here's\": 178, \"don't\": 179, 'while': 180, 'gay': 181, 'next': 182, 'own': 183, 'look': 184, 'never': 185, 'office': 186, 'want': 187, 'calls': 188, 'other': 189, 'see': 190, 'even': 191, 'real': 192, 'local': 193, 'made': 194, 'its': 195, '6': 196, 'sex': 197, \"nation's\": 198, 'college': 199, 'dad': 200, 'war': 201, 'go': 202, 'again': 203, 'baby': 204, 'stop': 205, 'where': 206, 'thing': 207, 'got': 208, 'bush': 209, 'million': 210, \"he's\": 211, 'another': 212, 'help': 213, 'two': 214, 'guy': 215, 'debate': 216, 'dog': 217, 'wants': 218, 'around': 219, 'week': 220, 'actually': 221, 'them': 222, 'ever': 223, 'much': 224, 'care': 225, 'gun': 226, 'plan': 227, 'congress': 228, 'us': 229, 'finally': 230, 'climate': 231, 'long': 232, 'under': 233, 'night': 234, '1': 235, 'making': 236, \"man's\": 237, 'star': 238, '9': 239, 'top': 240, 'been': 241, '20': 242, 'north': 243, 'money': 244, 'job': 245, 'better': 246, 'season': 247, 'face': 248, 'ways': 249, '8': 250, 'shows': 251, 'senate': 252, 'sexual': 253, 'give': 254, 'had': 255, 'paul': 256, 'government': 257, 'anti': 258, 'live': 259, 'there': 260, 'attack': 261, \"won't\": 262, 'god': 263, 'reveals': 264, 'media': 265, 'end': 266, 'fight': 267, 'teen': 268, 'food': 269, 'story': 270, 'facebook': 271, 'men': 272, 'movie': 273, 'supreme': 274, 'game': 275, 'business': 276, 'announces': 277, 'national': 278, 'tv': 279, 'away': 280, 'york': 281, 'second': 282, 'bad': 283, 'think': 284, 'fire': 285, 'shooting': 286, 'children': 287, 'law': 288, 'free': 289, 'introduces': 290, 'history': 291, 'city': 292, 'trying': 293, '11': 294, 'me': 295, 'everyone': 296, 'enough': 297, 'body': 298, 'couple': 299, 'former': 300, 'deal': 301, 'students': 302, 'found': 303, 'entire': 304, 'wedding': 305, 'friend': 306, 'film': 307, 'part': 308, 'photos': 309, 'any': 310, 'keep': 311, 'must': 312, 'single': 313, 'friends': 314, 'son': 315, 'pope': 316, 'morning': 317, 'car': 318, 'support': 319, 'already': 320, 'come': 321, 'without': 322, 'same': 323, 'republican': 324, 'great': 325, 'tell': 326, 'thinks': 327, 'book': 328, 'looking': 329, 'republicans': 330, 'marriage': 331, 'open': 332, 'does': 333, 'middle': 334, 'presidential': 335, 'find': 336, 'email': 337, 'talk': 338, 'releases': 339, 'use': 340, 'line': 341, 'tax': 342, \"didn't\": 343, 'james': 344, 'between': 345, 'call': 346, 'girl': 347, 'sanders': 348, 'company': 349, 'security': 350, 'once': 351, 'power': 352, 'asks': 353, 'future': 354, 'human': 355, 'rights': 356, 'poll': 357, 'ad': 358, 'department': 359, 'coming': 360, 'pretty': 361, 'name': 362, 'violence': 363, '2016': 364, 'public': 365, 'democrats': 366, 'case': 367, 'win': 368, 'team': 369, 'group': 370, 'used': 371, 'christmas': 372, 'speech': 373, 'many': 374, 'behind': 375, 'sure': 376, 'student': 377, 'fans': 378, 'something': 379, '12': 380, 'meet': 381, 'three': 382, 'killed': 383, 'teacher': 384, 'always': 385, 'voters': 386, 'country': 387, 'goes': 388, 'post': 389, 'run': 390, \"world's\": 391, 'might': 392, 'ban': 393, 'minutes': 394, 'twitter': 395, 'forced': 396, 'here': 397, 'secret': 398, 'full': 399, 'reports': 400, 'vote': 401, 'looks': 402, 'female': 403, 'running': 404, 'room': 405, 'perfect': 406, 'super': 407, 'summer': 408, 'race': 409, 'red': 410, 'ryan': 411, 'record': 412, 'music': 413, 'having': 414, 'bernie': 415, 'days': 416, 'missing': 417, 'judge': 418, 'pay': 419, 'michael': 420, 'justice': 421, 'person': 422, 'lives': 423, 'taking': 424, 'shot': 425, 'unveils': 426, 'control': 427, 'everything': 428, 'doing': 429, 'because': 430, 'secretary': 431, 'warns': 432, 'social': 433, 'wife': 434, 'candidate': 435, 'put': 436, 'class': 437, 'let': 438, 'inside': 439, 'crisis': 440, 'plans': 441, 'ready': 442, '15': 443, 'romney': 444, 'tells': 445, 'art': 446, 'until': 447, 'father': 448, 'dies': 449, 'scientists': 450, 'living': 451, 'each': 452, 'talks': 453, 'california': 454, 'hours': 455, 'cruz': 456, 'photo': 457, '30': 458, 'yet': 459, 'employee': 460, 'needs': 461, 'set': 462, 'head': 463, 'left': 464, 'wrong': 465, 'ceo': 466, 'obamacare': 467, 'were': 468, \"i'm\": 469, 'past': 470, 'boy': 471, 'idea': 472, 'political': 473, 'thought': 474, 'very': 475, 'save': 476, 'russia': 477, 'word': 478, 'month': 479, 'mother': 480, 'age': 481, 'texas': 482, 'eating': 483, \"'i\": 484, 'hot': 485, 'kill': 486, 'attacks': 487, 'south': 488, 'phone': 489, '50': 490, 'daughter': 491, 'list': 492, 'drug': 493, 'did': 494, 'order': 495, 'korea': 496, 'kim': 497, 'claims': 498, 'tips': 499, 'street': 500, 'heart': 501, 'tweets': 502, 'water': 503, 'town': 504, 'ex': 505, 'states': 506, 'meeting': 507, 'comes': 508, 'believe': 509, 'young': 510, 'half': 511, 'gives': 512, 'feel': 513, 'george': 514, 'admits': 515, 'mike': 516, 'king': 517, \"women's\": 518, 'times': 519, 'working': 520, 'mark': 521, 'those': 522, 'march': 523, 'stephen': 524, 'start': 525, 'letter': 526, 'few': 527, 'well': 528, 'problem': 529, 'thousands': 530, 'fbi': 531, 'nuclear': 532, 'probably': 533, 'small': 534, 'wall': 535, 'earth': 536, 'education': 537, 'breaking': 538, 'community': 539, 'federal': 540, 'ted': 541, 'washington': 542, 'sleep': 543, '2015': 544, 'questions': 545, 'administration': 546, 'owner': 547, 'chief': 548, 'percent': 549, \"what's\": 550, 'online': 551, 'military': 552, 'someone': 553, 'biden': 554, 'different': 555, 'service': 556, 'leaves': 557, 'reason': 558, 't': 559, 'talking': 560, 'buy': 561, 'giving': 562, 'hollywood': 563, 'series': 564, 'offers': 565, 'isis': 566, 'lot': 567, 'dream': 568, 'special': 569, 'holiday': 570, 'less': 571, 'watching': 572, 'restaurant': 573, 'fan': 574, 'hard': 575, 'wins': 576, 'director': 577, 'nothing': 578, 'lost': 579, 'rules': 580, 'air': 581, \"isn't\": 582, 'cat': 583, \"you're\": 584, 'rock': 585, 'protest': 586, 'whole': 587, 'together': 588, 'third': 589, 'message': 590, 'hour': 591, 'fun': 592, 'celebrates': 593, 'majority': 594, 'girls': 595, 'abortion': 596, 'reasons': 597, 'visit': 598, 'officials': 599, 'system': 600, 'personal': 601, 'ask': 602, 'prison': 603, \"america's\": 604, 'cancer': 605, 'wearing': 606, 'move': 607, \"she's\": 608, 'francis': 609, 'ice': 610, 'birthday': 611, 'read': 612, 'david': 613, 'told': 614, 'iran': 615, 'issues': 616, 'congressman': 617, 'chinese': 618, 'leave': 619, 'chris': 620, 'florida': 621, 'muslim': 622, 'leaders': 623, 'dance': 624, 'relationship': 625, 'today': 626, 'beautiful': 627, 'girlfriend': 628, 'fucking': 629, 'happy': 630, 'latest': 631, 'place': 632, 'trailer': 633, 'career': 634, 'scott': 635, 'syria': 636, 'russian': 637, 'taylor': 638, 'non': 639, 'interview': 640, 'cop': 641, 'moment': 642, 'internet': 643, 'following': 644, 'outside': 645, 'hate': 646, 'union': 647, 'accused': 648, 'bar': 649, 'almost': 650, 'hope': 651, 'months': 652, 'powerful': 653, 'assault': 654, 'tom': 655, 'turn': 656, 'huge': 657, 'front': 658, 'play': 659, 'birth': 660, 'driving': 661, 'sign': 662, 'die': 663, '100': 664, 'billion': 665, 'point': 666, 'gift': 667, 'adorable': 668, 'apple': 669, 'stand': 670, 'k': 671, 'excited': 672, 'seen': 673, 'since': 674, 'kid': 675, 'al': 676, 'rise': 677, 'killing': 678, 'date': 679, 'true': 680, 'lessons': 681, 'knows': 682, 'cops': 683, 'shit': 684, 'style': 685, 'dating': 686, 'guide': 687, 'breaks': 688, 'hits': 689, 'store': 690, 'huffpost': 691, 'leader': 692, 'travel': 693, 'jimmy': 694, 'democratic': 695, 'himself': 696, 'immigration': 697, 'cover': 698, 'kind': 699, 'hair': 700, 'minute': 701, 'trip': 702, 'fox': 703, 'straight': 704, 'near': 705, 'anything': 706, 'millions': 707, 'box': 708, 'waiting': 709, 'investigation': 710, 'far': 711, 'murder': 712, 'opens': 713, 'oil': 714, 'conversation': 715, 'stars': 716, 'weekend': 717, 'spends': 718, 'hands': 719, 'least': 720, 'across': 721, 'joe': 722, 'hit': 723, 'c': 724, 'called': 725, 'massive': 726, 'thinking': 727, 'cut': 728, 'favorite': 729, 'industry': 730, 'response': 731, 'late': 732, 'fall': 733, 'politics': 734, 'prince': 735, 'drunk': 736, 'trans': 737, 'reform': 738, \"they're\": 739, '40': 740, 'low': 741, 'mind': 742, 'break': 743, 'policy': 744, 'workers': 745, 'jr': 746, 'brings': 747, 'awards': 748, 'become': 749, 'learned': 750, 'crash': 751, 'victims': 752, 'turns': 753, 'stage': 754, 'candidates': 755, 'worried': 756, 'lgbt': 757, 'mass': 758, 'bring': 759, 'dinner': 760, 'using': 761, 'schools': 762, 'light': 763, 'j': 764, 'planned': 765, 'decision': 766, 'test': 767, 'syrian': 768, 'worst': 769, 'queer': 770, 'sports': 771, 'risk': 772, 'bus': 773, 'song': 774, 'completely': 775, 'iowa': 776, 'side': 777, 'adds': 778, 'hoping': 779, 'united': 780, 'oscar': 781, 'struggling': 782, 'lead': 783, \"obama's\": 784, 'puts': 785, 'cool': 786, 'keeps': 787, 'key': 788, 'success': 789, 'words': 790, 'early': 791, 'reality': 792, 'final': 793, 'suicide': 794, 'fashion': 795, 'colbert': 796, '13': 797, 'weird': 798, 'lose': 799, 'space': 800, 'oscars': 801, 'program': 802, 'number': 803, 'halloween': 804, 'coworker': 805, 'un': 806, 'names': 807, 'audience': 808, 'data': 809, 'act': 810, 'rubio': 811, '2017': 812, 'given': 813, 'important': 814, 'host': 815, 'door': 816, 'advice': 817, 'totally': 818, '2014': 819, 'center': 820, 'ben': 821, 'check': 822, 'building': 823, 'five': 824, 'israel': 825, 'governor': 826, 'amazon': 827, 'simple': 828, 'anniversary': 829, 'experience': 830, 'kardashian': 831, 'sick': 832, 'nyc': 833, 'returns': 834, 'feels': 835, 'pence': 836, 'executive': 837, 'close': 838, 'hand': 839, 'hurricane': 840, 'global': 841, 'mental': 842, 'worth': 843, 'longer': 844, 'which': 845, 'transgender': 846, 'reportedly': 847, 'carolina': 848, 'eat': 849, 'clearly': 850, 'michelle': 851, 'williams': 852, 'abuse': 853, 'employees': 854, 'marijuana': 855, 'google': 856, 'opening': 857, 'starting': 858, 'vows': 859, 'senator': 860, 'chicago': 861, \"there's\": 862, 'kills': 863, 'iraq': 864, 'chance': 865, 'spot': 866, 'crime': 867, 'china': 868, 'beauty': 869, 'urges': 870, 'results': 871, 'playing': 872, 'spring': 873, 'rally': 874, 'hear': 875, 'role': 876, 'apartment': 877, 'magazine': 878, 'push': 879, 'west': 880, 'weight': 881, 'poor': 882, 'nfl': 883, 'demands': 884, 'defense': 885, 'major': 886, 'dying': 887, 'steve': 888, 'peace': 889, 'biggest': 890, 'd': 891, 'return': 892, 'action': 893, 'fails': 894, 'officer': 895, 'moms': 896, 'supporters': 897, 'deadly': 898, 'apologizes': 899, 'moving': 900, 'football': 901, 'humans': 902, 'voting': 903, 'card': 904, 'happened': 905, 'signs': 906, 'easy': 907, 'cnn': 908, 'surprise': 909, 'leads': 910, 'epa': 911, 'loss': 912, 'coffee': 913, 'fighting': 914, 'demand': 915, 'sales': 916, 'homeless': 917, 'shares': 918, 'official': 919, 'picture': 920, 'problems': 921, 'toward': 922, 'economy': 923, 'celebrate': 924, 'fuck': 925, 'wait': 926, \"year's\": 927, 'ferguson': 928, 'paris': 929, 'train': 930, 'road': 931, 'jobs': 932, 'refugees': 933, 'robert': 934, 'question': 935, 'commercial': 936, 'died': 937, 'threat': 938, '18': 939, 'discover': 940, 'university': 941, 'whether': 942, 'responds': 943, 'olympic': 944, 'finding': 945, 'jenner': 946, 'address': 947, 'force': 948, 'try': 949, 'teens': 950, 'male': 951, 'suspect': 952, 'matter': 953, 'board': 954, 'hilarious': 955, 'congressional': 956, 'reveal': 957, 'wishes': 958, 'leading': 959, 'healthy': 960, 'tech': 961, 'pro': 962, 'learn': 963, 'went': 964, 'culture': 965, 'harassment': 966, 'hopes': 967, 'fear': 968, 'kerry': 969, 'voice': 970, 'christian': 971, 'youth': 972, 'private': 973, 'likely': 974, 'mean': 975, 'lgbtq': 976, 'asking': 977, 'suggests': 978, 'voter': 979, 'historical': 980, 'energy': 981, 'uses': 982, 'avoid': 983, 'eyes': 984, 'swift': 985, 'members': 986, 'happens': 987, 'anyone': 988, 'steps': 989, 'moore': 990, 'mayor': 991, 'nasa': 992, 'hall': 993, 'table': 994, 'band': 995, 'east': 996, 'short': 997, 'four': 998, 'battle': 999, 'green': 1000, 'pick': 1001, 'bowl': 1002, 'beer': 1003, 'daily': 1004, 'quietly': 1005, 'spend': 1006, 'cities': 1007, 'bob': 1008, 'retirement': 1009, 'prevent': 1010, 'truth': 1011, 'trade': 1012, 'racist': 1013, 'science': 1014, 'airport': 1015, 'walk': 1016, \"aren't\": 1017, 'martin': 1018, 'pizza': 1019, 'tweet': 1020, 'skin': 1021, 'co': 1022, 'allegations': 1023, 'receives': 1024, \"hasn't\": 1025, 'eye': 1026, 'flight': 1027, 'afghanistan': 1028, 'manager': 1029, 'honor': 1030, 'gave': 1031, 'planet': 1032, 'tour': 1033, 'press': 1034, 'begins': 1035, 'protesters': 1036, 'despite': 1037, 'fake': 1038, 'tries': 1039, 'driver': 1040, 'worse': 1041, \"who's\": 1042, 'reminds': 1043, 'artist': 1044, 'budget': 1045, 'grandma': 1046, 'apparently': 1047, 'website': 1048, \"let's\": 1049, 'album': 1050, 'remember': 1051, 'amid': 1052, 'plane': 1053, 'possible': 1054, 'boys': 1055, 'movies': 1056, 'deep': 1057, 'harvey': 1058, 'arrested': 1059, 'kelly': 1060, 'users': 1061, 'dress': 1062, 'church': 1063, 'also': 1064, 'explains': 1065, 'pregnant': 1066, \"we're\": 1067, 'medical': 1068, 'proud': 1069, 'incredible': 1070, 'crowd': 1071, 'chicken': 1072, 'jones': 1073, 'slams': 1074, 'senators': 1075, 'dark': 1076, 'ebola': 1077, 'desperate': 1078, 'legal': 1079, 'ideas': 1080, 'harry': 1081, 'lets': 1082, 'older': 1083, 'winter': 1084, 'hundreds': 1085, 'cold': 1086, 'said': 1087, 'jeb': 1088, 'sean': 1089, 'shop': 1090, 'attempt': 1091, 'send': 1092, \"mother's\": 1093, 'bathroom': 1094, 'repeal': 1095, 'rest': 1096, 'labor': 1097, '17': 1098, 'refugee': 1099, 'reporter': 1100, 'reading': 1101, 'residents': 1102, 'holding': 1103, 'divorce': 1104, 'pull': 1105, 'amazing': 1106, 'fast': 1107, 'rape': 1108, 'hero': 1109, 'queen': 1110, 'sound': 1111, 'eric': 1112, 'telling': 1113, 'worker': 1114, 'votes': 1115, 'general': 1116, 'done': 1117, 'nearly': 1118, 'performance': 1119, '25': 1120, 'soon': 1121, 'toddler': 1122, 'stories': 1123, 'documentary': 1124, 'financial': 1125, 'course': 1126, 'realizes': 1127, '14': 1128, 'wish': 1129, 'fired': 1130, 'husband': 1131, 'actor': 1132, 'stunning': 1133, 'bear': 1134, 'taken': 1135, 'event': 1136, 'extra': 1137, 'learning': 1138, 'immigrants': 1139, 'perfectly': 1140, 'marketing': 1141, 'evidence': 1142, 'committee': 1143, 'faces': 1144, \"that's\": 1145, 'boss': 1146, 'tired': 1147, 'moves': 1148, 'focus': 1149, 'comey': 1150, 'passes': 1151, 'doctor': 1152, 'according': 1153, 'enters': 1154, 'elizabeth': 1155, 'leaving': 1156, 'am': 1157, \"'snl'\": 1158, 'color': 1159, 'activists': 1160, 'forward': 1161, 'mexican': 1162, 'johnson': 1163, 'putting': 1164, 'dreams': 1165, 'netflix': 1166, 'thanks': 1167, 'books': 1168, 'primary': 1169, 'dnc': 1170, 'giant': 1171, 'emotional': 1172, 'track': 1173, 'gold': 1174, 'create': 1175, 'fda': 1176, 'popular': 1177, 'doctors': 1178, 'ago': 1179, 'six': 1180, 'clean': 1181, 'loved': 1182, 'comments': 1183, 'warning': 1184, 'jennifer': 1185, 'market': 1186, 'update': 1187, 'sees': 1188, 'award': 1189, 'vacation': 1190, \"'we\": 1191, 'share': 1192, 'convention': 1193, 'carpet': 1194, 'miss': 1195, 'puerto': 1196, 'foreign': 1197, 'viral': 1198, 'changing': 1199, 'depression': 1200, 'cast': 1201, 'protect': 1202, 'guns': 1203, \"shouldn't\": 1204, 'met': 1205, 'paid': 1206, 'trial': 1207, 'walking': 1208, 'explain': 1209, 'wondering': 1210, 'dozens': 1211, 'inspired': 1212, 'archives': 1213, 'lady': 1214, 'rich': 1215, 'putin': 1216, 'funding': 1217, 'promises': 1218, 'staff': 1219, 'network': 1220, 'cia': 1221, \"woman's\": 1222, 'mexico': 1223, 'hospital': 1224, 'speaks': 1225, 'throws': 1226, 'among': 1227, 'form': 1228, \"father's\": 1229, 'san': 1230, 'raise': 1231, 'launches': 1232, \"'star\": 1233, 'somehow': 1234, 'sends': 1235, 'jeff': 1236, 'changes': 1237, 'works': 1238, 'stress': 1239, 'release': 1240, 'suit': 1241, 'pre': 1242, 'airlines': 1243, 'border': 1244, 'numbers': 1245, 'claim': 1246, 'loses': 1247, 'tree': 1248, 'level': 1249, 'came': 1250, 'threatens': 1251, 'announce': 1252, 'pregnancy': 1253, 'controversial': 1254, 'feeling': 1255, 'pass': 1256, 'movement': 1257, 'refuses': 1258, 'justin': 1259, 'st': 1260, 'louis': 1261, 'fit': 1262, 'concerned': 1263, 'ahead': 1264, 'unable': 1265, 'ceremony': 1266, 'review': 1267, 'points': 1268, 'failure': 1269, 'launch': 1270, 'turkey': 1271, 'named': 1272, 'boyfriend': 1273, 'hearing': 1274, 'protests': 1275, 'wanted': 1276, 'saying': 1277, 'surprised': 1278, 'asked': 1279, 'virginia': 1280, 'magical': 1281, \"you'll\": 1282, 'shirt': 1283, 'ohio': 1284, 'breakfast': 1285, 'seeing': 1286, 'blood': 1287, 'racism': 1288, 'royal': 1289, 'common': 1290, 'neighborhood': 1291, 'lunch': 1292, 'museum': 1293, 'marco': 1294, 'clear': 1295, 'recalls': 1296, 'sweet': 1297, 'london': 1298, 'parenthood': 1299, 'roundup': 1300, 'average': 1301, 'step': 1302, 'jesus': 1303, 'scene': 1304, 'parent': 1305, 'festival': 1306, 'hotel': 1307, 'mccain': 1308, 'onto': 1309, 'jim': 1310, 'writing': 1311, '16': 1312, 'families': 1313, 'safety': 1314, 'meal': 1315, 'nice': 1316, 'weeks': 1317, 'speak': 1318, 'recipes': 1319, 'ride': 1320, 'debt': 1321, 'sad': 1322, 'experts': 1323, 'immigrant': 1324, '200': 1325, 'thanksgiving': 1326, 'm': 1327, 'loves': 1328, 'orders': 1329, '60': 1330, 'guilty': 1331, 'dear': 1332, 'blue': 1333, 'sea': 1334, 'beat': 1335, 'sets': 1336, 'elderly': 1337, 'dressed': 1338, 'bank': 1339, 'player': 1340, 'dangerous': 1341, 'pop': 1342, 'lawyer': 1343, 'charged': 1344, 'choice': 1345, 'drop': 1346, 'mueller': 1347, 'forces': 1348, 'species': 1349, 'helped': 1350, 'guys': 1351, 'ends': 1352, 'terror': 1353, 'senior': 1354, 'domestic': 1355, 'injured': 1356, 'scandal': 1357, 'window': 1358, 'issue': 1359, 'funniest': 1360, \"'a\": 1361, 'paper': 1362, 'aid': 1363, 'park': 1364, 'roy': 1365, 'religious': 1366, 'fifth': 1367, 'allegedly': 1368, 'suddenly': 1369, 'bed': 1370, 'theory': 1371, 'model': 1372, 'cars': 1373, '2018': 1374, 'search': 1375, 'becomes': 1376, 'caught': 1377, 'growing': 1378, 'accidentally': 1379, 'hold': 1380, 'disease': 1381, 'club': 1382, 'golden': 1383, 'citizens': 1384, 'held': 1385, 'empty': 1386, 'brown': 1387, 'heads': 1388, 'rare': 1389, 'beach': 1390, 'chair': 1391, 'tim': 1392, 'episode': 1393, 'iphone': 1394, 'pet': 1395, 'spending': 1396, 'exactly': 1397, 'b': 1398, 'foot': 1399, 'brother': 1400, 'weapons': 1401, 'customers': 1402, 'yes': 1403, 'ring': 1404, 'bird': 1405, 'saudi': 1406, 'fourth': 1407, 'helps': 1408, 'killer': 1409, 'vice': 1410, 'christie': 1411, 'allows': 1412, 'israeli': 1413, 'palestinian': 1414, 'faith': 1415, 'falls': 1416, 'anxiety': 1417, 'stock': 1418, 'app': 1419, 'awesome': 1420, 'century': 1421, 'winning': 1422, 'teachers': 1423, 'recommends': 1424, 'mcconnell': 1425, 'holds': 1426, 'anymore': 1427, 'african': 1428, 'floor': 1429, 'asian': 1430, 'subway': 1431, 'dogs': 1432, 'fair': 1433, 'means': 1434, 'disney': 1435, 'stay': 1436, 'training': 1437, 'insurance': 1438, 'member': 1439, 'trevor': 1440, 'sandwich': 1441, 'vs': 1442, 'celebrity': 1443, 'continue': 1444, 'secrets': 1445, 'credit': 1446, 'hurt': 1447, 'slowly': 1448, 'spent': 1449, 'debuts': 1450, 'vatican': 1451, 'continues': 1452, 'lawsuit': 1453, 'discovered': 1454, 'took': 1455, 'term': 1456, 'researchers': 1457, 'wild': 1458, 'shut': 1459, \"child's\": 1460, 'gas': 1461, 'authorities': 1462, 'disaster': 1463, 'friday': 1464, 'accident': 1465, 'freedom': 1466, 'seconds': 1467, 'access': 1468, 'attempts': 1469, 'stuck': 1470, 'animals': 1471, 'legacy': 1472, 'drinking': 1473, 'cup': 1474, 'e': 1475, 'jay': 1476, 'machine': 1477, 'era': 1478, 'equality': 1479, 'strategy': 1480, 'moon': 1481, 'piece': 1482, 'schumer': 1483, 'burger': 1484, 'digital': 1485, 'shutdown': 1486, 'bag': 1487, 'becoming': 1488, 'won': 1489, 'parenting': 1490, 'runs': 1491, 'mitch': 1492, 'places': 1493, 'heard': 1494, 'gap': 1495, 'crazy': 1496, 'muslims': 1497, 'nba': 1498, 'terrible': 1499, 'instead': 1500, 'mouth': 1501, 'stops': 1502, 'french': 1503, 'ass': 1504, 'silence': 1505, 'research': 1506, 'within': 1507, 'itself': 1508, 'currently': 1509, 'product': 1510, 'boehner': 1511, 'throw': 1512, 'nominee': 1513, 'released': 1514, 'noah': 1515, 'immediately': 1516, 'emergency': 1517, 'turning': 1518, 'grandmother': 1519, 'planning': 1520, 'hell': 1521, 'camp': 1522, 'radio': 1523, 'sense': 1524, 'treatment': 1525, 'brain': 1526, 'complete': 1527, 'price': 1528, 'civil': 1529, 'meat': 1530, 'large': 1531, 'laws': 1532, 'helping': 1533, 'gender': 1534, 'serious': 1535, 'sitting': 1536, 'pride': 1537, 'greatest': 1538, 'parking': 1539, 'safe': 1540, 'pool': 1541, 'else': 1542, 'cheese': 1543, 'violent': 1544, 'target': 1545, 'lee': 1546, 'failed': 1547, 'statue': 1548, 'ruling': 1549, \"mom's\": 1550, 'n': 1551, 'w': 1552, 'then': 1553, 'tiny': 1554, 'per': 1555, 'television': 1556, \"'you\": 1557, 'channel': 1558, 'busy': 1559, 'economic': 1560, 'coworkers': 1561, 'groups': 1562, 'probe': 1563, 'singer': 1564, 'created': 1565, 'comedy': 1566, 'sort': 1567, 'attention': 1568, 'jong': 1569, 'island': 1570, 'likes': 1571, \"'no\": 1572, 'approves': 1573, 'increase': 1574, 'journey': 1575, 'mars': 1576, 'easter': 1577, 'effort': 1578, 'prime': 1579, 'rule': 1580, 'offering': 1581, 'wage': 1582, 'quick': 1583, 'bunch': 1584, 'grader': 1585, 'wake': 1586, 'songs': 1587, 'guest': 1588, 'write': 1589, 'picks': 1590, 'passengers': 1591, 'character': 1592, 'declares': 1593, 'stupid': 1594, 'drive': 1595, 'assures': 1596, 'calling': 1597, 'bell': 1598, 'drone': 1599, 'sent': 1600, 'diet': 1601, 'victory': 1602, 'based': 1603, 'naked': 1604, 'creepy': 1605, 'kate': 1606, 'nude': 1607, 'block': 1608, 'sunday': 1609, \"'i'm\": 1610, 'islamic': 1611, 'polls': 1612, 'intelligence': 1613, 'holidays': 1614, 'matt': 1615, 'uber': 1616, 'happen': 1617, 'jon': 1618, 'later': 1619, 'stewart': 1620, 'roll': 1621, '45': 1622, 'international': 1623, 'confirms': 1624, 'warren': 1625, 'flag': 1626, 'lack': 1627, 'healthcare': 1628, 'frustrated': 1629, 'challenge': 1630, 'fail': 1631, '23': 1632, 'barack': 1633, 'p': 1634, 'perry': 1635, 'rnc': 1636, 'article': 1637, 'famous': 1638, 'writer': 1639, 'guests': 1640, \"clinton's\": 1641, 'customer': 1642, 'celebrities': 1643, 'pays': 1644, 'historic': 1645, 'survivors': 1646, 'ground': 1647, 'wars': 1648, 'games': 1649, 'figure': 1650, 'camera': 1651, 'tears': 1652, 'kansas': 1653, 'fix': 1654, 'stuff': 1655, 'minister': 1656, \"valentine's\": 1657, 'starts': 1658, 'site': 1659, 'double': 1660, 'legend': 1661, \"show'\": 1662, 'memory': 1663, 'appearance': 1664, 'gifts': 1665, 'seems': 1666, 'impression': 1667, 'married': 1668, 'losing': 1669, 'colorado': 1670, 'desk': 1671, 'monday': 1672, 'nra': 1673, 'truck': 1674, 'conference': 1675, 'concert': 1676, 'asshole': 1677, 'sarah': 1678, 'cause': 1679, 'rescue': 1680, 'nobody': 1681, 'pulls': 1682, 'process': 1683, 'kimmel': 1684, 'zoo': 1685, 'yoga': 1686, \"'it's\": 1687, 'rick': 1688, 'olympics': 1689, 'born': 1690, 'weather': 1691, 'reminder': 1692, 'visits': 1693, 'grade': 1694, 'india': 1695, 'begin': 1696, 'changed': 1697, 'theater': 1698, 'instagram': 1699, 'buying': 1700, \"children's\": 1701, 'lawyers': 1702, 'confirm': 1703, 'drops': 1704, 'conservative': 1705, 'pounds': 1706, 'cream': 1707, \"wars'\": 1708, 'dick': 1709, 'porn': 1710, 'emails': 1711, 'cuts': 1712, 'awkward': 1713, 'needed': 1714, 'bee': 1715, 'charges': 1716, 'blame': 1717, 'beyond': 1718, 'others': 1719, 'loving': 1720, 'terrifying': 1721, 'georgia': 1722, 'visiting': 1723, 'strike': 1724, 'proof': 1725, 'legislation': 1726, 'jury': 1727, 'view': 1728, 'cake': 1729, 'defends': 1730, 'note': 1731, 'cook': 1732, \"dad's\": 1733, 'alone': 1734, 'decades': 1735, 'yourself': 1736, 'companies': 1737, 'cabinet': 1738, 'attorney': 1739, 'feet': 1740, 'author': 1741, '400': 1742, 'covered': 1743, 'com': 1744, 'charlottesville': 1745, '—': 1746, 'missile': 1747, 'speed': 1748, 'democracy': 1749, 'glass': 1750, 'delivers': 1751, 'tribute': 1752, 'upcoming': 1753, 'plastic': 1754, 'flying': 1755, 'leadership': 1756, 'interest': 1757, 'flu': 1758, 'charity': 1759, 'amy': 1760, 'huffpollster': 1761, 'pants': 1762, 'misconduct': 1763, 'santa': 1764, 'lie': 1765, 'disappointed': 1766, 'blames': 1767, 'link': 1768, 'annual': 1769, 'hill': 1770, 'corporate': 1771, 'mall': 1772, 'reach': 1773, 'expected': 1774, 'remains': 1775, 'listen': 1776, 'couples': 1777, 'de': 1778, 'cost': 1779, 'gym': 1780, 'saving': 1781, 'memorial': 1782, 'english': 1783, 'sale': 1784, 'blasts': 1785, 'size': 1786, 'exclusive': 1787, 'falling': 1788, 'allow': 1789, 'horrible': 1790, 'image': 1791, 'answer': 1792, 'decides': 1793, 'creating': 1794, 'several': 1795, 'boat': 1796, 'shoot': 1797, 'raises': 1798, 'available': 1799, 'total': 1800, 'aging': 1801, 'proves': 1802, 'along': 1803, 'cash': 1804, 'angry': 1805, 'newspaper': 1806, \"wasn't\": 1807, 'jack': 1808, 'fish': 1809, 'terrified': 1810, 'struggle': 1811, 'features': 1812, 'modern': 1813, 'meets': 1814, 'owners': 1815, 'waste': 1816, 'veteran': 1817, 'welcome': 1818, 'value': 1819, 'prepares': 1820, 'rolls': 1821, 'diversity': 1822, 'headquarters': 1823, 'joke': 1824, 'conflict': 1825, 'thank': 1826, 'lies': 1827, 'premiere': 1828, 'corden': 1829, 'sentence': 1830, 'catholic': 1831, 'fine': 1832, 'aims': 1833, 'resigns': 1834, 'torture': 1835, 'realize': 1836, \"mcdonald's\": 1837, 'horse': 1838, 'benefits': 1839, 'businesses': 1840, 'whatever': 1841, 'critics': 1842, 'matters': 1843, 'current': 1844, 'ford': 1845, 'quiet': 1846, 'figures': 1847, 'teach': 1848, 're': 1849, 'classic': 1850, 'creator': 1851, 'depressed': 1852, 'themed': 1853, 'brand': 1854, 'stone': 1855, 'nomination': 1856, 'row': 1857, 'wine': 1858, 'page': 1859, 'richard': 1860, 'seek': 1861, 'inmates': 1862, 'anger': 1863, 'higher': 1864, 'korean': 1865, 'sit': 1866, 'standing': 1867, 'universe': 1868, 'fund': 1869, 'meditation': 1870, 'partner': 1871, 'bizarre': 1872, 'offer': 1873, 'broken': 1874, 'station': 1875, 'throughout': 1876, 'mystery': 1877, 'inauguration': 1878, 'fully': 1879, 'prize': 1880, 'previously': 1881, 'spotted': 1882, 'relieved': 1883, 'jewish': 1884, 'agent': 1885, 'grow': 1886, 'costs': 1887, 'fat': 1888, 'cheney': 1889, 'f': 1890, 'cross': 1891, 'increasingly': 1892, 'information': 1893, 'factory': 1894, 'films': 1895, 'campus': 1896, 'viewers': 1897, 'chuck': 1898, 'fraud': 1899, 'traveling': 1900, 'criminal': 1901, 'studio': 1902, 'boston': 1903, 'population': 1904, 'causes': 1905, 'devos': 1906, 'burning': 1907, 'escape': 1908, 'opinion': 1909, \"'game\": 1910, \"thrones'\": 1911, 'lobby': 1912, 'activist': 1913, 'disgusting': 1914, 'eyed': 1915, 'account': 1916, \"'not\": 1917, 'denies': 1918, 'threats': 1919, 'horrified': 1920, \"girls'\": 1921, 'project': 1922, 'position': 1923, 'destroy': 1924, 'screen': 1925, 'edition': 1926, 'friendly': 1927, \"president's\": 1928, 'actual': 1929, 'countries': 1930, 'kanye': 1931, 'tank': 1932, 'bombing': 1933, 'miles': 1934, 'match': 1935, 'honors': 1936, 'both': 1937, 'suspects': 1938, 'hawaii': 1939, 'baseball': 1940, 'maher': 1941, 'vegas': 1942, 'decide': 1943, 'fires': 1944, 'bannon': 1945, 'saves': 1946, 'edge': 1947, 'funeral': 1948, 'magic': 1949, 'behavior': 1950, 'smith': 1951, 'agree': 1952, 'trouble': 1953, \"you've\": 1954, 'taught': 1955, 'terrorism': 1956, 'please': 1957, 'mothers': 1958, 'larry': 1959, 'cute': 1960, 'france': 1961, 'tea': 1962, 'web': 1963, 'bomb': 1964, 'selling': 1965, 'became': 1966, \"he'll\": 1967, 'lifetime': 1968, 'journalists': 1969, 'ball': 1970, 'mitt': 1971, 'argument': 1972, 'technology': 1973, 'harder': 1974, 'failing': 1975, 'rose': 1976, 'trolls': 1977, 'bid': 1978, 'closer': 1979, 'interior': 1980, 'land': 1981, 'traffic': 1982, 'victim': 1983, 'known': 1984, 'politicians': 1985, 'profile': 1986, 'user': 1987, 'acting': 1988, 'bin': 1989, 'shoots': 1990, 'journalist': 1991, 'receive': 1992, 'alert': 1993, 'confidence': 1994, 'huckabee': 1995, 'exercise': 1996, 'potential': 1997, 'protecting': 1998, 'rate': 1999, 'taco': 2000, 'field': 2001, 'soccer': 2002, 'qaeda': 2003, 'cheap': 2004, 'indian': 2005, 'paying': 2006, 'jackson': 2007, 'saved': 2008, 'kylie': 2009, 'sources': 2010, 'broadway': 2011, 'threatened': 2012, 'pack': 2013, 'nbc': 2014, 'rico': 2015, 'players': 2016, 'section': 2017, 'costume': 2018, 'catch': 2019, 'exchange': 2020, 'rep': 2021, 'forget': 2022, 'guard': 2023, 'africa': 2024, 'ultimate': 2025, 'kevin': 2026, 'chrissy': 2027, 'able': 2028, 'alabama': 2029, 'missed': 2030, 'joins': 2031, 'prove': 2032, 'cuba': 2033, 'forever': 2034, 'gone': 2035, 'shooter': 2036, 'roommate': 2037, 'equal': 2038, 'replace': 2039, 'drink': 2040, 'build': 2041, 'trash': 2042, 'council': 2043, 'knew': 2044, 'title': 2045, 'moments': 2046, 'rachel': 2047, 'alleged': 2048, 'lower': 2049, 'elected': 2050, 'rising': 2051, 'addiction': 2052, 'vision': 2053, 'milk': 2054, 'snow': 2055, 'linked': 2056, 'literally': 2057, 'text': 2058, \"wouldn't\": 2059, 'religion': 2060, 'enjoys': 2061, 'streets': 2062, 'respect': 2063, 'themselves': 2064, 'gorgeous': 2065, 'started': 2066, \"people's\": 2067, 'rush': 2068, 'tried': 2069, 'attend': 2070, 'items': 2071, 'shocked': 2072, 'soul': 2073, 'carson': 2074, 'remove': 2075, 'played': 2076, 'fears': 2077, 'urban': 2078, 'mysterious': 2079, 'largest': 2080, 'lines': 2081, 'strong': 2082, 'latino': 2083, 'purchase': 2084, 'positive': 2085, 'comedian': 2086, 'ii': 2087, 'hiv': 2088, 'keeping': 2089, 'miracle': 2090, 'incident': 2091, 'sun': 2092, 'breast': 2093, 'surgery': 2094, 'l': 2095, 'plant': 2096, 'speaking': 2097, 'kitchen': 2098, 'sexist': 2099, 'iconic': 2100, 'sounds': 2101, '90': 2102, 'truly': 2103, 'pennsylvania': 2104, 'marine': 2105, 'brought': 2106, 'ones': 2107, 'join': 2108, \"couldn't\": 2109, 'content': 2110, 'source': 2111, 'bible': 2112, 'society': 2113, 'betsy': 2114, 'bruce': 2115, '22': 2116, 'epidemic': 2117, 'hosts': 2118, 'comic': 2119, 'type': 2120, 'clip': 2121, 'foundation': 2122, 'finish': 2123, \"son's\": 2124, 'amount': 2125, 'crimes': 2126, 'routine': 2127, 'announcement': 2128, 'christ': 2129, 'code': 2130, 'animal': 2131, 'sentenced': 2132, 'lawmakers': 2133, 'penis': 2134, 'honored': 2135, 'childhood': 2136, 'mentally': 2137, 'dropped': 2138, 'jessica': 2139, 'davis': 2140, 'agents': 2141, 'trend': 2142, 'apology': 2143, 'wildlife': 2144, 'upset': 2145, \"'american\": 2146, 'horror': 2147, 'criticism': 2148, 'jerry': 2149, 'officially': 2150, 'quit': 2151, 'feature': 2152, 'ray': 2153, 'heaven': 2154, 'laugh': 2155, 'impact': 2156, 'shower': 2157, 'dr': 2158, 'armed': 2159, 'ending': 2160, 'recent': 2161, 'handle': 2162, 'reaches': 2163, 'progressive': 2164, 'la': 2165, 'surprising': 2166, 'plus': 2167, 'gps': 2168, '21': 2169, 'expert': 2170, 'basketball': 2171, 'updates': 2172, 'neil': 2173, 'beginning': 2174, \"parents'\": 2175, 'shootings': 2176, 'gaza': 2177, 'jail': 2178, 'defend': 2179, 'thomas': 2180, 'professor': 2181, 'crew': 2182, 'z': 2183, 'sen': 2184, 'australian': 2185, 'musical': 2186, 'cleaning': 2187, 'due': 2188, 'adam': 2189, 'anyway': 2190, 'follow': 2191, 'apart': 2192, 'hampshire': 2193, 'newly': 2194, 'funny': 2195, 'solar': 2196, 'stays': 2197, 'add': 2198, 'g': 2199, 'related': 2200, 'britney': 2201, 'conspiracy': 2202, 'los': 2203, \"friend's\": 2204, 'plays': 2205, 'difference': 2206, 'looked': 2207, 'lucky': 2208, 'shape': 2209, 'adult': 2210, 'creates': 2211, 'promise': 2212, 'herself': 2213, 'stance': 2214, 'hitting': 2215, 'records': 2216, 'overweight': 2217, 'fantasy': 2218, 'capable': 2219, 'workout': 2220, 'inner': 2221, 'wolf': 2222, 'japanese': 2223, 'path': 2224, 'sorry': 2225, 'original': 2226, 'hide': 2227, 'weed': 2228, 'ivanka': 2229, 'importance': 2230, 'jared': 2231, \"'s\": 2232, 'poster': 2233, 'bigger': 2234, 'arizona': 2235, 'tony': 2236, 'inequality': 2237, 'solution': 2238, 'spoof': 2239, 'banks': 2240, 'dreamers': 2241, 'joy': 2242, 'version': 2243, 'survivor': 2244, 'drag': 2245, '24': 2246, 'period': 2247, \"friday's\": 2248, 'enjoy': 2249, 'seriously': 2250, 'production': 2251, 'crashes': 2252, 'silver': 2253, 'bold': 2254, 'artists': 2255, 'deliver': 2256, \"'this\": 2257, 'appears': 2258, 'smart': 2259, 'lone': 2260, 'cards': 2261, '80': 2262, 'footage': 2263, 'farm': 2264, 'trust': 2265, 'successful': 2266, 'teigen': 2267, 'wear': 2268, 'mr': 2269, 'believes': 2270, 'checks': 2271, 'normal': 2272, 'hole': 2273, 'clothes': 2274, 'miranda': 2275, 'status': 2276, 'pac': 2277, 'taxes': 2278, 'ancient': 2279, 'enjoying': 2280, 'unaware': 2281, 'ukraine': 2282, \"'black\": 2283, 'agrees': 2284, 'unsure': 2285, 'environment': 2286, 'jokes': 2287, '500': 2288, 'discuss': 2289, 'freak': 2290, 'roger': 2291, 'ocean': 2292, 'controversy': 2293, 'mad': 2294, 'rebels': 2295, 'delicious': 2296, 'drugs': 2297, 'pruitt': 2298, 'brothers': 2299, 'happiness': 2300, 'corruption': 2301, 'relief': 2302, 'filled': 2303, \"today's\": 2304, 'allies': 2305, 'golf': 2306, 'grammys': 2307, 'warn': 2308, 'afghan': 2309, 'inspires': 2310, \"gop's\": 2311, 'sleeping': 2312, 'pulling': 2313, 'details': 2314, 'directly': 2315, 'confederate': 2316, 'iraqi': 2317, 'pound': 2318, 'seattle': 2319, 'exhausted': 2320, 'german': 2321, 'dancing': 2322, 'upon': 2323, 'mix': 2324, 'shark': 2325, 'everywhere': 2326, 'mission': 2327, 'passing': 2328, 'poverty': 2329, 'appear': 2330, 'loud': 2331, 'raising': 2332, 'hackers': 2333, \"you'\": 2334, 'finger': 2335, 'barely': 2336, 'tip': 2337, 'repeatedly': 2338, 'makeup': 2339, 'detroit': 2340, 'highway': 2341, 'turned': 2342, 'provides': 2343, 'shopping': 2344, 'ties': 2345, 'awful': 2346, 'trapped': 2347, 'tonight': 2348, 'wisconsin': 2349, 'laid': 2350, 'characters': 2351, 'quality': 2352, 'actress': 2353, 'r': 2354, 'speaker': 2355, 'communities': 2356, 'stares': 2357, 'pledges': 2358, 'officers': 2359, 'dads': 2360, 'duty': 2361, 'ill': 2362, 'brief': 2363, '32': 2364, 'tape': 2365, 'boring': 2366, 'staffers': 2367, 'q': 2368, 'passenger': 2369, 'conservatives': 2370, 'forgot': 2371, 'split': 2372, 'organization': 2373, 'kaine': 2374, 'annoying': 2375, 'strikes': 2376, 'december': 2377, 'estate': 2378, 'amendment': 2379, 'netanyahu': 2380, 'identity': 2381, 'rex': 2382, 'tillerson': 2383, 'toll': 2384, 'revealed': 2385, 'toilet': 2386, 'direct': 2387, 'resign': 2388, 'portrait': 2389, 'parody': 2390, 'collection': 2391, 'liberty': 2392, 'veterans': 2393, 'hip': 2394, 'cheer': 2395, 'creative': 2396, 'such': 2397, 'covers': 2398, 'tough': 2399, 'hires': 2400, 'voices': 2401, 'recommend': 2402, 'editor': 2403, 'weinstein': 2404, 'engagement': 2405, 'arrest': 2406, 'zika': 2407, 'lying': 2408, 'quickly': 2409, 'microsoft': 2410, 'kasich': 2411, 'ambassador': 2412, '19': 2413, 'pictures': 2414, 'scientist': 2415, 'sues': 2416, 'pot': 2417, 'x': 2418, 'melania': 2419, 'responsible': 2420, 'migrants': 2421, 'seth': 2422, 'habits': 2423, 'beef': 2424, 'army': 2425, 'rescued': 2426, 'caitlyn': 2427, 'storm': 2428, 'foods': 2429, 'endorses': 2430, 'purchases': 2431, 'elections': 2432, 'shitty': 2433, 'winner': 2434, 'tops': 2435, 'insane': 2436, 'unexpected': 2437, 'sister': 2438, 'thrown': 2439, 'wears': 2440, 'hates': 2441, 'afford': 2442, 'painful': 2443, 'buys': 2444, 'singing': 2445, 'solve': 2446, 'sexually': 2447, 'zero': 2448, 'oklahoma': 2449, 'eu': 2450, 'unless': 2451, 'misses': 2452, 'aides': 2453, 'canadian': 2454, \"alzheimer's\": 2455, 'summit': 2456, 'tale': 2457, 'ed': 2458, 'disorder': 2459, 'minority': 2460, 'practice': 2461, 'facts': 2462, 'british': 2463, 'profit': 2464, 'heroin': 2465, 'ticket': 2466, 'inmate': 2467, 'seat': 2468, 'soda': 2469, 'lawn': 2470, 'tall': 2471, 'cosby': 2472, 'sold': 2473, 'transportation': 2474, 'colleges': 2475, 'cruise': 2476, 'slow': 2477, 'fact': 2478, 'gear': 2479, 'greece': 2480, 'favor': 2481, 'links': 2482, 'false': 2483, 'prayers': 2484, 'winners': 2485, 'gaga': 2486, 'treat': 2487, 'attempting': 2488, 'completes': 2489, 'entertainment': 2490, 'reduce': 2491, 'prepare': 2492, 'rice': 2493, 'absolutely': 2494, 'cannot': 2495, 'backed': 2496, 'usa': 2497, 'taste': 2498, 'teenage': 2499, 'contest': 2500, 'expect': 2501, 'chain': 2502, 'mostly': 2503, 'dirty': 2504, 'smiling': 2505, 'daughters': 2506, 'remain': 2507, 'realizing': 2508, 'understand': 2509, 'threatening': 2510, 'italian': 2511, 'illegal': 2512, 'knowing': 2513, 'rudy': 2514, 'reaction': 2515, 'drinks': 2516, 'rand': 2517, \"dead'\": 2518, 'situation': 2519, 'effects': 2520, 'driven': 2521, 'skills': 2522, 'uk': 2523, 'outraged': 2524, 'meghan': 2525, 'dakota': 2526, 'lesbian': 2527, 'workplace': 2528, 'bacon': 2529, 'gunman': 2530, 'shift': 2531, 'surge': 2532, 'puppy': 2533, 'drivers': 2534, 'thoughts': 2535, 'jake': 2536, 'remembers': 2537, 'blow': 2538, 'bit': 2539, 'returning': 2540, 'grown': 2541, 'february': 2542, 'advocates': 2543, 'nursing': 2544, 'charge': 2545, 'pledge': 2546, 'arm': 2547, 'fruit': 2548, 'income': 2549, 'searching': 2550, '85': 2551, 'images': 2552, 'statement': 2553, 'damage': 2554, 'listening': 2555, 'riding': 2556, 'van': 2557, 'shame': 2558, 'charles': 2559, 'improve': 2560, 'rather': 2561, 'abandoned': 2562, 'urge': 2563, 'aunt': 2564, 'presidency': 2565, 'mess': 2566, 'mid': 2567, 'dangers': 2568, 'willing': 2569, 'setting': 2570, 'remembering': 2571, 'lasting': 2572, 'nightmare': 2573, 'strangers': 2574, 'grateful': 2575, 'strength': 2576, 'headed': 2577, 'reunion': 2578, 'gross': 2579, 'inspiring': 2580, 'graduates': 2581, 'mail': 2582, 'ads': 2583, 'experiment': 2584, 'laden': 2585, 'electric': 2586, 'weak': 2587, 'kick': 2588, 'h': 2589, 'v': 2590, 'glad': 2591, 'backyard': 2592, 'steven': 2593, 'prescription': 2594, 'admit': 2595, '87': 2596, 'awareness': 2597, 'adviser': 2598, 'gore': 2599, 'sessions': 2600, 'kushner': 2601, 'miami': 2602, 'touching': 2603, 'generation': 2604, 'delivery': 2605, 'oregon': 2606, 'cooper': 2607, 'samantha': 2608, 'screaming': 2609, 'burns': 2610, 'younger': 2611, 'seeks': 2612, 'lena': 2613, 'worry': 2614, 'mississippi': 2615, 'pain': 2616, 'sue': 2617, 'cases': 2618, 'soldier': 2619, 'benefit': 2620, 'soldiers': 2621, 'ally': 2622, 'written': 2623, \"they've\": 2624, 'easier': 2625, 'daniels': 2626, 'grand': 2627, 'supporting': 2628, 'opportunity': 2629, 'starbucks': 2630, 'consumer': 2631, 'okay': 2632, 'contact': 2633, 'nervous': 2634, 'walker': 2635, \"'one\": 2636, 'beyoncé': 2637, 'latinos': 2638, 'ghost': 2639, 'firing': 2640, 'bringing': 2641, 'fitness': 2642, 'lights': 2643, 'minimum': 2644, 'spirit': 2645, 'whose': 2646, 'gingrich': 2647, 'construction': 2648, 'millennials': 2649, 'actors': 2650, 'mistakes': 2651, 'neighbors': 2652, 'coach': 2653, 'shoes': 2654, 'except': 2655, 'fcc': 2656, 'lin': 2657, \"'very\": 2658, 'walks': 2659, 'essay': 2660, 'medicine': 2661, 'therapy': 2662, 'affair': 2663, 'shrimp': 2664, 'feelings': 2665, 'platform': 2666, 'choose': 2667, 'blast': 2668, 'carter': 2669, 'lake': 2670, 'accepts': 2671, 'central': 2672, 'throwing': 2673, 'seem': 2674, 'relationships': 2675, 'sites': 2676, 'sing': 2677, 'lawmaker': 2678, 'haunted': 2679, 'deaths': 2680, 'gather': 2681, 'location': 2682, 'welcomes': 2683, 'broke': 2684, 'europe': 2685, 'homes': 2686, 'transition': 2687, 'corner': 2688, 'colin': 2689, 'locked': 2690, 'michigan': 2691, 'idiot': 2692, 'ship': 2693, 'base': 2694, 'sight': 2695, 'podcast': 2696, 'ditch': 2697, 'worked': 2698, 'bans': 2699, 'causing': 2700, 'affordable': 2701, 'trick': 2702, 'feminist': 2703, 'independent': 2704, 'knife': 2705, 'glasses': 2706, 'globes': 2707, 'supposed': 2708, 'compares': 2709, 'horrifying': 2710, 'newest': 2711, 'teaches': 2712, 'computer': 2713, 'extremely': 2714, 'blind': 2715, 'fallon': 2716, 'ability': 2717, 'carry': 2718, 'alive': 2719, \"'new\": 2720, 'ron': 2721, 'capitol': 2722, 'nick': 2723, 'bike': 2724, 'fundraising': 2725, 'pipeline': 2726, 'heartbreaking': 2727, 'gorsuch': 2728, 'consider': 2729, 'billy': 2730, 'destruction': 2731, 'honest': 2732, 'lesson': 2733, 'fame': 2734, 'perform': 2735, 'round': 2736, 'led': 2737, 'capital': 2738, 'contract': 2739, '300': 2740, 'highly': 2741, 'sending': 2742, 'youtube': 2743, 'shelter': 2744, 'tracks': 2745, 'determined': 2746, 'bodies': 2747, 'design': 2748, 'garden': 2749, \"he'd\": 2750, 'friendship': 2751, 'bikini': 2752, 'independence': 2753, 'stick': 2754, 'necessary': 2755, 'eve': 2756, 'eats': 2757, 'memoir': 2758, 'evolution': 2759, 'exit': 2760, 'hometown': 2761, 'constitution': 2762, 'loser': 2763, 'nails': 2764, 'plot': 2765, 'survive': 2766, 'touch': 2767, 'angeles': 2768, 'grave': 2769, 'zuckerberg': 2770, 'deeply': 2771, 'smartphone': 2772, 'strip': 2773, 'traditional': 2774, 'shuts': 2775, 'panicked': 2776, 'terrorist': 2777, 'kept': 2778, 'challenges': 2779, 'custody': 2780, 'slightly': 2781, 'outbreak': 2782, 'pissed': 2783, 'bond': 2784, 'natural': 2785, 'photographer': 2786, 'jason': 2787, 'nobel': 2788, 'beating': 2789, 'hints': 2790, 'endorsement': 2791, 'genius': 2792, 'suspended': 2793, 'spill': 2794, 'forgotten': 2795, 'newborn': 2796, 'warner': 2797, 'letting': 2798, 'services': 2799, 'frantically': 2800, 'deals': 2801, 'remaining': 2802, 'graham': 2803, 'deserves': 2804, 'either': 2805, 'princess': 2806, 'detail': 2807, 'troops': 2808, 'wore': 2809, 'rates': 2810, 'execution': 2811, 'worldwide': 2812, 'showing': 2813, 'obsessed': 2814, 'maybe': 2815, 'testing': 2816, 'button': 2817, 'nature': 2818, 'anderson': 2819, 'praises': 2820, 'orlando': 2821, 'menu': 2822, 'drama': 2823, 'programs': 2824, 'heroic': 2825, 'boost': 2826, 'pile': 2827, 'spider': 2828, 'removes': 2829, 'minnesota': 2830, 'answers': 2831, 'entirely': 2832, 'parade': 2833, 'stormy': 2834, 'expensive': 2835, 'serial': 2836, 'kfc': 2837, 'leg': 2838, 'raid': 2839, \"china's\": 2840, '70': 2841, 'meals': 2842, 'johnny': 2843, 'academy': 2844, 'condemns': 2845, 'sharing': 2846, 'scientific': 2847, 'committed': 2848, 'dishes': 2849, 'brad': 2850, 'teeth': 2851, 'terrorists': 2852, 'policies': 2853, 'enter': 2854, 'tiger': 2855, 'elect': 2856, 'sell': 2857, 'rap': 2858, 'manuel': 2859, 'gala': 2860, 'cashier': 2861, 'briefly': 2862, 'valley': 2863, 'crying': 2864, 'attractive': 2865, 'housing': 2866, 'goals': 2867, 'ethics': 2868, 'loose': 2869, 'oh': 2870, 'jordan': 2871, 'startup': 2872, 'discovers': 2873, 'navy': 2874, 'bottom': 2875, 'illinois': 2876, 'allowing': 2877, 'bacteria': 2878, 'personality': 2879, 'quiz': 2880, 'ann': 2881, 'hypocrisy': 2882, 'toxic': 2883, 'revolution': 2884, 'las': 2885, 'resistance': 2886, 'jersey': 2887, 'daca': 2888, 'cyber': 2889, 'embarrassed': 2890, 'egg': 2891, 'fate': 2892, 'afraid': 2893, 'backs': 2894, 'growth': 2895, 'crack': 2896, 'drake': 2897, 'intended': 2898, 'cd': 2899, 'funds': 2900, 'proposed': 2901, 'therapist': 2902, 'pentagon': 2903, 'rips': 2904, 'valuable': 2905, 'master': 2906, 'coverage': 2907, 'mixed': 2908, 'prosecutor': 2909, 'treasury': 2910, 'approval': 2911, 'difficult': 2912, 'exciting': 2913, 'clerk': 2914, 'smoking': 2915, 'giuliani': 2916, 'heroes': 2917, 'chef': 2918, 'panic': 2919, 'disabilities': 2920, 'heat': 2921, 'tattoo': 2922, \"sanders'\": 2923, 'anthem': 2924, 'pathetic': 2925, 'baltimore': 2926, 'bored': 2927, 'request': 2928, 'rage': 2929, 'candy': 2930, 'progress': 2931, 'glimpse': 2932, 'injury': 2933, 'fly': 2934, 'videos': 2935, 'emma': 2936, 'nostalgic': 2937, 'arms': 2938, 'multi': 2939, 'carbon': 2940, 'presents': 2941, 'visible': 2942, 'carefully': 2943, 'asleep': 2944, 'april': 2945, 'considering': 2946, 'blows': 2947, 'defeat': 2948, 'joan': 2949, 'neighbor': 2950, 'waitress': 2951, 'seeking': 2952, 'disabled': 2953, 'remind': 2954, 'toy': 2955, 'cooking': 2956, 'scalia': 2957, 'con': 2958, 'involves': 2959, 'memories': 2960, 'dvd': 2961, 'knowledge': 2962, 'regular': 2963, 'patient': 2964, 'wet': 2965, 'flavor': 2966, 'ellen': 2967, 'openly': 2968, 'accept': 2969, 'spears': 2970, 'founder': 2971, 'shirts': 2972, 'pace': 2973, 'patients': 2974, 'couch': 2975, 'tools': 2976, 'iranian': 2977, 'coast': 2978, \"week's\": 2979, 'registry': 2980, 'stands': 2981, 'lots': 2982, 'chocolate': 2983, 'breakup': 2984, 'northern': 2985, 'anne': 2986, 'agency': 2987, 'angel': 2988, 'ignores': 2989, 'conditions': 2990, 'catches': 2991, 'wide': 2992, 'capture': 2993, 'koch': 2994, 'rating': 2995, 'politician': 2996, 'divorced': 2997, 'epic': 2998, 'present': 2999, 'alternative': 3000, 'nsfw': 3001, 'testimony': 3002, 'circle': 3003, 'square': 3004, 'native': 3005, 'approach': 3006, 'rob': 3007, 'chemical': 3008, 'abroad': 3009, 'aside': 3010, 'wildfire': 3011, 'calm': 3012, 'mcdonald': 3013, 'goddamn': 3014, 'selfie': 3015, 'whale': 3016, 'seaworld': 3017, 'designer': 3018, 'efforts': 3019, 'shared': 3020, 'evening': 3021, 'virus': 3022, 'professional': 3023, 'curry': 3024, 'graduate': 3025, 'struggles': 3026, 'grammy': 3027, 'brexit': 3028, 'grieving': 3029, 'orange': 3030, 'maryland': 3031, 'highest': 3032, 'luther': 3033, 'connection': 3034, 'lane': 3035, 'orleans': 3036, 'massacre': 3037, 'quotes': 3038, 'midnight': 3039, 'dunham': 3040, 'encourages': 3041, 'confused': 3042, 'backlash': 3043, 'panda': 3044, 'depressing': 3045, 'brazil': 3046, 'louisiana': 3047, 'honoring': 3048, 'surgeon': 3049, 'lottery': 3050, '35': 3051, 'highlights': 3052, 'populace': 3053, 'feminism': 3054, 'producers': 3055, 'nypd': 3056, 'opioid': 3057, 'oval': 3058, 'ladies': 3059, 'saw': 3060, 'mourns': 3061, 'teaching': 3062, 'phase': 3063, 'effective': 3064, 'drawing': 3065, 'remote': 3066, 'nominations': 3067, 'casual': 3068, 'drives': 3069, 'swears': 3070, 'realized': 3071, 'vulnerable': 3072, 'hunger': 3073, 'shake': 3074, 'priest': 3075, 'increases': 3076, 'furious': 3077, 'daddy': 3078, 'praise': 3079, \"family's\": 3080, 'laptop': 3081, 'affected': 3082, 'casually': 3083, 'tragedy': 3084, 'agenda': 3085, 'wilson': 3086, 'sandwiches': 3087, 'passed': 3088, 'impossible': 3089, 'airline': 3090, 'ok': 3091, 'grant': 3092, 'spicer': 3093, 'daniel': 3094, 'lived': 3095, 'towards': 3096, 'detective': 3097, 'hilariously': 3098, 'comfort': 3099, 'zone': 3100, 'consumers': 3101, 'limit': 3102, '26': 3103, 'fill': 3104, 'stolen': 3105, 'chase': 3106, 'rant': 3107, 'documents': 3108, 'crackdown': 3109, 'above': 3110, 'katy': 3111, 'illness': 3112, 'kiss': 3113, 'deserve': 3114, \"woman'\": 3115, 'develop': 3116, 'salad': 3117, 'cell': 3118, 'suspected': 3119, 'county': 3120, 'oliver': 3121, 'panel': 3122, 'billionaire': 3123, 'tests': 3124, 'feed': 3125, 'multiple': 3126, 'goodbye': 3127, 'audio': 3128, 'ruin': 3129, 'attacking': 3130, 'executives': 3131, 'hannity': 3132, 'surprises': 3133, 'monster': 3134, 'ruined': 3135, 'timberlake': 3136, 'allen': 3137, 'alex': 3138, 'graphic': 3139, 'sparks': 3140, 'icon': 3141, 'babies': 3142, 'hire': 3143, 'montana': 3144, \"night's\": 3145, 'removed': 3146, 'pumpkin': 3147, 'islam': 3148, 'cyrus': 3149, 'apologize': 3150, 'pieces': 3151, 'gov': 3152, 'impressed': 3153, 'indiana': 3154, 'clock': 3155, 'australia': 3156, 'pills': 3157, 'palestinians': 3158, 'beats': 3159, 'river': 3160, 'franken': 3161, 'acquires': 3162, 'nazi': 3163, \"race'\": 3164, 'earthquake': 3165, 'library': 3166, 'slide': 3167, 'holy': 3168, 'silent': 3169, 'houston': 3170, 'bottle': 3171, 'onion': 3172, 'grill': 3173, 'endorse': 3174, 'hat': 3175, 'garage': 3176, 'resolution': 3177, 'perspective': 3178, \"stars'\": 3179, 'leaked': 3180, 'meyers': 3181, 'miley': 3182, 'staffer': 3183, 'spy': 3184, \"wednesday's\": 3185, 'lawrence': 3186, 'dropping': 3187, '21st': 3188, 'germany': 3189, \"we've\": 3190, 'pushed': 3191, 'novel': 3192, 'encouraging': 3193, 'july': 3194, 'sky': 3195, 'aide': 3196, 'doj': 3197, 'proposal': 3198, 'nelson': 3199, 'lands': 3200, 'chaos': 3201, 'rohingya': 3202, 'plea': 3203, 'shadow': 3204, 'businessman': 3205, \"california's\": 3206, 'cracks': 3207, 'neck': 3208, 'built': 3209, 'beloved': 3210, 'remake': 3211, 'debates': 3212, 'frozen': 3213, 'donors': 3214, 'bride': 3215, 'somewhere': 3216, 'donates': 3217, 'fights': 3218, 'kentucky': 3219, 'secretly': 3220, 'affleck': 3221, 'tomorrow': 3222, 'attendees': 3223, 'pocket': 3224, 'donation': 3225, \"2'\": 3226, 'map': 3227, 'assistant': 3228, 'insists': 3229, 'june': 3230, 'longtime': 3231, 'quite': 3232, 'influence': 3233, 'pulled': 3234, 'initiative': 3235, 'closet': 3236, 'trail': 3237, 'skip': 3238, 'bastard': 3239, 'bags': 3240, \"i've\": 3241, 'unemployed': 3242, 'merger': 3243, 'appeals': 3244, 'oldest': 3245, 'freshman': 3246, 'conversations': 3247, 'anonymous': 3248, 'grocery': 3249, \"company's\": 3250, 'referred': 3251, 'rapper': 3252, 'habit': 3253, 'commercials': 3254, 'regrets': 3255, 'selves': 3256, 'mirror': 3257, 'balloon': 3258, \"time'\": 3259, 'gates': 3260, 'repeat': 3261, 'posts': 3262, 'checking': 3263, 'deportation': 3264, 'draws': 3265, 'bills': 3266, 'recall': 3267, 'celebrating': 3268, 'rough': 3269, 'resort': 3270, 'spotlight': 3271, 'stole': 3272, 'troubling': 3273, 'targets': 3274, \"'so\": 3275, 'informs': 3276, 'fed': 3277, 'cartoon': 3278, 'regularly': 3279, 'aclu': 3280, 'products': 3281, 'racial': 3282, 'ken': 3283, 'roof': 3284, 'khloe': 3285, 'fresh': 3286, 'moved': 3287, 'graduation': 3288, 'innocent': 3289, 'cbs': 3290, 'dollar': 3291, 'objects': 3292, 'caused': 3293, \"biden's\": 3294, 'marks': 3295, 'recovery': 3296, 'grandparents': 3297, 'doubt': 3298, 'confident': 3299, 'shifts': 3300, 'transforms': 3301, 'lion': 3302, 'paint': 3303, 'reviews': 3304, 'infant': 3305, 'mountain': 3306, 'retire': 3307, 'erupts': 3308, 'grandfather': 3309, 'league': 3310, 'decade': 3311, 'pleased': 3312, \"'please\": 3313, 'prisoners': 3314, 'involved': 3315, 'whispers': 3316, 'leslie': 3317, 'listing': 3318, 'respond': 3319, 'shocking': 3320, 'discrimination': 3321, 'conscious': 3322, 'wave': 3323, \"story'\": 3324, 'privacy': 3325, 'pitch': 3326, 'constant': 3327, \"'my\": 3328, 'gang': 3329, 'eaten': 3330, 'coal': 3331, '0': 3332, 'evil': 3333, 'added': 3334, 'yemen': 3335, 'bull': 3336, 'possibly': 3337, 'rebel': 3338, \"live'\": 3339, 'atlanta': 3340, 'quits': 3341, 'unveil': 3342, 'destroyed': 3343, 'eggs': 3344, \"things'\": 3345, 'abused': 3346, 'simpson': 3347, 'tourist': 3348, 'underwear': 3349, 'meryl': 3350, 'streep': 3351, 'january': 3352, 'hopeful': 3353, 'uncomfortable': 3354, 'miller': 3355, 'myths': 3356, 'exist': 3357, 'archaeologists': 3358, 'anthony': 3359, 'blown': 3360, 'firm': 3361, 'cable': 3362, 'writers': 3363, 'assad': 3364, 'voted': 3365, 'wasted': 3366, 'arrives': 3367, 'salesman': 3368, 'drawer': 3369, 'stuffed': 3370, 'jerusalem': 3371, \"'big\": 3372, 'stopped': 3373, 'howard': 3374, 'promised': 3375, 'spills': 3376, 'philadelphia': 3377, 'costumes': 3378, 'don': 3379, 'western': 3380, 'undocumented': 3381, 'cats': 3382, 'negative': 3383, 'reads': 3384, 'minor': 3385, 'nancy': 3386, 'pollution': 3387, 'hearts': 3388, '10th': 3389, 'cleveland': 3390, 'expectations': 3391, 'parkland': 3392, 'selena': 3393, '37': 3394, 'nervously': 3395, 'disgusted': 3396, 'nonprofit': 3397, 'village': 3398, 'apps': 3399, 'staring': 3400, 'cry': 3401, 'makeover': 3402, 'missouri': 3403, 'judges': 3404, 'aleppo': 3405, 'jailed': 3406, 'feds': 3407, 'kicks': 3408, \"'real\": 3409, 'management': 3410, 'masturbating': 3411, 'hiding': 3412, 'models': 3413, 'absence': 3414, 'japan': 3415, 'freaking': 3416, 'hook': 3417, 'supporter': 3418, 'ruins': 3419, 'sugar': 3420, 'wings': 3421, 'cigarette': 3422, 'hiring': 3423, 'resolutions': 3424, 'hop': 3425, 'athletes': 3426, 'eight': 3427, 'plate': 3428, 'kellyanne': 3429, 'autism': 3430, 'endangered': 3431, 'ridiculous': 3432, \"monday's\": 3433, 'wildly': 3434, 'easily': 3435, 'imagine': 3436, 'unarmed': 3437, 'treated': 3438, 'dan': 3439, 'nurse': 3440, 'rises': 3441, 'serena': 3442, 'happening': 3443, 'firefighter': 3444, 'palin': 3445, 'homeland': 3446, 'stamps': 3447, 'range': 3448, 'association': 3449, 'toys': 3450, \"life'\": 3451, 'gina': 3452, 'sam': 3453, 'exploring': 3454, 'arctic': 3455, 'collapses': 3456, 'guitar': 3457, 'sixth': 3458, 'captures': 3459, 'inspire': 3460, 'nationwide': 3461, 'events': 3462, 'robin': 3463, 'anchor': 3464, 'breathing': 3465, 'brady': 3466, \"couple's\": 3467, 'jews': 3468, 'obese': 3469, '38': 3470, 'census': 3471, 'austin': 3472, 'sadly': 3473, 'binge': 3474, 'instructor': 3475, 'shaped': 3476, 'fatal': 3477, 'billions': 3478, 'retired': 3479, 'mood': 3480, 'sniper': 3481, 'wonder': 3482, 'desperately': 3483, 'marvel': 3484, 'patrick': 3485, 'staying': 3486, 'leather': 3487, 'dems': 3488, 'dresses': 3489, 'bars': 3490, 'determine': 3491, 'defiant': 3492, 'larger': 3493, 'indicted': 3494, 'humanity': 3495, 'carrying': 3496, 'meant': 3497, 'string': 3498, 'benghazi': 3499, 'pure': 3500, 'josh': 3501, 'memo': 3502, 'beyonce': 3503, 'criticized': 3504, 'stranger': 3505, 'mate': 3506, 'restore': 3507, 'olds': 3508, \"state's\": 3509, 'scores': 3510, 'billboard': 3511, 'canada': 3512, 'turkish': 3513, 'wakes': 3514, 'grief': 3515, 'consecutive': 3516, 'jump': 3517, 'gary': 3518, 'bridge': 3519, \"'90s\": 3520, 'previous': 3521, 'background': 3522, 'ballot': 3523, 'sxsw': 3524, 'deputy': 3525, 'lebron': 3526, 'brutal': 3527, 'compared': 3528, 'pilot': 3529, 'comfortable': 3530, 'houses': 3531, 'sauce': 3532, 'banana': 3533, 'contains': 3534, 'touts': 3535, 'requires': 3536, 'frank': 3537, 'flip': 3538, 'accepting': 3539, 'dept': 3540, 'extreme': 3541, 'blake': 3542, 'garbage': 3543, \"thursday's\": 3544, 'brian': 3545, 'chipotle': 3546, 'cancel': 3547, 'developing': 3548, 'language': 3549, 'swimming': 3550, '75': 3551, 'viewer': 3552, 'francisco': 3553, 'shoe': 3554, 'blocks': 3555, 'reported': 3556, 'canceled': 3557, 'aol': 3558, 'loan': 3559, 'siblings': 3560, 'sikh': 3561, 'instant': 3562, 'infrastructure': 3563, 'explaining': 3564, 'lindsey': 3565, 'replacement': 3566, 'finished': 3567, 'pig': 3568, 'sneaks': 3569, \"onion'\": 3570, 'addresses': 3571, 'accusations': 3572, 'investigate': 3573, 'cups': 3574, 'accuses': 3575, 'posting': 3576, 'robot': 3577, 'chart': 3578, 'resignation': 3579, 'august': 3580, 'twice': 3581, 'rumsfeld': 3582, 'stealing': 3583, 'wealthy': 3584, 'sons': 3585, 'november': 3586, 'establishment': 3587, 'aids': 3588, 'alan': 3589, 'william': 3590, 'sheriff': 3591, 'sitcom': 3592, 'ritual': 3593, \"haven't\": 3594, \"iran's\": 3595, 'stressed': 3596, \"denny's\": 3597, 'shaken': 3598, 'contain': 3599, 'decisions': 3600, 'christopher': 3601, \"'80s\": 3602, 'mario': 3603, 'rover': 3604, 'urine': 3605, 'reporters': 3606, 'bears': 3607, 'exact': 3608, 'boomers': 3609, 'option': 3610, 'ups': 3611, 'weighs': 3612, 'nate': 3613, 'display': 3614, 'flights': 3615, 'seventh': 3616, 'aaron': 3617, 'obviously': 3618, 'spirits': 3619, 'fatally': 3620, 'interesting': 3621, 'aziz': 3622, 'ansari': 3623, 'prom': 3624, \"out'\": 3625, 'pitt': 3626, \"'gilmore\": 3627, 'spots': 3628, 'motorcycle': 3629, 'threw': 3630, \"'get\": 3631, 'kenya': 3632, 'dallas': 3633, 'approved': 3634, 'widow': 3635, 'reese': 3636, 'recently': 3637, 'tennis': 3638, 'concern': 3639, \"'white\": 3640, 'mandatory': 3641, 'seven': 3642, 'teases': 3643, 'rankings': 3644, 'trips': 3645, 'criminals': 3646, \"'stranger\": 3647, 'holmes': 3648, 'tuesday': 3649, 'attraction': 3650, 'updated': 3651, 'nonsense': 3652, 'chancellor': 3653, 'placed': 3654, 'mouse': 3655, 'prices': 3656, 'choices': 3657, 'pushes': 3658, 'ordered': 3659, 'district': 3660, 'parliament': 3661, 'everyday': 3662, 'farewell': 3663, 'alike': 3664, 'danny': 3665, 'effect': 3666, 'morgan': 3667, 'sunglasses': 3668, '72': 3669, 'elon': 3670, 'stampede': 3671, 'restaurants': 3672, 'headline': 3673, 'ugly': 3674, 'injection': 3675, '99': 3676, 'fi': 3677, '2012': 3678, 'russians': 3679, 'scared': 3680, 'sums': 3681, 'burn': 3682, 'commencement': 3683, 'chooses': 3684, 'bound': 3685, 'hashtag': 3686, 'holocaust': 3687, 'crude': 3688, 'owned': 3689, 'levels': 3690, 'cheering': 3691, '93': 3692, 'raised': 3693, 'repeated': 3694, 'ultra': 3695, 'fell': 3696, 'sometimes': 3697, 'dumb': 3698, 'entry': 3699, 'groping': 3700, 'floating': 3701, 'critical': 3702, '600': 3703, 'worthy': 3704, 'scholarship': 3705, 'generations': 3706, \"i'd\": 3707, 'intact': 3708, \"kids'\": 3709, 'bobby': 3710, 'southern': 3711, 'kennedy': 3712, \"'all\": 3713, 'physical': 3714, 'feud': 3715, 'keys': 3716, 'taliban': 3717, 'poet': 3718, 'beneath': 3719, 'hamas': 3720, 'restrictions': 3721, 'theme': 3722, 'nato': 3723, 'catching': 3724, 'forgive': 3725, 'fucked': 3726, 'espn': 3727, 'urged': 3728, \"men's\": 3729, 'hug': 3730, 'medicaid': 3731, 'conway': 3732, 'liberal': 3733, 'corn': 3734, \"girl's\": 3735, 'filming': 3736, 'bedroom': 3737, 'ceiling': 3738, 'opposition': 3739, 'irma': 3740, 'rat': 3741, 'options': 3742, 'barbara': 3743, 'greater': 3744, \"'love\": 3745, 'mentions': 3746, 'annoyed': 3747, 'paula': 3748, 'vaccine': 3749, '150': 3750, \"'walking\": 3751, 'welfare': 3752, 'flint': 3753, 'ease': 3754, 'impressive': 3755, 'caring': 3756, 'condition': 3757, 'curtain': 3758, 'finale': 3759, 'surface': 3760, 'notice': 3761, \"city'\": 3762, 'journal': 3763, 'woody': 3764, 'kaepernick': 3765, 'grab': 3766, 'mary': 3767, 'nsa': 3768, 'surveillance': 3769, 'reboot': 3770, 'comforts': 3771, 'designed': 3772, 'jacket': 3773, 'markle': 3774, 'bomber': 3775, 'tension': 3776, 'commission': 3777, 'ten': 3778, \"'what\": 3779, 'cambridge': 3780, 'thankful': 3781, 'safely': 3782, 'captain': 3783, 'britain': 3784, 'corporation': 3785, 'satellite': 3786, 'citizen': 3787, 'gains': 3788, 'neo': 3789, 'prefer': 3790, 'picked': 3791, 'unknown': 3792, '43': 3793, 'transform': 3794, 'debut': 3795, 'tower': 3796, 'entering': 3797, 'grace': 3798, 'horses': 3799, 'development': 3800, 'bought': 3801, 'meaning': 3802, 'sequel': 3803, 'complex': 3804, 'matthew': 3805, 'ross': 3806, 'aftermath': 3807, 'treats': 3808, 'producer': 3809, 'rivers': 3810, 'embrace': 3811, 'rhetoric': 3812, 'carly': 3813, 'fiorina': 3814, \"'do\": 3815, 'responsibility': 3816, \"'don't\": 3817, 'abusive': 3818, 'ignore': 3819, 'migrant': 3820, 'equally': 3821, 'agreement': 3822, \"'that\": 3823, 'feared': 3824, 'wisdom': 3825, 'yorkers': 3826, 'math': 3827, 'solo': 3828, 'delta': 3829, 'birds': 3830, 'chick': 3831, 'wonders': 3832, 'unique': 3833, 'maps': 3834, 'sexy': 3835, 'cheaper': 3836, 'rihanna': 3837, 'purchasing': 3838, 'pair': 3839, 'clooney': 3840, 'cent': 3841, 'damon': 3842, 'doors': 3843, 'ages': 3844, 'sweater': 3845, 'rain': 3846, 'confirmation': 3847, 'spain': 3848, 'slept': 3849, 'subject': 3850, 'powerball': 3851, 'flynn': 3852, 'performing': 3853, 'embarrassing': 3854, 'alton': 3855, 'sterling': 3856, 'wind': 3857, 'jet': 3858, 'bone': 3859, 'chamber': 3860, 'allowed': 3861, 'turnout': 3862, 'sat': 3863, 'delays': 3864, 'aged': 3865, 'triple': 3866, 'katie': 3867, 'wheelchair': 3868, 'melt': 3869, 'clue': 3870, 'hunt': 3871, 'thompson': 3872, 'rural': 3873, 'sexism': 3874, 'bites': 3875, 'watched': 3876, 'astronomers': 3877, 'package': 3878, 'agriculture': 3879, 'sweat': 3880, 'rent': 3881, 'score': 3882, 'moral': 3883, 'toe': 3884, \"go'\": 3885, 'tricks': 3886, 'assure': 3887, 'italy': 3888, 'spouse': 3889, 'scout': 3890, 'mine': 3891, 'libya': 3892, 'horrific': 3893, '250': 3894, 'helicopter': 3895, 'appeal': 3896, 'arrests': 3897, 'tourists': 3898, 'crawling': 3899, 'comics': 3900, 'protester': 3901, 'adding': 3902, 'burned': 3903, 'fence': 3904, 'facing': 3905, 'strange': 3906, 'nevada': 3907, 'briefing': 3908, 'limits': 3909, 'curb': 3910, 'bo': 3911, 'vegetarian': 3912, 'cutting': 3913, 'shots': 3914, 'cancels': 3915, 'cites': 3916, 'alarm': 3917, \"me'\": 3918, '34': 3919, 'ariana': 3920, 'felt': 3921, 'pipe': 3922, 'hidden': 3923, 'arkansas': 3924, 'blocking': 3925, 'chelsea': 3926, 'dreading': 3927, 'deficit': 3928, \"cnn's\": 3929, 'roommates': 3930, 'demographic': 3931, 'implants': 3932, 'rejects': 3933, 'regulations': 3934, 'showed': 3935, 'values': 3936, 'lays': 3937, 'snake': 3938, 'signature': 3939, 'wrote': 3940, 'household': 3941, 'dialogue': 3942, 'smile': 3943, 'sits': 3944, 'café': 3945, 'revenge': 3946, 'warm': 3947, '27': 3948, 'unions': 3949, 'jewelry': 3950, 'jumps': 3951, 'lord': 3952, \"'batman\": 3953, 'classified': 3954, 'explores': 3955, 'scare': 3956, 'buddy': 3957, 'taps': 3958, 'offered': 3959, 'mainstream': 3960, 'polling': 3961, 'dolphins': 3962, 'permission': 3963, 'machines': 3964, 'maine': 3965, 'obsession': 3966, 'convince': 3967, 'disclose': 3968, 'goldman': 3969, 'sachs': 3970, 'hanging': 3971, 'pat': 3972, 'settle': 3973, 'aniston': 3974, 'romantic': 3975, 'vomit': 3976, 'jill': 3977, 'purpose': 3978, 'coat': 3979, 'casino': 3980, 'readers': 3981, 'lamar': 3982, 'journalism': 3983, 'daring': 3984, 'simply': 3985, 'caucus': 3986, 'goal': 3987, 'emerges': 3988, 'alaska': 3989, 'id': 3990, 'confusing': 3991, 'mosque': 3992, 'disappear': 3993, 'polar': 3994, 'twist': 3995, '31': 3996, 'procedure': 3997, 'killings': 3998, 'delay': 3999, 'grandson': 4000, 'upside': 4001, '–': 4002, 'standards': 4003, 'venus': 4004, 'session': 4005, 'tragic': 4006, 'celebs': 4007, \"us'\": 4008, 'spread': 4009, 'baldwin': 4010, 'bare': 4011, 'murders': 4012, \"country's\": 4013, 'heritage': 4014, 'fries': 4015, 'bread': 4016, 'suffer': 4017, 'soap': 4018, 'tickets': 4019, 'wire': 4020, \"america'\": 4021, 'madness': 4022, \"o'reilly\": 4023, 'accepted': 4024, 'banning': 4025, 'mindfulness': 4026, 'focused': 4027, 'petition': 4028, 'gentrification': 4029, \"boyfriend's\": 4030, 'hurting': 4031, 'psychic': 4032, 'exposes': 4033, 'hong': 4034, 'kong': 4035, 'elaborate': 4036, 'pit': 4037, 'graders': 4038, 'undecided': 4039, 'monitor': 4040, 'traveler': 4041, 'hbo': 4042, \"'saturday\": 4043, 'flood': 4044, 'scary': 4045, 'irish': 4046, 'flooding': 4047, 'tearful': 4048, 'kit': 4049, 'views': 4050, 'cares': 4051, 'obesity': 4052, 'hanks': 4053, 'iron': 4054, 'uninsured': 4055, 'charleston': 4056, 'happiest': 4057, 'harrowing': 4058, 'knocked': 4059, 'mit': 4060, 'develops': 4061, \"panther'\": 4062, 'hairstyle': 4063, 'affect': 4064, 'gently': 4065, 'file': 4066, 'regret': 4067, 'organic': 4068, 'lifestyle': 4069, 'tunnel': 4070, 'tradition': 4071, 'op': 4072, 'preparing': 4073, 'embassy': 4074, 'haters': 4075, 'musk': 4076, 'fuel': 4077, 'dean': 4078, 'preview': 4079, 'mistaken': 4080, '911': 4081, 'impeachment': 4082, 'qatar': 4083, 'nine': 4084, 'harris': 4085, 'andy': 4086, 'dates': 4087, 'hack': 4088, 'motion': 4089, 'castro': 4090, 'mini': 4091, 'democrat': 4092, 'funded': 4093, 'jazz': 4094, 'ali': 4095, 'alcohol': 4096, 'windows': 4097, 'camping': 4098, 'signing': 4099, 'gomez': 4100, 'suspicious': 4101, 'turtle': 4102, 'lethal': 4103, 'loyal': 4104, 'measure': 4105, 'tearfully': 4106, 'divided': 4107, 'intern': 4108, 'container': 4109, 'obituary': 4110, 'tie': 4111, 'poses': 4112, 'blues': 4113, 'smaller': 4114, 'powered': 4115, 'citizenship': 4116, 'excuse': 4117, 'crap': 4118, 'deny': 4119, 'blaming': 4120, 'sudden': 4121, 'halt': 4122, 'rings': 4123, 'vladimir': 4124, 'grotesque': 4125, 'dorm': 4126, 'fisher': 4127, \"you'd\": 4128, 'knee': 4129, 'jeans': 4130, 'grills': 4131, 'raped': 4132, 'document': 4133, 'approve': 4134, 'crashing': 4135, 'suffering': 4136, 'yelling': 4137, 'faster': 4138, 'crossing': 4139, 'pour': 4140, \"guy'\": 4141, 'label': 4142, 'slain': 4143, 'pastor': 4144, 'dude': 4145, 'clever': 4146, 'packed': 4147, '83': 4148, \"i'll\": 4149, 'murdered': 4150, 'classroom': 4151, 'styles': 4152, 'mariah': 4153, 'flat': 4154, 'seats': 4155, 'wounded': 4156, 'outfits': 4157, 'purchased': 4158, 'tied': 4159, 'accuse': 4160, 'swiss': 4161, 'poem': 4162, 'bitter': 4163, 'clothing': 4164, 'surprisingly': 4165, 'complain': 4166, 'flash': 4167, 'survival': 4168, 'ratings': 4169, 'overcome': 4170, 'basic': 4171, 'systems': 4172, 'trends': 4173, 'studies': 4174, 'butter': 4175, 'displays': 4176, 'environmental': 4177, 'holder': 4178, 'pushing': 4179, 'vacationing': 4180, 'compliment': 4181, 'analyst': 4182, 'potter': 4183, 'reference': 4184, 'egypt': 4185, 'sworn': 4186, 'bullet': 4187, 'martha': 4188, 'arabia': 4189, 'condemn': 4190, \"'bad\": 4191, 'prisoner': 4192, 'lazy': 4193, 'sells': 4194, 'bet': 4195, 'creators': 4196, \"'pretty\": 4197, 'genetic': 4198, 'sustainable': 4199, \"tuesday's\": 4200, 'gene': 4201, 'kris': 4202, \"jenner's\": 4203, 'bathing': 4204, 'versus': 4205, 'device': 4206, 'complicated': 4207, 'healing': 4208, 'blasted': 4209, 'deceased': 4210, 'ruining': 4211, 'lisa': 4212, 'waits': 4213, 'hottest': 4214, \"they'll\": 4215, 'del': 4216, \"'in\": 4217, 'samsung': 4218, 'galaxy': 4219, 'mama': 4220, 'cuomo': 4221, 'elevator': 4222, 'innovation': 4223, 'spin': 4224, 'sued': 4225, \"times'\": 4226, 'productive': 4227, 'kristen': 4228, 'craig': 4229, 'entrepreneur': 4230, 'shell': 4231, 'charlotte': 4232, 'baton': 4233, 'requests': 4234, 'tournament': 4235, 'vin': 4236, 'builds': 4237, 'unity': 4238, 'tsarnaev': 4239, 'wheels': 4240, 'woods': 4241, 'mar': 4242, 'lago': 4243, 'intimate': 4244, 'metoo': 4245, 'lover': 4246, \"down'\": 4247, 'bartender': 4248, 'compete': 4249, 'pelosi': 4250, 'checked': 4251, 'mistake': 4252, 'genocide': 4253, 'locks': 4254, 'detained': 4255, 'bully': 4256, 'halfway': 4257, 'rocky': 4258, 'collapse': 4259, 'awarded': 4260, 'pressure': 4261, 'burden': 4262, 'directors': 4263, 'spielberg': 4264, 'patron': 4265, 'feeding': 4266, 'giants': 4267, 'aisle': 4268, 'plunge': 4269, 'mlb': 4270, 'stamp': 4271, 'excitedly': 4272, 'laura': 4273, 'exhibit': 4274, 'executed': 4275, 'opinions': 4276, 'stream': 4277, 'grants': 4278, 'rio': 4279, 'envelope': 4280, 'salt': 4281, 'recipe': 4282, 'legendary': 4283, \"nra's\": 4284, 'relations': 4285, 'looms': 4286, 'opened': 4287, 'kendall': 4288, \"teen's\": 4289, 'adults': 4290, 'mile': 4291, 'injuries': 4292, 'selection': 4293, 'assured': 4294, 'abc': 4295, 'bureau': 4296, 'dollars': 4297, 'breakthrough': 4298, 'illusion': 4299, 'shelf': 4300, 'emmy': 4301, 'oath': 4302, 'disturbing': 4303, 'seasons': 4304, 'cvs': 4305, 'promoting': 4306, 'steal': 4307, 'jealous': 4308, 'riot': 4309, 'refusing': 4310, 'rolling': 4311, 'flames': 4312, 'stunned': 4313, 'cruel': 4314, '47': 4315, 'definitely': 4316, 'increasing': 4317, 'andrew': 4318, 'liberals': 4319, 'newt': 4320, 'grandpa': 4321, 'anxious': 4322, 'solutions': 4323, 'miserable': 4324, 'rocks': 4325, 'runway': 4326, 'folks': 4327, 'dhs': 4328, 'supremacist': 4329, 'distant': 4330, 'manafort': 4331, \"girlfriend's\": 4332, 'dental': 4333, 'expecting': 4334, 'aliens': 4335, 'paintings': 4336, 'activism': 4337, 'utter': 4338, 'surviving': 4339, 'militants': 4340, 'russell': 4341, 'humiliating': 4342, 'mention': 4343, 'bitch': 4344, 'stadium': 4345, 'inch': 4346, 'apply': 4347, 'corporations': 4348, 'roberts': 4349, 'backup': 4350, 'mart': 4351, 'flags': 4352, 'angela': 4353, 'require': 4354, 'airplane': 4355, 'count': 4356, 'doritos': 4357, 'supply': 4358, 'gratitude': 4359, 'grande': 4360, 'neither': 4361, 'merkel': 4362, 'bitcoin': 4363, 'experiences': 4364, 'mortgage': 4365, 'amber': 4366, 'publicist': 4367, 'islamophobia': 4368, 'starving': 4369, 'volunteer': 4370, 'fiction': 4371, 'millennial': 4372, \"wife's\": 4373, 'everybody': 4374, 'bright': 4375, '2009': 4376, 'telescope': 4377, 'classmates': 4378, 'logo': 4379, 'lobster': 4380, 'hilary': 4381, 'drunken': 4382, 'print': 4383, 'gordon': 4384, 'closing': 4385, 'explosion': 4386, 'discovery': 4387, 'cycle': 4388, 'ate': 4389, 'rehab': 4390, 'myth': 4391, 'net': 4392, \"daughter's\": 4393, 'springsteen': 4394, 'cousin': 4395, 'watches': 4396, 'lame': 4397, 'civilians': 4398, 'oxford': 4399, 'gray': 4400, \"day'\": 4401, 'floods': 4402, 'swimsuit': 4403, 'accounts': 4404, 'disappointing': 4405, 'vietnam': 4406, 'error': 4407, 'hut': 4408, 'bias': 4409, 'rushes': 4410, 'random': 4411, 'powers': 4412, 'returned': 4413, 'bay': 4414, 'reforms': 4415, 'pretend': 4416, 'disability': 4417, 'parts': 4418, 'manning': 4419, 'marathon': 4420, 'bath': 4421, 'sisters': 4422, 'obamas': 4423, 'bubble': 4424, 'emmys': 4425, 'bieber': 4426, 'prep': 4427, 'decided': 4428, \"earth's\": 4429, 'o': 4430, '89': 4431, 'endless': 4432, 'pleasure': 4433, 'va': 4434, 'concrete': 4435, 'beijing': 4436, 'resume': 4437, 'kitten': 4438, \"students'\": 4439, 'acres': 4440, 'leonardo': 4441, 'dicaprio': 4442, 'motherhood': 4443, 'polish': 4444, 'letters': 4445, 'cube': 4446, 'cord': 4447, 'collecting': 4448, 'juice': 4449, 'lift': 4450, 'tongue': 4451, 'transparency': 4452, 'presence': 4453, 'luke': 4454, 'badass': 4455, 'bolton': 4456, 'learns': 4457, \"'who\": 4458, 'yorker': 4459, 'philip': 4460, 'morris': 4461, \"superman'\": 4462, 'grandkids': 4463, 'strapped': 4464, 'limiting': 4465, \"ceo's\": 4466, 'shout': 4467, 'leftovers': 4468, 'achieve': 4469, 'dare': 4470, 'reader': 4471, 'individual': 4472, 'ya': 4473, 'includes': 4474, 'gate': 4475, 'introduce': 4476, 'bullets': 4477, 'counter': 4478, 'bother': 4479, 'statements': 4480, 'replaced': 4481, 'toddlers': 4482, 'garland': 4483, \"it'\": 4484, 'breath': 4485, 'trap': 4486, 'spicy': 4487, 'serves': 4488, 'pilgrimage': 4489, 'courage': 4490, 'strategies': 4491, 'bryan': 4492, 'mocked': 4493, 'hotels': 4494, 'ramadan': 4495, 'tide': 4496, 'virtual': 4497, 'suffers': 4498, 'tragically': 4499, \"'trump\": 4500, 'ripped': 4501, 'heartwarming': 4502, 'tuition': 4503, 'kendrick': 4504, 'pulitzer': 4505, 'cuban': 4506, 'nabs': 4507, 'oppose': 4508, \"'hamilton'\": 4509, 'vehicle': 4510, 'mount': 4511, 'gallery': 4512, \"'super\": 4513, 'distance': 4514, 'curiosity': 4515, 'sleeps': 4516, 'types': 4517, 'provide': 4518, 'bernardino': 4519, 'proper': 4520, 'pole': 4521, 'tackling': 4522, 'presentation': 4523, 'forms': 4524, 'booth': 4525, 'melissa': 4526, 'proposes': 4527, 'hobby': 4528, 'breakdown': 4529, 'resist': 4530, 'cracked': 4531, 'especially': 4532, 'rookie': 4533, 'teary': 4534, 'nominees': 4535, 'massachusetts': 4536, 'bursts': 4537, 'remark': 4538, 'hateful': 4539, 'adventures': 4540, 'rumors': 4541, \"'why\": 4542, 'fest': 4543, 'balance': 4544, 'cannon': 4545, 'schoolers': 4546, 'annually': 4547, 'thin': 4548, 'preschool': 4549, '2020': 4550, 'twins': 4551, 'ambitions': 4552, 'bat': 4553, 'healthier': 4554, 'dignity': 4555, 'socks': 4556, 'files': 4557, 'settlement': 4558, 'discusses': 4559, 'sacrifice': 4560, 'risks': 4561, 'ignoring': 4562, 'constantly': 4563, 'sport': 4564, 'mic': 4565, 'cutest': 4566, 'bye': 4567, 'passage': 4568, 'eva': 4569, 'casting': 4570, \"'just\": 4571, 'obvious': 4572, 'myanmar': 4573, 'griffin': 4574, 'regulation': 4575, 'smell': 4576, 'madonna': 4577, 'marching': 4578, 'brilliant': 4579, 'silicon': 4580, 'peers': 4581, 'egyptian': 4582, 'ebay': 4583, \"games'\": 4584, 'cameron': 4585, 'cease': 4586, 'wasting': 4587, 'superhero': 4588, \"'captain\": 4589, 'milo': 4590, 'precious': 4591, 'emerge': 4592, 'mobile': 4593, 'sanctions': 4594, 'fellow': 4595, 'rejected': 4596, 'chilling': 4597, 'deemed': 4598, 'lewis': 4599, 'kindness': 4600, 'considers': 4601, 'password': 4602, 'directions': 4603, 'mock': 4604, 'hacks': 4605, 'toast': 4606, 'inches': 4607, 'rumored': 4608, 'ailes': 4609, 'styrofoam': 4610, 'pacific': 4611, 'bowie': 4612, 'castle': 4613, 'serve': 4614, 'penalty': 4615, 'peyton': 4616, 'weekly': 4617, 'tear': 4618, \"bannon's\": 4619, 'arianna': 4620, 'cohen': 4621, 'pals': 4622, 'hispanic': 4623, 'rounds': 4624, 'donate': 4625, \"'empire'\": 4626, 'sony': 4627, 'talent': 4628, 'pets': 4629, 'elementary': 4630, 'terms': 4631, 'ashley': 4632, 'assisted': 4633, 'dole': 4634, 'muhammad': 4635, 'postal': 4636, 'european': 4637, 'lifting': 4638, 'opposing': 4639, 'overlooked': 4640, 'scenes': 4641, 'lincoln': 4642, 'describes': 4643, 'brush': 4644, 'chips': 4645, 'pep': 4646, 'patrons': 4647, \"everyone's\": 4648, 'feinstein': 4649, 'mega': 4650, 'wonderful': 4651, 'dreamed': 4652, 'clarifies': 4653, 'curious': 4654, 'visitors': 4655, 'piano': 4656, 'desire': 4657, 'dame': 4658, 'spice': 4659, 'ear': 4660, 'wielding': 4661, 'properly': 4662, 'nightlife': 4663, 'roth': 4664, 'fills': 4665, 'shave': 4666, 'esteem': 4667, 'nail': 4668, 'beard': 4669, 'syndrome': 4670, 'cereal': 4671, 'pardon': 4672, 'spiritual': 4673, 'truths': 4674, \"baby's\": 4675, 'afternoon': 4676, 'eighth': 4677, 'nations': 4678, 'supremacy': 4679, \"jedi'\": 4680, 'expand': 4681, 'currency': 4682, 'asia': 4683, 'pill': 4684, 'whites': 4685, 'carrie': 4686, 'homelessness': 4687, 'attacked': 4688, 'fireworks': 4689, 'ncaa': 4690, 'olivia': 4691, 'dustin': 4692, 'bleeding': 4693, 'nose': 4694, 'harassed': 4695, 'fathers': 4696, 'boardroom': 4697, 'opponent': 4698, 'stomach': 4699, 'threaten': 4700, 'globe': 4701, 'hungry': 4702, 'pyramid': 4703, 'denying': 4704, 'irs': 4705, 'spray': 4706, 'exposure': 4707, 'attending': 4708, 'fastest': 4709, 'usher': 4710, \"'it\": 4711, 'bookstore': 4712, 'rented': 4713, 'blacks': 4714, 'carries': 4715, 'tracking': 4716, 'er': 4717, 'crushing': 4718, 'informed': 4719, \"india's\": 4720, 'simon': 4721, 'camps': 4722, 'solved': 4723, 'hey': 4724, 'wendy': 4725, 'laurie': 4726, \"director's\": 4727, 'realistic': 4728, 'clark': 4729, \"'to\": 4730, 'allergies': 4731, 'landmark': 4732, \"years'\": 4733, 'foster': 4734, 'loaded': 4735, 'proving': 4736, 'emerging': 4737, 'bedtime': 4738, 'cigarettes': 4739, 'arab': 4740, 'troubled': 4741, 'nominated': 4742, '65': 4743, 'cow': 4744, 'citing': 4745, 'barrel': 4746, 'palm': 4747, 'guess': 4748, 'jane': 4749, 'megyn': 4750, 'closed': 4751, 'interrupted': 4752, 'phelps': 4753, 'microwave': 4754, 'electoral': 4755, 'diego': 4756, 'rhino': 4757, 'captivity': 4758, 'races': 4759, 'ordinary': 4760, 'worn': 4761, 'stepping': 4762, 'dry': 4763, 'merrick': 4764, 'protesting': 4765, 'nickname': 4766, 'crush': 4767, 'bulls': 4768, 'delivered': 4769, 'repealed': 4770, 'theresa': 4771, \"'how\": 4772, 'homosexual': 4773, 'competition': 4774, 'trees': 4775, \"bush's\": 4776, 'crushes': 4777, 'martial': 4778, 'yelp': 4779, 'lab': 4780, '33': 4781, 'deadline': 4782, 'photography': 4783, 'tina': 4784, \"'most\": 4785, 'ambitious': 4786, 'tap': 4787, 'serving': 4788, 'forgetting': 4789, 'diesel': 4790, 'planner': 4791, 'jackpot': 4792, 'secure': 4793, 'drilling': 4794, 'trading': 4795, '1998': 4796, 'dramatic': 4797, 'rapidly': 4798, 'invitation': 4799, 'nazis': 4800, 'peter': 4801, 'lemon': 4802, 'conviction': 4803, 'parties': 4804, 'reunited': 4805, 'stuns': 4806, 'suspension': 4807, 'tensions': 4808, '28': 4809, 'alarming': 4810, 'nest': 4811, 'latin': 4812, 'christina': 4813, 'pleads': 4814, 'utah': 4815, 'beware': 4816, 'emotionally': 4817, 'invasion': 4818, 'script': 4819, 'stripper': 4820, 'haunting': 4821, 'balls': 4822, 'skull': 4823, 'otherwise': 4824, 'reagan': 4825, 'unclear': 4826, 'mentor': 4827, 'splitting': 4828, 'woes': 4829, \"nation'\": 4830, 'kissing': 4831, 'hostage': 4832, \"trump'\": 4833, 'separate': 4834, 'phrase': 4835, 'blowing': 4836, 'aquarium': 4837, 'editors': 4838, 'ongoing': 4839, '78': 4840, 'walmart': 4841, 'cultural': 4842, 'notes': 4843, 'nuts': 4844, 'legalize': 4845, 'verizon': 4846, 'locations': 4847, 'convinced': 4848, \"zuckerberg's\": 4849, 'reject': 4850, 'steam': 4851, \"administration's\": 4852, 'hung': 4853, 'investigating': 4854, 'taped': 4855, 'attendant': 4856, 'outfit': 4857, 'brett': 4858, 'physically': 4859, 'highlight': 4860, \"teacher's\": 4861, 'safer': 4862, 'stylish': 4863, \"ryan's\": 4864, 'combat': 4865, 'jam': 4866, 'hang': 4867, 'busted': 4868, 'damn': 4869, 'eddie': 4870, 'musicians': 4871, 'captured': 4872, \"dog's\": 4873, 'sheer': 4874, 'internal': 4875, 'refrigerator': 4876, 'faa': 4877, 'murphy': 4878, 'sexuality': 4879, 'vp': 4880, 'roots': 4881, 'lynch': 4882, 'nabisco': 4883, 'fewer': 4884, 'refuge': 4885, \"'harry\": 4886, \"potter'\": 4887, 'meme': 4888, 'kindergarten': 4889, 'courts': 4890, 'reflects': 4891, 'charter': 4892, 'strict': 4893, 'roast': 4894, 'mediterranean': 4895, 'awkwardly': 4896, 'abortions': 4897, 'slam': 4898, 'stem': 4899, 'comment': 4900, 'ducks': 4901, 'rip': 4902, 'refuse': 4903, 'swing': 4904, '2010': 4905, 'core': 4906, \"o'malley\": 4907, 'concept': 4908, 'definition': 4909, 'prepared': 4910, 'legalization': 4911, 'spanish': 4912, 'craigslist': 4913, 'pen': 4914, 'barbecue': 4915, 'protection': 4916, 'tested': 4917, 'kittens': 4918, '98': 4919, '58': 4920, 'cap': 4921, 'homicide': 4922, 'critic': 4923, 'lyrics': 4924, 'divide': 4925, 'existence': 4926, 'podium': 4927, 'myself': 4928, 'dave': 4929, 'pours': 4930, 'battles': 4931, 'handling': 4932, 'narrowly': 4933, \"she'll\": 4934, 'pete': 4935, 'naacp': 4936, 'cookie': 4937, 'considered': 4938, 'backing': 4939, 'interviews': 4940, 'extended': 4941, 'cole': 4942, 'assume': 4943, 'rainbow': 4944, 'wrestling': 4945, 'glorious': 4946, 'haircut': 4947, 'rabbit': 4948, 'horrors': 4949, 'roads': 4950, \"swift's\": 4951, 'promote': 4952, 'looming': 4953, 'revival': 4954, 'radical': 4955, \"industry's\": 4956, 'roller': 4957, 'liquor': 4958, 'donut': 4959, 'abrams': 4960, 'wednesday': 4961, 'profits': 4962, 'wal': 4963, '96': 4964, 'explained': 4965, 'collect': 4966, 'churches': 4967, 'doug': 4968, '2008': 4969, 'greek': 4970, 'streaming': 4971, 'origin': 4972, 'owns': 4973, 'connected': 4974, 'portraits': 4975, 'accusers': 4976, 'targeting': 4977, 'drought': 4978, \"student's\": 4979, 'landing': 4980, 'acts': 4981, 'diabetes': 4982, 'battling': 4983, 'bankrupt': 4984, 'patent': 4985, 'cdc': 4986, 'shed': 4987, 'shortage': 4988, 'leak': 4989, 'borders': 4990, 'savings': 4991, 'differences': 4992, 'moron': 4993, 'brooklyn': 4994, 'bats': 4995, 'slaying': 4996, 'punishment': 4997, 'moderator': 4998, 'storage': 4999, 'gown': 5000, 'tpp': 5001, 'heavy': 5002, 'gaps': 5003, \"peter's\": 5004, 'fashioned': 5005, 'balcony': 5006, 'overnight': 5007, 'gum': 5008, 'actions': 5009, 'fossil': 5010, \"pence's\": 5011, 'hired': 5012, 'advantage': 5013, 'cameras': 5014, 'shopper': 5015, 'inspiration': 5016, 'misleading': 5017, 'object': 5018, 'adele': 5019, 'writes': 5020, 'playlist': 5021, '5th': 5022, 'slavery': 5023, 'janet': 5024, \"on'\": 5025, 'dealer': 5026, 'steals': 5027, 'connecticut': 5028, 'ruth': 5029, 'lindsay': 5030, 'revealing': 5031, 'neutrality': 5032, 'convicted': 5033, 'dangerously': 5034, 'proclaims': 5035, 'inform': 5036, 'gm': 5037, 'boom': 5038, 'encounter': 5039, 'aim': 5040, 'sides': 5041, 'michele': 5042, 'shirtless': 5043, 'managing': 5044, \"france's\": 5045, 'murray': 5046, 'region': 5047, 'shades': 5048, '79': 5049, 'el': 5050, 'depot': 5051, 'none': 5052, 'cleans': 5053, 'bite': 5054, '36': 5055, 'recession': 5056, 'tesla': 5057, 'flies': 5058, 'tommy': 5059, 'smoker': 5060, 'extends': 5061, 'arriving': 5062, 'loyalty': 5063, 'firefighters': 5064, 'raids': 5065, 'loans': 5066, 'braces': 5067, 'reporting': 5068, 'recipients': 5069, 'advance': 5070, 'ham': 5071, \"correspondents'\": 5072, 'cocaine': 5073, 'earlier': 5074, 'bullying': 5075, 'forbidden': 5076, 'associated': 5077, 'lay': 5078, 'bananas': 5079, 'wooden': 5080, 'unite': 5081, 'excitement': 5082, 'butt': 5083, 'flower': 5084, 'acceptance': 5085, 'increased': 5086, 'mac': 5087, 'celebration': 5088, 'photograph': 5089, 'biting': 5090, 'degree': 5091, 'priebus': 5092, 'item': 5093, 'designers': 5094, 'influenced': 5095, 'campaigns': 5096, 'quest': 5097, 'gut': 5098, 'bipartisan': 5099, 'receiving': 5100, 'advertising': 5101, 'hint': 5102, 'instructions': 5103, 'prank': 5104, 'solidarity': 5105, 'teller': 5106, 'ounce': 5107, 'hopefuls': 5108, 'sketch': 5109, 'successfully': 5110, 'lung': 5111, 'hastily': 5112, \"bachelor'\": 5113, 'slur': 5114, 'copy': 5115, 'blamed': 5116, 'passion': 5117, 'demanding': 5118, 'blitzer': 5119, \"guy's\": 5120, 'hamill': 5121, 'workday': 5122, 'slope': 5123, \"people'\": 5124, 'filmed': 5125, 'tyler': 5126, 'ensure': 5127, 'bullied': 5128, 'cage': 5129, 'described': 5130, 'monsanto': 5131, 'messages': 5132, 'justify': 5133, 'unusual': 5134, 'imagined': 5135, 'protected': 5136, 'standoff': 5137, 'essentials': 5138, 'shelves': 5139, 'scouts': 5140, 'adorably': 5141, 'contempt': 5142, 'arpaio': 5143, 'uncertainty': 5144, 'pigeon': 5145, 'replaces': 5146, 'tire': 5147, 'odd': 5148, \"russia's\": 5149, 'breitbart': 5150, 'analysis': 5151, 'graffiti': 5152, 'prejudice': 5153, 'context': 5154, 'participate': 5155, 'treasure': 5156, 'feminists': 5157, 'kits': 5158, 'christians': 5159, \"soon'\": 5160, 'fighter': 5161, 'tsa': 5162, \"bad'\": 5163, 'planes': 5164, 'aarp': 5165, 'scams': 5166, 'confessions': 5167, 'laquan': 5168, 'outrage': 5169, 'bucket': 5170, 'testify': 5171, 'landed': 5172, 'claiming': 5173, 'fred': 5174, 'olsen': 5175, 'apologizing': 5176, 'heading': 5177, 'waves': 5178, 'gallup': 5179, \"city's\": 5180, 'alec': 5181, 'monopoly': 5182, 'usda': 5183, 'copies': 5184, 'homosexuality': 5185, 'hernandez': 5186, 'produce': 5187, 'drones': 5188, 'handed': 5189, 'deputies': 5190, 'fetish': 5191, 'improving': 5192, 'received': 5193, 'crop': 5194, \"apple's\": 5195, 'rallies': 5196, 'lifelong': 5197, 'unpopular': 5198, 'pistorius': 5199, 'bloody': 5200, 'soup': 5201, 'rider': 5202, 'alien': 5203, 'stereotypes': 5204, 'da': 5205, 'insult': 5206, 'brutality': 5207, 'looney': 5208, 'diana': 5209, 'marry': 5210, 'required': 5211, 'reminding': 5212, 'rowling': 5213, \"girl'\": 5214, 'hart': 5215, 'sabotage': 5216, 'commit': 5217, 'embraces': 5218, \"boy's\": 5219, 'register': 5220, 'closes': 5221, \"un's\": 5222, 'disastrous': 5223, 'activity': 5224, 'xbox': 5225, 'bullshit': 5226, 'explanation': 5227, 'sudan': 5228, 'doubles': 5229, 'princeton': 5230, 'confront': 5231, 'deaf': 5232, 'reluctantly': 5233, 'freddie': 5234, 'enraged': 5235, 'pretending': 5236, 'delayed': 5237, 'addict': 5238, 'doll': 5239, 'engaged': 5240, 'encourage': 5241, 'wash': 5242, 'hugh': 5243, '57': 5244, 'purple': 5245, 'wealth': 5246, 'shipment': 5247, 'denver': 5248, 'goat': 5249, 'panicking': 5250, 'usual': 5251, 'arguments': 5252, 'freaked': 5253, 'wildfires': 5254, 'crucial': 5255, 'seals': 5256, 'theatre': 5257, 'anticipated': 5258, 'markets': 5259, 'bursting': 5260, 'watchdog': 5261, 'layoffs': 5262, \"york's\": 5263, \"wendy's\": 5264, 'gays': 5265, 'whatsoever': 5266, \"'time'\": 5267, 'brace': 5268, 'inevitable': 5269, 'designs': 5270, 'verge': 5271, 'beans': 5272, \"'n\": 5273, 'answered': 5274, 'solitary': 5275, \"brazil's\": 5276, 'scottish': 5277, \"'x\": 5278, \"files'\": 5279, 'sci': 5280, 'kourtney': 5281, 'disick': 5282, 'advocate': 5283, 'retirees': 5284, 'nunes': 5285, 'edited': 5286, \"'anti\": 5287, 'mill': 5288, 'wows': 5289, 'monologue': 5290, 'formal': 5291, 'calories': 5292, 'gallons': 5293, 'picnic': 5294, 'driverless': 5295, 'stunt': 5296, 'colorful': 5297, 'joaquin': 5298, 'twin': 5299, 'rescues': 5300, 'hogan': 5301, 'champion': 5302, 'hpv': 5303, 'soft': 5304, 'dragging': 5305, 'owe': 5306, 'somalia': 5307, 'conflicts': 5308, 'commute': 5309, 'diseases': 5310, 'powell': 5311, 'rod': 5312, 'alcoholism': 5313, 'towel': 5314, 'libyan': 5315, 'kirsten': 5316, 'playstation': 5317, 'promotion': 5318, 'rebuild': 5319, 'classmate': 5320, 'resistant': 5321, 'ripping': 5322, 'redemption': 5323, 'parks': 5324, 'recovering': 5325, 'dianne': 5326, 'embracing': 5327, 'scale': 5328, 'shy': 5329, 'haiti': 5330, 'gain': 5331, 'cds': 5332, 'sharply': 5333, 'goldfish': 5334, 'mosul': 5335, 'delighted': 5336, 'notre': 5337, 'column': 5338, 'steak': 5339, 'elephant': 5340, 'margaret': 5341, 'potato': 5342, 'exists': 5343, 'douglas': 5344, 'katrina': 5345, 'extremists': 5346, 'offices': 5347, 'interested': 5348, \"coworker's\": 5349, 'unlikely': 5350, 'warehouse': 5351, 'hedge': 5352, 'mask': 5353, 'middleton': 5354, 'reputation': 5355, 'doping': 5356, 'touched': 5357, 'ap': 5358, 'spencer': 5359, 'alt': 5360, 'cosmopolitan': 5361, 'locker': 5362, 'mat': 5363, 'ingredients': 5364, 'hunter': 5365, 'screenwriter': 5366, 'consumption': 5367, 'huffington': 5368, 'visibly': 5369, 'cardboard': 5370, 'emotions': 5371, 'snack': 5372, 'bradley': 5373, 'organizing': 5374, 'carey': 5375, 'expression': 5376, 'wells': 5377, 'employment': 5378, 'kicking': 5379, 'swastika': 5380, 'license': 5381, 'bowling': 5382, 'font': 5383, 'pakistani': 5384, 'plants': 5385, 'interests': 5386, 'abs': 5387, 'weddings': 5388, 'uncle': 5389, 'banned': 5390, 'destroying': 5391, 'npr': 5392, 'venezuela': 5393, '8th': 5394, 'mph': 5395, 'boxer': 5396, 'hemsworth': 5397, 'collide': 5398, 'oral': 5399, 'refers': 5400, \"users'\": 5401, 'destroys': 5402, 'selects': 5403, 'carrier': 5404, 'keith': 5405, 'ahmed': 5406, 'gwyneth': 5407, 'lifts': 5408, \"romney's\": 5409, 'standard': 5410, 'acquaintance': 5411, 'deer': 5412, 'detainees': 5413, 'laser': 5414, 'joined': 5415, 'resident': 5416, 'yard': 5417, \"tv's\": 5418, 'crotch': 5419, 'admissions': 5420, \"americans'\": 5421, 'theaters': 5422, 'duke': 5423, 'channels': 5424, 'suggest': 5425, 'rodriguez': 5426, 'juicy': 5427, 'featured': 5428, 'eagle': 5429, 'gwen': 5430, 'stefani': 5431, 'protections': 5432, 'dump': 5433, '86': 5434, 'handing': 5435, 'differently': 5436, 'pakistan': 5437, 'suck': 5438, 'legalizes': 5439, 'visitor': 5440, 'spacey': 5441, 'souls': 5442, 'served': 5443, 'lauer': 5444, 'rescuers': 5445, 'pee': 5446, 'analytica': 5447, 'swarm': 5448, 'essential': 5449, \"time's\": 5450, 'uncertain': 5451, 'edwards': 5452, 'criticize': 5453, 'cherry': 5454, 'tomato': 5455, 'criticizing': 5456, 'dylan': 5457, 'junkie': 5458, 'smoke': 5459, 'consuming': 5460, 'rethink': 5461, 'concludes': 5462, \"amazon's\": 5463, 'slight': 5464, 'dawn': 5465, 'introduced': 5466, 'historians': 5467, 'jaw': 5468, 'strongly': 5469, 'jose': 5470, 'cyclist': 5471, 'playoff': 5472, 'farmers': 5473, 'crazed': 5474, 'injures': 5475, \"world'\": 5476, 'astronaut': 5477, 'popcorn': 5478, 'massage': 5479, 'recording': 5480, 'duck': 5481, 'fey': 5482, 'bass': 5483, 'virgin': 5484, 'benedict': 5485, 'textbook': 5486, 'cory': 5487, 'boosts': 5488, \"'guardians\": 5489, \"galaxy'\": 5490, 'noticing': 5491, 'unfortunately': 5492, 'pm': 5493, 'prosthetic': 5494, 'method': 5495, 'conversion': 5496, 'papal': 5497, \"president'\": 5498, 'bette': 5499, 'midler': 5500, 'rouge': 5501, 'yellowstone': 5502, 'punk': 5503, 'presidents': 5504, 'deleted': 5505, 'acknowledge': 5506, 'consultant': 5507, 'mourn': 5508, 'sparking': 5509, 'bio': 5510, 'active': 5511, 'wastes': 5512, 'define': 5513, \"game'\": 5514, 'whales': 5515, 'fueling': 5516, 'tapper': 5517, 'forgets': 5518, 'clad': 5519, 'seize': 5520, 'humor': 5521, 'investigator': 5522, 'issa': 5523, 'direction': 5524, 'degrees': 5525, 'advertisers': 5526, '44': 5527, 'pursue': 5528, 'stall': 5529, 'shamed': 5530, 'joseph': 5531, 'lovely': 5532, 'organs': 5533, \"o'\": 5534, 'dirt': 5535, 'consequences': 5536, \"'carpool\": 5537, \"karaoke'\": 5538, 'discussed': 5539, 'nowhere': 5540, 'advisor': 5541, 'antonin': 5542, 'explode': 5543, 'pact': 5544, 'sasha': 5545, 'southwest': 5546, 'chanting': 5547, 'televised': 5548, 'hungover': 5549, 'panics': 5550, 'wardrobe': 5551, 'documentaries': 5552, 'bombings': 5553, 'waters': 5554, 'tooth': 5555, 'savage': 5556, 'faced': 5557, 'existing': 5558, 'breach': 5559, 'ceasefire': 5560, 'gabrielle': 5561, 'reached': 5562, 'prayer': 5563, 'cocktail': 5564, 'recommendation': 5565, 'lauren': 5566, 'nhl': 5567, 'mandela': 5568, 'mug': 5569, 'wow': 5570, 'cerebral': 5571, 'palsy': 5572, 'attract': 5573, 'scrambling': 5574, 'shock': 5575, 'prefers': 5576, '29': 5577, 'disillusioned': 5578, 'react': 5579, 'condom': 5580, '41': 5581, 'dreaming': 5582, 'loudly': 5583, 'below': 5584, 'opponents': 5585, '92': 5586, 'nikki': 5587, 'haley': 5588, 'psychological': 5589, 'stabbing': 5590, 'harsh': 5591, \"scalia's\": 5592, 'hats': 5593, 'jeremy': 5594, 'hilton': 5595, 'complaints': 5596, 'include': 5597, 'darren': 5598, 'teddy': 5599, 'terry': 5600, 'pbs': 5601, 'facility': 5602, 'operator': 5603, 'piss': 5604, 'pillow': 5605, 'ethical': 5606, 'crave': 5607, 'disappears': 5608, 'tourism': 5609, 'angelina': 5610, 'jolie': 5611, 'dominates': 5612, 'satan': 5613, 'ivy': 5614, 'mogul': 5615, 'wheat': 5616, 'islamist': 5617, 'airstrikes': 5618, 'reflect': 5619, \"free'\": 5620, 'quote': 5621, \"'law\": 5622, 'sears': 5623, 'recap': 5624, 'prosecutors': 5625, 'donated': 5626, 'nassar': 5627, 'shameless': 5628, 'aggressive': 5629, 'earn': 5630, 'charlie': 5631, 'innovative': 5632, 'hummus': 5633, 'parental': 5634, \"jesus'\": 5635, 'reflection': 5636, 'discontinues': 5637, 'moderate': 5638, 'closest': 5639, \"'house\": 5640, 'alcoholic': 5641, 'yale': 5642, 'shreds': 5643, 'bangladesh': 5644, 'berkeley': 5645, 'wing': 5646, 'justices': 5647, 'harrison': 5648, 'obnoxious': 5649, 'creeped': 5650, 'tennessee': 5651, 'stores': 5652, 'drill': 5653, 'incredibly': 5654, 'shaking': 5655, 'cave': 5656, 'lied': 5657, 'entirety': 5658, 'info': 5659, 'highways': 5660, 'portland': 5661, 'organize': 5662, 'engineering': 5663, 'additional': 5664, 'smooth': 5665, \"mccain's\": 5666, 'boxes': 5667, 'caller': 5668, 'villain': 5669, 'hussein': 5670, 'collaboration': 5671, 'assed': 5672, 'reid': 5673, 'sanctuary': 5674, 'mrs': 5675, 'experiencing': 5676, 'pink': 5677, 'alleges': 5678, 'reflections': 5679, 'breathe': 5680, 'punched': 5681, 'nutritionists': 5682, 'constitutional': 5683, 'detention': 5684, 'load': 5685, 'areas': 5686, 'philippine': 5687, 'wreck': 5688, 'waiter': 5689, 'redefine': 5690, 'figured': 5691, 'yellow': 5692, 'professors': 5693, \"'on\": 5694, 'visa': 5695, 'tool': 5696, \"netflix's\": 5697, 'anecdote': 5698, 'overtime': 5699, 'hydraulic': 5700, 'futures': 5701, 'assaulting': 5702, 'remarkable': 5703, 'measles': 5704, 'involve': 5705, 'negotiating': 5706, 'extension': 5707, 'supports': 5708, \"states'\": 5709, 'wrapped': 5710, \"ain't\": 5711, 'arguing': 5712, \"day's\": 5713, 'boycott': 5714, 'eclipse': 5715, 'barnes': 5716, 'noble': 5717, 'ho': 5718, 'shade': 5719, 'chess': 5720, 'familiar': 5721, 'tariffs': 5722, 'sec': 5723, 'though': 5724, 'pic': 5725, 'generous': 5726, \"awakens'\": 5727, 'performs': 5728, 'chewing': 5729, 'alito': 5730, 'girlfriends': 5731, \"neighbor's\": 5732, 'delicate': 5733, 'happily': 5734, 'exxonmobil': 5735, 'reverse': 5736, \"one'\": 5737, \"god's\": 5738, 'thumb': 5739, 'complains': 5740, 'ended': 5741, 'arts': 5742, 'struck': 5743, 'widower': 5744, 'angels': 5745, \"guys'\": 5746, 'chances': 5747, 'confirmed': 5748, 'arrival': 5749, \"'mad\": 5750, \"men'\": 5751, 'accent': 5752, 'pussy': 5753, 'poorly': 5754, 'industrial': 5755, 'storms': 5756, 'empower': 5757, 'ignored': 5758, 'executions': 5759, 'phones': 5760, 'nap': 5761, 'rae': 5762, 'freed': 5763, 'decline': 5764, \"old's\": 5765, 'cure': 5766, 'nukes': 5767, 'habitat': 5768, 'consent': 5769, 'result': 5770, 'tampon': 5771, 'diamond': 5772, 'sheet': 5773, 'rome': 5774, 'awake': 5775, 'jefferson': 5776, 'tales': 5777, 'stumbles': 5778, 'departing': 5779, 'glowing': 5780, 'spreads': 5781, 'bucks': 5782, 'eco': 5783, 'employers': 5784, '450': 5785, 'monument': 5786, 'crate': 5787, \"'serial'\": 5788, 'pics': 5789, 'cleaner': 5790, 'hudson': 5791, 'tackle': 5792, 'avoided': 5793, 'nightclub': 5794, \"house'\": 5795, 'patiently': 5796, 'progressives': 5797, 'extinct': 5798, 'mayo': 5799, \"grace'\": 5800, 'pardons': 5801, 'gotten': 5802, 'tyson': 5803, 'medicare': 5804, 'climb': 5805, 'hears': 5806, 'torn': 5807, 'principles': 5808, 'spokesman': 5809, 'collar': 5810, 'lashes': 5811, 'boulder': 5812, \"place'\": 5813, 'cindy': 5814, 'robbery': 5815, 'forecast': 5816, \"'gay\": 5817, 'switches': 5818, 'preserve': 5819, \"'mr\": 5820, 'finishes': 5821, 'cabin': 5822, 'hazing': 5823, 'hangs': 5824, 'robots': 5825, 'rocket': 5826, 'category': 5827, 'mob': 5828, 'algorithm': 5829, 'badge': 5830, 'merge': 5831, 'controls': 5832, 'bader': 5833, 'ginsburg': 5834, 'grey': 5835, 'doodle': 5836, 'detailed': 5837, 'joining': 5838, 'vogue': 5839, 'takeout': 5840, \"hollywood's\": 5841, \"christmas'\": 5842, 'neglected': 5843, 'counting': 5844, 'simultaneously': 5845, 'humiliated': 5846, 'bounced': 5847, 'waving': 5848, 'screams': 5849, 'yo': 5850, \"'there\": 5851, 'bachmann': 5852, \"victoria's\": 5853, \"'death\": 5854, 'affects': 5855, 'headlines': 5856, 'simmons': 5857, 'ridiculously': 5858, 'pr': 5859, 'sandra': 5860, 'photographs': 5861, 'olympian': 5862, 'susan': 5863, 'carnival': 5864, 'reopens': 5865, 'haul': 5866, \"'good\": 5867, 'sink': 5868, 'pepsi': 5869, 'expose': 5870, 'comeback': 5871, 'principal': 5872, 'mishap': 5873, 'curse': 5874, 'manhattan': 5875, 'reunites': 5876, 'ourselves': 5877, 'busts': 5878, \"up'\": 5879, 'worship': 5880, 'alternate': 5881, 'motorist': 5882, 'dancers': 5883, 'impersonator': 5884, 'baghdad': 5885, 'included': 5886, 'filibuster': 5887, 'opera': 5888, 'pan': 5889, 'joint': 5890, 'hammer': 5891, 'suspends': 5892, \"baldwin's\": 5893, 'goods': 5894, 'practices': 5895, 'seniors': 5896, 'cinnamon': 5897, 'repair': 5898, 'enforcement': 5899, 'invited': 5900, 'sweating': 5901, 'purse': 5902, 'guantanamo': 5903, \"jones'\": 5904, 'surrounded': 5905, 'lowered': 5906, 'lobbyist': 5907, 'dj': 5908, 'invites': 5909, 'payment': 5910, 'traced': 5911, 'collision': 5912, 'fallen': 5913, 'barrier': 5914, 'pie': 5915, 'demi': 5916, 'lovato': 5917, 'anywhere': 5918, 'offended': 5919, 'rove': 5920, 'asylum': 5921, 'asians': 5922, 'grows': 5923, 'thai': 5924, 'walgreens': 5925, 'formed': 5926, 'signed': 5927, 'medal': 5928, 'imitates': 5929, 'minded': 5930, 'fuels': 5931, '95': 5932, 'executes': 5933, 'deck': 5934, 'shooters': 5935, 'certificate': 5936, 'nicole': 5937, 'buried': 5938, 'pepper': 5939, 'duties': 5940, 'ceos': 5941, 'huntsman': 5942, 'shoulder': 5943, 'bile': 5944, 'pork': 5945, \"illinois'\": 5946, 'achievement': 5947, 'inaugural': 5948, 'washed': 5949, 'fulfills': 5950, 'reince': 5951, 'taunts': 5952, 'jonas': 5953, 'morrison': 5954, 'pin': 5955, \"senate's\": 5956, 'revenue': 5957, 'hatred': 5958, 'drain': 5959, 'airing': 5960, 'python': 5961, 'coachella': 5962, 'twisted': 5963, 'attached': 5964, 'collapsed': 5965, 'shorter': 5966, 'bash': 5967, 'deleting': 5968, 'fried': 5969, 'dragged': 5970, 'worries': 5971, 'guinness': 5972, 'promotes': 5973, 'featuring': 5974, 'airbnb': 5975, 'knees': 5976, 'slippery': 5977, 'lonely': 5978, 'revolutionary': 5979, 'bale': 5980, 'bros': 5981, 'weights': 5982, 'overdose': 5983, 'reversal': 5984, 'recover': 5985, 'tattoos': 5986, 'dennis': 5987, 'outreach': 5988, 'transmission': 5989, 'convenience': 5990, \"'em\": 5991, 'stances': 5992, 'coveted': 5993, \"year'\": 5994, '1960s': 5995, 'unthinkable': 5996, 'sooner': 5997, \"'completely\": 5998, \"she'd\": 5999, 'technician': 6000, 'horde': 6001, 'monsters': 6002, 'exits': 6003, 'salon': 6004, 'closure': 6005, 'invisible': 6006, 'qualified': 6007, 'aware': 6008, 'militia': 6009, 'paramount': 6010, 'proudly': 6011, 'inspirational': 6012, 'reacts': 6013, \"war'\": 6014, 'further': 6015, 'unicorn': 6016, 'hostages': 6017, 'shouting': 6018, 'sidewalk': 6019, 'boar': 6020, 'refreshed': 6021, 'knocking': 6022, 'relevant': 6023, 'diy': 6024, 'memphis': 6025, 'express': 6026, 'belief': 6027, 'beckham': 6028, 'bigot': 6029, 'bench': 6030, 'outline': 6031, 'climbs': 6032, '19th': 6033, 'slaves': 6034, 'ownership': 6035, 'thumbs': 6036, 'coasting': 6037, 'extinction': 6038, '46': 6039, 'sinking': 6040, 'fishing': 6041, 'islands': 6042, 'plows': 6043, 'wiped': 6044, 'arrive': 6045, 'narrative': 6046, 'iceberg': 6047, \"home'\": 6048, 'scotland': 6049, 'dysfunctional': 6050, \"'making\": 6051, 'ankle': 6052, 'delaying': 6053, 'ruby': 6054, 'diplomatic': 6055, 'zen': 6056, 'ton': 6057, 'explorer': 6058, 'mccarthy': 6059, \"king's\": 6060, 'midst': 6061, 'jumping': 6062, 'sane': 6063, 'nighter': 6064, 'investing': 6065, 'began': 6066, 'ivory': 6067, 'screening': 6068, 'dependence': 6069, 'prostitute': 6070, \"'are\": 6071, 'diverse': 6072, 'prisons': 6073, 'laughter': 6074, 'ferrell': 6075, 'registration': 6076, 'bigots': 6077, '2006': 6078, 'skater': 6079, 'attended': 6080, 'pt': 6081, 'refer': 6082, 'describe': 6083, 'colleagues': 6084, 'ronald': 6085, 'unexpectedly': 6086, 'clown': 6087, 'duchess': 6088, 'vegan': 6089, 'snacks': 6090, 'patrol': 6091, 'ricans': 6092, 'accidents': 6093, 'carol': 6094, 'breakroom': 6095, 'pattern': 6096, 'forming': 6097, 'unhealthy': 6098, 'ocd': 6099, 'fry': 6100, 'islamophobic': 6101, 'lighting': 6102, 'laundry': 6103, 'overwhelmed': 6104, 'doo': 6105, 'conducting': 6106, 'posters': 6107, \"tonight's\": 6108, 'chairs': 6109, 'ironclad': 6110, 'witherspoon': 6111, 'ira': 6112, 'matching': 6113, 'dubai': 6114, 'parallel': 6115, 'october': 6116, 'placement': 6117, 'stirring': 6118, 'orca': 6119, 'zip': 6120, 'cardi': 6121, 'yemeni': 6122, 'squad': 6123, 'conduct': 6124, 'semitism': 6125, 'malfunction': 6126, \"macy's\": 6127, '360': 6128, 'spoilers': 6129, 'circus': 6130, 'resolves': 6131, 'wikipedia': 6132, 'tabs': 6133, 'nursery': 6134, 'donor': 6135, 'advise': 6136, 'removing': 6137, 'persona': 6138, 'trainee': 6139, 'laughing': 6140, 'assembly': 6141, 'elusive': 6142, 'animated': 6143, 'impeached': 6144, 'grip': 6145, 'whistle': 6146, 'tweeted': 6147, 'immediate': 6148, \"'hunger\": 6149, 'situations': 6150, 'broth': 6151, 'walls': 6152, 'violations': 6153, 'studios': 6154, 'intense': 6155, 'invite': 6156, 'cpac': 6157, 'weiner': 6158, 'revolutionize': 6159, 'hhs': 6160, 'ridden': 6161, 'marries': 6162, 'extensive': 6163, 'aerobics': 6164, 'crystal': 6165, 'bashar': 6166, 'ufo': 6167, 'evolutionary': 6168, 'diners': 6169, 'buzz': 6170, 'behold': 6171, 'poisoned': 6172, 'hypothetical': 6173, \"smith's\": 6174, 'description': 6175, 'whenever': 6176, 'vomiting': 6177, 'unfinished': 6178, 'ferrera': 6179, 'longoria': 6180, 'antidepressant': 6181, 'antibiotics': 6182, 'enrollment': 6183, 'pfizer': 6184, 'statues': 6185, 'blogger': 6186, 'bundy': 6187, \"israel's\": 6188, 'premier': 6189, 'hicks': 6190, 'wishing': 6191, 'cult': 6192, 'chip': 6193, 'waist': 6194, 'guides': 6195, \"cruz's\": 6196, 'jan': 6197, 'blanks': 6198, 'coulter': 6199, 'philly': 6200, 'seizes': 6201, 'handful': 6202, 'temperature': 6203, 'reproductive': 6204, 'detector': 6205, \"saturday's\": 6206, 'imagination': 6207, 'rom': 6208, 'targeted': 6209, \"'man\": 6210, 'gruesome': 6211, 'poignant': 6212, 'donating': 6213, 'pier': 6214, 'autistic': 6215, 'panthers': 6216, 'allocates': 6217, 'brooks': 6218, 'skeleton': 6219, 'mayan': 6220, 'calendar': 6221, 'guinea': 6222, 'filing': 6223, 'syrup': 6224, 'taxpayer': 6225, 'karl': 6226, 'crocodile': 6227, 'brick': 6228, 'cozy': 6229, 'represents': 6230, \"mueller's\": 6231, 'pileup': 6232, 'drew': 6233, \"'breaking\": 6234, 'specific': 6235, \"week'\": 6236, 'birthplace': 6237, 'visited': 6238, 'indians': 6239, 'trudeau': 6240, 'lasts': 6241, 'tobacco': 6242, 'sustain': 6243, 'ballistic': 6244, 'celeb': 6245, 'royals': 6246, 'managed': 6247, 'packs': 6248, 'skirt': 6249, 'gillibrand': 6250, 'disrupt': 6251, 'weary': 6252, 'wise': 6253, 'aca': 6254, 'queens': 6255, 'stevie': 6256, 'bow': 6257, 'harmful': 6258, 'unnerved': 6259, 'chat': 6260, \"comey's\": 6261, 'adopted': 6262, 'conan': 6263, \"o'brien\": 6264, '900': 6265, 'suv': 6266, 'proposals': 6267, 'champagne': 6268, 'unsettling': 6269, 'avoids': 6270, 'messing': 6271, 'rad': 6272, 'crushed': 6273, \"they'd\": 6274, 'bridges': 6275, 'seated': 6276, \"applebee's\": 6277, 'reclaiming': 6278, 'disturbingly': 6279, 'stroke': 6280, 'advances': 6281, 'taxi': 6282, 'crawl': 6283, 'pockets': 6284, 'ladder': 6285, 'kirk': 6286, 'casts': 6287, 'interference': 6288, 'bees': 6289, 'trainer': 6290, 'publisher': 6291, \"die'\": 6292, 'laying': 6293, 'cleared': 6294, 'keystone': 6295, 'toss': 6296, \"'there's\": 6297, \"hell'\": 6298, 'programming': 6299, 'variety': 6300, 'prompts': 6301, 'midterm': 6302, 'kabul': 6303, 'execs': 6304, 'elephants': 6305, 'powerpoint': 6306, 'institute': 6307, '1997': 6308, 'scrutiny': 6309, 'cheesecake': 6310, 'supremacists': 6311, 'freezer': 6312, 'scarborough': 6313, 'homophobic': 6314, 'cardinal': 6315, \"coworkers'\": 6316, 'throat': 6317, 'illustrations': 6318, 'postpartum': 6319, 'buffalo': 6320, 'shown': 6321, 'quarter': 6322, 'cents': 6323, 'cheat': 6324, 'reminders': 6325, 'salads': 6326, 'harper': 6327, 'slick': 6328, 'dome': 6329, 'bug': 6330, 'hacker': 6331, \"right'\": 6332, 'crown': 6333, 'worthless': 6334, 'facial': 6335, 'pose': 6336, 'vets': 6337, 'ireland': 6338, \"beyoncé's\": 6339, 'typing': 6340, '42': 6341, 'swept': 6342, 'caroline': 6343, 'blunt': 6344, \"nobody's\": 6345, 'evangelical': 6346, 'vigil': 6347, 'vintage': 6348, 'identify': 6349, 'toothbrush': 6350, 'controlling': 6351, 'outdoors': 6352, 'superstar': 6353, 'boards': 6354, 'bruno': 6355, 'jean': 6356, 'pug': 6357, 'inducted': 6358, 'sierra': 6359, \"zone'\": 6360, 'oasis': 6361, 'remainder': 6362, 'listener': 6363, 'specifically': 6364, 'lacks': 6365, \"8'\": 6366, 'recalled': 6367, \"z's\": 6368, 'manufacturers': 6369, 'pickup': 6370, 'pharrell': 6371, 'ipod': 6372, 'sculpture': 6373, 'excellence': 6374, 'pixar': 6375, 'sweatshirt': 6376, 'providing': 6377, 'nationalist': 6378, 'bel': 6379, '56': 6380, 'rats': 6381, 'hospitalization': 6382, 'empathy': 6383, 'default': 6384, 'browser': 6385, \"customers'\": 6386, 'mushrooms': 6387, 'ruled': 6388, 'protects': 6389, 'tracy': 6390, 'zimmerman': 6391, 'hawking': 6392, '84': 6393, 'storyline': 6394, 'nicks': 6395, 'convincing': 6396, 'spoofs': 6397, 'blindsided': 6398, 'stain': 6399, 'diagnosed': 6400, 'stake': 6401, 'landscape': 6402, 'spectrum': 6403, \"kerry's\": 6404, \"'drag\": 6405, 'emojis': 6406, 'thriller': 6407, 'isolated': 6408, 'toaster': 6409, 'providers': 6410, 'cheeseburger': 6411, 'aspiring': 6412, 'representatives': 6413, 'smog': 6414, 'memorable': 6415, 'overcrowded': 6416, 'jazeera': 6417, 'proved': 6418, 'chilean': 6419, 'copycat': 6420, \"adele's\": 6421, \"classmate's\": 6422, 'shield': 6423, 'tinder': 6424, 'application': 6425, 'sample': 6426, 'tumor': 6427, 'argentina': 6428, 'discovering': 6429, \"markle's\": 6430, 'nye': 6431, 'daylight': 6432, 'reaching': 6433, 'developed': 6434, 'debilitating': 6435, 'stayed': 6436, 'bragging': 6437, 'recruit': 6438, 'junk': 6439, 'bra': 6440, 'floats': 6441, 'toro': 6442, 'flesh': 6443, 'nc': 6444, 'plain': 6445, 'doubled': 6446, 'readies': 6447, 'halts': 6448, 'draft': 6449, 'argue': 6450, \"actually'\": 6451, 'peer': 6452, 'via': 6453, 'referendum': 6454, 'flowers': 6455, 'showdown': 6456, 'doughnuts': 6457, '700': 6458, 'continuing': 6459, 'dwayne': 6460, 'ninja': 6461, 'crosses': 6462, 'argues': 6463, \"'make\": 6464, 'sinks': 6465, 'deploys': 6466, 'sideways': 6467, 'inappropriate': 6468, 'ihop': 6469, \"'you're\": 6470, 'symptoms': 6471, 'dildo': 6472, '52': 6473, 'guesses': 6474, 'mc': 6475, 'cords': 6476, 'upholds': 6477, 'sizes': 6478, 'nephew': 6479, 'sharp': 6480, 'ketchup': 6481, 'teaser': 6482, 'stations': 6483, 'jonathan': 6484, \"'dark\": 6485, 'newspapers': 6486, 'maternity': 6487, 'partygoer': 6488, 'keg': 6489, 'fool': 6490, 'extraordinary': 6491, 'nets': 6492, \"'f\": 6493, 'applicant': 6494, 'hippie': 6495, 'notices': 6496, 'troop': 6497, 'runaway': 6498, 'gearing': 6499, 'filter': 6500, 'sotomayor': 6501, 'pancake': 6502, 'sand': 6503, 'amal': 6504, 'viewing': 6505, 'reduction': 6506, 'petraeus': 6507, 'sweeps': 6508, 'hugging': 6509, 'syrians': 6510, \"knowledge'\": 6511, 'undermine': 6512, 'colored': 6513, \"hillary's\": 6514, 'jesse': 6515, 'ditches': 6516, 'dripping': 6517, 'overturn': 6518, 'imagines': 6519, 'retro': 6520, 'rejection': 6521, 'legislators': 6522, 'roles': 6523, 'discarded': 6524, 'explosions': 6525, 'aguilera': 6526, 'regime': 6527, 'denied': 6528, 'ward': 6529, 'vaccines': 6530, 'marked': 6531, '55': 6532, 'soulmate': 6533, '1989': 6534, 'sadder': 6535, 'staten': 6536, 'obsessive': 6537, 'compulsive': 6538, \"5'\": 6539, 'stopping': 6540, 'craving': 6541, 'packing': 6542, 'appearing': 6543, 'till': 6544, 'heavily': 6545, 'arena': 6546, 'sporting': 6547, \"'dancing\": 6548, 'dish': 6549, 'ranking': 6550, 'reddit': 6551, 'cockpit': 6552, 'commander': 6553, 'greyhound': 6554, 'fee': 6555, 'recount': 6556, 'insomnia': 6557, 'equifax': 6558, '62': 6559, 'accountable': 6560, 'slave': 6561, 'trumpcare': 6562, 'derails': 6563, 'scrabble': 6564, 'steamy': 6565, 'remarks': 6566, 'advisors': 6567, 'dem': 6568, 'escaping': 6569, 'stockholm': 6570, \"squad'\": 6571, \"government's\": 6572, 'tune': 6573, 'snyder': 6574, 'counts': 6575, 'checklist': 6576, 'directed': 6577, 'chasing': 6578, 'boxing': 6579, \"'too\": 6580, 'submarine': 6581, 'ordering': 6582, 'inadvertently': 6583, 'clashes': 6584, 'ratner': 6585, 'garner': 6586, 'earliest': 6587, '1999': 6588, 'clinic': 6589, 'palestine': 6590, 'bronze': 6591, 'thick': 6592, 'wayne': 6593, 'renewable': 6594, 'classes': 6595, 'harriet': 6596, 'haspel': 6597, 'lapd': 6598, 'assumed': 6599, 'intellectual': 6600, 'route': 6601, 'clears': 6602, 'stressing': 6603, 'mormon': 6604, 'bomer': 6605, 'driveway': 6606, 'delusional': 6607, 'sympathy': 6608, 'olympians': 6609, 'grass': 6610, 'metallica': 6611, 'peak': 6612, 'philosophy': 6613, 'cries': 6614, 'strongest': 6615, 'nasty': 6616, 'maddow': 6617, 'authority': 6618, 'sweep': 6619, 'sake': 6620, 'attitude': 6621, 'czar': 6622, 'engineer': 6623, 'unreleased': 6624, 'simpler': 6625, 'desktop': 6626, 'forum': 6627, 'praying': 6628, 'vast': 6629, 'cantor': 6630, 'dutch': 6631, 'khan': 6632, 'schwarzenegger': 6633, 'comedians': 6634, 'sticks': 6635, 'prominent': 6636, 'metaphor': 6637, 'horn': 6638, 'missiles': 6639, \"boy'\": 6640, 'kobe': 6641, 'refusal': 6642, \"would've\": 6643, 'example': 6644, 'nyt': 6645, 'halliburton': 6646, 'extend': 6647, 'prospective': 6648, 'malaysia': 6649, 'influential': 6650, 'smoothie': 6651, 'hatch': 6652, 'sucks': 6653, 'immunity': 6654, 'fines': 6655, 'potatoes': 6656, 'betrayal': 6657, 'assaulted': 6658, 'peaceful': 6659, 'au': 6660, 'wi': 6661, 'mills': 6662, 'cotton': 6663, 'knocks': 6664, 'stack': 6665, 'shredding': 6666, 'plunges': 6667, 'scandals': 6668, 'eagles': 6669, 'metal': 6670, 'buffett': 6671, 'marrying': 6672, 'lovingly': 6673, 'thousand': 6674, 'treating': 6675, 'connect': 6676, 'wrist': 6677, 'psychology': 6678, 'labels': 6679, 'patch': 6680, 'chills': 6681, 'tornado': 6682, 'buyers': 6683, 'correctly': 6684, 'substitute': 6685, 'charlize': 6686, 'theron': 6687, 'satisfying': 6688, 'blasio': 6689, 'rahm': 6690, 'genetically': 6691, 'modified': 6692, 'separation': 6693, 'kenny': 6694, 'visual': 6695, 'speechless': 6696, 'outage': 6697, 'vicious': 6698, 'morbidly': 6699, 'sheldon': 6700, \"corden's\": 6701, 'homemade': 6702, 'belt': 6703, 'nears': 6704, 'covering': 6705, 'excellent': 6706, 'fairy': 6707, 'ant': 6708, 'jenna': 6709, 'elfman': 6710, 'execute': 6711, 'watermelon': 6712, 'remembered': 6713, 'millionaire': 6714, \"rock'\": 6715, 'whistleblower': 6716, 'sharks': 6717, \"liars'\": 6718, 'removal': 6719, \"britain's\": 6720, 'duterte': 6721, '49': 6722, 'staggering': 6723, 'subculture': 6724, 'ai': 6725, 'fearless': 6726, 'fetus': 6727, 'vegetable': 6728, 'symbol': 6729, 'height': 6730, 'tuna': 6731, 'kicked': 6732, 'beliefs': 6733, 'ingredient': 6734, 'gymnastics': 6735, 'vmas': 6736, 'rowdy': 6737, 'reuters': 6738, 'lloyd': 6739, 'synagogue': 6740, 'wolves': 6741, 'sigh': 6742, 'helpful': 6743, 'slot': 6744, 'spinoff': 6745, 'rides': 6746, 'possibility': 6747, 'refund': 6748, 'beds': 6749, 'enormous': 6750, 'resilience': 6751, 'temp': 6752, 'chewbacca': 6753, 'warnings': 6754, 'thursday': 6755, 'duped': 6756, 'reward': 6757, 'dangling': 6758, 'kidnapping': 6759, 'arrangement': 6760, 'tag': 6761, 'sober': 6762, 'predator': 6763, 'definitive': 6764, 'ava': 6765, 'midterms': 6766, 'lowest': 6767, 'protagonist': 6768, 'declared': 6769, 'bravery': 6770, 'hurricanes': 6771, 'chairman': 6772, \"'let\": 6773, \"shooter's\": 6774, 'expressing': 6775, \"forever'\": 6776, 'challenging': 6777, 'auto': 6778, 'integrated': 6779, 'masters': 6780, 'basically': 6781, 'introducing': 6782, 'sandy': 6783, 'equity': 6784, 'coaster': 6785, 'hacking': 6786, 'hike': 6787, 'grease': 6788, 'uniform': 6789, 'contribution': 6790, 'walter': 6791, 'airports': 6792, 'certain': 6793, 'survey': 6794, \"season's\": 6795, 'revised': 6796, 'punches': 6797, 'icy': 6798, 'heartbroken': 6799, 'alpha': 6800, 'doorstep': 6801, 'nacho': 6802, \"disney's\": 6803, 'donuts': 6804, 'brands': 6805, 'brunch': 6806, 'concussions': 6807, \"spicer's\": 6808, 'impose': 6809, 'fascinating': 6810, 'representation': 6811, 'monthly': 6812, 'escalates': 6813, 'harm': 6814, 'pabst': 6815, 'cakes': 6816, 'compromise': 6817, 'partners': 6818, 'devastating': 6819, 'mtv': 6820, 'icymi': 6821, 'questioning': 6822, \"veteran's\": 6823, 'hijacked': 6824, 'periods': 6825, 'sponsors': 6826, 'briefcase': 6827, 'wiretapping': 6828, 'carcass': 6829, 'liver': 6830, '74': 6831, 'undergo': 6832, 'interrogation': 6833, 'takei': 6834, 'predicts': 6835, 'hood': 6836, \"crime'\": 6837, 'deadliest': 6838, 'drawn': 6839, 'lea': 6840, 'withdraws': 6841, \"'kind\": 6842, 'fargo': 6843, 'drummer': 6844, 'santorum': 6845, 'pens': 6846, 'trafficking': 6847, 'earns': 6848, 'offshore': 6849, 'cannes': 6850, 'duo': 6851, 'upper': 6852, 'dip': 6853, 'continuous': 6854, 'tone': 6855, 'informant': 6856, 'advisers': 6857, 'nominate': 6858, 'randomly': 6859, 'boo': 6860, 'foiled': 6861, \"'westworld'\": 6862, 'salary': 6863, 'tunnels': 6864, 'division': 6865, 'seasonal': 6866, 'connecting': 6867, 'newlyweds': 6868, 'convert': 6869, 'skipping': 6870, 'empire': 6871, 'frantic': 6872, \"'will\": 6873, 'topic': 6874, 'thief': 6875, 'telephone': 6876, 'raving': 6877, 'republic': 6878, 'reasonable': 6879, 'narrow': 6880, 'mounting': 6881, 'burrito': 6882, 'noticed': 6883, \"cards'\": 6884, 'todd': 6885, 'enable': 6886, 'consumed': 6887, \"democrats'\": 6888, 'forgiveness': 6889, 'greg': 6890, 'congresswoman': 6891, 'catholics': 6892, 'valentine': 6893, 'refused': 6894, 'cynthia': 6895, 'physicists': 6896, 'colombian': 6897, 'apocalypse': 6898, 'shakes': 6899, 'lax': 6900, 'september': 6901, 'tanks': 6902, 'molestation': 6903, 'poison': 6904, 'barry': 6905, 'urging': 6906, 'recognizes': 6907, 'troll': 6908, 'vagina': 6909, 'backpack': 6910, 'marriages': 6911, 'clarkson': 6912, 'pairing': 6913, 'losers': 6914, 'correct': 6915, 'panama': 6916, 'peas': 6917, 'sexiest': 6918, 'dealing': 6919, 'sector': 6920, 'reel': 6921, 'soil': 6922, 'volunteers': 6923, 'corey': 6924, 'relatives': 6925, 'novelist': 6926, 'insults': 6927, 'adventure': 6928, 'nor': 6929, 'accommodate': 6930, 'expanding': 6931, 'generic': 6932, 'matched': 6933, 'hangover': 6934, 'bp': 6935, 'frog': 6936, 'channing': 6937, 'tatum': 6938, 'malcolm': 6939, 'christianity': 6940, 'captivating': 6941, 'mindful': 6942, 'permanent': 6943, 'interpretation': 6944, 'regional': 6945, 'operating': 6946, 'hoax': 6947, 'legitimate': 6948, 'buddha': 6949, 'bangs': 6950, 'hanes': 6951, 'discussion': 6952, 'apparent': 6953, 'evolving': 6954, 'violently': 6955, 'spell': 6956, 'publicly': 6957, 'insurers': 6958, 'weighing': 6959, 'mistakenly': 6960, 'retires': 6961, 'speeches': 6962, \"it'll\": 6963, 'skyscraper': 6964, 'explosive': 6965, 'hammers': 6966, 'hype': 6967, \"arby's\": 6968, \"rubio's\": 6969, 'recognize': 6970, 'ominously': 6971, '4th': 6972, 'yearbook': 6973, 'havoc': 6974, 'stronger': 6975, 'pearl': 6976, 'longingly': 6977, 'defeated': 6978, 'unconscious': 6979, 'slays': 6980, 'knight': 6981, 'shkreli': 6982, \"'fuck\": 6983, \"body'\": 6984, 'believed': 6985, 'pudding': 6986, 'couric': 6987, 'seeds': 6988, 'tidal': 6989, 'beatles': 6990, 'mommy': 6991, 'invest': 6992, 'conservation': 6993, 'wasteful': 6994, 'lopez': 6995, 'overworked': 6996, 'fleeing': 6997, 'smithsonian': 6998, 'mild': 6999, 'millennia': 7000, 'addressing': 7001, 'bland': 7002, 'lakers': 7003, 'often': 7004, 'frame': 7005, 'expands': 7006, 'personally': 7007, 'psychologists': 7008, 'practicing': 7009, 'hunk': 7010, 'pyeongchang': 7011, 'salvador': 7012, \"chili's\": 7013, \"work'\": 7014, \"'more\": 7015, 'nathan': 7016, 'flee': 7017, \"myanmar's\": 7018, \"korea's\": 7019, 'otto': 7020, 'thrilling': 7021, 'dolphin': 7022, '000th': 7023, 'patton': 7024, 'thieves': 7025, 'seemingly': 7026, 'devin': 7027, \"away'\": 7028, 'affairs': 7029, 'faked': 7030, 'grimes': 7031, 'heartfelt': 7032, 'hides': 7033, 'survives': 7034, \"rico's\": 7035, 'napping': 7036, 'rotating': 7037, 'peacefully': 7038, 'flooded': 7039, 'fridge': 7040, 'alumni': 7041, 'technique': 7042, 'curvy': 7043, '130': 7044, 'stereotype': 7045, 'overhead': 7046, 'hawaiian': 7047, 'deeper': 7048, 'partial': 7049, 'taraji': 7050, 'henson': 7051, 'chickens': 7052, 'paperwork': 7053, \"'rupaul's\": 7054, 'gums': 7055, 'lice': 7056, 'cox': 7057, 'fault': 7058, 'located': 7059, 'warming': 7060, \"film's\": 7061, 'judgment': 7062, 'obsolete': 7063, 'hr': 7064, 'sum': 7065, 'launched': 7066, 'sting': 7067, 'explore': 7068, 'martian': 7069, 'donations': 7070, 'napkin': 7071, 'smells': 7072, 'speakers': 7073, 'westminster': 7074, 'spike': 7075, 'autopsy': 7076, 'bloomberg': 7077, 'sensitive': 7078, 'franklin': 7079, 'hamilton': 7080, 'frito': 7081, \"roommate's\": 7082, 'reserve': 7083, 'verdict': 7084, 'communists': 7085, 'diagnosis': 7086, '91': 7087, '1914': 7088, 'pancakes': 7089, 'worrying': 7090, \"'sex\": 7091, 'maid': 7092, 'veto': 7093, \"'be\": 7094, 'indie': 7095, \"park'\": 7096, 'vandalized': 7097, 'lock': 7098, 'novelty': 7099, 'plenty': 7100, 'primaries': 7101, 'merry': 7102, \"obamacare's\": 7103, 'financially': 7104, 'picking': 7105, 'crow': 7106, 'pages': 7107, \"'our\": 7108, \"restaurant's\": 7109, 'sings': 7110, 'walkout': 7111, 'salute': 7112, 'helmet': 7113, 'reef': 7114, 'meaningless': 7115, 'broadcast': 7116, 'investment': 7117, 'lip': 7118, 'teams': 7119, 'riff': 7120, 'mashup': 7121, 'posing': 7122, 'papers': 7123, 'signal': 7124, 'ashes': 7125, 'deems': 7126, 'withstand': 7127, 'circular': 7128, 'ponytail': 7129, 'newtown': 7130, 'posted': 7131, 'defending': 7132, 'shouts': 7133, 'vending': 7134, 'publishing': 7135, 'barred': 7136, 'saddam': 7137, 'hammering': 7138, 'sized': 7139, 'cheers': 7140, 'gymnast': 7141, 'sausage': 7142, 'unemployment': 7143, \"artist's\": 7144, 'macaroni': 7145, 'tai': 7146, 'chi': 7147, 'infuriating': 7148, 'confesses': 7149, 'retain': 7150, 'cruelty': 7151, 'reduced': 7152, 'bones': 7153, 'authors': 7154, 'evacuated': 7155, 'unused': 7156, 'certificates': 7157, 'spying': 7158, 'hoped': 7159, \"'when\": 7160, 'bombed': 7161, 'gulf': 7162, 'landmarks': 7163, 'marital': 7164, 'cope': 7165, 'mourning': 7166, 'trillion': 7167, 'charitable': 7168, 'accessible': 7169, 'bollywood': 7170, 'log': 7171, 'odds': 7172, \"'america\": 7173, 'norwegian': 7174, 'praised': 7175, 'mcconaughey': 7176, \"'an\": 7177, 'shops': 7178, 'strategic': 7179, 'ears': 7180, 'etiquette': 7181, 'blog': 7182, 'sharon': 7183, 'tokyo': 7184, 'abdul': 7185, 'mocking': 7186, 'walked': 7187, 'insiders': 7188, 'vow': 7189, 'shines': 7190, 'shady': 7191, \"'family\": 7192, 'stark': 7193, 'wallet': 7194, 'sensation': 7195, 'stripped': 7196, 'marred': 7197, 'canal': 7198, 'paddle': 7199, 'rejecting': 7200, 'dust': 7201, 'coup': 7202, 'mice': 7203, 'nightly': 7204, 'beings': 7205, 'gated': 7206, 'siege': 7207, 'porter': 7208, 'falsifying': 7209, 'wives': 7210, 'significant': 7211, 'banking': 7212, 'iowan': 7213, 'gratification': 7214, 'ailing': 7215, 'animatronic': 7216, 'snaps': 7217, \"'nice\": 7218, 'manages': 7219, 'creatures': 7220, 'annie': 7221, 'breed': 7222, 'winnings': 7223, 'shadows': 7224, 'awaiting': 7225, 'pastry': 7226, 'bakery': 7227, 'recognizing': 7228, \"'pocahontas'\": 7229, 'silencing': 7230, 'crunch': 7231, 'drowned': 7232, 'inclusive': 7233, 'retiree': 7234, 'corker': 7235, 'pressing': 7236, 'janice': 7237, \"'stupid'\": 7238, 'leno': 7239, 'libraries': 7240, 'avocados': 7241, 'belated': 7242, 'ipad': 7243, 'disgruntled': 7244, 'violating': 7245, 'replica': 7246, 'elk': 7247, 'confounded': 7248, 'pollsters': 7249, 'milestone': 7250, 'phil': 7251, 'span': 7252, 'hated': 7253, 'naturally': 7254, 'identities': 7255, \"earth'\": 7256, 'feces': 7257, \"candidates'\": 7258, 'dye': 7259, 'blond': 7260, 'waltz': 7261, 'main': 7262, 'travelers': 7263, 'embraced': 7264, 'projects': 7265, 'swim': 7266, 'trek': 7267, 'summons': 7268, 'racists': 7269, 'rickman': 7270, 'lifeguard': 7271, 'households': 7272, 'peppers': 7273, 'function': 7274, 'enthusiast': 7275, 'pueblo': 7276, 'trigger': 7277, 'implores': 7278, 'stanford': 7279, 'mint': 7280, 'frightened': 7281, 'prego': 7282, 'banner': 7283, 'improved': 7284, 'contraception': 7285, 'lucrative': 7286, 'heidi': 7287, '2024': 7288, 'macron': 7289, 'backstreet': 7290, 'assaults': 7291, 'grounds': 7292, 'stared': 7293, 'suing': 7294, 'ordeal': 7295, 'followed': 7296, 'rampant': 7297, 'speculation': 7298, 'sneaky': 7299, 'newscast': 7300, 'sobering': 7301, 'redefining': 7302, 'draw': 7303, 'obstacle': 7304, 'delights': 7305, 'romance': 7306, 'vessel': 7307, '2011': 7308, 'kingdom': 7309, 'blankets': 7310, 'infinitely': 7311, 'barista': 7312, 'flirting': 7313, 'vaxxers': 7314, 'mauled': 7315, 'peeing': 7316, 'archbishop': 7317, 'servings': 7318, 'follows': 7319, 'glory': 7320, \"garner's\": 7321, 'wahlberg': 7322, 'paleontologists': 7323, 'byrne': 7324, 'injuring': 7325, 'thrill': 7326, 'evidently': 7327, 'ounces': 7328, 'dismembered': 7329, 'screens': 7330, 'atheist': 7331, 'typo': 7332, 'headphones': 7333, \"'i'll\": 7334, 'expense': 7335, 'wizard': 7336, 'addressed': 7337, 'concedes': 7338, 'doggy': 7339, \"hillary'\": 7340, 'dna': 7341, 'overheard': 7342, 'zookeeper': 7343, 'jfk': 7344, 'tammy': 7345, \"where's\": 7346, 'solving': 7347, 'embodies': 7348, 'egos': 7349, 'slated': 7350, 'scrolling': 7351, 'juggler': 7352, 'juggling': 7353, \"star's\": 7354, 'scrapped': 7355, 'tactics': 7356, 'radar': 7357, 'gel': 7358, 'assassination': 7359, \"huffpost's\": 7360, 'shutting': 7361, '20s': 7362, 'palmer': 7363, 'novels': 7364, 'smallest': 7365, 'ritalin': 7366, 'obstruction': 7367, 'relax': 7368, 'complaint': 7369, 'declines': 7370, 'beverage': 7371, 'theology': 7372, 'jen': 7373, \"myself'\": 7374, 'kung': 7375, 'handlers': 7376, 'rabbi': 7377, 'lounge': 7378, \"'gone\": 7379, 'matches': 7380, 'contributions': 7381, 'enroll': 7382, 'luna': 7383, 'recreated': 7384, 'martyr': 7385, 'atlantic': 7386, 'censorship': 7387, 'rendition': 7388, 'beached': 7389, 'besides': 7390, 'gibson': 7391, 'postmaster': 7392, 'junior': 7393, 'airs': 7394, 'taiwan': 7395, 'inspectors': 7396, 'victor': 7397, 'candles': 7398, 'supplies': 7399, 'represent': 7400, 'binder': 7401, 'punch': 7402, 'fond': 7403, 'jojo': 7404, 'athletic': 7405, 'biologists': 7406, 'avery': 7407, 'anthropologists': 7408, 'ancestor': 7409, 'critically': 7410, 'rosie': 7411, 'audition': 7412, \"jobs'\": 7413, 'glows': 7414, 'neon': 7415, 'compliments': 7416, 'patience': 7417, 'hitler': 7418, 'voluntarily': 7419, 'speculating': 7420, 'bergdahl': 7421, \"fortune'\": 7422, \"employees'\": 7423, 'ny': 7424, 'trayvon': 7425, 'internship': 7426, 'diaz': 7427, 'database': 7428, \"cosby's\": 7429, 'uc': 7430, 'brie': 7431, 'yiannopoulos': 7432, 'originally': 7433, 'kangaroo': 7434, 'rental': 7435, 'privileged': 7436, 'notebook': 7437, 'flips': 7438, 'creation': 7439, \"syria's\": 7440, 'whip': 7441, 'sack': 7442, \"cousin's\": 7443, 'eviscerates': 7444, 'testament': 7445, 'contaminated': 7446, 'filthy': 7447, \"coroner's\": 7448, 'sunshine': 7449, 'shoulders': 7450, 'boomer': 7451, 'undo': 7452, 'controlled': 7453, 'acceptable': 7454, 'painting': 7455, 'aboard': 7456, 'retiring': 7457, 'dolby': 7458, 'survived': 7459, 'switched': 7460, \"sorry'\": 7461, 'abandoning': 7462, 'exam': 7463, 'wax': 7464, 'maximum': 7465, 'burgers': 7466, 'kimye': 7467, 'snapchat': 7468, 'fearful': 7469, 'gosling': 7470, 'easiest': 7471, 'literary': 7472, 'semester': 7473, 'hopefully': 7474, 'underway': 7475, 'reminded': 7476, 'diploma': 7477, 'graduating': 7478, 'recliner': 7479, 'churchgoer': 7480, 'pauses': 7481, 'optimistic': 7482, 'figuring': 7483, \"money's\": 7484, 'buffet': 7485, 'warden': 7486, \"lifetime's\": 7487, 'adaptation': 7488, 'pirate': 7489, 'prays': 7490, 'unleashes': 7491, 'doomsday': 7492, 'translate': 7493, 'languages': 7494, 'malia': 7495, 'lucas': 7496, 'cubs': 7497, 'lupita': 7498, \"nyong'o\": 7499, \"show's\": 7500, 'gif': 7501, 'woefully': 7502, 'vehicles': 7503, 'publicity': 7504, 'pamela': 7505, 'hotter': 7506, 'maple': 7507, 'judd': 7508, \"'nasty\": 7509, 'primer': 7510, 'thanking': 7511, 'requiring': 7512, 'saturday': 7513, 'unearth': 7514, 'prehistoric': 7515, \"silver's\": 7516, 'delegation': 7517, 'vince': 7518, 'spoils': 7519, 'episodes': 7520, 'reverses': 7521, 'chaplain': 7522, \"'secret\": 7523, 'dials': 7524, 'duel': 7525, 'invents': 7526, 'scanning': 7527, 'thorough': 7528, 'downs': 7529, 'cried': 7530, 'retreat': 7531, 'gospel': 7532, 'framed': 7533, 'smear': 7534, 'chill': 7535, \"priest's\": 7536, 'entrepreneurship': 7537, 'mountains': 7538, \"'oh\": 7539, 'weeknd': 7540, 'bankruptcy': 7541, 'ikea': 7542, 'poker': 7543, 'invaded': 7544, 'productivity': 7545, 'motivational': 7546, 'perhaps': 7547, \"over'\": 7548, 'wrenching': 7549, 'vault': 7550, 'beaches': 7551, 'unanimously': 7552, \"'donald\": 7553, 'mayhem': 7554, 'darkness': 7555, 'looters': 7556, 'roomba': 7557, 'disciplined': 7558, 'purposes': 7559, 'disappointment': 7560, 'networking': 7561, 'reception': 7562, 'bi': 7563, 'flake': 7564, 'accomplish': 7565, 'ukrainian': 7566, 'tamir': 7567, 'sole': 7568, 'submissions': 7569, \"fuckin'\": 7570, 'texts': 7571, 'leo': 7572, 'pup': 7573, 'dinosaurs': 7574, 'useful': 7575, 'atwood': 7576, 'onions': 7577, 'gathers': 7578, 'wrapping': 7579, \"'for\": 7580, 'spotify': 7581, \"effect'\": 7582, 'minds': 7583, 'trumpism': 7584, 'bottles': 7585, 'adderall': 7586, 'bulbs': 7587, 'youngest': 7588, 'advises': 7589, 'destructive': 7590, 'hooked': 7591, 'vermont': 7592, 'morocco': 7593, 'weirdo': 7594, 'engulfed': 7595, 'eliminates': 7596, 'mainly': 7597, 'babysitter': 7598, 'unsustainable': 7599, 'reflecting': 7600, 'transport': 7601, 'rails': 7602, 'conjoined': 7603, '76': 7604, '14th': 7605, 'drags': 7606, \"leader's\": 7607, 'orphaned': 7608, 'civilization': 7609, 'screwing': 7610, 'phoenix': 7611, 'freeway': 7612, 'intervention': 7613, 'genuine': 7614, 'medication': 7615, 'manufacturer': 7616, 'undercover': 7617, 'fishermen': 7618, 'visibility': 7619, 'pinned': 7620, 'larva': 7621, 'ascent': 7622, 'slips': 7623, 'sir': 7624, \"'baby\": 7625, \"back'\": 7626, 'grandchildren': 7627, \"'self\": 7628, \"colombia's\": 7629, 'appoints': 7630, 'males': 7631, 'wrap': 7632, \"party's\": 7633, 'dam': 7634, 'champ': 7635, 'valerie': 7636, 'tube': 7637, 'rainforest': 7638, 'evades': 7639, 'ostracized': 7640, 'dependent': 7641, 'chokes': 7642, \"kid's\": 7643, 'mishandling': 7644, \"black'\": 7645, 'wilds': 7646, 'unmanned': 7647, 'limbaugh': 7648, 'groundbreaking': 7649, 'gigi': 7650, 'amas': 7651, 'haunt': 7652, 'creek': 7653, 'expansion': 7654, 'underwater': 7655, 'tuning': 7656, \"'male\": 7657, 'husbands': 7658, 'integrity': 7659, 'chained': 7660, 'cybersecurity': 7661, 'escorted': 7662, \"grandma's\": 7663, 'durst': 7664, 'endorsements': 7665, 'falafel': 7666, 'accessories': 7667, 'curling': 7668, 'compassion': 7669, 'defeats': 7670, 'politically': 7671, 'graphics': 7672, 'melts': 7673, \"gray's\": 7674, 'beards': 7675, 'hank': 7676, 'pressured': 7677, 'torrent': 7678, 'ovation': 7679, 'abu': 7680, 'sunny': 7681, 'earning': 7682, 'imports': 7683, 'leone': 7684, \"do'\": 7685, 'remix': 7686, 'andrea': 7687, 'declining': 7688, 'macarthur': 7689, 'educate': 7690, 'applying': 7691, 'clash': 7692, 'chemistry': 7693, 'migration': 7694, 'willow': 7695, 'premonition': 7696, 'hmo': 7697, \"good'\": 7698, 'judicial': 7699, 'expertise': 7700, 'defective': 7701, 'embattled': 7702, 'paltrow': 7703, 'engine': 7704, 'operatives': 7705, 'condoms': 7706, 'hacked': 7707, 'references': 7708, 'bonkers': 7709, 'stoner': 7710, 'stray': 7711, 'trained': 7712, 'raging': 7713, 'iced': 7714, 'debacle': 7715, 'resources': 7716, 'glam': 7717, 'internment': 7718, \"carson's\": 7719, 'measures': 7720, 'fatigue': 7721, 'fundamentalists': 7722, 'doomed': 7723, 'hippo': 7724, 'leopard': 7725, 'rivera': 7726, 'performers': 7727, 'recognized': 7728, 'reed': 7729, 'scathing': 7730, 'wanna': 7731, 'hardy': 7732, 'hunters': 7733, 'pattinson': 7734, 'seacrest': 7735, 'sloppy': 7736, 'swedish': 7737, 'placebo': 7738, '115': 7739, 'hybrid': 7740, 'catalan': 7741, \"'little\": 7742, 'prevail': 7743, 'suburban': 7744, 'teenagers': 7745, 'utterly': 7746, \"'finding\": 7747, 'yosemite': 7748, 'controller': 7749, 'bounty': 7750, 'hostile': 7751, 'dozen': 7752, 'roe': 7753, 'perez': 7754, 'rid': 7755, 'administrator': 7756, 'candlelight': 7757, 'unsolicited': 7758, 'jeopardy': 7759, \"bean's\": 7760, 'ricky': 7761, 'publication': 7762, \"york'\": 7763, 'traps': 7764, 'sought': 7765, 'methane': 7766, 'shampoo': 7767, 'oz': 7768, \"pope's\": 7769, 'flaws': 7770, 'acquired': 7771, \"'religious\": 7772, 'mud': 7773, 'fonda': 7774, \"kelly's\": 7775, 'lately': 7776, \"face'\": 7777, 'eleven': 7778, 'hurts': 7779, 'assuming': 7780, 'cemetery': 7781, \"'dirty\": 7782, 'decker': 7783, 'benefactor': 7784, 'goats': 7785, \"putin's\": 7786, 'eulogy': 7787, 'voyager': 7788, 'carried': 7789, 'advisory': 7790, 'tending': 7791, 'produces': 7792, 'longs': 7793, 'blocked': 7794, 'trains': 7795, 'yields': 7796, \"owner's\": 7797, 'launching': 7798, 'investors': 7799, 'hostility': 7800, \"'is\": 7801, 'murdering': 7802, 'scotus': 7803, 'paves': 7804, 'guillermo': 7805, 'offensive': 7806, 'robbie': 7807, 'electronic': 7808, 'wright': 7809, 'screenwriting': 7810, 'suspiciously': 7811, 'provider': 7812, 'weigh': 7813, 'frat': 7814, \"do's\": 7815, 'applies': 7816, 'unfair': 7817, 'hulk': 7818, 'borne': 7819, \"weren't\": 7820, 'shrink': 7821, 'speeding': 7822, 'personnel': 7823, 'pleasures': 7824, 'wiig': 7825, 'flew': 7826, 'wits': 7827, \"customer's\": 7828, 'bragged': 7829, 'bts': 7830, \"'these\": 7831, 'gonna': 7832, 'mosquitoes': 7833, \"moment'\": 7834, 'knit': 7835, 'ruffalo': 7836, 'blasting': 7837, 'juan': 7838, 'withdrawal': 7839, 'rated': 7840, 'psa': 7841, 'reduces': 7842, 'counsel': 7843, 'elder': 7844, 'cuff': 7845, 'hairstylist': 7846, 'newlywed': 7847, 'guards': 7848, \"3'\": 7849, 'capsule': 7850, 'berlin': 7851, 'representative': 7852, 'projections': 7853, 'vocal': 7854, 'crimea': 7855, 'founding': 7856, 'endorsing': 7857, 'stakes': 7858, 'goodell': 7859, 'privately': 7860, 'buick': 7861, 'decrease': 7862, 'lining': 7863, \"'ellen'\": 7864, 'combating': 7865, \"'celebrity\": 7866, 'asset': 7867, 'hijab': 7868, \"candidate's\": 7869, 'dzhokhar': 7870, 'squirrel': 7871, 'glaciers': 7872, 'fad': 7873, 'inclusion': 7874, 'apartments': 7875, 'talented': 7876, 'dedicates': 7877, 'depth': 7878, 'insider': 7879, 'assigned': 7880, 'rooftop': 7881, 'selma': 7882, 'cousins': 7883, 'slaughtering': 7884, \"'family'\": 7885, 'circling': 7886, 'newsweek': 7887, 'dumped': 7888, 'deepens': 7889, 'kuwait': 7890, 'understanding': 7891, \"'any\": 7892, 'spam': 7893, \"patron's\": 7894, \"'wonder\": 7895, 'bezos': 7896, 'rave': 7897, 'gluten': 7898, 'sainthood': 7899, 'contemplating': 7900, 'disc': 7901, 'changer': 7902, 'someday': 7903, 'baron': 7904, 'pornography': 7905, \"'run\": 7906, 'raqqa': 7907, 'waking': 7908, 'guilt': 7909, 'watson': 7910, 'blacklivesmatter': 7911, 'alphabet': 7912, 'sunset': 7913, 'addition': 7914, 'shovel': 7915, 'shakespeare': 7916, 'housefly': 7917, 'slice': 7918, 'julianne': 7919, 'terri': 7920, 'thrilled': 7921, 'invasive': 7922, 'deconstructing': 7923, 'glover': 7924, 'degeneres': 7925, 'knicks': 7926, 'stevens': 7927, 'dishwasher': 7928, 'attacker': 7929, 'skateboard': 7930, 'swab': 7931, 'beaten': 7932, 'personals': 7933, 'nudes': 7934, 'raucous': 7935, 'chaffetz': 7936, \"tale'\": 7937, 'minneapolis': 7938, 'surfer': 7939, \"francis'\": 7940, 'subconscious': 7941, 'vital': 7942, 'bono': 7943, 'auction': 7944, 'autographed': 7945, \"racism'\": 7946, \"blood'\": 7947, 'adjusting': 7948, 'demonstrates': 7949, 'examine': 7950, 'inaction': 7951, 'ruler': 7952, 'defund': 7953, 'uncool': 7954, 'poland': 7955, \"'if\": 7956, 'sliders': 7957, '220': 7958, 'mila': 7959, 'kunis': 7960, 'bon': 7961, 'strokes': 7962, 'maroon': 7963, 'frontman': 7964, 'saint': 7965, 'craft': 7966, 'barber': 7967, 'ideal': 7968, 'gathering': 7969, 'cheeky': 7970, 'discipline': 7971, 'elevate': 7972, \"'broad\": 7973, 'maxine': 7974, 'bouncer': 7975, 'instructed': 7976, 'settlements': 7977, \"help'\": 7978, 'rogue': 7979, 'detectives': 7980, 'casey': 7981, 'incidents': 7982, 'shaky': 7983, 'largely': 7984, 'revelations': 7985, 'airborne': 7986, 'antibiotic': 7987, 'absolute': 7988, 'concession': 7989, 'platter': 7990, 'unbelievably': 7991, \"'diversity\": 7992, 'imported': 7993, 'manual': 7994, 'rifles': 7995, 'craze': 7996, 'robber': 7997, 'kotter': 7998, 'attic': 7999, 'duckworth': 8000, 'broncos': 8001, 'lehrer': 8002, 'idiots': 8003, 'conrad': 8004, 'fascinated': 8005, 'victorious': 8006, 'distracted': 8007, \"patrick's\": 8008, 'solange': 8009, 'heartedly': 8010, 'bachelor': 8011, 'contestants': 8012, \"worker's\": 8013, 'identified': 8014, 'creature': 8015, \"florida's\": 8016, 'burundi': 8017, 'chimp': 8018, 'misspelled': 8019, 'handled': 8020, 'membership': 8021, 'tight': 8022, 'outlets': 8023, 'tornadoes': 8024, 'hamburger': 8025, 'crusade': 8026, 'strife': 8027, 'intensity': 8028, 'narcissist': 8029, 'sequence': 8030, 'stephanie': 8031, 'aquaman': 8032, 'monica': 8033, 'jedi': 8034, 'interfaith': 8035, 'trusted': 8036, 'grindr': 8037, 'cub': 8038, 'trailblazing': 8039, 'colleague': 8040, 'gyllenhaal': 8041, 'stun': 8042, 'richest': 8043, 'boarding': 8044, 'insufferable': 8045, 'frederick': 8046, 'douglass': 8047, 'stirs': 8048, 'torches': 8049, 'masking': 8050, 'instructs': 8051, 'bids': 8052, 'ethnic': 8053, 'smiles': 8054, 'footprints': 8055, 'motel': 8056, 'resolve': 8057, 'repay': 8058, 'piven': 8059, 'healthiest': 8060, 'ape': 8061, 'surfing': 8062, 'gavin': 8063, 'masterpiece': 8064, 'liked': 8065, 'numerous': 8066, 'lapierre': 8067, \"'avatar'\": 8068, 'challenger': 8069, 'soak': 8070, 'widespread': 8071, 'chest': 8072, 'groped': 8073, 'tubman': 8074, 'psychologist': 8075, 'sentencing': 8076, 'responsibilities': 8077, 'curly': 8078, 'veal': 8079, 'roosevelt': 8080, 'clintons': 8081, 'competent': 8082, 'satisfied': 8083, 'terribly': 8084, 'abusing': 8085, 'milking': 8086, 'administrators': 8087, 'milosevic': 8088, \"employee's\": 8089, 'fraternity': 8090, 'aching': 8091, 'knock': 8092, 'overseas': 8093, 'sweatshops': 8094, 'pointed': 8095, 'ana': 8096, 'navarro': 8097, 'mickey': 8098, 'dea': 8099, 'rational': 8100, 'applicants': 8101, 'tractor': 8102, 'departure': 8103, 'transforming': 8104, 'introverts': 8105, 'fighters': 8106, 'brags': 8107, 'emperor': 8108, 'dairy': 8109, 'cliff': 8110, \"reagan's\": 8111, 'signals': 8112, 'periodic': 8113, 'elements': 8114, 'planets': 8115, 'dale': 8116, 'eminem': 8117, 'julian': 8118, 'assange': 8119, 'pad': 8120, 'laughs': 8121, 'fuming': 8122, 'pointing': 8123, 'symbolic': 8124, 'u2': 8125, 'stare': 8126, 'abandon': 8127, 'transformation': 8128, 'colors': 8129, 'sadness': 8130, 'geographic': 8131, 'penn': 8132, 'anchors': 8133, 'loretta': 8134, 'weapon': 8135, 'nerd': 8136, 'columnist': 8137, 'axe': 8138, 'aircraft': 8139, 'renewed': 8140, \"'downton\": 8141, \"abbey'\": 8142, 'choreographer': 8143, 'kinds': 8144, 'cough': 8145, 'medications': 8146, '17th': 8147, 'comforting': 8148, \"'yes\": 8149, 'hardship': 8150, 'thwarted': 8151, 'architect': 8152, 'hiroshima': 8153, 'explosives': 8154, 'slogans': 8155, 'individually': 8156, 'norway': 8157, 'denier': 8158, 'docs': 8159, 'armor': 8160, \"'lost\": 8161, 'uh': 8162, 'roman': 8163, 'bloggers': 8164, 'undergoes': 8165, 'scenario': 8166, \"'well\": 8167, 'liar': 8168, 'centers': 8169, \"'queer\": 8170, \"eye'\": 8171, 'intel': 8172, 'drawings': 8173, 'holes': 8174, 'slamming': 8175, 'travels': 8176, 'soar': 8177, 'desks': 8178, \"town's\": 8179, 'lennon': 8180, 'criticizes': 8181, 'hathaway': 8182, 'franco': 8183, 'tearing': 8184, 'maker': 8185, 'strategist': 8186, 'penguin': 8187, 'erika': 8188, 'factor': 8189, \"'sesame\": 8190, \"street'\": 8191, 'sucked': 8192, 'kenneth': 8193, 'americas': 8194, 'patriotic': 8195, 'spells': 8196, 'takeover': 8197, 'legitimately': 8198, 'fierce': 8199, 'kesha': 8200, 'residence': 8201, 'hanukkah': 8202, 'hundred': 8203, 'shamelessly': 8204, 'appalled': 8205, 'mcadams': 8206, 'weaker': 8207, 'jindal': 8208, 'elegant': 8209, '34th': 8210, 'booker': 8211, 'brakes': 8212, 'grounded': 8213, \"'oitnb'\": 8214, 'basement': 8215, 'diary': 8216, 'tee': 8217, 'soy': 8218, 'brutally': 8219, 'willed': 8220, 'bend': 8221, 'exxon': 8222, 'surf': 8223, 'keynote': 8224, 'furniture': 8225, 'blackout': 8226, 'illnesses': 8227, 'emanuel': 8228, 'surrounding': 8229, 'artistic': 8230, 'peanuts': 8231, 'dipping': 8232, 'spree': 8233, 'alter': 8234, 'resumes': 8235, 'emoji': 8236, 'runner': 8237, 'coloring': 8238, 'mattress': 8239, 'topples': 8240, \"'smart'\": 8241, 'monitors': 8242, 'adelson': 8243, 'neglects': 8244, 'sweeping': 8245, 'unsung': 8246, 'glacier': 8247, 'nuke': 8248, 'contracts': 8249, \"killer'\": 8250, 'cam': 8251, 'responders': 8252, '5k': 8253, 'abuses': 8254, 'agencies': 8255, 'decreased': 8256, \"perry's\": 8257, \"giuliani's\": 8258, 'belong': 8259, 'disneyland': 8260, 'reactions': 8261, 'grad': 8262, 'softball': 8263, 'filling': 8264, 'unloads': 8265, 'slap': 8266, 'crashed': 8267, 'owl': 8268, 'resilient': 8269, 'evacuate': 8270, 'versions': 8271, 'naomi': 8272, 'shuttle': 8273, 'claus': 8274, \"'save\": 8275, 'dowd': 8276, 'higgins': 8277, 'crosshairs': 8278, 'penguins': 8279, 'debbie': 8280, 'peanut': 8281, 'lists': 8282, 'specials': 8283, 'task': 8284, 'exhibits': 8285, 'vest': 8286, 'futuristic': 8287, \"google's\": 8288, 'comparing': 8289, 'catchphrase': 8290, 'honey': 8291, \"school's\": 8292, 'grasp': 8293, 'unread': 8294, \"irma's\": 8295, 'heroically': 8296, 'curt': 8297, \"word'\": 8298, 'mizzou': 8299, 'misery': 8300, 'roker': 8301, 'broadcaster': 8302, 'reply': 8303, 'shudders': 8304, 'niece': 8305, 'abuser': 8306, 'postponed': 8307, 'puking': 8308, 'believable': 8309, 'particular': 8310, 'jihad': 8311, 'ski': 8312, 'mastectomy': 8313, 'atm': 8314, 'inquiry': 8315, 'breastfeeding': 8316, 'blistering': 8317, \"'war\": 8318, 'mortal': 8319, 'infections': 8320, 'rodent': 8321, 'cock': 8322, 'scenic': 8323, 'dilemma': 8324, 'dow': 8325, 'manufacturing': 8326, 'minnie': 8327, 'sentences': 8328, 'afro': 8329, 'devises': 8330, 'nixon': 8331, \"future'\": 8332, 'begging': 8333, 'institutional': 8334, '1994': 8335, 'harmless': 8336, '45th': 8337, 'maintain': 8338, 'menopause': 8339, 'tantrum': 8340, \"cuomo's\": 8341, 'tan': 8342, 'spooky': 8343, 'pundits': 8344, 'unbalanced': 8345, 'server': 8346, 'dessert': 8347, 'zayn': 8348, 'loneliness': 8349, 'particularly': 8350, 'porno': 8351, 'charms': 8352, 'zones': 8353, 'theft': 8354, 'combination': 8355, 'borrow': 8356, 'brock': 8357, 'begs': 8358, 'commissioner': 8359, 'modeling': 8360, 'employer': 8361, 'swearing': 8362, 'ms': 8363, 'motivation': 8364, 'wanting': 8365, 'electing': 8366, 'aluminum': 8367, 'gaining': 8368, 'worthwhile': 8369, \"jerry's\": 8370, \"that'll\": 8371, 'websites': 8372, 'ash': 8373, 'cloak': 8374, 'philippines': 8375, 'corps': 8376, 'concerts': 8377, 'crossroads': 8378, 'surveys': 8379, \"'blue\": 8380, 'chimpanzees': 8381, 'barbie': 8382, 'whiskey': 8383, 'nurses': 8384, 'singapore': 8385, 'rapping': 8386, 'gloss': 8387, 'timothy': 8388, 'enact': 8389, 'protective': 8390, 'drum': 8391, 'pun': 8392, 'problematic': 8393, 'fundraiser': 8394, 'lengthy': 8395, 'watergate': 8396, 'promposal': 8397, 'vetoes': 8398, 'philando': 8399, 'clarence': 8400, 'yoko': 8401, 'ono': 8402, 'ushers': 8403, 'rediscover': 8404, 'responses': 8405, 'confusion': 8406, 'conditioner': 8407, \"husband's\": 8408, 'civilian': 8409, 'duvernay': 8410, 'minorities': 8411, 'statistics': 8412, 'budweiser': 8413, 'hockey': 8414, 'houseguest': 8415, 'hardline': 8416, 'vacations': 8417, 'hospitals': 8418, 'vincent': 8419, 'expects': 8420, 'pump': 8421, 'honda': 8422, 'dedicated': 8423, 'physician': 8424, 'prescriptions': 8425, \"'me\": 8426, 'reckoning': 8427, 'shaping': 8428, 'natalie': 8429, 'militias': 8430, 'pulse': 8431, 'skinny': 8432, 'mocks': 8433, 'kremlin': 8434, 'consequence': 8435, 'heartbreak': 8436, 'tribe': 8437, \"'ghostbusters'\": 8438, 'kitsch': 8439, 'laureate': 8440, \"'rock\": 8441, 'nationalism': 8442, 'kissed': 8443, 'lana': 8444, 'snl': 8445, 'chilly': 8446, 'starr': 8447, 'giamatti': 8448, 'fuckup': 8449, 'lander': 8450, 'ninth': 8451, \"love'\": 8452, 'client': 8453, \"'pitch\": 8454, 'firearm': 8455, 'overwhelmingly': 8456, 'czech': 8457, 'steel': 8458, 'investigated': 8459, 'origins': 8460, 'lettuce': 8461, \"'your\": 8462, 'shithole': 8463, \"queen's\": 8464, 'brazilians': 8465, 'ridley': 8466, 'tackles': 8467, 'nodding': 8468, 'relaxed': 8469, \"sterling's\": 8470, 'rushing': 8471, 'musician': 8472, 'stabbed': 8473, 'tossed': 8474, 'dryer': 8475, 'ecosystem': 8476, 'destiny': 8477, 'expires': 8478, 'alfred': 8479, 'warriors': 8480, 'hassle': 8481, 'fondly': 8482, 'weds': 8483, 'sassy': 8484, 'parked': 8485, \"that'\": 8486, 'nordstrom': 8487, 'manage': 8488, \"reporter's\": 8489, \"west's\": 8490, 'crafted': 8491, 'absorbed': 8492, 'lunatic': 8493, 'grassley': 8494, 'suggesting': 8495, 'beg': 8496, 'sonic': 8497, 'shaving': 8498, 'blonde': 8499, 'deserved': 8500, \"bear's\": 8501, 'seymour': 8502, 'uncovers': 8503, 'mayweather': 8504, 'maintains': 8505, 'finances': 8506, 'colombia': 8507, \"business'\": 8508, 'preparation': 8509, 'jets': 8510, 'romp': 8511, \"senator's\": 8512, 'shatters': 8513, 'octavia': 8514, 'careful': 8515, 'adopts': 8516, 'longest': 8517, 'masks': 8518, 'harvard': 8519, 'breasts': 8520, 'upgrade': 8521, \"'coming\": 8522, 'unstoppable': 8523, 'retailers': 8524, 'soars': 8525, \"simpson's\": 8526, 'formally': 8527, 'unhinged': 8528, 'fieri': 8529, '2013': 8530, \"bee's\": 8531, 'spectacular': 8532, 'drifting': 8533, 'institution': 8534, 'latina': 8535, 'hurry': 8536, 'roasts': 8537, 'suitcase': 8538, 'coroner': 8539, 'frustration': 8540, 'liars': 8541, 'horribly': 8542, 'seinfeld': 8543, 'assholes': 8544, 'slammed': 8545, 'newman': 8546, 'sang': 8547, 'saudis': 8548, 'donna': 8549, 'palace': 8550, 'greenspan': 8551, 'awe': 8552, \"kid'\": 8553, 'admission': 8554, 'starring': 8555, 'rituals': 8556, 'misty': 8557, 'scan': 8558, 'atom': 8559, 'kilborn': 8560, 'lesbians': 8561, 'bridal': 8562, 'tighter': 8563, 'werewolf': 8564, 'grads': 8565, 'dummy': 8566, \"we'll\": 8567, 'farmer': 8568, 'rite': 8569, 'dread': 8570, 'bang': 8571, 'inc': 8572, \"anymore'\": 8573, 'jenkins': 8574, 'amsterdam': 8575, 'dispute': 8576, 'mimic': 8577, 'adoption': 8578, 'disorders': 8579, 'apatow': 8580, 'plug': 8581, 'norms': 8582, 'trooper': 8583, 'summers': 8584, 'duff': 8585, 'asserts': 8586, 'borrowed': 8587, 'spite': 8588, 'aurora': 8589, 'nostalgia': 8590, 'watcher': 8591, 'liner': 8592, 'shrug': 8593, 'staples': 8594, 'wacky': 8595, 'wwii': 8596, 'rupaul': 8597, 'joker': 8598, 'twenty': 8599, 'scheme': 8600, 'snooze': 8601, 'experienced': 8602, 'sewage': 8603, 'invade': 8604, 'tropical': 8605, 'puzzle': 8606, 'kinda': 8607, 'bake': 8608, \"cigarettes'\": 8609, 'homophobia': 8610, 'felony': 8611, 'hustler': 8612, \"'say\": 8613, 'iceland': 8614, 'followers': 8615, 'tweeters': 8616, 'allowance': 8617, 'blinds': 8618, '2030': 8619, 'renews': 8620, 'published': 8621, 'chopping': 8622, 'limbs': 8623, 'addictive': 8624, 'getaway': 8625, 'unnecessary': 8626, 'constituents': 8627, 'clippers': 8628, 'lifted': 8629, 'breyer': 8630, 'solely': 8631, 'chosen': 8632, 'believing': 8633, 'disagree': 8634, 'wood': 8635, 'avoiding': 8636, 'everest': 8637, 'constitute': 8638, \"country'\": 8639, 'alba': 8640, 'bicycle': 8641, 'mining': 8642, 'handicapped': 8643, 'carlos': 8644, 'santana': 8645, 'recorded': 8646, 'hamm': 8647, 'payments': 8648, \"stranger's\": 8649, 'entrepreneurs': 8650, 'pinterest': 8651, 'alison': 8652, 'parker': 8653, 'wealthier': 8654, 'jar': 8655, 'altar': 8656, 'flare': 8657, 'cheddar': 8658, 'uncover': 8659, 'needle': 8660, 'rely': 8661, 'recommended': 8662, 'nicely': 8663, 'botches': 8664, \"governor's\": 8665, '81': 8666, 'meatless': 8667, \"bird's\": 8668, 'squeezed': 8669, 'diagram': 8670, \"'fresh\": 8671, 'lunar': 8672, 'singles': 8673, 'ashcroft': 8674, 'yelled': 8675, 'relatable': 8676, 'material': 8677, 'drowning': 8678, 'suite': 8679, 'sinclair': 8680, 'botched': 8681, 'payday': 8682, 'anna': 8683, \"'embarrassing'\": 8684, 'discriminated': 8685, 'wistfully': 8686, 'patty': 8687, 'oakland': 8688, 'somali': 8689, 'tomi': 8690, 'champions': 8691, 'coma': 8692, \"manager's\": 8693, 'rivals': 8694, 'electricity': 8695, 'personalized': 8696, 'grisly': 8697, \"heart'\": 8698, 'dinosaur': 8699, 'drunkenly': 8700, 'mlk': 8701, 'chronic': 8702, 'luck': 8703, 'editorial': 8704, 'beheading': 8705, 'rolled': 8706, 'collective': 8707, 'stacked': 8708, 'leaf': 8709, \"dunkin'\": 8710, 'nepal': 8711, 'aly': 8712, 'raisman': 8713, 'unhappy': 8714, 'vandalism': 8715, 'licking': 8716, \"court's\": 8717, 'siri': 8718, 'coral': 8719, '77': 8720, '54': 8721, 'outlet': 8722, 'libertarian': 8723, 'economics': 8724, 'narrator': 8725, 'firearms': 8726, \"fallon's\": 8727, 'bloom': 8728, 'contractors': 8729, 'crayon': 8730, 'freaky': 8731, 'rapist': 8732, 'karaoke': 8733, 'newborns': 8734, 'fracking': 8735, 'slip': 8736, 'deray': 8737, 'mckesson': 8738, 'mankind': 8739, 'complaining': 8740, 'lewandowski': 8741, 'genital': 8742, 'gchat': 8743, 'waterboarding': 8744, 'onstage': 8745, 'hideous': 8746, 'rhyme': 8747, 'listeners': 8748, 'gisele': 8749, 'procrastinating': 8750, 'petsmart': 8751, \"'fifty\": 8752, \"yahoo's\": 8753, 'mannered': 8754, 'genitals': 8755, 'bracing': 8756, 'cookies': 8757, 'polio': 8758, 'shoppers': 8759, 'conforming': 8760, 'forcing': 8761, 'insist': 8762, 'colony': 8763, \"power'\": 8764, \"'president\": 8765, 'taxpayers': 8766, 'pending': 8767, 'joel': 8768, 'educator': 8769, 'brussels': 8770, 'guidance': 8771, 'counselor': 8772, 'whcd': 8773, 'demise': 8774, 'grid': 8775, 'geeks': 8776, 'locals': 8777, 'flattered': 8778, 'privileges': 8779, 'kardashians': 8780, 'vegetables': 8781, 'imperative': 8782, \"'she\": 8783, 'lester': 8784, \"'today'\": 8785, 'marie': 8786, 'opener': 8787, 'warmbier': 8788, 'diverted': 8789, 'printer': 8790, 'downplays': 8791, 'olive': 8792, 'exec': 8793, 'conductor': 8794, 'appetizers': 8795, 'robbers': 8796, 'dumber': 8797, 'istanbul': 8798, 'gawker': 8799, 'penned': 8800, 'divine': 8801, 'cooler': 8802, 'homage': 8803, 'trophy': 8804, 'revisit': 8805, \"'strong\": 8806, '30th': 8807, 'failures': 8808, 'hearted': 8809, 'toronto': 8810, 'indoor': 8811, 'hatchimals': 8812, \"domino's\": 8813, 'ranger': 8814, 'technicians': 8815, 'wreckage': 8816, 'occurs': 8817, \"again'\": 8818, 'coaches': 8819, 'baptist': 8820, 'counterparts': 8821, 'jcpenney': 8822, 'jada': 8823, 'pinkett': 8824, 'baffled': 8825, 'cutout': 8826, 'heated': 8827, 'gilbert': 8828, 'crowded': 8829, 'drove': 8830, 'lively': 8831, \"order'\": 8832, 'empowers': 8833, 'achieves': 8834, 'sheeran': 8835, 'diamonds': 8836, \"'price\": 8837, \"house's\": 8838, 'iranians': 8839, 'tosses': 8840, 'swimmer': 8841, '120': 8842, \"abc's\": 8843, 'unfit': 8844, 'unionize': 8845, 'pottery': 8846, 'limited': 8847, 'guacamole': 8848, 'tolerance': 8849, 'mechanic': 8850, 'silverman': 8851, \"'atlanta'\": 8852, 'volcano': 8853, 'receptionist': 8854, 'mosques': 8855, 'sacred': 8856, 'tons': 8857, 'ian': 8858, 'mckellen': 8859, 'complimentary': 8860, 'rogen': 8861, 'checkout': 8862, 'educating': 8863, 'campaigning': 8864, 'curbing': 8865, 'jukebox': 8866, \"'going\": 8867, \"too'\": 8868, 'shrieking': 8869, 'transphobia': 8870, \"voters'\": 8871, 'owning': 8872, '68': 8873, 'atomic': 8874, 'fitzgerald': 8875, 'lovers': 8876, 'sailor': 8877, 'beautifully': 8878, 'fifa': 8879, 'fucker': 8880, 'razor': 8881, 'impoverished': 8882, 'vr': 8883, '3d': 8884, '20th': 8885, 'leaping': 8886, 'handler': 8887, 'visas': 8888, 'laverne': 8889, 'fabric': 8890, 'caste': 8891, 'pleasantly': 8892, 'fifty': 8893, 'acquire': 8894, \"family'\": 8895, \"moms'\": 8896, 'hubble': 8897, 'amelia': 8898, 'cheating': 8899, \"hero'\": 8900, 'cloud': 8901, 'finals': 8902, 'interns': 8903, 'oceans': 8904, 'fleetwood': 8905, \"mac's\": 8906, 'brighten': 8907, 'streak': 8908, 'swallowing': 8909, 'fiancé': 8910, 'vanilla': 8911, 'automated': 8912, 'spaz': 8913, 'crowdfunding': 8914, 'fascism': 8915, 'psyche': 8916, 'badly': 8917, 'scaramucci': 8918, 'lust': 8919, 'costner': 8920, 'mel': 8921, \"interview'\": 8922, 'messaging': 8923, 'hunky': 8924, 'championship': 8925, 'pundit': 8926, 'garcia': 8927, 'spinning': 8928, 'canceling': 8929, 'acquitted': 8930, 'paints': 8931, 'technicality': 8932, 'experimental': 8933, 'install': 8934, 'filipino': 8935, 'pension': 8936, 'groom': 8937, 'intent': 8938, 'manchester': 8939, 'wrecking': 8940, '2003': 8941, 'violated': 8942, 'washer': 8943, 'dining': 8944, 'elite': 8945, 'finance': 8946, 'units': 8947, \"graham's\": 8948, 'passionate': 8949, 'kobach': 8950, 'incompetent': 8951, 'intelligent': 8952, 'eventually': 8953, 'youths': 8954, \"'moana'\": 8955, 'halls': 8956, 'escaped': 8957, 'functioning': 8958, 'selfies': 8959, 'schedule': 8960, 'deter': 8961, 'toner': 8962, 'hallmark': 8963, 'barbra': 8964, 'streisand': 8965, 'le': 8966, 'rupert': 8967, 'murdoch': 8968, 'patio': 8969, 'attempted': 8970, 'mt': 8971, 'capacity': 8972, 'hotline': 8973, 'accomplishment': 8974, 'cancelled': 8975, 'drowsy': 8976, 'reconciliation': 8977, 'topless': 8978, 'boundaries': 8979, 'heath': 8980, 'stretching': 8981, 'piling': 8982, 'hardworking': 8983, 'labour': 8984, 'burglar': 8985, \"campaign's\": 8986, 'pineapple': 8987, \"'girls'\": 8988, 'mutant': 8989, 'triggers': 8990, 'def': 8991, 'madison': 8992, 'musicals': 8993, 'subtle': 8994, 'convenient': 8995, 'hunting': 8996, 'weathered': 8997, 'tibetan': 8998, 'severe': 8999, 'mutual': 9000, 'spark': 9001, 'turmoil': 9002, 'entrepreneurial': 9003, 'nascar': 9004, 'clinics': 9005, 'karen': 9006, 'detached': 9007, 'masturbated': 9008, 'decries': 9009, 'seating': 9010, 'elsa': 9011, 'spelling': 9012, 'gilmore': 9013, 'oversized': 9014, '800': 9015, \"mexico's\": 9016, 'lochte': 9017, 'torch': 9018, 'entertained': 9019, 'chopra': 9020, 'apu': 9021, 'pierce': 9022, \"duff's\": 9023, 'seed': 9024, 'temporarily': 9025, 'hyland': 9026, 'venture': 9027, \"victim's\": 9028, 'rooms': 9029, 'printed': 9030, 'widely': 9031, 'avalanche': 9032, \"'suicide\": 9033, 'msnbc': 9034, 'soaked': 9035, 'incapable': 9036, 'solemnly': 9037, 'layer': 9038, 'typical': 9039, 'pleas': 9040, \"'d'\": 9041, 'fidel': 9042, 'anxiously': 9043, 'loop': 9044, 'luigi': 9045, 'automatically': 9046, 'flawed': 9047, 'satellites': 9048, 'rev': 9049, 'tenant': 9050, 'nearby': 9051, 'fertility': 9052, 'transit': 9053, 'lambert': 9054, 'atheists': 9055, 'bishop': 9056, '18th': 9057, 'puppies': 9058, 'buck': 9059, 'goldberg': 9060, 'athlete': 9061, 'tasting': 9062, 'stern': 9063, 'geek': 9064, 'credits': 9065, 'greet': 9066, \"'n'\": 9067, 'sorority': 9068, 'giddy': 9069, \"'parks\": 9070, 'loner': 9071, 'mortar': 9072, \"'never'\": 9073, 'executioner': 9074, \"farmers'\": 9075, 'meek': 9076, 'stages': 9077, 'buns': 9078, 'premieres': 9079, 'danger': 9080, 'hog': 9081, 'governing': 9082, 'brita': 9083, 'accuser': 9084, \"'pokemon\": 9085, 'occasion': 9086, 'reincarnation': 9087, 'manson': 9088, 'pokes': 9089, 'schooler': 9090, 'nun': 9091, 'tablets': 9092, \"kardashian's\": 9093, 'shrine': 9094, 'montage': 9095, 'billing': 9096, 'coke': 9097, 'nanny': 9098, 'grisham': 9099, 'pry': 9100, 'ptsd': 9101, 'stoked': 9102, 'jupiter': 9103, 'talked': 9104, 'jerk': 9105, 'adversity': 9106, 'occupied': 9107, 'fantasize': 9108, 'excuses': 9109, 'betrays': 9110, 'hating': 9111, 'mirrors': 9112, 'gubernatorial': 9113, 'dixie': 9114, 'sept': 9115, 'magically': 9116, 'stairs': 9117, 'coupon': 9118, 'granted': 9119, '180': 9120, 'capabilities': 9121, 'palms': 9122, 'excruciating': 9123, 'analogy': 9124, 'humanitarian': 9125, 'defibrillator': 9126, 'iraqis': 9127, 'keyboard': 9128, 'examines': 9129, 'recruitment': 9130, 'scratch': 9131, 'tours': 9132, 'imagining': 9133, 'protein': 9134, 'switch': 9135, 'yacht': 9136, 'expanded': 9137, 'heckler': 9138, \"'hidden\": 9139, 'dancer': 9140, 'truman': 9141, 'navigating': 9142, 'sibling': 9143, 'temple': 9144, \"'only\": 9145, 'molesting': 9146, 'ravaged': 9147, 'confinement': 9148, \"prince's\": 9149, 'amtrak': 9150, 'grizzly': 9151, 'reunite': 9152, 'prose': 9153, 'manly': 9154, 'jogger': 9155, 'exposed': 9156, 'backstage': 9157, '2050': 9158, 'omg': 9159, 'rivalry': 9160, 'offense': 9161, 'festivals': 9162, 'hermione': 9163, \"chicago's\": 9164, 'northeast': 9165, 'hindus': 9166, 'greeting': 9167, 'eternal': 9168, 'poisoning': 9169, 'ronda': 9170, 'rousey': 9171, \"twins'\": 9172, \"'time\": 9173, \"'frozen'\": 9174, 'briefings': 9175, 'neurotic': 9176, 'boredom': 9177, 'rican': 9178, 'billionth': 9179, 'happier': 9180, 'iii': 9181, \"'best\": 9182, 'desert': 9183, 'mentioning': 9184, 'kamala': 9185, 'derek': 9186, 'separated': 9187, 'cheerleader': 9188, 'meetings': 9189, 'backfires': 9190, 'galactic': 9191, 'infants': 9192, 'blair': 9193, '160': 9194, 'difficulty': 9195, '39': 9196, 'unleash': 9197, 'rack': 9198, 'unconstitutional': 9199, 'empowering': 9200, 'stuf': 9201, 'oreos': 9202, 'breakfasts': 9203, 'gig': 9204, 'possession': 9205, 'glitch': 9206, 'blissfully': 9207, 'pompeo': 9208, 'honestly': 9209, \"'jimmy\": 9210, 'england': 9211, 'candid': 9212, 'hunchback': 9213, 'array': 9214, \"'trump'\": 9215, 'bearing': 9216, \"yo'\": 9217, 'fantastic': 9218, \"'would\": 9219, 'goodwill': 9220, 'lineup': 9221, \"white'\": 9222, 'personalities': 9223, \"michelle's\": 9224, 'sickly': 9225, \"universe'\": 9226, 'blanket': 9227, 'resurrection': 9228, 'jew': 9229, 'baked': 9230, 'nashville': 9231, \"'bachelor'\": 9232, 'entertaining': 9233, \"fan's\": 9234, 'calf': 9235, 'fog': 9236, 'scam': 9237, \"'bachelorette'\": 9238, \"could've\": 9239, 'addicts': 9240, \"college's\": 9241, 'transmitted': 9242, 'strips': 9243, 'salmon': 9244, 'console': 9245, 'grudgingly': 9246, 'hedgehog': 9247, 'bystanders': 9248, 'decent': 9249, 'cancellation': 9250, 'addicted': 9251, \"daniels'\": 9252, 'portal': 9253, 'boycotts': 9254, 'helpless': 9255, 'chains': 9256, 'tsunami': 9257, 'devil': 9258, 'buckingham': 9259, 'cape': 9260, 'spaces': 9261, 'caps': 9262, 'trunk': 9263, 'intricate': 9264, 'mature': 9265, 'sufferer': 9266, 'momentum': 9267, 'quaker': 9268, 'forest': 9269, 'claire': 9270, 'clearance': 9271, \"ranger'\": 9272, 'edward': 9273, 'snakes': 9274, 'danes': 9275, 'henry': 9276, 'ballet': 9277, 'despondent': 9278, 'diplomat': 9279, 'belgium': 9280, \"muslims'\": 9281, 'patriot': 9282, 'prone': 9283, 'comcast': 9284, 'celestial': 9285, 'utopia': 9286, 'savages': 9287, 'angered': 9288, 'collusion': 9289, \"sound'\": 9290, 'certainly': 9291, 'lanyard': 9292, 'rope': 9293, 'encounters': 9294, 'liberties': 9295, 'ballad': 9296, 'singers': 9297, 'scrambles': 9298, 'peta': 9299, 'newsrooms': 9300, 'unsurprisingly': 9301, 'topics': 9302, 'deporting': 9303, '2005': 9304, 'altered': 9305, 'evade': 9306, \"editor's\": 9307, 'clam': 9308, 'derailing': 9309, 'acknowledging': 9310, 'aimed': 9311, \"'real'\": 9312, 'greenland': 9313, 'projection': 9314, 'sweden': 9315, 'socal': 9316, 'lemonade': 9317, 'heist': 9318, '60th': 9319, 'kisses': 9320, 'delegates': 9321, 'degenerates': 9322, 'impatient': 9323, 'condé': 9324, 'nast': 9325, 'dominance': 9326, 'batman': 9327, \"line'\": 9328, 'boob': 9329, 'whitewater': 9330, 'predicting': 9331, 'behaviors': 9332, 'beguiling': 9333, 'hastert': 9334, 'cleric': 9335, 'orgasm': 9336, 'fisherman': 9337, 'stalls': 9338, 'bathrooms': 9339, 'nicolas': 9340, 'acquaintances': 9341, 'friendships': 9342, 'admiral': 9343, 'installs': 9344, 'bins': 9345, 'depicting': 9346, 'hurls': 9347, 'screw': 9348, 'gutting': 9349, 'denzel': 9350, 'advanced': 9351, 'rages': 9352, 'pops': 9353, 'layover': 9354, 'intimacy': 9355, 'scarlett': 9356, 'conferences': 9357, 'echo': 9358, 'grossest': 9359, \"netanyahu's\": 9360, 'heroine': 9361, 'trucks': 9362, 'ominous': 9363, 'toenails': 9364, 'dermatologists': 9365, 'barneys': 9366, \"'fighting\": 9367, 'catherine': 9368, 'mocha': 9369, 'frappuccino': 9370, 'autoerotic': 9371, 'asphyxiation': 9372, 'bishops': 9373, 'bump': 9374, 'analysts': 9375, 'advertisement': 9376, 'icu': 9377, 'iftar': 9378, \"players'\": 9379, 'conor': 9380, 'stamina': 9381, 'g20': 9382, \"love's\": 9383, 'headset': 9384, 'strictest': 9385, 'magnet': 9386, 'scrawled': 9387, 'powerfully': 9388, 'denounces': 9389, 'towns': 9390, \"designer's\": 9391, 'sweaty': 9392, 'thigh': 9393, 'musings': 9394, \"bear'\": 9395, 'experimented': 9396, 'il': 9397, 'ellis': 9398, 'toured': 9399, 'superdelegate': 9400, 'incest': 9401, 'kroger': 9402, 'frontrunner': 9403, 'basket': 9404, 'chapter': 9405, 'positions': 9406, 'dull': 9407, 'std': 9408, 'hipster': 9409, 'letterman': 9410, 'bigotry': 9411, \"hero's\": 9412, 'statistically': 9413, 'ineffective': 9414, 'senseless': 9415, 'salvation': 9416, \"'unreal\": 9417, 'cleaned': 9418, 'wallpaper': 9419, 'emissions': 9420, 'apocalyptic': 9421, 'hellscape': 9422, 'pageant': 9423, 'underfunded': 9424, 'adjacent': 9425, 'operative': 9426, \"4'\": 9427, 'storytelling': 9428, \"hiddleston's\": 9429, \"light'\": 9430, 'bunny': 9431, 'servers': 9432, 'mountaintop': 9433, 'pesticides': 9434, 'cliché': 9435, 'gentlemen': 9436, 'marginalized': 9437, 'renew': 9438, 'proposition': 9439, 'defines': 9440, 'universal': 9441, 'ridicules': 9442, 'vomits': 9443, 'bastards': 9444, 'containing': 9445, 'tara': 9446, 'whiny': 9447, 'unprovoked': 9448, 'imprisoned': 9449, 'abruptly': 9450, 'glaad': 9451, 'systemic': 9452, 'jails': 9453, 'apples': 9454, 'clients': 9455, 'alice': 9456, 'gears': 9457, 'justified': 9458, 'jaime': 9459, 'abraham': 9460, 'nerds': 9461, 'overeating': 9462, 'fever': 9463, \"'giant'\": 9464, 'vehemently': 9465, \"'people'\": 9466, 'hello': 9467, \"'98\": 9468, 'drown': 9469, 'cognitive': 9470, \"jersey's\": 9471, 'merely': 9472, \"attack'\": 9473, 'nauseous': 9474, 'portable': 9475, 'necklace': 9476, 'significance': 9477, 'bonds': 9478, \"bloomberg's\": 9479, \"johnson's\": 9480, \"assad's\": 9481, \"revolution'\": 9482, 'millennium': 9483, 'cricket': 9484, 'styling': 9485, \"'listen\": 9486, 'odessa': 9487, 'somebody': 9488, 'universally': 9489, 'sox': 9490, \"here'\": 9491, 'vinci': 9492, 'yazidi': 9493, 'delete': 9494, 'ceremonial': 9495, 'nicer': 9496, \"europe's\": 9497, 'chipper': 9498, 'judith': 9499, 'ageism': 9500, 'picasso': 9501, 'humble': 9502, 'viruses': 9503, 'scarier': 9504, 'kirkman': 9505, 'edgy': 9506, 'scooby': 9507, 'fu': 9508, 'belittling': 9509, 'macklemore': 9510, 'sided': 9511, 'classy': 9512, 'canonized': 9513, \"vatican's\": 9514, \"judge'\": 9515, 'newsbrief': 9516, 'sword': 9517, 'alma': 9518, 'mater': 9519, 'mitzvah': 9520, 'disparaging': 9521, 'clinches': 9522, \"'ave\": 9523, \"maria'\": 9524, 'zsa': 9525, 'walkway': 9526, \"'late\": 9527, \"man'\": 9528, \"'help\": 9529, 'gassed': 9530, 'cod': 9531, 'honolulu': 9532, 'thoroughly': 9533, 'unimpressed': 9534, 'bobsled': 9535, 'soothing': 9536, 'headscarf': 9537, 'humongous': 9538, 'fuckers': 9539, 'ranch': 9540, \"'daily\": 9541, \"o'donnell\": 9542, \"deal'\": 9543, 'rearranging': 9544, 'cement': 9545, \"helmet'\": 9546, 'harington': 9547, 'carl': 9548, 'attends': 9549, 'zodiac': 9550, 'parting': 9551, 'economists': 9552, 'invent': 9553, 'chester': 9554, \"vacation'\": 9555, 'forgetful': 9556, \"wind'\": 9557, \"magazine's\": 9558, 'liz': 9559, 'regretting': 9560, 'awaited': 9561, 'woos': 9562, 'mercury': 9563, 'scanned': 9564, 'spares': 9565, \"uncle's\": 9566, 'hoarder': 9567, 'lego': 9568, 'instagrams': 9569, 'melting': 9570, 'sheets': 9571, 'axis': 9572, 'worsen': 9573, 'frankly': 9574, 'anonymity': 9575, \"kardashians'\": 9576, 'dive': 9577, 'sext': 9578, 'bereavement': 9579, 'dynamite': 9580, 'decimate': 9581, 'mclaughlin': 9582, 'meter': 9583, 'hurdles': 9584, 'photoshoot': 9585, 'cab': 9586, 'hordes': 9587, 'biologist': 9588, 'frisk': 9589, 'molly': 9590, 'forecloses': 9591, 'encrypted': 9592, 'communications': 9593, 'intercepted': 9594, 'winces': 9595, 'restoring': 9596, 'perverted': 9597, 'caribbean': 9598, 'dazzle': 9599, \"nasa's\": 9600, 'spacecraft': 9601, 'recovers': 9602, 'unexplained': 9603, 'mode': 9604, \"friends'\": 9605, 'arne': 9606, 'duncan': 9607, 'devito': 9608, 'discourse': 9609, 'michelin': 9610, 'tires': 9611, 'insects': 9612, 'racy': 9613, 'stockpiling': 9614, \"'fantastic\": 9615, 'paparazzi': 9616, 'armageddon': 9617, 'archaeological': 9618, 'autocratic': 9619, 'serpent': 9620, 'trimester': 9621, 'pas': 9622, \"philadelphia's\": 9623, 'mayoral': 9624, 'ethiopia': 9625, 'tussle': 9626, 'warrant': 9627, 'subscribers': 9628, 'employed': 9629, 'li': 9630, \"now'\": 9631, 'ought': 9632, 'windfall': 9633, 'mister': 9634, 'gerrymandered': 9635, 'dot': 9636, 'hostess': 9637, \"yourself'\": 9638, \"creator's\": 9639, 'rickles': 9640, 'selectively': 9641, \"truth'\": 9642, 'cosmic': 9643, 'funnies': 9644, 'prescribe': 9645, 'alongside': 9646, 'hale': 9647, 'unveiled': 9648, 'gifted': 9649, 'translator': 9650, 'et': 9651, 'hovering': 9652, 'clamoring': 9653, 'shove': 9654, 'mule': 9655, 'ing': 9656, 'heels': 9657, 'rattan': 9658, 'balvin': 9659, 'misguided': 9660, 'smooch': 9661, 'tri': 9662, 'cornered': 9663, 'deserving': 9664, 'hbcu': 9665, 'frightening': 9666, 'atonal': 9667, 'multicultural': 9668, 'mural': 9669, 'pivotal': 9670, 'frosted': 9671, 'costa': 9672, 'cataclysmic': 9673, 'roland': 9674, \"australia's\": 9675, \"refugee's\": 9676, 'skunk': 9677, 'ducklings': 9678, 'superintendent': 9679, 'propose': 9680, 'frontier': 9681, 'lagerfeld': 9682, 'dedication': 9683, 'listeria': 9684, 'sh': 9685, \"t'\": 9686, '12th': 9687, 'fort': 9688, 'traces': 9689, 'blahs': 9690, 'refutes': 9691, 'rains': 9692, 'pyramids': 9693, 'squandering': 9694, 'export': 9695, 'retreats': 9696, 'sally': 9697, \"'free\": 9698, 'unkempt': 9699, \"canada's\": 9700, 'prog': 9701, 'murals': 9702, \"'13\": 9703, \"why'\": 9704, 'herculean': 9705, \"'complete\": 9706, 'ants': 9707, \"boehner's\": 9708, 'alligator': 9709, \"general's\": 9710, 'communion': 9711, 'comb': 9712, \"'hamilton\": 9713, \"mixtape'\": 9714, 'combos': 9715, 'bitterly': 9716, 'sabotaging': 9717, 'insurgents': 9718, 'fireflies': 9719, 'dismayed': 9720, 'kristol': 9721, 'blew': 9722, 'dash': 9723, 'mudslide': 9724, 'tr': 9725, 'mp': 9726, 'ugh': 9727, 'bartenders': 9728, 'playboy': 9729, 'endangers': 9730, \"'share\": 9731, \"better'\": 9732, \"walker's\": 9733, 'pitched': 9734, 'plaza': 9735, 'gregg': 9736, \"'troubled'\": 9737, 'daycare': 9738, \"miners'\": 9739, 'roulette': 9740, 'optimist': 9741, \"'dead\": 9742, 'gory': 9743, \"hut's\": 9744, 'gassy': 9745, '1980': 9746, 'applause': 9747, 'penny': 9748, 'purely': 9749, 'gasoline': 9750, 'outpouring': 9751, 'sympathetic': 9752, 'attackers': 9753, 'drastically': 9754, 'overestimating': 9755, 'moderation': 9756, 'mixes': 9757, 'noise': 9758, 'superstitious': 9759, 'stylist': 9760, 'jo': 9761, 'vandals': 9762, \"aliens'\": 9763, 'contractor': 9764, 'torturing': 9765, \"'climate\": 9766, \"refugees'\": 9767, 'paranormal': 9768, \"'steak\": 9769, 'softly': 9770, 'escapes': 9771, 'snooping': 9772, 'pledged': 9773, \"'ghost\": 9774, 'prairie': 9775, 'legislature': 9776, 'interviewed': 9777, 'petty': 9778, 'mutants': 9779, 'decorated': 9780, 'replacing': 9781, 'setback': 9782, 'honeymoon': 9783, 'choke': 9784, \"room'\": 9785, 'waffles': 9786, 'overwhelming': 9787, 'sucking': 9788, 'radicals': 9789, 'vie': 9790, 'yells': 9791, 'teammate': 9792, 'compose': 9793, 'goosebumps': 9794, 'psychotic': 9795, 'shortcomings': 9796, 'xl': 9797, 'abusers': 9798, 'nativity': 9799, 'unauthorized': 9800, 'spices': 9801, 'blender': 9802, 'hogging': 9803, 'kidney': 9804, 'sickness': 9805, 'shoving': 9806, 'dana': 9807, 'loesch': 9808, 'railroad': 9809, 'truther': 9810, 'jihadist': 9811, 'quoting': 9812, \"'thoughts\": 9813, \"prayers'\": 9814, 'reich': 9815, \"executive's\": 9816, 'xi': 9817, \"'wrong\": 9818, \"'blood\": 9819, \"'under\": 9820, 'carolinas': 9821, 'sebastian': 9822, 'downplayed': 9823, 'marines': 9824, 'milan': 9825, 'advocacy': 9826, 'adrenaline': 9827, 'adulthood': 9828, 'moltzvah': 9829, 'fiancee': 9830, 'subsidies': 9831, 'boiled': 9832, 'ness': 9833, 'madame': 9834, 'unmoved': 9835, 'trebek': 9836, 'deftly': 9837, 'agonizing': 9838, 'sentient': 9839, 'acid': 9840, 'reapplies': 9841, 'carmex': 9842, 'intervals': 9843, \"generation'\": 9844, 'archdiocese': 9845, 'prospects': 9846, 'asses': 9847, 'participants': 9848, \"'horrible'\": 9849, 'implanted': 9850, 'dammit': 9851, 'stricken': 9852, 'choir': 9853, 'convey': 9854, 'geography': 9855, 'dished': 9856, '97': 9857, 'logging': 9858, 'digestive': 9859, 'deflates': 9860, 'schoolchildren': 9861, 'unrecognizable': 9862, 'insect': 9863, 'limitless': 9864, 'rockets': 9865, 'brave': 9866, 'deadpool': 9867, 'wtf': 9868, 'ransom': 9869, 'ravine': 9870, 'probes': 9871, 'tucks': 9872, 'bornstein': 9873, 'riders': 9874, 'confronting': 9875, 'hoffman': 9876, 'wimbledon': 9877, 'lebanon': 9878, 'hadid': 9879, 'ghastly': 9880, 'impassioned': 9881, \"toddler's\": 9882, 'synthetic': 9883, 'restless': 9884, 'erotic': 9885, 'advertiser': 9886, 'profound': 9887, 'markers': 9888, 'supportive': 9889, 'wren': 9890, 'dina': 9891, 'caretaker': 9892, 'idris': 9893, 'elba': 9894, 'wider': 9895, 'ricola': 9896, 'embargo': 9897, 'quelled': 9898, 'meth': 9899, '2s': 9900, 'winslet': 9901, 'commuter': 9902, 'gauge': 9903, 'ample': 9904, 'payer': 9905, 'incorrect': 9906, 'unesco': 9907, \"'dawson's\": 9908, \"creek'\": 9909, 'hypnotic': 9910, 'depart': 9911, 'awakening': 9912, 'defect': 9913, 'transplant': 9914, 'essentially': 9915, \"'political\": 9916, 'premiums': 9917, 'glands': 9918, 'relaxing': 9919, 'stocked': 9920, 'dwight': 9921, 'seamlessly': 9922, 'blend': 9923, 'midlife': 9924, 'artificial': 9925, 'caked': 9926, 'moviegoer': 9927, 'sneak': 9928, 'playground': 9929, 'greeks': 9930, 'roadblocks': 9931, 'dwindling': 9932, 'ellie': 9933, 'goulding': 9934, 'tester': 9935, \"workers'\": 9936, 'slurs': 9937, 'meteor': 9938, 'brawl': 9939, 'appointed': 9940, 'cautious': 9941, 'shaq': 9942, 'uneasy': 9943, 'broad': 9944, 'insight': 9945, 'coffin': 9946, 'bauer': 9947, 'tantalizing': 9948, 'helmets': 9949, \"hadn't\": 9950, 'unlike': 9951, 'scope': 9952, 'livable': 9953, 'charts': 9954, 'unapproved': 9955, 'panties': 9956, 'triumph': 9957, 'zachary': 9958, 'quinto': 9959, 'steamed': 9960, 'lyndon': 9961, 'fable': 9962, 'uninterested': 9963, 'impulse': 9964, 'cue': 9965, 'doris': 9966, 'preemie': 9967, 'disavows': 9968, 'panelists': 9969, 'gondolier': 9970, \"nra'\": 9971, '1988': 9972, 'nintendo': 9973, \"station'\": 9974, 'retarded': 9975, 'formula': 9976, 'danielle': 9977, 'soothes': 9978, 'footprint': 9979, 'planting': 9980, \"'after\": 9981, \"'planet\": 9982, \"ii'\": 9983, 'biased': 9984, 'chita': 9985, 'pharoah': 9986, 'succeed': 9987, \"legionnaires'\": 9988, 'lou': 9989, 'indictment': 9990, \"road'\": 9991, 'teasers': 9992, 'cockroach': 9993, 'abdomen': 9994, 'ernest': 9995, 'hemingway': 9996, 'chateau': 9997, \"operation'\": 9998, 'gal': 9999, 'gadot': 10000, 'wong': 10001, 'paved': 10002, 'phenomenon': 10003, 'peach': 10004, \"london's\": 10005, 'copyright': 10006, 'phrasebook': 10007, \"boss'\": 10008, 'deaver': 10009, 'foolishly': 10010, 'entrusted': 10011, 'fender': 10012, 'disheveled': 10013, \"ideas'\": 10014, 'narratives': 10015, \"flu'\": 10016, 'excerpt': 10017, 'euthanize': 10018, 'redford': 10019, 'suits': 10020, 'timing': 10021, \"dory'\": 10022, 'bizarrely': 10023, 'midair': 10024, 'excommunication': 10025, 'erupt': 10026, 'alliance': 10027, 'exploiting': 10028, 'cassini': 10029, 'vigilante': 10030, 'commemorating': 10031, 'legislator': 10032, \"'sweet\": 10033, \"high'\": 10034, 'sobbing': 10035, 'ditched': 10036, 'audra': 10037, 'apathy': 10038, \"'lord\": 10039, 'paycheck': 10040, 'subsidiary': 10041, 'titles': 10042, \"'humans\": 10043, 'cans': 10044, 'completed': 10045, 'congratulates': 10046, \"'e\": 10047, 'investigators': 10048, 'dominating': 10049, 'meltdown': 10050, 'allergic': 10051, 'dynamic': 10052, 'rpg': 10053, 'fema': 10054, 'refreshing': 10055, '1980s': 10056, \"freedom'\": 10057, 'contention': 10058, 'crafts': 10059, 'stranded': 10060, \"ones'\": 10061, 'gentrifying': 10062, \"boss's\": 10063, \"happened'\": 10064, \"'roseanne'\": 10065, 'taping': 10066, 'recreates': 10067, \"'angry\": 10068, 'recapped': 10069, 'weaken': 10070, 'nader': 10071, 'goth': 10072, 'eccentric': 10073, 'wartime': 10074, 'cinema': 10075, 'crawford': 10076, \"broadway's\": 10077, 'travis': 10078, 'kalanick': 10079, 'edible': 10080, 'timothée': 10081, 'chalamet': 10082, 'skewers': 10083, 'gunmen': 10084, 'orbit': 10085, \"greenspan's\": 10086, 'sensible': 10087, 'bun': 10088, 'vikings': 10089, 'incorrectly': 10090, 'confidant': 10091, 'rbg': 10092, 'swap': 10093, 'encouraged': 10094, 'bigoted': 10095, 'directv': 10096, 'flawless': 10097, \"'historically\": 10098, 'translation': 10099, 'posit': 10100, \"there'\": 10101, 'plummet': 10102, 'sephora': 10103, 'orville': 10104, 'crossfit': 10105, 'vague': 10106, 'organizers': 10107, 'disembodied': 10108, \"fisherman's\": 10109, 'alexander': 10110, 'hen': 10111, \"don'ts\": 10112, 'harrelson': 10113, 'chippewa': 10114, 'alicia': 10115, 'mobilize': 10116, 'chased': 10117, \"marvel's\": 10118, 'mosquito': 10119, 'bonding': 10120, 'upgrades': 10121, 'shells': 10122, 'relatively': 10123, 'publicists': 10124, 'monkfish': 10125, 'lakes': 10126, 'rogers': 10127, \"'jeopardy\": 10128, 'demonstrate': 10129, 'stripes': 10130, 'untold': 10131, 'designated': 10132, 'relocates': 10133, \"news'\": 10134, 'eileen': 10135, 'collins': 10136, 'hader': 10137, 'mandy': 10138, 'flashes': 10139, \"hawking's\": 10140, 'clapper': 10141, 'wigs': 10142, 'parlor': 10143, 'zinn': 10144, 'showered': 10145, 'pistol': 10146, 'gangsta': 10147, 'freestyle': 10148, 'muscle': 10149, 'volume': 10150, 'aykroyd': 10151, 'gained': 10152, 'soulful': 10153, 'shipped': 10154, 'tango': 10155, 'crooked': 10156, 'steroids': 10157, 'costing': 10158, 'polarized': 10159, 'masturbates': 10160, 'atv': 10161, 'eckhart': 10162, 'frankenstein': 10163, 'pharma': 10164, 'posthumous': 10165, 'dumbshit': 10166, 'uniforms': 10167, 'charisma': 10168, 'incite': 10169, 'frenzy': 10170, 'calculations': 10171, 'burton': 10172, 'buzzword': 10173, 'jeffrey': 10174, 'newsroom': 10175, 'nonetheless': 10176, 'crock': 10177, 'recycling': 10178, 'fil': 10179, 'backseat': 10180, \"person'\": 10181, 'geared': 10182, 'cracking': 10183, 'alerts': 10184, '70th': 10185, 'climatologists': 10186, 'extraction': 10187, 'laments': 10188, 'prequel': 10189, 'patriotism': 10190, 'hb2': 10191, 'mixing': 10192, 'munson': 10193, 'arrogant': 10194, 'gazes': 10195, 'beheaded': 10196, 'inaccurate': 10197, 'prediction': 10198, 'groundhog': 10199, 'cannabis': 10200, \"'about\": 10201, 'elects': 10202, 'plaque': 10203, 'clinging': 10204, \"'greatest\": 10205, 'agreed': 10206, 'sumptuous': 10207, 'wildest': 10208, \"'brilliant'\": 10209, 'blackberry': 10210, 'naming': 10211, 'axelrod': 10212, 'hibernation': 10213, 'thor': 10214, 'tlc': 10215, 'rub': 10216, \"'we've\": 10217, 'diplomats': 10218, 'drafted': 10219, 'yankee': 10220, \"'despacito'\": 10221, 'cum': 10222, 'distinction': 10223, 'chubby': 10224, 'scented': 10225, 'panty': 10226, 'cured': 10227, 'bending': 10228, 'bothering': 10229, 'statewide': 10230, '40th': 10231, 'southeast': 10232, 'sudanese': 10233, 'primal': 10234, 'radiant': 10235, \"'mean\": 10236, \"idiot'\": 10237, \"'fair\": 10238, 'monocle': 10239, 'thiel': 10240, 'dumbass': 10241, 'plight': 10242, 'gestapo': 10243, 'magnificent': 10244, 'improvement': 10245, \"'let's\": 10246, 'factored': 10247, 'captive': 10248, 'senses': 10249, 'underreported': 10250, \"'lip\": 10251, 'sync': 10252, 'lunches': 10253, 'understood': 10254, 'chanel': 10255, 'crops': 10256, 'butterfly': 10257, 'womanhood': 10258, 'noodle': 10259, 'redbox': 10260, 'eisenberg': 10261, 'orthodox': 10262, \"judge's\": 10263, 'likens': 10264, \"women'\": 10265, 'wasserman': 10266, 'schultz': 10267, 'meteorologist': 10268, \"update'\": 10269, 'messiah': 10270, 'pave': 10271, \"s'mores\": 10272, 'nicky': 10273, 'vampire': 10274, 'conclusion': 10275, 'saliva': 10276, 'fetal': 10277, 'slower': 10278, 'physicist': 10279, 'particle': 10280, 'albert': 10281, 'tenders': 10282, 'hectic': 10283, 'rory': 10284, 'stroller': 10285, \"aid'\": 10286, 'laminated': 10287, 'fingerprints': 10288, 'menstrual': 10289, \"merkel's\": 10290, 'answering': 10291, \"'wall\": 10292, \"journal'\": 10293, 'reintroduces': 10294, '2002': 10295, 'contender': 10296, \"handmaid's\": 10297, 'focuses': 10298, \"'til\": 10299, 'psych': 10300, 'vip': 10301, 'defies': 10302, 'dudes': 10303, 'wynn': 10304, 'lantern': 10305, 'dc': 10306, 'welcoming': 10307, 'cte': 10308, 'prior': 10309, 'negotiate': 10310, 'denuclearization': 10311, 'valuing': 10312, 'sticker': 10313, 'liking': 10314, 'hopkins': 10315, 'supergroup': 10316, 'edison': 10317, 'okays': 10318, 'waited': 10319, 'canonizes': 10320, 'mta': 10321, 'issued': 10322, 'howl': 10323, \"journalist's\": 10324, 'feign': 10325, 'brewing': 10326, 'phish': 10327, 'enviros': 10328, 'digging': 10329, 'lois': 10330, 'rattled': 10331, 'chechen': 10332, 'scarred': 10333, 'conceive': 10334, 'affiliate': 10335, 'slate': 10336, \"chapman's\": 10337, 'dodgers': 10338, 'spa': 10339, 'londoners': 10340, 'dishonorable': 10341, 'electorate': 10342, \"'mission\": 10343, 'settling': 10344, \"moderator's\": 10345, \"drug's\": 10346, \"'entourage'\": 10347, \"anthony's\": 10348, 'ama': 10349, 'sustainability': 10350, 'savvy': 10351, 'arch': 10352, 'thaw': 10353, 'charging': 10354, 'giffords': 10355, 'cleopatra': 10356, \"someone's\": 10357, 'nonviolent': 10358, \"everything'\": 10359, 'lawsuits': 10360, \"'his\": 10361, \"make'\": 10362, 'sizzling': 10363, \"exec's\": 10364, \"the'\": 10365, 'zinke': 10366, \"republicans'\": 10367, 'victoria': 10368, '16th': 10369, 'pray': 10370, \"apprentice'\": 10371, 'unjustified': 10372, 'audubon': 10373, 'exposing': 10374, 'encyclopedia': 10375, 'fedex': 10376, 'punish': 10377, \"'happy\": 10378, 'gynecologist': 10379, 'duet': 10380, 'busch': 10381, 'digs': 10382, 'darker': 10383, 'maggot': 10384, 'tucker': 10385, 'vet': 10386, 'strangled': 10387, 'gatorade': 10388, 'ingraham': 10389, 'hourly': 10390, 'slaughter': 10391, 'silently': 10392, 'whoops': 10393, 'smashes': 10394, 'rocked': 10395, 'cliffhanger': 10396, 'hulking': 10397, 'marsh': 10398, 'candidacy': 10399, 'capturing': 10400, 'diplomacy': 10401, 'grenade': 10402, 'norm': 10403, 'curfew': 10404, 'gabby': 10405, \"paul's\": 10406, 'alarmed': 10407, 'decoy': 10408, 'lure': 10409, 'whim': 10410, 'fishes': 10411, 'philanthropist': 10412, 'concealed': 10413, 'bulldogs': 10414, 'chats': 10415, 'quinoa': 10416, 'canister': 10417, '1967': 10418, 'labored': 10419, 'lucid': 10420, 'eichner': 10421, '1930s': 10422, \"'sorry'\": 10423, 'yesterday': 10424, 'guatemalan': 10425, 'registers': 10426, 'consciousness': 10427, 'cackling': 10428, 'depp': 10429, 'finest': 10430, 'frugal': 10431, 'preet': 10432, 'bharara': 10433, \"movement'\": 10434, 'leftover': 10435, 'seasonally': 10436, 'emotion': 10437, 'inaccuracy': 10438, 'mumbai': 10439, 'rupture': 10440, 'uprising': 10441, 'funky': 10442, 'truce': 10443, 'fist': 10444, 'regimen': 10445, 'filmmaker': 10446, 'treasurer': 10447, 'comfy': 10448, 'amend': 10449, 'wound': 10450, 'accompanied': 10451, 'sultry': 10452, 'halted': 10453, 'nipples': 10454, 'interruption': 10455, \"'still\": 10456, 'exceptionally': 10457, 'obvi': 10458, 'suave': 10459, 'audiences': 10460, 'installed': 10461, \"cop's\": 10462, 'kinney': 10463, 'burlesque': 10464, 'airstrike': 10465, 'expectant': 10466, 'inventor': 10467, 'momentarily': 10468, 'sexualized': 10469, 'electronics': 10470, 'outlandish': 10471, 'cutler': 10472, \"mayor's\": 10473, \"'faggot'\": 10474, 'indoors': 10475, 'pharmaceutical': 10476, 'qualify': 10477, 'renewal': 10478, 'heal': 10479, 'ck': 10480, 'decorative': 10481, 'legislative': 10482, \"guests'\": 10483, 'mutation': 10484, 'oyster': 10485, \"'here\": 10486, 'jungle': 10487, 'ignorance': 10488, \"who've\": 10489, \"'people\": 10490, 'mutters': 10491, 'hotshot': 10492, 'wealthiest': 10493, \"'bring\": 10494, \"gold'\": 10495, 'salvaged': 10496, 'acquiring': 10497, 'assets': 10498, \"public's\": 10499, \"harvey's\": 10500, 'zombie': 10501, 'bony': 10502, \"hot'\": 10503, 'rita': 10504, \"bottom'\": 10505, 'cows': 10506, 'resigned': 10507, 'wiz': 10508, \"internet's\": 10509, 'streamed': 10510, 'afterlife': 10511, 'dumps': 10512, 'besties': 10513, \"bank's\": 10514, 'hayride': 10515, 'elton': 10516, 'attracts': 10517, 'primarily': 10518, 'hypochondriac': 10519, 'optical': 10520, 'tightens': 10521, 'measuring': 10522, 'messy': 10523, 'terminally': 10524, 'reclaim': 10525, 'timeout': 10526, 'sarkozy': 10527, 'surgical': 10528, \"'imagine'\": 10529, 'scolds': 10530, \"month's\": 10531, 'kodak': 10532, 'analyzes': 10533, 'plagiarism': 10534, 'veterinarian': 10535, \"monster'\": 10536, 'captivated': 10537, \"patient's\": 10538, \"'despicable'\": 10539, 'displayed': 10540, 'hebdo': 10541, 'mouthing': 10542, 'devoted': 10543, 'potentially': 10544, 'tentatively': 10545, 'toppings': 10546, 'sin': 10547, \"special'\": 10548, 'closures': 10549, 'profanity': 10550, 'stephon': 10551, \"peace'\": 10552, \"pistorius'\": 10553, 'swipe': 10554, '2000': 10555, \"facebook's\": 10556, \"'10\": 10557, 'busybody': 10558, 'celebrated': 10559, 'milestones': 10560, 'pointer': 10561, 'allison': 10562, 'enriched': 10563, 'rushmore': 10564, 'performer': 10565, 'grandchild': 10566, 'herndon': 10567, 'ejected': 10568, 'resigning': 10569, 'accomplishments': 10570, 'constructs': 10571, 'heartless': 10572, 'curators': 10573, 'deranged': 10574, 'guantánamo': 10575, 'sadiq': 10576, \"lawrence's\": 10577, 'gitmo': 10578, 'populist': 10579, 'connections': 10580, 'rampage': 10581, \"'bubble\": 10582, 'unwinnable': 10583, 'danced': 10584, 'accurate': 10585, 'manhunt': 10586, 'vilify': 10587, \"days'\": 10588, 'warwick': 10589, 'bobbi': 10590, 'kristina': 10591, \"probe's\": 10592, \"burning'\": 10593, 'prevention': 10594, 'physics': 10595, 'paramedic': 10596, 'elena': 10597, 'chuckles': 10598, 'layout': 10599, 'infection': 10600, 'complications': 10601, \"'can't\": 10602, 'rekindle': 10603, \"grader's\": 10604, 'lawnmower': 10605, \"james'\": 10606, 'turtles': 10607, '1992': 10608, 'squeak': 10609, \"seaworld's\": 10610, 'randy': 10611, \"'muslim\": 10612, 'crib': 10613, 'wandering': 10614, 'genuinely': 10615, \"bowie's\": 10616, \"singer's\": 10617, \"'alien\": 10618, \"predator'\": 10619, 'spies': 10620, 'lump': 10621, 'karate': 10622, 'heather': 10623, 'judging': 10624, 'yom': 10625, 'kippur': 10626, 'forgives': 10627, 'trumps': 10628, 'transphobic': 10629, 'comprehensive': 10630, 'vulgar': 10631, 'proudest': 10632, 'honduran': 10633, 'heady': 10634, 'expresses': 10635, 'complicate': 10636, \"action'\": 10637, \"'quite\": 10638, 'joking': 10639, 'darfur': 10640, 'heirloom': 10641, 'spits': 10642, 'interrogator': 10643, 'fab': 10644, 'confidently': 10645, 'simulates': 10646, 'phillie': 10647, 'phanatic': 10648, \"devil'\": 10649, 'berry': 10650, 'helms': 10651, 'overreach': 10652, 'pumps': 10653, 'afi': 10654, 'detains': 10655, 'doobie': 10656, 'realtor': 10657, 'mara': 10658, 'throwback': 10659, 'root': 10660, 'float': 10661, 'plagued': 10662, \"antarctica's\": 10663, 'flap': 10664, 'uttering': 10665, 'prevents': 10666, 'distrust': 10667, 'revolving': 10668, 'defy': 10669, 'accuracy': 10670, 'grabs': 10671, \"congress'\": 10672, 'hasbro': 10673, \"cia's\": 10674, \"raisinets'\": 10675, 'bloated': 10676, 'coffers': 10677, 'caucuses': 10678, 'programmatic': 10679, 'wheel': 10680, 'idaho': 10681, \"'vacation\": 10682, 'peels': 10683, 'reviewed': 10684, 'gentleman': 10685, 'jiffy': 10686, 'jargon': 10687, \"'nasty'\": 10688, \"cyrus'\": 10689, 'skywriter': 10690, 'marathoner': 10691, 'albuquerque': 10692, \"'washington\": 10693, \"post'\": 10694, 'abridged': 10695, 'freaks': 10696, 'shits': 10697, 'expectation': 10698, \"'hate\": 10699, \"attacks'\": 10700, \"goodman's\": 10701, 'spews': 10702, \"'moron'\": 10703, 'terse': 10704, \"'middle\": 10705, \"class'\": 10706, 'taunt': 10707, 'volkswagen': 10708, 'eggers': 10709, 'unwind': 10710, 'conveyor': 10711, 'dig': 10712, 'thirsty': 10713, 'diner': 10714, 'hazards': 10715, 'misinformation': 10716, 'cellphone': 10717, \"television's\": 10718, \"fire'\": 10719, 'roadmap': 10720, 'misshapen': 10721, 'honk': 10722, 'cholera': 10723, 'thornton': 10724, 'volts': 10725, 'screenplay': 10726, 'watkins': 10727, 'lightsabers': 10728, 'facilities': 10729, 'verbatim': 10730, 'norman': 10731, \"sprint's\": 10732, 'symphony': 10733, 'mellencamp': 10734, 'skips': 10735, 'folded': 10736, 'draftkings': 10737, 'boozy': 10738, 'cumberbatch': 10739, 'imitating': 10740, 'otter': 10741, 'mistaking': 10742, 'skincare': 10743, 'leelah': 10744, \"alcorn's\": 10745, 'coalition': 10746, 'hearty': 10747, \"'holy\": 10748, 'exasperated': 10749, 'traveled': 10750, \"'dumb\": 10751, 'motherf': 10752, \"ker'\": 10753, 'violin': 10754, \"bar's\": 10755, 'bermuda': 10756, 'plead': 10757, 'flub': 10758, \"'sgt\": 10759, \"pepper'\": 10760, 'tammys': 10761, 'allege': 10762, 'moss': 10763, 'campbell': 10764, \"grandfather's\": 10765, 'jewel': 10766, 'retaliation': 10767, 'breaches': 10768, 'recovered': 10769, \"'toxic'\": 10770, 'geo': 10771, 'landfill': 10772, 'stanley': 10773, \"'smart\": 10774, \"cookie'\": 10775, 'clearing': 10776, 'aereo': 10777, \"heaven's\": 10778, \"'a'\": 10779, 'hygienist': 10780, 'editing': 10781, 'boots': 10782, 'tame': 10783, 'smarter': 10784, 'remembrance': 10785, 'hitman': 10786, 'beanie': 10787, 'broker': 10788, 'thriving': 10789, 'superfood': 10790, 'processed': 10791, 'fluorescent': 10792, 'elf': 10793, 'generosity': 10794, 'arnold': 10795, 'jamie': 10796, 'lynn': 10797, 'cravings': 10798, 'silo': 10799, \"offense'\": 10800, 'albright': 10801, 'stool': 10802, \"maria's\": 10803, 'chappelle': 10804, 'dolezal': 10805, 'anarchy': 10806, 'operations': 10807, 'oprah': 10808, 'sizemore': 10809, 'din': 10810, \"fleek'\": 10811, 'lang': 10812, 'reynolds': 10813, 'click': 10814, 'envoy': 10815, 'reno': 10816, 'breathes': 10817, 'inhofe': 10818, 'snowball': 10819, 'reuniting': 10820, 'childbirth': 10821, 'hazmat': 10822, 'pathway': 10823, 'renowned': 10824, 'ornithologist': 10825, 'avocado': 10826, 'dips': 10827, 'discriminate': 10828, 'handsy': 10829, '2004': 10830, 'shelton': 10831, '82': 10832, \"'fire\": 10833, 'inhumane': 10834, 'beginner': 10835, 'doubts': 10836, 'ripe': 10837, 'flushing': 10838, 'founded': 10839, 'indefinitely': 10840, \"museum's\": 10841, 'glamour': 10842, 'insecure': 10843, 'partying': 10844, 'masculinity': 10845, 'disappoints': 10846, 'reabsorb': 10847, 'dzhokar': 10848, '48': 10849, '720': 10850, \"beethoven's\": 10851, 'clarify': 10852, 'flees': 10853, \"'grey's\": 10854, \"anatomy'\": 10855, 'stood': 10856, \"'rick\": 10857, \"morty'\": 10858, \"team's\": 10859, 'watchers': 10860, \"burma's\": 10861, 'smoothly': 10862, 'endanger': 10863, 'healed': 10864, 'codes': 10865, 'perjury': 10866, 'registered': 10867, 'trademarks': 10868, 'rodgers': 10869, 'gohmert': 10870, 'elaine': 10871, 'chao': 10872, 'routes': 10873, 'wraps': 10874, 'sellout': 10875, 'greets': 10876, 'punishing': 10877, 'tent': 10878, 'harbinger': 10879, 'wrinkle': 10880, 'grandmaster': 10881, 'gambit': 10882, 'gurney': 10883, 'clicked': 10884, 'unwilling': 10885, \"'children\": 10886, \"sandler's\": 10887, \"6'\": 10888, 'spontaneously': 10889, 'fountain': 10890, 'revives': 10891, 'birther': 10892, 'squeezes': 10893, 'snowing': 10894, 'gq': 10895, 'nyfw': 10896, 'ugandan': 10897, 'blooper': 10898, 'gaffe': 10899, 'unpublished': 10900, 'wilmore': 10901, 'fictional': 10902, 'roadside': 10903, 'affable': 10904, 'polluted': 10905, 'recruiting': 10906, 'brag': 10907, 'jerking': 10908, 'tits': 10909, 'dawkins': 10910, 'favors': 10911, 'mailbox': 10912, 'raisin': 10913, 'slugger': 10914, 'handwriting': 10915, 'demanded': 10916, 'birthdays': 10917, 'universities': 10918, 'outta': 10919, \"'jumpin'\": 10920, \"flash'\": 10921, 'organized': 10922, 'shapes': 10923, \"turner's\": 10924, 'investor': 10925, 'vanity': 10926, 'enquirer': 10927, 'bendy': 10928, 'omits': 10929, 'bodily': 10930, 'fluid': 10931, 'celine': 10932, 'cottonelle': 10933, 'tissue': 10934, 'snowstorm': 10935, 'elbow': 10936, 'reelection': 10937, 'poetry': 10938, \"'malcolm\": 10939, \"middle'\": 10940, 'thru': 10941, 'decay': 10942, 'paraphernalia': 10943, \"'hello'\": 10944, 'fawning': 10945, 'rubbing': 10946, 'thinly': 10947, 'neighborhoods': 10948, 'rabies': 10949, 'discouraged': 10950, 'acclaimed': 10951, 'divest': 10952, 'yahoo': 10953, 'escalating': 10954, 'atmosphere': 10955, 'collected': 10956, 'breathtaking': 10957, 'steer': 10958, 'yield': 10959, 'robbed': 10960, 'attendee': 10961, 'napkins': 10962, 'pumped': 10963, 'pasta': 10964, \"'underground'\": 10965, 'occasionally': 10966, 'downside': 10967, 'gerrymandering': 10968, 'reptile': 10969, 'pokemon': 10970, 'reassures': 10971, 'listens': 10972, \"event'\": 10973, 'preps': 10974, 'morality': 10975, 'enjoyed': 10976, 'kashmir': 10977, 'castile': 10978, 'pepsico': 10979, 'torched': 10980, 'legged': 10981, 'mistrial': 10982, 'skeptical': 10983, 'credited': 10984, \"'boy\": 10985, 'authenticity': 10986, 'autonomy': 10987, \"'night\": 10988, \"watch'\": 10989, 'sticky': 10990, 'decluttering': 10991, 'hardened': 10992, 'texans': 10993, \"'incredibles\": 10994, \"'toy\": 10995, 'max': 10996, 'recite': 10997, \"'hotline\": 10998, \"bling'\": 10999, 'environmentalism': 11000, 'strengthen': 11001, 'hobbies': 11002, 'incarceration': 11003, 'underscores': 11004, 'certified': 11005, 'reprises': 11006, 'erase': 11007, 'flyers': 11008, 'proven': 11009, 'troy': 11010, 'contained': 11011, 'athens': 11012, 'henchmen': 11013, 'declaring': 11014, 'godmother': 11015, \"brown's\": 11016, 'suburb': 11017, 'sticking': 11018, 'submits': 11019, \"'unprecedented'\": 11020, 'farley': 11021, 'cardiac': 11022, 'deciding': 11023, 'fiscal': 11024, \"nyc's\": 11025, 'filmmakers': 11026, 'riz': 11027, 'sanity': 11028, 'operate': 11029, 'dentist': 11030, 'blagojevich': 11031, 'frankie': 11032, \"'p\": 11033, 'mating': 11034, \"weird'\": 11035, 'moscow': 11036, '35th': 11037, 'retrospective': 11038, 'cabinets': 11039, 'radicalization': 11040, 'titans': 11041, \"allen's\": 11042, 'sunnis': 11043, 'drinker': 11044, 'ego': 11045, 'reflex': 11046, 'dismisses': 11047, 'elitist': 11048, 'bmw': 11049, \"'quiet\": 11050, 'merriam': 11051, 'webster': 11052, \"'doctor\": 11053, 'consistent': 11054, 'cower': 11055, 'manhood': 11056, 'invincible': 11057, 'glitter': 11058, 'deposit': 11059, 'carroll': 11060, 'reopen': 11061, 'bankrupting': 11062, 'rotting': 11063, 'clarinet': 11064, 'butting': 11065, 'niro': 11066, 'menstruation': 11067, 'firenze': 11068, 'scents': 11069, 'confrontation': 11070, \"teigen's\": 11071, 'scheduling': 11072, \"hard'\": 11073, 'paradise': 11074, 'trembling': 11075, \"ukraine's\": 11076, 'mansion': 11077, 'contested': 11078, 'outlines': 11079, 'swallow': 11080, \"'draft\": 11081, \"biden'\": 11082, 'campuses': 11083, 'vase': 11084, 'blinded': 11085, \"alive'\": 11086, 'duct': 11087, 'chases': 11088, 'nicaraguan': 11089, 'resented': 11090, 'endured': 11091, \"arpaio's\": 11092, 'earl': 11093, 'bei': 11094, 'sleepy': 11095, 'jug': 11096, 'tortoise': 11097, \"'nobody\": 11098, 'mortified': 11099, 'lightly': 11100, 'mexicans': 11101, 'morally': 11102, 'dictator': 11103, \"page's\": 11104, 'reluctant': 11105, 'instructors': 11106, 'bands': 11107, 'theorize': 11108, 'temperatures': 11109, 'knockoff': 11110, 'hitchcock': 11111, 'millionth': 11112, 'chong': 11113, 'mattis': 11114, 'blank': 11115, 'milwaukee': 11116, 'observing': 11117, 'bits': 11118, \"book'\": 11119, 'encouragement': 11120, 'inn': 11121, 'greeter': 11122, \"o'clock\": 11123, 'windshield': 11124, 'bracelet': 11125, 'gunn': 11126, 'debunks': 11127, 'paternity': 11128, 'borrowers': 11129, \"paltrow's\": 11130, 'width': 11131, 'glimmer': 11132, 'relaunches': 11133, \"job'\": 11134, 'offenders': 11135, \"fall's\": 11136, 'aborted': 11137, 'craziness': 11138, 'approaching': 11139, \"'world\": 11140, 'morton': 11141, 'pains': 11142, 'manic': 11143, 'altogether': 11144, 'nerdy': 11145, 'scorpions': 11146, 'realization': 11147, 'lobbyists': 11148, 'icbm': 11149, 'peddling': 11150, 'heed': 11151, 'geode': 11152, 'decorating': 11153, 'prospect': 11154, \"picasso's\": 11155, 'pubescent': 11156, 'hersh': 11157, \"italy's\": 11158, 'posed': 11159, 'mcgregor': 11160, 'custard': 11161, 'outdated': 11162, 'meg': 11163, \"levine's\": 11164, \"scholl's\": 11165, 'mercedes': 11166, 'ruehl': 11167, 'surreal': 11168, 'destroyer': 11169, 'unlocks': 11170, 'wed': 11171, 'disintegrates': 11172, 'devotees': 11173, 'suri': 11174, 'grew': 11175, 'chesney': 11176, 'rioting': 11177, 'cabaret': 11178, \"reasons'\": 11179, 'gravestone': 11180, 'lightning': 11181, 'hearings': 11182, \"'try\": 11183, 'regulating': 11184, 'supplements': 11185, 'demon': 11186, 'inconvenience': 11187, 'consideration': 11188, 'portuguese': 11189, 'waaah': 11190, 'hosting': 11191, 'ezell': 11192, 'restrained': 11193, 'surges': 11194, 'underserved': 11195, 'fec': 11196, \"bears'\": 11197, 'clint': 11198, \"'twas\": 11199, 'hubris': 11200, 'fees': 11201, \"'fuller\": 11202, \"fight'\": 11203, 'miscarriage': 11204, 'homer': 11205, \"hunt'\": 11206, 'estimate': 11207, 'outcome': 11208, 'marketers': 11209, \"onion's\": 11210, 'slovenia': 11211, 'sincerely': 11212, 'takedown': 11213, 'motive': 11214, 'paterno': 11215, \"safe'\": 11216, 'frying': 11217, 'worldview': 11218, 'constituent': 11219, 'unrest': 11220, 'arsenio': 11221, 'tapped': 11222, \"'disaster'\": 11223, 'indicator': 11224, 'pursuing': 11225, 'bipolar': 11226, 'gesture': 11227, 'scream': 11228, 'marvels': 11229, \"band's\": 11230, \"'nashville'\": 11231, \"detroit's\": 11232, 'rebirth': 11233, 'disputed': 11234, 'janelle': 11235, 'tracked': 11236, 'gabriel': 11237, 'disfigured': 11238, \"it'd\": 11239, 'sketches': 11240, 'viagra': 11241, 'therapists': 11242, 'memes': 11243, 'cyberattack': 11244, 'incentives': 11245, 'farenthold': 11246, 'blaze': 11247, 'qualities': 11248, 'possess': 11249, 'pine': 11250, 'ridge': 11251, 'tract': 11252, \"'woman\": 11253, \"card'\": 11254, 'flavored': 11255, 'shrinking': 11256, 'theroux': 11257, 'adventurous': 11258, 'casket': 11259, 'viable': 11260, 'shine': 11261, \"'mistake'\": 11262, 'routines': 11263, 'vitale': 11264, 'heavenly': 11265, 'vestments': 11266, 'jetblue': 11267, 'belts': 11268, 'hebrew': 11269, 'whopping': 11270, \"angel's\": 11271, 'ganymede': 11272, 'torso': 11273, 'guerilla': 11274, 'collaborative': 11275, 'foul': 11276, 'espionage': 11277, 'egyptians': 11278, 'turret': 11279, \"theory'\": 11280, 'patricia': 11281, 'illegally': 11282, 'collapsing': 11283, 'unfairly': 11284, 'horny': 11285, 'dictionary': 11286, 'spreading': 11287, 'theories': 11288, 'slump': 11289, 'clothed': 11290, 'trench': 11291, 'vanquished': 11292, 'impacting': 11293, 'snowmobiles': 11294, 'notorious': 11295, 'illustrates': 11296, 'posture': 11297, \"christie's\": 11298, 'mozambique': 11299, 'cartoonists': 11300, \"trap'\": 11301, 'prodigy': 11302, 'embezzlement': 11303, 'sip': 11304, 'immortality': 11305, \"'give\": 11306, \"reason'\": 11307, 'lol': 11308, '103': 11309, 'goofs': 11310, \"trek'\": 11311, 'mindy': 11312, 'kaling': 11313, 'wilder': 11314, 'theoretical': 11315, 'tenure': 11316, 'brightest': 11317, 'blindfolded': 11318, 'jackie': 11319, 'ancestors': 11320, \"'magic\": 11321, 'visionary': 11322, 'crates': 11323, 'nationalists': 11324, 'agony': 11325, 'disillusionment': 11326, 'livingston': 11327, \"night'\": 11328, 'slovenian': 11329, 'decor': 11330, 'supermodel': 11331, 'theorist': 11332, 'vindicates': 11333, \"'bachelor\": 11334, \"paradise'\": 11335, 'quentin': 11336, 'tarantino': 11337, 'displaced': 11338, 'downey': 11339, 'succumbs': 11340, 'loudest': 11341, 'willie': 11342, 'vergara': 11343, 'chastises': 11344, 'uptick': 11345, 'memorabilia': 11346, 'memoirs': 11347, 'scapegoats': 11348, 'fattening': 11349, 'nightmares': 11350, 'canned': 11351, 'pursuit': 11352, 'curing': 11353, 'blindness': 11354, 'mick': 11355, 'spewing': 11356, 'aetna': 11357, 'prosecution': 11358, 'audible': 11359, 'misogynist': 11360, 'lunchbox': 11361, 'herpetologist': 11362, 'iggy': 11363, 'azalea': 11364, 'yada': 11365, \"'they\": 11366, 'handcuffed': 11367, 'nafta': 11368, \"'scandal'\": 11369, '2040': 11370, \"'you've\": 11371, 'vine': 11372, '6x60': 11373, 'nutter': 11374, 'twain': 11375, 'granite': 11376, 'rhode': 11377, 'disqualify': 11378, 'severance': 11379, 'footsteps': 11380, \"cut'\": 11381, \"friend'\": 11382, 'offender': 11383, 'marc': 11384, 'mashed': 11385, 'fudge': 11386, 'railway': 11387, 'suzanne': 11388, \"'nothing\": 11389, 'bravely': 11390, 'besieged': 11391, 'pranks': 11392, 'slimmer': 11393, 'gummy': 11394, 'switching': 11395, 'practically': 11396, 'debating': 11397, 'climbing': 11398, 'legally': 11399, 'popsicle': 11400, 'emerson': 11401, 'sordid': 11402, 'warned': 11403, 'dire': 11404, 'gloves': 11405, 'testifies': 11406, 'constitutionality': 11407, 'nutritional': 11408, 'vilsack': 11409, 'hannibal': 11410, 'buress': 11411, 'smug': 11412, 'semitic': 11413, 'wallace': 11414, 'seafood': 11415, 'overcrowding': 11416, 'goofy': 11417, 'terrorizes': 11418, \"'100\": 11419, 'naps': 11420, \"'find\": 11421, 'danson': 11422, 'dryers': 11423, 'omarosa': 11424, 'transparent': 11425, 'shack': 11426, 'lohan': 11427, \"bomber's\": 11428, 'degrasse': 11429, 'upright': 11430, 'falcons': 11431, 'socialism': 11432, 'untested': 11433, 'splinters': 11434, 'peril': 11435, 'berserk': 11436, 'denis': 11437, 'touring': 11438, 'replay': 11439, 'hamsters': 11440, 'helplessly': 11441, 'silences': 11442, 'brendan': 11443, 'fraser': 11444, 'infectious': 11445, 'goddess': 11446, 'amos': 11447, 'orrin': 11448, 'punished': 11449, 'chatter': 11450, 'tricky': 11451, 'celebrations': 11452, 'tupac': 11453, \"'top\": 11454, 'critiquing': 11455, \"'fear\": 11456, 'straw': 11457, 'muscular': 11458, \"murderer'\": 11459, 'muscles': 11460, 'acetaminophen': 11461, 'methods': 11462, 'touchscreen': 11463, \"channel's\": 11464, 'hum': 11465, 'unusually': 11466, 'impress': 11467, \"bride'\": 11468, 'blaster': 11469, 'skittish': 11470, 'juniors': 11471, 'poehler': 11472, 'samberg': 11473, 'toil': 11474, 'rouhani': 11475, \"tesla's\": 11476, 'idling': 11477, 'scramble': 11478, 'leaks': 11479, 'plantation': 11480, 'bbq': 11481, 'ails': 11482, 'aficionado': 11483, 'witch': 11484, 'authored': 11485, 'trivia': 11486, 'illusions': 11487, 'realities': 11488, 'determines': 11489, 'pricing': 11490, 'halperin': 11491, 'taller': 11492, 'ostrich': 11493, 'restrictive': 11494, 'zoning': 11495, 'obliterates': 11496, \"oregon's\": 11497, '194': 11498, 'skier': 11499, 'stepfather': 11500, \"'simpsons'\": 11501, 'kassig': 11502, 'fury': 11503, 'sub': 11504, 'inherited': 11505, 'misogyny': 11506, 'courting': 11507, 'availability': 11508, 'pitbull': 11509, 'ne': 11510, 'gripping': 11511, 'maya': 11512, 'angelou': 11513, 'boiling': 11514, \"shot'\": 11515, 'meaningful': 11516, 'ozzy': 11517, 'goodness': 11518, 'icons': 11519, 'newton': 11520, 'gerbil': 11521, 'pirates': 11522, 'sailors': 11523, 'lahren': 11524, 'skilled': 11525, \"witherspoon's\": 11526, 'subhuman': 11527, 'expenses': 11528, \"spears'\": 11529, 'buff': 11530, 'vibes': 11531, 'pike': 11532, 'suburbanite': 11533, \"'true\": 11534, 'rewards': 11535, 'folly': 11536, 'suggestions': 11537, 'intake': 11538, \"'he's\": 11539, 'bots': 11540, 'interrupts': 11541, 'airbrushing': 11542, 'subcommittee': 11543, 'bumper': 11544, 'wafer': 11545, 'pissing': 11546, 'regal': 11547, 'cinemas': 11548, 'freeze': 11549, 'permits': 11550, 'dumping': 11551, \"grandmother's\": 11552, 'spare': 11553, 'fig': 11554, 'hugs': 11555, 'evokes': 11556, 'unnamed': 11557, \"'stop\": 11558, 'variant': 11559, \"garbage'\": 11560, 'rickety': 11561, 'rocking': 11562, \"life's\": 11563, 'acted': 11564, 'balding': 11565, 'debunked': 11566, 'lamp': 11567, 'uproar': 11568, 'reuben': 11569, \"'butt\": 11570, \"plug'\": 11571, 'plague': 11572, 'patterns': 11573, 'pooh': 11574, 'crook': 11575, \"act'\": 11576, \"o'connor\": 11577, 'invades': 11578, 'booby': 11579, 'eager': 11580, 'perch': 11581, 'kathie': 11582, 'gifford': 11583, 'housekeeper': 11584, 'usain': 11585, 'bolt': 11586, 'mourners': 11587, 'val': 11588, 'chmerkovskiy': 11589, 'hounds': 11590, 'gunpoint': 11591, 'impresses': 11592, 'unseen': 11593, 'algerian': 11594, \"rio's\": 11595, 'relate': 11596, 'demographics': 11597, \"'trapped'\": 11598, 'instructional': 11599, 'workplaces': 11600, 'chimes': 11601, 'charlton': 11602, 'heston': 11603, 'jennings': 11604, \"'perfect\": 11605, 'partisan': 11606, 'normalcy': 11607, 'vader': 11608, 'dslr': 11609, 'bumble': 11610, 'align': 11611, 'brunt': 11612, \"palin's\": 11613, 'pediatricians': 11614, 'ugliest': 11615, 'unheard': 11616, 'sparrow': 11617, 'wiping': 11618, 'invading': 11619, 'buddies': 11620, 'shorts': 11621, 'dunks': 11622, 'chili': 11623, 'imaginary': 11624, 'cincinnati': 11625, 'xavier': 11626, 'exuberant': 11627, 'similar': 11628, 'horizon': 11629, 'dubious': 11630, 'shootout': 11631, 'mutilation': 11632, 'loophole': 11633, 'chapel': 11634, \"loud'\": 11635, 'participating': 11636, 'yours': 11637, 'wildcat': 11638, 'bundchen': 11639, 'dre': 11640, 'yeah': 11641, \"grey'\": 11642, 'newfront': 11643, 'tucked': 11644, 'gentle': 11645, 'sinister': 11646, 'professionals': 11647, 'carrot': 11648, 'parrot': 11649, 'surrenders': 11650, 'institutions': 11651, 'grandmas': 11652, 'oddly': 11653, \"tape'\": 11654, \"adams'\": 11655, 'nationals': 11656, 'braves': 11657, 'desist': 11658, 'smoked': 11659, 'quantity': 11660, 'snap': 11661, 'skid': 11662, 'biography': 11663, 'einstein': 11664, \"eyes'\": 11665, 'keen': 11666, 'wellbeing': 11667, 'sorta': 11668, 'pornhub': 11669, 'provision': 11670, 'stealth': 11671, 'zamboni': 11672, 'tampons': 11673, 'horseman': 11674, \"law's\": 11675, \"newspaper's\": 11676, 'attorneys': 11677, 'shaven': 11678, 'hammered': 11679, 'snape': 11680, 'excites': 11681, 'percentage': 11682, 'drowns': 11683, 'shamanism': 11684, 'profiting': 11685, 'selfish': 11686, \"murray's\": 11687, 'mascot': 11688, 'tucking': 11689, 'heyday': 11690, 'fm': 11691, 'bets': 11692, 'heinz': 11693, 'renamed': 11694, 'levine': 11695, 'visine': 11696, \"car'\": 11697, 'hyundai': 11698, 'nepotism': 11699, 'synergy': 11700, \"happy'\": 11701, 'skate': 11702, 'reinventing': 11703, 'robbins': 11704, \"'take\": 11705, 'explicitly': 11706, 'morale': 11707, 'predictable': 11708, 'optimism': 11709, 'holt': 11710, 'chose': 11711, 'malibu': 11712, 'credibility': 11713, 'nailing': 11714, 'unified': 11715, \"flynn's\": 11716, 'disoriented': 11717, 'tyga': 11718, \"'myth'\": 11719, 'feedback': 11720, 'centered': 11721, 'huh': 11722, 'disguised': 11723, \"'feels\": 11724, 'hollow': 11725, 'wearable': 11726, 'sylvester': 11727, 'streetcar': 11728, 'founders': 11729, 'cages': 11730, 'accurately': 11731, 'compounds': 11732, 'dysmorphia': 11733, 'lockdown': 11734, 'explodes': 11735, 'mull': 11736, 'evangelicals': 11737, 'bison': 11738, 'standout': 11739, 'rebecca': 11740, 'stresses': 11741, 'prematurely': 11742, 'exoskeleton': 11743, 'summed': 11744, 'casualties': 11745, 'threesome': 11746, \"hawaii's\": 11747, 'pratt': 11748, 'salutes': 11749, 'albums': 11750, 'approaches': 11751, 'stallion': 11752, 'homemaker': 11753, 'alexa': 11754, 'kidnaps': 11755, 'insurer': 11756, 'airliner': 11757, 'doughboy': 11758, 'presses': 11759, \"kennedy's\": 11760, \"working'\": 11761, \"'right\": 11762, 'banksy': 11763, 'runners': 11764, 'hospitalized': 11765, 'promotional': 11766, 'commemorative': 11767, 'earned': 11768, \"hudson's\": 11769, \"mccarthy's\": 11770, 'mccartney': 11771, 'recounts': 11772, \"'titanic'\": 11773, \"'beautiful\": 11774, 'biopic': 11775, 'exclamation': 11776, 'shining': 11777, 'wonderland': 11778, 'finishing': 11779, 'autumn': 11780, 'balancing': 11781, \"'conan'\": 11782, 'y': 11783, 'cargo': 11784, 'macdonald': 11785, 'breakout': 11786, 'freshener': 11787, 'davidson': 11788, 'venice': 11789, 'mow': 11790, \"doctor's\": 11791, 'intensifies': 11792, 'occur': 11793, '69': 11794, 'motorcade': 11795, 'bandmates': 11796, '280': 11797, 'blurs': 11798, 'pretzel': 11799, 'vortex': 11800, \"'r'\": 11801, 'polluters': 11802, 'makers': 11803, 'lease': 11804, 'unforgivable': 11805, 'hayley': 11806, 'rocker': 11807, 'malala': 11808, \"rowling's\": 11809, 'stocks': 11810, 'pouring': 11811, 'humiliation': 11812, 'reparations': 11813, 'quinn': 11814, \"'beauty\": 11815, 'khamenei': 11816, \"this'\": 11817, 'couches': 11818, 'porch': 11819, \"thing'\": 11820, 'input': 11821, '3rd': 11822, 'blessing': 11823, 'contestant': 11824, \"diet'\": 11825, 'barker': 11826, 'tasty': 11827, 'yanks': 11828, \"officer's\": 11829, \"'clock\": 11830, 'mannequin': 11831, 'greenpeace': 11832, 'stan': 11833, 'irony': 11834, 'grecian': 11835, 'materials': 11836, 'construct': 11837, 'krugman': 11838, 'pa': 11839, 'grilled': 11840, 'heck': 11841, 'caution': 11842, \"nerd's\": 11843, 'uniting': 11844, 'reeling': 11845, 'actresses': 11846, 'lasagna': 11847, 'sunk': 11848, 'maoist': 11849, 'exploratory': 11850, 'hose': 11851, 'landslide': 11852, 'motorized': 11853, 'fantasized': 11854, 'barn': 11855, 'believers': 11856, \"'low\": 11857, 'psychiatrists': 11858, 'implies': 11859, \"her'\": 11860, 'coolest': 11861, 'irl': 11862, 'gunk': 11863, 'boeing': 11864, \"'99\": 11865, \"fisher's\": 11866, \"greece's\": 11867, 'educators': 11868, 'sophie': 11869, 'reverend': 11870, 'blessed': 11871, 'sprayed': 11872, 'harassing': 11873, 'skittles': 11874, 'cinemax': 11875, 'lipstick': 11876, 'scraps': 11877, 'mesmerizing': 11878, \"'hope'\": 11879, 'councilman': 11880, 'avenue': 11881, 'monumental': 11882, 'healer': 11883, 'adams': 11884, 'rustic': 11885, 'predictions': 11886, 'steele': 11887, 'hispanics': 11888, 'previews': 11889, 'immersive': 11890, 'pioneer': 11891, 'glenn': 11892, 'supermarket': 11893, 'halftime': 11894, 'harold': 11895, 'sienna': 11896, 'trumpian': 11897, 'saddest': 11898, 'logical': 11899, 'urinating': 11900, 'blaine': 11901, 'endurance': 11902, 'steakhouse': 11903, 'altman': 11904, 'deforestation': 11905, 'criminalize': 11906, 'herb': 11907, 'mahmoud': 11908, 'abbas': 11909, 'basics': 11910, 'earhart': 11911, 'announced': 11912, 'dismal': 11913, \"'ocean's\": 11914, \"rihanna's\": 11915, 'chevron': 11916, 'cheetos': 11917, 'choosing': 11918, 'suggested': 11919, 'schemes': 11920, \"uk's\": 11921, 'bonus': 11922, 'belafonte': 11923, 'decorations': 11924, 'flossing': 11925, 'pita': 11926, 'heights': 11927, \"'rumours'\": 11928, 'tense': 11929, 'urgent': 11930, 'burmese': 11931, 'supported': 11932, 'microphone': 11933, 'jenny': 11934, 'helen': 11935, 'kickboxing': 11936, 'whine': 11937, 'sore': 11938, 'uninspired': 11939, 'outback': 11940, 'homesick': 11941, 'austria': 11942, 'adjusted': 11943, 'commitment': 11944, 'obscure': 11945, 'rebuttal': 11946, 'grizzled': 11947, \"'blade\": 11948, 'gag': 11949, 'proximity': 11950, 'trilogy': 11951, 'hailed': 11952, 'depleted': 11953, 'carousel': 11954, 'jumbotron': 11955, 'isolate': 11956, 'mentioned': 11957, 'scientology': 11958, 'upstanding': 11959, \"offended'\": 11960, 'tenants': 11961, 'crunchy': 11962, \"ocean's\": 11963, 'emancipated': 11964, 'stronghold': 11965, 'defamation': 11966, 'ammunition': 11967, 'pregame': 11968, 'deepest': 11969, 'chic': 11970, \"bone'\": 11971, 'urinal': 11972, 'omelet': 11973, \"'many\": 11974, 'reimagines': 11975, 'goblin': 11976, 'butts': 11977, 'selfless': 11978, 'chews': 11979, 'colossal': 11980, 'tirade': 11981, 'freelancers': 11982, 'outdoor': 11983, \"'back\": 11984, 'constructionist': 11985, 'legends': 11986, \"'life\": 11987, \"cops'\": 11988, 'surfaces': 11989, 'battleship': 11990, 'scent': 11991, 'swans': 11992, \"'funny\": 11993, 'coward': 11994, 'bryant': 11995, 'fortune': 11996, 'lid': 11997, 'landlord': 11998, 'jogging': 11999, \"'serial\": 12000, 'extremist': 12001, 'amazed': 12002, 'chattman': 12003, 'overdue': 12004, 'motivated': 12005, 'preachers': 12006, 'alternatives': 12007, 'darkest': 12008, 'daytime': 12009, 'guitars': 12010, 'toby': 12011, 'duggar': 12012, 'adapting': 12013, 'squat': 12014, 'gehry': 12015, 'rugged': 12016, 'induced': 12017, 'surveying': 12018, 'pounding': 12019, 'immune': 12020, 'dossier': 12021, 'collaborates': 12022, \"sotheby's\": 12023, 'tail': 12024, 'raiders': 12025, 'keebler': 12026, 'crackers': 12027, 'expels': 12028, 'buildings': 12029, 'goodyear': 12030, \"'uncomfortable'\": 12031, 'decadent': 12032, 'plates': 12033, \"'shake\": 12034, \"education'\": 12035, 'footballs': 12036, 'loft': 12037, 'brownback': 12038, 'bustling': 12039, 'wanda': 12040, 'entitled': 12041, 'ranked': 12042, 'maze': 12043, 'appointment': 12044, \"'staff\": 12045, 'asghar': 12046, 'clueless': 12047, 'convict': 12048, 'thwart': 12049, 'predict': 12050, 'shackles': 12051, 'filmstrip': 12052, 'tycoon': 12053, 'atop': 12054, 'risky': 12055, 'marilyn': 12056, 'frogs': 12057, 'nonprofits': 12058, 'markered': 12059, 'initials': 12060, 'wsj': 12061, 'spawn': 12062, 'chorus': 12063, 'sweats': 12064, 'cattrall': 12065, 'lew': 12066, \"michigan's\": 12067, 'historian': 12068, 'canvas': 12069, 'condemned': 12070, 'damning': 12071, 'enzyme': 12072, \"hell's\": 12073, 'soaps': 12074, 'polled': 12075, 'shepard': 12076, 'cain': 12077, \"'doctors\": 12078, 'congressmen': 12079, 'toback': 12080, 'lava': 12081, 'kite': 12082, 'sundance': 12083, 'lib': 12084, 'boyfriends': 12085, 'looting': 12086, 'cautiously': 12087, 'unapologetic': 12088, 'shatter': 12089, 'piers': 12090, 'cranberry': 12091, 'allergy': 12092, 'coli': 12093, \"devil's\": 12094, 'fleeting': 12095, 'priceless': 12096, 'pretends': 12097, 'ashamed': 12098, 'nina': 12099, \"'acting\": 12100, 'boycotting': 12101, \"o'reilly's\": 12102, 'wages': 12103, 'dynasty': 12104, 'chibok': 12105, 'chaplains': 12106, 'counselors': 12107, 'pastors': 12108, 'skating': 12109, 'successes': 12110, 'individuals': 12111, 'describing': 12112, 'dhabi': 12113, 'ymca': 12114, 'partially': 12115, 'swiping': 12116, 'sufferers': 12117, 'freshly': 12118, 'rey': 12119, \"'mother\": 12120, 'achievable': 12121, \"'build\": 12122, 'raspberry': 12123, 'processing': 12124, \"survivors'\": 12125, 'weighed': 12126, 'calculated': 12127, 'outlaw': 12128, \"turkey's\": 12129, 'anorexia': 12130, 'wrought': 12131, 'gaunt': 12132, 'feast': 12133, 'counterfeit': 12134, 'toothbrushes': 12135, 'brandy': 12136, 'humane': 12137, 'sicker': 12138, 'thoughtful': 12139, 'commentary': 12140, 'leftist': 12141, 'cubans': 12142, 'lenders': 12143, 'stein': 12144, 'medalist': 12145, 'yeltsin': 12146, 'jaguars': 12147, 'sour': 12148, \"daughters'\": 12149, 'applauds': 12150, 'aviary': 12151, \"coming'\": 12152, 'throne': 12153, 'postage': 12154, 'impervious': 12155, \"'golden\": 12156, 'pamphlet': 12157, 'ucla': 12158, 'spoon': 12159, 'hefner': 12160, 'beside': 12161, 'naughty': 12162, 'mideast': 12163, 'safari': 12164, 'paralyzes': 12165, 'wilmer': 12166, 'valderrama': 12167, 'kings': 12168, 'banjo': 12169, 'ix': 12170, 'corny': 12171, 'djs': 12172, 'lured': 12173, 'secures': 12174, 'bud': 12175, 'stalin': 12176, \"table'\": 12177, \"apes'\": 12178, \"shit'\": 12179, 'flushed': 12180, 'bodysuit': 12181, 'petals': 12182, 'toomey': 12183, 'surely': 12184, 'crippling': 12185, \"blitzer's\": 12186, 'transfer': 12187, 'confronts': 12188, \"university's\": 12189, \"norway's\": 12190, 'rescind': 12191, 'sacramento': 12192, 'standby': 12193, 'priyanka': 12194, \"simpsons'\": 12195, 'allegation': 12196, \"air'\": 12197, 'cryptic': 12198, 'offends': 12199, 'foes': 12200, 'backers': 12201, 'opposes': 12202, 'containers': 12203, 'conceivable': 12204, 'consoles': 12205, 'robocall': 12206, \"patients'\": 12207, \"'sanctuary\": 12208, \"'modern\": 12209, 'rounded': 12210, 'tailored': 12211, 'earmarks': 12212, 'hopelessly': 12213, 'tricycle': 12214, \"off'\": 12215, \"done'\": 12216, 'shaun': 12217, 'distraction': 12218, 'lemur': 12219, \"iraq's\": 12220, 'trim': 12221, 'marcoses': 12222, \"lowe's\": 12223, 'welter': 12224, 'flop': 12225, 'papa': 12226, \"john's\": 12227, 'lactate': 12228, 'syringe': 12229, 'shoplifted': 12230, 'smashing': 12231, 'supple': 12232, 'swan': 12233, 'bachelorette': 12234, 'impulsive': 12235, \"christ's\": 12236, \"levi's\": 12237, 'implicated': 12238, 'puddle': 12239, 'mishandled': 12240, 'beeping': 12241, 'prima': 12242, 'feeds': 12243, 'various': 12244, 'medals': 12245, 'obstruct': 12246, 'eliminated': 12247, 'cherokee': 12248, \"'schoolhouse\": 12249, 'nugget': 12250, 'gossip': 12251, 'jpmorgan': 12252, 'tedious': 12253, 'westboro': 12254, 'allan': 12255, 'doppelgänger': 12256, 'otters': 12257, 'guam': 12258, \"abdul's\": 12259, 'perpetuating': 12260, 'dolls': 12261, 'dune': 12262, 'zogby': 12263, 'plotting': 12264, 'tacked': 12265, 'fiona': 12266, 'titanic': 12267, 'rink': 12268, 'avid': 12269, 'collector': 12270, 'arabian': 12271, 'catastrophe': 12272, 'malik': 12273, 'congratulate': 12274, '750': 12275, 'salsa': 12276, \"way'\": 12277, 'perception': 12278, 'texting': 12279, 'withholding': 12280, 'starter': 12281, 'spectacularly': 12282, 'irwin': 12283, 'networks': 12284, \"babies'\": 12285, \"balls'\": 12286, 'guiding': 12287, 'buddhist': 12288, 'usable': 12289, 'rival': 12290, \"values'\": 12291, 'gambling': 12292, 'wrestle': 12293, 'strains': 12294, 'cherub': 12295, 'wobbly': 12296, 'cameo': 12297, 'nihilistic': 12298, 'julia': 12299, 'fend': 12300, 'krispy': 12301, 'kreme': 12302, \"'better\": 12303, 'biblical': 12304, 'eyebrows': 12305, 'camaros': 12306, 'prosecuted': 12307, 'birmingham': 12308, 'bombers': 12309, 'biz': 12310, \"'richie\": 12311, \"rich'\": 12312, 'kissinger': 12313, 'finer': 12314, 'clandestine': 12315, 'deposits': 12316, 'traded': 12317, 'erdogan': 12318, 'quarantine': 12319, 'khloé': 12320, 'trauma': 12321, 'terrier': 12322, 'seemed': 12323, 'whitman': 12324, \"ohio's\": 12325, 'robotics': 12326, \"'art\": 12327, 'fyre': 12328, 'batteries': 12329, 'astonishing': 12330, 'washing': 12331, 'pity': 12332, 'invented': 12333, 'margarita': 12334, 'honduras': 12335, 'licenses': 12336, 'seekers': 12337, 'lance': 12338, 'eyeliner': 12339, 'poop': 12340, 'descends': 12341, 'fueled': 12342, 'vengeance': 12343, 'stiller': 12344, 'vendor': 12345, 'owls': 12346, 'slater': 12347, 'unsuccessful': 12348, 'wikileaks': 12349, 'weirdest': 12350, 'ahca': 12351, 'lightsaber': 12352, 'tick': 12353, 'manifest': 12354, 'illustrated': 12355, 'devouring': 12356, 'practitioner': 12357, 'boko': 12358, 'ignite': 12359, 'boasts': 12360, 'abducted': 12361, 'bashing': 12362, \"'bear\": 12363, 'kathy': 12364, \"yesterday's\": 12365, \"tomorrow's\": 12366, 'thrones': 12367, 'vaginal': 12368, 'fiercest': 12369, 'fought': 12370, \"'hannah\": 12371, \"movie'\": 12372, 'rabid': 12373, 'designing': 12374, 'observation': 12375, 'swear': 12376, 'shred': 12377, 'redheads': 12378, 'bleeds': 12379, 'lobbying': 12380, 'lows': 12381, 'bribery': 12382, 'unlimited': 12383, 'cher': 12384, 'uncanny': 12385, 'closeted': 12386, 'lips': 12387, 'rug': 12388, 'classical': 12389, 'advancement': 12390, 'fragrance': 12391, 'tackled': 12392, 'bidding': 12393, 'americana': 12394, 'quincy': 12395, 'blockbusters': 12396, 'kickstarter': 12397, 'studded': 12398, 'franzen': 12399, 'unspoken': 12400, \"'now\": 12401, 'adhesive': 12402, 'territories': 12403, 'robotic': 12404, 'awed': 12405, 'homeowner': 12406, 'delegate': 12407, 'chives': 12408, 'circumstances': 12409, 'undiagnosed': 12410, 'meningitis': 12411, 'murderer': 12412, 'ibiza': 12413, 'commuters': 12414, 'geithner': 12415, 'lowers': 12416, 'vat': 12417, 'tampa': 12418, 'motions': 12419, 'grinning': 12420, 'stormed': 12421, \"2000'\": 12422, 'serbia': 12423, 'goose': 12424, 'mower': 12425, 'playoffs': 12426, 'lionel': 12427, 'adopt': 12428, 'ships': 12429, 'demonstrations': 12430, 'strangulation': 12431, 'crippled': 12432, 'basilica': 12433, 'perspectives': 12434, 'chavez': 12435, 'perriello': 12436, 'skit': 12437, 'dressing': 12438, 'severed': 12439, 'annoy': 12440, 'cowboys': 12441, 'consult': 12442, 'tweeting': 12443, 'burial': 12444, 'populism': 12445, 'buttons': 12446, 'liability': 12447, 'alfonso': 12448, 'ribeiro': 12449, 'needy': 12450, 'laffy': 12451, 'taffy': 12452, 'sidelined': 12453, 'genie': 12454, 'kneel': 12455, 'vulnerabilities': 12456, 'mo': 12457, 'disruption': 12458, 'gandhi': 12459, \"kanye'\": 12460, \"'wouldn't\": 12461, 'butterball': 12462, 'medicinal': 12463, 'nook': 12464, 'divisive': 12465, 'mockery': 12466, 'australians': 12467, \"'yes'\": 12468, 'perot': 12469, 'notion': 12470, \"'ferguson\": 12471, 'policing': 12472, 'safest': 12473, 'statehouse': 12474, 'draining': 12475, 'abby': 12476, 'obsessively': 12477, 'fixing': 12478, 'spilling': 12479, 'attractions': 12480, 'iheartradio': 12481, 'explicit': 12482, 'berates': 12483, 'unprepared': 12484, 'nod': 12485, 'pairs': 12486, 'comparison': 12487, \"'can\": 12488, 'cannibalism': 12489, 'disappearance': 12490, 'imagery': 12491, 'deliberately': 12492, 'weightlifter': 12493, 'silk': 12494, \"crawford's\": 12495, 'regarding': 12496, 'outrageous': 12497, 'spanking': 12498, 'eliminate': 12499, 'humors': 12500, 'bust': 12501, 'elves': 12502, 'permanently': 12503, 'befriends': 12504, 'teresa': 12505, 'spoiled': 12506, 'sistine': 12507, 'terrain': 12508, 'impregnated': 12509, 'revels': 12510, 'clouds': 12511, 'byproducts': 12512, 'pillsbury': 12513, 'consume': 12514, 'unbearable': 12515, 'chop': 12516, 'upstairs': 12517, 'unveiling': 12518, 'flatly': 12519, 'alters': 12520, 'relaxes': 12521, 'palatable': 12522, 'fyi': 12523, 'lecture': 12524, 'kurdish': 12525, 'factors': 12526, 'rewrite': 12527, 'pumping': 12528, 'inflation': 12529, 'fashions': 12530, '1776': 12531, 'margin': 12532, 'flavorless': 12533, '¯': 12534, 'jorge': 12535, 'ramos': 12536, 'corrupt': 12537, 'mercilessly': 12538, 'shortcuts': 12539, 'marchers': 12540, 'paddleboarder': 12541, \"diner's\": 12542, 'elaborately': 12543, 'overshadowed': 12544, \"dave's\": 12545, 'dolled': 12546, 'hi': 12547, 'moses': 12548, 'scored': 12549, 'kmart': 12550, 'barron': 12551, 'vitter': 12552, 'trails': 12553, \"cop'\": 12554, 'hawk': 12555, 'limbo': 12556, \"stouffer's\": 12557, 'violate': 12558, 'pacquiao': 12559, 'uphold': 12560, 'taboo': 12561, 'crab': 12562, 'uva': 12563, 'hulu': 12564, \"'sleepy\": 12565, \"hollow'\": 12566, 'paralyzed': 12567, 'hardcore': 12568, 'drinkers': 12569, 'restores': 12570, 'stretch': 12571, 'mannequins': 12572, 'futility': 12573, 'stretched': 12574, 'killers': 12575, 'bombs': 12576, 'scully': 12577, 'unprecedented': 12578, 'teenager': 12579, 'predicted': 12580, 'fashionable': 12581, 'snowy': 12582, \"'news\": 12583, 'tub': 12584, 'conclude': 12585, 'southerner': 12586, 'kidnapped': 12587, \"tree'\": 12588, 'gorge': 12589, 'paw': 12590, 'cafe': 12591, 'mercy': 12592, 'communist': 12593, 'tableau': 12594, 'janitor': 12595, 'leonard': 12596, 'noted': 12597, 'fantasizes': 12598, 'chants': 12599, 'pompous': 12600, 'longevity': 12601, 'harmony': 12602, '6th': 12603, 'supervisor': 12604, 'baylor': 12605, \"problem'\": 12606, 'flattering': 12607, 'crowe': 12608, 'established': 12609, 'imf': 12610, \"nigeria's\": 12611, 'blossom': 12612, 'notch': 12613, 'gorilla': 12614, 'camper': 12615, 'drains': 12616, 'erick': 12617, 'erickson': 12618, 'brooke': 12619, 'shields': 12620, 'villa': 12621, \"'wild\": 12622, 'laundromat': 12623, 'employs': 12624, 'revive': 12625, 'foreman': 12626, 'cardinals': 12627, 'lyne': 12628, 'carrington': 12629, 'fusion': 12630, 'movements': 12631, 'pencils': 12632, \"minutes'\": 12633, 'bounce': 12634, 'tate': 12635, 'predictably': 12636, 'celtic': 12637, 'euphemized': 12638, 'fireman': 12639, 'debris': 12640, 'kareem': 12641, 'dehydration': 12642, 'havana': 12643, 'haven': 12644, 'recruiter': 12645, 'suggestion': 12646, 'isil': 12647, 'ballots': 12648, \"matter'\": 12649, 'cremated': 12650, \"odom's\": 12651, 'mckinnon': 12652, \"scream'\": 12653, 'destination': 12654, 'reviewing': 12655, 'chiefs': 12656, 'binary': 12657, 'dexter': 12658, 'holly': 12659, 'evolve': 12660, '51': 12661, 'delivering': 12662, 'cartoonist': 12663, 'vacuum': 12664, 'caesars': 12665, 'sock': 12666, 'petitions': 12667, 'vegans': 12668, 'boise': 12669, 'mecca': 12670, \"laden's\": 12671, 'projected': 12672, 'postseason': 12673, 'dystopia': 12674, 'trending': 12675, 'celibacy': 12676, 'consumes': 12677, \"'gay'\": 12678, 'digitize': 12679, 'pornographic': 12680, 'subscription': 12681, 'mute': 12682, 'upgraded': 12683, \"'weak\": 12684, 'bigfoot': 12685, 'elle': 12686, 'peel': 12687, 'sleazy': 12688, 'conscience': 12689, \"lies'\": 12690, \"harper's\": 12691, 'index': 12692, 'leto': 12693, 'famed': 12694, 'immortal': 12695, 'startling': 12696, 'flyer': 12697, 'screwed': 12698, 'tomb': 12699, 'falwell': 12700, 'contradict': 12701, 'unidentified': 12702, 'leaning': 12703, 'terrence': 12704, 'sham': 12705, 'uae': 12706, 'commits': 12707, 'tolerate': 12708, 'relaxation': 12709, 'confessed': 12710, 'adidas': 12711, \"sniper'\": 12712, 'averting': 12713, 'satire': 12714, 'touches': 12715, 'unanswered': 12716, \"vote'\": 12717, 'largemouth': 12718, 'dried': 12719, \"mail'\": 12720, 'melanie': 12721, 'coats': 12722, 'arya': 12723, 'oaf': 12724, 'expectancy': 12725, \"'fun\": 12726, 'suspending': 12727, 'diane': 12728, 'whitey': 12729, 'bulger': 12730, 'crayola': 12731, 'shareholders': 12732, 'nods': 12733, 'unstable': 12734, 'warrior': 12735, 'rejoins': 12736, 'gmo': 12737, 'whoopi': 12738, \"racist'\": 12739, '66': 12740, 'pronounce': 12741, 'genome': 12742, 'renting': 12743, \"grandpa's\": 12744, 'archie': 12745, 'satisfy': 12746, 'huddle': 12747, 'nickelback': 12748, 'listened': 12749, 'stickers': 12750, 'dug': 12751, 'anthrax': 12752, 'probing': 12753, 'kozlewski': 12754, 'skeletons': 12755, \"ever'\": 12756, 'daredevil': 12757, 'shore': 12758, 'menendez': 12759, 'tehran': 12760, '102': 12761, \"jupiter's\": 12762, 'environmentalists': 12763, 'recruits': 12764, \"'last\": 12765, 'pal': 12766, \"churchill's\": 12767, 'preventative': 12768, \"hbo's\": 12769, \"lifetime'\": 12770, 'creativity': 12771, 'residency': 12772, 'louder': 12773, 'flock': 12774, 'schoolgirls': 12775, '2m': 12776, 'flagrantly': 12777, 'racially': 12778, 'foraging': 12779, 'shifted': 12780, 'cooker': 12781, 'bling': 12782, 'recognition': 12783, 'software': 12784, 'unafraid': 12785, 'bean': 12786, 'chew': 12787, 'ruptured': 12788, 'graduated': 12789, 'iphones': 12790, \"'single\": 12791, \"'fast\": 12792, 'memoriam': 12793, 'moran': 12794, \"amputee's\": 12795, \"'sting'\": 12796, 'formulate': 12797, 'pantyhose': 12798, 'distractions': 12799, 'redrawing': 12800, 'stimulus': 12801, 'retweets': 12802, \"department's\": 12803, 'humbled': 12804, 'vanished': 12805, 'croatian': 12806, 'busboy': 12807, 'mobility': 12808, 'scooter': 12809, 'robinson': 12810, 'jumped': 12811, 'throats': 12812, 'prosecute': 12813, 'superheroes': 12814, \"justice'\": 12815, 'spied': 12816, 'overturns': 12817, 'excessive': 12818, 'unnoticed': 12819, 'brazilian': 12820, 'inseparable': 12821, 'ratio': 12822, 'enemy': 12823, 'tuberculosis': 12824, 'ribbon': 12825, 'expiration': 12826, 'pins': 12827, \"dems'\": 12828, 'fives': 12829, 'floodwaters': 12830, 'extent': 12831, 'podcasts': 12832, 'pressed': 12833, 'lieutenant': 12834, 'partnership': 12835, \"hicks'\": 12836, \"skin'\": 12837, 'valentines': 12838, 'applications': 12839, \"'party\": 12840, 'graveyard': 12841, 'descend': 12842, 'reenact': 12843, 'biker': 12844, 'impaled': 12845, \"recreation'\": 12846, 'alleging': 12847, 'marketed': 12848, \"'3\": 12849, 'twisting': 12850, 'trolled': 12851, 'clinical': 12852, 'plummer': 12853, 'coping': 12854, 'barrels': 12855, 'topping': 12856, 'spooked': 12857, 'monks': 12858, 'lobsters': 12859, 'stigma': 12860, 'institutionalized': 12861, 'manipulation': 12862, 'lil': 12863, \"'steven\": 12864, 'fingers': 12865, 'creationist': 12866, 'overdrive': 12867, \"2014's\": 12868, 'drenched': 12869, 'underneath': 12870, 'oswalt': 12871, 'instrument': 12872, 'solemn': 12873, 'vuitton': 12874, 'barbados': 12875, 'sponsored': 12876, \"website's\": 12877, \"'avengers'\": 12878, 'ensures': 12879, 'sheryl': 12880, 'whitney': 12881, 'oatmeal': 12882, 'fogle': 12883, 'laborers': 12884, 'unites': 12885, \"something'\": 12886, 'tables': 12887, 'planted': 12888, 'lockheed': 12889, 'glazed': 12890, 'wwi': 12891, 'savory': 12892, 'intend': 12893, 'devastates': 12894, 'conservationists': 12895, 'dugout': 12896, 'divorcing': 12897, 'concerns': 12898, \"patriots'\": 12899, 'sweatshop': 12900, \"y'all\": 12901, 'triples': 12902, 'rangers': 12903, 'struggled': 12904, \"'partying'\": 12905, 'paired': 12906, 'inadequate': 12907, 'botanists': 12908, \"store's\": 12909, 'overcoming': 12910, 'harbor': 12911, 'coasts': 12912, 'mugs': 12913, \"steel'\": 12914, \"'like\": 12915, \"oliver's\": 12916, \"c's\": 12917, 'determining': 12918, 'emphasizes': 12919, 'obedience': 12920, 'masked': 12921, 'regretted': 12922, 'inventing': 12923, 'archive': 12924, 'ruptures': 12925, 'altoid': 12926, \"'highway\": 12927, 'poised': 12928, 'molten': 12929, 'searches': 12930, 'aldrin': 12931, 'bassist': 12932, 'fisa': 12933, 'clapton': 12934, 'greatness': 12935, 'snapping': 12936, \"member's\": 12937, \"hits'\": 12938, 'costumed': 12939, \"figures'\": 12940, \"'dumbing\": 12941, 'behar': 12942, 'unapologetically': 12943, 'opt': 12944, 'wistful': 12945, 'gerber': 12946, 'shipwreck': 12947, 'cheapest': 12948, 'bagel': 12949, 'smartphones': 12950, \"view'\": 12951, 'witnessing': 12952, 'boundless': 12953, 'tapes': 12954, 'withhold': 12955, 'ufos': 12956, 'promising': 12957, 'endgame': 12958, 'dissident': 12959, \"lawmakers'\": 12960, 'turbans': 12961, 'winds': 12962, 'haves': 12963, \"first'\": 12964, 'blossoms': 12965, 'grim': 12966, 'goof': 12967, 'provisions': 12968, 'schism': 12969, 'understands': 12970, 'tender': 12971, 'dilma': 12972, 'rousseff': 12973, \"hotel'\": 12974, \"'everything's\": 12975, 'strain': 12976, 'jellyfish': 12977, 'tray': 12978, 'tig': 12979, 'notaro': 12980, 'intro': 12981, \"rat's\": 12982, \"brutal'\": 12983, 'foe': 12984, 'probation': 12985, 'crumb': 12986, 'shotgun': 12987, 'sludge': 12988, 'ailey': 12989, 'mussolini': 12990, 'trout': 12991, 'injustice': 12992, \"stewart's\": 12993, 'screamed': 12994, 'investigates': 12995, 'barking': 12996, 'libido': 12997, 'corpses': 12998, 'frost': 12999, 'freezing': 13000, \"members'\": 13001, 'pronounces': 13002, 'mvps': 13003, 'decry': 13004, 'recital': 13005, 'indonesian': 13006, 'wade': 13007, 'starlet': 13008, 'ramp': 13009, 'outsider': 13010, 'institutes': 13011, 'portugal': 13012, \"'women\": 13013, 'glade': 13014, 'enhance': 13015, 'dispel': 13016, 'gresham': 13017, 'hamster': 13018, 'arabs': 13019, 'jewry': 13020, 'safeguarding': 13021, 'symptom': 13022, 'mayer': 13023, 'fascist': 13024, 'stoned': 13025, 'drained': 13026, 'dietary': 13027, 'raccoon': 13028, 'bugles': 13029, \"'12\": 13030, 'stability': 13031, 'winding': 13032, 'innocence': 13033, 'carts': 13034, 'capitalizing': 13035, 'discounts': 13036, 'lowering': 13037, \"couple'\": 13038, \"parkinson's\": 13039, 'secretive': 13040, \"carey's\": 13041, 'jasmine': 13042, 'reinvent': 13043, 'crucifixion': 13044, 'concentration': 13045, 'carnivorous': 13046, 'awhile': 13047, 'claimed': 13048, \"cat's\": 13049, 'prop': 13050, 'thorny': 13051, \"comedian's\": 13052, 'reaffirms': 13053, \"threats'\": 13054, 'mayonnaise': 13055, 'restricting': 13056, 'conducts': 13057, 'sleepover': 13058, 'conceal': 13059, 'touted': 13060, 'teeter': 13061, 'gunfire': 13062, 'undiscovered': 13063, 'mummified': 13064, \"ways'\": 13065, 'haggard': 13066, 'dramas': 13067, 'silvio': 13068, 'berlusconi': 13069, 'penitentiary': 13070, 'qaddafi': 13071, \"'lone\": 13072, 'combs': 13073, 'darwin': 13074, 'switzerland': 13075, \"'healthy'\": 13076, 'robes': 13077, 'weasel': 13078, 'mh370': 13079, '15th': 13080, 'vcr': 13081, 'ran': 13082, 'technological': 13083, 'hoverboard': 13084, 'stamos': 13085, 'pigs': 13086, 'gunshot': 13087, \"masks'\": 13088, 'wackiest': 13089, \"'look\": 13090, 'gods': 13091, '1973': 13092, 'flipping': 13093, \"hellmann's\": 13094, 'chant': 13095, 'concede': 13096, 'reliable': 13097, 'weeping': 13098, 'pew': 13099, 'commands': 13100, 'lurking': 13101, 'stride': 13102, 'bleary': 13103, 'bickering': 13104, 'mayors': 13105, \"voice'\": 13106, 'competing': 13107, 'nerve': 13108, \"'star'\": 13109, 'showering': 13110, 'cordless': 13111, \"gay'\": 13112, \"'shut\": 13113, 'flagship': 13114, 'teeny': 13115, 'shingles': 13116, 'doorway': 13117, 'denial': 13118, 'patriarchy': 13119, \"bell's\": 13120, 'fitting': 13121, 'feld': 13122, 'mohamed': 13123, 'wreaks': 13124, 'adnan': 13125, 'syed': 13126, 'quake': 13127, 'recipient': 13128, 'margins': 13129, 'amish': 13130, 'patti': 13131, \"rick's\": 13132, 'swordfish': 13133, 'generally': 13134, 'custodian': 13135, 'booed': 13136, 'stuffs': 13137, 'caddy': 13138, 'dresser': 13139, 'bakula': 13140, 'integrative': 13141, 'pursues': 13142, 'harley': 13143, 'chokehold': 13144, 'pollster': 13145, 'suffered': 13146, 'guts': 13147, 'snowden': 13148, 'booze': 13149, 'motor': 13150, 'gardner': 13151, 'costars': 13152, 'smuggling': 13153, 'sexting': 13154, 'mcbeal': 13155, 'deadlocked': 13156, 'departments': 13157, \"'as\": 13158, 'colmes': 13159, 'fooled': 13160, 'discontinue': 13161, 'treatments': 13162, 'tasked': 13163, 'cues': 13164, \"'baywatch'\": 13165, 'lords': 13166, 'willingly': 13167, 'etsy': 13168, 'fran': 13169, 'drescher': 13170, 'enchanted': 13171, 'dominated': 13172, 'dummies': 13173, 'computers': 13174, 'jackets': 13175, 'melinda': 13176, \"aware'\": 13177, 'eerily': 13178, 'monkey': 13179, 'airways': 13180, 'discernible': 13181, 'motawi': 13182, 'childfree': 13183, 'corpse': 13184, 'dee': 13185, 'symbolism': 13186, 'surinamese': 13187, 'hiker': 13188, 'catacombs': 13189, 'renée': 13190, 'zellweger': 13191, 'geologists': 13192, \"jackson's\": 13193, 'sprite': 13194, '999': 13195, 'welded': 13196, 'rwandan': 13197, \"hannity's\": 13198, \"'architecturally\": 13199, '\\u200bexplains\\u200b': 13200, 'valiantly': 13201, 'uncovered': 13202, 'evans': 13203, 'velvet': 13204, 'morphs': 13205, 'hairy': 13206, '1963': 13207, 'ghostwriter': 13208, \"reiser's\": 13209, 'afeni': 13210, 'shakur': 13211, 'gallstone': 13212, 'sped': 13213, 'compromising': 13214, \"'partnering'\": 13215, 'restraint': 13216, 'toyotathon': 13217, \"'polack'\": 13218, 'overthink': 13219, 'varying': 13220, 'ficus': 13221, 'snapped': 13222, \"bucket'\": 13223, 'forge': 13224, 'excusing': 13225, 'testifying': 13226, 'overdo': 13227, 'antonio': 13228, 'dusted': 13229, 'supercuts': 13230, 'scalped': 13231, \"sabatino's\": 13232, 'stumble': 13233, 'spinal': 13234, 'deprecating': 13235, 'preamble': 13236, 'despised': 13237, 'kiev': 13238, 'dasha': 13239, 'chefs': 13240, \"entenmann's\": 13241, 'navajo': 13242, 'yeti': 13243, 'abdominable': 13244, \"'moderates'\": 13245, 'tempurapedic': 13246, 'crispy': 13247, 'mattresses': 13248, 'unhyphenated': 13249, \"'at\": 13250, 'squeaks': 13251, 'ulcerative': 13252, 'colitis': 13253, 'urbanism': 13254, 'mobster': 13255, 'polyamorous': 13256, 'triad': 13257, 'fouls': 13258, \"'having\": 13259, \"'hands\": 13260, \"liechtenstein'\": 13261, 'liechtenstein': 13262, 'charities': 13263, 'diddy': 13264, 'snarky': 13265, 'cones': 13266, 'piles': 13267, 'mercator': 13268, 'reopening': 13269, 'hikers': 13270, 'skywalker': 13271, 'oblivious': 13272, \"'misremember'\": 13273, 'nigel': 13274, 'seabird': 13275, 'paxton': 13276, \"'pussy\": 13277, \"lung'\": 13278, 'idol\\xa02': 13279, '\\xa0winner': 13280, \"clarkson's\": 13281, 'criticisms': 13282, \"'mark\": 13283, \"pride'\": 13284, \"po'\": 13285, 'nope': 13286, 'majestic': 13287, \"'goddamn\": 13288, '5×5': 13289, 'moviepass': 13290, 'existed': 13291, 'endowed': 13292, 'rafting': 13293, 'tupperware': 13294, 'mercurial': 13295, 'eh': 13296, 'abuzz': 13297, 'shiite': 13298, 'cougars': 13299, 'fantasizing': 13300, \"gorton's\": 13301, 'defraud': 13302, 'corresponding': 13303, 'biological': 13304, 'toke': 13305, \"'totally\": 13306, 'whom': 13307, 'traditions': 13308, 'harward': 13309, \"donors'\": 13310, 'freshmen': 13311, 'lynchings': 13312, 'detractors': 13313, \"regrettable'\": 13314, \"successor's\": 13315, 'chrysler': 13316, \"'83\": 13317, 'lebaron': 13318, 'colorism': 13319, 'adulting': 13320, 'squiggly': 13321, 'lalanne': 13322, 'mumford': 13323, \"'vest\": 13324, 'congratulations': 13325, \"biologist's\": 13326, 'bumped': 13327, 'shantytown': 13328, 'graffitied': 13329, \"johansson's\": 13330, \"different'\": 13331, 'beta': 13332, \"'downvote'\": 13333, 'monaco': 13334, 'penthousing': 13335, 'eyesore': 13336, 'tanning': 13337, 'militancy': 13338, 'nj': 13339, 'glamorize': 13340, 'molting': 13341, 'prohibition': 13342, 'prompted': 13343, 'fugitive': 13344, 'bodyguards': 13345, 'flaunting': 13346, 'vaccination': 13347, \"barber's\": 13348, 'paunch': 13349, \"'superbly\": 13350, 'reposted': 13351, \"'cunning'\": 13352, 'narco': 13353, 'detonates': 13354, 'regenerating': 13355, 'foreboding': 13356, 'entrees': 13357, 'demonic': 13358, 'bulging': 13359, 'easing': 13360, 'publications': 13361, 'potent': 13362, 'psychosis': 13363, 'petticoats': 13364, 'conroy': 13365, '525': 13366, 'profiling': 13367, \"'ant\": 13368, \"wasp'\": 13369, \"'avengers\": 13370, 'infinity': 13371, \"picture'\": 13372, 'citrix': 13373, \"starbucks'\": 13374, 'frapp': 13375, 'katt': 13376, 'tivo': 13377, 'mangles': 13378, 'spangled': 13379, \"banner'\": 13380, 'molest': 13381, 'gallows': 13382, 'predominantly': 13383, \"'teach\": 13384, \"citizens'\": 13385, 'tristan': 13386, \"thompson's\": 13387, 'hopeless': 13388, 'nonchalant': 13389, \"webpage's\": 13390, 'brains': 13391, \"'nastiness'\": 13392, 'mahoney': 13393, \"mcgregor's\": 13394, 'shalhoub': 13395, \"'braindead'\": 13396, 'mia': 13397, 'woodward': 13398, 'sycophant': 13399, 'scarf': 13400, 'rwanda': 13401, 'intrigue': 13402, 'frustrate': 13403, \"meyers'\": 13404, \"mingle'\": 13405, 'educated': 13406, 'bulk': 13407, 'ivf': 13408, 'tyra': 13409, \"'damn\": 13410, 'territory': 13411, 'burrell': 13412, \"'teddy\": 13413, 'bugs': 13414, 'infesting': 13415, 'tailoring': 13416, 'unclaimed': 13417, \"'responsible'\": 13418, 'researcher': 13419, \"'hypocrisy'\": 13420, \"'exerting\": 13421, \"calories'\": 13422, 'interchangeable': 13423, 'starlets': 13424, 'storybook': 13425, 'sheedy': 13426, \"alaska's\": 13427, 'aleutian': 13428, 'sino': 13429, 'exclude': 13430, 'studied': 13431, 'orgy': 13432, 'unpauses': 13433, 'chores': 13434, 'sunrise': 13435, 'flexible': 13436, \"'waitress'\": 13437, 'aquatic': 13438, 'mammal': 13439, 'perps': 13440, \"shooters'\": 13441, 'vultures': 13442, \"'fruit'\": 13443, 'abcs': 13444, 'depose': 13445, \"'put\": 13446, 'basks': 13447, 'triumphant': 13448, 'barbershop': 13449, 'jaws': 13450, 'sweepstakes': 13451, 'songwriter': 13452, 'obligation': 13453, 'plains': 13454, 'denée': 13455, 'benton': 13456, 'aka': 13457, 'imaginable': 13458, 'achieving': 13459, 'reconstruct': 13460, \"francis's\": 13461, 'depicted': 13462, 'planners': 13463, 'udpate': 13464, 'shortened': 13465, \"'cute'\": 13466, 'starks': 13467, 'obtains': 13468, \"'uncharted\": 13469, 'straley': 13470, 'willard': 13471, 'counseling': 13472, 'honky': 13473, \"tonkin'\": 13474, 'restroom': 13475, 'spicey': 13476, 'prohibit': 13477, 'doorbell': 13478, 'turbulent': 13479, 'persistence': 13480, 'pests': 13481, \"manufacturer's\": 13482, 'dumpster': 13483, 'doorways': 13484, 'marches': 13485, 'veronaon': 13486, 'festivus': 13487, 'reaganism': 13488, \"wolfman'\": 13489, 'prohibits': 13490, 'kaleidoscoping': 13491, 'domination': 13492, 'eia': 13493, 'carving': 13494, 'factories': 13495, 'rotten': 13496, 'iman': 13497, 'shumpert': 13498, 'locket': 13499, '76er': 13500, 'jahlil': 13501, 'okafor': 13502, 'lipinski': 13503, \"weir's\": 13504, \"'concussion'\": 13505, 'dipshits': 13506, 'sneers': 13507, 'icelandic': 13508, 'channeling': 13509, 'cruella': 13510, \"'small\": 13511, \"minded'\": 13512, 'trainers': 13513, \"presidential'\": 13514, 'instantly': 13515, 'locust': 13516, 'cosplays': 13517, 'lannister': 13518, \"lincoln's\": 13519, '2k16': 13520, 'miracles': 13521, \"'missed\": 13522, \"connection'\": 13523, 'exemption': 13524, 'wantonly': 13525, 'heimlich': 13526, 'maneuver': 13527, 'royalties': 13528, 'misspoke': 13529, 'outsize': 13530, 'bello': 13531, 'baio': 13532, \"'relentlessly\": 13533, \"cambridge's\": 13534, \"bezos'\": 13535, \"albany's\": 13536, \"'snl's'\": 13537, 'juggles': 13538, 'downplay': 13539, '\\xa0\\xa0\\xa0\\xa0': 13540, 'synesthesia': 13541, 'mints': 13542, 'hurried': 13543, 'farewells': 13544, 'cupid': 13545, 'roses': 13546, \"'rub\": 13547, 'spinach': 13548, \"'capital\": 13549, '2001': 13550, 'listerine': 13551, 'bertha': 13552, 'cáceres': 13553, \"another'\": 13554, 'redistribution': 13555, 'howdy': 13556, 'slashing': 13557, 'nokia': 13558, 'outkast': 13559, 'hitchhiker': 13560, 'litter': 13561, \"'arnold\": 13562, 'swagger': 13563, 'depositions': 13564, 'exaggerate': 13565, 'weakens': 13566, 'tarsiers': 13567, 'primate': 13568, 'cures': 13569, 'bolsters': 13570, 'flow': 13571, 'paredes': 13572, 'suade': 13573, 'resents': 13574, 'ascetic': 13575, 'illiterate': 13576, 'frustrates': 13577, 'ouija': 13578, 'hardwired': 13579, 'jacaranda': 13580, \"music's\": 13581, \"'he\": 13582, 'scrappy': 13583, 'articulate': 13584, 'legions': 13585, 'uninspiring': 13586, 'towels': 13587, \"nature's\": 13588, 'fidelity': 13589, 'facilitates': 13590, 'omission': 13591, \"'boyfriend'\": 13592, 'overalls': 13593, \"'annie\": 13594, \"hall'\": 13595, 'diaries': 13596, 'saints': 13597, 'amazingly': 13598, 'humanlike': 13599, \"'lost'\": 13600, 'dimension': 13601, 'edged': 13602, 'stained': 13603, 'materialism': 13604, 'hyslop': 13605, 'withdraw': 13606, 'tinderbox': 13607, 'gabor': 13608, 'dynamites': 13609, 'compensate': 13610, 'althea': 13611, 'inspector': 13612, \"'rocket\": 13613, 'lifeline': 13614, 'disappearing': 13615, \"'ally\": 13616, \"mcbeal'\": 13617, \"hugo's\": 13618, 'les': 13619, 'lunchables': 13620, 'endings': 13621, 'stripe': 13622, 'jamaican': 13623, 'cfl': 13624, 'unsportsmanlike': 13625, 'barbaric': 13626, 'gouges': 13627, \"bolton's\": 13628, 'blur': 13629, 'zionism': 13630, \"nationalism'\": 13631, \"'tringle'\": 13632, \"meat'\": 13633, 'foxes': 13634, 'sneakiest': 13635, 'williamson': 13636, 'cleats': 13637, 'garofalo': 13638, 'dorito': 13639, 'appearances': 13640, 'underpublicized': 13641, \"'cool\": 13642, \"guantanamo's\": 13643, \"'thor's\": 13644, 'hues': 13645, \"'sexism'\": 13646, 'sagan': 13647, 'superstition': 13648, \"reid's\": 13649, \"'nutso'\": 13650, 'nom': 13651, 'funneled': 13652, 'cambodian': 13653, \"'dictatorship'\": 13654, 'pegida': 13655, 'cringeworthy': 13656, 'mudslinging': 13657, \"bennington's\": 13658, \"'national\": 13659, \"lampoon's\": 13660, 'truthful': 13661, 'divergent': 13662, \"'nonexistent'\": 13663, 'individualized': 13664, 'portrayed': 13665, \"miele's\": 13666, \"'damaged'\": 13667, 'woodrow': 13668, \"wilson's\": 13669, 'defender': 13670, 'breuer': 13671, 'mustache': 13672, 'blindingly': 13673, 'scampi': 13674, 'kurdistan': 13675, 'dylann': 13676, 'glance': 13677, 'powher': 13678, 'enabling': 13679, 'firebrand': 13680, 'complicit': 13681, 'recline': 13682, 'offshorers': 13683, \"backpacker'\": 13684, 'offend': 13685, 'wobbles': 13686, 'relocation': 13687, \"'freeze'\": 13688, \"zimmerman's\": 13689, 'engaging': 13690, 'clings': 13691, 'stubborn': 13692, 'wisely': 13693, 'femur': 13694, 'mouthwatering': 13695, \"'christians'\": 13696, 'inflating': 13697, 'linda': 13698, 'katehi': 13699, 'larson': 13700, \"marvel'\": 13701, 'workouts': 13702, 'asterisk': 13703, \"'fuck'\": 13704, 'kubrick': 13705, 'artiste': 13706, 'moleskine': 13707, 'osprey': 13708, \"killmonger's\": 13709, 'bronco': 13710, \"'extinction\": 13711, \"labels'\": 13712, \"ghostwriters'\": 13713, 'behalf': 13714, 'sweetheart': 13715, 'biotech': 13716, 'mumbling': 13717, 'bedsore': 13718, '155th': 13719, 'sydney': 13720, 'homeroom': 13721, 'declassifies': 13722, 'edgar': 13723, \"hoover's\": 13724, 'munster': 13725, 'bloodshed': 13726, 'hansom': 13727, 'mongol': 13728, \"podesta's\": 13729, 'appetizer': 13730, 'hatchet': 13731, 'submitting': 13732, 'kleenex': 13733, 'inadequately': 13734, 'cropped': 13735, 'lightyear': 13736, 'crucifix': 13737, 'pristine': 13738, 'microlender': 13739, 'holistic': 13740, \"speaker's\": 13741, 'shep': 13742, 'paleontology': 13743, 'fundamentalist': 13744, 'anybody': 13745, 'bucked': 13746, \"'zero\": 13747, \"thirty'\": 13748, 'catamaran': 13749, 'razzle': 13750, 'crocs': 13751, 'kepler': 13752, 'maria': 13753, 'zenzinger': 13754, 'mcchicken': 13755, 'mayim': 13756, 'bialik': 13757, '401k': 13758, 'usb': 13759, 'ports': 13760, 'standardized': 13761, 'protectionism': 13762, 'goody': 13763, 'governess': 13764, 'hairbrushes': 13765, 'raking': 13766, 'scalps': 13767, 'insolent': 13768, 'pans': 13769, 'spattering': 13770, 'midas': 13771, 'crossover': 13772, 'youlookdisgusting': 13773, 'em': 13774, \"'perfection\": 13775, \"real'\": 13776, 'naïve': 13777, 'disparities': 13778, 'prescribing': 13779, 'onslaught': 13780, 'skittering': 13781, 'grinch': 13782, \"'hanukkah'\": 13783, \"sticks'\": 13784, \"brother's\": 13785, \"freeman's\": 13786, 'cruelest': 13787, \"cowboys'\": 13788, 'ammon': 13789, 'turpan': 13790, \"caucus'\": 13791, \"'fantastic'\": 13792, 'dumbledore': 13793, \"beasts'\": 13794, 'camouflage': 13795, 'cilla': 13796, 'zippori': 13797, 'disapproves': 13798, 'interracial': 13799, 'feathered': 13800, 'deity': 13801, 'malleable': 13802, 'simpletons': 13803, 'fluttering': 13804, 'shuttlecocks': 13805, 'hagar': 13806, 'fling': 13807, 'faux': 13808, 'joanna': 13809, \"gaines'\": 13810, 'libertarians': 13811, 'lancelot': 13812, \"'murdered'\": 13813, \"cheese's\": 13814, 'dirtier': 13815, 'radius': 13816, 'den': 13817, 'stupidity': 13818, 'burglary': 13819, 'reared': 13820, 'missuniverse2015': 13821, 'votive': 13822, 'candle': 13823, \"'every\": 13824, \"fox'\": 13825, 'supervised': 13826, 'omaha': 13827, \"leno's\": 13828, 'voicemail': 13829, \"'demolish\": 13830, \"ceiling'\": 13831, 'sherpa': 13832, 'superficial': 13833, \"a'\": 13834, 'brinkley': 13835, 'fafsa': 13836, 'keqiang': 13837, 'eucharist': 13838, 'emptier': 13839, 'schizophrenic': 13840, 'underlying': 13841, \"badger'\": 13842, \"rogers'\": 13843, 'pothole': 13844, 'downtown': 13845, 'algae': 13846, 'dentists': 13847, 'covert': 13848, 'monaghan': 13849, \"jerusalem's\": 13850, 'nearing': 13851, 'prius': 13852, 'rudimentary': 13853, 'contextless': 13854, 'normalize': 13855, \"'brave\": 13856, 'prepper': 13857, 'danica': 13858, 'roem': 13859, \"barrier'\": 13860, 'gummis': 13861, \"june'\": 13862, 'payoff': 13863, \"'reshape'\": 13864, 'exploited': 13865, 'tmz': 13866, 'choppers': 13867, 'chekhovian': 13868, 'fearsome': 13869, 'wittels': 13870, \"noah's\": 13871, 'tsarnaevs': 13872, 'castros': 13873, 'monogamy': 13874, 'verbal': 13875, 'communicates': 13876, 'stocking': 13877, 'jussie': 13878, 'smollett': 13879, 'shortcut': 13880, 'boldly': 13881, 'gumption': 13882, 'rewarded': 13883, '113': 13884, 'composers': 13885, 'atony': 13886, 'antisocial': 13887, 'insecurity': 13888, 'gagged': 13889, 'identical': 13890, 'wheats': 13891, \"rory's\": 13892, 'emmerich': 13893, 'nov': 13894, 'papua': 13895, 'gymnasium': 13896, 'ballplayers': 13897, 'gail': 13898, 'saltz': 13899, 'fatality': 13900, 'mariachi': 13901, 'geeky': 13902, 'pitching': 13903, 'dundee': 13904, 'packaged': 13905, \"'inject\": 13906, 'trumpet': 13907, 'culmination': 13908, 'ninetysomethings': 13909, 'poseidon': 13910, 'obamaandkids': 13911, 'automakers': 13912, 'achilles': 13913, 'heel': 13914, 'earthquakes': 13915, 'zealand': 13916, \"gilligan's\": 13917, 'gilligan': 13918, 'billed': 13919, 'woodpecker': 13920, \"species'\": 13921, \"'arrested\": 13922, \"development'\": 13923, 'garry': 13924, \"kasparov's\": 13925, \"yates'\": 13926, 'measly': 13927, 'wahoo': 13928, 'compatible': 13929, 'rockers': 13930, 'duckling': 13931, 'tides': 13932, 'rescinding': 13933, \"pets'\": 13934, 'critter': 13935, 'tens': 13936, '1915': 13937, \"pain'\": 13938, \"panic'\": 13939, 'lorde': 13940, 'minestrone': 13941, 'perfection': 13942, 'penetrate': 13943, 'databases': 13944, 'contributed': 13945, \"'scalia\": 13946, \"ness'\": 13947, \"'tort\": 13948, \"reform'\": 13949, 'hasty': 13950, 'mofo': 13951, 'parish': 13952, 'bandai': 13953, \"'but\": 13954, 'gingerbread': 13955, 'precocious': 13956, 'allowable': 13957, 'amperage': 13958, \"detainees'\": 13959, 'testicles': 13960, 'chloe': 13961, \"'independence'\": 13962, \"rebel's\": 13963, 'awestruck': 13964, 'defiance': 13965, 'nicki': 13966, \"minaj's\": 13967, 'filmgoers': 13968, 'eradicating': 13969, 'rents': 13970, '\\u200bgleefully': 13971, '\\u200bmocked': 13972, 'ramblings': 13973, '290': 13974, 'laced': 13975, 'glaxosmithkline': 13976, 'humiliates': 13977, 'salvage': 13978, \"robots'\": 13979, \"guinness'\": 13980, \"folks'\": 13981, '264': 13982, 'intentions': 13983, 'dade': 13984, 'permafrost': 13985, 'jowl': 13986, 'yup': 13987, 'ee': 13988, 'screech': 13989, \"colorado's\": 13990, 'statute': 13991, \"wray's\": 13992, \"award'\": 13993, 'aubrey': 13994, 'popovich': 13995, 'throttle': 13996, \"'soulless\": 13997, \"coward'\": 13998, 'helm': 13999, 'skirmish': 14000, 'yarn': 14001, 'poets': 14002, \"society'\": 14003, 'bloodfest': 14004, 'indignant': 14005, 'audacious': 14006, \"lover's\": 14007, 'topped': 14008, 'pizzas': 14009, \"baby's'\": 14010, 'circa': 14011, 'searing': 14012, 'croft': 14013, 'crofts': 14014, 'supplying': 14015, 'bowlmate': 14016, 'onrush': 14017, 'polly': 14018, 'zehnder': 14019, \"swader's\": 14020, 'unwinding': 14021, \"asia's\": 14022, \"'sole\": 14023, \"survivor'\": 14024, \"'humor\": 14025, \"uniform'\": 14026, \"scaramucci's\": 14027, \"fans'\": 14028, \"'wannabe'\": 14029, \"'strange\": 14030, \"looking'\": 14031, 'ariel': 14032, 'slayed': 14033, \"'warcraft'\": 14034, 'blizzcon': 14035, 'browns': 14036, 'haslam': 14037, 'cyndi': 14038, 'lauper': 14039, \"'bum'\": 14040, 'alexia': 14041, 'kosmider': 14042, 'transjourney': 14043, 'shanghai': 14044, 'screwdriver': 14045, 'checkpoint': 14046, 'godparent': 14047, 'krouse': 14048, \"rosenthal's\": 14049, 'slathered': 14050, 'gugu': 14051, 'shoves': 14052, 'renee': 14053, 'silverstein': 14054, 'lynching': 14055, 'handmaids': 14056, 'overcharged': 14057, \"'usa\": 14058, 'murrieta': 14059, 'relocate': 14060, 'roadblock': 14061, 'bores': 14062, 'commerce': 14063, 'eritrean': 14064, 'martini': 14065, 'puke': 14066, \"pet's\": 14067, 'messaged': 14068, \"'must\": 14069, \"tv'\": 14070, 'enforced': 14071, 'battleground': 14072, \"hunters'\": 14073, \"paddy's\": 14074, '594': 14075, \"mankind'\": 14076, \"'lazy\": 14077, \"'demand'\": 14078, 'lululemon': 14079, 'rezoned': 14080, 'knitting': 14081, 'representing': 14082, 'warping': 14083, 'eastern': 14084, 'aboveground': 14085, \"liberty's\": 14086, 'density': 14087, 'kevins': 14088, 'bowls': 14089, 'embarks': 14090, 'weeklong': 14091, 'unpresidential': 14092, \"'locker\": 14093, 'millie': 14094, 'luftwaffle': 14095, 'superiority': 14096, 'lamprey': 14097, 'skiing': 14098, 'baker': 14099, 'epiphanies': 14100, 'brandishes': 14101, 'marrakesh': 14102, 'cheerleaders': 14103, 'zaire': 14104, 'occidental': 14105, 'printout': 14106, 'acknowledgement': 14107, 'journeys': 14108, 'hinted': 14109, 'getter': 14110, \"'jumanji'\": 14111, 'mediocre': 14112, '1995': 14113, 'aerobic': 14114, 'swarthmore': 14115, \"'69'\": 14116, 'pondering': 14117, \"religion's\": 14118, 'ulysses': 14119, 'trimmer': 14120, \"'twisted\": 14121, \"easier'\": 14122, \"'alt\": 14123, 'rethinking': 14124, 'loyalties': 14125, 'airtime': 14126, 'rinkins': 14127, 'telemedicine': 14128, 'slices': 14129, \"'filthy'\": 14130, 'fletch': 14131, 'meldonium': 14132, 'casinos': 14133, \"'cronyist\": 14134, \"cartel'\": 14135, 'exhibitionist': 14136, 'persuading': 14137, 'railways': 14138, \"currys'\": 14139, 'merritt': 14140, \"soaked'\": 14141, 'requesting': 14142, 'epidural': 14143, \"'wipe\": 14144, 'ponds': 14145, 'marcellus': 14146, 'manufactures': 14147, \"12'\": 14148, 'chatroom': 14149, 'brando': 14150, \"t's\": 14151, 'gorka': 14152, 'tiq': 14153, 'liberation': 14154, \"'era\": 14155, \"argument'\": 14156, 'demonizes': 14157, 'ops': 14158, 'undetected': 14159, 'starred': 14160, 'trey': 14161, 'gowdy': 14162, \"service's\": 14163, 'prostitution': 14164, 'chartreuse': 14165, 'convicts': 14166, \"deportation'\": 14167, 'prolongs': 14168, 'upheld': 14169, 'unspeakable': 14170, 'hunted': 14171, 'ostensibly': 14172, 'heterosexual': 14173, 'inflates': 14174, 'pouch': 14175, 'peeping': 14176, 'scrap': 14177, 'depiction': 14178, \"'earned'\": 14179, \"'stripes'\": 14180, 'vibrant': 14181, 'webcam': 14182, 'forehead': 14183, 'leotard': 14184, 'choreographing': 14185, 'precheck': 14186, 'expedited': 14187, 'interrogations': 14188, 'deceptively': 14189, 'beaver': 14190, \"question'\": 14191, 'flunks': 14192, \"'experience'\": 14193, 'deadlier': 14194, 'irresistible': 14195, 'animation': 14196, 'occupants': 14197, \"leaders'\": 14198, 'denouncing': 14199, \"statements'\": 14200, 'wading': 14201, 'burrows': 14202, 'outcry': 14203, 'streaks': 14204, 'presenters': 14205, 'pupil': 14206, 'eaves': 14207, 'beachgoers': 14208, 'patronized': 14209, \"'hacks'\": 14210, 'bookshelf': 14211, 'mics': 14212, 'profiteers': 14213, 'poultry': 14214, \"'orange\": 14215, 'admire': 14216, 'theda': 14217, 'hammel': 14218, 'unsafe': 14219, 'wilde': 14220, 'participated': 14221, \"'unite\": 14222, \"'unavoidable'\": 14223, 'atrocities': 14224, 'tunisia': 14225, \"'marry\": 14226, \"rapist'\": 14227, 'stapler': 14228, 'staplers': 14229, 'pained': 14230, 'redefinition': 14231, 'chinaware': 14232, 'convulsing': 14233, 'replaceable': 14234, \"'brownface'\": 14235, 'prayed': 14236, 'evenly': 14237, 'billionnaire': 14238, 'levi': 14239, \"'duke\": 14240, \"burgundy'\": 14241, 'triumphs': 14242, \"star'\": 14243, 'typography': 14244, \"'lightly\": 14245, \"beat'\": 14246, 'permitted': 14247, 'maintaining': 14248, \"humanitarian's\": 14249, 'sweetest': 14250, \"'get'\": 14251, 'imperiled': 14252, 'pros': 14253, 'giggles': 14254, 'nia': 14255, 'nesting': 14256, 'zeta': 14257, 'declassify': 14258, 'zac': 14259, \"efron's\": 14260, 'reconsidered': 14261, 'manzo': 14262, 'paragraph': 14263, 'gigabyte': 14264, 'interactive': 14265, 'socializing': 14266, '893': 14267, 'careening': 14268, 'iroquois': 14269, 'inſurgency': 14270, \"gov't\": 14271, 'pufferfish': 14272, 'friendless': 14273, \"jinx'\": 14274, \"fe's\": 14275, 'virtues': 14276, 'hospitality': 14277, \"'thing'\": 14278, 'slickest': 14279, \"'post\": 14280, \"queer'\": 14281, 'jostled': 14282, 'lynda': 14283, \"heffernan's\": 14284, 'jody': 14285, 'hice': 14286, 'dious': 14287, 'confirming': 14288, 'technologies': 14289, 'piketty': 14290, 'francais': 14291, 'baptized': 14292, 'stacks': 14293, 'cern': 14294, 'universes': 14295, 'oblivion': 14296, 'kosher': 14297, 'coloradans': 14298, 'deregistered': 14299, \"animal's\": 14300, 'bayh': 14301, \"theater'\": 14302, 'evaluation': 14303, 'marshal': 14304, 'maniac': 14305, 'exercising': 14306, 'parotid': 14307, 'petted': 14308, 'freud': 14309, 'resounding': 14310, 'fancy': 14311, 'dew': 14312, 'generously': 14313, 'freezers': 14314, 'jest': 14315, 'masquerading': 14316, 'constructive': 14317, 'floppy': 14318, \"'danger'\": 14319, \"'partisan\": 14320, \"gridlock'\": 14321, 'taekwondo': 14322, 'pavel': 14323, 'durov': 14324, 'ronson': 14325, 'hick': 14326, 'nobodies': 14327, 'philippe': 14328, 'courtois': 14329, 'ghraib': 14330, \"c'mon\": 14331, 'gulag': 14332, 'siberia': 14333, \"mastermind's\": 14334, 'reshaping': 14335, 'fastball': 14336, 'milla': 14337, 'jovovich': 14338, 'consolidation': 14339, 'reserves': 14340, 'suarez': 14341, 'paz': 14342, 'norfolk': 14343, 'premarital': 14344, 'fogelberg': 14345, 'soothe': 14346, 'lite': 14347, '108': 14348, 'excluded': 14349, 'segways': 14350, \"landers'\": 14351, 'herbs': 14352, 'magnetic': 14353, 'ceaseless': 14354, \"'discussion'\": 14355, \"'you'\": 14356, 'manpower': 14357, 'bs': 14358, 'weirdly': 14359, \"purge'\": 14360, 'ob': 14361, 'gyn': 14362, \"'8\": 14363, 'deen': 14364, 'mcenroe': 14365, \"'rapping\": 14366, 'jowls': 14367, 'withdrawing': 14368, \"'crony\": 14369, \"capitalism'\": 14370, 'ellison': 14371, 'microchips': 14372, 'coretta': 14373, 'bidder': 14374, \"close'\": 14375, \"'shared\": 14376, \"benefits'\": 14377, \"'freakin'\": 14378, \"awesome'\": 14379, \"'4\": 14380, \"44'\": 14381, 'cookout': 14382, 'keegan': 14383, \"'freedom'\": 14384, 'loads': 14385, 'ayn': 14386, 'sliding': 14387, 'stereotypical': 14388, \"pizzeria's\": 14389, 'midriff': 14390, 'bicyclists': 14391, 'peripheral': 14392, 'molested': 14393, 'thermo': 14394, 'sensing': 14395, 'fawns': 14396, 'tilda': 14397, 'swinton': 14398, 'splash': 14399, 'consultants': 14400, 'oilman': 14401, 'uptight': 14402, 'matron': 14403, 'neuroses': 14404, 'wringer': 14405, 'birthright': 14406, \"forte's\": 14407, '87th': 14408, 'holiest': 14409, 'handily': 14410, 'lebowski': 14411, 'dishware': 14412, \"'christmas\": 14413, 'arc': 14414, 'homeowners': 14415, 'mork': 14416, \"maker'\": 14417, 'functional': 14418, 'eons': 14419, 'outcomes': 14420, 'disgraced': 14421, 'trumplethinskin': 14422, 'tumble': 14423, 'uncontrollably': 14424, 'snoopy': 14425, \"'insane'\": 14426, \"fx's\": 14427, 'overture': 14428, 'brandon': 14429, 'classically': 14430, \"movement's\": 14431, 'contradiction': 14432, 'lukewarm': 14433, 'pessimism': 14434, 'norton': 14435, 'kindred': 14436, \"jets'\": 14437, \"teenager's\": 14438, 'implicating': 14439, 'distributing': 14440, 'malnourished': 14441, 'tripping': 14442, 'jumpsuit': 14443, 'rounding': 14444, 'gondola': 14445, 'intensely': 14446, \"'fruitvale\": 14447, 'brutalized': 14448, 'raddatz': 14449, 'mvp': 14450, 'rams': 14451, \"laporte's\": 14452, 'offsets': 14453, 'fervor': 14454, 'capitalists': 14455, 'ineptly': 14456, \"whelan's\": 14457, 'nycb': 14458, \"rain'\": 14459, 'deux': 14460, \"'secret'\": 14461, 'discounted': 14462, 'airfare': 14463, 'condemnation': 14464, \"kisser'\": 14465, \"'skip\": 14466, \"ad'\": 14467, 'burkini': 14468, 'sprung': 14469, \"'scared\": 14470, \"straight'\": 14471, 'gizmos': 14472, \"'caroline\": 14473, 'rca': 14474, 'arista': 14475, 'daltrey': 14476, 'hernan': 14477, \"barangan's\": 14478, 'doc': 14479, 'rebellion': 14480, 'filmmaking': 14481, \"'london\": 14482, 'torturous': 14483, 'nondiscrimination': 14484, 'tans': 14485, 'segmented': 14486, 'fka': 14487, 'twigs': 14488, 'marmont': 14489, \"'squad\": 14490, \"goals'\": 14491, \"'hell\": 14492, 'pinpoint': 14493, 'entries': 14494, \"sacagawea's\": 14495, 'logos': 14496, 'sopranos': 14497, 'pronounced': 14498, \"'t'\": 14499, \"foo'\": 14500, 'malnutrition': 14501, \"siri's\": 14502, 'itunes': 14503, 'nevertheless': 14504, 'persisted': 14505, \"sure'\": 14506, 'strengthened': 14507, 'breslin': 14508, 'hackathons': 14509, 'dings': 14510, 'jeffery': 14511, 'debtor': 14512, 'mollie': 14513, 'spilman': 14514, 'criteo': 14515, 'prabal': 14516, 'gurung': 14517, \"nepal's\": 14518, '193': 14519, 'nominates': 14520, \"spain's\": 14521, 'wiser': 14522, 'lingering': 14523, 'lourea': 14524, \"opponents'\": 14525, 'terrors': 14526, \"'could\": 14527, \"killed'\": 14528, 'lifeblood': 14529, \"'rent\": 14530, 'cram': 14531, 'positivity': 14532, 'sensational': 14533, 'bashful': 14534, 'congressperson': 14535, 'entwined': 14536, 'slowing': 14537, 'pitches': 14538, 'bail': 14539, 'della': 14540, 'insanely': 14541, 'poach': 14542, 'kitchenaid': 14543, 'ordained': 14544, 'elias': 14545, \"koteas'\": 14546, 'olinsky': 14547, \"'chicago\": 14548, \"'dangerous'\": 14549, 'bisquick': 14550, 'impossibly': 14551, 'pie\\x99': 14552, 'treaties': 14553, 'vertical': 14554, 'meeker': 14555, 'rewatching': 14556, 'flaw': 14557, 'petrified': 14558, 'purdue': 14559, 'erases': 14560, 'obey': 14561, 'broadly': 14562, 'mothering': 14563, 'waitlist': 14564, \"moon's\": 14565, 'crater': 14566, 'pits': 14567, \"carl's\": 14568, \"voice's\": 14569, 'rosary': 14570, \"rings'\": 14571, 'bitches': 14572, \"gervais'\": 14573, \"corporation's\": 14574, 'zipping': 14575, 'pankaj': 14576, \"mishra's\": 14577, 'miners': 14578, 'mathison': 14579, \"lopez's\": 14580, 'pantene': 14581, 'allegories': 14582, 'resurrects': 14583, \"brooklyn's\": 14584, 'bodyguard': 14585, 'montreal': 14586, 'westernized': 14587, 'differ': 14588, 'swelled': 14589, 'solitute': 14590, \"'shameful'\": 14591, 'townsperson': 14592, \"'onion'\": 14593, 'inflatable': 14594, \"'we're\": 14595, 'commodore': 14596, 'heating': 14597, 'clauses': 14598, 'nevertrump': 14599, 'decomposition': 14600, 'chrysalis': 14601, 'gastropub': 14602, \"evening's\": 14603, 'significantly': 14604, '“many': 14605, 'sides”': 14606, 'harvested': 14607, 'relinquish': 14608, \"crenna's\": 14609, 'spurs': 14610, 'leniency': 14611, 'jessie': 14612, 'stillborn': 14613, 'profiteering': 14614, 'petting': 14615, \"'space\": 14616, \"jam'\": 14617, 'raining': 14618, 'obsessing': 14619, 'vodka': 14620, \"'margaritaville\": 14621, 'caress': 14622, 'farrow': 14623, 'jeweler': 14624, 'skeptic': 14625, 'cryptozoologist': 14626, 'exhilarating': 14627, 'canvasser': 14628, 'surplus': 14629, 'kidnap': 14630, \"firm's\": 14631, 'nigeria': 14632, 'cocoa': 14633, 'repudiate': 14634, 'daze': 14635, \"february's\": 14636, 'ordinance': 14637, 'consensual': 14638, 'tomm': 14639, 'lasorda': 14640, \"pitbull's\": 14641, 'tasteless': 14642, 'elvis': 14643, 'costello': 14644, 'fedexed': 14645, 'vespa': 14646, 'enchants': 14647, \"overrated'\": 14648, 'helberg': 14649, 'guild': 14650, \"'refugees\": 14651, \"welcome'\": 14652, 'pamplona': 14653, 'letterbox': 14654, 'psalm': 14655, \"'calm\": 14656, \"downs'\": 14657, \"gargoyles'\": 14658, \"anchorman's\": 14659, 'reiner': 14660, 'setlist': 14661, \"low'\": 14662, 'knievel': 14663, \"generation's\": 14664, 'emp': 14665, 'disable': 14666, 'devices': 14667, 'lap': 14668, 'guerrilla': 14669, \"jumper's\": 14670, 'sleepers': 14671, 'wilbur': 14672, 'natgeo': 14673, \"'amazing'\": 14674, 'auditors': 14675, 'cancers': 14676, 'shalit': 14677, 'dsl': 14678, 'antifa': 14679, \"'weird\": 14680, \"al'\": 14681, 'nudge': 14682, 'vilanch': 14683, 'sodomized': 14684, 'googles': 14685, \"'jobs\": 14686, \"animals'\": 14687, \"scotland's\": 14688, 'onionman77': 14689, 'outweighs': 14690, \"linkedin's\": 14691, \"'hates\": 14692, \"taking'\": 14693, 'dispensary': 14694, \"blm's\": 14695, 'garza': 14696, 'organisms': 14697, 'gorsky': 14698, 'clemson': 14699, 'lsu': 14700, \"'scooter'\": 14701, 'libby': 14702, 'refry': 14703, 'frees': 14704, \"kesha's\": 14705, \"'praying'\": 14706, \"'woman'\": 14707, 'faints': 14708, \"'rough\": 14709, 'mindset': 14710, 'preakness': 14711, 'falcon': 14712, 'manners': 14713, 'authorized': 14714, \"'watermelon\": 14715, 'unchallenged': 14716, 'belting': 14717, 'legalizing': 14718, \"'nightly\": 14719, \"ship'\": 14720, 'munchies': 14721, 'ingber': 14722, \"'history\": 14723, 'ballsy': 14724, 'rohit': 14725, 'varma': 14726, 'turds': 14727, \"'embodiment\": 14728, \"exorcise'\": 14729, 'chinatown': 14730, 'kabat': 14731, \"'lemony\": 14732, \"snicket'\": 14733, 'wesleyan': 14734, 'dontcha': 14735, 'syrups': 14736, 'halfpipe': 14737, \"'libations'\": 14738, 'turf': 14739, \"chang's\": 14740, 'accidental': 14741, 'staplings': 14742, 'aykroyds': 14743, \"rouge's\": 14744, 'doling': 14745, \"'showtime\": 14746, \"apollo'\": 14747, 'clay': 14748, 'aiken': 14749, 'bojangles': 14750, \"'aweism'\": 14751, \"humanist's\": 14752, 'transcendence': 14753, 'discreetly': 14754, 'meatloaf': 14755, 'sparring': 14756, 'referendums': 14757, \"'whiskey\": 14758, \"foxtrot'\": 14759, 'trumpacandy': 14760, 'gloriously': 14761, 'weighty': 14762, \"'expendables\": 14763, \"'aryan\": 14764, \"notions'\": 14765, 'unpopped': 14766, 'kernels': 14767, 'funkier': 14768, 'landrieu': 14769, 'horseconnect': 14770, 'accusingly': 14771, 'bittersweet': 14772, 'lyte': 14773, 'ecclesiastic': 14774, 'dullard': 14775, 'opts': 14776, 'vocational': 14777, \"'flying\": 14778, \"saucer'\": 14779, 'deviation': 14780, 'statistician': 14781, 'annul': 14782, 'gouging': 14783, 'gummed': 14784, 'betelgeuse': 14785, 'supernova': 14786, 'charmed': 14787, \"'brothers\": 14788, 'reuther': 14789, 'voltaggio': 14790, 'monteith': 14791, 'surfboard': 14792, 'starfucker': 14793, 'groot': 14794, 'birdhouse': 14795, 'biology': 14796, 'grossed': 14797, 'dissect': 14798, 'unisex': 14799, 'unrealistic': 14800, 'multifaceted': 14801, 'mailed': 14802, 'deloitte': 14803, 'accountant': 14804, 'audit': 14805, \"'franchise'\": 14806, 'rude': 14807, \"'substantial'\": 14808, 'buyouts': 14809, 'birdseed': 14810, 'playgrounds': 14811, 'enchiladas': 14812, 'seller': 14813, 'boardwalk': 14814, 'chumps': 14815, \"'con\": 14816, 'gutsy': 14817, 'ventimiglia': 14818, 'chik': 14819, \"cait'\": 14820, 'arboretum': 14821, \"queerbaiting'\": 14822, 'mcgorry': 14823, \"plate's\": 14824, 'modi': 14825, 'courtside': 14826, 'pacers': 14827, 'paws': 14828, 'flavorful': 14829, \"'outrageously\": 14830, 'dubs': 14831, \"'tiger\": 14832, \"hypocrisy'\": 14833, 'golfing': 14834, 'harming': 14835, 'hindsight': 14836, 'harshly': 14837, 'lipnicki': 14838, 'spaceballs': 14839, 'mangy': 14840, 'privilege': 14841, 'bbqs': 14842, 'retelling': 14843, 'bellhop': 14844, 'baklava': 14845, 'profiled': 14846, 'machado': 14847, \"'legitimate\": 14848, 'whispered': 14849, 'untelevised': 14850, \"blair's\": 14851, \"'outburst'\": 14852, 'portia': 14853, 'empowerment': 14854, 'frieze': 14855, \"schieffer's\": 14856, 'skipped': 14857, \"airport's\": 14858, 'aloof': 14859, 'indifference': 14860, 'napaquake': 14861, 'napastrong': 14862, 'elisabeth': 14863, 'kübler': 14864, 'handjob': 14865, 'predatory': 14866, 'itt': 14867, 'asp': 14868, 'bonobo': 14869, \"quit'\": 14870, \"microsoft's\": 14871, 'solitaire': 14872, 'dousing': 14873, 'mugged': 14874, 'punxsutawney': 14875, \"massachusetts'\": 14876, 'interviewer': 14877, 'thrust': 14878, 'maelstrom': 14879, \"told'\": 14880, 'gimmicky': 14881, 'deus': 14882, 'machina': 14883, 'hayden': 14884, \"'diverse'\": 14885, '\\xa0jacquie': 14886, 'mcnish': 14887, 'and\\xa0sean': 14888, 'silcoff': 14889, \"'rick'\": 14890, 'fumigated': 14891, 'pitied': 14892, 'liam': 14893, \"'nightmare'\": 14894, 'nofilter': 14895, 'hairs': 14896, \"'presumptive'\": 14897, 'leathery': 14898, 'errands': 14899, 'blimp': 14900, \"'dissent\": 14901, \"memo'\": 14902, 'objecting': 14903, 'litmus': 14904, 'pantsuit': 14905, 'summa': 14906, 'laude': 14907, 'waddling': 14908, 'undies': 14909, 'neuter': 14910, \"dont's\": 14911, \"'mein\": 14912, \"führer'\": 14913, 'crossed': 14914, 'cloney': 14915, 'stored': 14916, \"one's\": 14917, \"'cars'\": 14918, \"'paused\": 14919, \"studies'\": 14920, 'machiavellian': 14921, 'masterstoke': 14922, \"please'\": 14923, 'passions': 14924, 'smallpox': 14925, 'vials': 14926, 'underpaved': 14927, \"snowflake's\": 14928, 'drift': 14929, 'panasonic': 14930, \"'spongebob\": 14931, \"squarepants'\": 14932, 'disavowing': 14933, 'generals': 14934, \"'immunity'\": 14935, 'lasik': 14936, 'plumber': 14937, \"'murder\": 14938, \"craze'\": 14939, 'desensitized': 14940, 'orifice': 14941, 'groggy': 14942, \"antonio's\": 14943, 'dominant': 14944, \"'amnesty'\": 14945, 'myers': 14946, 'publishes': 14947, '1987': 14948, 'evolved': 14949, 'nastier': 14950, 'impregnates': 14951, 'beyhive': 14952, 'badpicturemonday': 14953, \"'terrible'\": 14954, \"'catastrophic'\": 14955, \"'special\": 14956, \"interests'\": 14957, 'derailed': 14958, 'setup': 14959, 'deported': 14960, 'sudoku': 14961, 'judy': 14962, 'calculation': 14963, \"fry's\": 14964, 'paddlers': 14965, 'nomads': 14966, 'captor': 14967, 'sens': 14968, 'inflicted': 14969, \"wound'\": 14970, \"writers'\": 14971, 'zoe': 14972, 'saldana': 14973, \"scrubs'\": 14974, \"battle'\": 14975, 'cucumber': 14976, \"offerman's\": 14977, 'satirical': 14978, 'brainstorming': 14979, 'partnerships': 14980, 'overheats': 14981, 'darrell': 14982, 'custom': 14983, 'smirks': 14984, \"dakota's\": 14985, 'translated': 14986, '2036': 14987, '50s': 14988, 'epitome': 14989, 'counties': 14990, 'brunette': 14991, 'bleached': 14992, 'schiavo': 14993, 'embarrassment': 14994, 'ceremoniously': 14995, 'countless': 14996, 'idina': 14997, 'menzel': 14998, \"'house'\": 14999, 'reassure': 15000, \"'champion\": 15001, 'cecily': 15002, \"'weekend\": 15003, \"handel's\": 15004, 'effortless': 15005, \"homos'\": 15006, \"'solo'\": 15007, \"'high\": 15008, \"romero's\": 15009, \"'twilight'\": 15010, 'simulator': 15011, 'spacing': 15012, 'utero': 15013, 'thinnest': 15014, 'accelerate': 15015, 'marv': 15016, 'bashes': 15017, 'priority': 15018, 'attainable': 15019, 'feek': 15020, 'preemptively': 15021, 'ulterior': 15022, 'vying': 15023, \"'first\": 15024, 'pronged': 15025, 'excused': 15026, 'badges': 15027, 'flynt': 15028, 'afd': 15029, 'globally': 15030, 'crane': 15031, 'jude': 15032, 'yearlong': 15033, 'coordination': 15034, 'cursed': 15035, 'mockument': 15036, 'standup': 15037, 'countdown': 15038, 'amok': 15039, 'lighten': 15040, 'feasibility': 15041, 'windsurfing': 15042, 'heinous': 15043, 'rhubarb': 15044, 'explainer': 15045, \"'saved'\": 15046, 'paddleboard': 15047, \"'midnight\": 15048, \"run'\": 15049, 'length': 15050, 'burger–eating': 15051, 'feelthebern': 15052, 'meredith': 15053, \"vieira's\": 15054, 'biomedical': 15055, 'mechanism': 15056, 'mondays': 15057, \"taste's\": 15058, 'slightest': 15059, 'mush': 15060, 'outbids': 15061, \"'symbol\": 15062, 'dalit': 15063, 'bikers': 15064, 'socioeconomic': 15065, 'bracket': 15066, 'geopolitical': 15067, 'chesapeake': 15068, 'mcclendon': 15069, 'batgirl': 15070, '2028': 15071, 'kavolius': 15072, 'possibilities': 15073, 'rarely': 15074, 'ventilator': 15075, 'impending': 15076, 'accountability': 15077, 'sanction': 15078, 'mytron': 15079, 'illuminati': 15080, 'overlord': 15081, '112': 15082, 'briefcases': 15083, \"'transformers\": 15084, '1939': 15085, 'nondisclosure': 15086, \"own'\": 15087, 'disadvantaged': 15088, 'unlicensed': 15089, 'boyband': 15090, '70s': 15091, 'arcade': 15092, 'iver': 15093, 'sterilized': 15094, 'cathedral': 15095, 'texters': 15096, 'bumping': 15097, \"5's\": 15098, 'relied': 15099, 'consistently': 15100, 'davenport': 15101, 'sbarro': 15102, 'deafening': 15103, 'transformations': 15104, 'npt': 15105, 'cockatiel': 15106, 'toasting': 15107, 'ketogenic': 15108, 'kool': 15109, 'rehabilitate': 15110, \"reinforcin'\": 15111, \"stereotypes'\": 15112, 'blotting': 15113, 'olin': 15114, 'decree': 15115, 'lerner': 15116, 'simulate': 15117, \"everything's\": 15118, \"'dotard'\": 15119, \"'rocketman'\": 15120, 'obscured': 15121, 'appetite': 15122, 'earthenware': 15123, 'gallant': 15124, 'shackled': 15125, 'mischa': 15126, 'barton': 15127, 'spiders': 15128, 'equipment': 15129, 'aroldis': 15130, 'shittier': 15131, 'peruvian': 15132, 'shockingly': 15133, 'knowledgeable': 15134, 'polite': 15135, \"despicable'\": 15136, \"'may\": 15137, 'microscopic': 15138, 'petri': 15139, 'possessive': 15140, 'incompetents': 15141, 'tugs': 15142, 'pant': 15143, 'grubhub': 15144, 'hitchhikes': 15145, 'jazzfest': 15146, 'immoral': 15147, 'shortsighted': 15148, \"daughter'\": 15149, 'recognizable': 15150, 'slumber': 15151, 'creepiest': 15152, 'chimps': 15153, \"'like'\": 15154, 'birtherism': 15155, \"'carol'\": 15156, 'tote': 15157, 'thwarting': 15158, 'nemesis': 15159, 'hugged': 15160, '2525': 15161, \"'never\": 15162, 'offenses': 15163, \"'everything\": 15164, 'therapies': 15165, 'yordano': 15166, 'ventura': 15167, 'marte': 15168, 'superfan': 15169, 'authorizing': 15170, 'chillingly': 15171, 'reappears': 15172, 'fajita': 15173, 'prejudicial': 15174, 'skimp': 15175, 'broadwell': 15176, 'goon': 15177, 'squads': 15178, 'primitive': 15179, 'hardware': 15180, 'scorpion': 15181, \"africans'\": 15182, 'spirituality': 15183, 'plumage': 15184, 'ar': 15185, '15s': 15186, 'outfox': 15187, 'certainty': 15188, 'illiteracy': 15189, 'copied': 15190, 'weasley': 15191, \"birthday'\": 15192, 'husky': 15193, 'doggone': 15194, 'anheuser': 15195, 'ingrown': 15196, 'pillaging': 15197, 'presumptive': 15198, \"o'casey's\": 15199, \"'skullfucking\": 15200, \"boyfriend'\": 15201, \"'failing\": 15202, \"'worst\": 15203, 'slop': 15204, \"carlson's\": 15205, 'duca': 15206, 'spec': 15207, 'belize': 15208, 'knowshon': 15209, 'moreno': 15210, 'redhead': 15211, 'nicholas': 15212, 'aphid': 15213, 'whooping': 15214, 'cranes': 15215, 'perching': 15216, \"'attention'\": 15217, 'snapper': 15218, 'oddball': 15219, 'expends': 15220, 'lugar': 15221, 'strained': 15222, 'hamstring': 15223, \"bored'\": 15224, 'mediocrity': 15225, 'earrings': 15226, 'tiles': 15227, 'spellbinding': 15228, '109': 15229, 'disagrees': 15230, 'strive': 15231, \"'twin\": 15232, \"peaks'\": 15233, 'erykah': 15234, 'badu': 15235, 'sully': 15236, 'strongman': 15237, 'grandpas': 15238, 'midwestern': 15239, \"cancer's\": 15240, 'immunotherapy': 15241, 'chirping': 15242, '7th': 15243, 'medically': 15244, 'watercolor': 15245, \"'peaked\": 15246, 'chiropractor': 15247, 'vertebrae': 15248, 'arete': 15249, 'weekends': 15250, 'transitional': 15251, \"'stand\": 15252, \"ground'\": 15253, 'schneider': 15254, 'techniques': 15255, 'establishing': 15256, \"'affluenza'\": 15257, 'tonya': 15258, 'eased': 15259, \"'education'\": 15260, 'boca': 15261, 'raton': 15262, 'evenhanded': 15263, 'spawns': 15264, 'devastate': 15265, 'graves': 15266, 'systematic': 15267, \"theorist's\": 15268, 'feelers': 15269, \"pakistan's\": 15270, 'unregulated': 15271, 'madrassa': 15272, 'sows': 15273, \"'jim\": 15274, \"crow'\": 15275, 'naval': 15276, 'chakra': 15277, \"'fix\": 15278, \"nics'\": 15279, \"'reciprocity'\": 15280, 'spermicide': 15281, 'mathis': 15282, 'mancini': 15283, 'anson': 15284, 'rmh': 15285, 'gopro': 15286, 'reddi': 15287, 'wip': 15288, 'boogied': 15289, '118': 15290, 'annotations': 15291, 'fraudulent': 15292, \"supported'\": 15293, 'kurrencykook': 15294, 'nominating': 15295, 'verma': 15296, \"hammersmith'\": 15297, 'motörhead': 15298, 'ire': 15299, 'tonto': 15300, \"cautious'\": 15301, 'ewok': 15302, 'albarn': 15303, 'denmark': 15304, 'lamelo': 15305, 'dapper': 15306, 'utters': 15307, \"'craft\": 15308, \"'restore'\": 15309, 'echoes': 15310, \"service'\": 15311, 'ms804': 15312, 'torrential': 15313, 'snowflake': 15314, 'equivalent': 15315, 'ophthalmologist': 15316, 'warlord': 15317, '43rd': 15318, \"fda's\": 15319, 'anticipating': 15320, 'retainer': 15321, \"lottery'\": 15322, 'posterity': 15323, 'weave': 15324, 'shaved': 15325, 'counterpart': 15326, 'humanities': 15327, 'fades': 15328, 'gervais': 15329, 'partum': 15330, 'pajamas': 15331, 'biel': 15332, \"wire'\": 15333, 'uplift': 15334, 'dazed': 15335, 'maga': 15336, 'probability': 15337, \"'tens\": 15338, \"millions'\": 15339, 'snafu': 15340, 'narrated': 15341, '401': 15342, 'pointy': 15343, 'underrated': 15344, 'paralympic': 15345, 'triathlon': 15346, 'boon': 15347, \"damore's\": 15348, 'impersonates': 15349, 'diets': 15350, 'airlift': 15351, 'rossdale': 15352, \"painful'\": 15353, 'timeless': 15354, 'staged': 15355, 'avert': 15356, \"'open\": 15357, \"sesame'\": 15358, 'depleting': 15359, 'resource': 15360, 'skyrockets': 15361, \"google'\": 15362, 'spank': 15363, 'breakdancing': 15364, 'malawi': 15365, 'unibeam': 15366, 'crews': 15367, 'maldives': 15368, 'underground': 15369, \"'broken\": 15370, 'omran': 15371, 'daqneesh': 15372, 'sustained': 15373, \"'compete'\": 15374, 'footlong': 15375, 'teriyaki': 15376, 'rubs': 15377, \"prisoner's\": 15378, 'prelims': 15379, 'cynics': 15380, 'realists': 15381, 'oncologist': 15382, 'priced': 15383, 'pennsylvanian': 15384, 'marty': 15385, 'plaything': 15386, \"celebrity's\": 15387, \"pigeon's\": 15388, 'accommodated': 15389, 'berating': 15390, 'kup': 15391, \"'spirit'\": 15392, 'paranoid': 15393, 'kinder': 15394, 'psyches': 15395, \"jews'\": 15396, 'covenant': 15397, 'captains': 15398, \"santa'\": 15399, 'disburses': 15400, 'multitasking': 15401, 'positively': 15402, 'plump': 15403, 'fuse': 15404, 'regulate': 15405, 'hurdle': 15406, 'ceremonially': 15407, 'prosecuting': 15408, 'defenders': 15409, 'proficient': 15410, 'owing': 15411, 'fatty': 15412, 'cracker–wise': 15413, \"'2016\": 15414, \"frontrunners'\": 15415, \"boom'\": 15416, 'prowling': 15417, 'pounce': 15418, 'pivot': 15419, \"'des\": 15420, 'moines': 15421, 'des': 15422, \"perate'\": 15423, \"'tomb\": 15424, \"raider'\": 15425, 'verifies': 15426, 'preconceived': 15427, 'inherently': 15428, 'halfheartedly': 15429, 'bogotá': 15430, 'measured': 15431, 'preclude': 15432, 'overreaction': 15433, 'conair': 15434, \"'fry\": 15435, \"q'\": 15436, \"transgenderism'\": 15437, 'obeying': 15438, \"cow's\": 15439, 'caitlin': 15440, \"cohn's\": 15441, 'hershey': 15442, 'tighten': 15443, 'fossils': 15444, 'locally': 15445, \"'smokin'\": 15446, 'navigated': 15447, 'sobriety': 15448, 'transplants': 15449, \"'nurse\": 15450, \"jackie'\": 15451, 'haaz': 15452, 'sleiman': 15453, \"'total\": 15454, 'painter': 15455, 'vile': 15456, 'evaluations': 15457, 'forensic': 15458, 'feeble': 15459, 'theirs': 15460, 'appreciated': 15461, 'lucidity': 15462, \"'fact\": 15463, 'khalifa': 15464, 'fetty': 15465, 'wap': 15466, 'omi': 15467, 'darius': 15468, 'rucker': 15469, 'gamecocks': 15470, 'slides': 15471, 'eisenhower': 15472, 'weakness': 15473, 'interactions': 15474, 'cams': 15475, \"svu'\": 15476, 'neurons': 15477, 'imperioli': 15478, 'vacationer': 15479, 'lanthanum': 15480, \"'chaotic'\": 15481, 'kayak': 15482, 'graciously': 15483, 'polished': 15484, 'neurologists': 15485, 'vanish': 15486, \"'fall\": 15487, \"fest'\": 15488, 'wagons': 15489, 'earnhardt': 15490, 'pliers': 15491, 'divisions': 15492, 'couscous': 15493, 'consist': 15494, 'twinkles': 15495, 'corrections': 15496, 'longhorn': 15497, 'beetles': 15498, 'boggling': 15499, 'purina': 15500, \"'slovenly\": 15501, \"feast'\": 15502, \"sharon's\": 15503, 'neurotransmitters': 15504, 'undernutrition': 15505, 'settings': 15506, \"wilder's\": 15507, 'pryor': 15508, 'skyla': 15509, 'morphed': 15510, 'renounces': 15511, 'dove': 15512, 'burnout': 15513, \"'homeland\": 15514, \"program'\": 15515, 'burkinis': 15516, \"'lion\": 15517, \"king'\": 15518, 'dusty': 15519, 'reign': 15520, 'excedrin': 15521, \"'lights\": 15522, 'mathematical': 15523, 'skill': 15524, 'admires': 15525, 'subdivisions': 15526, 'negotiation': 15527, 'bb': 15528, 'edging': 15529, \"'bathroom\": 15530, \"law'\": 15531, 'blowback': 15532, 'antelopeater': 15533, 'outweighed': 15534, 'lady—remember': 15535, '—as': 15536, \"staffer's\": 15537, '1990': 15538, 'bombie': 15539, \"'romeo\": 15540, \"juliet'\": 15541, 'prick': 15542, 'dachshund': 15543, 'swizz': 15544, 'beatz': 15545, 'kehlani': 15546, 'omnipotent': 15547, 'vitriol': 15548, \"o'malley's\": 15549, 'nunberg': 15550, \"meltdown'\": 15551, \"'beginning\": 15552, \"end'\": 15553, 'fanatically': 15554, 'pegg': 15555, 'invitations': 15556, 'ritz': 15557, 'purring': 15558, 'hater': 15559, 'sarajevo': 15560, 'virtue': 15561, 'exclusivity': 15562, 'counterterrorists': 15563, 'downplaying': 15564, 'damore': 15565, 'theological': 15566, 'operated': 15567, 'reeva': 15568, 'steenkamp': 15569, \"'rest\": 15570, 'conquer': 15571, 'gyrocopter': 15572, 'superficiality': 15573, \"'believes\": 15574, \"amnesty'\": 15575, 'arsenal': 15576, 'janine': 15577, 'molinari': 15578, \"secrets'\": 15579, 'anesthetizes': 15580, 'outbursts': 15581, 'gunshots': 15582, \"'port'\": 15583, \"'starboard'will\": 15584, \"'thunk'\": 15585, \"'moosh\": 15586, \"baroo'\": 15587, 'joked': 15588, 'cellphones': 15589, 'demitri': 15590, 'zack': 15591, 'famine': 15592, 'innocents': 15593, 'appreciably': 15594, \"yes'\": 15595, 'lg': 15596, 'hosted': 15597, 'espero': 15598, \"'next\": 15599, \"wins'\": 15600, 'pipelines': 15601, 'jil': 15602, 'millionsmarchsf': 15603, 'ty': 15604, \"'change\": 15605, \"minds'\": 15606, 'cracker': 15607, 'poke': 15608, \"raccoon's\": 15609, \"pluto's\": 15610, \"'heart'\": 15611, 'wasteland': 15612, \"actor's\": 15613, 'structurally': 15614, 'inert': 15615, 'sleeves': 15616, 'scrawlings': 15617, 'clearheaded': 15618, 'reactionist': 15619, 'morons': 15620, 'defining': 15621, 'mcommerce': 15622, \"jindal's\": 15623, 'benefited': 15624, 'brokaw': 15625, 'pervert': 15626, \"dog'\": 15627, 'tooting': 15628, 'premature': 15629, 'births': 15630, 'ferocious': 15631, 'davos': 15632, 'connectivity': 15633, 'influencing': 15634, 'sled': 15635, 'deign': 15636, 'kalamazoo': 15637, \"'parade\": 15638, \"polls'\": 15639, 'wondrous': 15640, '67': 15641, 'hyperbole': 15642, 'statistic': 15643, \"d'angelo\": 15644, \"russell's\": 15645, 'bribes': 15646, 'steph': 15647, 'gesturing': 15648, 'islamophobe': 15649, 'indiscriminately': 15650, \"'within\": 15651, 'dionne': 15652, 'unorthodox': 15653, 'guided': 15654, 'wales': 15655, 'brits': 15656, \"appeaser'\": 15657, 'gefloigel': 15658, 'phasing': 15659, 'trinity': 15660, 'balmain': 15661, \"clubs'\": 15662, \"'half\": 15663, 'hamburg': 15664, \"'mom\": 15665, \"bod'\": 15666, \"'indifferent'\": 15667, 'rescheduling': 15668, '00003': 15669, 'hyperrealistic': 15670, 'ferrante': 15671, \"guardian's\": 15672, \"'69\": 15673, 'charger': 15674, 'typhoon': 15675, 'meranti': 15676, 'lifespan': 15677, 'hentai': 15678, 'bombarded': 15679, 'analyzing': 15680, 'topeka': 15681, '“drain': 15682, 'swamp”': 15683, 'dilute': 15684, 'horizons': 15685, 'banged': 15686, 'mystified': 15687, 'uncommon': 15688, 'desertion': 15689, 'chapman': 15690, \"wait'\": 15691, 'lilith': 15692, 'hawkeye': 15693, 'hallucinatory': 15694, 'merch': 15695, 'msf': 15696, 'babysit': 15697, 'rethinks': 15698, 'bashed': 15699, 'rosh': 15700, 'hashasha': 15701, 'interreligious': 15702, \"sant'egidio\": 15703, 'cruises': 15704, 'sarcastically': 15705, 'afforded': 15706, \"'antarctica'\": 15707, 'contemporary': 15708, 'conventions': 15709, \"'egyptian\": 15710, \"stewart'\": 15711, 'bassem': 15712, 'youssef': 15713, \"kit'\": 15714, 'reminisces': 15715, 'intensifying': 15716, 'sweaters': 15717, 'voided': 15718, 'sgt': 15719, 'bowe': 15720, 'recaptured': 15721, 'genes': 15722, 'nugent': 15723, \"race's\": 15724, 'womenboycotttwitter': 15725, 'boneless': 15726, 'caterer': 15727, 'sudafed': 15728, 'sinus': 15729, 'congestion': 15730, 'derived': 15731, 'squirming': 15732, \"lot's\": 15733, 'stomping': 15734, 'twang': 15735, '113th': 15736, 'coloreds': 15737, 'googling': 15738, \"'tender\": 15739, \"neck'\": 15740, 'calais': 15741, \"'jungle'\": 15742, 'corroborate': 15743, 'riaa': 15744, 'assassins': 15745, \"'kick'\": 15746, \"'chop'\": 15747, \"'homosexualist'\": 15748, \"'eleanor\": 15749, \"rigby'\": 15750, 'redwood': 15751, 'lean': 15752, 'synagogues': 15753, 'congregants': 15754, \"track's\": 15755, '49ers': 15756, 'ot': 15757, 'chargers': 15758, \"siblings'\": 15759, 'preaching': 15760, 'undresses': 15761, \"'ahs\": 15762, 'fools': 15763, \"'laverne\": 15764, \"shirley'\": 15765, 'individuality': 15766, \"'ear\": 15767, \"ring'\": 15768, \"'deadly\": 15769, \"gaps'\": 15770, 'guardrail': 15771, 'wavering': 15772, 'kam': 15773, 'enda': 15774, 'gopers': 15775, 'trashed': 15776, 'painters': 15777, 'cassoulet': 15778, 'reeks': 15779, 'garth': 15780, 'kat': 15781, 'amnesty': 15782, \"'jedi'\": 15783, 'plural': 15784, 'plasticware': 15785, 'samples': 15786, \"'billie\": 15787, \"jean'\": 15788, 'boogie': 15789, 'bummed': 15790, 'southerners': 15791, 'struts': 15792, 'erection': 15793, 'distribute': 15794, 'classiest': 15795, 'mres': 15796, 'insert': 15797, 'engineered': 15798, 'cactus': 15799, 'washes': 15800, 'neill': 15801, 'blomkamp': 15802, \"'alien'\": 15803, 'deficiencies': 15804, 'infallible': 15805, 'deshawnda': 15806, 'experiments': 15807, 'muster': 15808, '140': 15809, \"'electability'\": 15810, 'awakes': 15811, 'ramps': 15812, \"'ethnic\": 15813, \"cleansing'\": 15814, 'gruff': 15815, 'adrift': 15816, 'lesley': 15817, 'kagen': 15818, 'tarmac': 15819, 'antidepressants': 15820, 'nana': 15821, 'samira': 15822, \"wiley's\": 15823, 'ineffectual': 15824, 'obligated': 15825, 'intergenerational': 15826, 'yearns': 15827, 'maasai': 15828, \"bbc's\": 15829, 'looseyia': 15830, 'ransack': 15831, \"'streaming'\": 15832, 'wonk': 15833, 'shtick': 15834, 'operation': 15835, 'altering': 15836, 'aspirations': 15837, \"grandparents'\": 15838, 'serenade': 15839, 'gilliam': 15840, 'defanged': 15841, 'settles': 15842, \"'tearless'\": 15843, \"doj's\": 15844, 'remoteness': 15845, 'bbc': 15846, \"kobe's\": 15847, \"'easy\": 15848, 'drywall': 15849, 'raffle': 15850, 'disgust': 15851, \"zimbabwe's\": 15852, 'libs': 15853, 'andreas': 15854, \"lubitz's\": 15855, 'stigmatize': 15856, 'ritter': 15857, \"'storm'\": 15858, 'endeavor': 15859, 'culminate': 15860, 'marbles': 15861, 'brennan': 15862, \"'folly'\": 15863, \"phillips'\": 15864, 'maersk': 15865, 'straps': 15866, 'steering': 15867, 'spins': 15868, 'transaction': 15869, 'dmv': 15870, 'exaggerated': 15871, 'harpooning': 15872, \"jason'\": 15873, 'gethard': 15874, 'enemies': 15875, 'untrue': 15876, 'ruben': 15877, 'studdard': 15878, 'wafts': 15879, \"lady's\": 15880, 'employ': 15881, 'lube': 15882, 'drumming': 15883, 'lifehouse': 15884, 'recuses': 15885, \"jameson's\": 15886, 'concoction': 15887, 'westernization': 15888, 'beatboxers': 15889, 'outing': 15890, 'unbearably': 15891, 'monstrously': 15892, 'lemmy': 15893, 'motorhead': 15894, 'kellyonmymind': 15895, 'gissendaner': 15896, \"'maya\": 15897, \"marty'\": 15898, 'trailed': 15899, 'skyeditor': 15900, 'speedy': 15901, 'knot': 15902, 'untangling': 15903, \"'measles\": 15904, 'haunts': 15905, \"'entertainment\": 15906, \"weekly'\": 15907, 'redo': 15908, \"'sorority\": 15909, \"row'\": 15910, 'fading': 15911, 'judi': 15912, 'dench': 15913, 'spit': 15914, 'sealy': 15915, 'puff': 15916, 'marlboro': 15917, 'minis': 15918, \"bachelorette's\": 15919, \"'whaboom'\": 15920, 'backwards': 15921, \"'lame\": 15922, \"duck'\": 15923, 'smithereens': 15924, 'dinizio': 15925, \"'melania'\": 15926, \"mermaid'\": 15927, 'congregations': 15928, \"ledecky's\": 15929, 'autograph': 15930, 'nester': 15931, \"'debasement\": 15932, 'grimmie': 15933, 'ftc': 15934, 'emotionless': 15935, \"wheelchair'\": 15936, 'beverly': 15937, 'whipple': 15938, 'flashy': 15939, 'lectern': 15940, 'tedx': 15941, \"leave'\": 15942, 'dozing': 15943, 'insincerity': 15944, \"salesman's\": 15945, 'hdtv': 15946, 'compatibility': 15947, 'romans': 15948, \"2020'\": 15949, 'stressful': 15950, \"butterworth's\": 15951, 'lsd': 15952, 'creditors': 15953, \"'god'\": 15954, 'towering': 15955, 'meaty': 15956, 'corned': 15957, \"'me'\": 15958, 'plundered': 15959, 'turks': 15960, \"'weed\": 15961, \"musical'\": 15962, 'queerness': 15963, 'sonoma': 15964, 'brink': 15965, 'defying': 15966, 'waymo': 15967, 'nerdiest': 15968, 'nratv': 15969, \"'deranged\": 15970, 'spatial': 15971, \"'liar\": 15972, \"tyler's\": 15973, 'flicking': 15974, 'depicts': 15975, 'globs': 15976, 'herd': 15977, 'molotov': 15978, 'mackenzie': 15979, 'alignment': 15980, '071': 15981, 'variables': 15982, 'mtm': 15983, 'productions': 15984, \"uday's\": 15985, 'nutsack': 15986, 'shocker': 15987, 'slushie': 15988, \"'punch'\": 15989, 'wield': 15990, \"reedus'\": 15991, \"'air'\": 15992, 'provocative': 15993, 'unaccountable': 15994, 'orchestra': 15995, 'substance': 15996, 'nicknamed': 15997, \"'d\": 15998, \"blaze'\": 15999, 'sifting': 16000, 'cadbury': 16001, 'creme': 16002, 'milkshakes': 16003, 'unsee': 16004, 'erik': 16005, 'estrada': 16006, 'uw': 16007, 'reprimands': 16008, 'blackface': 16009, '71': 16010, \"'sustainable\": 16011, \"energy'\": 16012, 'riverboat': 16013, 'horseracing': 16014, 'leaguers': 16015, 'dartmouth': 16016, 'owes': 16017, 'linking': 16018, 'rapaport': 16019, 'cruiser': 16020, 'scouring': 16021, 'tombs': 16022, 'reconnect': 16023, 'jointed': 16024, 'typecast': 16025, \"'munsters'\": 16026, \"'shell\": 16027, \"shocked'\": 16028, 'cnbc': 16029, 'engage': 16030, 'loudspeaker': 16031, 'holdout': 16032, 'fixer': 16033, 'nummier': 16034, 'sammy': 16035, 'biracial': 16036, \"'military\": 16037, \"option'\": 16038, 'cephas': 16039, 'harrington': 16040, \"dc's\": 16041, 'schoolyard': 16042, 'entrust': 16043, 'ceding': 16044, \"'fraggle\": 16045, 'kayaker': 16046, 'sager': 16047, \"stylin'\": 16048, 'organizes': 16049, \"unicorns'\": 16050, 'lineups': 16051, 'shredyourex': 16052, 'adelanto': 16053, 'vi': 16054, 'pittsburgh': 16055, 'bausch': 16056, 'lomb': 16057, 'aviator': 16058, 'contacts': 16059, 'watered': 16060, 'robins': 16061, 'bouillerie': 16062, '31st': 16063, 'undetectable': 16064, 'transmit': 16065, 'expressions': 16066, \"beyonce's\": 16067, 'corset': 16068, 'fads': 16069, 'treaters': 16070, 'storkholders': 16071, \"hampshire'\": 16072, 'buchanan': 16073, '165': 16074, 'mileage': 16075, 'deniers': 16076, 'mpaa': 16077, 'dough': 16078, 'sodomy': 16079, \"'attempt\": 16080, \"info'\": 16081, \"miranda's\": 16082, 'carcinogenic': 16083, \"'ahs'\": 16084, 'chihuahua': 16085, 'dane': 16086, 'endearing': 16087, 'dobby': 16088, 'algeria': 16089, \"'bridge\": 16090, \"ahead'\": 16091, 'uninvited': 16092, 'adjust': 16093, 'soaks': 16094, 'inconsiderate': 16095, \"'stay\": 16096, 'antebellum': 16097, \"flippin'\": 16098, 'madeline': 16099, 'recidivism': 16100, 'faulty': 16101, 'dysfunction': 16102, 'dominica': 16103, 'animator': 16104, 'fronts': 16105, 'moneymaking': 16106, '839': 16107, '947': 16108, 'stuyvesant': 16109, 'mis': 16110, 'pimped': 16111, 'aunties': 16112, \"'saving\": 16113, \"ryan'\": 16114, 'revived': 16115, 'amateurism': 16116, 'nitrogen': 16117, \"driver's\": 16118, 'fmr': 16119, 'zalmay': 16120, 'khalilzad': 16121, 'starship': 16122, 'knuckle': 16123, 'griswold': 16124, 'sportscast': 16125, 'registering': 16126, \"office'\": 16127, \"'bae'\": 16128, \"'freedom\": 16129, 'prevails': 16130, \"hate'\": 16131, 'supersized': 16132, \"tff's\": 16133, 'orzabal': 16134, 'dodgeball': 16135, 'upsets': 16136, 'embezzling': 16137, 'galecki': 16138, 'sorrow': 16139, 'licks': 16140, \"representative's\": 16141, 'schilling': 16142, \"'married\": 16143, \"children'\": 16144, 'zappa': 16145, 'quagmire': 16146, 'cleft': 16147, 'palate': 16148, 'consuls': 16149, 'dell': 16150, \"'witches'\": 16151, \"marks'\": 16152, 'gofundme': 16153, 'upbraidings': 16154, 'scoffs': 16155, \"rainbow'\": 16156, 'supplants': 16157, \"ward's\": 16158, \"'glow'\": 16159, 'shrek': 16160, 'unscientific': 16161, 'unethical': 16162, 'awkwardness': 16163, 'angst': 16164, 'aikido': 16165, \"isis'\": 16166, 'tinkering': 16167, 'suppressed': 16168, \"channing's\": 16169, 'forgave': 16170, \"moyers'\": 16171, 'viking': 16172, 'numbness': 16173, \"'women's\": 16174, \"issue'\": 16175, 'eqypt': 16176, 'enhancement': 16177, 'budapest': 16178, 'soros': 16179, \"'teen'\": 16180, \"'chewbacca\": 16181, \"mom'\": 16182, 'curled': 16183, 'dascha': 16184, 'polanco': 16185, 'leann': 16186, 'rimes': 16187, 'unheeded': 16188, 'jeffreyton': 16189, \"'toxic\": 16190, \"fragile'\": 16191, 'sacrificed': 16192, \"nothing'\": 16193, 'nien': 16194, 'nunb': 16195, 'waged': 16196, \"fiancé's\": 16197, 'treasured': 16198, 'collects': 16199, \"'human\": 16200, \"fly'\": 16201, \"'symphony\": 16202, 'saldiva': 16203, 'scourge': 16204, 'pilgrims': 16205, 'sailed': 16206, 'mcdreamy': 16207, 'caved': 16208, \"nassar's\": 16209, 'rightful': 16210, 'nidetch': 16211, \"'kimmy\": 16212, \"schmidt'\": 16213, 'tituss': 16214, 'burgess': 16215, \"'peeno\": 16216, \"noir'\": 16217, 'ode': 16218, \"'liberal\": 16219, \"media'\": 16220, \"football'\": 16221, 'gloria': 16222, 'steinem': 16223, 'baggage': 16224, 'vaccinations': 16225, 'munn': 16226, 'louie': 16227, \"alcoholic's\": 16228, 'ensuring': 16229, 'whatsapp': 16230, 'uaw': 16231, 'fca': 16232, \"'hour\": 16233, \"hour'\": 16234, 'tch': 16235, \"lebowski'\": 16236, \"manson's\": 16237, \"poehler's\": 16238, 'shotguns': 16239, \"'mulan'\": 16240, 'azealia': 16241, 'presented': 16242, \"chemical's\": 16243, 'liveris': 16244, 'optioned': 16245, 'coliseum': 16246, 'banado': 16247, 'norte': 16248, 'slum': 16249, \"blaine's\": 16250, 'painfully': 16251, \"'deserve'\": 16252, 'jlaw': 16253, 'artie': 16254, 'lange': 16255, \"clerk's\": 16256, 'handmade': 16257, 'minus': 16258, 'housekeeping': 16259, \"duvernay's\": 16260, 'textured': 16261, 'nappy': 16262, 'perminators': 16263, 'heartburn': 16264, 'tic': 16265, 'tac': 16266, 'punching': 16267, 'ambulance': 16268, \"18'\": 16269, 'overjoyed': 16270, 'mcmuffins': 16271, 'turkeys': 16272, 'thang': 16273, 'strang': 16274, \"'kenyan\": 16275, \"creampuff'\": 16276, \"project'\": 16277, 'jb': 16278, 'smoove': 16279, \"'dallas'\": 16280, 'priestley': 16281, 'shannen': 16282, \"doherty's\": 16283, 'jumpshot': 16284, 'folk': 16285, 'everyman': 16286, 'somalian': 16287, 'overtired': 16288, '398': 16289, 'minidress': 16290, 'teamlogan': 16291, 'bod': 16292, 'heifer': 16293, 'horowitz': 16294, 'contort': 16295, 'tortured': 16296, 'uganda': 16297, 'weightlifting': 16298, \"right's\": 16299, 'nipsey': 16300, 'couplets': 16301, 'pushier': 16302, 'museveni': 16303, \"jarrel's\": 16304, \"'william'\": 16305, 'chicagoans': 16306, 'showerhead': 16307, 'giggling': 16308, \"'humiliated'\": 16309, \"'seductive'\": 16310, \"meaning'\": 16311, 'slums': 16312, 'unsliced': 16313, 'negate': 16314, 'guarding': 16315, 'chattanooga': 16316, 'll': 16317, 'rollerball': 16318, 'deletes': 16319, 'prostate': 16320, 'louisville': 16321, 'bolivia': 16322, 'cursive': 16323, 'reinvested': 16324, 'blackjack': 16325, \"'grand\": 16326, \"v'\": 16327, 'missions': 16328, 'tutoring': 16329, 'smuggler': 16330, 'minson': 16331, 'sanctuaries': 16332, \"'straight\": 16333, \"compton'\": 16334, 'tougher': 16335, 'exemptions': 16336, 'scrubs': 16337, \"'chinaperson'\": 16338, 'preservation': 16339, \"rooney's\": 16340, 'upkeep': 16341, 'downstairs': 16342, 'preschooler': 16343, 'mugshot': 16344, 'manufacture': 16345, 'reams': 16346, \"rigged'\": 16347, 'cialis': 16348, 'eclair': 16349, \"nutritionist's\": 16350, 'transylvania': 16351, 'expertly': 16352, 'deciphering': 16353, 'mending': 16354, \"quintanilla's\": 16355, 'fragile': 16356, 'ladykiller': 16357, \"scott's\": 16358, 'misdirection': 16359, 'ceremonies': 16360, 'wrested': 16361, 'cüneyt': 16362, 'arkin': 16363, 'thankfully': 16364, 'copying': 16365, 'telecast': 16366, 'scoot': 16367, 'puddles': 16368, 'urkel': 16369, 'dion': 16370, 'kerfuffle': 16371, 'undercuts': 16372, 'infidelities': 16373, 'bobsledder': 16374, 'nadezhda': 16375, 'sergeeva': 16376, 'marqkria': 16377, '260': 16378, \"'piping\": 16379, 'thrive': 16380, 'meow': 16381, 'witnessed': 16382, 'amanda': 16383, 'peet': 16384, \"hug'\": 16385, \"pacs'\": 16386, \"'sexist\": 16387, \"smear'\": 16388, '53': 16389, 'malt': 16390, 'homies': 16391, \"office's\": 16392, 'foil': 16393, 'stoplight': 16394, \"hampshire's\": 16395, 'underdraft': 16396, 'underrepresented': 16397, 'unaffordable': 16398, \"destiny's\": 16399, \"'feminist\": 16400, \"icons'\": 16401, \"cranston's\": 16402, 'morph': 16403, 'farmworker': 16404, 'cone': 16405, 'infertile': 16406, 'donovan': 16407, 'mitchell': 16408, 'footwear': 16409, 'axel': 16410, \"spice's\": 16411, 'stuntman': 16412, \"shop's\": 16413, 'awfully': 16414, 'uncaged': 16415, 'angers': 16416, 'belgian': 16417, 'massages': 16418, 'ghoulish': 16419, 'deplete': 16420, 'hydrogen': 16421, '2070': 16422, 'cushions': 16423, 'reassured': 16424, 'unreasonable': 16425, \"'cupcake\": 16426, \"burglar'\": 16427, 'frosting': 16428, \"false'\": 16429, 'puberty': 16430, \"'connected'\": 16431, \"'stars\": 16432, 'fright': 16433, 'blogs': 16434, 'continental': 16435, 'meara': 16436, 'mikhail': 16437, 'gorbachev': 16438, \"'into\": 16439, 'blessings': 16440, 'evident': 16441, 'fests': 16442, 'endeavour': 16443, 'weirded': 16444, 'preys': 16445, \"'ideas'\": 16446, 'tollbooth': 16447, 'extrovert': 16448, 'ganging': 16449, 'misunderstood': 16450, \"bloods'\": 16451, 'housed': 16452, 'turing': 16453, 'bassett': 16454, \"'whitney\": 16455, \"houston'\": 16456, 'iris': 16457, 'apfel': 16458, 'emptied': 16459, 'grind': 16460, 'cannavale': 16461, 'furrowed': 16462, 'brow': 16463, 'radicalized': 16464, 'mandates': 16465, \"'implicit\": 16466, \"bias'\": 16467, \"hair'\": 16468, 'allure': 16469, 'recanvass': 16470, 'sauced': 16471, 'spokesbeast': 16472, 'indigenous': 16473, 'chromat': 16474, 'shriver': 16475, 'meloni': 16476, 'nickels': 16477, 'glosses': 16478, 'hinged': 16479, 'foreigners': 16480, 'pynk': 16481, 'defendant': 16482, 'marriott': 16483, '3m': 16484, 'foam': 16485, 'plugs': 16486, 'empathize': 16487, 'loot': 16488, 'majestically': 16489, 'billowing': 16490, 'defunded': 16491, 'caption': 16492, 'punctuation': 16493, \"'facts'\": 16494, 'rainstorms': 16495, 'pummel': 16496, 'eden': 16497, 'baylee': 16498, 'secrecy': 16499, 'forbearance': 16500, 'boudoir': 16501, 'bulletproof': 16502, 'clot': 16503, 'dislodges': 16504, 'femoral': 16505, 'artery': 16506, 'norah': 16507, \"'fawlty\": 16508, \"towers'\": 16509, 'lime': 16510, 'arsons': 16511, 'costly': 16512, 'cakeshop': 16513, 'tampers': 16514, 'menaced': 16515, 'willam': 16516, 'seeming': 16517, \"rembrandt's\": 16518, 'defeating': 16519, 'lac': 16520, 'megantic': 16521, 'snacker': 16522, 'wozniak': 16523, \"tales'\": 16524, \"'depot\": 16525, 'sushi': 16526, 'yourselves': 16527, 'assimilate': 16528, \"'river\": 16529, \"monsters'\": 16530, \"washington's\": 16531, 'lobbies': 16532, \"'follow\": 16533, 'sullen': 16534, 'scrolls': 16535, 'labute': 16536, 'conflicting': 16537, 'erlich': 16538, \"'silicon\": 16539, \"valley'\": 16540, \"orangutan's\": 16541, 'lager': 16542, 'tavern': 16543, 'flung': 16544, 'hooking': 16545, 'senility': 16546, 'regretful': 16547, 'hayes': 16548, 'astana': 16549, 'obstacles': 16550, 'popeyes': 16551, 'curried': 16552, 'odorless': 16553, 'escalator': 16554, \"dangerous'\": 16555, 'whitewashing': 16556, 'scampis': 16557, 'aikman': 16558, \"'knock\": 16559, \"wood'\": 16560, 'criers': 16561, 'jettisons': 16562, 'airlock': 16563, 'smartwatch': 16564, 'insulting': 16565, 'quash': 16566, 'unlawful': 16567, 'convincingly': 16568, 'fatties': 16569, 'worsens': 16570, \"canby's\": 16571, 'overlong': 16572, 'paced': 16573, 'commenter': 16574, \"'jumbo'\": 16575, \"ahmed's\": 16576, 'elks': 16577, 'quota': 16578, 'unfortunate': 16579, 'rinpoche': 16580, 'teetering': 16581, \"latinos'\": 16582, \"'coco'\": 16583, \"'70s\": 16584, 'solvents': 16585, \"crown'\": 16586, 'slaughters': 16587, \"innuendo'\": 16588, \"'indoor\": 16589, \"boys'\": 16590, 'pollen': 16591, \"ssy'\": 16592, 'snail': 16593, 'wished': 16594, 'attachment': 16595, 'outlived': 16596, \"'91\": 16597, 'accord': 16598, 'raza': 16599, \"'strength\": 16600, 'carnegie': 16601, 'christensen': 16602, 'maness': 16603, 'entomologist': 16604, \"crazy'\": 16605, 'brewers': 16606, \"'sh\": 16607, 'stump': 16608, \"decade'\": 16609, \"nam's\": 16610, 'amc': 16611, 'statham': 16612, 'secondhand': 16613, 'maturity': 16614, \"'secretary\": 16615, 'ringing': 16616, 'paroled': 16617, 'hallmarks': 16618, 'fallujah': 16619, \"egypt's\": 16620, 'canard': 16621, 'centric': 16622, 'arresting': 16623, 'poorest': 16624, 'evaluating': 16625, 'interim': 16626, 'stacey': 16627, \"'clueless'\": 16628, 'buttoned': 16629, 'breathtakingly': 16630, \"endorsement'\": 16631, 'subwoofer': 16632, \"who'\": 16633, \"souls'\": 16634, 'homecoming': 16635, 'caffeine': 16636, \"officials'\": 16637, 'bechdel': 16638, \"quest's\": 16639, 'phife': 16640, 'dawg': 16641, 'passively': 16642, 'bain': 16643, 'fordham': 16644, \"center'\": 16645, \"guru'\": 16646, \"airplane's\": 16647, 'resolute': 16648, 'reverberates': 16649, 'muppet': 16650, 'birkenstocks': 16651, 'necrotic': 16652, \"cadbury's\": 16653, \"'kick\": 16654, \"shelves'\": 16655, \"rey's\": 16656, \"'honeymoon'\": 16657, \"hill'\": 16658, 'jana': 16659, 'kramer': 16660, 'tantaros': 16661, 'considerations': 16662, 'malta': 16663, 'tipping': 16664, 'alvah': 16665, 'roebuck': 16666, \"sears'\": 16667, 'collisions': 16668, 'zionist': 16669, 'rabbinic': 16670, 'abstention': 16671, 'vitamin': 16672, 'lbj': 16673, 'exhumed': 16674, 'impropriety': 16675, \"'jewmerica'\": 16676, 'cardiomyopathy': 16677, 'hailing': 16678, 'heartstrings': 16679, 'timeline': 16680, 'cokes': 16681, 'luggage': 16682, 'esa': 16683, 'hpps': 16684, 'uneven': 16685, 'evacuation': 16686, 'overboard': 16687, \"'muscle\": 16688, \"fitness'\": 16689, 'vulture': 16690, 'convene': 16691, 'jena': 16692, 'malone': 16693, \"czech's\": 16694, 'reassigned': 16695, 'dukes': 16696, 'hazzard': 16697, 'mace': 16698, 'melanoma': 16699, 'obtaining': 16700, 'clarified': 16701, 'encoded': 16702, 'subsequent': 16703, 'profumi': 16704, 'di': 16705, 'claude': 16706, 'brinegar': 16707, 'footy': 16708, 'mcfooty': 16709, 'attenborough': 16710, 'courtship': 16711, '1981': 16712, \"police'\": 16713, 'pallid': 16714, 'articles': 16715, 'yatseniuk': 16716, \"'person\": 16717, \"'glee'\": 16718, 'homeboys': 16719, 'outer': 16720, 'intricacies': 16721, 'lebanese': 16722, 'geodes': 16723, 'beachfront': 16724, 'incidence': 16725, 'involving': 16726, 'beams': 16727, 'franks': 16728, 'hotdogs': 16729, 'anal': 16730, 'laborer': 16731, 'motorcyclists': 16732, 'welterweight': 16733, 'sustaining': 16734, 'bout': 16735, \"upsets'\": 16736, \"'halo\": 16737, 'multiplayer': 16738, 'bisexual': 16739, 'pansexual': 16740, 'crisper': 16741, \"buffet's\": 16742, 'shrouded': 16743, 'foulest': 16744, 'coronation': 16745, 'escalate': 16746, 'negro': 16747, '1939–1940': 16748, 'freakonomist': 16749, 'ge': 16750, 'weightlifters': 16751, 'plop': 16752, 'fabulous': 16753, \"'lucky\": 16754, 'rash': 16755, 'relapse': 16756, 'syria—although': 16757, \"incredible'\": 16758, \"bartender's\": 16759, 'karzai': 16760, 'suitors': 16761, 'contributor': 16762, 'gulp': 16763, \"farley's\": 16764, 'connery': 16765, 'blacker': 16766, 'mayfield': 16767, 'embellished': 16768, 'lumbersexual': 16769, 'savoring': 16770, 'mccrazy': 16771, 'coco': 16772, 'flounder': 16773, \"field'\": 16774, 'jumper': 16775, \"indonesia's\": 16776, 'mails': 16777, 'nes': 16778, \"care'\": 16779, \"soldier's\": 16780, 'tampax': 16781, \"'serious'\": 16782, 'brushing': 16783, 'epcot': 16784, 'trucker': 16785, 'cb': 16786, 'gradually': 16787, 'zagat': 16788, \"boring'\": 16789, 'recurring': 16790, 'zhang': 16791, 'ziyi': 16792, \"'alleged'\": 16793, '400th': 16794, 'differentiation': 16795, 'rediscovering': 16796, 'hijabista': 16797, 'burqa': 16798, 'regulators': 16799, 'avenatti': 16800, 'overshoots': 16801, 'internets': 16802, 'dern': 16803, 'girthy': 16804, \"stepmom's\": 16805, 'cheech': 16806, \"smokin'\": 16807, 'runaways': 16808, 'neglect': 16809, \"granny's\": 16810, 'loveless': 16811, 'offset': 16812, 'serif': 16813, 'whiz': 16814, 'balances': 16815, 'officemax': 16816, 'virginity': 16817, \"'phone\": 16818, 'motivating': 16819, 'diorama': 16820, 'mediation': 16821, \"'silenced'\": 16822, 'honker': 16823, \"forecaster's\": 16824, 'spooks': 16825, 'rancher': 16826, 'rosenstein': 16827, 'lulled': 16828, 'rumbling': 16829, 'efficient': 16830, 'droege': 16831, 'sloshed': 16832, 'wipers': 16833, 'medicalert': 16834, 'seething': 16835, \"'rain\": 16836, 'shelters': 16837, 'cradling': 16838, 'souvenir': 16839, '161': 16840, 'powder': 16841, 'confounds': 16842, 'bewigged': 16843, 'outstanding': 16844, 'penelope': 16845, 'greetings': 16846, 'cutback': 16847, 'sorely': 16848, 'benchmark': 16849, \"'significant\": 16850, \"progress'\": 16851, \"ferrera's\": 16852, 'lovell': 16853, \"'finish\": 16854, \"phil's\": 16855, 'pelléas': 16856, 'mélisande': 16857, 'scoop': 16858, 'skinned': 16859, 'gett': 16860, 'viviane': 16861, 'amsalem': 16862, 'instincts': 16863, 'activate': 16864, 'tamblyn': 16865, \"cover's\": 16866, \"weapons'\": 16867, \"scandal's\": 16868, 'suitor': 16869, 'glimpses': 16870, 'constable': 16871, 'eviction': 16872, \"'pink'\": 16873, \"'stink'\": 16874, 'huddling': 16875, 'cusp': 16876, 'giveaway': 16877, 'decompose': 16878, 'foggy': 16879, 'cobra': 16880, 'fits': 16881, 'zappos': 16882, 'onscreen': 16883, 'richly': 16884, 'trumped': 16885, \"coach's\": 16886, 'vocalist': 16887, 'backdrop': 16888, 'formation': 16889, 'emergencies': 16890, 'ergonomic': 16891, 'lumbar': 16892, 'nielsens': 16893, 'snowboard': 16894, 'djimon': 16895, 'hounsou': 16896, \"monteith's\": 16897, 'fuzzy': 16898, 'flandemic': 16899, 'stalemate': 16900, 'arrogance': 16901, 'voiceless': 16902, 'steady': 16903, 'ridiculousexcusestostayhome': 16904, 'lace': 16905, 'insoles': 16906, \"'epidemic\": 16907, \"violence'\": 16908, 'shooed': 16909, 'waterslide': 16910, 'schedules': 16911, 'reopened': 16912, 'awesomely': 16913, \"'unsafe'\": 16914, '1st': 16915, 'armored': 16916, 'madcap': 16917, 'zany': 16918, 'hijinks': 16919, 'managers': 16920, 'colon': 16921, 'foreheads': 16922, 'splurge': 16923, 'dod': 16924, 'myspace': 16925, 'notifications': 16926, 'paragliding': 16927, 'microbrewer': 16928, 'chastain': 16929, 'upn': 16930, 'offbeat': 16931, \"'personal\": 16932, \"'draining\": 16933, \"swamp'\": 16934, 'battering': 16935, 'ram': 16936, \"ts'\": 16937, 'exiting': 16938, \"buzzfeed's\": 16939, 'safes': 16940, \"death's\": 16941, 'brawls': 16942, \"'porky's'\": 16943, 'barr': 16944, 'twitch': 16945, 'streamer': 16946, 'chamomile': 16947, 'starry': 16948, 'gershwin': 16949, 'philadelphians': 16950, \"'home\": 16951, \"improvement'\": 16952, 'underused': 16953, 'tracee': 16954, 'playfully': 16955, 'stageplay': 16956, 'unconvincingly': 16957, 'hobnobbing': 16958, \"'givers'\": 16959, 'gamson': 16960, 'alaina': 16961, 'percival': 16962, 'pommel': 16963, 'kindergartens': 16964, 'tronc': 16965, 'levinsohn': 16966, \"'frat\": 16967, 'bernice': 16968, \"'troubling\": 16969, \"humanity'\": 16970, \"'wings'\": 16971, 'spitting': 16972, 'carli': 16973, 'splurged': 16974, \"history'\": 16975, 'rendering': 16976, 'congo': 16977, \"we'd\": 16978, \"'col\": 16979, 'lustful': 16980, 'sensually': 16981, 'unhook': 16982, 'clasp': 16983, 'dempsey': 16984, 'jurgen': 16985, 'klinsmann': 16986, 'pressures': 16987, 'comfortably': 16988, 'tangled': 16989, \"seymour's\": 16990, 'unicyclist': 16991, 'romper': 16992, 'ankles': 16993, 'shannon': 16994, 'kwanzaa': 16995, 'disappoint': 16996, 'brittle': 16997, 'jewess': 16998, 'ci': 16999, 'mains': 17000, 'superpowers': 17001, 'legalized': 17002, 'shaming': 17003, 'boosting': 17004, \"'peasant\": 17005, 'initial': 17006, 'chum': 17007, 'charmin': 17008, 'disposable': 17009, 'benetton': 17010, 'miraculously': 17011, 'rubble': 17012, 'reedus': 17013, 'suppression': 17014, 'remission': 17015, 'android': 17016, 'forearm': 17017, 'circuitry': 17018, \"cash's\": 17019, \"'hurt'\": 17020, 'mummenschanz': 17021, 'patrols': 17022, 'administer': 17023, 'councilwomen': 17024, 'undercut': 17025, 'widened': 17026, \"'teacher\": 17027, 'superiors': 17028, \"'won't\": 17029, 'brookings': 17030, 'tanker': 17031, 'aground': 17032, 'sunbathing': 17033, 'riotous': 17034, 'quadruples': 17035, 'dissenting': 17036, 'transitions': 17037, 'raytheon': 17038, 'ungrateful': 17039, \"'bet\": 17040, \"honors'\": 17041, 'romero': 17042, 'clarksburg': 17043, 'blotter': 17044, 'superstores': 17045, 'megamalls': 17046, 'predisposed': 17047, 'liberian': 17048, 'dignitary': 17049, \"liberty'\": 17050, 'pseudonym': 17051, \"soccer's\": 17052, 'clipping': 17053, 'sonia': 17054, 'ronco': 17055, 'exposer': 17056, 'amaranth': 17057, 'norris': 17058, 'insured': 17059, \"warpaint's\": 17060, 'wayman': 17061, \"'vivid'\": 17062, 'inevitably': 17063, 'tenured': 17064, 'sugary': 17065, 'flyover': 17066, 'underprotective': 17067, 'monae': 17068, \"'none\": 17069, 'garcía': 17070, 'márquez': 17071, 'spittle': 17072, 'cometh': 17073, 'surrender': 17074, 'begged': 17075, \"'firm\": 17076, \"response'\": 17077, \"'body\": 17078, \"slam'\": 17079, 'gianforte': 17080, 'scorching': 17081, \"lebanon's\": 17082, 'naturist': 17083, 'boner': 17084, 'abramson': 17085, \"apartment's\": 17086, 'brazile': 17087, 'rodham': 17088, 'axes': 17089, 'greenhouse': 17090, 'gases': 17091, 'tilsen': 17092, 'reservation': 17093, 'whacker': 17094, 'milling': 17095, 'influences': 17096, \"terrorist's\": 17097, 'bosnian': 17098, 'unannounced': 17099, 'pitcher': 17100, 'kritzer': 17101, 'teal': 17102, 'wicks': 17103, 'statistical': 17104, 'trapeze': 17105, \"'justifiable'\": 17106, 'stepmom': 17107, \"biomom's\": 17108, 'vibe': 17109, 'spiel': 17110, 'twiztid': 17111, 'bret': 17112, 'baier': 17113, 'derelict': 17114, 'demolition': 17115, 'embed': 17116, 'principle': 17117, 'effectiveness': 17118, 'bracketological': 17119, 'examination': 17120, 'copeland': 17121, \"erivo's\": 17122, 'existential': 17123, \"'arrogant'\": 17124, \"'uppity'\": 17125, 'buzzed': 17126, 'prejudiced': 17127, 'seniority': 17128, 'profession': 17129, 'smithereen': 17130, 'of\\xa0color': 17131, 'rodrigo': 17132, 'snoring': 17133, 'slit': 17134, 'dispenser': 17135, 'hauntedness': 17136, 'totalled': 17137, 'invisibility': 17138, 'shovels': 17139, 'sweetens': 17140, \"tenant's\": 17141, 'circuit': 17142, 'grandbaby': 17143, 'legoland': 17144, 'fitbit': 17145, 'inactive': 17146, \"'aspershirt'\": 17147, 'relieves': 17148, 'townsfolk': 17149, 'incarnation': 17150, 'circles': 17151, \"stunt'\": 17152, 'indonesia': 17153, 'curdled': 17154, 'liquid': 17155, 'statehood': 17156, 'surrogates': 17157, 'linger': 17158, 'enhanced': 17159, 'garrison': 17160, 'keillor': 17161, 'raiser': 17162, 'baftas': 17163, 'dhaka': 17164, 'expat': 17165, 'dodged': 17166, 'crusades': 17167, 'cutbacks': 17168, \"'hocus\": 17169, \"pocus'\": 17170, 'toppling': 17171, 'subjective': 17172, \"'stealing\": 17173, 'mounted': 17174, 'permit': 17175, 'arquette': 17176, \"'fought'\": 17177, 'osha': 17178, 'refute': 17179, \"'russiagate'\": 17180, 'adopting': 17181, 'lewinsky': 17182, 'trifecta': 17183, 'ineffectually': 17184, \"kurds'\": 17185, 'durbin': 17186, 'scalper': 17187, \"'cuddle\": 17188, \"weather'\": 17189, 'fareed': 17190, 'zakaria': 17191, 'auctioning': 17192, \"'dumpster\": 17193, 'raft': 17194, 'companion': 17195, \"bud'\": 17196, 'reclaims': 17197, 'fanciful': 17198, 'wherever': 17199, 'flasher': 17200, 'verify': 17201, 'appropriate': 17202, 'gallop': 17203, 'mediating': 17204, 'heirs': 17205, 'broccoli': 17206, 'shrieks': 17207, 'transcendent': 17208, 'breadwinner': 17209, 'mommies': 17210, 'cremation': 17211, \"'employees\": 17212, \"hands'\": 17213, 'alyson': 17214, 'buster': 17215, \"bluth's\": 17216, '1822': 17217, \"midwife's\": 17218, \"promise'\": 17219, 'multidisciplinary': 17220, \"larson's\": 17221, \"'trainwreck'\": 17222, \"congressman's\": 17223, 'obstructionism': 17224, 'dams': 17225, \"'grabbed'\": 17226, 'vax': 17227, 'legos': 17228, 'flamethrowers': 17229, 'norad': 17230, 'femstat': 17231, 'slashes': 17232, 'walkable': 17233, 'richer': 17234, 'circumcised': 17235, 'shamefaced': 17236, 'zips': 17237, 'truckers': 17238, 'ged': 17239, 'laundering': 17240, 'epidemics': 17241, 'craziest': 17242, 'goliath': 17243, 'inhibitions': 17244, \"'prelude\": 17245, \"internment'\": 17246, 'underworld': 17247, 'incubus': 17248, 'alliances': 17249, 'arranging': 17250, \"grandchildren's\": 17251, 'trillionaire': 17252, \"pbs'\": 17253, \"selfridge'\": 17254, 'romantically': 17255, 'californian': 17256, 'butterworth': 17257, 'slaps': 17258, 'rinky': 17259, 'dink': 17260, \"'wondersplint'\": 17261, 'fractures': 17262, 'fuller': 17263, 'postmodern': 17264, 'spiritually': 17265, 'boast': 17266, 'tcby': 17267, 'freshness': 17268, \"'defrosted\": 17269, 'notebooks': 17270, 'glistening': 17271, 'charting': 17272, 'cardiovascular': 17273, \"sons'\": 17274, 'panetta': 17275, \"chan's\": 17276, \"xxs'\": 17277, 'aumf': 17278, 'reconcile': 17279, 'comrie': 17280, \"ali's\": 17281, 'hurl': 17282, 'browsing': 17283, 'dolly': 17284, 'parton': 17285, 'watterson': 17286, \"'calvin\": 17287, \"hobbes'\": 17288, 'batter': 17289, 'airlifts': 17290, \"strength'\": 17291, 'snowboarders': 17292, \"'sunglasses\": 17293, 'recited': 17294, 'decayed': 17295, 'badger': 17296, 'mantel': 17297, 'limp': 17298, 'inhale': 17299, \"grill'\": 17300, 'axing': 17301, 'philandering': 17302, 'manor': 17303, 'uma': 17304, 'thurman': 17305, \"'biggest\": 17306, 'sri': 17307, 'srinivasan': 17308, 'pledging': 17309, 'jarvis': 17310, 'canoeing': 17311, 'ugliness': 17312, \"fire's\": 17313, '350th': 17314, 'represented': 17315, \"blacklist'\": 17316, 'houghton': 17317, 'mifflin': 17318, 'harcourt': 17319, 'dumbasses': 17320, 'bahama': 17321, 'practical': 17322, 'arrivals': 17323, 'assumes': 17324, 'stadiums': 17325, \"agent's\": 17326, \"'breitbart'\": 17327, 'fork': 17328, 'tine': 17329, 'mouthfuls': 17330, \"'highly\": 17331, \"inappropriate'\": 17332, 'evenings': 17333, 'repeats': 17334, 'roseburg': 17335, 'noteworthy': 17336, 'beatifies': 17337, 'sportswriter': 17338, 'deception': 17339, 'reinforcing': 17340, \"carrey's\": 17341, \"humbling'\": 17342, \"commercial's\": 17343, 'romanticized': 17344, 'calle': 17345, 'misspeaks': 17346, 'takeaways': 17347, 'negotiators': 17348, 'trivial': 17349, \"ramsay's\": 17350, \"mulvaney's\": 17351, 'atari': 17352, 'peeves': 17353, 'monoxide': 17354, 'procedures': 17355, \"candy's\": 17356, 'aftertaste': 17357, \"cher's\": 17358, \"'believe'\": 17359, 'faintly': 17360, 'emancipation': 17361, 'proclamation': 17362, 'fetid': 17363, 'abbi': 17364, 'influencers': 17365, \"'date\": 17366, 'raps': 17367, \"'jeopardy'\": 17368, 'witness': 17369, 'unhealthily': 17370, 'repressing': 17371, 'someplace': 17372, 'latinas': 17373, 'geller': 17374, 'bum': 17375, 'botanical': 17376, 'crossword': 17377, 'carpenter': 17378, 'walletless': 17379, 'bedpost': 17380, 'loaves': 17381, \"'trying\": 17382, 'bunt': 17383, \"'predator\": 17384, \"chief'\": 17385, 'misled': 17386, 'competitors': 17387, 'chromecast': 17388, 'shondaland': 17389, 'splits': 17390, 'wissam': 17391, 'mana': 17392, \"'un\": 17393, \"tired'\": 17394, 'ep': 17395, 'megadrought': 17396, 'backlog': 17397, 'propaganda': 17398, \"'basic\": 17399, \"bargain'\": 17400, 'fucks': 17401, 'necessity': 17402, \"'wet\": 17403, 'ca': 17404, \"'whoisdsharp'\": 17405, 'injects': 17406, 'ashanti': 17407, \"less'\": 17408, 'butters': 17409, \"'ruined\": 17410, 'autobiography': 17411, 'narrowing': 17412, 'disqualified': 17413, 'dominicans': 17414, 'ceramic': 17415, 'chowing': 17416, \"mubarak's\": 17417, 'penises': 17418, \"'chauvinist\": 17419, 'hardly': 17420, 'ridicule': 17421, 'pallbearers': 17422, \"nielsen's\": 17423, \"'tried\": 17424, 'flay': 17425, 'southwestern': 17426, 'demo': 17427, 'buffering': 17428, 'conned': 17429, 'urination': 17430, 'holloway': 17431, 'rasputins': 17432, 'deceit': 17433, 'knifepoint': 17434, 'retold': 17435, 'cane': 17436, 'overwhelm': 17437, \"cotton's\": 17438, 'somers': 17439, 'thighmaster': 17440, \"ordinary'\": 17441, 'multinational': 17442, 'bouncers': 17443, 'reinstate': 17444, \"'whenever\": 17445, \"cynical'\": 17446, 'daraya': 17447, 'unfazed': 17448, 'turners': 17449, 'mop': 17450, \"'flexible'\": 17451, 'renewables': 17452, 'entendre': 17453, 'krill': 17454, 'k2': 17455, 'crises': 17456, 'beast': 17457, \"'plain'\": 17458, 'chaps': 17459, 'fiasco': 17460, 'flourish': 17461, '“a': 17462, 'wedding”': 17463, 'battlebots': 17464, 'cpu': 17465, 'fingerless': 17466, 'latex': 17467, \"shock'\": 17468, 'stalking': 17469, 'terrifies': 17470, 'vawa': 17471, 'deliberating': 17472, 'choking': 17473, 'equivalence': 17474, 'rotation': 17475, 'disorderly': 17476, 'intoxication': 17477, 'coughs': 17478, \"pooh's\": 17479, 'performances': 17480, 'conceiving': 17481, 'slumped': 17482, 'unskewing': 17483, 'stacy': 17484, \"ruiz's\": 17485, 'recut': 17486, \"'elf'\": 17487, 'engineers': 17488, 'ponytails': 17489, 'stationed': 17490, 'stinging': 17491, 'fences': 17492, 'padres': 17493, 'faction': 17494, 'nailed': 17495, 'dickipedia': 17496, 'bikram': 17497, \"'loyalty\": 17498, \"oaths'\": 17499, 'chihuly': 17500, 'plagiarizing': 17501, 'fisheries': 17502, \"patrons'\": 17503, 'mason': 17504, 'renaissance': 17505, 'sculptures': 17506, 'climbers': 17507, 'avalanches': 17508, 'informal': 17509, 'volleyball': 17510, 'reece': 17511, \"nbc's\": 17512, 'luxury': 17513, \"claim'\": 17514, 'hangnail': 17515, 'unravels': 17516, 'gravedigger': 17517, \"'stargate\": 17518, 'sg': 17519, \"1'\": 17520, 'overflowing': 17521, 'violet': 17522, '835': 17523, \"beauty'\": 17524, 'bellissima': 17525, 'handheld': 17526, 'thermometer': 17527, 'methodist': 17528, 'wounds': 17529, 'stoneheart': 17530, 'toughest': 17531, \"deals'\": 17532, 'interacting': 17533, 'bungling': 17534, 'silas': 17535, \"howard's\": 17536, \"iowa's\": 17537, 'idol': 17538, \"today'\": 17539, \"'parent\": 17540, 'euthanizing': 17541, 'clone': 17542, 'completing': 17543, \"'confession'\": 17544, 'acquisition': 17545, \"lohan's\": 17546, 'stint': 17547, 'start—and': 17548, 'leaps': 17549, 'impala': 17550, 'techie': 17551, 'branded': 17552, 'pluto': 17553, 'starched': 17554, \"tatum's\": 17555, 'heir': 17556, 'isabel': 17557, 'allende': 17558, 'bussi': 17559, 'dacamented': 17560, \"'major\": 17561, \"speech'\": 17562, 'stalker': 17563, 'evaluate': 17564, \"kahneman's\": 17565, \"baron's\": 17566, 'clenched': 17567, \"'emma'\": 17568, 'emily': 17569, 'inconsistency': 17570, \"'verifies'\": 17571, 'kessler': 17572, 'organizer': 17573, \"'argo'\": 17574, 'astoria': 17575, 'stager': 17576, 'smacked': 17577, 'reggie': 17578, \"fox's\": 17579, 'atheletes': 17580, 'transgressions': 17581, 'hairdresser': 17582, \"'sicario'\": 17583, 'villeneuve': 17584, 'jillian': 17585, 'michaels': 17586, \"'fag'\": 17587, \"'dyke'\": 17588, \"sephora's\": 17589, 'vib': 17590, \"problems'\": 17591, 'literature': 17592, 'catsuits': 17593, \"yorker'\": 17594, 'exposé': 17595, \"back's\": 17596, 'buttocks': 17597, 'undulate': 17598, 'hypnotically': 17599, 'cakewalk': 17600, 'downed': 17601, 'cartwheel': 17602, 'mummy': 17603, 'aspen': 17604, 'declaration': 17605, 'confidential': 17606, 'whitewashed': 17607, 'profusely': 17608, 'touchy': 17609, \"'arms\": 17610, '90th': 17611, \"boo'\": 17612, 'lagging': 17613, \"fury'\": 17614, 'okinawa': 17615, '1972': 17616, 'galaxies': 17617, 'johansson': 17618, 'advocating': 17619, 'strata': 17620, 'merchandise': 17621, 'jyothi': 17622, 'rao': 17623, 'threads': 17624, 'tasks': 17625, 'incoherently': 17626, 'joyous': 17627, 'eid': 17628, 'ugaaso': 17629, 'abukar': 17630, \"boocow's\": 17631, 'mogadishu': 17632, \"'singing'\": 17633, \"brady's\": 17634, 'sidelines': 17635, 'commence': 17636, 'ripa': 17637, \"'live'\": 17638, 'biggie': 17639, \"shrimp'\": 17640, 'headaches': 17641, \"body's\": 17642, 'communicating': 17643, 'worships': 17644, '643': 17645, '457': 17646, 'limb': 17647, 'marsa': 17648, 'unicef': 17649, 'repeating': 17650, 'schneiderman': 17651, 'chuckling': 17652, 'chemicals': 17653, 'andie': 17654, 'macdowell': 17655, \"audiences'\": 17656, \"older'\": 17657, 'hinders': 17658, 'drexel': 17659, \"genocide'\": 17660, \"'satirical'\": 17661, 'respects': 17662, \"paladino's\": 17663, 'landlines': 17664, 'woken': 17665, 'booming': 17666, 'loudspeakers': 17667, 'pectoral': 17668, 'retracts': 17669, 'granta': 17670, 'derided': 17671, 'philistines': 17672, 'dosage': 17673, 'homeopathic': 17674, 'flabbergasted': 17675, 'clergy': 17676, 'hearken': 17677, 'blockading': 17678, 'novelists': 17679, 'monetary': 17680, 'quantum': 17681, 'hypothesize': 17682, 'wept': 17683, 'dieting': 17684, \"'active\": 17685, 'charismatic': 17686, 'lichen': 17687, \"hamas'\": 17688, 'disregard': 17689, 'aligning': 17690, 'chokeholds': 17691, \"'princess\": 17692, \"another's\": 17693, 'doubtful': 17694, \"'solo\": 17695, 'impeccable': 17696, 'alexandria': 17697, \"mcconnell's\": 17698, \"'borders\": 17699, \"immoral'\": 17700, \"'cooler\": 17701, \"heads'\": 17702, 'vacancy': 17703, \"'witch\": 17704, 'squatters': 17705, 'inconveniencing': 17706, 'epiphany': 17707, 'receives\\xa0the': 17708, 'sweetest\\xa0farewell': 17709, 'dixieland': 17710, 'evicted': 17711, \"heyer's\": 17712, 'avildsen': 17713, \"'rocky\": 17714, 'asbell': 17715, 'juiced': 17716, 'jabs': 17717, 'hardliners': 17718, \"samsung's\": 17719, 'pilots': 17720, '92nd': 17721, 'reminisce': 17722, 'swollen': 17723, 'spouting': 17724, \"got'\": 17725, 'showers': 17726, 'cleansing': 17727, 'brisket': 17728, 'conspiracies': 17729, \"boat'\": 17730, 'pedestrian': 17731, 'appealing': 17732, \"'goodfellas'\": 17733, 'clips': 17734, 'fragments': 17735, \"'frosty\": 17736, \"snowman'\": 17737, 'impeach': 17738, 'perfected': 17739, \"'obey'\": 17740, 'menswear': 17741, 'kudlow': 17742, \"'leaning'\": 17743, 'tuesdays': 17744, 'morrie': 17745, 'bestseller': 17746, \"hiv'\": 17747, \"mcveigh's\": 17748, 'finephilia': 17749, 'saghian': 17750, \"'monster'\": 17751, 'cyclone': 17752, 'devastation': 17753, 'vanuatu': 17754, 'gosselaar': 17755, 'imdb': 17756, 'ah': 17757, 'breweries': 17758, '205': 17759, 'lyft': 17760, 'deceptive': 17761, 'johns': 17762, 'starches': 17763, 'deliberations': 17764, \"stealin'\": 17765, \"livelihood'\": 17766, 'integrating': 17767, 'roma': 17768, 'thinner': 17769, 'crumble': 17770, 'unnecessarily': 17771, 'recycle': 17772, \"caldwell's\": 17773, 'offerman': 17774, 'rsvps': 17775, 'swanson': 17776, 'esque': 17777, 'shareholdaz': 17778, \"harder'\": 17779, 'drugging': 17780, 'glider': 17781, 'ballooning': 17782, \"'fake\": 17783, 'chalked': 17784, \"rouseff's\": 17785, 'holtzclaw': 17786, \"'lopsided\": 17787, \"account'\": 17788, 'fanduel': 17789, 'diversify': 17790, 'loc': 17791, 'baggies': 17792, \"eagles'\": 17793, \"charlotte's\": 17794, 'monopolizing': 17795, 'carton': 17796, 'faucets': 17797, \"axelrod's\": 17798, 'courtney': 17799, 'manicurist': 17800, \"'mockingjay'\": 17801, 'menforchoice': 17802, 'reformed': 17803, 'naturalized': 17804, 'imani': 17805, \"boyette's\": 17806, 'mcadoo': 17807, 'bask': 17808, \"kendrick's\": 17809, \"'trolls'\": 17810, \"'aids\": 17811, 'renominates': 17812, \"'extreme'\": 17813, 'dutifully': 17814, 'disses': 17815, \"murder's'\": 17816, 'appliance': 17817, 'mona': 17818, 'beagle': 17819, 'ozzfest': 17820, 'buttery': 17821, 'schweitzer': 17822, 'stockbroker': 17823, 'captioned': 17824, 'thandie': 17825, 'repulsive': 17826, \"agenda'\": 17827, 'ponzi': 17828, 'genitalia': 17829, 'respected': 17830, \"'prayer\": 17831, \"patrols'\": 17832, 'roaming': 17833, 'elites': 17834, 'wnba': 17835, \"lead'\": 17836, 'judged': 17837, 'um': 17838, 'unit': 17839, 'effectively': 17840, 'californians': 17841, 'haim': 17842, 'conga': 17843, 'participant': 17844, 'beckons': 17845, 'misconceptions': 17846, 'clocked': 17847, '137': 17848, 'cutscenes': 17849, 'chaotic': 17850, '138': 17851, 'herointown': 17852, 'mika': 17853, 'rosamund': 17854, 'ravishing': 17855, 'limestone': 17856, 'speechwriting': 17857, 'junger': 17858, 'korengal': 17859, 'giraffes': 17860, 'canvassed': 17861, 'canvassing': 17862, 'handicap': 17863, 'partygoers': 17864, \"flag's\": 17865, \"boeing's\": 17866, 'brotherly': 17867, 'scumbag': 17868, \"scumbag'\": 17869, 'rosswood': 17870, '“the': 17871, 'dads”': 17872, 'appétit': 17873, 'quiche': 17874, 'hormonal': 17875, 'stereo': 17876, 'cronies': 17877, 'enigmatic': 17878, 'josef': 17879, 'koudelka': 17880, 'closets': 17881, \"'homosexual\": 17882, \"impulses'\": 17883, \"'guard'\": 17884, \"'protecting'\": 17885, 'hamburglar': 17886, \"'robble\": 17887, 'robble': 17888, \"robble'\": 17889, 'nilla': 17890, 'growers': 17891, 'monk': 17892, 'memorization': 17893, 'possum': 17894, 'lends': 17895, 'legitimacy': 17896, 'diagnoses': 17897, \"'break\": 17898, 'alienating': 17899, \"drugs'\": 17900, 'ramen': 17901, 'pao': 17902, 'bundlers': 17903, 'labeled': 17904, 'posh': 17905, 'titled': 17906, \"'naked\": 17907, \"shower'\": 17908, 'righteous': 17909, 'unseating': 17910, 'eyelashes': 17911, 'mites': 17912, 'endometrial': 17913, 'prayforpaulgeorge': 17914, 'criss': 17915, 'mindfreak': 17916, \"other's\": 17917, 'kicker': 17918, 'busiest': 17919, 'flipped': 17920, 'reprehensibly': 17921, \"loft's\": 17922, '175': 17923, \"enough'\": 17924, \"'shitfaced\": 17925, \"drunk'\": 17926, 'discharge': 17927, 'arabic': 17928, 'calligraphy': 17929, \"corner'\": 17930, 'thanked': 17931, \"'hostile\": 17932, 'phalanx': 17933, 'hungrily': 17934, 'sinead': 17935, \"'safe\": 17936, 'goofball': 17937, 'buffer': 17938, 'mccullen': 17939, 'facade': 17940, \"harden's\": 17941, 'singular': 17942, 'shall': 17943, 'salaam': 17944, 'injure': 17945, 'slack': 17946, 'ashraf': 17947, 'ghani': 17948, 'patted': 17949, \"'helping'\": 17950, 'redacted': 17951, 'reefs': 17952, \"shining'\": 17953, 'chickening': 17954, 'incensed': 17955, 'converts': 17956, 'silly': 17957, \"'terror\": 17958, \"gap'\": 17959, \"'kennedy\": 17960, \"curse'\": 17961, 'riddled': 17962, 'comprehend': 17963, \"kubrick's\": 17964, \"brothers'\": 17965, 'treed': 17966, 'coon': 17967, 'batboy': 17968, 'cannibals': 17969, \"'yak'\": 17970, '1937': 17971, 'outfoxed': 17972, 'sheriffs': 17973, 'spoiler': 17974, 'vai': 17975, 'asiana': 17976, 'militant': 17977, 'freshwater': 17978, \"indiana's\": 17979, \"kanye's\": 17980, 'seal': 17981, \"'jane\": 17982, \"virgin'\": 17983, 'gerald': 17984, '379': 17985, \"rose's\": 17986, 'severing': 17987, \"'problematic'\": 17988, '1971': 17989, 'atms': 17990, 'sweepers': 17991, 'gladiator': 17992, \"'turbo'\": 17993, 'litany': 17994, 'kamau': 17995, 'veil': 17996, 'gchatting': 17997, \"philly's\": 17998, 'recharge': 17999, 'underpetted': 18000, 'discredit': 18001, \"weinstein's\": 18002, 'uglification': 18003, 'dildos': 18004, 'ts': 18005, 'darth': 18006, \"gillespie's\": 18007, 'technical': 18008, 'handbook': 18009, 'uncircumcised': 18010, 'westeros': 18011, 'cascade': 18012, 'algebra': 18013, \"bayless's\": 18014, \"hayward's\": 18015, 'ballgown': 18016, 'sr': 18017, 'thugs': 18018, 'crestfallen': 18019, 'uruguay': 18020, 'storied': 18021, 'ip': 18022, 'skydivers': 18023, \"'bomb\": 18024, \"cyclone'\": 18025, 'infested': 18026, 'bedbugs': 18027, 'whiteness': 18028, 'wormhole': 18029, '1950s': 18030, \"'stormy\": 18031, 'ringo': 18032, '26th': 18033, 'dunk': 18034, \"'war'\": 18035, 'enables': 18036, 'disagreements': 18037, 'weakling': 18038, 'bless': 18039, 'myung': 18040, \"dolan's\": 18041, \"'bannon\": 18042, \"cannon'\": 18043, 'complimenting': 18044, 'yanking': 18045, 'wincing': 18046, 'evancho': 18047, 'penthouse': 18048, 'muse': 18049, 'interstate': 18050, 'cluelessly': 18051, 'overprescribe': 18052, 'narcotics': 18053, 'vanessa': 18054, \"marcotte's\": 18055, 'disastrously': 18056, 'lauded': 18057, 'nagel': 18058, 'nuns': 18059, 'erecting': 18060, 'disconnect': 18061, 'conceals': 18062, \"'shove\": 18063, 'unrewarding': 18064, 'adriatic': 18065, \"'chilling'\": 18066, \"viewer's\": 18067, 'maxx': 18068, 'shoplift': 18069, 'rosaries': 18070, 'enclosures': 18071, 'briar': 18072, 'oppress': 18073, 'demoted': 18074, 'soften': 18075, 'indication': 18076, 'ideals': 18077, 'donaldson': 18078, '2027': 18079, 'iovine': 18080, 'notme': 18081, 'nuances': 18082, 'diminished': 18083, 'bawdy': 18084, 'limerick': 18085, 'euphemism': 18086, \"congressmen's\": 18087, 'memorandum': 18088, 'olay': 18089, 'moisturized': 18090, 'repressed': 18091, \"'hansel\": 18092, \"gretel'\": 18093, \"biographer's\": 18094, 'marten': 18095, 'indefensible': 18096, 'paleo': 18097, 'bails': 18098, 'cambodia': 18099, 'maitre': 18100, \"d'\": 18101, 'everlast': 18102, 'lenient': 18103, 'insightful': 18104, 'aviva': 18105, 'confederacy': 18106, \"'such\": 18107, \"honor'\": 18108, 'referencing': 18109, \"'worked\": 18110, 'quiznos': 18111, \"'sexy'\": 18112, \"'apology\": 18113, 'swallowed': 18114, \"'large\": 18115, \"marijuana'\": 18116, 'scum': 18117, \"'teethmarks\": 18118, \"tongue'\": 18119, 'battersby': 18120, \"'immediately'\": 18121, 'defecating': 18122, \"'won'\": 18123, 'mohawk': 18124, 'tore': 18125, '76ers': 18126, 'devised': 18127, 'relativity': 18128, 'thrives': 18129, 'grimace': 18130, 'opinionated': 18131, \"met'\": 18132, \"33'\": 18133, 'colossus': 18134, 'twinge': 18135, 'prematurity': 18136, 'premise': 18137, 'examples': 18138, 'pies': 18139, 'sympathize': 18140, 'pettiness': 18141, \"'simply\": 18142, \"unworkable'\": 18143, 'wronged': 18144, \"andrew's\": 18145, 'smg': 18146, 'pederast': 18147, 'houdini': 18148, 'socialist': 18149, 'hymn': 18150, 'evolves': 18151, 'steves': 18152, 'gypsies': 18153, 'consists': 18154, 'handcar': 18155, 'diapers': 18156, 'zoroastrianism': 18157, 'pistachios': 18158, \"'sniper'\": 18159, \"'people's\": 18160, \"couch'\": 18161, 'synchronized': 18162, 'disco': 18163, 'sniffing': 18164, 'honeys': 18165, \"employees'\\xa0newborn\": 18166, 'vaults': 18167, \"'emotional\": 18168, \"turmoil'\": 18169, 'nicu': 18170, \"coaster'\": 18171, \"'gobbler\": 18172, \"'geekier'\": 18173, \"whitby's\": 18174, \"pratt's\": 18175, 'trolling': 18176, 'catalonia': 18177, \"'cairo'\": 18178, 'fallacy': 18179, 'coerced': 18180, 'officiants': 18181, 'chaplaincy': 18182, \"'untoward'\": 18183, 'moody': 18184, 'adapt': 18185, \"'severe\": 18186, \"repercussions'\": 18187, \"dominated'\": 18188, 'tuxedoed': 18189, 'courtroom': 18190, 'preferences': 18191, 'coffman': 18192, 'tancredo': 18193, \"'bored'\": 18194, 'makeshift': 18195, 'viewpoint': 18196, 'goner': 18197, 'reactors': 18198, 'mutilating': 18199, 'deadlines': 18200, \"winning'\": 18201, 'glorifying': 18202, 'detain': 18203, \"union'\": 18204, 'siren': 18205, \"poor'\": 18206, \"killin'\": 18207, \"sia's\": 18208, 'grammatical': 18209, 'danube': 18210, \"bradbury's\": 18211, 'kindle': 18212, 'spokesmodels': 18213, 'domhnall': 18214, 'gleeson': 18215, 'hux': 18216, 'chafee': 18217, 'flinched': 18218, 'restoration': 18219, \"friday'\": 18220, 'soviet': 18221, 'boilermakers': 18222, \"purdue's\": 18223, 'tuxedo': 18224, 'boitano': 18225, 'sobs': 18226, 'modeled': 18227, 'verreos': 18228, 'dope': 18229, 'seized': 18230, 'packets': 18231, \"'forrest\": 18232, \"gump'\": 18233, 'silliest': 18234, 'wireless': 18235, 'amphitheater': 18236, 'racetrack': 18237, 'casualty': 18238, \"'sexual\": 18239, \"paranoia'\": 18240, 'northwestern': 18241, \"chapo's\": 18242, 'mesquite': 18243, 'lamontagne': 18244, 'vinyl': 18245, 'sonata': 18246, 'ejaculate': 18247, 'retweet': 18248, 'wiesenthal': 18249, \"'keeping\": 18250, 'chen': 18251, 'redeems': 18252, 'metamorphosis': 18253, 'komodo': 18254, 'dragon': 18255, \"'skyfall'\": 18256, 'inappropriately': 18257, \"pugs'\": 18258, 'deprived': 18259, '226': 18260, 'sparkle': 18261, 'encountered': 18262, 'improves': 18263, 'rewinds': 18264, 'trampoline': 18265, \"mississippi'\": 18266, 'como': 18267, 'flor': 18268, 'rakhine': 18269, 'dubose': 18270, 'quadruplets': 18271, 'hoda': 18272, 'kotb': 18273, 'ticked': 18274, 'bestselling': 18275, 'hawks': 18276, \"'taco'\": 18277, 'inclusions': 18278, 'stepson': 18279, 'koreas': 18280, 'tweetless': 18281, 'snapchatting': 18282, \"nurse's\": 18283, 'michaela': 18284, 'clive': 18285, 'cussler': 18286, 'inventors': 18287, 'cornyn': 18288, 'innovestion': 18289, 'rackspace': 18290, 'gladness': 18291, 'unsettled': 18292, 'possessed': 18293, 'foolproof': 18294, \"american's\": 18295, \"'leaking\": 18296, '00000000001': 18297, 'infected': 18298, \"institutions'\": 18299, '64': 18300, 'sensors': 18301, \"groot'\": 18302, 'stallone': 18303, 'wagnerism': 18304, 'macon': 18305, 'delaware': 18306, 'and—holy': 18307, 'cow—tony': 18308, 'award–nominated': 18309, 'conductor—really': 18310, 'wow—calypso': 18311, 'vol': 18312, 'vent': 18313, 'bart': 18314, 'alexandra': 18315, 'voris': 18316, 'maggie': 18317, \"bitsy's\": 18318, 'brainfood': 18319, \"financially'\": 18320, 'dysphoria': 18321, \"'motorcycle\": 18322, \"bomb'\": 18323, 'rudder': 18324, 'derrick': 18325, 'wines': 18326, 'deflate': 18327, 'renaming': 18328, 'civic': 18329, 'wharton—wharton': 18330, 'hypnotist': 18331, 'gimmick': 18332, 'hypnotists': 18333, 'renoir': 18334, 'autopilot': 18335, 'dunst': 18336, 'aftershocks': 18337, 'gopsongsaboutethics': 18338, 'furloughed': 18339, \"plaza's\": 18340, \"'dorian\": 18341, \"gray'\": 18342, 'creep': 18343, 'henderson': 18344, 'randstad': 18345, 'continually': 18346, 'hd': 18347, \"newborn's\": 18348, \"'rig'\": 18349, 'jilted': 18350, 'surfbort': 18351, 'cr': 18352, \"sopranos'\": 18353, \"'hurtful'\": 18354, \"'gasps'\": 18355, 'segue': 18356, 'idolatry': 18357, 'omnigrain': 18358, 'cheerios': 18359, 'grain': 18360, 'wellness': 18361, 'voluntary': 18362, 'florist': 18363, 'aloha': 18364, 'aina': 18365, 'barca': 18366, 'faris': 18367, \"'chuck'\": 18368, 'calculators': 18369, 'parsons': 18370, 'arcane': 18371, 'handcuff': 18372, 'unfamiliar': 18373, 'knobs': 18374, 'rubbermaid\\x99': 18375, 'zinc': 18376, \"'fireball'\": 18377, \"fsu's\": 18378, 'dalvin': 18379, 'battery': 18380, 'revise': 18381, \"'worship\": 18382, \"team'\": 18383, 'pudgy': 18384, 'rosy': 18385, 'cheeks': 18386, 'disclosure': 18387, 'salve': 18388, 'trademark': 18389, 'outlining': 18390, 'eiffel': 18391, 'praising': 18392, \"'mean'\": 18393, 'barcelona': 18394, \"'vitamin\": 18395, \"spirit'\": 18396, 'pele': 18397, 'usps': 18398, 'feisty': 18399, 'payne': 18400, 'schnook': 18401, 'dreamgirl': 18402, \"miami's\": 18403, 'lenses': 18404, 'segway': 18405, 'sincerity': 18406, \"'civic\": 18407, \"eagle'\": 18408, \"'threatened'\": 18409, 'federation': 18410, 'acronym': 18411, '170': 18412, 'livestreaming': 18413, 'nagging': 18414, 'accelerator': 18415, 'kitchens': 18416, 'linehan': 18417, \"songs'\": 18418, 'kitty': 18419, \"grande's\": 18420, 'doubletree': 18421, 'erivo': 18422, \"'harriet'\": 18423, \"'gma'\": 18424, 'bayer': 18425, 'forgoes': 18426, 'bestival': 18427, 'techno': 18428, 'sweets': 18429, \"captain's\": 18430, \"lunatic's\": 18431, 'ensemble': 18432, 'towed': 18433, 'chit': 18434, 'defensive': 18435, 'peeved': 18436, 'cursing': 18437, \"pizza's\": 18438, 'leprechaun': 18439, 'sutherland': 18440, 'stairwell': 18441, 'optimal': 18442, \"grandson's\": 18443, \"'create\": 18444, \"bullying'\": 18445, 'repairing': 18446, \"'patti\": 18447, \"summer's\": 18448, 'peebles': 18449, 'urschel': 18450, 'extravagant': 18451, 'airspace': 18452, 'nutritionist': 18453, 'disturbance': 18454, \"arafat's\": 18455, 'saunders': 18456, 'exterior': 18457, 'resentful': 18458, 'attendance': 18459, \"'trumpzilla'\": 18460, \"snowflake'\": 18461, \"rica's\": 18462, 'feat': 18463, 'meyer': 18464, 'instances': 18465, 'upstaged': 18466, 'medusa': 18467, 'nebula': 18468, 'prettier': 18469, 'namesake': 18470, 'punctured': 18471, 'weakened': 18472, \"nsync's\": 18473, 'missionary': 18474, 'halogen': 18475, \"streep's\": 18476, 'planetary': 18477, \"granddaughters'\": 18478, 'catalog': 18479, 'lattes': 18480, \"'veto\": 18481, 'colt': 18482, 'axl': 18483, 'inventions': 18484, \"'les\": 18485, \"misérables'\": 18486, 'creatives': 18487, 'marley': 18488, '2022': 18489, 'trusts': 18490, 'collaborate': 18491, 'farmlands': 18492, 'bribe': 18493, 'xxxx': 18494, 'jamal': 18495, 'polanski': 18496, 'controversies': 18497, 'muffin': 18498, 'lend': 18499, 'sunlight': 18500, \"'blueprint'\": 18501, 'supermodels': 18502, 'daylong': 18503, \"'filibuster'\": 18504, 'cycling': 18505, 'humanly': 18506, 'humanitarians': 18507, \"gunn's\": 18508, 'wildebeest': 18509, 'adores': 18510, 'totes': 18511, 'exhausting': 18512, \"'fully\": 18513, \"cooperating'\": 18514, 'coastline': 18515, 'sf': 18516, 'engulfing': 18517, 'ankara': 18518, 'clenches': 18519, 'clapping': 18520, 'huffing': 18521, 'gaseous': 18522, 'hooligans': 18523, \"'hedwig'\": 18524, 'mediums': 18525, 'frauds': 18526, 'chad': 18527, 'yousafzai': 18528, 'seagull': 18529, 'diarrhea': 18530, 'rodents': 18531, 'nils': 18532, 'hognestad': 18533, 'improvements': 18534, 'corrects': 18535, 'lifeguarding': 18536, 'cycles': 18537, 'inflections': 18538, 'mariana': 18539, 'poached': 18540, 'poupon': 18541, 'korman': 18542, 'reckless': 18543, \"'diet\": 18544, 'reductions': 18545, 'roadster': 18546, 'zinfandel': 18547, 'irvin': 18548, 'yalom': 18549, 'annihilating': 18550, \"'definitely'\": 18551, 'sage': 18552, \"bryant's\": 18553, \"'infuriating'\": 18554, 'rainforests': 18555, 'phan': 18556, \"youtube's\": 18557, 'bestie': 18558, 'constitutions': 18559, 'studying': 18560, 'mathematics': 18561, 'gonzaga': 18562, \"'analyze\": 18563, 'gotta': 18564, \"finance'\": 18565, 'unsubscribe': 18566, 'rundown': 18567, 'accommodations': 18568, 'reviewer': 18569, 'beholden': 18570, 'transmuting': 18571, 'usc': 18572, 'verdugo': 18573, 'hills': 18574, 'burritos': 18575, 'redskins': 18576, \"'short\": 18577, \"interviews'\": 18578, 'shonda': 18579, 'rhimes': 18580, 'fiercely': 18581, \"'mind\": 18582, \"'love'\": 18583, \"'chasing\": 18584, \"cars'\": 18585, 'swooning': 18586, 'slid': 18587, 'degas': 18588, 'stimulating': 18589, 'medicating': 18590, 'vibrating': 18591, 'pager': 18592, 'whiteboard': 18593, 'canadians': 18594, 'snatch': 18595, 'beheads': 18596, \"'severe'\": 18597, 'neurological': 18598, \"suspect's\": 18599, 'updating': 18600, \"cuba's\": 18601, \"mohamed's\": 18602, 'fark': 18603, 'kukors': 18604, 'adoptions': 18605, \"colbert's\": 18606, 'prophecies': 18607, \"'infection'\": 18608, 'implying': 18609, 'complying': 18610, 'froth': 18611, 'mouthed': 18612, \"'gaffe'\": 18613, \"slovakia's\": 18614, 'fico': 18615, 'benched': 18616, 'middleagedschmovies': 18617, 'omniscient': 18618, 'bhp': 18619, \"'electric\": 18620, 'compound': 18621, \"home's\": 18622, 'comedies': 18623, 'actively': 18624, 'liberalization': 18625, 'radicalism': 18626, 'revulsion': 18627, 'appointments': 18628, \"'whiteness'\": 18629, 'downgraded': 18630, 'ladybug': 18631, \"'st\": 18632, \"elsewhere'\": 18633, 'howie': 18634, \"mandel's\": 18635, 'biographer': 18636, 'jobless': 18637, \"'rise\": 18638, \"robbin'\": 18639, 'kilauea': 18640, 'reformers': 18641, 'packers': 18642, 'coupling': 18643, 'crawlspaces': 18644, \"'rogue\": 18645, \"critic's\": 18646, \"'blame\": 18647, \"plane'\": 18648, 'jamaica': 18649, 'sailboat': 18650, 'shiites': 18651, 'mademoiselle': 18652, 'flatten': 18653, 'tummy': 18654, 'committees': 18655, 'outlawing': 18656, 'ribs': 18657, 'anyways': 18658, 'volatility': 18659, 'bailiff': 18660, 'lundergan': 18661, 'dms': 18662, 'pathetically': 18663, 'holiness': 18664, 'regift': 18665, \"couldn't'\": 18666, 'groceries': 18667, 'strategically': 18668, \"belt's\": 18669, 'jermaine': 18670, 'dupri': 18671, \"'golf\": 18672, \"lying'\": 18673, 'ewan': 18674, \"beast'\": 18675, 'restorative': 18676, 'roundabouts': 18677, 'hoagie': 18678, 'jonah': 18679, 'neuroscience': 18680, 'falsify': 18681, 'cart': 18682, 'cared': 18683, 'abductions': 18684, 'scratched': 18685, 'venue': 18686, \"lunch'\": 18687, 'astrological': 18688, \"positive'\": 18689, 'kiddos': 18690, 'recreate': 18691, \"dancing'\": 18692, \"'america's\": 18693, \"talent'\": 18694, 'calmly': 18695, 'emptying': 18696, \"rodriguez's\": 18697, 'jealousy': 18698, \"dion's\": 18699, '59': 18700, 'underestimated': 18701, 'adrenal': 18702, 'recreational': 18703, 'enthusiasts': 18704, 'applaud': 18705, 'permutations': 18706, \"'starcraft\": 18707, \"void'\": 18708, 'bootleg': 18709, 'rewarding': 18710, 'technophile': 18711, 'harmon': 18712, 'attain': 18713, 'roared': 18714, 'banter': 18715, 'oswald': 18716, 'sorted': 18717, 'hogwarts': 18718, 'weaponry': 18719, '480': 18720, 'oberst': 18721, 'woodstock': 18722, 'craggy': 18723, 'ogres': 18724, \"gaulle's\": 18725, 'collaborations': 18726, 'gucci': 18727, 'mane': 18728, \"expendables'\": 18729, 'sacking': 18730, 'babylon': 18731, '539': 18732, 'arming': 18733, 'freely': 18734, \"solange'\": 18735, \"'around\": 18736, 'portray': 18737, \"recipient's\": 18738, 'qualms': 18739, 'caging': 18740, 'fifties': 18741, 'astrazeneca': 18742, 'assorted': 18743, 'sampler': 18744, 'revisited': 18745, 'download': 18746, 'rosemary': 18747, 'farina': 18748, '249': 18749, 'sapphire': 18750, 'zoomed': 18751, 'alohahuffpost': 18752, 'skinematography': 18753, \"'banksy'\": 18754, 'lo': 18755, 'sighs': 18756, 'eyeballs': 18757, 'springs': 18758, 'sighting': 18759, 'grandfathers': 18760, 'eternally': 18761, 'embroidery': 18762, 'woodwork': 18763, 'insulating': 18764, 'canoe': 18765, 'schlegel': 18766, 'hyatt': 18767, 'vienna': 18768, 'macbook': 18769, 'rec': 18770, 'developers': 18771, 'protestors': 18772, \"may's\": 18773, 'aaa': 18774, 'sustenance': 18775, 'handshake': 18776, 'angle': 18777, 'velocity': 18778, 'brownribboncampaign': 18779, 'dreamcatcher': 18780, 'rearview': 18781, 'multipacks': 18782, 'monuments': 18783, 'fryer': 18784, \"rex's\": 18785, \"mcconaughey's\": 18786, 'troian': 18787, 'bellisario': 18788, \"'suits'\": 18789, 'terrorize': 18790, \"'sense8'\": 18791, \"'julius\": 18792, \"caesar'\": 18793, 'rewriting': 18794, 'sparkling': 18795, 'outed': 18796, 'navigate': 18797, \"miller's\": 18798, \"mood'\": 18799, 'cashiers': 18800, 'unsuspecting': 18801, 'clarissa': 18802, \"'clarissa\": 18803, \"all'\": 18804, 'spatula': 18805, 'geddes': 18806, 'treading': 18807, 'framework': 18808, 'bourdain': 18809, 'page–driven': 18810, 'derby': 18811, 'predisposition': 18812, 'trickled': 18813, 'weirdos': 18814, 'sherbet': 18815, 'grimm': 18816, '279': 18817, 'recapping': 18818, 'luxurious': 18819, 'saget': 18820, \"'tarnished'\": 18821, 'textbooks': 18822, 'impersonate': 18823, 'disinfectant': 18824, 'reinforces': 18825, 'witty': 18826, 'pedestrians': 18827, 'depressingly': 18828, 'manageable': 18829, 'proposing': 18830, 'daryl': 18831, \"dixon's\": 18832, 'awoke': 18833, \"within'\": 18834, 'bengal': 18835, \"tigers'\": 18836, 'jaipur': 18837, 'judaism': 18838, 'unfiltered': 18839, \"bisexual's\": 18840, 'coconut': 18841, 'surrogate': 18842, \"useful'\": 18843, 'authentic': 18844, 'mockingly': 18845, \"'trash\": 18846, \"talking'\": 18847, 'bark': 18848, 'hemmed': 18849, 'occupation': 18850, '1913': 18851, 'suffragist': 18852, 'douchey': 18853, 'forwarding': 18854, 'formative': 18855, 'oops': 18856, 'broadcasts': 18857, 'renovates': 18858, 'buren': 18859, 'presentable': 18860, 'vain': 18861, 'cameos': 18862, \"lgbt'\": 18863, 'treadmill': 18864, 'tributes': 18865, 'amusement': 18866, 'funnel': 18867, 'anthropomorphologists': 18868, \"passengers'\": 18869, 'branding': 18870, 'conyers': 18871, 'verbally': 18872, 'oft': 18873, \"'lypsinka'\": 18874, 'epperson': 18875, 'unmasked': 18876, 'piggy': 18877, \"'work'\": 18878, 'snared': 18879, 'patrolmen': 18880, 'platforms': 18881, 'dislodge': 18882, 'delhi': 18883, 'fenced': 18884, 'enclosure': 18885, 'impaired': 18886, 'wean': 18887, 'kelley': 18888, 'lipsticks': 18889, \"banyan's\": 18890, 'preparedness': 18891, 'wiseau': 18892, \"sympathizer's\": 18893, 'gorillas': 18894, 'ascends': 18895, 'umbrella': 18896, 'honesty': 18897, 'rifle': 18898, 'curfews': 18899, 'favreau': 18900, \"masterson's\": 18901, 'imitation': 18902, \"'anna\": 18903, \"karenina'\": 18904, 'g8': 18905, \"'shrek'\": 18906, 'hesitates': 18907, 'accessibility': 18908, 'dumptruck': 18909, 'fourths': 18910, \"'pride\": 18911, \"prejudice'\": 18912, 'counteroffensive': 18913, 'ladenschlussgesetz': 18914, 'parlay': 18915, \"kentucky's\": 18916, 'bromance': 18917, 'blending': 18918, 'jacking': 18919, 'faggot': 18920, 'proctor': 18921, \"station's\": 18922, 'fd': 18923, 'trove': 18924, \"found'\": 18925, \"'hilarious\": 18926, \"joke'\": 18927, 'nurture': 18928, 'originate': 18929, 'coolness': 18930, 'blacklists': 18931, 'uterine': 18932, 'sociable': 18933, 'fasting': 18934, 'pillars': 18935, 'exceptions': 18936, 'stricter': 18937, 'overeager': 18938, 'simpleton': 18939, 'detox': 18940, \"undertaker's\": 18941, 'embalmings': 18942, \"'overcome'\": 18943, \"'uterus'\": 18944, 'sanford': 18945, \"laws'\": 18946, 'leeching': 18947, 'mirren': 18948, 'naral': 18949, 'amandla': 18950, 'stenberg': 18951, \"'dazed'\": 18952, 'addclimatechangetotv': 18953, \"'seek\": 18954, \"funding'\": 18955, 'reservations': 18956, 'lamb': 18957, \"'caught'\": 18958, \"'honorable\": 18959, 'traitor': 18960, 'exiles': 18961, 'menstruating': 18962, 'meditating': 18963, '30s': 18964, 'windowless': 18965, 'audited': 18966, \"'least\": 18967, \"artist'\": 18968, 'lovelorn': 18969, 'aches': 18970, 'turnaround': 18971, 'mitty': 18972, 'anspach': 18973, 'phyllis': 18974, 'schlafly': 18975, 'kingmakers': 18976, 'wily': 18977, 'waterspout': 18978, \"'legend\": 18979, \"korra'\": 18980, 'stalked': 18981, 'tutus': 18982, 'sequins': 18983, 'szep': 18984, 'distressed': 18985, 'cameltoe': 18986, 'unplug': 18987, 'humiliate': 18988, 'prepping': 18989, 'panther': 18990, \"'bonus\": 18991, 'proofreader': 18992, 'newsguild': 18993, 'advertise': 18994, 'csi': 18995, 'sands': 18996, 'macau': 18997, 'kkk': 18998, \"2049'\": 18999, \"'breathing\": 19000, \"relief'\": 19001, \"isis's\": 19002, \"'sees\": 19003, \"green'\": 19004, 'subduing': 19005, 'basset': 19006, \"'domestic\": 19007, \"rule'\": 19008, \"thanksgiving's\": 19009, 'verb': 19010, 'noun': 19011, 'prepositional': 19012, 'ganged': 19013, 'kurdi': 19014, \"'generous'\": 19015, 'botanist': 19016, 'guarantees': 19017, 'fete': 19018, 'slush': 19019, 'collie': 19020, 'lypsinka': 19021, \"mozart's\": 19022, 'flute': 19023, 'infallibility': 19024, 'invoked': 19025, 'recordings': 19026, 'vaccinate': 19027, 'dolce': 19028, 'gabbana': 19029, 'hijabs': 19030, 'abayas': 19031, \"something's\": 19032, \"'winding\": 19033, 'sandusky': 19034, \"'flush\": 19035, 'buzzfeed': 19036, 'blacklist': 19037, \"bruegger's\": 19038, 'bagels': 19039, \"wallet's\": 19040, \"emily's\": 19041, \"'problem\": 19042, \"solvers'\": 19043, \"'field\": 19044, \"dreams'\": 19045, 'norma': 19046, 'trai': 19047, 'byers': 19048, 'squashes': 19049, 'influencer': 19050, \"electrician's\": 19051, 'foxwoods': 19052, 'outcast': 19053, 'buscemi': 19054, 'liu': 19055, 'xiaobo': 19056, \"ate'\": 19057, 'devout': 19058, \"'bones'\": 19059, \"'climate'\": 19060, 'crank': 19061, 'valadao': 19062, 'tk': 19063, \"clear'\": 19064, 'invokes': 19065, \"'decimated'\": 19066, 'preached': 19067, 'interfering': 19068, 'maintenance': 19069, 'clotheslines': 19070, 'gooey': 19071, 'heap': 19072, 'apex': 19073, 'snowman': 19074, 'yolk': 19075, 'blizzard': 19076, 'dial': 19077, 'cupp': 19078, 'feig': 19079, 'carefree': 19080, 'frown': 19081, 'worldly': 19082, 'vices': 19083, 'cornerback': 19084, \"'nagging'\": 19085, \"20's\": 19086, 'adeyemi': 19087, 'marilinda': 19088, \"humanity's\": 19089, 'reauthorizes': 19090, 'whimsical': 19091, 'billboards': 19092, 'fare': 19093, \"shootings'\": 19094, 'reenacts': 19095, \"ailes'\": 19096, \"images'\": 19097, 'mildly': 19098, 'treatable—yet': 19099, 'pinocchio': 19100, 'mbta': 19101, 'closely': 19102, 'resembling': 19103, 'trendy': 19104, 'communal': 19105, \"stuntin'\": 19106, 'notions': 19107, 'friendshipgoals': 19108, 'bureaucratic': 19109, 'pantywaist': 19110, 'suffrage': 19111, 'pepa': 19112, 'raphaelite': 19113, 'contessa': 19114, \"continues'\": 19115, 'wooded': 19116, 'ghouta': 19117, 'offloaded': 19118, 'hungary': 19119, 'hilaria': 19120, \"'okay\": 19121, 'rubber': 19122, 'cafepress': 19123, 'improperly': 19124, \"davis's\": 19125, 'vloggers': 19126, 'funk': 19127, 'skydive': 19128, 'contradicting': 19129, \"'up\": 19130, \"whatever'\": 19131, 'jurisprudence': 19132, 'fetishist': 19133, 'overpaying': 19134, 'outcropping': 19135, 'megan': 19136, 'admin': 19137, 'upham': 19138, \"'jihadists'\": 19139, 'lever': 19140, \"constituent's\": 19141, 'necks': 19142, \"stepson's\": 19143, \"'horrifying'\": 19144, 'ruckeyser': 19145, 'upload': 19146, 'surround': 19147, 'macaulay': 19148, 'culkin': 19149, 'allied': 19150, 'feuds': 19151, 'unambitious': 19152, 'inheritance': 19153, 'pickles': 19154, 'fashionistas': 19155, 'trio': 19156, 'cutups': 19157, 'cashew': 19158, 'accusing': 19159, 'dealings': 19160, 'encased': 19161, 'metro': 19162, 'foils': 19163, 'zucker': 19164, 'ducts': 19165, 'effigy': 19166, 'pekingese': 19167, 'estimates': 19168, 'wamu': 19169, 'chaplev': 19170, \"philanderer'\": 19171, \"'pathological\": 19172, \"liar'\": 19173, 'hypocrisies': 19174, 'overseer': 19175, 'imminent': 19176, \"'business\": 19177, \"'manipulated'\": 19178, 'insecurities': 19179, 'aerosmith': 19180, 'pyer': 19181, \"'blind\": 19182, \"spot'\": 19183, 'opium': 19184, 'composes': 19185, 'tums': 19186, 'jingle': 19187, \"'their\": 19188, \"fear'\": 19189, \"'want\": 19190, 'llc': 19191, 'inching': 19192, 'foreshadows': 19193, \"'1984'\": 19194, \"conway's\": 19195, 'orwellian': 19196, \"obamas'\": 19197, 'misinterpreted': 19198, 'sarcasm': 19199, 'miscalculation': 19200, 'décor': 19201, \"'what's\": 19202, '270': 19203, 'democalypse': 19204, \"whuppin'\": 19205, 'wheelbarrow': 19206, \"'faces\": 19207, 'terminate': 19208, 'fade': 19209, 'nightmarish': 19210, 'labyrinthian': 19211, 'depraved': 19212, 'desires': 19213, \"bernie's\": 19214, 'emphasized': 19215, 'decency': 19216, 'bugaboo': 19217, \"stroller's\": 19218, \"'unrealistic'\": 19219, 'sow': 19220, \"honolulu's\": 19221, 'earplugs': 19222, 'googlers': 19223, \"'tiny\": 19224, \"dancers'\": 19225, 'weep': 19226, 'werner': 19227, 'herzog': 19228, 'treadwell': 19229, 'juxtaposing': 19230, 'iconography': 19231, 'cutthroat': 19232, 'complexity': 19233, 'ewen': 19234, \"'political'\": 19235, 'déja': 19236, 'vu': 19237, 'abiding': 19238, 'bert': 19239, 'berns': 19240, 'straws': 19241, 'enterprise': 19242, 'krispie': 19243, 'muppets': 19244, \"a's\": 19245, \"'express\": 19246, 'mcnugget': 19247, 'bouquet': 19248, \"lovin'\": 19249, 'chicanery': 19250, 'baboon': 19251, 'upbeat': 19252, 'somber': 19253, 'carhartt': 19254, 'thong': 19255, 'valiant': 19256, 'checkers': 19257, 'descending': 19258, 'flourishing': 19259, 'correspondence': 19260, 'mailer': 19261, 'daemon': 19262, 'dolezals': 19263, 'misbuttoned': 19264, 'frenchie': 19265, \"'volunteer'\": 19266, 'fentanyl': 19267, 'gellar': 19268, \"'buffy'\": 19269, 'unchecked': 19270, 'industrialization': 19271, \"impossible'\": 19272, 'meekly': 19273, 'selflessly': 19274, 'traits': 19275, 'slinking': 19276, 'straightens': 19277, 'haiku': 19278, 'thirtysomething': 19279, 'subjected': 19280, 'hairdo': 19281, \"'ultra\": 19282, \"hammer'\": 19283, 'deficient': 19284, \"kindergartener's\": 19285, 'incomprehensible': 19286, 'corsets': 19287, 'zestitos': 19288, 'rightist': 19289, 'shames': 19290, \"'mexican'\": 19291, 'geologic': 19292, \"control'\": 19293, 'sportscenter': 19294, 'oddsmakers': 19295, \"'have\": 19296, 'roadtrip': 19297, \"'revitalise'\": 19298, 'são': 19299, 'paulo': 19300, 'razes': 19301, \"senator'\": 19302, 'periodically': 19303, 'metlife': 19304, 'tuskegee': 19305, 'airmen': 19306, 'delightfully': 19307, 'recollection': 19308, \"'newshour'\": 19309, \"orgasm'\": 19310, 'sandler': 19311, 'nuanced': 19312, \"'alice\": 19313, \"wonderland'\": 19314, 'raffi': 19315, 'sillies': 19316, 'aerial': 19317, \"'re\": 19318, 'transmutes': 19319, 'stones': 19320, 'psychiatry': 19321, 'implodes': 19322, 'chatroulette': 19323, 'fingerprinting': 19324, 'sails': 19325, 'mighty': 19326, 'deportations': 19327, \"m's\": 19328, \"'don\": 19329, 'electrical': 19330, \"warrior'\": 19331, \"'benefit\": 19332, \"doubt'\": 19333, \"bandit'\": 19334, 'aspect': 19335, 'cinephiles': 19336, \"philip'\": 19337, 'sunblock': 19338, 'botox': 19339, 'wx': 19340, \"'facts\": 19341, 'stroll': 19342, \"hallburton's\": 19343, 'deadbeat': 19344, 'dependency': 19345, \"'monsters\": 19346, \"screen'\": 19347, 'traumatized': 19348, 'holyoke': 19349, \"'disruption'\": 19350, 'remedies': 19351, \"'insider'\": 19352, 'galleries': 19353, \"'outsider'\": 19354, 'arrows': 19355, 'slots': 19356, \"farhadi's\": 19357, 'elly': 19358, 'purchaser': 19359, \"ish'\": 19360, \"'forced\": 19361, \"diversity'\": 19362, \"december's\": 19363, 'suffused': 19364, 'undertones': 19365, 'rehabilitation': 19366, \"'thug\": 19367, 'overburdened': 19368, 'ucsf': 19369, 'benioff': 19370, 'dearbetsy': 19371, \"zohan'\": 19372, 'gigabite': 19373, 'intergalactic': 19374, \"forward'\": 19375, \"'support\": 19376, 'boutique': 19377, 'torpedo': 19378, 'doughnut': 19379, 'unceremoniously': 19380, \"'friends'\": 19381, 'minter': 19382, 'cloaca': 19383, 'demonstration': 19384, 'noxious': 19385, 'minions': 19386, 'installation': 19387, 'carjackers': 19388, \"alabama'\": 19389, 'cartridges': 19390, \"'juke\": 19391, \"monk's\": 19392, 'bowed': 19393, 'showoff': 19394, 'pallbearer': 19395, 'walgreen': 19396, 'merges': 19397, 'genders': 19398, \"'fabulous'\": 19399, 'reshape': 19400, 'snubbed': 19401, 'unknowingly': 19402, 'maids': 19403, 'yankees': 19404, \"'unfortunate\": 19405, \"coincidence'\": 19406, 'ceded': 19407, 'plunged': 19408, 'farc': 19409, \"'probably\": 19410, 'anarchists': 19411, 'cafeteria': 19412, 'browses': 19413, 'confiscated': 19414, 'observes': 19415, 'impregnable': 19416, 'protocols': 19417, 'placing': 19418, 'teas': 19419, 'doorknob': 19420, 'illegitimate': 19421, 'plethora': 19422, 'etna': 19423, 'erupting': 19424, \"christianity's\": 19425, \"'doesn't\": 19426, \"deserve'\": 19427, 'saran': 19428, 'brownie': 19429, \"'rigged'\": 19430, 'overuse': 19431, 'cleaners': 19432, 'superstains': 19433, \"rubik's\": 19434, \"teller's\": 19435, 'nissin': 19436, 'noodles': 19437, 'ps4': 19438, 'kilimanjaro': 19439, \"'batshitzania'\": 19440, '2019': 19441, \"tarantino's\": 19442, 'shelving': 19443, 'dax': 19444, 'misuse': 19445, 'subdue': 19446, \"'closure'\": 19447, 'fanpage': 19448, \"'croak'\": 19449, \"licenses'\": 19450, 'cummings': 19451, 'governments': 19452, 'rambling': 19453, 'hydropower': 19454, 'caterina': 19455, 'scorsone': 19456, 'wrench': 19457, 'walkabout': 19458, 'wilderness': 19459, 'cliven': 19460, \"with'\": 19461, 'eruption': 19462, 'repopulation': 19463, \"'repulsive'\": 19464, 'stine': 19465, \"'goosebumps'\": 19466, 'tamra': 19467, 'housewives': 19468, \"county'\": 19469, 'welder': 19470, \"welder's\": 19471, 'masturbate': 19472, 'courses': 19473, 'accessory': 19474, \"'overwhelmed'\": 19475, 'barring': 19476, 'ref': 19477, 'usurp': 19478, 'wee': 19479, 'inclement': 19480, 'perceptions': 19481, \"supermodel's\": 19482, 'arteries': 19483, \"2016's\": 19484, 'urinary': 19485, 'senile': 19486, 'benadryl': 19487, 'dart': 19488, 'inebriated': 19489, 'surfaced': 19490, \"'scream\": 19491, \"queens'\": 19492, '142': 19493, 'lined': 19494, 'blurry': 19495, 'turner': 19496, \"'twilight\": 19497, 'blacklight': 19498, 'barbarian': 19499, 'faint': 19500, \"vietnam's\": 19501, 'nighttime': 19502, 'overrated': 19503, 'sara': 19504, 'subside': 19505, '88': 19506, 'newport': 19507, 'deployed': 19508, 'patagonia': 19509, 'specially': 19510, 'wearer': 19511, 'björk': 19512, 'firefly': 19513, 'apeshit': 19514, \"giver'\": 19515, \"'she's\": 19516, \"'huge'\": 19517, 'puppets': 19518, 'araa': 19519, 'kayboard': 19520, 'bustad': 19521, 'alright': 19522, \"'hardball'\": 19523, 'unmarried': 19524, 'dorner': 19525, 'farhadi': 19526, 'pleshette': 19527, 'flusher': 19528, 'reconsiders': 19529, 'deflategate': 19530, \"bernanke's\": 19531, 'reassuring': 19532, \"'pacific\": 19533, \"rim'\": 19534, 'xmasgiftsfromtrump': 19535, 'reclines': 19536, 'saddle': 19537, 'dewan': 19538, 'slay': 19539, 'errors': 19540, \"kim's\": 19541, 'enlargement': 19542, 'craftmatic': 19543, 'adjustable': 19544, \"'shame\": 19545, 'ming': 19546, 'yuan': 19547, 'mainland': 19548, 'repealing': 19549, 'enacting': 19550, 'mollusks': 19551, 'toothpaste': 19552, 'prolong': 19553, 'zenefits': 19554, 'stairwells': 19555, 'soured': 19556, 'rippon': 19557, 'commentating': 19558, '870': 19559, 'doodles': 19560, \"'empower\": 19561, \"mint'\": 19562, 'punny': 19563, 'coddled': 19564, 'potted': 19565, 'breathalyzer': 19566, 'rumor': 19567, 'vicariously': 19568, 'bury': 19569, \"hodor's\": 19570, \"taiwan's\": 19571, 'supermoon': 19572, 'correctness': 19573, \"'framers'\": 19574, 'amendments': 19575, 'prizes': 19576, 'mailman': 19577, 'gatlinburg': 19578, \"activist's\": 19579, \"'trainspotting\": 19580, 'aftershock': 19581, 'probiotic': 19582, 'emile': 19583, 'hirsch': 19584, 'pleading': 19585, 'aww': 19586, 'aditya': 19587, 'vikram': 19588, \"sengupta's\": 19589, 'psst': 19590, 'competitiveness': 19591, 'ingrained': 19592, 'prejudices': 19593, \"'assassin's\": 19594, \"creed'\": 19595, \"clancy's\": 19596, 'generate': 19597, 'hottie': 19598, 'thrush': 19599, \"break'\": 19600, 'neptune': 19601, \"'underground\": 19602, \"railroad'\": 19603, 'bhangra': 19604, \"'afraid'\": 19605, \"'telling\": 19606, 'lotioning': 19607, 'gamed': 19608, \"'which\": 19609, 'raphael': 19610, 'continent': 19611, 'misophonia': 19612, 'negligible': 19613, 'narration': 19614, 'unsolved': 19615, 'hid': 19616, 'oxy': 19617, \"coast's\": 19618, \"glover's\": 19619, 'roster': 19620, 'mourdock': 19621, 'arthur': 19622, 'baghdadi': 19623, \"sister'\": 19624, '1927': 19625, 'scandinavia': 19626, \"'smile'\": 19627, 'schnauzers': 19628, \"'dull\": 19629, \"'l'\": 19630, 'crumpled': 19631, \"buttercup'\": 19632, 'baking': 19633, 'podcasting': 19634, 'bounding': 19635, 'photoshop': 19636, 'quaid': 19637, 'falluja': 19638, 'fraught': 19639, 'negatives': 19640, 'superbugs': 19641, 'middlemen': 19642, 'firmly': 19643, 'jenni': 19644, 'konner': 19645, 'spikes': 19646, 'cherubs': 19647, 'shitting': 19648, 'gauguin': 19649, 'fondation': 19650, 'beyeler': 19651, 'cuckolded': 19652, \"wives'\": 19653, 'tundra': 19654, 'emptiness': 19655, 'mike4763': 19656, 'hscc2015': 19657, 'ferris': 19658, 'decrees': 19659, 'marti': 19660, 'noxon': 19661, 'poured': 19662, 'israelis': 19663, 'grumblethor': 19664, 'mischievous': 19665, 'antics': 19666, 'house–fbi': 19667, 'siberian': 19668, \"god'\": 19669, 'slideshow': 19670, 'tab': 19671, 'savored': 19672, 'leisure': 19673, \"buddha'\": 19674, 'preschoolers': 19675, 'quirky': 19676, 'perks': 19677, 'cache': 19678, 'holland': 19679, \"macklemore's\": 19680, 'spaced': 19681, \"groovin'\": 19682, 'reuses': 19683, 'stingy': 19684, 'holcomb': 19685, 'jacketed': 19686, 'boris': 19687, 'platinum–level': 19688, 'select': 19689, 'soliders': 19690, 'diagnosing': 19691, 'straying': 19692, 'changers': 19693, 'videographer': 19694, \"'glad\": 19695, \"actions'\": 19696, 'woodcrafts': 19697, '200k': 19698, 'ivana': 19699, 'quaaludes': 19700, 'quaalude': 19701, \"'running\": 19702, 'bleaching': 19703, 'quarantined': 19704, 'enacted': 19705, \"comedy's\": 19706, 'ignites': 19707, \"belgium's\": 19708, 'rulings': 19709, 'farce': 19710, 'frequent': 19711, \"flighter's\": 19712, 'responsibly': 19713, \"volkswagen's\": 19714, 'dieselgate': 19715, \"beginner's\": 19716, 'trinidad': 19717, 'tobago': 19718, 'downpour': 19719, 'redirects': 19720, 'dccc': 19721, \"democrat's\": 19722, 'claritin': 19723, 'flamethrower': 19724, 'incinerates': 19725, \"'they're\": 19726, \"proctoscope'\": 19727, 'greenlit': 19728, 'shipwrecks': 19729, '239': 19730, 'destinations': 19731, 'superrman': 19732, 'copyediting': 19733, \"'anarchy'\": 19734, 'molasses': 19735, 'fern': 19736, 'preventing': 19737, 'securing': 19738, 'swells': 19739, 'locator': 19740, \"discovery'\": 19741, 'segel': 19742, 'rooney': 19743, \"'impossible'\": 19744, 'sundown': 19745, 'ortiz': 19746, \"football's\": 19747, 'flails': 19748, \"'rigged\": 19749, \"election'\": 19750, \"'brain\": 19751, 'puzzles': 19752, 'pap': 19753, 'builders': 19754, \"'undue\": 19755, \"burden'\": 19756, 'siegel': 19757, \"'absolutely\": 19758, \"loved'\": 19759, 'shareware': 19760, 'fumbling': 19761, 'inarticulate': 19762, 'hitchens': 19763, 'ageist': 19764, 'pandas': 19765, 'trashes': 19766, \"celebrities'\": 19767, 'discourage': 19768, 'bruin': 19769, 'breeze': 19770, 'discreet': 19771, \"'tbfoodsllc'\": 19772, 'teamwork': 19773, 'ledge': 19774, 'boyega': 19775, 'arkansans': 19776, 'impacts': 19777, \"scouts'\": 19778, 'intolerance': 19779, \"'propaganda'\": 19780, 'cite': 19781, 'clause': 19782, \"''star\": 19783, 'wipeout': 19784, \"2015's\": 19785, \"'thanks\": 19786, \"asshole'\": 19787, 'swalwell': 19788, \"playboy's\": 19789, 'monroe': 19790, 'robertson': 19791, \"baker's\": 19792, 'marseille': 19793, 'popeye': 19794, \"'dese\": 19795, 'bombinks': 19796, 'disgustipating': 19797, \"austria's\": 19798, 'burgenland': 19799, \"gq's\": 19800, 'tapping': 19801, 'parachute': 19802, '4se': 19803, \"'language\": 19804, \"'scene\": 19805, \"selection'\": 19806, 'islanders': 19807, 'cadillac': 19808, 'leprosy': 19809, 'immolation': 19810, 'coziest': 19811, \"'million\": 19812, 'burr': 19813, 'dagger': 19814, 'philosopher': 19815, \"psychiatrist's\": 19816, \"hemsworth's\": 19817, 'pataky': 19818, 'threshold': 19819, 'propecia': 19820, 'dispelling': 19821, 'factual': 19822, \"malala's\": 19823, 'garroting': 19824, 'domenici': 19825, \"'lie'\": 19826, 'tae': 19827, 'kwon': 19828, 'mismatched': 19829, 'architects': 19830, '2026': 19831, 'administrations': 19832, \"'springsteen\": 19833, \"broadway'\": 19834, \"storybook'\": 19835, \"labor's\": 19836, 'transplanting': 19837, 'goers': 19838, 'headliner': 19839, 'betrayed': 19840, 'payback': 19841, 'bedford': 19842, 'forrest': 19843, 'ku': 19844, 'klux': 19845, 'klan': 19846, \"khrushchev's\": 19847, 'granddaughter': 19848, 'whoever': 19849, 'alleviate': 19850, \"'regular\": 19851, \"monopoly'\": 19852, 'bosses': 19853, 'negotiator': 19854, 'bulleted': 19855, 'orbiting': 19856, 'rim': 19857, \"wsj's\": 19858, 'caterers': 19859, 'relying': 19860, 'processor': 19861, 'gaffer': 19862, 'fluctuating': 19863, \"'dawn\": 19864, 'revolvers': 19865, 'associates': 19866, 'tacit': 19867, 'mania': 19868, \"marketer's\": 19869, \"'handmaid's\": 19870, 'waitlists': 19871, 'newscasts': 19872, 'masterfully': 19873, 'persky': 19874, \"'replacement'\": 19875, 'hunts': 19876, 'garfield': 19877, 'breeding': 19878, 'squirrels': 19879, \"'pardon\": 19880, 'titanium': 19881, 'inhaler': 19882, \"attendee's\": 19883, 'lycra': 19884, 'shuddering': 19885, 'astrid': 19886, 'menks': 19887, \"'swindle'\": 19888, 'carless': 19889, 'cologned': 19890, 'rake': 19891, \"japan's\": 19892, \"kevin's\": 19893, 'accompanying': 19894, 'presumes': 19895, 'mountainside': 19896, 'meditate': 19897, 'fickle': 19898, \"'ncis'\": 19899, 'the…': 19900, 'nonverbal': 19901, \"'tami\": 19902, 'midway': 19903, 'inferiority': 19904, \"'g\": 19905, 'canteen': 19906, \"excuse'\": 19907, 'sprawling': 19908, 'aimlessly': 19909, 'directives': 19910, \"'protect\": 19911, \"everybody'\": 19912, \"'diary\": 19913, \"frank'\": 19914, 'mcmahon': 19915, 'nutella': 19916, 'lubricant': 19917, 'undocu': 19918, 'overthrow': 19919, 'outnumbered': 19920, 'hitch': 19921, 'phat': 19922, 'jncos': 19923, \"thatcher's\": 19924, 'scattered': 19925, 'sharpie': 19926, 'redesign': 19927, 'brosnan': 19928, 'astronomical': 19929, \"iii's\": 19930, \"'mona\": 19931, \"lisa'\": 19932, 'wiretapped': 19933, 'modernity': 19934, 'moroccan': 19935, 'tavis': 19936, 'smiley': 19937, \"union's\": 19938, \"'slants'\": 19939, 'dogfights': 19940, 'disables': 19941, \"'off\": 19942, \"grid'\": 19943, 'europeans': 19944, \"'wake\": 19945, 'philipps': 19946, \"ledger's\": 19947, \"person's\": 19948, 'economically': 19949, \"weak—they're\": 19950, 'conceptual': 19951, \"fico's\": 19952, 'stonestreet': 19953, '200th': 19954, 'philharmonic': 19955, 'chechnya': 19956, 'spanx': 19957, 'shapewear': 19958, 'unsightly': 19959, 'attracted': 19960, 'improbable': 19961, \"catcaller's\": 19962, 'fearmongers': 19963, 'warmongers': 19964, 'mongering': 19965, 'resurrect': 19966, 'apoplectic': 19967, 'factions': 19968, 'goer': 19969, 'vanishes': 19970, 'norwood': 19971, \"depressed'\": 19972, 'boats': 19973, 'boatless': 19974, 'intruder': 19975, 'tumbles': 19976, 'staircase': 19977, \"sham'\": 19978, \"'nazi\": 19979, 'punks': 19980, \"'slavery\": 19981, \"accuser's\": 19982, 'minimizing': 19983, 'hud': 19984, 'achievements': 19985, 'trumping': 19986, 'holler': 19987, 'goddamned': 19988, 'dumbed': 19989, 'invention': 19990, 'penicillin': 19991, 'tonga': 19992, 'taufatofua': 19993, 'boycotted': 19994, 'narcolepsy': 19995, 'madeleine': 19996, 'afterbirthers': 19997, 'placenta': 19998, \"xfl'\": 19999, 'examining': 20000, \"'living\": 20001, \"adventure'\": 20002, 'bulbous': 20003, 'deformed': 20004, 'combine': 20005, \"fi's\": 20006, 'successories': 20007, \"'clingy'\": 20008, 'invader': 20009, \"'psychics\": 20010, 'astrology': 20011, '117': 20012, 'aerocar': 20013, 'clogs': 20014, 'troposphere': 20015, '145': 20016, \"'firebombed'\": 20017, 'firemen': 20018, \"bodybuilder's\": 20019, 'veins': 20020, 'suffocating': 20021, 'combines': 20022, 'scripps': 20023, 'randall': 20024, 'secedes': 20025, 'randalia': 20026, 'chakras': 20027, 'centuries': 20028, 'cryosleep': 20029, 'reconsider': 20030, \"mcdonnell's\": 20031, 'nonvoter': 20032, 'denim': 20033, 'cinco': 20034, 'efficiency': 20035, 'slime': 20036, 'cocooned': 20037, 'ooze': 20038, 'puzzled': 20039, 'tasered': 20040, \"choice'\": 20041, \"'without\": 20042, 'blankly': 20043, 'rode': 20044, 'scar': 20045, 'hymnal': 20046, 'waved': 20047, 'eugenics': 20048, 'sunscreen': 20049, 'signify': 20050, 'spearmint': 20051, \"'brown\": 20052, 'scholars': 20053, 'sidney': 20054, 'adler': 20055, 'brainwashed': 20056, 'easton': 20057, 'gaveling': 20058, 'massaging': 20059, 'assuring': 20060, 'tantalizingly': 20061, 'waitresses': 20062, 'alerted': 20063, 'generator': 20064, 'erections': 20065, 'tanner': 20066, \"'justice\": 20067, \"league'\": 20068, 'moderators': 20069, 'picker': 20070, 'chord': 20071, 'asexual': 20072, \"'females'\": 20073, 'gloved': 20074, 'flexibility': 20075, 'dobkin': 20076, 'fraction': 20077, \"actress's\": 20078, 'bloodline': 20079, 'dyed': 20080, 'postpones': 20081, 'platinum': 20082, 'verifying': 20083, 'zendaya': 20084, \"loc'd\": 20085, \"belly'\": 20086, \"'hypocritical'\": 20087, \"'annihilate'\": 20088, 'frenzied': 20089, 'questionable': 20090, 'motives': 20091, \"finale's\": 20092, 'hobbit': 20093, 'pelvic': 20094, 'unconsciousness': 20095, 'anesthesiologist': 20096, 'jab': 20097, 'uncaptured': 20098, 'pendulum': 20099, 'fineo': 20100, 'stearns': 20101, 'picketing': 20102, \"arbus'\": 20103, 'nixonian': 20104, 'hough': 20105, 'endometriosis': 20106, '1986': 20107, 'conventionally': 20108, 'abhorrent': 20109, 'stonehenge': 20110, 'druid': 20111, 'supermarkets': 20112, \"dali's\": 20113, 'trippy': 20114, \"'minotaurs\": 20115, \"vampires'\": 20116, 'vampires': 20117, 'awry': 20118, 'meanwhile': 20119, 'vanishing': 20120, 'chainsaws': 20121, 'officemates': 20122, 'unwittingly': 20123, 'morse': 20124, 'bodymate': 20125, 'cranky': 20126, 'quieted': 20127, 'brightly': 20128, 'varied': 20129, \"fixin's\": 20130, 'fps': 20131, 'min': 20132, \"1850's\": 20133, 'enjoyment': 20134, \"'jungle\": 20135, 'sanitizer': 20136, 'tresspasser': 20137, \"'criminal'\": 20138, \"'risky'\": 20139, 'vaquita': 20140, 'porpoise': 20141, 'snag': 20142, 'drugstore': 20143, 'punishable': 20144, 'catcall': 20145, 'deflected': 20146, 'hideaways': 20147, 'cortez': 20148, 'prism': 20149, 'prioritizing': 20150, 'spire': 20151, 'counterintuitive': 20152, 'shattered': 20153, 'bothered': 20154, 'mildew': 20155, 'backwaters': 20156, 'biking': 20157, 'org': 20158, 'debunking': 20159, 'buses': 20160, 'stossel': 20161, 'frocked': 20162, 'lingerie': 20163, 'oratory': 20164, 'disciplinarian': 20165, 'unruly': 20166, 'unrepresentative': 20167, 'homicides': 20168, \"subway's\": 20169, 'photoshops': 20170, 'invocations': 20171, \"crew's\": 20172, 'lyons': 20173, \"'wacky\": 20174, \"wipers'\": 20175, 'coptic': 20176, 'shutter': 20177, 'backfire': 20178, \"nemo'\": 20179, 'bindi': 20180, 'tbs': 20181, 'nielsen': 20182, 'sneeze': 20183, \"carney's\": 20184, 'matte': 20185, 'yoda': 20186, 'ropes': 20187, 'agnostic': 20188, \"'adults\": 20189, 'risking': 20190, 'harem': 20191, 'gaby': 20192, 'hoffmann': 20193, 'ventriloquist': 20194, \"'hoodie\": 20195, \"monks'\": 20196, 'impart': 20197, 'dismiss': 20198, 'dojo': 20199, 'regionals': 20200, 'digesting': 20201, 'genre': 20202, \"'oliver\": 20203, \"twist'\": 20204, 'wedges': 20205, \"bautista's\": 20206, 'salvadoran': 20207, \"to'\": 20208, 'tier': 20209, 'archbishops': 20210, 'droves': 20211, 'cherishing': 20212, 'hypnotized': 20213, 'tattletale': 20214, 'commissions': 20215, \"'clinton's\": 20216, \"theme'\": 20217, 'mantras': 20218, 'protracted': 20219, 'neckhole': 20220, 'hemophiliac': 20221, 'crusted': 20222, 'nyquil': 20223, 'colgate': 20224, 'grout': 20225, 'signifier': 20226, 'connector': 20227, 'mensch': 20228, \"complicated'\": 20229, 'zales': 20230, 'wary': 20231, \"'imperfect'\": 20232, 'sioux': 20233, 'fabio': 20234, 'viviani': 20235, 'moles': 20236, 'abduction': 20237, \"nfl's\": 20238, \"3po's\": 20239, \"seniors'\": 20240, \"gardens'\": 20241, 'succulent': 20242, 'unlovable': 20243, 'mulling': 20244, \"'97\": 20245, 'mustaches': 20246, 'centauri': 20247, 'weezer': 20248, 'sabra': 20249, \"cedar's\": 20250, 'cate': 20251, 'blanchett': 20252, \"'obamacare\": 20253, \"'letterman'\": 20254, 'kylo': 20255, 'ren': 20256, 'helmed': 20257, \"'freeze\": 20258, \"frame'\": 20259, '373': 20260, '1743': 20261, '1919': 20262, 'sighing': 20263, \"'excellent\": 20264, 'menstruate': 20265, 'crowdfund': 20266, 'gineering': 20267, 'integrate': 20268, 'flopped': 20269, 'aerosol': 20270, 'upfront': 20271, 'citigroup': 20272, 'clique': 20273, 'ex–goldman': 20274, 'majors': 20275, 'espys': 20276, 'whooshsnaps': 20277, 'sedative': 20278, 'gayer': 20279, 'silmarillion': 20280, 'recess': 20281, \"'daredevil'\": 20282, 'vulgaria': 20283, 'modest': 20284, 'everytown': 20285, 'flex': 20286, 'grassroots': 20287, 'clout': 20288, 'evaporates': 20289, \"'nuns\": 20290, \"bus'\": 20291, 'pta': 20292, \"wisconsin's\": 20293, 'venison': 20294, 'navratri': 20295, 'hindu': 20296, 'stupendous': 20297, 'buglers': 20298, 'spoke': 20299, 'mineral': 20300, \"'ridiculous'\": 20301, 'banished': 20302, 'brent': 20303, 'roske': 20304, 'greats': 20305, 'kinki': 20306, \"'creamed'\": 20307, 'embroidered': 20308, 'truffles': 20309, 'profiles': 20310, '¡que': 20311, 'vivan': 20312, 'casa': 20313, 'mena': 20314, 'annulment': 20315, 'alumnus': 20316, '317': 20317, '622': 20318, '318': 20319, '047': 20320, \"'donut\": 20321, \"fiasco'\": 20322, 'referee': 20323, 'hochuli': 20324, \"newton's\": 20325, 'reset': 20326, 'aspirin': 20327, 'kiper': 20328, 'spreadsheet': 20329, 'calvin': 20330, 'handles': 20331, \"'syrians'\": 20332, 'goodnight': 20333, \"hulu's\": 20334, 'fiennes': 20335, 'hydrated': 20336, 'bolted': 20337, 'violinist': 20338, 'mozart': 20339, \"twain's\": 20340, 'walt': 20341, \"'random\": 20342, 'infomercial': 20343, '2037': 20344, 'escort': 20345, \"asimov's\": 20346, 'southeastern': 20347, 'roasting': 20348, \"ana's\": 20349, 'rested': 20350, 'pogge': 20351, \"'done\": 20352, \"damage'\": 20353, 'peaches': 20354, 'monroee': 20355, 'ja': 20356, \"fault'\": 20357, \"'stain\": 20358, \"soul'\": 20359, 'warms': 20360, 'huma': 20361, \"rec'\": 20362, 'morales': 20363, 'surging': 20364, 'rechargeable': 20365, 'birdman': 20366, 'relieve': 20367, \"doing'\": 20368, 'headband': 20369, 'winked': 20370, 'messed': 20371, \"rockin'\": 20372, 'murillo': 20373, 'neoliberalism': 20374, 'apprehends': 20375, 'urinator': 20376, 'racialized': 20377, 'iowans': 20378, 'breakdowns': 20379, 'combats': 20380, \"'united\": 20381, \"'bullsh\": 20382, '240': 20383, 'biding': 20384, \"'stable\": 20385, \"genius'\": 20386, 'zoolander': 20387, 'seatbelts': 20388, 'rashida': 20389, \"'flip\": 20390, \"rewind'\": 20391, \"pfizer's\": 20392, 'pewter': 20393, 'pushups': 20394, 'payroll': 20395, 'solves': 20396, 'treme': 20397, 'saltines': 20398, 'utility': 20399, 'deteriorating': 20400, 'legacies': 20401, 'arse': 20402, 'sza': 20403, 'intolerant': 20404, 'urgency': 20405, '8x10': 20406, 'danza': 20407, 'insta': 20408, 'raciest': 20409, 'voicemails': 20410, 'potty': 20411, 'tryout': 20412, 'subtember': 20413, \"'crazy\": 20414, \"janitor's\": 20415, 'subhumanity': 20416, 'coronary': 20417, 'bypass': 20418, \"more'\": 20419, 'clap': 20420, \"'didn't\": 20421, \"need'\": 20422, 'declare': 20423, \"'uniquely\": 20424, \"unsuited'\": 20425, 'completists': 20426, 'topher': 20427, \"grace's\": 20428, \"'sneak\": 20429, \"peak'\": 20430, \"joke's\": 20431, \"'arby's\": 20432, 'shopoholism': 20433, 'shoposauruses': 20434, \"gucci's\": 20435, 'opting': 20436, 'queercore': 20437, 'e3': 20438, \"acquaintance's\": 20439, 'orientation': 20440, 'airman': 20441, 'evacuates': 20442, 'sermon': 20443, 'grumpy': 20444, 'esophageal': 20445, \"guns'\": 20446, \"'got'\": 20447, 'anticipation': 20448, \"'anchor\": 20449, 'deduced': 20450, 'farmland': 20451, 'logan': 20452, \"themselves'\": 20453, 'mapping': 20454, 'lint': 20455, 'cardigan': 20456, 'prized': 20457, 'combo': 20458, 'squash': 20459, 'sobers': 20460, 'luminaries': 20461, 'gunfight': 20462, \"filter's\": 20463, 'dislocates': 20464, 'tempurpedic': 20465, \"newswoman's\": 20466, 'chemists': 20467, \"'nano'\": 20468, 'farther': 20469, 'villagers': 20470, 'haram': 20471, 'teaming': 20472, 'cushion': 20473, 'generating': 20474, 'ashleigh': 20475, 'banfield': 20476, \"'reckless'\": 20477, 'absorbency': 20478, 'patronizing': 20479, \"element'\": 20480, 'nigerian': 20481, \"instagrammer's\": 20482, 'retail': 20483, \"'ferris\": 20484, \"bueller'\": 20485, \"seoul's\": 20486, 'incheon': 20487, 'sonny': 20488, 'perdue': 20489, 'lapses': 20490, 'thrower': 20491, 'shortens': 20492, 'slogan': 20493, \"few'\": 20494, 'scuffle': 20495, \"'rubiobot'\": 20496, '393rd': 20497, \"chef'\": 20498, 'watering': 20499, \"'has\": 20500, 'hotspots': 20501, 'outlook': 20502, 'kangaroos': 20503, '\\u200breport': 20504, \"rock's\": 20505, 'tribeca': 20506, 'marathons': 20507, 'affecting': 20508, 'suited': 20509, 'tyrion': 20510, 'betray': 20511, 'daenerys': 20512, 'presex': 20513, 'penetration': 20514, 'including': 20515, '77th': 20516, \"places'\": 20517, '22nd': 20518, 'colton': 20519, 'dixon': 20520, 'brouhaha': 20521, 'nonessential': 20522, 'prestigious': 20523, 'pout': 20524, \"'nonstarter\": 20525, \"'88\": 20526, 'thorpe': 20527, 'deletion': 20528, 'neurosurgeon': 20529, 'heckled': 20530, 'fleet': 20531, 'jeanette': 20532, 'dipshit': 20533, 'redditors': 20534, 'reimagine': 20535, 'vasectomies': 20536, \"'proud'\": 20537, 'cylinders': 20538, 'bluffs': 20539, 'alienation': 20540, 'ireporters': 20541, 'assistants': 20542, 'unease': 20543, 'evansville': 20544, \"terrarium's\": 20545, \"fiorina's\": 20546, 'haitians': 20547, 'ragnarök': 20548, 'port': 20549, 'dominos': 20550, 'crust': 20551, 'cellulite': 20552, 'maroulis': 20553, 'floodgates': 20554, 'tanned': 20555, 'exquisitely': 20556, 'coiffed': 20557, 'dimon': 20558, 'relentless': 20559, \"'menace'\": 20560, \"kramer's\": 20561, 'converted': 20562, \"policeman's\": 20563, 'begun': 20564, 'frolicking': 20565, 'ticks': 20566, 'ashton': 20567, 'kutcher': 20568, 'ionceoverheard': 20569, 'exempt': 20570, 'resemblance': 20571, 'falsely': 20572, 'selected': 20573, 'cig': 20574, 'vapers': 20575, 'weinsteins': 20576, 'skateboarder': 20577, \"'south\": 20578, '576': 20579, 'napoleon': 20580, 'pieced': 20581, \"congratulate'\": 20582, 'blunder': 20583, 'sparkly': 20584, 'schock': 20585, 'scrutinized': 20586, 'spooktacular': 20587, 'freyda': 20588, 'deeds': 20589, 'cellist': 20590, 'antidote': 20591, 'mers': 20592, \"virus'\": 20593, 'winded': 20594, 'jebbush': 20595, 'discount': 20596, 'prankster': 20597, 'loews': 20598, 'faking': 20599, 'mastercard': 20600, 'ruthless': 20601, 'cellmate': 20602, 'suge': 20603, \"knight's\": 20604, 'beefs': 20605, \"wilde's\": 20606, 'kindly': 20607, 'stfu': 20608, \"'apes'\": 20609, \"richie's\": 20610, 'haddad': 20611, 'hinging': 20612, \"type'\": 20613, \"rome's\": 20614, 'revelers': 20615, 'deregulation': 20616, 'indigestion': 20617, 'raspberries': 20618, \"berrilicious'\": 20619, \"'ouchless'\": 20620, 'vh1': 20621, 'tumbling': 20622, 'dalai': 20623, 'lama': 20624, 'kimora': 20625, 'northwest': 20626, 'fisting': 20627, \"'intolerant'\": 20628, \"lord's\": 20629, 'margot': 20630, 'unlucky': 20631, 'glued': 20632, \"rand's\": 20633, 'fer': 20634, \"'brainwashing\": 20635, 'corgi': 20636, \"mornin''\": 20637, 'haitian': 20638, 'mag': 20639, 'suckers': 20640, 'platoon': 20641, 'cranston': 20642, 'grains': 20643, 'ultimatum': 20644, '1996': 20645, 'reintegration': 20646, 'panini': 20647, 'wicked': 20648, 'wanderlust': 20649, 'allstate': 20650, 'racket': 20651, 'tel': 20652, 'aviv': 20653, 'bianchi': 20654, 'inducing': 20655, 'agribusiness': 20656, 'retrial': 20657, 'cooled': 20658, 'seediest': 20659, 'squadgoals': 20660, \"'shouldn't\": 20661, \"courage'\": 20662, 'elude': 20663, 'pursuers': 20664, \"press'\": 20665, \"fairey's\": 20666, 'blatantly': 20667, \"'demagogue'\": 20668, 'communicate': 20669, 'strategists': 20670, 'bullsh': 20671, \"'wonder'\": 20672, 'antarctic': 20673, 'observational': 20674, 'buffs': 20675, 'freemasons': 20676, \"'clusters'\": 20677, 'overpowering': 20678, 'grabbed': 20679, 'megadonor': 20680, 'dataclysm': 20681, 'resided': 20682, \"'ass'\": 20683, 'iud': 20684, 'floral': 20685, 'contorted': 20686, \"earphone's\": 20687, 'modifier': 20688, 'muffuletta': 20689, \"torture's\": 20690, 'immeasurable': 20691, 'confession': 20692, 'frayed': 20693, 'ancestry': 20694, 'juggernaut': 20695, 'babbling': 20696, 'emts': 20697, 'loading': 20698, 'stretcher': 20699, 'spilled': 20700, 'dishing': 20701, 'daphne': 20702, 'inept': 20703, 'cemented': 20704, \"'inner\": 20705, \"monitor'\": 20706, 'civics': 20707, \"'mccain\": 20708, \"belgrade's\": 20709, 'wiretap': 20710, \"immigrants'\": 20711, \"dicaprio's\": 20712, \"'dsm\": 20713, 'formaldehyde': 20714, 'experimenting': 20715, 'philosophical': 20716, \"marry'\": 20717, \"freezer's\": 20718, 'restraining': 20719, 'richie': 20720, 'blinding': 20721, 'maleness': 20722, 'auctioneer': 20723, 'wanders': 20724, 'vfw': 20725, \"'patriots\": 20726, \"'words'\": 20727, '03': 20728, \"accurate'\": 20729, 'darcy': 20730, \"spoon's\": 20731, 'pint': 20732, 'jarring': 20733, 'sneakier': 20734, 'acquittal': 20735, 'hannah': 20736, 'risheq': 20737, 'smoldering': 20738, 'revolt': 20739, 'congeniality': 20740, 'thereisaidit': 20741, 'unbreakable': 20742, \"dunham's\": 20743, 'shameful': 20744, 'p5': 20745, 'clinch': 20746, \"chain's\": 20747, 'severus': 20748, 'inserted': 20749, 'hugo': 20750, \"lobbyist's\": 20751, 'hgtv': 20752, 'talc': 20753, 'metrosexuality': 20754, 'elie': 20755, 'wiesel': 20756, 'balsamic': 20757, 'sardinian': 20758, 'cove': 20759, \"'extreme\": 20760, \"vetting'\": 20761, 'massed': 20762, 'tossing': 20763, 'comrade': 20764, 'uncaring': 20765, 'episcopalians': 20766, 'cormac': 20767, 'flaunts': 20768, 'moira': 20769, 'mactaggert': 20770, \"apocalypse'\": 20771, \"garland's\": 20772, 'aloft': 20773, \"'waist\": 20774, \"gang'\": 20775, 'chicks': 20776, \"'illegal\": 20777, \"immigrant'\": 20778, 'asap': 20779, \"'yogi\": 20780, 'aussie': 20781, 'pictorial': 20782, \"kellogg's\": 20783, \"'choco\": 20784, \"bastard'\": 20785, 'farallon': 20786, 'usfws': 20787, \"conservation's\": 20788, 'opec': 20789, 'indicates': 20790, \"founder's\": 20791, 'waiver': 20792, 'shaft': 20793, \"'dwts'\": 20794, 'unintentionally': 20795, 'archaeologist': 20796, 'lutheran': 20797, 'poo': 20798, 'streaked': 20799, 'clothesline': 20800, 'disdains': 20801, 'bazooka': 20802, 'tractors': 20803, 'reversing': 20804, 'pastoral': 20805, 'frustrating': 20806, 'fireeye': 20807, 'brawny': 20808, 'geun': 20809, 'hye': 20810, 'ministry': 20811, \"'groveling'\": 20812, \"'cautiously\": 20813, \"optimistic'\": 20814, 'slo': 20815, 'cbo': 20816, 'newfound': 20817, 'partnering': 20818, 'accelerators': 20819, 'indira': 20820, \"'everyone\": 20821, \"'rolling\": 20822, \"stone'\": 20823, 'monitoring': 20824, \"'cliff\": 20825, \"clavin'\": 20826, 'moderates': 20827, 'feijoada': 20828, '1982': 20829, 'dishonorably': 20830, 'discharged': 20831, 'navigation': 20832, 'bethenny': 20833, 'frankel': 20834, 'nspw2017': 20835, \"rae's\": 20836, \"inhofe's\": 20837, 'rallying': 20838, 'langston': 20839, \"hughes'\": 20840, 'harlem': 20841, 'sucker': 20842, 'haugh': 20843, 'phony': 20844, 'tout': 20845, \"'presidential'\": 20846, 'rib': 20847, \"party'\": 20848, 'snoop': 20849, 'dogg': 20850, 'courtesy': 20851, 'tripped': 20852, 'joys': 20853, 'asimo': 20854, 'tricked': 20855, \"teenagers'\": 20856, 'establishments': 20857, 'tastes': 20858, 'wu': 20859, 'tang': 20860, 'clan': 20861, \"rza's\": 20862, 'sniff': 20863, 'heffern': 20864, \"cw's\": 20865, 'backpackers': 20866, \"carol'\": 20867, 'suitable': 20868, 'forensics': 20869, 'turvy': 20870, 'magma': 20871, 'sunderland': 20872, 'concocted': 20873, \"history's\": 20874, 'masterminded': 20875, 'spiegel': 20876, \"'and'\": 20877, \"bloom'\": 20878, 'migrating': 20879, 'ticketed': 20880, 'organizational': 20881, 'philanthropy': 20882, 'weirder': 20883, 'col': 20884, \"camps'\": 20885, \"'lose\": 20886, \"fast'\": 20887, 'springing': 20888, \"'bullet\": 20889, \"box'\": 20890, 'enactors': 20891, \"stage'd\": 20892, 'fantastically': 20893, \"'boyfriend\": 20894, \"adam'\": 20895, 'sniglets': 20896, \"husbands'\": 20897, 'staywokeandvote': 20898, 'ramsay': 20899, '94': 20900, 'dakotans': 20901, 'outlast': 20902, 'mugger': 20903, 'mp3': 20904, 'retrievers': 20905, 'fahrenheit': 20906, 'corduroys': 20907, 'incorporate': 20908, 'blanco': 20909, \"ramsey's\": 20910, 'wheeled': 20911, 'commenting': 20912, 'despises': 20913, 'influenza': 20914, 'pg': 20915, \"come'\": 20916, \"adelson's\": 20917, 'crazier': 20918, 'glow': 20919, 'mouths': 20920, 'lahood': 20921, 'stitched': 20922, \"present's\": 20923, 'plymouth': 20924, 'secretarian': 20925, 'receptionists': 20926, 'bends': 20927, 'congregation': 20928, \"drake's\": 20929, 'yodel': 20930, 'bandolier': 20931, 'rebuilding': 20932, 'sontag': 20933, 'pantomimed': 20934, 'lasso': 20935, \"'jaws'\": 20936, 'gestures': 20937, 'retailer': 20938, 'enthroned': 20939, 'tissues': 20940, 'curriculum': 20941, 'pronunciation': 20942, 'digested': 20943, \"'jennifer\": 20944, 'dubsmash': 20945, 'roofs': 20946, 'scuba': 20947, 'divers': 20948, \"ship's\": 20949, 'chlorine': 20950, 'interventions': 20951, \"'hot\": 20952, \"chixx'\": 20953, \"'creative\": 20954, \"concepts'\": 20955, 'template': 20956, 'thom': 20957, 'yorke': 20958, 'coughing': 20959, 'boz': 20960, 'unseat': 20961, 'demolishes': 20962, 'absent': 20963, 'dashes': 20964, 'fiery': 20965, 'stable': 20966, 'beekeepers': 20967, \"swarms'\": 20968, 'wrath': 20969, 'banker': 20970, 'accomplished': 20971, 'temporary': 20972, 'billiards': 20973, \"'homoji'\": 20974, 'shorthand': 20975, \"'fat\": 20976, \"earther'\": 20977, 'quintillion': 20978, 'cancerous': 20979, \"'dear\": 20980, \"abby'\": 20981, \"writer's\": 20982, 'eel': 20983, \"'boomer\": 20984, \"cave'\": 20985, 'eerie': 20986, 'ocelot': 20987, 'clippings': 20988, 'kingpins': 20989, 'engraved': 20990, 'moose': 20991, \"luna's\": 20992, \"great'\": 20993, 'pinchuk': 20994, 'mistral': 20995, 'warships': 20996, \"'march\": 20997, 'repairmen': 20998, 'intercourse': 20999, 'uploaded': 21000, 'mandate': 21001, 'skydiving': 21002, 'recounting': 21003, \"towels'\": 21004, 'motto': 21005, \"smile'\": 21006, 'marshmallow': 21007, 'wideawakepatriot': 21008, 'goldblum': 21009, 'twister': 21010, 'warehouses': 21011, 'nonsensical': 21012, 'desperation': 21013, 'grips': 21014, 'scans': 21015, 'peterson': 21016, 'blackouts': 21017, 'rotate': 21018, \"amtrak's\": 21019, \"'track\": 21020, \"train'\": 21021, 'webpage': 21022, \"'decision\": 21023, 'operators': 21024, 'unlabeled': 21025, \"newsroom'\": 21026, \"'made\": 21027, \"head'\": 21028, 'singlehandedly': 21029, 'impressions': 21030, 'broom': 21031, 'housewife': 21032, 'nachos': 21033, 'airtight': 21034, 'churchill': 21035, \"acosta's\": 21036, 'assertion': 21037, 'acosta': 21038, 'deceitful': 21039, 'deviously': 21040, 'herbie': 21041, \"'miracle\": 21042, \"ice'\": 21043, 'bondage': 21044, 'dungeon': 21045, 'walkers': 21046, 'colorized': 21047, 'caveats': 21048, \"'danish\": 21049, 'brides': 21050, 'grooms': 21051, 'clerks': 21052, \"'bullying'\": 21053, 'mowing': 21054, 'panders': 21055, 'lingers': 21056, 'elliptical': 21057, 'doorstops': 21058, 'doorblocker': 21059, 'fax': 21060, 'buttigieg': 21061, \"'poverty\": 21062, \"color'\": 21063, 'protested': 21064, 'sculptor': 21065, 'fomo': 21066, 'narrows': 21067, \"short'\": 21068, 'dynamics': 21069, 'province': 21070, 'subsidize': 21071, 'loopholes': 21072, 'polygamy': 21073, 'controllable': 21074, 'eucalyptus': 21075, 'munchkin': 21076, 'biv': 21077, 'devoe': 21078, \"'backlash'\": 21079, \"'poison'\": 21080, 'tenacious': 21081, 'learner': 21082, 'tulsa': 21083, 'backflip': 21084, 'swims': 21085, '11th': 21086, 'footnotes': 21087, 'rescuing': 21088, 'birthing': 21089, 'gambia': 21090, 'poundstone': 21091, 'glee': 21092, 'terrorized': 21093, 'shapeless': 21094, 'blobs': 21095, 'gerard': 21096, 'alessandrini': 21097, 'rebounds': 21098, 'dreamlike': 21099, 'schoolgirl': 21100, 'mcdonnell': 21101, \"dar'\": 21102, 'glamorous': 21103, 'duress': 21104, \"'skinny\": 21105, \"slice'\": 21106, 'barksdale': 21107, \"wrestler's\": 21108, 'taster': 21109, 'cinemark': 21110, 'liable': 21111, 'zod': 21112, 'rollback': 21113, 'reinvented': 21114, 'coogler': 21115, 'wakanda': 21116, \"'routine'\": 21117, 'emeril': 21118, 'bams': 21119, 'groupie': 21120, '110': 21121, 'rockette': 21122, \"sexism'\": 21123, 'reelected': 21124, '747': 21125, \"celebs'\": 21126, 'moonlit': 21127, 'bonfire': 21128, 'conjure': 21129, \"'dearly\": 21130, \"beloved'\": 21131, 'pointless': 21132, 'taft': 21133, 'ambler': 21134, 'paste': 21135, 'lobs': 21136, 'ツ': 21137, \"pennsylvania's\": 21138, 'tormented': 21139, 'landon': 21140, 'unasked': 21141, \"univision's\": 21142, 'dominic': 21143, 'casulli': 21144, 'receipt': 21145, 'livid': 21146, 'cassidy': 21147, 'processes': 21148, \"board's\": 21149, \"detroit'\": 21150, 'multiplex': 21151, \"'jewish\": 21152, \"tartan'\": 21153, 'shakers': 21154, 'heists': 21155, 'hefty': 21156, 'harsher': 21157, \"'unreal'\": 21158, 'relegated': 21159, 'phd': 21160, 'pwc': 21161, 'perceive': 21162, 'futon': 21163, \"'confusing'\": 21164, 'rollout': 21165, 'veggie': 21166, 'eaters': 21167, 'chummy': 21168, 'wallets': 21169, 'prepaid': 21170, 'debit': 21171, 'etc': 21172, \"bale's\": 21173, \"o'toole\": 21174, 'constrictive': 21175, 'severs': 21176, 'revs': 21177, 'hunched': 21178, \"wept'\": 21179, 'comptroller': 21180, \"comptroller'\": 21181, 'attractiveness': 21182, 'sprints': 21183, 'capote': 21184, '612th': 21185, 'philanderer': 21186, 'slager': 21187, \"huang's\": 21188, 'salivates': 21189, 'equivalency': 21190, 'reschedules': 21191, 'sociologists': 21192, 'emergence': 21193, \"rumsfeld's\": 21194, 'barracks': 21195, \"'sham'\": 21196, 'aztec': 21197, 'julius': 21198, \"peppers'\": 21199, 'facemask': 21200, \"kaepernick's\": 21201, \"proud'\": 21202, 'wrest': 21203, 'portraiture': 21204, 'trappings': 21205, 'oust': 21206, 'dyson': 21207, 'steaks': 21208, 'outages': 21209, \"'farm\": 21210, 'harass': 21211, 'ravens': 21212, 'steelers': 21213, 'grudge': 21214, 'maxim': 21215, 'skimmed': 21216, 'menstruated': 21217, \"'catfishing'\": 21218, 'spurred': 21219, 'leash': 21220, 'forbidding': 21221, 'cinzano': 21222, \"virginia's\": 21223, 'communication': 21224, 'mosel': 21225, 'riesling': 21226, 'debra': 21227, 'trojan': 21228, 'glue': 21229, 'yep': 21230, \"'moment\": 21231, \"silence'\": 21232, 'austerity': 21233, 'restocks': 21234, 'rum': 21235, 'waxes': 21236, 'deriving': 21237, 'hallway': 21238, 'casualwear': 21239, 'expedition': 21240, 'highlighting': 21241, \"'profoundly\": 21242, 'oxfam': 21243, \"'misunderstood\": 21244, 'cruces': 21245, 'ballistics': 21246, 'tablet': 21247, 'emission': 21248, 'nobannowall': 21249, 'amplify': 21250, 'horner': 21251, 'pythons': 21252, 'commitments': 21253, 'chops': 21254, \"'outlander'\": 21255, 'presentness': 21256, 'lund': 21257, 'chemo': 21258, \"'raw\": 21259, 'uninvestigated': 21260, 'casamigos': 21261, 'uno': 21262, \"'brokeback\": 21263, \"mountain'\": 21264, 'chunking': 21265, 'precedes': 21266, 'nouns': 21267, 'tailspin': 21268, 'goddam': 21269, 'zoologists': 21270, 'neurology': 21271, 'sneakers': 21272, 'whirlwind': 21273, 'yards': 21274, 'snowboarder': 21275, 'inflamed': 21276, 'pulsing': 21277, 'disposal': 21278, \"gorsuch's\": 21279, 'vendors': 21280, 'wipe': 21281, 'rag': 21282, 'grilling': 21283, 'lurk': 21284, \"dogs'\": 21285, 'sandboxes': 21286, 'exclusively': 21287, 'caged': 21288, 'naderite': 21289, 'loyalists': 21290, 'educational': 21291, 'zambia': 21292, 'outpacing': 21293, 'mustard': 21294, \"dempsey's\": 21295, \"strange'\": 21296, 'walling': 21297, \"'cartgate'\": 21298, \"mtv's\": 21299, \"'scream'\": 21300, 'bailout': 21301, \"'draw\": 21302, \"muhammad'\": 21303, 'outs': 21304, \"kickin'\": 21305, 'shoddy': 21306, \"captor's\": 21307, 'hinting': 21308, \"'sister\": 21309, 'publicize': 21310, 'twentysomething': 21311, 'impersonal': 21312, 'unlawfully': 21313, 'columbia': 21314, 'sprained': 21315, 'mauling': 21316, 'despicable': 21317, 'hospice': 21318, 'wither': 21319, \"neighbors'\": 21320, 'romanian': 21321, 'joyfully': 21322, '230': 21323, 'shoos': 21324, \"snowden's\": 21325, 'thewrap': 21326, 'yogurt': 21327, 'windowsill': 21328, 'extremism': 21329, 'wino': 21330, \"'out\": 21331, \"sight'\": 21332, 'propped': 21333, 'elmore': 21334, 'succinctly': 21335, 'expired': 21336, 'gloomy': 21337, 'superdelegates': 21338, 'herman': 21339, 'monkeys': 21340, 'rockwell': 21341, 'revamped': 21342, 'wpa': 21343, 'disassembling': 21344, 'reassembling': 21345, 'hoover': 21346, 'lousy': 21347, 'storming': 21348, 'inhuman': 21349, 'intuition': 21350, 'crawleys': 21351, 'downton': 21352, 'abbey': 21353, 'coyote': 21354, \"'birthday'\": 21355, 'deferred': 21356, 'gravestones': 21357, 'toppled': 21358, \"semitic'\": 21359, \"'degrading\": 21360, \"experience'\": 21361, 'ozone': 21362, 'depletion': 21363, 'sportswear': 21364, \"asshole's\": 21365, 'investigative': 21366, 'cigar': 21367, 'aspca': 21368, 'delicately': 21369, 'broached': 21370, 'ribbons': 21371, 'bunk': 21372, 'kale': 21373, 'football—nah': 21374, 'kidding': 21375, 'beekeeping': 21376, \"rbg's\": 21377, 'roost': 21378, 'hokey': 21379, 'pokey': 21380, 'ramping': 21381, 'gamestop': 21382, 'receivable': 21383, 'orson': 21384, 'scroll': 21385, \"'culture\": 21386, 'plummets': 21387, '1580s': 21388, \"valley's\": 21389, 'nash': 21390, \"mind'\": 21391, 'mathematician': 21392, 'estimated': 21393, \"'tough\": 21394, 'worrisome': 21395, 'usage': 21396, 'stragglers': 21397, 'outsmarted': 21398, 'regretfully': 21399, \"weapon'\": 21400, 'intimately': 21401, 'titties': 21402, 'drudge': 21403, 'sherman': 21404, 'alexie': 21405, \"'noise\": 21406, \"headphones'\": 21407, 'lagarde': 21408, 'payout': 21409, 'hogsmeade': 21410, 'restart': 21411, 'liberace': 21412, \"'schizophrenic'\": 21413, \"'bipolar'\": 21414, \"sheriff's\": 21415, '501': 21416, 'fresco': 21417, 'intercultural': 21418, 'stressfest': 21419, \"'young\": 21420, 'coursing': 21421, 'verse': 21422, \"holiday'\": 21423, 'podiatrist': 21424, 'nonindigenous': 21425, \"'gorilla'\": 21426, \"tiger's\": 21427, 'dahlia': 21428, 'duration': 21429, 'redstate': 21430, 'leon': 21431, 'overpasses': 21432, 'contamination': 21433, 'policymaking': 21434, 'manipulated': 21435, 'commandment': 21436, 'rentboys': 21437, 'rentboy': 21438, \"'spongebob'\": 21439, 'punta': 21440, 'cana': 21441, \"'luck'\": 21442, 'sheen': 21443, 'shortfall': 21444, \"akin's\": 21445, 'blemish': 21446, 'spotless': 21447, 'coordinator': 21448, 'trucking': 21449, 'methamphetamines': 21450, 'dissent': 21451, 'octogenarian': 21452, 'flapper': 21453, \"'doomsday\": 21454, \"lieberman's\": 21455, 'overlords': 21456, 'displeased': 21457, 'skewed': 21458, 'submit': 21459, 'overenthusiastic': 21460, \"everyone'\": 21461, 'zell': 21462, 'khalid': 21463, 'sheikh': 21464, 'mohammed': 21465, 'confessing': 21466, \"dictionaries'\": 21467, 'likeness': 21468, 'pardoning': 21469, 'sketchbook': 21470, 'knuckles': 21471, 'magna': 21472, 'carta': 21473, 'breaths': 21474, 'roasted': 21475, 'ingesting': 21476, \"cheetah's\": 21477, 'overcomes': 21478, 'ramarley': 21479, 'reenactor': 21480, 'medieval': 21481, 'buzzing': 21482, 'phrases': 21483, \"strung'\": 21484, 'smash': 21485, \"'frontline\": 21486, \"policies'\": 21487, 'gems': 21488, 'delightful': 21489, \"'once\": 21490, 'galore': 21491, 'linebacker': 21492, 'bicycles': 21493, 'spaceships': 21494, 'jumble': 21495, 'symbols': 21496, 'browse': 21497, 'reruns': 21498, 'moronic': 21499, 'mailroom': 21500, 'felipe': 21501, 'serbian': 21502, 'belgrade': 21503, 'gaziantep': 21504, 'chainsaw': 21505, 'manziel': 21506, 'whisk': 21507, 'screws': 21508, 'gush': 21509, 'katif': 21510, 'disengagement': 21511, 'xx': 21512, 'gazing': 21513, 'conspiring': 21514, 'fetishists': 21515, 'inherent': 21516, 'jeeves': 21517, 'warts': 21518, 'marlee': 21519, 'matlin': 21520, 'skedaddle': 21521, 'skillingsbolle': 21522, 'underwood': 21523, 'stitches': 21524, 'gibbs': 21525, 'audiotapes': 21526, 'conclusively': 21527, \"byrne's\": 21528, 'souter': 21529, 'rebate': 21530, 'nurturing': 21531, 'quarterback': 21532, 'mechanical': 21533, 'jumbo': 21534, 'forks': 21535, 'positioned': 21536, \"darfur'\": 21537, 'rawlings': 21538, \"clinton'\": 21539, 'repercussions': 21540, \"outsiders'\": 21541, 'ideology': 21542, 'wheaton': 21543, 'nikes': 21544, 'format': 21545, 'precipice': 21546, 'equine': 21547, 'quayle': 21548, 'patriarch': 21549, 'admitted': 21550, 'bakers': 21551, \"fail'd\": 21552, 'uswnt': 21553, 'predators': 21554, 'bassnectar': 21555, \"'unlimited'\": 21556, 'theodore': 21557, 'burke': 21558, 'shipyard': 21559, \"astronaut's\": 21560, 'depends': 21561, 'rainbows': 21562, 'butterflies': 21563, 'shithead': 21564, 'apologies': 21565, 'politico': 21566, 'diphtheria': 21567, 'heckle': 21568, 'feasts': 21569, 'insisting': 21570, \"'shots'\": 21571, 'compelling': 21572, 'neutered': 21573, 'statuette': 21574, \"'we'll\": 21575, 'shortly': 21576, \"melania's\": 21577, 'recuperates': 21578, 'prophesied': 21579, \"'tv\": 21580, \"guide'\": 21581, \"anthem's\": 21582, 'bicentennial': 21583, 'fixes': 21584, 'flicker': 21585, 'renouncing': 21586, \"mustn't\": 21587, 'inquire': 21588, 'crete': 21589, 'becker': 21590, \"dock'\": 21591, 'rowboat': 21592, 'tailgate': 21593, 'rainfall': 21594, \"worse'\": 21595, \"nye's\": 21596, 'junta': 21597, 'chaka': 21598, \"sinatra's\": 21599, 'enoch': 21600, \"nice'\": 21601, 'excercise': 21602, 'flopping': 21603, 'juvenile': 21604, 'munchstrosity': 21605, 'layboratory': 21606, 'wrongdoing': 21607, \"robber's\": 21608, 'menthol': 21609, 'releasing': 21610, 'scolded': 21611, 'racks': 21612, 'chipmunks': 21613, 'sheepish': 21614, 'lepage': 21615, \"unhinged'\": 21616, 'marshmallows': 21617, 'gravy': 21618, 'indivisible': 21619, \"'moved\": 21620, '116': 21621, 'farberware': 21622, 'nonstick': 21623, 'dagestan': 21624, 'satanists': 21625, 'bows': 21626, 'chemically': 21627, 'kidnappings': 21628, 'fulfilled': 21629, 'prophecy': 21630, 'startups': 21631, 'masseuse': 21632, 'osama': 21633, 'soaring': 21634, \"ballet's\": 21635, 'noche': 21636, 'pasión': 21637, 'soirée': 21638, 'wakening': 21639, 'purists': 21640, 'jamar': 21641, 'exhibition': 21642, 'maytag': 21643, 'appellate': 21644, 'ofiesh': 21645, 'kaytlin': 21646, 'bailey': 21647, 'goya': 21648, 'hooters': 21649, \"'obi\": 21650, 'wan': 21651, \"kenobi'\": 21652, 'ludicrous': 21653, 'furries': 21654, 'stumping': 21655, 'preside': 21656, \"'toastables'\": 21657, 'microwavable': 21658, 'toasted': 21659, 'jabbar': 21660, 'leery': 21661, 'goiter': 21662, 'uninterrupted': 21663, 'asexuals': 21664, '156': 21665, 'mapplethorpe': 21666, 'woo': 21667, 'cm': 21668, 'ufc': 21669, 'adamant': 21670, \"horses'\": 21671, 'masturbator': 21672, 'nichols': 21673, \"daniel's\": 21674, 'whereas': 21675, 'recalibrates': 21676, 'religions': 21677, 'medicruelty': 21678, \"islam's\": 21679, 'dermer': 21680, \"'dope'\": 21681, 'serengeti': 21682, \"foe's\": 21683, 'goblet': 21684, 'leverages': 21685, 'reserving': 21686, 'realistically': 21687, 'organ': 21688, 'tragicomic': 21689, 'intercept': 21690, 'hurtful': 21691, 'briskly': 21692, \"dea's\": 21693, 'traffickers': 21694, 'urinals': 21695, 'pvc': 21696, 'campfire': 21697, 'sridevi': 21698, \"mckinley's\": 21699, 'assassin': 21700, 'dakotan': 21701, 'unharmed': 21702, 'hail': 21703, 'kidman': 21704, 'peso': 21705, 'taro': 21706, 'kono': 21707, 'vineyard': 21708, 'powdered': 21709, 'unguarded': 21710, 'clutch': 21711, 'treater': 21712, 'tarnished': 21713, 'acorns': 21714, \"'pro\": 21715, \"israel'\": 21716, 'grapple': 21717, 'fearmongering': 21718, 'warfare': 21719, 'pleasantries': 21720, 'triggering': 21721, 'om': 21722, \"'double\": 21723, \"knot'\": 21724, 'milkshake': 21725, 'shabaab': 21726, 'fracturing': 21727, 'jihadism': 21728, 'fenimore': 21729, '224': 21730, 'hellerman': 21731, 'weavers': 21732, \"'influential'\": 21733, 'owen': 21734, 'doofus': 21735, 'junkies': 21736, 'disbelief': 21737, 'unrewarded': 21738, 'barriers': 21739, 'rauner': 21740, 'enthralling': 21741, 'chamillionaire': 21742, 'flyboy': 21743, 'jakrapong': 21744, 'kongmalai': 21745, 'suspend': 21746, 'cosme': 21747, 'nike': 21748, 'irrelevant': 21749, \"'zanjeer'\": 21750, 'consolidate': 21751, 'alienate': 21752, 'cables': 21753, 'malick': 21754, \"'knight\": 21755, \"cups'\": 21756, 'freida': 21757, 'pinto': 21758, 'leah': 21759, 'remini': 21760, 'rediscovers': 21761, 'mouseketeer': 21762, 'marque': 21763, \"'tate'\": 21764, 'lynche': 21765, 'movers': 21766, 'carnivore': 21767, 'meatheads': 21768, \"careful'\": 21769, 'contentment': 21770, \"holiday's\": 21771, \"ties'\": 21772, 'masterwork': 21773, \"leaf'\": 21774, 'philadelphiatheatreco': 21775, 'aligned': 21776, \"commissioner's\": 21777, 'divorcée': 21778, 'toobin': 21779, 'humorous': 21780, \"mockingbird'\": 21781, 'devastated': 21782, 'tenacity': 21783, 'intelligently': 21784, 'huntley': 21785, 'stunted': 21786, 'palahniuk': 21787, 'versa': 21788, \"'silence'\": 21789, 'ignatians': 21790, 'shards': 21791, 'overtipper': 21792, 'frothing': 21793, 'hosed': 21794, 'sass': 21795, \"'sorry\": 21796, \"schedules'\": 21797, 'versace': 21798, \"code'\": 21799, \"pedophilia'\": 21800, 'pulses': 21801, \"aoki's\": 21802, 'edm': 21803, 'neapolitan': 21804, 'introspection': 21805, 'overpopulation': 21806, 'defied': 21807, 'soybean': 21808, 'timey': 21809, 'reggaetón': 21810, \"'feeling\": 21811, \"thermometer'\": 21812, 'crowds': 21813, 'audiobook': 21814, 'cajun': 21815, 'pistachio': 21816, 'biscotti': 21817, 'kirsch': 21818, 'cherries': 21819, \"chick'\": 21820, 'taser': 21821, 'snowed': 21822, \"hutsell'\": 21823, 'presser': 21824, 'postcard': 21825, 'meenakshi': 21826, 'amman': 21827, \"'urban\": 21828, 'manga': 21829, 'arranged': 21830, 'vicinity': 21831, 'granger': 21832, 'apparel': 21833, 'cop20': 21834, 'infighting': 21835, 'dignified': 21836, \"'trap\": 21837, \"queen'\": 21838, 'suicides': 21839, 'fitted': 21840, 'louisa': 21841, 'gornick': 21842, 'gandalf': 21843, 'abyss': 21844, 'talkative': 21845, 'dante': 21846, 'virgil': 21847, \"abe's\": 21848, 'indy': 21849, \"columnist's\": 21850, 'scoops': 21851, \"'gobble\": 21852, 'gobble': 21853, \"turkey'\": 21854, 'unconditional': 21855, 'hollister': 21856, '354': 21857, 'asu': 21858, 'gsv': 21859, 'dadlife': 21860, 'nicoderm': 21861, 'nicotine': 21862, 'scariest': 21863, 'lookers': 21864, 'passers': 21865, 'vale': 21866, 'boothe': 21867, \"'disney\": 21868, \"fairies'\": 21869, 'apocalypto': 21870, 'metta': 21871, \"jam's\": 21872, \"'even\": 21873, \"flow'\": 21874, \"'perfect'\": 21875, 'messenger': 21876, 'purge': 21877, 'infographic': 21878, \"entertainment's\": 21879, 'salke': 21880, 'sherry': 21881, 'lansing': 21882, 'overrides': 21883, 'scalding': 21884, 'diplomas': 21885, \"'agreed'\": 21886, \"keaton's\": 21887, 'mckinney': 21888, 'rehabilitated': 21889, 'farting': 21890, 'processors': 21891, 'reviewers': 21892, 'dorchester': 21893, 'rappers': 21894, 'jarringly': 21895, \"kinko's\": 21896, 'switcheroo': 21897, 'dumpling': 21898, 'extralegal': 21899, 'apparatus': 21900, 'quadriscuits': 21901, 'resentencing': 21902, 'considerable': 21903, 'headache': 21904, 'raisins': 21905, 'cloaked': 21906, 'kraft': 21907, 'tile': 21908, 'backsplash': 21909, 'unpunished': 21910, 'brownstone': 21911, 'retreating': 21912, 'peacekeepers': 21913, 'bosnia': 21914, 'vandana': 21915, 'shiva': 21916, 'mgm': 21917, 'immunization': 21918, 'distract': 21919, 'grift': 21920, 'murph': 21921, 'incitement': 21922, 'blades': 21923, 'smuggle': 21924, '“war': 21925, '”': 21926, 'inclusivity': 21927, \"'emoji\": 21928, 'hassan': 21929, 'jameel': 21930, 'pooping': 21931, \"'chemo\": 21932, \"backpack'\": 21933, 'seduction': 21934, 'energizes': 21935, 'basest': 21936, 'joey': 21937, 'arias': 21938, 'timmy': 21939, 'blanchard': 21940, 'busey': 21941, 'prophet': 21942, \"jordan's\": 21943, 'mists': 21944, 'tyrese': 21945, 'monitored': 21946, \"'catfight'\": 21947, 'heche': 21948, \"oh's\": 21949, \"kirk's\": 21950, \"trekkie's\": 21951, 'nylon': 21952, \"famous'\": 21953, 'hetero': 21954, 'gamechanger': 21955, 'kailash': 21956, 'satyarthi': 21957, 'jughead': 21958, 'milky': 21959, \"way's\": 21960, 'shimmers': 21961, 'raiding': 21962, 'gambles': 21963, \"orphanage's\": 21964, 'firefight': 21965, 'funerals': 21966, 'soulcycle': 21967, \"instructor's\": 21968, \"thresholds'\": 21969, 'aplogize': 21970, 'refrain': 21971, 'directive': 21972, 'digitization': 21973, 'incentive': 21974, 'snatching': 21975, 'ilana': 21976, 'glazer': 21977, 'harassers': 21978, \"'lick\": 21979, 'blazing': 21980, 'districts': 21981, 'weathers': 21982, \"'happy'\": 21983, '1983': 21984, 'speedboat': 21985, 'rudd': 21986, \"royals'\": 21987, \"fuck's\": 21988, \"voted'\": 21989, 'taiwanese': 21990, 'cologne': 21991, 'refunds': 21992, \"'unfairly'\": 21993, 'compatriots': 21994, 'voiced': 21995, 'dwell': 21996, 'meteorologists': 21997, \"'sexually\": 21998, \"suggestive'\": 21999, \"'song\": 22000, \"2017'\": 22001, \"masses'\": 22002, 'pandering': 22003, 'spotting': 22004, 'renegotiation': 22005, 'defiantly': 22006, 'scone': 22007, 'navigates': 22008, \"online'\": 22009, 'descended': 22010, 'stockpile': 22011, 'sykes': 22012, 'diss': 22013, 'coins': 22014, 'pompeii': 22015, 'excavation': 22016, \"mckinnon's\": 22017, 'mantle': 22018, 'whaling': 22019, \"assault'\": 22020, 'cheetah': 22021, 'gladwell': 22022, 'foretells': 22023, 'popularity': 22024, \"scheme'\": 22025, 'onlookers': 22026, 'gape': 22027, \"sailors'\": 22028, 'unforgettable': 22029, 'warhol': 22030, 'woodlawn': 22031, 'dramatize': 22032, 'butch': 22033, 'misconception': 22034, \"'20\": 22035, \"20'\": 22036, 'conception': 22037, \"rep's\": 22038, 'der': 22039, \"beek's\": 22040, \"'lies'\": 22041, 'maimed': 22042, \"'manchester\": 22043, \"know'\": 22044, 'ammonia': 22045, 'stalled': 22046, 'itching': 22047, 'travolta': 22048, \"'dick\": 22049, \"poop'\": 22050, 'seatmates': 22051, \"'heartwarming'\": 22052, \"'novλ'\": 22053, 'nfc': 22054, \"iceberg's\": 22055, 'enterprising': 22056, \"rites'\": 22057, 'batters': 22058, 'bahamas': 22059, 'slacker': 22060, 'anthems': 22061, 'osteoporosis': 22062, 'preserving': 22063, 'phoenician': 22064, 'tyre': 22065, \"'petty'\": 22066, 'contented': 22067, 'spores': 22068, 'isaac': 22069, 'hamlet': 22070, 'trotters': 22071, 'promo': 22072, 'ice—and': 22073, 'thwarts': 22074, 'flirts': 22075, 'hairstyles': 22076, 'jpso': 22077, \"ihop's\": 22078, 'headdress': 22079, 'andromeda': 22080, 'jackals': 22081, 'fernandez': 22082, 'eulogizes': 22083, \"seasons'\": 22084, 'hardest': 22085, 'sensory': 22086, 'deprivation': 22087, 'glenbrook': 22088, \"charlottesville's\": 22089, 'progressed': 22090, 'uphill': 22091, 'saltless': 22092, 'bulb': 22093, 'deadspin': 22094, 'disapproval': 22095, \"important'\": 22096, \"'cotton\": 22097, 'climber': 22098, \"mic'\": 22099, 'saver': 22100, 'pinching': 22101, 'bares': 22102, 'mnuchin': 22103, 'sisi': 22104, 'terrific': 22105, 'superbug': 22106, \"'moby\": 22107, \"dick'\": 22108, 'uzo': 22109, \"aduba's\": 22110, \"kenya's\": 22111, 'forests': 22112, 'publick': 22113, 'spectacle': 22114, \"montana'\": 22115, 'innate': 22116, 'screened': 22117, \"haram's\": 22118, \"outs'\": 22119, 'shielded': 22120, 'rc': 22121, 'displaying': 22122, \"videotape'\": 22123, \"'distraction'\": 22124, 'dustpan': 22125, 'insights': 22126, 'guru': 22127, \"'bonding'\": 22128, 'apgar': 22129, 'temps': 22130, \"'rooting\": 22131, 'surged': 22132, 'regulator': 22133, 'shareholder': 22134, \"'bates\": 22135, \"motel'\": 22136, 'supposedly': 22137, \"mobil's\": 22138, 'parasites': 22139, 'zz': 22140, \"'legs'\": 22141, 'humanists': 22142, 'obelisk': 22143, 'uptown': 22144, 'beggar': 22145, \"'bed\": 22146, \"england'\": 22147, 'wad': 22148, \"'force'\": 22149, 'warplanes': 22150, 'pawned': 22151, '258': 22152, '159': 22153, 'mulvaney': 22154, 'sakharov': 22155, 'whoa': 22156, \"frederick's\": 22157, 'anchorage': 22158, 'crotchless': 22159, 'hoods': 22160, 'roald': 22161, 'dahl': 22162, 'beckford': 22163, 'obscurity': 22164, 'factoids': 22165, 'raffling': 22166, 'cohn': 22167, 'tracey': 22168, 'ullman': 22169, \"system'\": 22170, 'frances': 22171, 'cobain': 22172, 'prehab': 22173, 'scaring': 22174, \"stadium's\": 22175, 'reinforced': 22176, 'suggestive': 22177, \"'rand\": 22178, \"'champion'\": 22179, 'mewesyria': 22180, 'flirty': 22181, \"pop's\": 22182, \"kucinich's\": 22183, 'harbors': 22184, \"'cnn\": 22185, \"cnn'\": 22186, 'porsha': 22187, 'myroommateisweird': 22188, 'roomie': 22189, \"harvard's\": 22190, 'relative': 22191, 'favorably': 22192, \"hackers'\": 22193, 'efficiently': 22194, 'nicest': 22195, 'braless': 22196, 'trumphair': 22197, 'bruising': 22198, 'wink': 22199, \"nod'\": 22200, 'infidel': 22201, 'jokingly': 22202, 'nova': 22203, 'boobs': 22204, \"bouncin'\": 22205, 'ponders': 22206, 'skulking': 22207, 'victorian': 22208, \"gym's\": 22209, \"decision'\": 22210, 'stingray': 22211, 'squeal': 22212, 'recoil': 22213, 'davanzo': 22214, 'gregory': 22215, 'lawler': 22216, 'gaze': 22217, 'sights': 22218, \"burgers'\": 22219, 'ctrl': 22220, \"amc's\": 22221, 'invests': 22222, 'moniz': 22223, 'stationary': 22224, \"singapore's\": 22225, 'preceded': 22226, 'esl': 22227, 'concentrates': 22228, 'vocabulary': 22229, 'eyeing': 22230, 'festering': 22231, 'walnuts': 22232, 'lipped': 22233, \"'jill\": 22234, \"stein'\": 22235, 'bionic': 22236, 'fingertip': 22237, 'monologues': 22238, 'gasp': 22239, \"vaccine's\": 22240, \"globes'\": 22241, 'hummingbirds': 22242, 'incubators': 22243, 'homepod': 22244, \"lawyer'\": 22245, 'twelfth': 22246, \"'vagina'\": 22247, 'rené': 22248, \"magritte's\": 22249, 'contracted': 22250, 'findings': 22251, 'statisticians': 22252, 'branch': 22253, 'scenarios': 22254, 'semi': 22255, 'atrocity': 22256, 'brevity': 22257, 'undressed': 22258, 'dreamer': 22259, 'startled': 22260, \"'beware\": 22261, \"hubris'\": 22262, 'attach': 22263, 'panoramic': 22264, \"walmart's\": 22265, 'suicidal': 22266, 'geese': 22267, 'jetliner': 22268, 'masochistic': 22269, 'sherwin': 22270, 'triumphantly': 22271, 'aggressively': 22272, 'hur': 22273, 'aatish': 22274, 'taseer': 22275, 'sanskrit': 22276, 'snuggle': 22277, 'competitor': 22278, 'pricey': 22279, 'scarves': 22280, 'tijuana': 22281, 'teri': 22282, \"hatcher's\": 22283, 'alyssa': 22284, \"zandt's\": 22285, \"gyllenhaal's\": 22286, \"'demolition\": 22287, \"'lobster'\": 22288, 'mans': 22289, \"campus's\": 22290, 'weeps': 22291, 'annis': 22292, 'merron': 22293, 'arbor': 22294, 'attributed': 22295, 'geist': 22296, \"'flame'\": 22297, 'airasia': 22298, 'turnips': 22299, 'starlight': 22300, 'sideshow': 22301, 'peppered': 22302, 'reassurances': 22303, 'emanates': 22304, \"'saved\": 22305, \"bell'\": 22306, 'intrigues': 22307, \"'millennials'\": 22308, 'pageviews': 22309, 'tented': 22310, \"mara's\": 22311, 'angelic': 22312, 'cradled': 22313, 'rfk': 22314, \"'years\": 22315, \"minor'\": 22316, 'tandem': 22317, \"list'\": 22318, 'kudrow': 22319, 'wyatt': 22320, 'vowed': 22321, \"outrage'\": 22322, 'broadcasting': 22323, \"'hostage'\": 22324, 'nativist': 22325, 'kaley': 22326, 'cuoco': 22327, \"'ruined'\": 22328, 'arlen': 22329, 'specter': 22330, 'affiliation': 22331, 'pencil': 22332, 'nub': 22333, 'sharper': 22334, 'mcmaster': 22335, \"'nut\": 22336, \"sessions'\": 22337, \"'license\": 22338, \"discriminate'\": 22339, 'idly': 22340, 'bolts': 22341, 'composite': 22342, 'signaling': 22343, \"post's\": 22344, 'slimy': 22345, 'webb': 22346, \"'jessica\": 22347, 'appease': 22348, 'batumi': 22349, 'activities': 22350, \"nephew's\": 22351, 'overturned': 22352, 'superman': 22353, 'gutters': 22354, 'castles': 22355, 'idf': 22356, 'restrooms': 22357, 'erects': 22358, 'assemblage': 22359, 'dashing': 22360, 'pulp': 22361, 'rows': 22362, \"'surfer\": 22363, \"angel'\": 22364, 'arbitration': 22365, 'jerky': 22366, 'vaguely': 22367, 'telemarketers': 22368, 'portman': 22369, \"'lawsuits'\": 22370, \"'sweetie'\": 22371, 'auditions': 22372, 'overselling': 22373, 'seductive': 22374, \"'eyes'\": 22375, 'internationalization': 22376, \"wrong'\": 22377, 'putters': 22378, 'robe': 22379, 'enrolled': 22380, 'balsam': 22381, 'developmental': 22382, 'baruch': 22383, 'canyon': 22384, 'fergie': 22385, 'jubilee': 22386, 'clairvoyant': 22387, 'vaughn': 22388, 'revisions': 22389, 'bulletin': 22390, 'septuplets': 22391, \"swattin'\": 22392, 'evangelicalism': 22393, 'regressive': 22394, \"gawker's\": 22395, 'loathing': 22396, 'portfolio': 22397, 'plausible': 22398, 'deniability': 22399, 'plots': 22400, 'unwarranted': 22401, 'watts': 22402, 'liev': 22403, 'schreiber': 22404, 'dodge': 22405, 'receding': 22406, \"area's\": 22407, \"'kitsch'\": 22408, 'balm': 22409, 'argentinian': 22410, 'perpetrators': 22411, 'kowtow': 22412, \"popeye's\": 22413, 'boiglerized': 22414, 'mockumentary': 22415, \"'m4m'\": 22416, 'midsize': 22417, 'trillions': 22418, 'derivatives': 22419, 'wrecks': 22420, 'cayman': 22421, \"salon's\": 22422, \"chair'\": 22423, 'smalltalk': 22424, 'auctioned': 22425, 'conglomerate': 22426, 'orangutan': 22427, 'reincarnated': 22428, 'waffle': 22429, 'fraudsters': 22430, 'reap': 22431, 'gloating': 22432, 'draconian': 22433, 'plunger': 22434, 'collapsible': 22435, \"'threat'\": 22436, 'shan': 22437, 'boot': 22438, 'funnels': 22439, 'donbas': 22440, 'cartilage': 22441, 'inserts': 22442, \"ivanka's\": 22443, 'satin': 22444, 'quicker': 22445, 'calculus': 22446, 'losses': 22447, 'unlikable': 22448, 'macrowave': 22449, 'defrost': 22450, 'postmistress': 22451, 'fares': 22452, 'ahmadinejad': 22453, 'goodlatte': 22454, \"tom's\": 22455, 'chobani': 22456, 'rosa': 22457, 'terabytes': 22458, \"consumers'\": 22459, 'sawyer': 22460, 'ragnar': 22461, \"'vikings'\": 22462, 'tiebreaker': 22463, 'secular': 22464, 'ginger': 22465, \"minj's\": 22466, \"santa's\": 22467, \"nixon's\": 22468, 'interrupt': 22469, 'karma': 22470, 'turban': 22471, 'unblemished': 22472, 'thorogood': 22473, 'licensed': 22474, 'caustic': 22475, 'shrivels': 22476, 'bloc': 22477, 'antonoff': 22478, 'retakes': 22479, 'belles': 22480, \"tufts'\": 22481, 'nutrition': 22482, 'berries': 22483, 'mucus': 22484, 'willi': 22485, \"dorner's\": 22486, \"'bodies\": 22487, \"spaces'\": 22488, 'chunked': 22489, \"'veep'\": 22490, 'hymns': 22491, 'sung': 22492, \"carter's\": 22493, \"peanuts'\": 22494, 'g7': 22495, \"'g8\": 22496, \"getaway'\": 22497, 'mired': 22498, 'tutor': 22499, \"pharma's\": 22500, 'shortages': 22501, 'alia': 22502, 'shawkat': 22503, \"of'\": 22504, 'goldie': 22505, 'hawn': 22506, 'deans': 22507, '025': 22508, 'retool': 22509, \"consequences'\": 22510, 'marrow': 22511, 'caylee': 22512, 'explainthe90sin4words': 22513, 'resurfaces': 22514, 'passover': 22515, 'designations': 22516, 'genetics': 22517, 'emphatically': 22518, 'wurst': 22519, 'attendants': 22520, \"carolina's\": 22521, \"'ambush\": 22522, 'delarge': 22523, 'droogs': 22524, 'amidst': 22525, 'gigantic': 22526, 'paternalizing': 22527, 'subpoenaed': 22528, \"'latinos\": 22529, 'capitalism': 22530, \"harris'\": 22531, \"strikes'\": 22532, 'salaries': 22533, 'nightstand': 22534, 'marketer': 22535, \"'junk\": 22536, 'zeev': 22537, 'aram': 22538, 'dredging': 22539, 'electrifies': 22540, 'dunked': 22541, 'ironically': 22542, \"'choice'\": 22543, '297': 22544, \"'philadelphia'\": 22545, \"'king\": 22546, \"lear'\": 22547, 'crafting': 22548, 'marketable': 22549, 'nite': 22550, 'flonase': 22551, \"'oscars\": 22552, 'capsizing': 22553, 'decisive': 22554, 'disrobing': 22555, \"'comfier\": 22556, \"booths'\": 22557, 'modcloth': 22558, 'leggings': 22559, 'mugabe': 22560, 'trumpets': 22561, \"'ping'\": 22562, 'fullest': 22563, 'stiffed': 22564, 'strengthening': 22565, \"'jelly\": 22566, 'shriveled': 22567, 'plywood': 22568, 'shuttered': 22569, \"wahlberg's\": 22570, 'dukakis': 22571, 'contends': 22572, \"alike'\": 22573, 'hachette': 22574, 'introvert': 22575, 'mumolo': 22576, \"'bridesmaids'\": 22577, 'wrongfully': 22578, 'painstaking': 22579, 'destined': 22580, 'exonerated': 22581, 'defenseless': 22582, 'surpassed': 22583, 'docents': 22584, 'kermit': 22585, \"shaggy's\": 22586, '2000s': 22587, 'psychiatric': 22588, 'plugin': 22589, '1928': 22590, 'demonstrated': 22591, \"'stability'\": 22592, \"'competence'\": 22593, 'angles': 22594, \"'icky\": 22595, 'polishing': 22596, 'memorize': 22597, 'associate': 22598, 'retry': 22599, \"pompeo's\": 22600, 'armstrong': 22601, 'shia': 22602, 'militiaman': 22603, \"'mass\": 22604, \"mobs'\": 22605, 'carnage': 22606, 'committers': 22607, \"hitler's\": 22608, 'sooo': 22609, 'bosley': 22610, 'flatirons': 22611, \"'uncle\": 22612, \"tom'\": 22613, 'chuy': 22614, \"garcia's\": 22615, \"emanuel's\": 22616, 'spiraled': 22617, 'brushes': 22618, 'mound': 22619, 'demonstrators': 22620, 'christophe': 22621, 'michalak': 22622, 'roudup': 22623, 'habsburg': 22624, 'caleb': 22625, \"deed'\": 22626, 'outpaces': 22627, \"'dolphin\": 22628, 'trance': 22629, \"other'\": 22630, 'napkinless': 22631, \"gone'\": 22632, 'oracle': 22633, 'raindrop': 22634, 'equipped': 22635, 'mandibles': 22636, 'endlessly': 22637, 'rendezvous': 22638, \"tell'\": 22639, 'templeton': 22640, 'miscast': 22641, \"'trench\": 22642, \"century'\": 22643, 'maneuvers': 22644, 'joystick': 22645, 'zealot': 22646, 'auditorium': 22647, 'handy': 22648, 'trades': 22649, 'locates': 22650, 'nh': 22651, 'matchbox': 22652, 'charth': 22653, \"'villain'\": 22654, 'velociraptor': 22655, \"'jurassic\": 22656, 'politely': 22657, 'sofa': 22658, 'relic': 22659, 'koenig': 22660, \"laramie's\": 22661, 'awakens': 22662, 'bastille': 22663, \"'disturbing'\": 22664, 'streaking': 22665, 'irregularities': 22666, 'staunch': 22667, 'sweatiest': 22668, 'twitterverse': 22669, \"x's\": 22670, 'gadget': 22671, 'mortician': 22672, \"'bernie'\": 22673, \"widow's\": 22674, 'wizarding': 22675, 'diagon': 22676, 'alley': 22677, \"'guinness\": 22678, 'playbook': 22679, 'waging': 22680, 'cannonball': 22681, 'appointing': 22682, \"'czar'\": 22683, 'capitalize': 22684, \"'milestone'\": 22685, 'contemplated': 22686, 'subpoena': 22687, '550': 22688, 'malaysian': 22689, 'shipments': 22690, 'negligent': 22691, 'sloppily': 22692, 'interfered': 22693, 'convent': 22694, 'stripping': 22695, 'indirectly': 22696, 'steaks™': 22697, 'sandberg': 22698, 'thinker': 22699, 'clayton': 22700, \"christensen's\": 22701, 'winterized': 22702, 'directs': 22703, 'superior': 22704, 'radials': 22705, \"'silver\": 22706, \"lining'\": 22707, \"snapchat's\": 22708, 'snapcash': 22709, 'hippocratic': 22710, \"'day\": 22711, 'reused': 22712, \"arabs'\": 22713, 'brook': 22714, 'molding': 22715, 'darrelle': 22716, 'revis': 22717, \"'belligerent'\": 22718, 'melee': 22719, 'forth': 22720, 'isbell': 22721, 'underpaid': 22722, 'viall': 22723, \"mo'nique\": 22724, \"'i'd\": 22725, 'rants': 22726, \"supporter's\": 22727, 'ernie': 22728, \"shkreli's\": 22729, 'cornell': 22730, \"'pig\": 22731, \"roast'\": 22732, 'stove': 22733, 'zest': 22734, 'sear': 22735, \"edwards'\": 22736, 'anew': 22737, \"'demented'\": 22738, 'ulta': 22739, 'borrowing': 22740, 'masochists': 22741, \"concur's\": 22742, 'prefaced': 22743, \"events'\": 22744, \"them'\": 22745, 'airlifted': 22746, 'liturgy': 22747, 'atone': 22748, 'chia': 22749, 'overcame': 22750, 'implications': 22751, 'misjudged': 22752, \"'casually\": 22753, \"lipped'\": 22754, 'petco': 22755, \"'access\": 22756, \"hollywood'\": 22757, 'ragtag': 22758, 'christening': 22759, 'pea': 22760, 'kidz': 22761, 'bop': 22762, 'eclipsing': 22763, 'ruffle': 22764, 'decathlon': 22765, \"'screw\": 22766, 'hollande': 22767, 'valls': 22768, 'mdma': 22769, \"'homosexuality\": 22770, \"addiction'\": 22771, \"feds'\\xa0response\": 22772, \"moving'\": 22773, 'corroboration': 22774, 'braille': 22775, \"facts'\": 22776, 'psychics': 22777, 'necessarily': 22778, 'sheep': 22779, 'acute': 22780, 'flattened': 22781, 'pharmacist': 22782, 'histories': 22783, '731st': 22784, 'outdo': 22785, 'lampshade': 22786, 'clancy': 22787, 'honorary': 22788, 'yolo': 22789, \"'greedy'\": 22790, 'header': 22791, \"'guernica'\": 22792, \"'nightingale'\": 22793, 'vid': 22794, 'botch': 22795, 'nonstop': 22796, 'ambition': 22797, 'lili': 22798, 'lollapalooza': 22799, 'kiddie': 22800, 'disrepair': 22801, 'rigged': 22802, 'griffith': 22803, 'litterer': 22804, 'fractured': 22805, \"judys'\": 22806, 'fielder': 22807, 'chewed': 22808, \"toddler'\": 22809, 'ayurveda': 22810, 'corral': 22811, 'wires': 22812, 'infamy': 22813, 'expenditure': 22814, \"'riverdale'\": 22815, \"soldier'\": 22816, \"tamblyn's\": 22817, 'poems': 22818, 'illuminate': 22819, 'wyoming': 22820, 'heats': 22821, 'adieu': 22822, 'quarters': 22823, 'caird': 22824, \"poet's\": 22825, 'heartbreakingly': 22826, 'slurps': 22827, 'twitching': 22828, 'straightened': 22829, 'strangle': 22830, \"donald's\": 22831, \"'colbert'\": 22832, 'thinkable': 22833, 'keanu': 22834, 'reeves': 22835, 'fitzpatrick': 22836, \"'favorites'\": 22837, 'tormentor': 22838, \"colleagues'\": 22839, \"acquaintances'\": 22840, \"strangers'\": 22841, 'renders': 22842, 'vandalizes': 22843, 'calms': 22844, 'nerves': 22845, 'courthouse': 22846, 'spokesperson': 22847, 'shivers': 22848, 'spine': 22849, 'hissy': 22850, 'shedd': 22851, '37th': 22852, 'figurine': 22853, 'savor': 22854, 'weaning': 22855, \"'pill\": 22856, \"lady'\": 22857, 'mockingbird': 22858, '421': 22859, 'inboxes': 22860, \"being'\": 22861, 'quill': 22862, 'ink': 22863, 'flustered': 22864, 'cramped': 22865, 'copenhagen': 22866, 'leverage': 22867, \"association's\": 22868, \"'fluidity'\": 22869, 'kacy': 22870, \"'gotham'\": 22871, 'hertz': 22872, 'shamers': 22873, 'serch': 22874, 'mascara': 22875, 'kingpin': 22876, 'yin': 22877, 'inroads': 22878, 'yang': 22879, 'preacher': 22880, 'anjem': 22881, 'choudary': 22882, \"seattle's\": 22883, \"'facebook'\": 22884, 'robed': 22885, 'infiltrates': 22886, 'torchlit': 22887, 'oversight': 22888, 'shelfie': 22889, 'videotaping': 22890, 'smelt': 22891, 'leotards': 22892, \"'san\": 22893, \"andreas'\": 22894, 'niall': 22895, 'horan': 22896, \"ginuwine's\": 22897, \"'pony'\": 22898, 'portion': 22899, 'sickens': 22900, 'careens': 22901, 'deets': 22902, \"'tonight\": 22903, 'entomologists': 22904, 'retract': 22905, 'clump': 22906, \"'pumpkin\": 22907, \"spice'\": 22908, 'decked': 22909, 'princesses': 22910, 'sixty': 22911, 'drifts': 22912, 'freight': 22913, 'mysteryland': 22914, 'sobered': 22915, 'rollercoaster': 22916, 'albany': 22917, \"duterte's\": 22918, 'tragedies': 22919, 'americorps': 22920, \"saturn's\": 22921, 'grover': 22922, 'clamps': 22923, '301': 22924, 'nonbinding': 22925, 'dreyfuss': 22926, 'foolishness': 22927, \"army's\": 22928, 'archangels': 22929, 'parentheses': 22930, 'louise': 22931, 'playwright': 22932, \"'number\": 22933, 'dobrev': 22934, \"'vampire\": 22935, \"diaries'\": 22936, 'freakish': 22937, 'fiat': 22938, 'grin': 22939, 'phlegm': 22940, 'stabs': 22941, 'outliving': 22942, 'cretinous': 22943, 'reprobate': 22944, \"'cha\": 22945, \"cha'\": 22946, 'slayings': 22947, 'lofty': 22948, 'scaled': 22949, 'shoveling': 22950, \"v's\": 22951, 'collegiate': 22952, \"'skype'\": 22953, \"'coat'\": 22954, 'burtnick': 22955, \"legionnaire's\": 22956, \"sony's\": 22957, 'aptitude': 22958, 'boynton': 22959, '104': 22960, 'cyst': 22961, \"'call\": 22962, \"baby'\": 22963, 'erin': 22964, 'burnett': 22965, 'biodegrade': 22966, 'spraying': 22967, 'supervision': 22968, 'objected': 22969, 'vegetarians': 22970, 'bacchanalia': 22971, 'decaf': 22972, \"'counterproductive'\": 22973, 'centenarians': 22974, 'tacos': 22975, 'parkway': 22976, 'waukegan': 22977, 'puffer': 22978, 'listed': 22979, 'wallflower': 22980, 'dooming': 22981, 'developer': 22982, 'scholly': 22983, 'cto': 22984, 'pirollo': 22985, 'earnings': 22986, 'arises': 22987, 'amputee': 22988, \"d23's\": 22989, 'sanderson': 22990, \"trash'\": 22991, 'springer': 22992, \"'kill\": 22993, 'airliners': 22994, 'franz': 22995, 'ferdinand': 22996, 'gavrilo': 22997, 'princip': 22998, 'rotary': 22999, 'cersei': 23000, \"'sports'\": 23001, 'denounced': 23002, \"victim'\": 23003, \"corrections'\": 23004, 'knowingly': 23005, 'whitening': 23006, \"'renewed\": 23007, 'freedoms': 23008, \"remain'\": 23009, 'tweak': 23010, 'handsome': 23011, 'fe': 23012, 'bodybuilder': 23013, 'inconceivable': 23014, \"'layla'\": 23015, \"provence's\": 23016, 'pont': 23017, 'du': 23018, 'gard': 23019, 'adoptee': 23020, 'kirkus': 23021, 'collections': 23022, \"'grave\": 23023, \"concerns'\": 23024, \"'sick\": 23025, 'lucasfilm': 23026, 'eligible': 23027, 'parole': 23028, 'humanizing': 23029, \"'joe\": 23030, 'cabernet': 23031, \"sauvignon'\": 23032, \"'strong'\": 23033, 'wrinkly': 23034, 'cultivate': 23035, 'lodged': 23036, 'lily': 23037, 'toffee': 23038, 'cleansed': 23039, 'crisp': 23040, 'dapperly': 23041, 'exhaustion': 23042, 'midgets': 23043, 'deng': 23044, 'xiaoping': 23045, 'televisa': 23046, 'previewing': 23047, 'monáe': 23048, 'eurostar': 23049, \"'western'\": 23050, 'colonization': 23051, 'subcontinent': 23052, 'unfriending': 23053, 'predates': 23054, 'gazebo': 23055, 'underutilized': 23056, 'thumbtack': 23057, 'schooling': 23058, 'commodities': 23059, 'trader': 23060, \"'woooo\": 23061, \"'shattered\": 23062, \"trust'\": 23063, 'kiyoko': 23064, 'ultrasound': 23065, 'jars': 23066, 'damaged': 23067, 'enforcer': 23068, 'freezes': 23069, 'dory': 23070, 'borneo': 23071, 'tenison': 23072, 'maman': 23073, 'bébé': 23074, 'toothpicks': 23075, 'testers': 23076, 'priorities': 23077, \"'wicked'\": 23078, 'caligula': 23079, 'spokeswoman': 23080, 'spokeschild': 23081, \"himalayas'\": 23082, 'committing': 23083, 'weekley': 23084, 'tally': 23085, 'scoring': 23086, \"'stormi'\": 23087, \"skywalker'\": 23088, 'huddled': 23089, 'exported': 23090, 'homaro': 23091, 'cantu': 23092, \"'that's\": 23093, \"raven'\": 23094, 'ditka': 23095, \"overclassification'\": 23096, \"damon's\": 23097, 'pantry': 23098, 'detaining': 23099, \"'vegetation'\": 23100, 'dispenses': 23101, 'kashkari': 23102, 'pander': 23103, 'damned': 23104, \"'die\": 23105, \"'yippee\": 23106, 'ki': 23107, \"yay'\": 23108, 'carves': 23109, \"mandela's\": 23110, 'roam': 23111, 'tbilisi': 23112, 'coordinates': 23113, 'mohandas': 23114, \"'builder\": 23115, 'portrays': 23116, 'regis': 23117, 'philbin': 23118, \"'regis\": 23119, \"kelly'\": 23120, 'bells': 23121, 'haegue': 23122, \"yang's\": 23123, 'leeum': 23124, 'seoul': 23125, \"curry's\": 23126, 'pointers': 23127, 'gunner': 23128, 'remixes': 23129, \"boujee'\": 23130, 'tarot': 23131, 'reforming': 23132, 'pacs': 23133, 'loch': 23134, 'canoes': 23135, \"ny's\": 23136, 'dismissal': 23137, 'stooped': 23138, 'reindeer': 23139, 'starwarschristmascarols': 23140, 'themes': 23141, 'nudity': 23142, 'undesignated': 23143, 'battens': 23144, 'booths': 23145, 'linings': 23146, 'jenga': 23147, 'garners': 23148, 'dent': 23149, \"ol'\": 23150, 'dispensed': 23151, 'liberates': 23152, 'bait': 23153, 'unwieldy': 23154, 'royce': 23155, 'ornament': 23156, 'harshest': 23157, 'exercises': 23158, 'yellowing': 23159, \"'quality'\": 23160, 'retaliates': 23161, 'boxers': 23162, 'alina': 23163, 'zagitova': 23164, 'robust': 23165, 'puttering': 23166, 'unshakeable': 23167, 'slapping': 23168, 'encyclopedic': 23169, 'handsomely': 23170, 'creflo': 23171, \"dollar's\": 23172, 'poring': 23173, 'farts': 23174, \"bakery's\": 23175, 'éclairs': 23176, 'cosplay': 23177, 'staggers': 23178, 'frontal': 23179, 'lobe': 23180, 'urgings': 23181, 'callings': 23182, 'woodworking': 23183, 'spieth': 23184, 'willett': 23185, \"'teenage\": 23186, 'bebop': 23187, 'rocksteady': 23188, 'vandross': 23189, 'wizards': 23190, 'flame': 23191, 'sheila': 23192, \"'thank\": 23193, 'hanson': 23194, 'nambla': 23195, 'trumpismo': 23196, 'bumbler': 23197, 'transformer': 23198, 'bookcase': 23199, 'subprime': 23200, 'volumes': 23201, 'flashback': 23202, 'lording': 23203, \"winter'\": 23204, 'thicks': 23205, \"satisfaction'\": 23206, 'timberwolves': 23207, 'photojournalist': 23208, 'clearer': 23209, 'cryptographers': 23210, \"'frpx\": 23211, 'k5je': 23212, 'oc4n': 23213, \"e5dn'\": 23214, 'cobblestone': 23215, 'concealing': 23216, 'schooled': 23217, 'freelancer': 23218, 'scrape': 23219, 'livelihood': 23220, 'turnkey': 23221, 'reaper': 23222, 'slang': 23223, \"'drunk'\": 23224, 'proactive': 23225, 'amputees': 23226, \"intimidating'\": 23227, 'cautions': 23228, \"'heirs\": 23229, \"inheritance'\": 23230, 'peacock': 23231, \"arias'\": 23232, 'okie': 23233, \"sam's\": 23234, 'grimly': 23235, 'pc': 23236, \"regret'\": 23237, 'swank': 23238, 'tasters': 23239, 'appropriations': 23240, 'simulation': 23241, 'dwts': 23242, 'rumba': 23243, \"'iceman\": 23244, \"cometh'\": 23245, \"'looking'\": 23246, 'glaze': 23247, 'serf': 23248, 'subjugation': 23249, 'illegalize': 23250, 'demography': 23251, 'demographer': 23252, 'woe': 23253, 'continuously': 23254, 'manipulating': 23255, 'raccoons': 23256, 'kathleen': 23257, 'hartnett': 23258, 'promiscuous': 23259, \"medicine'\": 23260, 'ranks': 23261, \"'juno'\": 23262, 'funneling': 23263, 'topple': 23264, 'beastie': 23265, 'naawp': 23266, 'smartest': 23267, \"illusion'\": 23268, 'semite': 23269, 'grandsons': 23270, 'macaskill': 23271, 'heightened': 23272, 'hominid': 23273, 'biochemical': 23274, '1970': 23275, 'cosmo': 23276, \"'things\": 23277, \"like'\": 23278, 'fumbles': 23279, 'geckos': 23280, \"'fires'\": 23281, \"alpert's\": 23282, \"'whipped\": 23283, \"delights'\": 23284, 'thins': 23285, 'nair': 23286, 'incendiary': 23287, 'jumbled': 23288, 'paulson': 23289, 'lanterns': 23290, \"cheney's\": 23291, 'explored': 23292, 'circulated': 23293, 'colonel': 23294, 'blazer': 23295, 'virulent': 23296, 'tofurkey': 23297, 'nearest': 23298, 'numeric': 23299, 'boggle': 23300, 'integers': 23301, \"weeknd's\": 23302, 'dissenters': 23303, 'sponsorship': 23304, 'variants': 23305, 'multiply': 23306, 'breakneck': 23307, 'cocky': 23308, 'visor': 23309, 'painless': 23310, \"nsa's\": 23311, 'incompatible': 23312, 'hails': 23313, 'establishes': 23314, 'skim': 23315, 'supervillain': 23316, 'resurfacing': 23317, \"'lyrics\": 23318, \"doc'\": 23319, 'equestrian': 23320, 'instinctively': 23321, \"'genius'\": 23322, 'solace': 23323, 'slut': 23324, 'profited': 23325, 'stung': 23326, 'blazes': 23327, 'kaia': 23328, 'incidences': 23329, 'soaking': 23330, '347': 23331, '63': 23332, \"happen'\": 23333, 'nyad': 23334, 'panels': 23335, 'ubs': 23336, 'organizations': 23337, '134': 23338, 'attributes': 23339, 'typographical': 23340, 'retrieved': 23341, 'advent': 23342, 'yuletide': 23343, 'oafs': 23344, 'screwball': 23345, 'nabors': 23346, 'swimwear': 23347, 'unedited': 23348, 'zarin': 23349, 'ramona': 23350, 'loiterer': 23351, 'convoy': 23352, 'lancet': 23353, 'hikes': 23354, \"aniston's\": 23355, 'lbd': 23356, 'acupuncture': 23357, 'unravelling': 23358, 'gus': 23359, 'sant': 23360, 'ewww': 23361, 'bugnado': 23362, 'stuffing': 23363, 'murky': 23364, \"'russia\": 23365, \"'amazing\": 23366, 'aretha': 23367, 'resolved': 23368, 'disclosures': 23369, \"detective'\": 23370, 'bffs': 23371, 'ashtanga': 23372, 'nitty': 23373, 'gritty': 23374, \"'different\": 23375, \"conservatives'\": 23376, \"loser'\": 23377, 'dinners': 23378, \"metro's\": 23379, 'oven': 23380, 'preheated': 23381, 'obedient': 23382, \"months'\": 23383, 'misdemeanors': 23384, 'amorphous': 23385, 'indefinable': 23386, 'radiator': 23387, 'clank': 23388, 'chronically': 23389, 'coped': 23390, 'rehearsal': 23391, 'aline': 23392, 'kominsky': 23393, 'abject': 23394, 'nas': 23395, 'sartorial': 23396, 'notable': 23397, 'fakebook': 23398, 'extenders': 23399, 'cutlery': 23400, 'nissan': 23401, 'sidebar': 23402, 'wambach': 23403, 'jacks': 23404, 'vaulter': 23405, 'printable': 23406, 'procrastinators': 23407, 'remington': 23408, 'marshawn': 23409, 'nea': 23410, 'produced': 23411, 'claes': 23412, \"oldenburg's\": 23413, \"'giant\": 23414, 'pulsating': 23415, '259': 23416, 'gummi': 23417, 'indeed': 23418, 'rhys': 23419, 'radically': 23420, 'masturbatory': 23421, 'climax': 23422, 'graduations': 23423, 'conditioning': 23424, 'frosty': 23425, 'toyota': 23426, '1993': 23427, 'camry': 23428, 'restaurateur': 23429, 'chang': 23430, 'overgrown': 23431, 'vacant': 23432, 'betting': 23433, \"negro'\": 23434, 'alvin': 23435, 'palance': 23436, \"'incoherent'\": 23437, \"bench'\": 23438, \"commission's\": 23439, 'palmolive': 23440, 'coddling': 23441, 'cisgender': 23442, 'shaw': 23443, 'decimating': 23444, 'biscuit': 23445, 'populations': 23446, \"'kellyanne\": 23447, 'tweetstorm': 23448, 'klobuchar': 23449, 'fritos': 23450, \"late'\": 23451, \"resuscitate'\": 23452, 'sodium': 23453, \"bachelorette'\": 23454, 'emeritus': 23455, \"weekend's\": 23456, 'canonizations': 23457, 'bane': 23458, 'warsaw': 23459, 'marker': 23460, '350': 23461, 'deficiency': 23462, \"'speedy\": 23463, \"recovery'\": 23464, 'blizzards': 23465, '565': 23466, \"pool's\": 23467, 'luis': 23468, 'gutierrez': 23469, 'grandmothers': 23470, 'textile': 23471, 'westbrook': 23472, 'grit': 23473, \"'touched\": 23474, \"bride's\": 23475, \"'mom'\": 23476, \"'dad'\": 23477, 'marveling': 23478, \"money'\": 23479, 'billionaires': 23480, \"revenant'\": 23481, 'josé': 23482, 'andrés': 23483, \"devos'\": 23484, \"primates'\": 23485, 'almighty': 23486, 'strom': 23487, 'thurmond': 23488, 'hermits': 23489, 'cyberspace': 23490, 'recreating': 23491, \"mother'\": 23492, 'wheeldon': 23493, \"gershwins'\": 23494, \"paris'\": 23495, \"'piggies'\": 23496, 'tapas': 23497, 'jovi': 23498, 'darla': 23499, \"'freeheld\": 23500, \"'extraordinary'\": 23501, 'resuming': 23502, 'adon': 23503, 'bib': 23504, 'awakened': 23505, \"'crisis\": 23506, \"actor'\": 23507, 'porcelain': 23508, 'dinnerware': 23509, 'maharishi': 23510, 'rupee': 23511, 'indiscrimination': 23512, \"harry's\": 23513, 'insistent': 23514, 'hooded': 23515, 'potomac': 23516, \"doughboy's\": 23517, 'sexed': 23518, 'transvestite': 23519, 'enhancing': 23520, 'thread': 23521, 'outgoing': 23522, \"prince'\": 23523, 'mooc': 23524, 'poking': 23525, 'dice': 23526, \"'basic'\": 23527, 'kristin': 23528, \"davis'\": 23529, 'extending': 23530, 'disposing': 23531, 'shambles': 23532, 'prettiest': 23533, 'rapport': 23534, 'pcos': 23535, 'merkley': 23536, 'belonging': 23537, \"movie's\": 23538, 'facilitated': 23539, 'lng': 23540, 'terminals': 23541, 'packaging': 23542, '2025': 23543, 'buckley': 23544, \"tips'\": 23545, 'barb': 23546, 'fabre': 23547, 'jackass': 23548, 'gynecologists': 23549, 'iuds': 23550, 'expel': 23551, 'backlogged': 23552, 'savion': 23553, 'backpacker': 23554, \"europeans'\": 23555, 'preconceptions': 23556, 'mazing': 23557, 'rift': 23558, 'cleanse': 23559, 'marauding': 23560, 'frogmen': 23561, \"run's\": 23562, \"'spiritual'\": 23563, 'starved': 23564, 'detergent': 23565, 'pods': 23566, 'plumbing': 23567, \"broil'd\": 23568, 'meats': 23569, 'businessmen': 23570, \"'pest\": 23571, 'se': 23572, 'miter': 23573, 'faceshield': 23574, 'comply': 23575, \"'send'\": 23576, 'sweeney': 23577, \"'bang\": 23578, \"tourist's\": 23579, 'debriefs': 23580, 'javelin': 23581, \"toaster's\": 23582, 'sprinkles': 23583, 'ethic': 23584, \"krugman's\": 23585, 'grasps': 23586, 'senselessness': 23587, 'wagner': 23588, 'bushnell': 23589, 'buzzwords': 23590, 'dirtydenier': 23591, 'kline': 23592, 'brackets': 23593, 'lear': 23594, 'habitats': 23595, 'heightens': 23596, 'treaty': 23597, \"'kyoto'\": 23598, 'heckling': 23599, 'bronx': 23600, 'disrupting': 23601, 'bikes': 23602, 'fiber': 23603, 'optics': 23604, \"'onion\": 23605, 'devotion': 23606, 'tvs': 23607, 'faqs': 23608, 'sylville': 23609, \"model'\": 23610, 'abso': 23611, 'moochly': 23612, \"'snl\": 23613, 'sederer': 23614, \"branson's\": 23615, 'dateline': 23616, 'flursday': 23617, 'janna': 23618, 'betty': 23619, 'friedan': 23620, \"'moonlight'\": 23621, 'virtually': 23622, 'ciro': 23623, \"guerra's\": 23624, \"'embrace\": 23625, \"serpent'\": 23626, 'compendium': 23627, '812': 23628, '683': 23629, 'horns': 23630, 'dwyane': 23631, 'disk': 23632, 'rosetta': 23633, 'hungarian': 23634, 'mcauliffe': 23635, \"broke'\": 23636, \"harambe's\": 23637, 'euthanized': 23638, \"kill'\": 23639, 'shyla': 23640, 'stylez': 23641, 'avn': 23642, 'recanting': 23643, 'riley': 23644, 'beekeeper': 23645, \"'extremist'\": 23646, 'wander': 23647, 'branches': 23648, 'luckiest': 23649, 'grasshopper': 23650, 'selig': 23651, 'counted': 23652, 'cafés': 23653, 'indulging': 23654, 'lumbering': 23655, 'golem': 23656, 'helmut': 23657, 'kohl': 23658, 'elegance': 23659, \"'historic'\": 23660, 'waterfront': 23661, \"guess'\": 23662, 'strenlow': 23663, 'dander': 23664, 'nph': 23665, \"'hedwig\": 23666, 'radcliffe': 23667, \"'cripple\": 23668, \"immensity'\": 23669, 'preciousness': 23670, 'rerun': 23671, 'rudest': 23672, 'ranted': 23673, 'stabbings': 23674, 'instituting': 23675, 'shale': 23676, 'geopolitics': 23677, 'repress': 23678, \"rnc's\": 23679, 'migraines': 23680, 'articulated': 23681, 'disheartened': 23682, 'flogged': 23683, 'tattooed': 23684, 'sur': 23685, 'bubba': 23686, 'gump': 23687, 'barefoot': 23688, 'meadow': 23689, 'extinguisher': 23690, 'coatless': 23691, 'clarity': 23692, 'teachings': 23693, 'shocks': 23694, 'knowles': 23695, \"caricaturist's\": 23696, 'forgiving': 23697, \"'immoral'\": 23698, 'scorecard': 23699, 'sandbags': 23700, 'extinguishes': 23701, 'grades': 23702, 'shipping': 23703, \"'bizarre'\": 23704, 'steagall': 23705, 'drooling': 23706, 'contradicts': 23707, 'inescapable': 23708, \"reid'\": 23709, \"conan's\": 23710, 'choked': 23711, 'stirrup': 23712, 'pavlovian': 23713, \"ref's\": 23714, \"'wheel\": 23715, 'vowel': 23716, 'skyrocket': 23717, 'dominate': 23718, 'microsft': 23719, 'milton': 23720, 'berle': 23721, 'tylenol': 23722, 'hoarding': 23723, 'lawful': 23724, \"'friday\": 23725, \"lights'\": 23726, \"geniuses'\": 23727, 'chastised': 23728, 'disproven': 23729, 'albinism': 23730, 'frazzled': 23731, 'elsewhere': 23732, \"neighborhood's\": 23733, 'deepwater': 23734, 'fanatics': 23735, 'preorders': 23736, \"'mindhunter'\": 23737, 'speechwriter': 23738, \"sunday's\": 23739, 'designates': 23740, 'interpret': 23741, 'locking': 23742, 'stockings': 23743, 'rubenesque': 23744, 'picassoesque': 23745, 'sews': 23746, 'corea': 23747, 'juror': 23748, 'failings': 23749, 'harasser': 23750, 'brookstone': 23751, \"mccartney's\": 23752, 'indulgent': 23753, 'lighter': 23754, \"'everyone's\": 23755, \"matters'\": 23756, 'leveling': 23757, \"'manhood\": 23758, \"east'\": 23759, 'participates': 23760, 'cashless': 23761, 'leary': 23762, 'contributing': 23763, \"'resist\": 23764, 'inoperable': 23765, \"'hammered'\": 23766, \"peru's\": 23767, 'kuczynski': 23768, 'duping': 23769, 'unfriendly': 23770, 'bulimia': 23771, 'stiles': 23772, 'preston': 23773, 'panorama': 23774, 'fathered': 23775, 'substantial': 23776, 'estranged': 23777, 'widening': 23778, 'giudice': 23779, \"player's\": 23780, \"'cruel\": 23781, \"sometimes'\": 23782, \"'kayak\": 23783, 'fiance': 23784, 'wiener': 23785, 'padded': 23786, 'intoxicated': 23787, 'bhikkunis': 23788, 'thailand': 23789, 'bookworms': 23790, 'anus': 23791, 'vitaminwater': 23792, 'underage': 23793, 'childless': 23794, \"'unbroken'\": 23795, 'squalid': 23796, \"wolf's\": 23797, \"'snowflakes'\": 23798, \"lennon's\": 23799, 'burka': 23800, 'niqab': 23801, \"rebels'\": 23802, \"'catastrophic\": 23803, 'hurtling': 23804, 'intimidating': 23805, 'lesser': 23806, \"pen's\": 23807, 'viability': 23808, 'gargamel': 23809, 'cautionary': 23810, 'slash': 23811, 'addcandytoamovie': 23812, \"'roller\": 23813, \"relationship'\": 23814, 'belly': 23815, 'punniest': 23816, 'gifs': 23817, 'grizzlies': 23818, 'thunder': 23819, 'indianapolis': 23820, \"'heed\": 23821, 'huffs': 23822, \"'mudbound'\": 23823, 'leagues': 23824, 'charming': 23825, \"dinosaur'\": 23826, 'providence': 23827, 'cianci': 23828, \"'developing\": 23829, \"'gravity'\": 23830, \"slave'\": 23831, 'pga': 23832, 'slanty': 23833, 'italics': 23834, 'ouster': 23835, \"'laughable'\": 23836, 'resisting': 23837, 'malaria': 23838, \"'fourth\": 23839, 'leppard': 23840, 'peaking': 23841, 'ace': 23842, 'kenyan': 23843, 'questioned': 23844, 'strawberries': 23845, 'bystanding': 23846, \"bland's\": 23847, 'scotch': 23848, 'cigars': 23849, \"smb's\": 23850, 'schiller': 23851, 'lucy': 23852, 'stomp': 23853, 'grapes': 23854, 'packages': 23855, 'detonated': 23856, \"'garfield'\": 23857, 'mariel': 23858, 'coo': 23859, \"ii's\": 23860, \"'light\": 23861, \"darkness'\": 23862, \"bieber's\": 23863, \"mapmaker's\": 23864, 'valueville': 23865, \"'inquiry'\": 23866, 'ifttt': 23867, 'stumped': 23868, 'finland': 23869, 'pujols': 23870, 'evasion': 23871, 'hurling': 23872, 'treatable': 23873, 'dementia': 23874, '1861': 23875, \"georgia's\": 23876, 'myopia': 23877, \"else's\": 23878, 'heals': 23879, 'cobbler': 23880, 'desserts': 23881, 'iger': 23882, 'solidifies': 23883, 'extroverts': 23884, 'buyer': 23885, \"'stands\": 23886, '2065': 23887, 'fleshlighthouse': 23888, 'texture': 23889, 'gambler': 23890, 'reissue': 23891, 'vetting': 23892, 'maureen': 23893, 'immersion': 23894, \"'odd\": 23895, 'bankrupts': 23896, 'unrequited': 23897, 'monte': 23898, 'carlo': 23899, 'racecar': 23900, \"thieves'\": 23901, \"arizona's\": 23902, 'alcoholics': 23903, '1945': 23904, \"laborer's\": 23905, 'irregular': 23906, 'nemo': 23907, 'hoosier': 23908, 'knives': 23909, 'prints': 23910, 'calorie': 23911, 'blueprint': 23912, \"'representatives'\": 23913, \"andreessen's\": 23914, \"'colonialism'\": 23915, 'unraveled': 23916, 'overfunded': 23917, \"clooney's\": 23918, \"oprah's\": 23919, \"nobody'\": 23920, \"sanford's\": 23921, \"'extremists'\": 23922, 'tosh': 23923, 'iphonefeatures4politicians': 23924, 'phillips': 23925, 'hustle': 23926, \"'wolf\": 23927, \"'dallas\": 23928, \"'her\": 23929, \"'nebraska\": 23930, \"'before\": 23931, \"'philomena'\": 23932, 'feng': 23933, 'shui': 23934, 'thaler': 23935, 'smut': 23936, 'filthiest': 23937, 'regain': 23938, 'shatner': 23939, 'nimoy': 23940, 'wtc': 23941, 'painted': 23942, 'gi': 23943, 'anteater': 23944, 'conservatism': 23945, 'obscenity': 23946, \"o'donnell's\": 23947, 'baucus': 23948, 'burkina': 23949, 'faso': 23950, 'bejewel': 23951, 'twinkle': 23952, 'tush': 23953, 'wowing': 23954, 'authorization': 23955, 'tilt': 23956, 'interact': 23957, 'fleetingly': 23958, 'tyrannical': 23959, 'yoke': 23960, 'cunning': 23961, 'subtext': 23962, 'succubus': 23963, 'producing': 23964, \"megadeth's\": 23965, \"'rust\": 23966, 'writhing': 23967, 'tentacles': 23968, 'waxwork': 23969, 'levitt': 23970, \"'rhythm\": 23971, 'burnt': 23972, 'strewn': 23973, 'intention': 23974, 'hazy': 23975, \"epa's\": 23976, 'mccabe': 23977, 'requirements': 23978, \"alabama's\": 23979, 'underpants': 23980, 'mast': 23981, 'guidelines': 23982, 'sharpton': 23983, \"system's\": 23984, 'delligatti': 23985, 'scheduled': 23986, 'demolishing': 23987, 'propping': 23988, 'snubs': 23989, 'mekas': 23990, 'dolan': 23991, \"'tom\": 23992, \"farm'\": 23993, 'coppola': 23994, \"godfather'\": 23995, 'willem': 23996, 'dafoe': 23997, 'jepsen': 23998, 'temper': 23999, 'miniature': 24000, 'mack': 24001, \"'shots\": 24002, \"fired'\": 24003, 'fillings': 24004, \"corpses'\": 24005, \"'dummies'\": 24006, 'counterterrorism': 24007, \"'coward'\": 24008, 'sesame': 24009, 'absurdity': 24010, 'lotions': 24011, 'stapleton': 24012, 'stewman': 24013, 'antacid': 24014, \"cantor's\": 24015, 'emmanuel': 24016, 'amused': 24017, 'exorcism': 24018, 'intercontinental': 24019, 'bluetooth': 24020, 'mcneil': 24021, 'atrans': 24022, 'drapes': 24023, 'shawl': 24024, 'immodest': 24025, 'longing': 24026, 'spotlighting': 24027, 'deserters': 24028, 'frolics': 24029, 'winnie': 24030, 'preoccupation': 24031, 'manner': 24032, 'strolling': 24033, 'flaccid': 24034, 'khakis': 24035, \"'suppressed\": 24036, 'gorillagram': 24037, 'drying': 24038, 'assails': 24039, 'horcrux': 24040, \"'city\": 24041, \"slickers'\": 24042, 'corrupted': 24043, 'drawbridge': 24044, 'motivates': 24045, 'imparts': 24046, 'trumpbacktoschooltips': 24047, 'occurred': 24048, 'widowed': 24049, \"'some\": 24050, \"adviser'\": 24051, 'compass': 24052, 'objection': 24053, 'almond': 24054, 'bullies': 24055, \"leaks'\": 24056, 'umpqua': 24057, \"'gun\": 24058, \"rudy's\": 24059, \"'slangry'\": 24060, 'brine': 24061, 'zara': 24062, \"'jazz'\": 24063, 'whimsically': 24064, 'tottering': 24065, 'plank': 24066, 'swaying': 24067, 'beam': 24068, \"'informed\": 24069, \"tribe's\": 24070, 'bounces': 24071, \"hardee's\": 24072, 'curtains': 24073, 'yothers': 24074, 'golin': 24075, \"usc's\": 24076, 'observe': 24077, 'tiananmen': 24078, 'strobe': 24079, 'culinary': 24080, 'commonwealth': 24081, 'condo': 24082, 'bylaw': 24083, 'deb': 24084, 'condense': 24085, 'disproving': 24086, \"'pee\": 24087, \"'reprieve'\": 24088, 'opportunities': 24089, 'gendiy': 24090, 'messi': 24091, \"'wasn't\": 24092, 'ricci': 24093, 'revokes': 24094, 'rousing': 24095, 'derives': 24096, \"'racist\": 24097, \"'homophobic'\": 24098, 'scribbles': 24099, 'painkiller': 24100, 'cowpoke': 24101, 'lassoes': 24102, 'perched': 24103, 'electronica': 24104, 'reb': 24105, \"zalman's\": 24106, 'acne': 24107, 'dizziness': 24108, 'nausea': 24109, 'clotting': 24110, 'merle': 24111, 'transferred': 24112, 'bloodied': 24113, 'bruised': 24114, 'bangkok': 24115, 'rahman': 24116, 'downgrade': 24117, 'overthrown': 24118, \"'turn\": 24119, \"blue'\": 24120, 'armie': 24121, \"housekeeping'\": 24122, 'pusha': 24123, 'bald': 24124, 'dictionaries': 24125, \"'pwnage'\": 24126, 'cellar': 24127, 'flea': 24128, 'unidentifiable': 24129, 'uninformed': 24130, 'mathew': 24131, \"'mini\": 24132, \"satans'\": 24133, 'chechens': 24134, 'collude': 24135, 'cgi': 24136, 'flick': 24137, \"'watcher\": 24138, \"woods'\": 24139, 'conversationalist': 24140, 'unbelted': 24141, 'galápagos': 24142, 'municipality': 24143, 'quiver': 24144, 'geffen': 24145, 'playhouse': 24146, 'romances': 24147, 'luau': 24148, 'dayton': 24149, 'tamp': 24150, 'chronicles': 24151, 'sunmine': 24152, 'rewrites': 24153, \"club'\": 24154, 'priesthood': 24155, 'prinze': 24156, 'receipts': 24157, 'sinfully': 24158, \"'spectacular\": 24159, \"wreck'\": 24160, 'trials': 24161, \"snow's\": 24162, 'pursued': 24163, 'akon': 24164, 'transactions': 24165, 'legislated': 24166, 'solvers': 24167, 'wgn': 24168, \"'marooned'\": 24169, 'directtv': 24170, 'hotcake': 24171, 'brisk': 24172, 'duplicity': 24173, 'kip': 24174, 'subpoenas': 24175, \"'95\": 24176, \"'96\": 24177, 'pawns': 24178, 'visceral': 24179, 'suspicion': 24180, 'untrustworthy': 24181, 'spouses': 24182, 'gen': 24183, 'cynicism': 24184, 'marilu': 24185, 'henner': 24186, \"hader's\": 24187, 'snorkeling': 24188, 'numbing': 24189, 'diaspora': 24190, \"kaine's\": 24191, 'lameness': 24192, 'layers': 24193, 'fooling': 24194, \"tapper's\": 24195, 'posthumously': 24196, 'aint': 24197, 'practiced': 24198, 'dodging': 24199, \"'hugs'\": 24200, 'seabed': 24201, 'ledecky': 24202, \"'splicing\": 24203, \"mainbrace'\": 24204, 'marcel': 24205, 'duchamp': 24206, 'breeders': 24207, 'mastiffeagle': 24208, 'reffed': 24209, 'pogue': 24210, \"gosling's\": 24211, 'soundtracks': 24212, 'liberating': 24213, 'trumpist': 24214, 'pastries': 24215, 'fellowship': 24216, 'klum': 24217, \"'box\": 24218, 'carmen': 24219, 'carrera': 24220, 'gabriella': 24221, 'underemployed': 24222, 'utterance': 24223, \"'lessons\": 24224, \"11'\": 24225, 'tariff': 24226, \"'retribution'\": 24227, \"disick's\": 24228, 'indicate': 24229, \"'paris\": 24230, \"center's\": 24231, 'fabled': 24232, 'laboratory': 24233, 'uss': 24234, 'suvs': 24235, 'dol': 24236, 'tirelessly': 24237, 'tiptoeing': 24238, 'finalists': 24239, 'iditarod': 24240, \"'roots'\": 24241, \"'meteor\": 24242, 'improv': 24243, 'troupe': 24244, \"'loves\": 24245, \"bodies'\": 24246, 'tickled': 24247, 'socialite': 24248, 'cunt': 24249, 'swelling': 24250, 'blvd': 24251, 'brass': 24252, 'urn': 24253, \"douchey'\": 24254, 'unfettered': 24255, 'whoring': 24256, 'lengths': 24257, 'cryptocurrency': 24258, \"'poopgangsta'\": 24259, 'reda': 24260, 'kateb': 24261, 'hippocrates': 24262, 'clues': 24263, 'hay': 24264, 'snapshots': 24265, 'kellen': 24266, 'relishing': 24267, 'noticeable': 24268, 'murrow': 24269, \"dirtbag'\": 24270, 'tressel': 24271, 'childish': 24272, 'gambino': 24273, \"'candler\": 24274, 'disinvests': 24275, 'enrollees': 24276, 'await': 24277, 'wapo': 24278, 'rezaian': 24279, 'yak': 24280, 'thoughtfully': 24281, 'shawn': 24282, 'mendes': 24283, 'adhd': 24284, 'daft': 24285, 'tamer': 24286, 'beginners': 24287, 'paralympian': 24288, \"'proud\": 24289, \"disabled'\": 24290, \"'imminent\": 24291, 'massively': 24292, 'disengaged': 24293, 'workforce': 24294, 'implementation': 24295, 'freestyles': 24296, 'inconveniences': 24297, 'ronnie': 24298, \"goodbye'\": 24299, 'camila': 24300, \"cabello's\": 24301, 'raw': 24302, 'scouting': 24303, 'hizballah': 24304, 'fields': 24305, 'grapefruit': 24306, 'icantbreathe': 24307, 'demonstrating': 24308, 'girders': 24309, 'psychopath': 24310, 'prosecutorial': 24311, 'talktome': 24312, 'braga': 24313, 'otaviano': 24314, 'canuto': 24315, \"'batarang'\": 24316, 'lydia': 24317, 'polgreen': 24318, \"'tremendous'\": 24319, \"'bags\": 24320, \"ice'–themed\": 24321, \"musician's\": 24322, 'buckets': 24323, 'hardwood': 24324, \"'shit'\": 24325, 'additives': 24326, 'digest': 24327, 'iffy': 24328, 'commish': 24329, 'copps': 24330, \"'maybe\": 24331, \"seen'\": 24332, 'heaviest': 24333, 'property': 24334, \"mayfly's\": 24335, 'skeptics': 24336, 'fedotowsky': 24337, 'manno': 24338, 'debts': 24339, 'owed': 24340, 'defrauded': 24341, \"epley's\": 24342, \"'mylanta'\": 24343, 'mohawked': 24344, 'plutocratic': 24345, \"'alias'\": 24346, 'doubted': 24347, 'hotness': 24348, 'filament': 24349, \"sun's\": 24350, 'smeared': 24351, 'supplied': 24352, 'klugman': 24353, 'snub': 24354, 'riyadh': 24355, \"brees'\": 24356, 'munich': 24357, 'guidebook': 24358, 'quaint': 24359, 'jokester': 24360, 'fuji': 24361, 'wrestler': 24362, 'ambulances': 24363, 'cobweb': 24364, \"'sea\": 24365, 'installing': 24366, 'pools': 24367, 'securities': 24368, \"dream'\": 24369, \"sonoma's\": 24370, 'wineries': 24371, 'ceres': 24372, 'liters': 24373, 'yellows': 24374, 'mates': 24375, 'mobil': 24376, 'conceding': 24377, \"'candy\": 24378, \"land'\": 24379, \"stuff'\": 24380, 'retrieves': 24381, \"printers'\": 24382, \"'gutter\": 24383, 'homosexuals': 24384, 'breastfeed': 24385, 'sclerosis': 24386, 'mediator': 24387, 'dancy': 24388, 'assassinate': 24389, 'grapples': 24390, \"plan's\": 24391, 'consolidating': 24392, 'favored': 24393, 'violators': 24394, \"'skanks'\": 24395, 'betrayer': 24396, 'webmd': 24397, \"'ching\": 24398, \"chongs'\": 24399, \"clothes'\": 24400, 'manned': 24401, 'koran': 24402, 'khans': 24403, 'faves': 24404, 'ennis': 24405, 'oates': 24406, 'rotisseries': 24407, 'advancing': 24408, 'intermission': 24409, 'hoffa': 24410, \"holder's\": 24411, 'commemorated': 24412, 'koko': 24413, 'warhead': 24414, 'fritter': 24415, 'incumbents': 24416, 'marched': 24417, 'dreadlocked': 24418, \"heir's\": 24419, 'unbefitting': 24420, 'magnate': 24421, 'hatala': 24422, 'larsen': 24423, 'midwest': 24424, \"hunter'\": 24425, 'masturbation': 24426, 'contents': 24427, 'queso': 24428, \"wall'\": 24429, \"falafel'\": 24430, \"'dragged'\": 24431, 'stoplights': 24432, 'leans': 24433, 'krieger': 24434, 'thunderbirds': 24435, 'persecution': 24436, 'kalief': 24437, \"browder's\": 24438, \"lives'\": 24439, \"comics'\": 24440, \"curling'\": 24441, 'boars': 24442, 'spookiest': 24443, \"'animals\": 24444, 'junot': 24445, \"'virulent\": 24446, \"misogyny'\": 24447, 'pepe': 24448, 'rapes': 24449, 'tobolowsky': 24450, \"translator'\": 24451, 'fx': 24452, \"'introduction\": 24453, \"algebra'\": 24454, 'publishers': 24455, 'handwrite': 24456, 'flotus': 24457, 'amazonian': 24458, 'bulldozer': 24459, 'treads': 24460, 'photographers': 24461, '186': 24462, 'odom': 24463, 'adequately': 24464, 'snapshot': 24465, 'chugs': 24466, 'semen': 24467, \"helpless'\": 24468, \"darger's\": 24469, \"thomas'\": 24470, \"'bogus'\": 24471, 'comet': 24472, \"'philae'\": 24473, 'pringles': 24474, 'winston': 24475, \"grizzlies'\": 24476, 'promoted': 24477, 'manvendra': 24478, 'singh': 24479, 'gohil': 24480, 'procter': 24481, 'gamble': 24482, 'obliges': 24483, 'snoozing': 24484, \"should've\": 24485, 'derail': 24486, \"'impish\": 24487, \"brit'\": 24488, \"'charlie\": 24489, \"brown'\": 24490, \"ferguson's\": 24491, 'infrequently': 24492, 'embalm': 24493, 'estrogen': 24494, 'ashtray': 24495, 'referring': 24496, 'babysitters': 24497, 'gratuity': 24498, \"stallone's\": 24499, 'bonafide': 24500, 'reza': 24501, \"aslan's\": 24502, \"'tone'\": 24503, \"'fearful'\": 24504, 'sharpens': 24505, 'gonzalez': 24506, 'mcdermott': 24507, \"practice'\": 24508, \"'mapplethorpe'\": 24509, 'filters': 24510, 'wasters': 24511, \"troublemakers'\": 24512, 'disaffected': 24513, 'gravitating': 24514, 'nazism': 24515, 'anthropomorphic': 24516, 'giraffe': 24517, 'toadstool': 24518, 'skyline': 24519, 'lonesome': 24520, 'copper': 24521, 'anaheim': 24522, 'vance': 24523, '2032': 24524, 'ecstatic': 24525, 'forges': 24526, 'dokken': 24527, 'evo': 24528, 'es': 24529, 'folding': 24530, 'cary': 24531, 'elwes': 24532, 'cecil': 24533, \"lion's\": 24534, 'hookup': 24535, 'linkedin': 24536, 'survivalist': 24537, 'biodiversity': 24538, 'busses': 24539, 'ecosystems': 24540, 'stuporous': 24541, \"romano's\": 24542, 'narrate': 24543, 'vrckovnik': 24544, 'censor': 24545, 'dormant': 24546, 'supervolcano': 24547, \"'from\": 24548, 'pneumonia': 24549, 'taxed': 24550, 'kiosk': 24551, 'soothed': 24552, 'policeman': 24553, 'railroading': 24554, 'mistress': 24555, \"'seriously\": 24556, \"considering'\": 24557, 'mastering': 24558, \"others'\": 24559, 'overinflated': 24560, \"'before'\": 24561, 'beautifies': 24562, 'mauls': 24563, 'strudel': 24564, \"'isis\": 24565, \"assholes'\": 24566, 'shutters': 24567, 'camel': 24568, 'plummeting—no': 24569, 'wait—skyrocketing—no': 24570, 'plummeting': 24571, \"letter'\": 24572, \"'clown\": 24573, \"blackface'\": 24574, 'merv': 24575, 'fells': 24576, \"tubman's\": 24577, 'timelapses': 24578, \"advertiser's\": 24579, 'mastiff': 24580, \"'world's\": 24581, 'droopy': 24582, \"'trust\": 24583, 'jayne': 24584, 'krentz': 24585, \"shields'\": 24586, 'dons': 24587, 'cultivating': 24588, 'poise': 24589, 'redeem': 24590, '73': 24591, 'adjectives': 24592, \"'tony\": 24593, \"'snarky'\": 24594, 'consecrated': 24595, 'void': 24596, 'spruce': 24597, 'bucking': 24598, 'rodeo': 24599, 'pulverizing': 24600, 'perils': 24601, \"'ape\": 24602, \"heels'\": 24603, \"eye's\": 24604, 'ransacked': 24605, 'recyclable': 24606, \"thicke's\": 24607, 'minors': 24608, 'mcpherson': 24609, \"'bossy'\": 24610, \"'tis\": 24611, \"'jingle\": 24612, \"butts'\": 24613, \"'discriminatory'\": 24614, 'soulless': 24615, 'bridesmaids': 24616, 'embodiment': 24617, \"wright's\": 24618, 'showbiz': 24619, 'droops': 24620, 'enthusiasm': 24621, 'earbuds': 24622, 'bloomed': 24623, 'instruction': 24624, 'halen': 24625, \"'go\": 24626, \"rhody'\": 24627, 'arthamptons': 24628, 'appelhof': 24629, 'maidstone': 24630, 'nar': 24631, 'kosovo': 24632, 'hq': 24633, 'bestows': 24634, 'inversions': 24635, \"timberlake's\": 24636, 'livestock': 24637, 'caloric': 24638, 'exceeded': 24639, 'delisting': 24640, 'sis': 24641, 'vape': 24642, \"francisco's\": 24643, 'outnumber': 24644, 'satyajit': 24645, \"ray's\": 24646, 'moma': 24647, 'infinite': 24648, 'sighted': 24649, \"dribble'\": 24650, 'grotesquely': 24651, \"'hashtag'\": 24652, 'hazen': 24653, 'maybelline': 24654, 'injectable': 24655, 'illustrators': 24656, 'depict': 24657, 'pokémon': 24658, 'tanzania': 24659, 'intriguing': 24660, '122': 24661, 'cleverly': 24662, 'fart': 24663, 'eyelash': 24664, \"spielberg's\": 24665, 'greenbuild': 24666, 'scrawling': 24667, \"'revenge'\": 24668, 'deductible': 24669, 'asthma': 24670, 'presumed': 24671, 'bushed': 24672, 'tricking': 24673, 'bases': 24674, 'dru': 24675, \"'change'\": 24676, \"'oxygen\": 24677, 'ramsey': 24678, 'worlds': 24679, \"tivo'\": 24680, 'angrily': 24681, 'beads': 24682, 'inedibles': 24683, \"four'\": 24684, \"dragon'\": 24685, 'pressurization': 24686, 'landmass': 24687, 'yam': 24688, \"trumpcare's\": 24689, 'unbelievable': 24690, 'opcw': 24691, 'embarrassingly': 24692, 'extraterrestrial': 24693, 'tingle': 24694, 'cupcake': 24695, '141': 24696, 'countryside': 24697, 'bloodshot': 24698, 'competencies': 24699, \"scouting's\": 24700, \"divide'\": 24701, 'whipped': 24702, 'mantra': 24703, \"nutcracker'\": 24704, 'doe': 24705, 'amended': 24706, 'predicament': 24707, 'ios': 24708, 'prefrontal': 24709, 'cortex': 24710, 'worshipping': 24711, 'bedside': 24712, 'corbyn': 24713, \"'great\": 24714, \"interest'\": 24715, 'misusing': 24716, \"'work\": 24717, \"balance'\": 24718, 'simone': 24719, 'biles': 24720, 'costas': 24721, 'vlogger': 24722, \"'stretch'\": 24723, 'ballmer': 24724, 'vandal': 24725, \"'phallus\": 24726, \"mouth'\": 24727, 'imposing': 24728, 'alana': 24729, 'juliette': 24730, 'pinning': 24731, 'dekkers': 24732, \"matthew's\": 24733, 'directing': 24734, 'lifesavers': 24735, \"boggs'\": 24736, 'lobsterman': 24737, 'derangement': 24738, \"laura's\": 24739, \"cute'\": 24740, 'glossip': 24741, 'queue': 24742, 'rotates': 24743, 'demonically': 24744, 'antique': 24745, 'wicker': 24746, 'fosters': 24747, 'consensus': 24748, 'angelique': 24749, 'kerber': 24750, 'rowland': 24751, 'not—she': 24752, 'docile': 24753, 'jian': 24754, 'ghomeshi': 24755, 'rightfully': 24756, 'mariani': 24757, 'crumbling': 24758, 'kagan': 24759, 'cc': 24760, 'sabathia': 24761, 'pony': 24762, 'halting': 24763, \"'excessive\": 24764, 'corrosion': 24765, 'sónar': 24766, 'pussies': 24767, 'connie': 24768, \"britton's\": 24769, 'sired': 24770, 'divestment': 24771, \"'60\": 24772, 'adaptations': 24773, 'choking\\xa0black': 24774, 'shoplifting': 24775, 'solid': 24776, 'sponsor': 24777, 'amuses': 24778, 'café\\x97but': 24779, \"listening'\": 24780, 'albanian': 24781, 'allocated': 24782, \"'revenge\": 24783, \"'of\": 24784, \"course'\": 24785, 'hurriedly': 24786, 'flush': 24787, 'uranium': 24788, 'inspection': 24789, 'overruled': 24790, 'knudsen': 24791, 'rebrand': 24792, 'columbus': 24793, \"popper's\": 24794, \"penguins'\": 24795, 'seychelles': 24796, 'definitions': 24797, 'carrey': 24798, \"'psycho'\": 24799, 'raoul': 24800, 'wallenberg': 24801, 'ohh': 24802, 'swamp': 24803, 'maven': 24804, 'backgrounds': 24805, \"lake's\": 24806, 'xylophonist': 24807, 'trumpers': 24808, 'dui': 24809, 'rescheduled': 24810, \"'colin\": 24811, 'enduring': 24812, 'entente': 24813, \"'honoring'\": 24814, 'jalapeño': 24815, 'deploy': 24816, 'cicadas': 24817, 'detour': 24818, 'scarfs': 24819, 'quilt': 24820, '75th': 24821, 'dapl': 24822, \"warren's\": 24823, 'dreary': 24824, 'passionless': 24825, 'lupone': 24826, \"'couldn't\": 24827, \"bag'\": 24828, 'hysterically': 24829, 'homebuilding': 24830, 'sprinklers': 24831, 'genomic': 24832, 'technonlogy': 24833, 'bonuses': 24834, 'wmd': 24835, 'enforce': 24836, 'vooms': 24837, 'miniskirt': 24838, \"williams'\": 24839, \"'ex\": 24840, 'roxane': 24841, 'divol': 24842, 'svp': 24843, 'symantec': 24844, 'faithful': 24845, 'acadia': 24846, \"'really\": 24847, \"lucky'\": 24848, 'careerlink': 24849, 'connects': 24850, 'alums': 24851, 'ashore': 24852, 'sharia': 24853, 'fussy': 24854, 'eater': 24855, 'sincere': 24856, 'belatedly': 24857, 'zinger': 24858, 'scorched': 24859, \"author's\": 24860, 'shroud': 24861, 'crows': 24862, 'challengers': 24863, 'purported': 24864, \"ban'\": 24865, \"'hägar\": 24866, \"horrible'\": 24867, 'cupboard': 24868, 'plowing': 24869, 'hydrant': 24870, \"'god\": 24871, \"'being\": 24872, \"corpse'\": 24873, 'giddily': 24874, \"'sore\": 24875, \"loserman'\": 24876, \"pitt's\": 24877, 'weatherman': 24878, \"scared'\": 24879, 'maiden': 24880, 'pranksters': 24881, 'rename': 24882, \"'chamber\": 24883, \"rats'\": 24884, 'divert': 24885, 'rationing': 24886, \"martin's\": 24887, 'menudo': 24888, 'mullets': 24889, \"'andrea\": 24890, 'bocelli': 24891, \"'mitthew'\": 24892, 'revisiting': 24893, 'appraised': 24894, \"'midlife\": 24895, \"crisis'\": 24896, 'subsidizing': 24897, 'mollifying': 24898, 'pedal': 24899, \"'cannibal\": 24900, 'warranty': 24901, 'outlasts': 24902, 'aneurysms': 24903, 'rupturing': 24904, \"priebus'\": 24905, 'darling': 24906, 'archery': 24907, 'guardian': 24908, \"angeles'\": 24909, 'knopfler': 24910, 'numb': 24911, 'bourbon': 24912, 'carpeting': 24913, 'scanner': 24914, 'stagnant': 24915, 'sprint': 24916, 'enslaving': 24917, 'uv': 24918, 'radiation': 24919, 'peake': 24920, 'damaging': 24921, 'highs': 24922, 'frisbee': 24923, 'coated': 24924, 'dazzling': 24925, 'multicolor': 24926, 'wkzn': 24927, \"'state\": 24928, 'promptly': 24929, 'dozes': 24930, 'altitude': 24931, 'drills': 24932, \"'heartbreaking'\": 24933, \"'ken\": 24934, \"boner'\": 24935, \"paterno's\": 24936, 'intimidate': 24937, \"gaga's\": 24938, 'rosé': 24939, 'wolfs': 24940, 'munchos': 24941, 'disodium': 24942, 'guanylate': 24943, 'windmill': 24944, \"'worst'\": 24945, 'squalor': 24946, \"'same\": 24947, 'adria': 24948, 'cimino': 24949, 'peppermint': 24950, 'noir': 24951, 'levin': 24952, \"cactus'\": 24953, 'carmine': 24954, 'appice': 24955, 'mccarty': 24956, 'shimabukuro': 24957, 'boulders': 24958, \"greenwood's\": 24959, 'joshua': 24960, \"beal's\": 24961, \"bitch'\": 24962, 'professionalism': 24963, 'traditionally': 24964, 'goper': 24965, 'vicente': 24966, \"rowers'\": 24967, \"propaganda'\": 24968, 'overheating': 24969, 'remorse': 24970, 'politicized': 24971, 'judiciary': 24972, 'lizards': 24973, 'vedder': 24974, 'maisie': 24975, 'claps': 24976, 'houseboat': 24977, 'candice': 24978, 'sinner': 24979, 'rooftops': 24980, 'sleater': 24981, \"'rebel\": 24982, \"rebel'\": 24983, 'preaches': 24984, 'discoveries': 24985, 'horsey': 24986, 'rattles': 24987, 'vowing': 24988, 'shiny': 24989, \"ingraham's\": 24990, 'bolting': 24991, 'stupidest': 24992, 'hotbed': 24993, 'accounting': 24994, 'mailing': 24995, \"'timmy'\": 24996, 'asthmatic': 24997, 'asthmatics': 24998, 'squirts': 24999, 'meat14': 25000, 'brunches': 25001, 'courageous': 25002, 'diving': 25003, 'duchovny': 25004, 'miniseries': 25005, 'ibm': 25006, 'undeterred': 25007, 'headstone': 25008, 'lapse': 25009, 'kofi': 25010, 'annan': 25011, 'wreath': 25012, 'orkin': 25013, 'eli': 25014, 'chrome': 25015, 'decks': 25016, 'friar': 25017, 'remnant': 25018, 'semiotics': 25019, 'semiotism': 25020, 'aggression': 25021, \"'minced'\": 25022, 'dendy': 25023, 'labyrinth': 25024, \"voter's\": 25025, 'quadruple': 25026, 'stillbirth': 25027, 'sabotaged': 25028, \"coulter's\": 25029, 'segregated': 25030, 'cubes': 25031, \"'alias\": 25032, \"'macho\": 25033, \"attitude'\": 25034, 'risotto': 25035, 'uncomprehendingly': 25036, 'bystander': 25037, 'caduceus': 25038, 'suborbital': 25039, 'propulsion': 25040, 'mets': 25041, 'alderson': 25042, 'typos': 25043, 'stoking': 25044, 'schwartz': 25045, 'meetup': 25046, 'galen': 25047, 'multitask': 25048, 'creepily': 25049, 'limo': 25050, 'taunting': 25051, \"percent'\": 25052, 'surmise': 25053, 'heartache': 25054, 'pauly': 25055, 'mags': 25056, 'popped': 25057, \"pilot's\": 25058, \"'toni\": 25059, 'braxton': 25060, 'unbreak': 25061, 'ionosphere': 25062, 'exploding': 25063, 'reiser': 25064, 'benevolent': 25065, 'possessor': 25066, 'pisses': 25067, 'wilford': 25068, 'brimley': 25069, 'aoki': 25070, 'centerfold': 25071, 'lorna': 25072, 'meditations': 25073, 'blackness': 25074, 'suede': 25075, 'excels': 25076, 'incessant': 25077, 'oversharing': 25078, 'noisily': 25079, 'devours': 25080, 'dashcam': 25081, 'rolie': 25082, 'neal': 25083, 'schon': 25084, 'evan': 25085, \"baseball's\": 25086, 'sillier': 25087, 'caucasians': 25088, 'bowery': 25089, 'cuter': 25090, 'figurines': 25091, \"'fold\": 25092, 'announcer': 25093, 'tracker': 25094, \"'prince\": 25095, \"pot'\": 25096, 'nortons': 25097, \"'pti'\": 25098, \"'sittin'\": 25099, '1991': 25100, 'assing': 25101, 'trusting': 25102, 'cristiano': 25103, 'ronaldo': 25104, 'aegean': 25105, 'firefox': 25106, 'blu': 25107, \"'spring\": 25108, \"breakers'\": 25109, 'huffy': 25110, \"'rigorous'\": 25111, \"'repeal\": 25112, \"delay'\": 25113, 'autocorrect': 25114, 'scattering': 25115, \"'untrue'\": 25116, \"'irrelevant'\": 25117, 'gerstein': 25118, 'poncho': 25119, \"'troglodyte'\": 25120, \"'dwell\": 25121, \"caves'\": 25122, \"'birthday\": 25123, \"present'\": 25124, \"'joke'\": 25125, \"rules'\": 25126, \"'cake\": 25127, 'germans': 25128, 'gardening': 25129, \"'lashing\": 25130, 'rubbed': 25131, 'hallowed': 25132, 'restructuring': 25133, \"teachers'\": 25134, 'redenbacher': 25135, \"mccool's\": 25136, 'alibi': 25137, 'dose': 25138, 'rehearsed': 25139, \"'payback'\": 25140, 'platt': 25141, 'emmanuelle': 25142, 'seigner': 25143, 'fur': 25144, \"'chapter\": 25145, 'manuscript': 25146, 'intestinal': 25147, 'coupled': 25148, 'closings': 25149, 'bribing': 25150, 'tortilla': 25151, \"'fahrenheit\": 25152, \"451'\": 25153, 'noel': 25154, \"comrie's\": 25155, 'affirmations': 25156, 'flo': 25157, 'redundancy': 25158, 'kinky': 25159, 'perverts': 25160, 'nelly': 25161, 'reiterates': 25162, \"rather'\": 25163, 'muniz': 25164, 'renegotiate': 25165, \"manchin's\": 25166, \"'someone's\": 25167, \"twice'\": 25168, \"'harlem\": 25169, \"shake'\": 25170, 'ajit': 25171, 'pai': 25172, 'downloadable': 25173, 'busier': 25174, 'syllable': 25175, \"'comfortable'\": 25176, 'icky': 25177, 'sauna': 25178, \"'neo\": 25179, \"nazi'\": 25180, 'dinty': 25181, 'cedrick': 25182, 'chatman': 25183, 'mccourty': 25184, \"accepted'\": 25185, 'janis': 25186, 'joplin': 25187, \"'cybergranny'\": 25188, \"kicker's\": 25189, 'scowls': 25190, 'coms': 25191, '300th': 25192, \"'carrying\": 25193, \"weight'\": 25194, 'blackwater': 25195, \"'supergirl'\": 25196, 'misogynistic': 25197, 'smugglers': 25198, \"heston's\": 25199, 'dots': 25200, \"'i's\": 25201, 'sinatra': 25202, 'somethings': 25203, 'necessities': 25204, 'kelsea': 25205, 'ballerini': 25206, 'gulls': 25207, 'separating': 25208, \"mlk's\": 25209, 'agendas': 25210, 'condoleezza': 25211, 'interpreter': 25212, 'feasible': 25213, \"'alone\": 25214, 'whippoorwill': 25215, \"cover'\": 25216, 'rumspringa': 25217, \"'fate\": 25218, \"furious'\": 25219, \"hills'\": 25220, 'cortege': 25221, \"colmes'\": 25222, 'unreported': 25223, 'obs': 25224, 'christine': 25225, 'baranski': 25226, 'dyer': 25227, 'zoetrope': 25228, 'neurosis': 25229, \"'goodbye\": 25230, 'freeman': 25231, 'metzger': 25232, 'retweeting': 25233, 'benito': 25234, 'kellie': 25235, 'pickler': 25236, 'buzzer': 25237, \"feud'\": 25238, 'uzbekistan': 25239, 'emboldened': 25240, 'whiskers': 25241, 'liveblogged': 25242, 'domesticating': 25243, \"vet's\": 25244, 'outperformed': 25245, 'winging': 25246, 'nullifying': 25247, 'costco': 25248, \"'therapy'\": 25249, '61': 25250, 'alps': 25251, 'firefighting': 25252, 'planters': 25253, 'houseplants': 25254, 'freudian': 25255, 'obscene': 25256, 'delighting': 25257, 'thrills': 25258, 'puget': 25259, 'katherine': 25260, 'heigl': 25261, \"difficult'\": 25262, 'strollers': 25263, 'coincides': 25264, 'historically': 25265, 'squid': 25266, 'cebu': 25267, 'hellish': 25268, 'customizes': 25269, 'gamer': 25270, \"huckabee's\": 25271, 'ding': 25272, 'dong': 25273, 'carpe': 25274, 'diem': 25275, \"'shithole'\": 25276, 'emojisinthewild': 25277, 'melanesian': 25278, 'thundered': 25279, 'loom': 25280, 'baywatch': 25281, 'byron': 25282, 'arrived': 25283, 'industrious': 25284, 'carmelo': 25285, 'neutral': 25286, 'undertaker': 25287, \"pregnancy'\": 25288, \"'cesarean\": 25289, \"section'\": 25290, 'greenwood': 25291, 'ovarian': 25292, 'florence': 25293, 'exchanges': 25294, 'disasty': 25295, 'claw': 25296, 'windy': 25297, 'pressuring': 25298, 'radish': 25299, \"weinstein'\": 25300, 'sfmoma': 25301, \"'innovate'\": 25302, '650': 25303, \"'ichabod\": 25304, \"tnt's\": 25305, \"'headless\": 25306, \"showtime's\": 25307, \"'cloaked\": 25308, \"rider'\": 25309, \"bow'\": 25310, 'phenomena': 25311, 'fetching': 25312, \"babysitter's\": 25313, 'qualification': 25314, 'selecting': 25315, 'getaways': 25316, 'damns': 25317, 'requested': 25318, 'unhappier': 25319, \"'dishonest'\": 25320, 'dishonest': 25321, 'trailblazers': 25322, \"armed'\": 25323, 'flops': 25324, \"'pirates'\": 25325, 'cassette': 25326, 'sympathizers': 25327, 'stretches': 25328, 'naptime': 25329, 'enchilada': 25330, 'dewey': 25331, 'decimal': 25332, 'categorize': 25333, 'belushi': 25334, \"shell's\": 25335, \"nude'\": 25336, \"'party'\": 25337, 'tamagotchi': 25338, \"'nonchalant'\": 25339, 'faded': 25340, \"'trumpbeast'\": 25341, 'cabins': 25342, 'injections': 25343, 'coldplay': 25344, 'bridesmaid': 25345, 'seas': 25346, 'alaskan': 25347, 'pynchon': 25348, \"'dust\": 25349, \"obamacare'\": 25350, 'hopper': 25351, 'gyro': 25352, 'rs': 25353, \"wing'\": 25354, 'defects': 25355, 'outgrown': 25356, 'toenail': 25357, 'whimpers': 25358, 'flintstones': 25359, 'sickened': 25360, \"'speaking\": 25361, \"spanish'\": 25362, 'inexperienced': 25363, 'streaker': 25364, 'preferred': 25365, 'overstock': 25366, 'sculpted': 25367, 'strangely': 25368, 'alluring': 25369, 'homepage': 25370, 'tabletop': 25371, 'coax': 25372, 'supernatural': 25373, 'vested': 25374, 'oriented': 25375, 'uninhibited': 25376, 'decapitations': 25377, 'facto': 25378, \"'obama\": 25379, 'surrendering': 25380, 'screeches': 25381, 'gillian': 25382, 'jacobs': 25383, 'brody': 25384, 'typically': 25385, 'plouffe': 25386, \"'psychopath'\": 25387, 'molests': 25388, \"cancer'\": 25389, 'mosquitos': 25390, 'rests': 25391, 'harnesses': 25392, 'saffron': 25393, '112th': 25394, \"'hillary\": 25395, 'detestable': 25396, \"parts'\": 25397, 'disputing': 25398, 'cog': 25399, 'docked': 25400, 'enjoyable': 25401, 'riverside': 25402, \"master's\": 25403, \"'obstructionist'\": 25404, 'buncha': 25405, 'reverently': 25406, 'paused': 25407, 'coaching': 25408, \"'california\": 25409, 'connick': 25410, 'outsources': 25411, 'rutting': 25412, 'fairer': 25413, 'lt': 25414, 'newsom': 25415, 'surreality': 25416, 'snakebite': 25417, 'country—with': 25418, 'strings': 25419, 'telekinetic': 25420, 'hutcherson': 25421, 'warmest': 25422, 'youtuber': 25423, 'sealant': 25424, \"tuesday'\": 25425, 'imperfect': 25426, \"paper's\": 25427, 'soloway': 25428, 'rabbits': 25429, 'colonoscopy': 25430, 'voyage': 25431, 'stating': 25432, '945': 25433, 'counteract': 25434, 'podcaster': 25435, 'softener': 25436, \"'rising'\": 25437, 'neat': 25438, 'clickbait': 25439, 'theall': 25440, 'hubbard': 25441, 'scientologist': 25442, 'yamaha': 25443, 'skis': 25444, 'alto': 25445, 'saxophones': 25446, 'generators': 25447, 'scooters': 25448, 'swayed': 25449, 'claymation': 25450, 'coolio': 25451, 'spock': 25452, 'mustang': 25453, 'hygiene': 25454, 'differentiator': 25455, 'telemarketer': 25456, 'awash': 25457, 'mold': 25458, \"'monstrous\": 25459, 'conclusions': 25460, 'responding': 25461, 'chagas': 25462, 'asylums': 25463, 'roils': 25464, 'alig': 25465, 'carved': 25466, 'bumbling': 25467, \"kimmel'\": 25468, 'bloodless': 25469, 'rollins': 25470, 'laboriously': 25471, 'themeless': 25472, 'paso': 25473, \"'pan'\": 25474, 'overhauls': 25475, 'aloud': 25476, \"'grabbies'\": 25477, 'clamshell': 25478, 'exquisite': 25479, 'deere': 25480, 'sidecars': 25481, 'anachronism': 25482, \"lorde's\": 25483, 'nirvana': 25484, 'md': 25485, \"'friendliest\": 25486, \"town'\": 25487, 'digitally': 25488, 'remastered': 25489, 'spiky': 25490, 'birthers': 25491, 'stink': 25492, \"'curb\": 25493, \"enthusiasm'\": 25494, \"clintons'\": 25495, 'combined': 25496, 'acre': 25497, 'adolescent': 25498, \"stepfather's\": 25499, 'requirement': 25500, 'meanest': 25501, 'fleece': 25502, 'scattergories': 25503, \"'arrogance'\": 25504, 'intentional': 25505, 'wltz': 25506, \"hartford's\": 25507, 'toni': 25508, \"braxton's\": 25509, \"'unbreak\": 25510, 'intersecting': 25511, 'interdisciplinary': 25512, 'russiagate': 25513, \"'kings\": 25514, \"'southpaw'\": 25515, 'soundtrack': 25516, 'sacks': 25517, '107': 25518, \"castile's\": 25519, 'millenial': 25520, 'acknowledged': 25521, 'maim': 25522, \"'deceptive'\": 25523, 'wabi': 25524, 'sabi': 25525, 'imperfection': 25526, 'scifi': 25527, 'asean': 25528, \"chew'\": 25529, 'cop21': 25530, 'congressmembers': 25531, 'dyllan': 25532, \"knicks'\": 25533, 'initiatives': 25534, 'normality': 25535, 'suicidegirls': 25536, 'reannounces': 25537, \"sunshine'\": 25538, \"'rape\": 25539, \"s'\": 25540, 'squandered': 25541, 'genres': 25542, 'scarface': 25543, 'onesie': 25544, '560': 25545, 'scamming': 25546, 'suicide\\xa0assistance\\xa0dogs': 25547, 'seared': 25548, 'foie': 25549, 'gras': 25550, 'tyka': 25551, 'comical': 25552, 'groin': 25553, \"'lincoln'\": 25554, 'antihero': 25555, \"central's\": 25556, \"'review'\": 25557, 'greitens': 25558, 'busing': 25559, \"'productive\": 25560, \"weekend'\": 25561, 'meandering': 25562, 'absentminded': 25563, \"'loud\": 25564, \"approval'\": 25565, \"'rockford\": 25566, \"naked'\": 25567, 'completion': 25568, 'sharpest': 25569, \"mike'\": 25570, 'kinks': 25571, 'franchise': 25572, 'spectral': 25573, 'specializes': 25574, 'tiffani': 25575, \"thiessen's\": 25576, 'leyco': 25577, \"grey's\": 25578, 'anatomy': 25579, 'osbourne': 25580, 'rossini': 25581, 'caramoor': 25582, 'marina': 25583, \"trucker's\": 25584, 'blink': 25585, 'vidcon': 25586, \"'spines'\": 25587, 'confirmations': 25588, \"bombs'\": 25589, 'exploded': 25590, \"'marriage\": 25591, 'predictor': 25592, 'ushered': 25593, 'plinko': 25594, 'trolley': 25595, 'defaulting': 25596, 'camcorder': 25597, 'hagel': 25598, 'berk': 25599, 'kazakhstani': 25600, 'vocation': 25601, \"hoffman's\": 25602, \"die'\\xa0whispered\": 25603, 'tombstone': 25604, 'moaning': 25605, \"oscars'\": 25606, 'tantric': 25607, 'deploying': 25608, 'focusing': 25609, 'endures': 25610, 'benson': 25611, 'intersection': 25612, 'stoners': 25613, 'helium': 25614, 'juno': 25615, 'squeaky': 25616, 'introverted': 25617, \"changer'\": 25618, 'gourmet': 25619, 'foodie': 25620, 'favre': 25621, 'lookalike': 25622, \"generations'\": 25623, 'meddling': 25624, 'understudy': 25625, 'lithgow': 25626, 'orcas': 25627, 'animosity': 25628, 'difficulties': 25629, 'puck': 25630, 'baja': 25631, 'palmar': 25632, 'loreto': 25633, 'sterilization': 25634, 'marlin': 25635, 'lash': 25636, \"'republican\": 25637, \"welfare'\": 25638, \"'ryancare'\": 25639, '1964': 25640, \"snl's\": 25641, \"richards'\": 25642, 'strangest': 25643, 'electro': 25644, 'gad': 25645, \"'jump\": 25646, \"opportunity'\": 25647, \"'book\": 25648, \"mormon'\": 25649, 'dicks': 25650, 'adjourned': 25651, 'lumberjack': 25652, 'condiments': 25653, 'betraying': 25654, \"'aha\": 25655, \"humans'\": 25656, 'afterwards': 25657, 'gobi': 25658, 'flaming': 25659, 'faker': 25660, 'electrocution': 25661, 'competitive': 25662, 'retake': 25663, 'nimrud': 25664, 'culpo': 25665, \"consideration'\": 25666, 'mythbusters': 25667, 'zeus': 25668, 'blogosphere': 25669, \"blogger's\": 25670, 'bro': 25671, '2150': 25672, 'milly': 25673, 'banal': 25674, \"'swamp\": 25675, \"cabinet'\": 25676, 'bacterial': 25677, 'mcdougal': 25678, 'discussing': 25679, 'frenchman': 25680, 'bataclan': 25681, \"orlando's\": 25682, \"busy'\": 25683, 'denominational': 25684, 'faiths': 25685, 'sleekest': 25686, \"'deadpool\": 25687, \"brolin's\": 25688, \"baha'i\": 25689, \"browns'\": 25690, 'powering': 25691, 'scorchlands': 25692, 'outposts': 25693, '2085': 25694, 'upstate': 25695, 'intervene': 25696, 'legit': 25697, 'fingernail': 25698, 'homestyle': 25699, 'endure': 25700, 'amass': 25701, 'snowiest': 25702, 'resorts': 25703, 'discredited': 25704, \"'children's\": 25705, 'deputizes': 25706, \"'sexiest\": 25707, 'yutu': 25708, 'cranks': 25709, 'koechner': 25710, \"'shocked'\": 25711, \"coral'\": 25712, 'hsn': 25713, 'scratching': 25714, 'gooding': 25715, \"counselor's\": 25716, 'oats': 25717, 'relabeled': 25718, \"'drugs'\": 25719, 'interviewers': 25720, 'dumbest': 25721, 'ibtihaj': 25722, 'starves': 25723, 'lima': 25724, \"'another\": 25725, \"dust'\": 25726, \"'latte\": 25727, \"salute'\": 25728, 'swimmers': 25729, 'preventable': 25730, 'greeted': 25731, 'shinto': 25732, 'priestess': 25733, 'plummers': 25734, 'ignorant': 25735, 'boor': 25736, 'unappealing': 25737, 'bloodbath': 25738, 'semifinals': 25739, \"'gimme\": 25740, 'catcalls': 25741, 'sprouts': 25742, 'wrapper': 25743, 'debuted': 25744, 'earnest': 25745, 'ballerina': 25746, 'horseback': 25747, 'rescuer': 25748, 'foremost': 25749, 'compiles': 25750, 'shortlist': 25751, 'transsexual': 25752, 'globalist': 25753, 'plutocrat': 25754, 'ketamine': 25755, 'depressant': 25756, 'effigies': 25757, 'overly': 25758, 'whammys': 25759, 'broderick': 25760, 'wonderfully': 25761, \"'curious'\": 25762, \"studio's\": 25763, \"'octopussy'\": 25764, 'jourdan': 25765, 'clicks': 25766, 'fibs': 25767, 'grading': 25768, 'composer': 25769, 'licht': 25770, 'disturbed': 25771, 'quinones': 25772, '00': 25773, \"counts'\": 25774, 'tiffany': 25775, 'haddish': 25776, 'memorializes': 25777, 'openings': 25778, 'ünited': 25779, 'stätes': 25780, 'toughens': 25781, 'umlauts': 25782, 'oxiclean': 25783, 'scissors': 25784, 'tones': 25785, \"'mass'\": 25786, 'schiff': 25787, 'circumstantial': 25788, \"evidence'\": 25789, 'nawal': 25790, 'teleworks': 25791, 'spineless': 25792, 'caves': 25793, 'reignites': 25794, \"'birther'\": 25795, 'slaw': 25796, 'uneaten': 25797, 'nasal': 25798, 'naloxone': 25799, 'pierced': 25800, 'circumcision': 25801, 'profitable': 25802, 'kirby': 25803, \"tupac's\": 25804, 'symptomatic': 25805, 'injustices': 25806, \"liquor's\": 25807, 'gaetz': 25808, \"'sheet\": 25809, 'fluent': 25810, 'mandarin': 25811, \"battlefront'\": 25812, 'slicker': 25813, 'greased': 25814, '3po': 25815, 'teamnocancer': 25816, 'censure': 25817, 'adequate': 25818, 'eliminating': 25819, 'identifying': 25820, 'bice': 25821, 'passersby': 25822, 'clutching': 25823, \"bacon's\": 25824, 'harvests': 25825, 'playplace': 25826, 'librarians': 25827, 'bookish': 25828, 'kurt': 25829, 'cheered': 25830, 'haired': 25831, 'classrooms': 25832, 'khaled': 25833, \"'talking\": 25834, \"talk'\": 25835, \"drummer's\": 25836, 'essence': 25837, 'pities': 25838, 'expansive': 25839, 'entomology': 25840, 'cara': 25841, 'mund': 25842, 'crowned': 25843, \"soul's\": 25844, 'summoning': 25845, \"krieger's\": 25846, 'setbacks': 25847, 'necromancer': 25848, 'checkpoints': 25849, 'rebrands': 25850, \"'disappointimals'\": 25851, 'guarantee': 25852, 'announcing': 25853, 'ossifies': 25854, 'combatting': 25855, 'delirious': 25856, 'hallucinates': 25857, 'ipecac': 25858, 'mastered': 25859, 'uninhabitable': 25860, 'alderman': 25861, 'ramble': 25862, 'voucher': 25863, \"producers'\": 25864, 'reps': 25865, \"comfortable'\": 25866, \"dance'\": 25867, \"'letter\": 25868, 'taskforce': 25869, 'trait': 25870, 'soapy': 25871, 'doses': 25872, \"'tentative\": 25873, \"agreement'\": 25874, 'cocksucker': 25875, 'motherfucker': 25876, 'jeter': 25877, 'flawlessly': 25878, 'hustled': 25879, \"shades'\": 25880, 'walsh': 25881, \"'eagles\": 25882, \"'thriller'\": 25883, 'voldemort': 25884, 'unspeakably': 25885, 'rapture': 25886, \"north's\": 25887, 'baptism': 25888, 'orban': 25889, \"'invisible\": 25890, 'airwaves': 25891, 'crackle': 25892, 'geddy': 25893, 'earbud': 25894, \"'morning\": 25895, \"joe'\": 25896, 'isla': 25897, \"'unqualified\": 25898, 'flume': 25899, 'marinara': 25900, 'expelled': 25901, 'motorcyclist': 25902, \"'gross\": 25903, 'hostings': 25904, 'deteriorates': 25905, 'morbid': 25906, 'kurds': 25907, 'kobani': 25908, 'rescinded': 25909, 'sawfish': 25910, 'unanimous': 25911, 'retroactively': 25912, 'settler': 25913, 'uneventful': 25914, 'parched': 25915, 'jaded': 25916, 'seismologist': 25917, 'richter': 25918, 'forwarded': 25919, \"'part\": 25920, 'masterclass': 25921, \"ireland's\": 25922, 'energi': 25923, 'backpage': 25924, 'pimping': 25925, 'discontinued': 25926, \"k'\": 25927, 'wring': 25928, 'successor': 25929, \"'transgender\": 25930, \"'fetus\": 25931, \"'science\": 25932, \"based'\": 25933, \"atwood's\": 25934, \"'engaged'\": 25935, 'smartness': 25936, \"feingold's\": 25937, 'subvert': 25938, 'cinched': 25939, \"tour'\": 25940, 'latinx': 25941, 'showcase': 25942, \"skeleton'\": 25943, \"'willie\": 25944, 'horton': 25945, \"style'\": 25946, 'lingered': 25947, \"banks'\": 25948, 'sitar': 25949, 'stout': 25950, 'cardamom': 25951, 'indigo': 25952, 'starnes': 25953, \"'official\": 25954, 'precedent': 25955, 'pepperidge': 25956, 'milanos': 25957, 'paintball': 25958, 'moneypenny': 25959, 'tnt': 25960, 'monthlong': 25961, 'poppy': 25962, 'sparked': 25963, 'kebab': 25964, 'bumgarner': 25965, \"'ravaged'\": 25966, 'adjective': 25967, 'bicep': 25968, 'lactose': 25969, 'reboots': 25970, '72nd': 25971, 'desirable': 25972, 'offhand': 25973, \"cc'd\": 25974, 'heineken': 25975, \"'blacks\": 25976, \"only'\": 25977, 'habitable': 25978, '2060': 25979, 'tattered': 25980, 'conundrum': 25981, 'moloch': 25982, 'mafia': 25983, 'schmitt': 25984, 'formerly': 25985, 'wrestlers': 25986, 'summerslam': 25987, 'harding': 25988, 'chin': 25989, \"sheeran's\": 25990, \"'thinking\": 25991, 'duller': 25992, 'preference': 25993, 'slender': 25994, \"runner'\": 25995, \"'and\": 25996, 'cocksuckers': 25997, \"wednesdays'\": 25998, 'harmed': 25999, 'portraying': 26000, \"hawk'\": 26001, 'zapp': 26002, 'adjusts': 26003, 'revelation': 26004, 'canon': 26005, '5d': 26006, 'iv': 26007, 'creeping': 26008, 'foolhardy': 26009, \"intentions'\": 26010, \"'fee'\": 26011, 'mediaeval': 26012, 'fortress': 26013, 'monemvasia': 26014, 'oysters': 26015, \"petty's\": 26016, \"o'neal\": 26017, 'bearded': 26018, 'proceeds': 26019, 'bounds': 26020, 'equinox': 26021, 'fundamentals': 26022, '147': 26023, 'luge': 26024, 'chimpanzee': 26025, 'fattest': 26026, 'mozzarella': 26027, 'malkovich': 26028, \"'lady'\": 26029, 'logically': 26030, 'standpoint': 26031, 'arsenic': 26032, 'specifics': 26033, 'adjudicatory': 26034, 'tendon': 26035, 'mientus': 26036, 'lineman': 26037, \"sudan's\": 26038, 'implosion': 26039, 'dusk': 26040, 'nights': 26041, 'sunchips': 26042, 'iverson': 26043, 'realest': 26044, 'famer': 26045, \"000'\": 26046, 'woodcut': 26047, 'distances': 26048, \"'atheist'\": 26049, 'photoshopped': 26050, 'indicative': 26051, \"'office'\": 26052, 'buffoonery': 26053, 'walkover': 26054, '237': 26055, \"worrell's\": 26056, 'protector': 26057, 'chloë': 26058, 'sevign̈y': 26059, 'umlaut': 26060, \"insects'\": 26061, 'stomachs': 26062, 'nemtsov': 26063, \"pta's\": 26064, \"'inherent\": 26065, \"vice'\": 26066, 'eighty': 26067, 'rhea': 26068, \"maceris'\": 26069, 'empowered': 26070, 'headphone': 26071, 'methadone': 26072, \"anywhere'\": 26073, \"portrait'\": 26074, 'fireplace': 26075, 'eradicate': 26076, 'performative': 26077, \"'wokeness'\": 26078, 'outsourced': 26079, 'socially': 26080, 'femicide': 26081, 'buenos': 26082, 'aires': 26083, \"'frozen\": 26084, \"solid'\": 26085, 'continued': 26086, 'nippy': 26087, \"ronaldo's\": 26088, 'insignia': 26089, 'demons': 26090, 'baskin': 26091, 'raunchy': 26092, 'tastic': 26093, 'coastal': 26094, 'enforces': 26095, \"park's\": 26096, \"containers'\": 26097, 'warrants': 26098, \"'tall\": 26099, \"clogs'\": 26100, 'olbermann': 26101, \"grabber'\": 26102, 'probiotics': 26103, 'prebiotics': 26104, \"'politics\": 26105, \"worries'\": 26106, 'bavarian': 26107, \"pragmatist's\": 26108, \"wino's\": 26109, 'gerbils': 26110, 'ma': 26111, 'bliss': 26112, 'rollerblading': 26113, \"black's\": 26114, \"'growing\": 26115, 'bundle': 26116, 'lowly': 26117, 'overprivileged': 26118, 'servicepeople': 26119, '1969': 26120, 'natives': 26121, 'contradictions': 26122, \"taylor's\": 26123, 'lynette': 26124, 'ralph': 26125, 'twine': 26126, 'rejuvenates': 26127, 'assessing': 26128, 'woke': 26129, 'dis': 26130, 'buoyant': 26131, 'suavity': 26132, 'trenchcoat': 26133, 'klepper': 26134, 'samuel': 26135, \"'boston\": 26136, \"sucks'\": 26137, 'pilsner': 26138, 'blazers': 26139, \"'wear\": 26140, \"tonight'\": 26141, 'cairo': 26142, 'botany': 26143, 'orozco': 26144, 'qualifying': 26145, 'plotters': 26146, \"webster's\": 26147, \"'melty'\": 26148, 'lexicon': 26149, 'playful': 26150, \"'ouija'\": 26151, 'sufficiently': 26152, 'inclined': 26153, 'matador': 26154, 'gored': 26155, 'bullring': 26156, 'vivid': 26157, \"mosul's\": 26158, \"nominee's\": 26159, 'benjamin': 26160, 'ointment': 26161, 'kindergartener': 26162, 'fancyclothes': 26163, 'antoni': 26164, 'porowski': 26165, 'crushworthy': 26166, \"'boys\": 26167, \"band'\": 26168, 'sanitation': 26169, 'afterbirth': 26170, 'introversion': 26171, \"warmbier's\": 26172, 'dunbar': 26173, 'newsletter': 26174, 'imelda': 26175, \"'newsroom'\": 26176, 'sorkin': 26177, 'pub': 26178, \"mary's\": 26179, 'gotham': 26180, 'typeface': 26181, 'lit': 26182, 'bloomsday': 26183, 'umbrellas': 26184, 'magritte': 26185, 'magician': 26186, \"'cried\": 26187, \"bit'\": 26188, 'labeling': 26189, \"'nonessential'\": 26190, \"'la\": 26191, \"92'\": 26192, 'rodney': 26193, 'sicilian': 26194, 'smashed': 26195, 'pinkerton': 26196, 'busters': 26197, 'glowed': 26198, \"'wizards\": 26199, 'waverly': 26200, \"'pharma\": 26201, \"bro'\": 26202, 'toilets': 26203, 'dated': 26204, \"founders'\": 26205, 'cooked': 26206, 'packet': 26207, 'purses': 26208, \"'wrath\": 26209, \"titans'\": 26210, 'insulted': 26211, \"'peter\": 26212, \"earth'curiously\": 26213, \"strong'\": 26214, 'extinguish': 26215, \"'illegal'\": 26216, 'madrid': 26217, 'discriminatory': 26218, 'unborn': 26219, \"'roe\": 26220, \"wade'\": 26221, 'sleeve': 26222, \"gun'\": 26223, 'hormones': 26224, \"'grateful'\": 26225, 'almanac': 26226, 'primetime': 26227, 'cluster': 26228, 'frames': 26229, \"harrelson's\": 26230, \"'vogue'\": 26231, 'fondest': 26232, 'adjunct': 26233, '2021': 26234, 'eastwood': 26235, 'tailors': 26236, 'consulate': 26237, 'rigging': 26238, 'glasgow': 26239, 'concertgoer': 26240, \"'deep\": 26241, \"sleep'\": 26242, 'concussion': 26243, \"'gambit'\": 26244, \"'wait\": 26245, 'cisco': 26246, \"cohen's\": 26247, 'incomplete': 26248, \"equalizer'\": 26249, 'gratuitous': 26250, 'nakba': 26251, 'intertwined': 26252, 'dejected': 26253, 'catering': 26254, \"winwood's\": 26255, \"heller's\": 26256, \"'debacle'\": 26257, \"'queen\": 26258, \"katwe'\": 26259, 'abolish': 26260, \"'orcs\": 26261, \"'hony'\": 26262, 'sauron': 26263, 'adore': 26264, 'deliveryman': 26265, 'behrendt': 26266, 'childlike': 26267, 'travelling': 26268, 'feminine': 26269, 'mystique': 26270, 'schulz': 26271, 'easel': 26272, \"tate's\": 26273, \"'tacky'\": 26274, 'hm': 26275, 'mindanao': 26276, 'façade': 26277, 'diabetic': 26278, 'noncitizens': 26279, 'shrugging': 26280, 'uproariously': 26281, \"kimmel's\": 26282, 'costliest': 26283, 'mao': 26284, 'peters': 26285, 'ameringer': 26286, 'mcenery': 26287, 'yohe': 26288, 'hoya': 26289, 'cuddly': 26290, 'rafters': 26291, 'gleeful': 26292, 'pedicure': 26293, 'tubs': 26294, 'creeps': 26295, 'goop': 26296, 'hofner': 26297, 'decaying': 26298, 'revitalized': 26299, 'winks': 26300, 'eggnog': 26301, 'grier': 26302, 'continents': 26303, 'drifted': 26304, 'drugmakers': 26305, 'suffocates': 26306, 'minimums': 26307, 'rockefeller': 26308, \"gettin'\": 26309, 'oldies': 26310, 'goodies': 26311, \"bunker's\": 26312, 'destruct': 26313, 'oligarch': 26314, 'giuliana': 26315, 'rancic': 26316, \"o'connell\": 26317, 'salma': 26318, 'hayek': 26319, \"'p'\": 26320, 'renames': 26321, 'purged': 26322, 'condescendingly': 26323, 'sullied': 26324, 'annoyingly': 26325, 'burma': 26326, 'crowning': 26327, 'campers': 26328, 'ike': 26329, 'barinholtz': 26330, 'discriminating': 26331, 'sealing': 26332, \"meat's\": 26333, 'juices': 26334, 'oxygen': 26335, 'cowards': 26336, 'invoke': 26337, 'merits': 26338, 'gushing': 26339, 'propels': 26340, \"'extremely\": 26341, \"distressed'\": 26342, 'conveys': 26343, 'easygoing': 26344, 'parliamentary': 26345, \"innocuous'\": 26346, \"intimidated'\": 26347, 'ledger': 26348, 'unwanted': 26349, 'pregnancies': 26350, 'strapping': 26351, 'frustrations': 26352, 'waterboarded': 26353, \"bp's\": 26354, 'stormtroopers': 26355, \"lord'\": 26356, \"cowell's\": 26357, \"pittsburgh's\": 26358, \"'sad\": 26359, 'vietnamese': 26360, 'slapped': 26361, 'webdesign': 26362, 'masses': 26363, 'floyd': 26364, 'manny': 26365, \"review's\": 26366, 'torment': 26367, 'cowardly': 26368, 'tiniest': 26369, 'maxwell': 26370, 'cannibal': 26371, 'paralyzing': 26372, 'bookworm': 26373, \"'mainsplainer'\": 26374, 'vod': 26375, 'thus': 26376, 'stepped': 26377, 'saturn': 26378, 'boosters': 26379, \"hers'\": 26380, 'cola': 26381, \"'hangin'\": 26382, 'repulsed': 26383, 'charla': 26384, \"nash's\": 26385, 'labrador': 26386, 'distraught': 26387, \"picks'\": 26388, 'warp': 26389, 'darn': 26390, 'bangerz': 26391, \"uganda's\": 26392, 'tactical': 26393, 'regales': 26394, 'jameela': 26395, 'jamil': 26396, \"tipper's\": 26397, 'trainwreck': 26398, 'refereeing': 26399, 'lightweight': 26400, 'linen': 26401, 'tilting': 26402, 'lapel': 26403, 'blowout': 26404, 'liposuction': 26405, \"yosemite's\": 26406, \"columbia'\": 26407, \"'pitzer's\": 26408, \"'suspicious\": 26409, \"activity'\": 26410, 'guzman': 26411, \"'subminimum\": 26412, \"wage'\": 26413, 'albanians': 26414, 'misbehavior': 26415, 'punctuality': 26416, 'pawprint': 26417, 'drugged': 26418, 'pompom': 26419, 'cartels': 26420, '1893': 26421, \"'wow\": 26422, 'groans': 26423, \"'kon\": 26424, \"tiki'\": 26425, 'modernization': 26426, 'affirming': 26427, 'surgeries': 26428, 'faceoff': 26429, 'circulation': 26430, 'canvass': 26431, 'suburbs': 26432, 'livened': 26433, \"trio's\": 26434, 'talisman': 26435, 'magdalene': 26436, \"damn'\": 26437, 'precarious': 26438, 'intellectuals': 26439, 'mirjana': 26440, 'lucic': 26441, 'baroni': 26442, 'boulud': 26443, 'alum': 26444, 'unpredictable': 26445, 'surcharge': 26446, \"'bank'\": 26447, 'transporting': 26448, 'birchbox': 26449, 'shifting': 26450, 'miner': 26451, 'emporia': 26452, 'marcus': 26453, 'mariota': 26454, 'doubter': 26455, 'ping': 26456, 'pong': 26457, 'groove': 26458, 'salah': 26459, 'abdeslam': 26460, 'spaghetti': 26461, 'strap': 26462, 'gentrified': 26463, 'disband': 26464, \"jacob's\": 26465, 'ulbricht': 26466, \"'macarena'\": 26467, 'winn': 26468, 'flapping': 26469, 'laureates': 26470, \"'good'\": 26471, 'mockingjay': 26472, 'marginal': 26473, 'pedophile': 26474, 'redefines': 26475, \"'gift'\": 26476, 'solicitor': 26477, 'burwell': 26478, \"gif'd\": 26479, 'autonomous': 26480, \"'humane'\": 26481, 'slaughterhouse': 26482, 'carve': 26483, 'bündchen': 26484, 'italia': 26485, 'trace': 26486, 'zbt': 26487, 'robs': 26488, 'unlock': 26489, 'viacom': 26490, 'lens': 26491, 'yowling': 26492, 'kiwi': 26493, 'weasels': 26494, 'bleak': 26495, 'trickortreatin100years': 26496, 'amplifyd': 26497, \"peet's\": 26498, 'catalogue': 26499, 'carnivores': 26500, 'whims': 26501, 'cftc': 26502, 'umbilical': 26503, 'mooney': 26504, 'tribes': 26505, 'qatari': 26506, 'emir': 26507, 'emirates': 26508, 'gere': 26509}\n"
          ],
          "name": "stdout"
        }
      ]
    },
    {
      "cell_type": "markdown",
      "metadata": {
        "id": "4jxcQG_o0d_o"
      },
      "source": [
        "###### **Sequencing Data**"
      ]
    },
    {
      "cell_type": "code",
      "metadata": {
        "id": "ZG7qyC3T0VPc"
      },
      "source": [
        "X_train = tokenizer.texts_to_sequences(X_train)\n",
        "X_test = tokenizer.texts_to_sequences(X_test)\n",
        "X_train = pad_sequences(X_train, maxlen=100, padding='post', truncating='post')\n",
        "X_test = pad_sequences(X_test, maxlen=100, padding='post', truncating='post')\n"
      ],
      "execution_count": 46,
      "outputs": []
    },
    {
      "cell_type": "markdown",
      "metadata": {
        "id": "AGYjgZWcMqww"
      },
      "source": [
        "###### **Slicing Data into Test and Training Test**"
      ]
    },
    {
      "cell_type": "code",
      "metadata": {
        "id": "DzU_DKD0AASV"
      },
      "source": [
        ""
      ],
      "execution_count": 46,
      "outputs": []
    },
    {
      "cell_type": "code",
      "metadata": {
        "id": "8V_ev0VLTCJ4"
      },
      "source": [
        "\n",
        "def data_batch(X_train, y_train, X_test, y_test):\n",
        "  train_ds = tf.data.Dataset.from_tensor_slices(\n",
        "    (X_train, y_train)).shuffle(1000).batch(32)\n",
        "  test_ds = tf.data.Dataset.from_tensor_slices(\n",
        "      (X_test, y_test)).shuffle(1000).batch(32)\n",
        "  return train_ds, test_ds\n",
        "train_ds,test_ds = data_batch(X_train, y_train, X_test, y_test)\n"
      ],
      "execution_count": 47,
      "outputs": []
    },
    {
      "cell_type": "markdown",
      "metadata": {
        "id": "iiWiY8RytSFx"
      },
      "source": [
        "# **3. Creating Neural Network**"
      ]
    },
    {
      "cell_type": "code",
      "metadata": {
        "id": "oa9hoJG81fu1"
      },
      "source": [
        "class MyModel(tf.keras.Model):\n",
        "  def __init__(self):\n",
        "    super().__init__()\n",
        "    self.e = Embedding(10000, 16, input_length= 100)\n",
        "    self.gM = GlobalMaxPooling1D()\n",
        "    self.gA = GlobalAveragePooling1D()\n",
        "    self.d1 = Dense(32, activation='relu')\n",
        "    self.d2 = Dense(16, activation='relu')\n",
        "    self.d3 = Dense(1, activation='sigmoid')\n",
        "    self.dr = Dropout(0.3)\n",
        "  def call(self, x):\n",
        "    x = self.e(x)\n",
        "    #x = self.gM(x)\n",
        "    x = self.gA(x)\n",
        "    x = self.d1(x)\n",
        "    #x = self.d2(x)\n",
        "    #x = self.dr(x)\n",
        "    return self.d3(x)\n",
        "  "
      ],
      "execution_count": 48,
      "outputs": []
    },
    {
      "cell_type": "code",
      "metadata": {
        "id": "FJiPnej7U6xX"
      },
      "source": [
        "model = MyModel()"
      ],
      "execution_count": 49,
      "outputs": []
    },
    {
      "cell_type": "markdown",
      "metadata": {
        "id": "AcHlKrCMC-Pd"
      },
      "source": [
        "###### **Optimizer and Loss Function**"
      ]
    },
    {
      "cell_type": "code",
      "metadata": {
        "id": "BBFB3pIz_UlG"
      },
      "source": [
        "loss_object = tf.keras.losses.BinaryCrossentropy(from_logits=False)\n",
        "Optimiser = tf.keras.optimizers.Adam()"
      ],
      "execution_count": 50,
      "outputs": []
    },
    {
      "cell_type": "markdown",
      "metadata": {
        "id": "6i0mj3OmDSyd"
      },
      "source": [
        "######  **Metrics For Loss And Accuracy**"
      ]
    },
    {
      "cell_type": "code",
      "metadata": {
        "id": "EezDSepxDknS"
      },
      "source": [
        "train_loss = tf.keras.metrics.Mean(name='train_loss')\n",
        "train_accuracy = tf.keras.metrics.BinaryAccuracy(name='train_accuracy')\n",
        "test_loss = tf.keras.metrics.Mean(name=\"test_loss\")\n",
        "test_accuracy = tf.keras.metrics.BinaryAccuracy(name='test_accuracy')"
      ],
      "execution_count": 51,
      "outputs": []
    },
    {
      "cell_type": "code",
      "metadata": {
        "id": "oiW8z40KkEZv"
      },
      "source": [
        ""
      ],
      "execution_count": 51,
      "outputs": []
    },
    {
      "cell_type": "markdown",
      "metadata": {
        "id": "oHlrXTRSFRyP"
      },
      "source": [
        "# **4. Function for training and Testing**"
      ]
    },
    {
      "cell_type": "markdown",
      "metadata": {
        "id": "kV8bnqcAFgSL"
      },
      "source": [
        "###### **Function For Training**"
      ]
    },
    {
      "cell_type": "code",
      "metadata": {
        "id": "opATbgQoFJJW"
      },
      "source": [
        "@tf.function\n",
        "def train_step(images, labels):\n",
        "  with tf.GradientTape() as tape:\n",
        "    prediction = model(images, training=True)\n",
        "    loss = loss_object(labels,prediction)\n",
        "  gradient = tape.gradient(loss, model.trainable_variables)\n",
        "  Optimiser.apply_gradients(zip(gradient, model.trainable_variables))\n",
        "  train_loss(loss)\n",
        "  train_accuracy(labels, prediction)"
      ],
      "execution_count": 52,
      "outputs": []
    },
    {
      "cell_type": "markdown",
      "metadata": {
        "id": "m9h7PFIRHLVf"
      },
      "source": [
        "###### **Function For Testing**"
      ]
    },
    {
      "cell_type": "code",
      "metadata": {
        "id": "fjfu23GaHRcA"
      },
      "source": [
        "@tf.function\n",
        "def test_step(images, labels):\n",
        "  prediction = model(images, training = False)\n",
        "  t_loss = loss_object(labels, prediction)\n",
        "  test_loss(t_loss)\n",
        "  test_accuracy(labels, prediction)"
      ],
      "execution_count": 53,
      "outputs": []
    },
    {
      "cell_type": "markdown",
      "metadata": {
        "id": "L-n7dSmaHUQT"
      },
      "source": [
        "# **5. Training Model** "
      ]
    },
    {
      "cell_type": "code",
      "metadata": {
        "id": "JCqlZMj5Hesq",
        "colab": {
          "base_uri": "https://localhost:8080/",
          "height": 1000,
          "referenced_widgets": [
            "21c1dd8d69334d0d874bb43931e90b68",
            "f224183e00a64f0ab49c1d00ed90dcc1",
            "6ea60941f70c4a7b946afb14d32d7f7b",
            "33d9997458ea46d3a618623e5e24edaf",
            "c3644d6a14484dd3af0eac47e2f2491a",
            "c52d34a7716d45fdad31f8936b5cb1da",
            "2789fc228ada4ec0bb8396aa0569834b",
            "8a61418bf05a40bfb4d6e5e2fdeed8cd",
            "21720ff5d5bf4ddcab2cbdfc88e94ce8",
            "1a2fbdf2e3ca41ddbeffb10d5c914d64",
            "9f415a328f934e6f8fbe71a814a50766",
            "dd051de756284b29aa01b55221b7cc7d",
            "0b526ddb7be043969c02b146bd476795",
            "efe19cebe94b46d4af4cfd868760982d",
            "c416cac0a80845c7b5bd7c7a849f5dc2",
            "3d997a2f6e2f4ed6a1d2d36b6b07cbee",
            "afdb455ec5d740769425b206c914692e",
            "eee48f75d8474e159abb381ee8c3aabe",
            "6b76d2070b0a4051af655087651ce941",
            "3a31cdbc97d646ee9021483e428715a2",
            "cc93e6d1ce624c57b29b8ee0cd80a379",
            "882dd8079826414abc54f80e7038f96b",
            "2b3b5c40a81348ee8ed7dea19153ae64",
            "a6dad20e13144aa48ef53af135d20721",
            "bbe6bbb68de445e79723a486c5d65fdf",
            "ebef104862af4f92a32a48062fbb6361",
            "779d99db45834423996d5f2c1293fde8",
            "24c8b815eccd4930852c68715359b035",
            "39ed1cb68de34ed391a207f0149fe86c",
            "af855fd7381c4aa6aaf0720cde207c1c",
            "29673351d3664537b2414c78e5ec89d3",
            "2c794800009047548f39ee8ebf6f315a",
            "9bdb83c216a34a70ad76b982a643b117",
            "9ca0ba73f58243eeaf3eb90006f5bf6b",
            "eff28d7920ca419bb2fb3cc16cdb4ed6",
            "ffbe45d484574b06bde2be5676f2fd2e",
            "d0bfc61a2ace45ae965bd8a762100ba9",
            "22a9e8338425497e95e684f3b6cf3b49",
            "4ada6e63ad67440a9eb2b1ee4859e325",
            "e912fea099fb4ba9a0aeba8b68b3ceb2",
            "4ad4b17f830345958b850c998bb44834",
            "d0d31c5b85fb404d99895f81b1cfd7f1",
            "40132e71e1fd47d883e7f7383ab7340f",
            "888bdd6dfae54378bde657c0361613cb",
            "5c51c5c65c6f448aaaf5ebeff453aca1",
            "e8ba5acc21634505bf809d841968345b",
            "63b1d2abc8d045828a22ed0ef2eafbcb",
            "faff02c4bf0445f3a648d0c716f26578",
            "e436fd7ca43643249fe9aa1f6a849425",
            "bdaa4b0502b74d2bad15dca38a34abb0",
            "9ae536be9dcb42508ad34b6748537d5c",
            "5f3ac99841d5490db492225bb8f78758",
            "7b2259d4ef8d48fd8020d08a0cd45cb0",
            "f49d5a489d2d45849e3874f1c0b8ed8a",
            "546e2008d97e4daa82ad2b5d541fd6b9",
            "75aa12155e094861acb82f559c8e3ece",
            "ac9a38a998c840a3abdecff41ebc73e2",
            "75301aa9c9374b189b0f88abb256749a",
            "92494ae49caf456995651bb2e1ec4d08",
            "291ce69a7edc456bad6490567b1e5803",
            "43cd3632c548499a98c32ecbd9d99a1b",
            "53530c17a85c463ab7558ab2f64aa95c",
            "94115390f50347638a19afec05bec4a3",
            "f01e8a9b6eaf45e9900b59acdd9a365a",
            "42b67480bf5147cc96aec74611c1d6eb",
            "7213fe1beb704ccb84e132a896093b1f",
            "a0c46345eb71422898e17c6791f419bf",
            "b0d1648addb04660b3f709be07950eb0",
            "844a5b6e9ccf4f42a029bf16176b6f0d",
            "6d2a356abe7545b39ca8fa076932f8c7",
            "f1bd93714ead4eb2abccc38c20d6c20a",
            "1abcde3c327a4ca49624daa6195fbbb8",
            "2cd0a5d78f834913bed0f942d0951182",
            "cdf4596bd62b45c3af170abe86835706",
            "973ce13db86748a5beeb5674be9c883b",
            "2d61779100a4441da98cb0ae5ef6dc8a",
            "95b912e8574c416e89af38ccc0f49016",
            "e7527d0f151f429697573fb1cd9e052b",
            "cbe369f5bf9948c8b0f28dccab76ae01",
            "0517af45c58b4688a268c0668e4a7e1d",
            "b85ec639164b4e5ab840989b46eaf185",
            "d8a4108420fb4a5c8bd36f0e6db1af48",
            "77385b96d5544801ad9f074f313f694f",
            "324c022cb8b34cd0ae759f31476066b0",
            "9cf8b5198bb7474fb68a581159e42ef4",
            "9cf06f16148343ae8bcbd4ddda11b5dc",
            "96e0b32281bb4baba3ad0c2f698bf3ce",
            "f1215be44371491db5b6939af638122a",
            "d9d230f6e57942d5a967703cd2412ff5",
            "88dce11278dc45dca3edccef3427a08c",
            "66779fcb2184412ab25182224ee815fb",
            "fb09f7c58fc64befaad04e83a417639a",
            "76e19aa7b6e346dfa676e290c070eef1",
            "6260de4c0c4c4f08adaa78aa733d528b",
            "a3d4857c0ad8403c8ac744823c56a4f9",
            "6f1ac2ed8d0d4141a1855e6dfcacf7ce",
            "1f4f2340d2a9445f8f7256998a0e2c6b",
            "550fea10290c4be8ba2c0f8eac09e7eb",
            "5b845ad55361472c941a42ae248dda48",
            "cd93c8e1b15b44fabf49cf6aba943a9c",
            "e91c7617f68941dc920a2bc92453b1a1",
            "a8cfe1f04bb54ef8b0df6982566deeb5",
            "fd5c7b1ddc19441988a76f8d71a8e742",
            "e4f76e6045914b96abe5d5d21c6a6cb3",
            "a3712afc14cd43f69eaea227ae25cc50",
            "20946f2e8b3a4cfbbce55e7faef37034",
            "d85741c03d3446fcb19646b3a0b7d50a",
            "050b2d75d46145c7aaf00de5f6a1276a",
            "4dbf4d09805740c2b58b1dc6f6fc35d6",
            "b806184af9ae41d9a121d82a74e10523",
            "c5cfd19402fc4e478b685a3652e9b801",
            "11c8d61f0b024efdadd7e6d956c26a67",
            "6044fc66387241089d527d0a7742b469",
            "c19561b708af4802bae8c6adfc241a21",
            "84d6ec706fec417b9cc9783cbf565b3c",
            "be3f50d6cb284cc79ab17cfaa0476d9a",
            "7a13bb0096444ad9b77283fcd791dbfa",
            "7d02b89a87b0449b9aaef33605c82dfd",
            "12830a18494d484c902ce0b9e03872e9",
            "3c0376062dc741018e89108c045a9ebe"
          ]
        },
        "outputId": "03b66c8f-af89-46b8-ecbd-f5e32b62ea09"
      },
      "source": [
        "EPOCHS = 15\n",
        "Train_LOSS = []\n",
        "TRain_Accuracy = []\n",
        "Test_LOSS = []\n",
        "Test_Accuracy = []\n",
        "\n",
        "for epoch in range(EPOCHS):\n",
        "  train_loss.reset_states()\n",
        "  train_accuracy.reset_states()\n",
        "  test_loss.reset_states()\n",
        "  test_accuracy.reset_states()\n",
        "  print(f'Epoch : {epoch+1}')\n",
        "\n",
        "  desc = \"EPOCHS {:0>4d}\".format(epoch+1)\n",
        "\n",
        "  for images, labels in tqdm(train_ds, desc=desc ):    \n",
        "    train_step(images, labels)\n",
        "      \n",
        "  for test_images, test_labels in test_ds:\n",
        "    test_step(test_images, test_labels)\n",
        "    \n",
        "  \n",
        "\n",
        "  print(\n",
        "      f'Loss: {train_loss.result()}, '\n",
        "      f'Accuracy: {train_accuracy.result()*100}, '\n",
        "      f'Test Loss: {test_loss.result()}, '\n",
        "      f'Test Accuracy: {test_accuracy.result()*100}'\n",
        "  )\n",
        "\n",
        "  Train_LOSS.append(train_loss.result())\n",
        "  TRain_Accuracy.append(train_accuracy.result()*100)\n",
        "  Test_LOSS.append(test_loss.result())\n",
        "  Test_Accuracy.append(test_accuracy.result()*100)\n",
        "\n",
        "  if epoch==0:\n",
        "    min_Loss = test_loss.result()\n",
        "    min_Accuracy = test_accuracy.result()*100\n",
        "  elif (min_Loss>test_loss.result()):\n",
        "    if (min_Accuracy <= test_accuracy.result()*100) :\n",
        "      min_Loss = test_loss.result()\n",
        "      min_Accuracy = ( test_accuracy.result()*100)\n",
        "      print(f\"Saving Best Model {epoch+1}\")\n",
        "      path = f'/content/BestModel.h5'  \n",
        "  \n",
        "\n",
        "      model.save_weights(path)                            "
      ],
      "execution_count": 54,
      "outputs": [
        {
          "output_type": "stream",
          "text": [
            "Epoch : 1\n"
          ],
          "name": "stdout"
        },
        {
          "output_type": "display_data",
          "data": {
            "application/vnd.jupyter.widget-view+json": {
              "model_id": "21c1dd8d69334d0d874bb43931e90b68",
              "version_minor": 0,
              "version_major": 2
            },
            "text/plain": [
              "HBox(children=(FloatProgress(value=0.0, description='EPOCHS 0001', max=668.0, style=ProgressStyle(description_…"
            ]
          },
          "metadata": {
            "tags": []
          }
        },
        {
          "output_type": "stream",
          "text": [
            "\n",
            "Loss: 0.643668532371521, Accuracy: 62.674312591552734, Test Loss: 0.5115951299667358, Test Accuracy: 78.43563079833984\n",
            "Epoch : 2\n"
          ],
          "name": "stdout"
        },
        {
          "output_type": "display_data",
          "data": {
            "application/vnd.jupyter.widget-view+json": {
              "model_id": "21720ff5d5bf4ddcab2cbdfc88e94ce8",
              "version_minor": 0,
              "version_major": 2
            },
            "text/plain": [
              "HBox(children=(FloatProgress(value=0.0, description='EPOCHS 0002', max=668.0, style=ProgressStyle(description_…"
            ]
          },
          "metadata": {
            "tags": []
          }
        },
        {
          "output_type": "stream",
          "text": [
            "\n",
            "Loss: 0.3841143846511841, Accuracy: 84.37520599365234, Test Loss: 0.36063867807388306, Test Accuracy: 84.07061004638672\n",
            "Saving Best Model 2\n",
            "Epoch : 3\n"
          ],
          "name": "stdout"
        },
        {
          "output_type": "display_data",
          "data": {
            "application/vnd.jupyter.widget-view+json": {
              "model_id": "afdb455ec5d740769425b206c914692e",
              "version_minor": 0,
              "version_major": 2
            },
            "text/plain": [
              "HBox(children=(FloatProgress(value=0.0, description='EPOCHS 0003', max=668.0, style=ProgressStyle(description_…"
            ]
          },
          "metadata": {
            "tags": []
          }
        },
        {
          "output_type": "stream",
          "text": [
            "\n",
            "Loss: 0.292815625667572, Accuracy: 88.35528564453125, Test Loss: 0.33276650309562683, Test Accuracy: 85.70109558105469\n",
            "Saving Best Model 3\n",
            "Epoch : 4\n"
          ],
          "name": "stdout"
        },
        {
          "output_type": "display_data",
          "data": {
            "application/vnd.jupyter.widget-view+json": {
              "model_id": "bbe6bbb68de445e79723a486c5d65fdf",
              "version_minor": 0,
              "version_major": 2
            },
            "text/plain": [
              "HBox(children=(FloatProgress(value=0.0, description='EPOCHS 0004', max=668.0, style=ProgressStyle(description_…"
            ]
          },
          "metadata": {
            "tags": []
          }
        },
        {
          "output_type": "stream",
          "text": [
            "\n",
            "Loss: 0.24705848097801208, Accuracy: 90.37705993652344, Test Loss: 0.3327412009239197, Test Accuracy: 85.60753631591797\n",
            "Epoch : 5\n"
          ],
          "name": "stdout"
        },
        {
          "output_type": "display_data",
          "data": {
            "application/vnd.jupyter.widget-view+json": {
              "model_id": "9bdb83c216a34a70ad76b982a643b117",
              "version_minor": 0,
              "version_major": 2
            },
            "text/plain": [
              "HBox(children=(FloatProgress(value=0.0, description='EPOCHS 0005', max=668.0, style=ProgressStyle(description_…"
            ]
          },
          "metadata": {
            "tags": []
          }
        },
        {
          "output_type": "stream",
          "text": [
            "\n",
            "Loss: 0.212692990899086, Accuracy: 91.90782165527344, Test Loss: 0.3279319703578949, Test Accuracy: 86.01795959472656\n",
            "Saving Best Model 5\n",
            "Epoch : 6\n"
          ],
          "name": "stdout"
        },
        {
          "output_type": "display_data",
          "data": {
            "application/vnd.jupyter.widget-view+json": {
              "model_id": "4ad4b17f830345958b850c998bb44834",
              "version_minor": 0,
              "version_major": 2
            },
            "text/plain": [
              "HBox(children=(FloatProgress(value=0.0, description='EPOCHS 0006', max=668.0, style=ProgressStyle(description_…"
            ]
          },
          "metadata": {
            "tags": []
          }
        },
        {
          "output_type": "stream",
          "text": [
            "\n",
            "Loss: 0.18811006844043732, Accuracy: 92.92765808105469, Test Loss: 0.33830803632736206, Test Accuracy: 85.85079956054688\n",
            "Epoch : 7\n"
          ],
          "name": "stdout"
        },
        {
          "output_type": "display_data",
          "data": {
            "application/vnd.jupyter.widget-view+json": {
              "model_id": "e436fd7ca43643249fe9aa1f6a849425",
              "version_minor": 0,
              "version_major": 2
            },
            "text/plain": [
              "HBox(children=(FloatProgress(value=0.0, description='EPOCHS 0007', max=668.0, style=ProgressStyle(description_…"
            ]
          },
          "metadata": {
            "tags": []
          }
        },
        {
          "output_type": "stream",
          "text": [
            "\n",
            "Loss: 0.1671179085969925, Accuracy: 93.95584106445312, Test Loss: 0.3516162931919098, Test Accuracy: 85.80838775634766\n",
            "Epoch : 8\n"
          ],
          "name": "stdout"
        },
        {
          "output_type": "display_data",
          "data": {
            "application/vnd.jupyter.widget-view+json": {
              "model_id": "ac9a38a998c840a3abdecff41ebc73e2",
              "version_minor": 0,
              "version_major": 2
            },
            "text/plain": [
              "HBox(children=(FloatProgress(value=0.0, description='EPOCHS 0008', max=668.0, style=ProgressStyle(description_…"
            ]
          },
          "metadata": {
            "tags": []
          }
        },
        {
          "output_type": "stream",
          "text": [
            "\n",
            "Loss: 0.14972633123397827, Accuracy: 94.55931854248047, Test Loss: 0.3860347867012024, Test Accuracy: 84.4648208618164\n",
            "Epoch : 9\n"
          ],
          "name": "stdout"
        },
        {
          "output_type": "display_data",
          "data": {
            "application/vnd.jupyter.widget-view+json": {
              "model_id": "42b67480bf5147cc96aec74611c1d6eb",
              "version_minor": 0,
              "version_major": 2
            },
            "text/plain": [
              "HBox(children=(FloatProgress(value=0.0, description='EPOCHS 0009', max=668.0, style=ProgressStyle(description_…"
            ]
          },
          "metadata": {
            "tags": []
          }
        },
        {
          "output_type": "stream",
          "text": [
            "\n",
            "Loss: 0.13717208802700043, Accuracy: 94.92990112304688, Test Loss: 0.41422227025032043, Test Accuracy: 84.12549591064453\n",
            "Epoch : 10\n"
          ],
          "name": "stdout"
        },
        {
          "output_type": "display_data",
          "data": {
            "application/vnd.jupyter.widget-view+json": {
              "model_id": "2cd0a5d78f834913bed0f942d0951182",
              "version_minor": 0,
              "version_major": 2
            },
            "text/plain": [
              "HBox(children=(FloatProgress(value=0.0, description='EPOCHS 0010', max=668.0, style=ProgressStyle(description_…"
            ]
          },
          "metadata": {
            "tags": []
          }
        },
        {
          "output_type": "stream",
          "text": [
            "\n",
            "Loss: 0.12431871891021729, Accuracy: 95.6165771484375, Test Loss: 0.43007075786590576, Test Accuracy: 84.21781921386719\n",
            "Epoch : 11\n"
          ],
          "name": "stdout"
        },
        {
          "output_type": "display_data",
          "data": {
            "application/vnd.jupyter.widget-view+json": {
              "model_id": "b85ec639164b4e5ab840989b46eaf185",
              "version_minor": 0,
              "version_major": 2
            },
            "text/plain": [
              "HBox(children=(FloatProgress(value=0.0, description='EPOCHS 0011', max=668.0, style=ProgressStyle(description_…"
            ]
          },
          "metadata": {
            "tags": []
          }
        },
        {
          "output_type": "stream",
          "text": [
            "\n",
            "Loss: 0.11290738731622696, Accuracy: 96.07321166992188, Test Loss: 0.4372016191482544, Test Accuracy: 84.81786346435547\n",
            "Epoch : 12\n"
          ],
          "name": "stdout"
        },
        {
          "output_type": "display_data",
          "data": {
            "application/vnd.jupyter.widget-view+json": {
              "model_id": "d9d230f6e57942d5a967703cd2412ff5",
              "version_minor": 0,
              "version_major": 2
            },
            "text/plain": [
              "HBox(children=(FloatProgress(value=0.0, description='EPOCHS 0012', max=668.0, style=ProgressStyle(description_…"
            ]
          },
          "metadata": {
            "tags": []
          }
        },
        {
          "output_type": "stream",
          "text": [
            "\n",
            "Loss: 0.10327079892158508, Accuracy: 96.37444305419922, Test Loss: 0.4753957986831665, Test Accuracy: 83.96956634521484\n",
            "Epoch : 13\n"
          ],
          "name": "stdout"
        },
        {
          "output_type": "display_data",
          "data": {
            "application/vnd.jupyter.widget-view+json": {
              "model_id": "1f4f2340d2a9445f8f7256998a0e2c6b",
              "version_minor": 0,
              "version_major": 2
            },
            "text/plain": [
              "HBox(children=(FloatProgress(value=0.0, description='EPOCHS 0013', max=668.0, style=ProgressStyle(description_…"
            ]
          },
          "metadata": {
            "tags": []
          }
        },
        {
          "output_type": "stream",
          "text": [
            "\n",
            "Loss: 0.09549304842948914, Accuracy: 96.61119842529297, Test Loss: 0.512302815914154, Test Accuracy: 83.61776733398438\n",
            "Epoch : 14\n"
          ],
          "name": "stdout"
        },
        {
          "output_type": "display_data",
          "data": {
            "application/vnd.jupyter.widget-view+json": {
              "model_id": "a3712afc14cd43f69eaea227ae25cc50",
              "version_minor": 0,
              "version_major": 2
            },
            "text/plain": [
              "HBox(children=(FloatProgress(value=0.0, description='EPOCHS 0014', max=668.0, style=ProgressStyle(description_…"
            ]
          },
          "metadata": {
            "tags": []
          }
        },
        {
          "output_type": "stream",
          "text": [
            "\n",
            "Loss: 0.08712664991617203, Accuracy: 97.09019470214844, Test Loss: 0.5232535004615784, Test Accuracy: 84.16416931152344\n",
            "Epoch : 15\n"
          ],
          "name": "stdout"
        },
        {
          "output_type": "display_data",
          "data": {
            "application/vnd.jupyter.widget-view+json": {
              "model_id": "6044fc66387241089d527d0a7742b469",
              "version_minor": 0,
              "version_major": 2
            },
            "text/plain": [
              "HBox(children=(FloatProgress(value=0.0, description='EPOCHS 0015', max=668.0, style=ProgressStyle(description_…"
            ]
          },
          "metadata": {
            "tags": []
          }
        },
        {
          "output_type": "stream",
          "text": [
            "\n",
            "Loss: 0.08037380874156952, Accuracy: 97.27549743652344, Test Loss: 0.5567829608917236, Test Accuracy: 83.95957946777344\n"
          ],
          "name": "stdout"
        }
      ]
    },
    {
      "cell_type": "markdown",
      "metadata": {
        "id": "WmnweFUlEpRt"
      },
      "source": [
        "### **6. Ploting**"
      ]
    },
    {
      "cell_type": "code",
      "metadata": {
        "colab": {
          "base_uri": "https://localhost:8080/",
          "height": 299
        },
        "id": "pvnWJbyxEm06",
        "outputId": "917cf736-d4fb-41cc-e586-7fef3a7847ac"
      },
      "source": [
        "# Plot loss per iteration\n",
        "plt.plot(Train_LOSS, label='loss')\n",
        "plt.plot(Test_LOSS, label='val_loss')\n",
        "plt.title('Plot loss per iteration')\n",
        "plt.legend()"
      ],
      "execution_count": 55,
      "outputs": [
        {
          "output_type": "execute_result",
          "data": {
            "text/plain": [
              "<matplotlib.legend.Legend at 0x7f04b5eb05d0>"
            ]
          },
          "metadata": {
            "tags": []
          },
          "execution_count": 55
        },
        {
          "output_type": "display_data",
          "data": {
            "image/png": "[encoded data removed]",
            "text/plain": [
              "<Figure size 432x288 with 1 Axes>"
            ]
          },
          "metadata": {
            "tags": [],
            "needs_background": "light"
          }
        }
      ]
    },
    {
      "cell_type": "code",
      "metadata": {
        "colab": {
          "base_uri": "https://localhost:8080/",
          "height": 299
        },
        "id": "fFAo7nIkEx09",
        "outputId": "6087ecb1-a227-4c6c-c5ab-e0b4e0d01679"
      },
      "source": [
        "# Plot Accuracy per iteration\n",
        "plt.plot(TRain_Accuracy, label='loss')\n",
        "plt.plot(Test_Accuracy, label='val_loss')\n",
        "plt.title('Plot Accuracy per iteration')\n",
        "plt.legend()"
      ],
      "execution_count": 56,
      "outputs": [
        {
          "output_type": "execute_result",
          "data": {
            "text/plain": [
              "<matplotlib.legend.Legend at 0x7f04b4548ad0>"
            ]
          },
          "metadata": {
            "tags": []
          },
          "execution_count": 56
        },
        {
          "output_type": "display_data",
          "data": {
            "image/png": "[encoded data removed]",
            "text/plain": [
              "<Figure size 432x288 with 1 Axes>"
            ]
          },
          "metadata": {
            "tags": [],
            "needs_background": "light"
          }
        }
      ]
    },
    {
      "cell_type": "markdown",
      "metadata": {
        "id": "EK1_WEvwp82N"
      },
      "source": [
        "## **7. Validating**"
      ]
    },
    {
      "cell_type": "code",
      "metadata": {
        "id": "hsXzXwwHp8qP"
      },
      "source": [
        "new_sentence = ['''Wisconsin Woman Takes Husband to Police for \"Talking Stupidly\"''',\n",
        "                'Warehouse Worker Packing Stress Balls Punched His Boss in Face', \n",
        "                'Organisers of secret Paris dinner parties say ministers did not attend']"
      ],
      "execution_count": 57,
      "outputs": []
    },
    {
      "cell_type": "code",
      "metadata": {
        "id": "EnT1gHcTp8Pv"
      },
      "source": [
        "new_sentence = tokenizer.texts_to_sequences(new_sentence)\n",
        "new_sentence = pad_sequences(new_sentence, maxlen=100, padding='post', truncating='post')"
      ],
      "execution_count": 58,
      "outputs": []
    },
    {
      "cell_type": "code",
      "metadata": {
        "colab": {
          "base_uri": "https://localhost:8080/"
        },
        "id": "ooL_SqiAcMWE",
        "outputId": "d5380d05-80c1-48fa-dba0-98708a4c06b8"
      },
      "source": [
        "prediction = model(new_sentence)\n",
        "print(prediction)"
      ],
      "execution_count": 59,
      "outputs": [
        {
          "output_type": "stream",
          "text": [
            "tf.Tensor(\n",
            "[[0.9570823 ]\n",
            " [0.9504098 ]\n",
            " [0.03828943]], shape=(3, 1), dtype=float32)\n"
          ],
          "name": "stdout"
        }
      ]
    },
    {
      "cell_type": "code",
      "metadata": {
        "id": "94ppg7gccVhe"
      },
      "source": [
        ""
      ],
      "execution_count": null,
      "outputs": []
    }
  ]
}