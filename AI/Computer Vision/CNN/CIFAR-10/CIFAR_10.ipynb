{
  "nbformat": 4,
  "nbformat_minor": 0,
  "metadata": {
    "colab": {
      "name": "CIFAR_10.ipynb",
      "provenance": [],
      "collapsed_sections": []
    },
    "kernelspec": {
      "name": "python3",
      "display_name": "Python 3"
    },
    "accelerator": "GPU"
  },
  "cells": [
    {
      "cell_type": "markdown",
      "metadata": {
        "id": "zccG6NFayPEN",
        "colab_type": "text"
      },
      "source": [
        "## **1. Importing Libraries**"
      ]
    },
    {
      "cell_type": "code",
      "metadata": {
        "id": "LJS0A9V_rvB-",
        "colab_type": "code",
        "colab": {
          "base_uri": "https://localhost:8080/",
          "height": 74
        },
        "outputId": "54ca2272-c7b3-45d6-f0b6-f2dbae1d9c7a"
      },
      "source": [
        "import tensorflow as tf\n",
        "import pandas as pd\n",
        "import numpy as np\n",
        "from tensorflow.keras.models import Model, load_model\n",
        "from tensorflow.keras.layers import Input, Conv2D, Dense, Flatten, BatchNormalization, Dropout, MaxPooling2D, GlobalMaxPooling2D\n",
        "from tensorflow.keras.callbacks import ModelCheckpoint, EarlyStopping\n",
        "from tensorflow.keras.preprocessing.image import ImageDataGenerator\n",
        "from tensorflow.keras.datasets import cifar10\n",
        "from sklearn.model_selection import train_test_split\n",
        "from sklearn.metrics import confusion_matrix\n",
        "import itertools\n",
        "import matplotlib.pyplot as plt\n",
        "import seaborn as sbn\n",
        "%matplotlib inline"
      ],
      "execution_count": 1,
      "outputs": [
        {
          "output_type": "stream",
          "text": [
            "/usr/local/lib/python3.6/dist-packages/statsmodels/tools/_testing.py:19: FutureWarning: pandas.util.testing is deprecated. Use the functions in the public API at pandas.testing instead.\n",
            "  import pandas.util.testing as tm\n"
          ],
          "name": "stderr"
        }
      ]
    },
    {
      "cell_type": "markdown",
      "metadata": {
        "id": "XbHi1wJjyN92",
        "colab_type": "text"
      },
      "source": [
        "## **2. Loading and Processing Data**"
      ]
    },
    {
      "cell_type": "code",
      "metadata": {
        "id": "CNf4QmONydfz",
        "colab_type": "code",
        "colab": {
          "base_uri": "https://localhost:8080/",
          "height": 72
        },
        "outputId": "d65b83f9-368f-4c58-963b-dd7c2b93fc13"
      },
      "source": [
        "(x_train, y_train), (x_test, y_test) = cifar10.load_data()\n",
        "x_train, x_test = x_train / 255.0, x_test / 255.0\n",
        "y_train, y_test = y_train.flatten(), y_test.flatten()\n",
        "x_train.shape, x_test.shape"
      ],
      "execution_count": 2,
      "outputs": [
        {
          "output_type": "stream",
          "text": [
            "Downloading data from https://www.cs.toronto.edu/~kriz/cifar-10-python.tar.gz\n",
            "170500096/170498071 [==============================] - 11s 0us/step\n"
          ],
          "name": "stdout"
        },
        {
          "output_type": "execute_result",
          "data": {
            "text/plain": [
              "((50000, 32, 32, 3), (10000, 32, 32, 3))"
            ]
          },
          "metadata": {
            "tags": []
          },
          "execution_count": 2
        }
      ]
    },
    {
      "cell_type": "code",
      "metadata": {
        "id": "H4tn-XQfyd1l",
        "colab_type": "code",
        "colab": {
          "base_uri": "https://localhost:8080/",
          "height": 302
        },
        "outputId": "24836103-7081-4c1e-8417-b73708b5025f"
      },
      "source": [
        "\n",
        "K = len(set(y_train))      ###### Number Of Labels\n",
        "print(K)\n",
        "sbn.countplot(y_train)\n",
        " "
      ],
      "execution_count": 3,
      "outputs": [
        {
          "output_type": "stream",
          "text": [
            "10\n"
          ],
          "name": "stdout"
        },
        {
          "output_type": "execute_result",
          "data": {
            "text/plain": [
              "<matplotlib.axes._subplots.AxesSubplot at 0x7f9170b18e10>"
            ]
          },
          "metadata": {
            "tags": []
          },
          "execution_count": 3
        },
        {
          "output_type": "display_data",
          "data": {
            "image/png": "[encoded data removed]",
            "text/plain": [
              "<Figure size 432x288 with 1 Axes>"
            ]
          },
          "metadata": {
            "tags": [],
            "needs_background": "light"
          }
        }
      ]
    },
    {
      "cell_type": "code",
      "metadata": {
        "id": "mXDuYf7qyd9n",
        "colab_type": "code",
        "colab": {}
      },
      "source": [
        "# Spliting X_train Set into training set and validation test\n",
        "x_train, val_x, y_train, val_y = train_test_split(x_train, y_train, test_size=0.20)"
      ],
      "execution_count": 4,
      "outputs": []
    },
    {
      "cell_type": "markdown",
      "metadata": {
        "id": "uJdqg8D5yeFR",
        "colab_type": "text"
      },
      "source": [
        "## **3. Some Variables and Traps**"
      ]
    },
    {
      "cell_type": "code",
      "metadata": {
        "id": "MpzD8nc-yeSm",
        "colab_type": "code",
        "colab": {}
      },
      "source": [
        "es = EarlyStopping(monitor='loss', patience=12)\n",
        "filepath=\"/content/drive/My Drive/Colab Notebooks/Model/bestmodel.h5\"\n",
        "md = ModelCheckpoint(filepath, monitor='loss', verbose=1, save_best_only=True, mode='min')"
      ],
      "execution_count": 5,
      "outputs": []
    },
    {
      "cell_type": "code",
      "metadata": {
        "id": "fOB4S8IYkZ8I",
        "colab_type": "code",
        "colab": {}
      },
      "source": [
        "# defininig ImageDataGeneratore to increase data\n",
        "datagen = ImageDataGenerator(zoom_range = 0.1,\n",
        "                            height_shift_range = 0.1,\n",
        "                            width_shift_range = 0.1,\n",
        "                            rotation_range = 10)"
      ],
      "execution_count": 6,
      "outputs": []
    },
    {
      "cell_type": "code",
      "metadata": {
        "id": "fpWmAuaE3Ub3",
        "colab_type": "code",
        "colab": {}
      },
      "source": [
        "# Important Variables\n",
        "epochs = 50\n",
        "batch_size = 32\n",
        "input_shape = (32, 32, 3)\n",
        "adam = tf.keras.optimizers.Adam(0.001)"
      ],
      "execution_count": 7,
      "outputs": []
    },
    {
      "cell_type": "markdown",
      "metadata": {
        "id": "m_k0YwmmyeZU",
        "colab_type": "text"
      },
      "source": [
        "## **4. Building Model with Basic Functional API**"
      ]
    },
    {
      "cell_type": "code",
      "metadata": {
        "id": "vQUGToSJyefH",
        "colab_type": "code",
        "colab": {
          "base_uri": "https://localhost:8080/",
          "height": 1000
        },
        "outputId": "fbc07ae2-3f3d-4608-858e-5732778b8ed9"
      },
      "source": [
        "\n",
        "\n",
        "i = Input(shape=input_shape)\n",
        "x = Conv2D(32, (3, 3), activation='relu', padding='same')(i)\n",
        "x = BatchNormalization()(x)\n",
        "x = Conv2D(32, (3, 3), activation='relu', padding='same')(x)\n",
        "x = BatchNormalization()(x)\n",
        "x = MaxPooling2D((2, 2))(x)\n",
        "x = Conv2D(64, (3, 3), activation='relu', padding='same')(x)\n",
        "x = BatchNormalization()(x)\n",
        "x = Conv2D(64, (3, 3), activation='relu', padding='same')(x)\n",
        "x = BatchNormalization()(x)\n",
        "x = MaxPooling2D((2, 2))(x)\n",
        "x = Conv2D(128, (3, 3), activation='relu', padding='same')(x)\n",
        "x = BatchNormalization()(x)\n",
        "x = Conv2D(128, (3, 3), activation='relu', padding='same')(x)\n",
        "x = BatchNormalization()(x)\n",
        "x = MaxPooling2D((2, 2))(x)\n",
        "\n",
        "# x = GlobalMaxPooling2D()(x)\n",
        "x = Flatten()(x)\n",
        "x = Dropout(0.3)(x)\n",
        "x = Dense(1024, activation='relu')(x)\n",
        "x = Dropout(0.3)(x)\n",
        "x = Dense(399, activation='relu')(x)\n",
        "x = Dropout(0.3)(x)\n",
        "#x = Dense(64, activation='relu')(x)\n",
        "#x = Dropout(0.3)(x)\n",
        "x = Dense(K, activation='softmax')(x)\n",
        "\n",
        "model = Model(i, x)\n",
        "model.summary()\n"
      ],
      "execution_count": 29,
      "outputs": [
        {
          "output_type": "stream",
          "text": [
            "Model: \"functional_7\"\n",
            "_________________________________________________________________\n",
            "Layer (type)                 Output Shape              Param #   \n",
            "=================================================================\n",
            "input_4 (InputLayer)         [(None, 32, 32, 3)]       0         \n",
            "_________________________________________________________________\n",
            "conv2d_18 (Conv2D)           (None, 32, 32, 32)        896       \n",
            "_________________________________________________________________\n",
            "batch_normalization_18 (Batc (None, 32, 32, 32)        128       \n",
            "_________________________________________________________________\n",
            "conv2d_19 (Conv2D)           (None, 32, 32, 32)        9248      \n",
            "_________________________________________________________________\n",
            "batch_normalization_19 (Batc (None, 32, 32, 32)        128       \n",
            "_________________________________________________________________\n",
            "max_pooling2d_9 (MaxPooling2 (None, 16, 16, 32)        0         \n",
            "_________________________________________________________________\n",
            "conv2d_20 (Conv2D)           (None, 16, 16, 64)        18496     \n",
            "_________________________________________________________________\n",
            "batch_normalization_20 (Batc (None, 16, 16, 64)        256       \n",
            "_________________________________________________________________\n",
            "conv2d_21 (Conv2D)           (None, 16, 16, 64)        36928     \n",
            "_________________________________________________________________\n",
            "batch_normalization_21 (Batc (None, 16, 16, 64)        256       \n",
            "_________________________________________________________________\n",
            "max_pooling2d_10 (MaxPooling (None, 8, 8, 64)          0         \n",
            "_________________________________________________________________\n",
            "conv2d_22 (Conv2D)           (None, 8, 8, 128)         73856     \n",
            "_________________________________________________________________\n",
            "batch_normalization_22 (Batc (None, 8, 8, 128)         512       \n",
            "_________________________________________________________________\n",
            "conv2d_23 (Conv2D)           (None, 8, 8, 128)         147584    \n",
            "_________________________________________________________________\n",
            "batch_normalization_23 (Batc (None, 8, 8, 128)         512       \n",
            "_________________________________________________________________\n",
            "max_pooling2d_11 (MaxPooling (None, 4, 4, 128)         0         \n",
            "_________________________________________________________________\n",
            "flatten_3 (Flatten)          (None, 2048)              0         \n",
            "_________________________________________________________________\n",
            "dropout_9 (Dropout)          (None, 2048)              0         \n",
            "_________________________________________________________________\n",
            "dense_9 (Dense)              (None, 1024)              2098176   \n",
            "_________________________________________________________________\n",
            "dropout_10 (Dropout)         (None, 1024)              0         \n",
            "_________________________________________________________________\n",
            "dense_10 (Dense)             (None, 399)               408975    \n",
            "_________________________________________________________________\n",
            "dropout_11 (Dropout)         (None, 399)               0         \n",
            "_________________________________________________________________\n",
            "dense_11 (Dense)             (None, 10)                4000      \n",
            "=================================================================\n",
            "Total params: 2,799,951\n",
            "Trainable params: 2,799,055\n",
            "Non-trainable params: 896\n",
            "_________________________________________________________________\n"
          ],
          "name": "stdout"
        }
      ]
    },
    {
      "cell_type": "code",
      "metadata": {
        "id": "KnJCj9v7yeli",
        "colab_type": "code",
        "colab": {}
      },
      "source": [
        "# Compiling Model\n",
        "model.compile(optimizer=adam,\n",
        "              loss='sparse_categorical_crossentropy',\n",
        "              metrics=['accuracy'])"
      ],
      "execution_count": 30,
      "outputs": []
    },
    {
      "cell_type": "code",
      "metadata": {
        "id": "hJ5aIsQHyerk",
        "colab_type": "code",
        "colab": {
          "base_uri": "https://localhost:8080/",
          "height": 1000
        },
        "outputId": "8de552fb-a3d3-4299-8701-91e327dd1957"
      },
      "source": [
        "# Fit Model\n",
        "History = model.fit(datagen.flow(x_train, y_train, batch_size=batch_size),\n",
        "          epochs = epochs,\n",
        "          validation_data = (val_x, val_y), #datagen.flow(val_x, val_y),\n",
        "          #callbacks = [es,md],\n",
        "          shuffle= True\n",
        "        )"
      ],
      "execution_count": 31,
      "outputs": [
        {
          "output_type": "stream",
          "text": [
            "Epoch 1/50\n",
            "1250/1250 [==============================] - 21s 17ms/step - loss: 1.9103 - accuracy: 0.3067 - val_loss: 1.5312 - val_accuracy: 0.4498\n",
            "Epoch 2/50\n",
            "1250/1250 [==============================] - 21s 17ms/step - loss: 1.4675 - accuracy: 0.4709 - val_loss: 1.2077 - val_accuracy: 0.5639\n",
            "Epoch 3/50\n",
            "1250/1250 [==============================] - 21s 17ms/step - loss: 1.2508 - accuracy: 0.5574 - val_loss: 1.1276 - val_accuracy: 0.6127\n",
            "Epoch 4/50\n",
            "1250/1250 [==============================] - 21s 17ms/step - loss: 1.0838 - accuracy: 0.6240 - val_loss: 0.9331 - val_accuracy: 0.6747\n",
            "Epoch 5/50\n",
            "1250/1250 [==============================] - 22s 17ms/step - loss: 0.9841 - accuracy: 0.6663 - val_loss: 1.1647 - val_accuracy: 0.6166\n",
            "Epoch 6/50\n",
            "1250/1250 [==============================] - 21s 17ms/step - loss: 0.8935 - accuracy: 0.6986 - val_loss: 0.8323 - val_accuracy: 0.7153\n",
            "Epoch 7/50\n",
            "1250/1250 [==============================] - 21s 17ms/step - loss: 0.8250 - accuracy: 0.7197 - val_loss: 0.8721 - val_accuracy: 0.7108\n",
            "Epoch 8/50\n",
            "1250/1250 [==============================] - 21s 17ms/step - loss: 0.7703 - accuracy: 0.7404 - val_loss: 0.7095 - val_accuracy: 0.7599\n",
            "Epoch 9/50\n",
            "1250/1250 [==============================] - 21s 17ms/step - loss: 0.7292 - accuracy: 0.7562 - val_loss: 0.6636 - val_accuracy: 0.7746\n",
            "Epoch 10/50\n",
            "1250/1250 [==============================] - 21s 16ms/step - loss: 0.6960 - accuracy: 0.7666 - val_loss: 0.6424 - val_accuracy: 0.7857\n",
            "Epoch 11/50\n",
            "1250/1250 [==============================] - 21s 17ms/step - loss: 0.6591 - accuracy: 0.7782 - val_loss: 0.6590 - val_accuracy: 0.7875\n",
            "Epoch 12/50\n",
            "1250/1250 [==============================] - 21s 17ms/step - loss: 0.6276 - accuracy: 0.7889 - val_loss: 0.6446 - val_accuracy: 0.7869\n",
            "Epoch 13/50\n",
            "1250/1250 [==============================] - 21s 17ms/step - loss: 0.5964 - accuracy: 0.7984 - val_loss: 0.6108 - val_accuracy: 0.7987\n",
            "Epoch 14/50\n",
            "1250/1250 [==============================] - 21s 17ms/step - loss: 0.5709 - accuracy: 0.8065 - val_loss: 0.5274 - val_accuracy: 0.8266\n",
            "Epoch 15/50\n",
            "1250/1250 [==============================] - 21s 17ms/step - loss: 0.5437 - accuracy: 0.8166 - val_loss: 0.5556 - val_accuracy: 0.8192\n",
            "Epoch 16/50\n",
            "1250/1250 [==============================] - 22s 18ms/step - loss: 0.5299 - accuracy: 0.8213 - val_loss: 0.5566 - val_accuracy: 0.8171\n",
            "Epoch 17/50\n",
            "1250/1250 [==============================] - 22s 18ms/step - loss: 0.5041 - accuracy: 0.8281 - val_loss: 0.5647 - val_accuracy: 0.8142\n",
            "Epoch 18/50\n",
            "1250/1250 [==============================] - 21s 17ms/step - loss: 0.4943 - accuracy: 0.8328 - val_loss: 0.5336 - val_accuracy: 0.8245\n",
            "Epoch 19/50\n",
            "1250/1250 [==============================] - 21s 17ms/step - loss: 0.4779 - accuracy: 0.8395 - val_loss: 0.5610 - val_accuracy: 0.8151\n",
            "Epoch 20/50\n",
            "1250/1250 [==============================] - 21s 17ms/step - loss: 0.4649 - accuracy: 0.8424 - val_loss: 0.5428 - val_accuracy: 0.8220\n",
            "Epoch 21/50\n",
            "1250/1250 [==============================] - 21s 17ms/step - loss: 0.4568 - accuracy: 0.8459 - val_loss: 0.5291 - val_accuracy: 0.8263\n",
            "Epoch 22/50\n",
            "1250/1250 [==============================] - 21s 17ms/step - loss: 0.4311 - accuracy: 0.8507 - val_loss: 0.5686 - val_accuracy: 0.8157\n",
            "Epoch 23/50\n",
            "1250/1250 [==============================] - 21s 17ms/step - loss: 0.4284 - accuracy: 0.8547 - val_loss: 0.5143 - val_accuracy: 0.8316\n",
            "Epoch 24/50\n",
            "1250/1250 [==============================] - 21s 17ms/step - loss: 0.4142 - accuracy: 0.8600 - val_loss: 0.5977 - val_accuracy: 0.8184\n",
            "Epoch 25/50\n",
            "1250/1250 [==============================] - 21s 17ms/step - loss: 0.4109 - accuracy: 0.8617 - val_loss: 0.5448 - val_accuracy: 0.8260\n",
            "Epoch 26/50\n",
            "1250/1250 [==============================] - 21s 17ms/step - loss: 0.3974 - accuracy: 0.8629 - val_loss: 0.5058 - val_accuracy: 0.8405\n",
            "Epoch 27/50\n",
            "1250/1250 [==============================] - 21s 17ms/step - loss: 0.3912 - accuracy: 0.8670 - val_loss: 0.5119 - val_accuracy: 0.8316\n",
            "Epoch 28/50\n",
            "1250/1250 [==============================] - 21s 17ms/step - loss: 0.3860 - accuracy: 0.8695 - val_loss: 0.5163 - val_accuracy: 0.8340\n",
            "Epoch 29/50\n",
            "1250/1250 [==============================] - 21s 17ms/step - loss: 0.3729 - accuracy: 0.8733 - val_loss: 0.5310 - val_accuracy: 0.8369\n",
            "Epoch 30/50\n",
            "1250/1250 [==============================] - 22s 17ms/step - loss: 0.3682 - accuracy: 0.8747 - val_loss: 0.4516 - val_accuracy: 0.8569\n",
            "Epoch 31/50\n",
            "1250/1250 [==============================] - 22s 17ms/step - loss: 0.3620 - accuracy: 0.8790 - val_loss: 0.5057 - val_accuracy: 0.8392\n",
            "Epoch 32/50\n",
            "1250/1250 [==============================] - 21s 17ms/step - loss: 0.3563 - accuracy: 0.8808 - val_loss: 0.5150 - val_accuracy: 0.8344\n",
            "Epoch 33/50\n",
            "1250/1250 [==============================] - 21s 17ms/step - loss: 0.3522 - accuracy: 0.8813 - val_loss: 0.4416 - val_accuracy: 0.8533\n",
            "Epoch 34/50\n",
            "1250/1250 [==============================] - 21s 17ms/step - loss: 0.3417 - accuracy: 0.8832 - val_loss: 0.4785 - val_accuracy: 0.8510\n",
            "Epoch 35/50\n",
            "1250/1250 [==============================] - 21s 17ms/step - loss: 0.3330 - accuracy: 0.8858 - val_loss: 0.4560 - val_accuracy: 0.8542\n",
            "Epoch 36/50\n",
            "1250/1250 [==============================] - 21s 17ms/step - loss: 0.3264 - accuracy: 0.8923 - val_loss: 0.4799 - val_accuracy: 0.8472\n",
            "Epoch 37/50\n",
            "1250/1250 [==============================] - 21s 17ms/step - loss: 0.3265 - accuracy: 0.8904 - val_loss: 0.5030 - val_accuracy: 0.8406\n",
            "Epoch 38/50\n",
            "1250/1250 [==============================] - 21s 17ms/step - loss: 0.3107 - accuracy: 0.8948 - val_loss: 0.4582 - val_accuracy: 0.8525\n",
            "Epoch 39/50\n",
            "1250/1250 [==============================] - 22s 17ms/step - loss: 0.3142 - accuracy: 0.8947 - val_loss: 0.5129 - val_accuracy: 0.8484\n",
            "Epoch 40/50\n",
            "1250/1250 [==============================] - 21s 17ms/step - loss: 0.3083 - accuracy: 0.8969 - val_loss: 0.4835 - val_accuracy: 0.8503\n",
            "Epoch 41/50\n",
            "1250/1250 [==============================] - 21s 17ms/step - loss: 0.3041 - accuracy: 0.8955 - val_loss: 0.5189 - val_accuracy: 0.8450\n",
            "Epoch 42/50\n",
            "1250/1250 [==============================] - 21s 17ms/step - loss: 0.3022 - accuracy: 0.8964 - val_loss: 0.4627 - val_accuracy: 0.8581\n",
            "Epoch 43/50\n",
            "1250/1250 [==============================] - 21s 17ms/step - loss: 0.2924 - accuracy: 0.9010 - val_loss: 0.4439 - val_accuracy: 0.8583\n",
            "Epoch 44/50\n",
            "1250/1250 [==============================] - 21s 17ms/step - loss: 0.2953 - accuracy: 0.8985 - val_loss: 0.4750 - val_accuracy: 0.8600\n",
            "Epoch 45/50\n",
            "1250/1250 [==============================] - 21s 17ms/step - loss: 0.2927 - accuracy: 0.9017 - val_loss: 0.5838 - val_accuracy: 0.8372\n",
            "Epoch 46/50\n",
            "1250/1250 [==============================] - 21s 17ms/step - loss: 0.2936 - accuracy: 0.9005 - val_loss: 0.4638 - val_accuracy: 0.8561\n",
            "Epoch 47/50\n",
            "1250/1250 [==============================] - 21s 17ms/step - loss: 0.2856 - accuracy: 0.9036 - val_loss: 0.4902 - val_accuracy: 0.8482\n",
            "Epoch 48/50\n",
            "1250/1250 [==============================] - 21s 17ms/step - loss: 0.2841 - accuracy: 0.9034 - val_loss: 0.5322 - val_accuracy: 0.8452\n",
            "Epoch 49/50\n",
            "1250/1250 [==============================] - 21s 17ms/step - loss: 0.2800 - accuracy: 0.9069 - val_loss: 0.4755 - val_accuracy: 0.8539\n",
            "Epoch 50/50\n",
            "1250/1250 [==============================] - 21s 17ms/step - loss: 0.2765 - accuracy: 0.9075 - val_loss: 0.4796 - val_accuracy: 0.8564\n"
          ],
          "name": "stdout"
        }
      ]
    },
    {
      "cell_type": "code",
      "metadata": {
        "id": "5XVxLOobyeyI",
        "colab_type": "code",
        "colab": {
          "base_uri": "https://localhost:8080/",
          "height": 283
        },
        "outputId": "8cfa59c1-fd6f-4ecc-ec66-f4360e48f3cf"
      },
      "source": [
        "# Plot loss per iteration\n",
        "import matplotlib.pyplot as plt\n",
        "plt.plot(History.history['loss'], label='loss')\n",
        "plt.plot(History.history['val_loss'], label='val_loss')\n",
        "plt.legend()"
      ],
      "execution_count": 32,
      "outputs": [
        {
          "output_type": "execute_result",
          "data": {
            "text/plain": [
              "<matplotlib.legend.Legend at 0x7f90d4cc8320>"
            ]
          },
          "metadata": {
            "tags": []
          },
          "execution_count": 32
        },
        {
          "output_type": "display_data",
          "data": {
            "image/png": "[encoded data removed]",
            "text/plain": [
              "<Figure size 432x288 with 1 Axes>"
            ]
          },
          "metadata": {
            "tags": [],
            "needs_background": "light"
          }
        }
      ]
    },
    {
      "cell_type": "code",
      "metadata": {
        "id": "6Zk21Jq4ye3o",
        "colab_type": "code",
        "colab": {
          "base_uri": "https://localhost:8080/",
          "height": 283
        },
        "outputId": "edd4c33b-3d3d-4150-dd9e-481888ba9f02"
      },
      "source": [
        "# Plot accuracy per iteration\n",
        "plt.plot(History.history['accuracy'], label='acc')\n",
        "plt.plot(History.history['val_accuracy'], label='val_acc')\n",
        "plt.legend()"
      ],
      "execution_count": 33,
      "outputs": [
        {
          "output_type": "execute_result",
          "data": {
            "text/plain": [
              "<matplotlib.legend.Legend at 0x7f90d7a8e048>"
            ]
          },
          "metadata": {
            "tags": []
          },
          "execution_count": 33
        },
        {
          "output_type": "display_data",
          "data": {
            "image/png": "[encoded data removed]",
            "text/plain": [
              "<Figure size 432x288 with 1 Axes>"
            ]
          },
          "metadata": {
            "tags": [],
            "needs_background": "light"
          }
        }
      ]
    },
    {
      "cell_type": "markdown",
      "metadata": {
        "id": "XFhVK_KEye9r",
        "colab_type": "text"
      },
      "source": [
        "## **5. Loading Model and Making Prediction**"
      ]
    },
    {
      "cell_type": "code",
      "metadata": {
        "id": "iPkvo7WCyfDS",
        "colab_type": "code",
        "colab": {
          "base_uri": "https://localhost:8080/",
          "height": 935
        },
        "outputId": "766348dc-abfa-4be7-c493-2b1f985f916f"
      },
      "source": [
        "model1 = load_model(filepath)\n",
        "model1.summary()"
      ],
      "execution_count": 34,
      "outputs": [
        {
          "output_type": "stream",
          "text": [
            "Model: \"functional_1\"\n",
            "_________________________________________________________________\n",
            "Layer (type)                 Output Shape              Param #   \n",
            "=================================================================\n",
            "input_1 (InputLayer)         [(None, 32, 32, 3)]       0         \n",
            "_________________________________________________________________\n",
            "conv2d (Conv2D)              (None, 32, 32, 32)        896       \n",
            "_________________________________________________________________\n",
            "batch_normalization (BatchNo (None, 32, 32, 32)        128       \n",
            "_________________________________________________________________\n",
            "conv2d_1 (Conv2D)            (None, 32, 32, 32)        9248      \n",
            "_________________________________________________________________\n",
            "batch_normalization_1 (Batch (None, 32, 32, 32)        128       \n",
            "_________________________________________________________________\n",
            "max_pooling2d (MaxPooling2D) (None, 16, 16, 32)        0         \n",
            "_________________________________________________________________\n",
            "conv2d_2 (Conv2D)            (None, 16, 16, 64)        18496     \n",
            "_________________________________________________________________\n",
            "batch_normalization_2 (Batch (None, 16, 16, 64)        256       \n",
            "_________________________________________________________________\n",
            "conv2d_3 (Conv2D)            (None, 16, 16, 64)        36928     \n",
            "_________________________________________________________________\n",
            "batch_normalization_3 (Batch (None, 16, 16, 64)        256       \n",
            "_________________________________________________________________\n",
            "max_pooling2d_1 (MaxPooling2 (None, 8, 8, 64)          0         \n",
            "_________________________________________________________________\n",
            "conv2d_4 (Conv2D)            (None, 8, 8, 128)         73856     \n",
            "_________________________________________________________________\n",
            "batch_normalization_4 (Batch (None, 8, 8, 128)         512       \n",
            "_________________________________________________________________\n",
            "conv2d_5 (Conv2D)            (None, 8, 8, 128)         147584    \n",
            "_________________________________________________________________\n",
            "batch_normalization_5 (Batch (None, 8, 8, 128)         512       \n",
            "_________________________________________________________________\n",
            "max_pooling2d_2 (MaxPooling2 (None, 4, 4, 128)         0         \n",
            "_________________________________________________________________\n",
            "flatten (Flatten)            (None, 2048)              0         \n",
            "_________________________________________________________________\n",
            "dropout (Dropout)            (None, 2048)              0         \n",
            "_________________________________________________________________\n",
            "dense (Dense)                (None, 1024)              2098176   \n",
            "_________________________________________________________________\n",
            "dropout_1 (Dropout)          (None, 1024)              0         \n",
            "_________________________________________________________________\n",
            "dense_1 (Dense)              (None, 10)                10250     \n",
            "=================================================================\n",
            "Total params: 2,397,226\n",
            "Trainable params: 2,396,330\n",
            "Non-trainable params: 896\n",
            "_________________________________________________________________\n"
          ],
          "name": "stdout"
        }
      ]
    },
    {
      "cell_type": "code",
      "metadata": {
        "id": "4cTuusfIcZ8F",
        "colab_type": "code",
        "colab": {
          "base_uri": "https://localhost:8080/",
          "height": 495
        },
        "outputId": "16a751b6-06a8-4e87-b7fd-d54a711056a0"
      },
      "source": [
        "def plot_confusion_matrix(cm, classes,\n",
        "                          title='Confusion matrix',\n",
        "                          cmap=plt.cm.Blues):\n",
        "  print(cm)\n",
        "\n",
        "  plt.imshow(cm, interpolation='nearest', cmap=cmap)\n",
        "  plt.title(title)\n",
        "  plt.colorbar()\n",
        "  tick_marks = np.arange(len(classes))\n",
        "  plt.xticks(tick_marks, classes, rotation=45)\n",
        "  plt.yticks(tick_marks, classes)\n",
        "\n",
        "  fmt = 'd'\n",
        "  thresh = cm.max() / 2.\n",
        "  for i, j in itertools.product(range(cm.shape[0]), range(cm.shape[1])):\n",
        "      plt.text(j, i, format(cm[i, j], fmt),\n",
        "               horizontalalignment=\"center\",\n",
        "               color=\"white\" if cm[i, j] > thresh else \"black\")\n",
        "\n",
        "  plt.tight_layout()\n",
        "  plt.ylabel('True label')\n",
        "  plt.xlabel('Predicted label')\n",
        "  plt.show()\n",
        "\n",
        "\n",
        "p_test = model1.predict(x_test).argmax(axis=1)\n",
        "cm = confusion_matrix(y_test, p_test)\n",
        "plot_confusion_matrix(cm, list(range(10)))"
      ],
      "execution_count": 35,
      "outputs": [
        {
          "output_type": "stream",
          "text": [
            "[[885  13  26   5   5   4   9   6  38   9]\n",
            " [ 13 940   0   0   0   1   2   1   8  35]\n",
            " [ 54   1 691  23  39  43 105  21  12  11]\n",
            " [ 37  11  42 542  33 114 148  32  22  19]\n",
            " [ 18   3  41  20 733  26  99  47   7   6]\n",
            " [  8   4  16  66  24 750  67  49   8   8]\n",
            " [  5   0   9   7   5   1 964   3   5   1]\n",
            " [ 12   0  14  10  16  31  23 884   4   6]\n",
            " [ 55  13   4   1   1   0   4   3 901  18]\n",
            " [ 31  55   1   2   1   0   3   3  11 893]]\n"
          ],
          "name": "stdout"
        },
        {
          "output_type": "display_data",
          "data": {
            "image/png": "[encoded data removed]",
            "text/plain": [
              "<Figure size 432x288 with 2 Axes>"
            ]
          },
          "metadata": {
            "tags": [],
            "needs_background": "light"
          }
        }
      ]
    },
    {
      "cell_type": "code",
      "metadata": {
        "id": "5hXeEMKatBbL",
        "colab_type": "code",
        "colab": {}
      },
      "source": [
        ""
      ],
      "execution_count": 35,
      "outputs": []
    }
  ]
}