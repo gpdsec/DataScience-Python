{
  "nbformat": 4,
  "nbformat_minor": 0,
  "metadata": {
    "colab": {
      "name": "CIFAR_10.ipynb",
      "provenance": [],
      "collapsed_sections": []
    },
    "kernelspec": {
      "name": "python3",
      "display_name": "Python 3"
    },
    "accelerator": "GPU"
  },
  "cells": [
    {
      "cell_type": "markdown",
      "metadata": {
        "id": "zccG6NFayPEN",
        "colab_type": "text"
      },
      "source": [
        "## **1. Importing Libraries**"
      ]
    },
    {
      "cell_type": "code",
      "metadata": {
        "id": "LJS0A9V_rvB-",
        "colab_type": "code",
        "colab": {
          "base_uri": "https://localhost:8080/",
          "height": 74
        },
        "outputId": "57289bb0-c600-438c-9afa-29514b63ecdd"
      },
      "source": [
        "import tensorflow as tf\n",
        "import pandas as pd\n",
        "import numpy as np\n",
        "from tensorflow.keras.models import Model, load_model\n",
        "from tensorflow.keras.layers import Input, Conv2D, Dense, Flatten, BatchNormalization, Dropout, MaxPooling2D, GlobalMaxPooling2D\n",
        "from tensorflow.keras.callbacks import ModelCheckpoint, EarlyStopping\n",
        "from tensorflow.keras.preprocessing.image import ImageDataGenerator\n",
        "from tensorflow.keras.datasets import cifar10\n",
        "from sklearn.model_selection import train_test_split\n",
        "from sklearn.metrics import confusion_matrix\n",
        "import itertools\n",
        "import matplotlib.pyplot as plt\n",
        "import seaborn as sbn\n",
        "%matplotlib inline"
      ],
      "execution_count": 1,
      "outputs": [
        {
          "output_type": "stream",
          "text": [
            "/usr/local/lib/python3.6/dist-packages/statsmodels/tools/_testing.py:19: FutureWarning: pandas.util.testing is deprecated. Use the functions in the public API at pandas.testing instead.\n",
            "  import pandas.util.testing as tm\n"
          ],
          "name": "stderr"
        }
      ]
    },
    {
      "cell_type": "markdown",
      "metadata": {
        "id": "XbHi1wJjyN92",
        "colab_type": "text"
      },
      "source": [
        "## **2. Loading and Processing Data**"
      ]
    },
    {
      "cell_type": "code",
      "metadata": {
        "id": "CNf4QmONydfz",
        "colab_type": "code",
        "colab": {
          "base_uri": "https://localhost:8080/",
          "height": 72
        },
        "outputId": "79e8084c-f8bd-43aa-b26e-500f3c025d9b"
      },
      "source": [
        "(x_train, y_train), (x_test, y_test) = cifar10.load_data()\n",
        "x_train, x_test = x_train / 255.0, x_test / 255.0\n",
        "y_train, y_test = y_train.flatten(), y_test.flatten()\n",
        "x_train.shape, x_test.shape"
      ],
      "execution_count": 2,
      "outputs": [
        {
          "output_type": "stream",
          "text": [
            "Downloading data from https://www.cs.toronto.edu/~kriz/cifar-10-python.tar.gz\n",
            "170500096/170498071 [==============================] - 6s 0us/step\n"
          ],
          "name": "stdout"
        },
        {
          "output_type": "execute_result",
          "data": {
            "text/plain": [
              "((50000, 32, 32, 3), (10000, 32, 32, 3))"
            ]
          },
          "metadata": {
            "tags": []
          },
          "execution_count": 2
        }
      ]
    },
    {
      "cell_type": "code",
      "metadata": {
        "id": "H4tn-XQfyd1l",
        "colab_type": "code",
        "colab": {
          "base_uri": "https://localhost:8080/",
          "height": 302
        },
        "outputId": "cafd59c3-5c4b-4bea-dfa5-26cdbb68a3df"
      },
      "source": [
        "\n",
        "K = len(set(y_train))      ###### Number Of Labels\n",
        "print(K)\n",
        "sbn.countplot(y_train)\n",
        " "
      ],
      "execution_count": 3,
      "outputs": [
        {
          "output_type": "stream",
          "text": [
            "10\n"
          ],
          "name": "stdout"
        },
        {
          "output_type": "execute_result",
          "data": {
            "text/plain": [
              "<matplotlib.axes._subplots.AxesSubplot at 0x7f32047fddd8>"
            ]
          },
          "metadata": {
            "tags": []
          },
          "execution_count": 3
        },
        {
          "output_type": "display_data",
          "data": {
            "image/png": "[encoded data removed]",
            "text/plain": [
              "<Figure size 432x288 with 1 Axes>"
            ]
          },
          "metadata": {
            "tags": [],
            "needs_background": "light"
          }
        }
      ]
    },
    {
      "cell_type": "code",
      "metadata": {
        "id": "mXDuYf7qyd9n",
        "colab_type": "code",
        "colab": {}
      },
      "source": [
        "# Spliting X_train Set into training set and validation test\n",
        "x_train, val_x, y_train, val_y = train_test_split(x_train, y_train, test_size=0.20)"
      ],
      "execution_count": 4,
      "outputs": []
    },
    {
      "cell_type": "markdown",
      "metadata": {
        "id": "uJdqg8D5yeFR",
        "colab_type": "text"
      },
      "source": [
        "## **3. Some Variables and Traps**"
      ]
    },
    {
      "cell_type": "code",
      "metadata": {
        "id": "MpzD8nc-yeSm",
        "colab_type": "code",
        "colab": {}
      },
      "source": [
        "es = EarlyStopping(monitor='loss', patience=12)\n",
        "filepath=\"/content/drive/My Drive/Colab Notebooks/Model/bestmodel.h5\"\n",
        "md = ModelCheckpoint(filepath, monitor='loss', verbose=1, save_best_only=True, mode='min')"
      ],
      "execution_count": 5,
      "outputs": []
    },
    {
      "cell_type": "code",
      "metadata": {
        "id": "fOB4S8IYkZ8I",
        "colab_type": "code",
        "colab": {}
      },
      "source": [
        "# defininig ImageDataGeneratore to increase data\n",
        "datagen = ImageDataGenerator(zoom_range = 0.1,\n",
        "                            height_shift_range = 0.1,\n",
        "                            width_shift_range = 0.1,\n",
        "                            rotation_range = 10)"
      ],
      "execution_count": 6,
      "outputs": []
    },
    {
      "cell_type": "code",
      "metadata": {
        "id": "fpWmAuaE3Ub3",
        "colab_type": "code",
        "colab": {}
      },
      "source": [
        "# Important Variables\n",
        "epochs = 50\n",
        "batch_size = 38\n",
        "input_shape = (32, 32, 3)\n",
        "adam = tf.keras.optimizers.Adam(0.001)"
      ],
      "execution_count": 31,
      "outputs": []
    },
    {
      "cell_type": "markdown",
      "metadata": {
        "id": "m_k0YwmmyeZU",
        "colab_type": "text"
      },
      "source": [
        "## **4. Building Model with Basic Functional API**"
      ]
    },
    {
      "cell_type": "code",
      "metadata": {
        "id": "vQUGToSJyefH",
        "colab_type": "code",
        "colab": {
          "base_uri": "https://localhost:8080/",
          "height": 1000
        },
        "outputId": "9d58e43d-2de1-41b4-f2da-b15cc40d46d9"
      },
      "source": [
        "\n",
        "\n",
        "i = Input(shape=input_shape)\n",
        "x = Conv2D(32, (3, 3), activation='relu', padding='same')(i)\n",
        "x = BatchNormalization()(x)\n",
        "x = Conv2D(32, (3, 3), activation='relu', padding='same')(x)\n",
        "x = BatchNormalization()(x)\n",
        "x = MaxPooling2D((2, 2))(x)\n",
        "x = Conv2D(64, (3, 3), activation='relu', padding='same')(x)\n",
        "x = BatchNormalization()(x)\n",
        "x = Conv2D(64, (3, 3), activation='relu', padding='same')(x)\n",
        "x = BatchNormalization()(x)\n",
        "x = MaxPooling2D((2, 2))(x)\n",
        "x = Conv2D(128, (3, 3), activation='relu', padding='same')(x)\n",
        "x = BatchNormalization()(x)\n",
        "x = Conv2D(128, (3, 3), activation='relu', padding='same')(x)\n",
        "x = BatchNormalization()(x)\n",
        "x = MaxPooling2D((2, 2))(x)\n",
        "\n",
        "# x = GlobalMaxPooling2D()(x)\n",
        "x = Flatten()(x)\n",
        "x = Dropout(0.3)(x)\n",
        "x = Dense(1024, activation='relu')(x)\n",
        "x = Dropout(0.3)(x)\n",
        "x = Dense(400, activation='relu')(x)\n",
        "x = Dropout(0.3)(x)\n",
        "#x = Dense(64, activation='relu')(x)\n",
        "#x = Dropout(0.3)(x)\n",
        "x = Dense(K, activation='softmax')(x)\n",
        "\n",
        "model = Model(i, x)\n",
        "model.summary()\n"
      ],
      "execution_count": 32,
      "outputs": [
        {
          "output_type": "stream",
          "text": [
            "Model: \"functional_7\"\n",
            "_________________________________________________________________\n",
            "Layer (type)                 Output Shape              Param #   \n",
            "=================================================================\n",
            "input_4 (InputLayer)         [(None, 32, 32, 3)]       0         \n",
            "_________________________________________________________________\n",
            "conv2d_18 (Conv2D)           (None, 32, 32, 32)        896       \n",
            "_________________________________________________________________\n",
            "batch_normalization_18 (Batc (None, 32, 32, 32)        128       \n",
            "_________________________________________________________________\n",
            "conv2d_19 (Conv2D)           (None, 32, 32, 32)        9248      \n",
            "_________________________________________________________________\n",
            "batch_normalization_19 (Batc (None, 32, 32, 32)        128       \n",
            "_________________________________________________________________\n",
            "max_pooling2d_9 (MaxPooling2 (None, 16, 16, 32)        0         \n",
            "_________________________________________________________________\n",
            "conv2d_20 (Conv2D)           (None, 16, 16, 64)        18496     \n",
            "_________________________________________________________________\n",
            "batch_normalization_20 (Batc (None, 16, 16, 64)        256       \n",
            "_________________________________________________________________\n",
            "conv2d_21 (Conv2D)           (None, 16, 16, 64)        36928     \n",
            "_________________________________________________________________\n",
            "batch_normalization_21 (Batc (None, 16, 16, 64)        256       \n",
            "_________________________________________________________________\n",
            "max_pooling2d_10 (MaxPooling (None, 8, 8, 64)          0         \n",
            "_________________________________________________________________\n",
            "conv2d_22 (Conv2D)           (None, 8, 8, 128)         73856     \n",
            "_________________________________________________________________\n",
            "batch_normalization_22 (Batc (None, 8, 8, 128)         512       \n",
            "_________________________________________________________________\n",
            "conv2d_23 (Conv2D)           (None, 8, 8, 128)         147584    \n",
            "_________________________________________________________________\n",
            "batch_normalization_23 (Batc (None, 8, 8, 128)         512       \n",
            "_________________________________________________________________\n",
            "max_pooling2d_11 (MaxPooling (None, 4, 4, 128)         0         \n",
            "_________________________________________________________________\n",
            "flatten_3 (Flatten)          (None, 2048)              0         \n",
            "_________________________________________________________________\n",
            "dropout_9 (Dropout)          (None, 2048)              0         \n",
            "_________________________________________________________________\n",
            "dense_9 (Dense)              (None, 1024)              2098176   \n",
            "_________________________________________________________________\n",
            "dropout_10 (Dropout)         (None, 1024)              0         \n",
            "_________________________________________________________________\n",
            "dense_10 (Dense)             (None, 400)               410000    \n",
            "_________________________________________________________________\n",
            "dropout_11 (Dropout)         (None, 400)               0         \n",
            "_________________________________________________________________\n",
            "dense_11 (Dense)             (None, 10)                4010      \n",
            "=================================================================\n",
            "Total params: 2,800,986\n",
            "Trainable params: 2,800,090\n",
            "Non-trainable params: 896\n",
            "_________________________________________________________________\n"
          ],
          "name": "stdout"
        }
      ]
    },
    {
      "cell_type": "code",
      "metadata": {
        "id": "KnJCj9v7yeli",
        "colab_type": "code",
        "colab": {}
      },
      "source": [
        "# Compiling Model\n",
        "model.compile(optimizer=adam,\n",
        "              loss='sparse_categorical_crossentropy',\n",
        "              metrics=['accuracy'])"
      ],
      "execution_count": 33,
      "outputs": []
    },
    {
      "cell_type": "code",
      "metadata": {
        "id": "hJ5aIsQHyerk",
        "colab_type": "code",
        "colab": {
          "base_uri": "https://localhost:8080/",
          "height": 1000
        },
        "outputId": "b5334ec3-d617-4deb-9f4e-17d7782e1281"
      },
      "source": [
        "# Fit Model\n",
        "History = model.fit(datagen.flow(x_train, y_train, batch_size=batch_size),\n",
        "          epochs = epochs,\n",
        "          validation_data = (val_x, val_y), #datagen.flow(val_x, val_y),\n",
        "          callbacks = [es,md],\n",
        "          shuffle= True\n",
        "        )"
      ],
      "execution_count": 34,
      "outputs": [
        {
          "output_type": "stream",
          "text": [
            "Epoch 1/50\n",
            "1053/1053 [==============================] - ETA: 0s - loss: 1.6356 - accuracy: 0.4136\n",
            "Epoch 00001: loss improved from inf to 1.63565, saving model to /content/drive/My Drive/Colab Notebooks/Model/bestmodel.h5\n",
            "1053/1053 [==============================] - 31s 29ms/step - loss: 1.6356 - accuracy: 0.4136 - val_loss: 1.3539 - val_accuracy: 0.5151\n",
            "Epoch 2/50\n",
            "1053/1053 [==============================] - ETA: 0s - loss: 1.2278 - accuracy: 0.5696\n",
            "Epoch 00002: loss improved from 1.63565 to 1.22785, saving model to /content/drive/My Drive/Colab Notebooks/Model/bestmodel.h5\n",
            "1053/1053 [==============================] - 32s 31ms/step - loss: 1.2278 - accuracy: 0.5696 - val_loss: 1.6549 - val_accuracy: 0.5166\n",
            "Epoch 3/50\n",
            "1052/1053 [============================>.] - ETA: 0s - loss: 1.0423 - accuracy: 0.6419\n",
            "Epoch 00003: loss improved from 1.22785 to 1.04212, saving model to /content/drive/My Drive/Colab Notebooks/Model/bestmodel.h5\n",
            "1053/1053 [==============================] - 32s 30ms/step - loss: 1.0421 - accuracy: 0.6420 - val_loss: 0.9877 - val_accuracy: 0.6721\n",
            "Epoch 4/50\n",
            "1051/1053 [============================>.] - ETA: 0s - loss: 0.9255 - accuracy: 0.6860\n",
            "Epoch 00004: loss improved from 1.04212 to 0.92529, saving model to /content/drive/My Drive/Colab Notebooks/Model/bestmodel.h5\n",
            "1053/1053 [==============================] - 32s 31ms/step - loss: 0.9253 - accuracy: 0.6861 - val_loss: 0.8759 - val_accuracy: 0.7158\n",
            "Epoch 5/50\n",
            "1052/1053 [============================>.] - ETA: 0s - loss: 0.8509 - accuracy: 0.7112\n",
            "Epoch 00005: loss improved from 0.92529 to 0.85090, saving model to /content/drive/My Drive/Colab Notebooks/Model/bestmodel.h5\n",
            "1053/1053 [==============================] - 33s 31ms/step - loss: 0.8509 - accuracy: 0.7112 - val_loss: 0.7306 - val_accuracy: 0.7550\n",
            "Epoch 6/50\n",
            "1052/1053 [============================>.] - ETA: 0s - loss: 0.7950 - accuracy: 0.7312\n",
            "Epoch 00006: loss improved from 0.85090 to 0.79473, saving model to /content/drive/My Drive/Colab Notebooks/Model/bestmodel.h5\n",
            "1053/1053 [==============================] - 32s 30ms/step - loss: 0.7947 - accuracy: 0.7313 - val_loss: 0.8302 - val_accuracy: 0.7232\n",
            "Epoch 7/50\n",
            "1051/1053 [============================>.] - ETA: 0s - loss: 0.7405 - accuracy: 0.7522\n",
            "Epoch 00007: loss improved from 0.79473 to 0.74048, saving model to /content/drive/My Drive/Colab Notebooks/Model/bestmodel.h5\n",
            "1053/1053 [==============================] - 31s 30ms/step - loss: 0.7405 - accuracy: 0.7521 - val_loss: 0.8050 - val_accuracy: 0.7308\n",
            "Epoch 8/50\n",
            "1052/1053 [============================>.] - ETA: 0s - loss: 0.6933 - accuracy: 0.7657\n",
            "Epoch 00008: loss improved from 0.74048 to 0.69330, saving model to /content/drive/My Drive/Colab Notebooks/Model/bestmodel.h5\n",
            "1053/1053 [==============================] - 32s 30ms/step - loss: 0.6933 - accuracy: 0.7657 - val_loss: 0.7567 - val_accuracy: 0.7569\n",
            "Epoch 9/50\n",
            "1051/1053 [============================>.] - ETA: 0s - loss: 0.6606 - accuracy: 0.7789\n",
            "Epoch 00009: loss improved from 0.69330 to 0.66053, saving model to /content/drive/My Drive/Colab Notebooks/Model/bestmodel.h5\n",
            "1053/1053 [==============================] - 31s 30ms/step - loss: 0.6605 - accuracy: 0.7789 - val_loss: 0.5749 - val_accuracy: 0.8063\n",
            "Epoch 10/50\n",
            "1052/1053 [============================>.] - ETA: 0s - loss: 0.6237 - accuracy: 0.7922\n",
            "Epoch 00010: loss improved from 0.66053 to 0.62381, saving model to /content/drive/My Drive/Colab Notebooks/Model/bestmodel.h5\n",
            "1053/1053 [==============================] - 32s 30ms/step - loss: 0.6238 - accuracy: 0.7921 - val_loss: 0.6800 - val_accuracy: 0.7741\n",
            "Epoch 11/50\n",
            "1053/1053 [==============================] - ETA: 0s - loss: 0.5961 - accuracy: 0.7981\n",
            "Epoch 00011: loss improved from 0.62381 to 0.59607, saving model to /content/drive/My Drive/Colab Notebooks/Model/bestmodel.h5\n",
            "1053/1053 [==============================] - 32s 30ms/step - loss: 0.5961 - accuracy: 0.7981 - val_loss: 0.6091 - val_accuracy: 0.7941\n",
            "Epoch 12/50\n",
            "1052/1053 [============================>.] - ETA: 0s - loss: 0.5632 - accuracy: 0.8100\n",
            "Epoch 00012: loss improved from 0.59607 to 0.56333, saving model to /content/drive/My Drive/Colab Notebooks/Model/bestmodel.h5\n",
            "1053/1053 [==============================] - 32s 30ms/step - loss: 0.5633 - accuracy: 0.8100 - val_loss: 0.6050 - val_accuracy: 0.8012\n",
            "Epoch 13/50\n",
            "1052/1053 [============================>.] - ETA: 0s - loss: 0.5470 - accuracy: 0.8181\n",
            "Epoch 00013: loss improved from 0.56333 to 0.54714, saving model to /content/drive/My Drive/Colab Notebooks/Model/bestmodel.h5\n",
            "1053/1053 [==============================] - 32s 30ms/step - loss: 0.5471 - accuracy: 0.8181 - val_loss: 0.6385 - val_accuracy: 0.7876\n",
            "Epoch 14/50\n",
            "1053/1053 [==============================] - ETA: 0s - loss: 0.5262 - accuracy: 0.8255\n",
            "Epoch 00014: loss improved from 0.54714 to 0.52620, saving model to /content/drive/My Drive/Colab Notebooks/Model/bestmodel.h5\n",
            "1053/1053 [==============================] - 31s 30ms/step - loss: 0.5262 - accuracy: 0.8255 - val_loss: 0.6019 - val_accuracy: 0.8035\n",
            "Epoch 15/50\n",
            "1052/1053 [============================>.] - ETA: 0s - loss: 0.5087 - accuracy: 0.8309\n",
            "Epoch 00015: loss improved from 0.52620 to 0.50904, saving model to /content/drive/My Drive/Colab Notebooks/Model/bestmodel.h5\n",
            "1053/1053 [==============================] - 32s 31ms/step - loss: 0.5090 - accuracy: 0.8307 - val_loss: 0.6550 - val_accuracy: 0.7872\n",
            "Epoch 16/50\n",
            "1052/1053 [============================>.] - ETA: 0s - loss: 0.4882 - accuracy: 0.8370\n",
            "Epoch 00016: loss improved from 0.50904 to 0.48835, saving model to /content/drive/My Drive/Colab Notebooks/Model/bestmodel.h5\n",
            "1053/1053 [==============================] - 32s 30ms/step - loss: 0.4884 - accuracy: 0.8370 - val_loss: 0.7290 - val_accuracy: 0.7737\n",
            "Epoch 17/50\n",
            "1053/1053 [==============================] - ETA: 0s - loss: 0.4768 - accuracy: 0.8410\n",
            "Epoch 00017: loss improved from 0.48835 to 0.47679, saving model to /content/drive/My Drive/Colab Notebooks/Model/bestmodel.h5\n",
            "1053/1053 [==============================] - 32s 30ms/step - loss: 0.4768 - accuracy: 0.8410 - val_loss: 0.5874 - val_accuracy: 0.8092\n",
            "Epoch 18/50\n",
            "1053/1053 [==============================] - ETA: 0s - loss: 0.4451 - accuracy: 0.8505\n",
            "Epoch 00018: loss improved from 0.47679 to 0.44508, saving model to /content/drive/My Drive/Colab Notebooks/Model/bestmodel.h5\n",
            "1053/1053 [==============================] - 31s 30ms/step - loss: 0.4451 - accuracy: 0.8505 - val_loss: 0.4634 - val_accuracy: 0.8454\n",
            "Epoch 19/50\n",
            "1052/1053 [============================>.] - ETA: 0s - loss: 0.4367 - accuracy: 0.8537\n",
            "Epoch 00019: loss improved from 0.44508 to 0.43669, saving model to /content/drive/My Drive/Colab Notebooks/Model/bestmodel.h5\n",
            "1053/1053 [==============================] - 32s 31ms/step - loss: 0.4367 - accuracy: 0.8537 - val_loss: 0.5615 - val_accuracy: 0.8185\n",
            "Epoch 20/50\n",
            "1052/1053 [============================>.] - ETA: 0s - loss: 0.4243 - accuracy: 0.8571\n",
            "Epoch 00020: loss improved from 0.43669 to 0.42430, saving model to /content/drive/My Drive/Colab Notebooks/Model/bestmodel.h5\n",
            "1053/1053 [==============================] - 32s 31ms/step - loss: 0.4243 - accuracy: 0.8571 - val_loss: 0.6351 - val_accuracy: 0.7977\n",
            "Epoch 21/50\n",
            "1052/1053 [============================>.] - ETA: 0s - loss: 0.4059 - accuracy: 0.8656\n",
            "Epoch 00021: loss improved from 0.42430 to 0.40586, saving model to /content/drive/My Drive/Colab Notebooks/Model/bestmodel.h5\n",
            "1053/1053 [==============================] - 32s 30ms/step - loss: 0.4059 - accuracy: 0.8656 - val_loss: 0.4810 - val_accuracy: 0.8478\n",
            "Epoch 22/50\n",
            "1053/1053 [==============================] - ETA: 0s - loss: 0.4009 - accuracy: 0.8640\n",
            "Epoch 00022: loss improved from 0.40586 to 0.40092, saving model to /content/drive/My Drive/Colab Notebooks/Model/bestmodel.h5\n",
            "1053/1053 [==============================] - 32s 31ms/step - loss: 0.4009 - accuracy: 0.8640 - val_loss: 0.6755 - val_accuracy: 0.7933\n",
            "Epoch 23/50\n",
            "1051/1053 [============================>.] - ETA: 0s - loss: 0.3821 - accuracy: 0.8712\n",
            "Epoch 00023: loss improved from 0.40092 to 0.38259, saving model to /content/drive/My Drive/Colab Notebooks/Model/bestmodel.h5\n",
            "1053/1053 [==============================] - 32s 30ms/step - loss: 0.3826 - accuracy: 0.8711 - val_loss: 0.6305 - val_accuracy: 0.8089\n",
            "Epoch 24/50\n",
            "1052/1053 [============================>.] - ETA: 0s - loss: 0.3740 - accuracy: 0.8737\n",
            "Epoch 00024: loss improved from 0.38259 to 0.37416, saving model to /content/drive/My Drive/Colab Notebooks/Model/bestmodel.h5\n",
            "1053/1053 [==============================] - 33s 31ms/step - loss: 0.3742 - accuracy: 0.8736 - val_loss: 0.4754 - val_accuracy: 0.8455\n",
            "Epoch 25/50\n",
            "1052/1053 [============================>.] - ETA: 0s - loss: 0.3670 - accuracy: 0.8746\n",
            "Epoch 00025: loss improved from 0.37416 to 0.36686, saving model to /content/drive/My Drive/Colab Notebooks/Model/bestmodel.h5\n",
            "1053/1053 [==============================] - 32s 30ms/step - loss: 0.3669 - accuracy: 0.8747 - val_loss: 0.5188 - val_accuracy: 0.8316\n",
            "Epoch 26/50\n",
            "1051/1053 [============================>.] - ETA: 0s - loss: 0.3559 - accuracy: 0.8803\n",
            "Epoch 00026: loss improved from 0.36686 to 0.35577, saving model to /content/drive/My Drive/Colab Notebooks/Model/bestmodel.h5\n",
            "1053/1053 [==============================] - 32s 30ms/step - loss: 0.3558 - accuracy: 0.8804 - val_loss: 0.4856 - val_accuracy: 0.8443\n",
            "Epoch 27/50\n",
            "1053/1053 [==============================] - ETA: 0s - loss: 0.3530 - accuracy: 0.8805\n",
            "Epoch 00027: loss improved from 0.35577 to 0.35299, saving model to /content/drive/My Drive/Colab Notebooks/Model/bestmodel.h5\n",
            "1053/1053 [==============================] - 32s 30ms/step - loss: 0.3530 - accuracy: 0.8805 - val_loss: 0.5027 - val_accuracy: 0.8367\n",
            "Epoch 28/50\n",
            "1053/1053 [==============================] - ETA: 0s - loss: 0.3338 - accuracy: 0.8869\n",
            "Epoch 00028: loss improved from 0.35299 to 0.33375, saving model to /content/drive/My Drive/Colab Notebooks/Model/bestmodel.h5\n",
            "1053/1053 [==============================] - 32s 30ms/step - loss: 0.3338 - accuracy: 0.8869 - val_loss: 0.6237 - val_accuracy: 0.8109\n",
            "Epoch 29/50\n",
            "1052/1053 [============================>.] - ETA: 0s - loss: 0.3285 - accuracy: 0.8881\n",
            "Epoch 00029: loss improved from 0.33375 to 0.32844, saving model to /content/drive/My Drive/Colab Notebooks/Model/bestmodel.h5\n",
            "1053/1053 [==============================] - 32s 30ms/step - loss: 0.3284 - accuracy: 0.8881 - val_loss: 0.4699 - val_accuracy: 0.8480\n",
            "Epoch 30/50\n",
            "1052/1053 [============================>.] - ETA: 0s - loss: 0.3214 - accuracy: 0.8906\n",
            "Epoch 00030: loss improved from 0.32844 to 0.32139, saving model to /content/drive/My Drive/Colab Notebooks/Model/bestmodel.h5\n",
            "1053/1053 [==============================] - 32s 30ms/step - loss: 0.3214 - accuracy: 0.8906 - val_loss: 0.4323 - val_accuracy: 0.8577\n",
            "Epoch 31/50\n",
            "1053/1053 [==============================] - ETA: 0s - loss: 0.3120 - accuracy: 0.8960\n",
            "Epoch 00031: loss improved from 0.32139 to 0.31204, saving model to /content/drive/My Drive/Colab Notebooks/Model/bestmodel.h5\n",
            "1053/1053 [==============================] - 31s 30ms/step - loss: 0.3120 - accuracy: 0.8960 - val_loss: 0.4790 - val_accuracy: 0.8439\n",
            "Epoch 32/50\n",
            "1052/1053 [============================>.] - ETA: 0s - loss: 0.3065 - accuracy: 0.8959\n",
            "Epoch 00032: loss improved from 0.31204 to 0.30662, saving model to /content/drive/My Drive/Colab Notebooks/Model/bestmodel.h5\n",
            "1053/1053 [==============================] - 32s 30ms/step - loss: 0.3066 - accuracy: 0.8959 - val_loss: 0.4483 - val_accuracy: 0.8549\n",
            "Epoch 33/50\n",
            "1051/1053 [============================>.] - ETA: 0s - loss: 0.2972 - accuracy: 0.8979\n",
            "Epoch 00033: loss improved from 0.30662 to 0.29727, saving model to /content/drive/My Drive/Colab Notebooks/Model/bestmodel.h5\n",
            "1053/1053 [==============================] - 31s 30ms/step - loss: 0.2973 - accuracy: 0.8978 - val_loss: 0.5120 - val_accuracy: 0.8435\n",
            "Epoch 34/50\n",
            "1052/1053 [============================>.] - ETA: 0s - loss: 0.2991 - accuracy: 0.8980\n",
            "Epoch 00034: loss did not improve from 0.29727\n",
            "1053/1053 [==============================] - 30s 28ms/step - loss: 0.2991 - accuracy: 0.8980 - val_loss: 0.4954 - val_accuracy: 0.8452\n",
            "Epoch 35/50\n",
            "1052/1053 [============================>.] - ETA: 0s - loss: 0.3004 - accuracy: 0.8984\n",
            "Epoch 00035: loss did not improve from 0.29727\n",
            "1053/1053 [==============================] - 29s 28ms/step - loss: 0.3004 - accuracy: 0.8984 - val_loss: 0.4356 - val_accuracy: 0.8559\n",
            "Epoch 36/50\n",
            "1053/1053 [==============================] - ETA: 0s - loss: 0.2870 - accuracy: 0.9019\n",
            "Epoch 00036: loss improved from 0.29727 to 0.28701, saving model to /content/drive/My Drive/Colab Notebooks/Model/bestmodel.h5\n",
            "1053/1053 [==============================] - 31s 30ms/step - loss: 0.2870 - accuracy: 0.9019 - val_loss: 0.4533 - val_accuracy: 0.8542\n",
            "Epoch 37/50\n",
            "1052/1053 [============================>.] - ETA: 0s - loss: 0.2816 - accuracy: 0.9053\n",
            "Epoch 00037: loss improved from 0.28701 to 0.28159, saving model to /content/drive/My Drive/Colab Notebooks/Model/bestmodel.h5\n",
            "1053/1053 [==============================] - 31s 30ms/step - loss: 0.2816 - accuracy: 0.9053 - val_loss: 0.4436 - val_accuracy: 0.8616\n",
            "Epoch 38/50\n",
            "1053/1053 [==============================] - ETA: 0s - loss: 0.2723 - accuracy: 0.9069\n",
            "Epoch 00038: loss improved from 0.28159 to 0.27227, saving model to /content/drive/My Drive/Colab Notebooks/Model/bestmodel.h5\n",
            "1053/1053 [==============================] - 31s 29ms/step - loss: 0.2723 - accuracy: 0.9069 - val_loss: 0.5382 - val_accuracy: 0.8316\n",
            "Epoch 39/50\n",
            "1052/1053 [============================>.] - ETA: 0s - loss: 0.2701 - accuracy: 0.9102\n",
            "Epoch 00039: loss improved from 0.27227 to 0.27023, saving model to /content/drive/My Drive/Colab Notebooks/Model/bestmodel.h5\n",
            "1053/1053 [==============================] - 32s 30ms/step - loss: 0.2702 - accuracy: 0.9101 - val_loss: 0.4686 - val_accuracy: 0.8560\n",
            "Epoch 40/50\n",
            "1053/1053 [==============================] - ETA: 0s - loss: 0.2689 - accuracy: 0.9096\n",
            "Epoch 00040: loss improved from 0.27023 to 0.26895, saving model to /content/drive/My Drive/Colab Notebooks/Model/bestmodel.h5\n",
            "1053/1053 [==============================] - 32s 30ms/step - loss: 0.2689 - accuracy: 0.9096 - val_loss: 0.4724 - val_accuracy: 0.8536\n",
            "Epoch 41/50\n",
            "1053/1053 [==============================] - ETA: 0s - loss: 0.2617 - accuracy: 0.9104\n",
            "Epoch 00041: loss improved from 0.26895 to 0.26170, saving model to /content/drive/My Drive/Colab Notebooks/Model/bestmodel.h5\n",
            "1053/1053 [==============================] - 31s 30ms/step - loss: 0.2617 - accuracy: 0.9104 - val_loss: 0.4526 - val_accuracy: 0.8613\n",
            "Epoch 42/50\n",
            "1052/1053 [============================>.] - ETA: 0s - loss: 0.2605 - accuracy: 0.9112\n",
            "Epoch 00042: loss improved from 0.26170 to 0.26037, saving model to /content/drive/My Drive/Colab Notebooks/Model/bestmodel.h5\n",
            "1053/1053 [==============================] - 31s 30ms/step - loss: 0.2604 - accuracy: 0.9113 - val_loss: 0.4748 - val_accuracy: 0.8553\n",
            "Epoch 43/50\n",
            "1052/1053 [============================>.] - ETA: 0s - loss: 0.2578 - accuracy: 0.9115\n",
            "Epoch 00043: loss improved from 0.26037 to 0.25794, saving model to /content/drive/My Drive/Colab Notebooks/Model/bestmodel.h5\n",
            "1053/1053 [==============================] - 31s 30ms/step - loss: 0.2579 - accuracy: 0.9115 - val_loss: 0.4479 - val_accuracy: 0.8572\n",
            "Epoch 44/50\n",
            "1053/1053 [==============================] - ETA: 0s - loss: 0.2544 - accuracy: 0.9159\n",
            "Epoch 00044: loss improved from 0.25794 to 0.25440, saving model to /content/drive/My Drive/Colab Notebooks/Model/bestmodel.h5\n",
            "1053/1053 [==============================] - 32s 30ms/step - loss: 0.2544 - accuracy: 0.9159 - val_loss: 0.4175 - val_accuracy: 0.8645\n",
            "Epoch 45/50\n",
            "1051/1053 [============================>.] - ETA: 0s - loss: 0.2547 - accuracy: 0.9132\n",
            "Epoch 00045: loss did not improve from 0.25440\n",
            "1053/1053 [==============================] - 29s 28ms/step - loss: 0.2547 - accuracy: 0.9132 - val_loss: 0.4569 - val_accuracy: 0.8551\n",
            "Epoch 46/50\n",
            "1053/1053 [==============================] - ETA: 0s - loss: 0.2445 - accuracy: 0.9174\n",
            "Epoch 00046: loss improved from 0.25440 to 0.24446, saving model to /content/drive/My Drive/Colab Notebooks/Model/bestmodel.h5\n",
            "1053/1053 [==============================] - 31s 29ms/step - loss: 0.2445 - accuracy: 0.9174 - val_loss: 0.4475 - val_accuracy: 0.8627\n",
            "Epoch 47/50\n",
            "1052/1053 [============================>.] - ETA: 0s - loss: 0.2485 - accuracy: 0.9175\n",
            "Epoch 00047: loss did not improve from 0.24446\n",
            "1053/1053 [==============================] - 29s 27ms/step - loss: 0.2486 - accuracy: 0.9175 - val_loss: 0.4305 - val_accuracy: 0.8654\n",
            "Epoch 48/50\n",
            "1052/1053 [============================>.] - ETA: 0s - loss: 0.2402 - accuracy: 0.9202\n",
            "Epoch 00048: loss improved from 0.24446 to 0.24010, saving model to /content/drive/My Drive/Colab Notebooks/Model/bestmodel.h5\n",
            "1053/1053 [==============================] - 31s 30ms/step - loss: 0.2401 - accuracy: 0.9202 - val_loss: 0.4456 - val_accuracy: 0.8642\n",
            "Epoch 49/50\n",
            "1053/1053 [==============================] - ETA: 0s - loss: 0.2348 - accuracy: 0.9209\n",
            "Epoch 00049: loss improved from 0.24010 to 0.23478, saving model to /content/drive/My Drive/Colab Notebooks/Model/bestmodel.h5\n",
            "1053/1053 [==============================] - 31s 30ms/step - loss: 0.2348 - accuracy: 0.9209 - val_loss: 0.4593 - val_accuracy: 0.8605\n",
            "Epoch 50/50\n",
            "1053/1053 [==============================] - ETA: 0s - loss: 0.2306 - accuracy: 0.9224\n",
            "Epoch 00050: loss improved from 0.23478 to 0.23063, saving model to /content/drive/My Drive/Colab Notebooks/Model/bestmodel.h5\n",
            "1053/1053 [==============================] - 31s 30ms/step - loss: 0.2306 - accuracy: 0.9224 - val_loss: 0.5069 - val_accuracy: 0.8473\n"
          ],
          "name": "stdout"
        }
      ]
    },
    {
      "cell_type": "code",
      "metadata": {
        "id": "5XVxLOobyeyI",
        "colab_type": "code",
        "colab": {
          "base_uri": "https://localhost:8080/",
          "height": 283
        },
        "outputId": "37ad5d79-6b30-4229-91ea-497b70a6acbe"
      },
      "source": [
        "# Plot loss per iteration\n",
        "import matplotlib.pyplot as plt\n",
        "plt.plot(History.history['loss'], label='loss')\n",
        "plt.plot(History.history['val_loss'], label='val_loss')\n",
        "plt.legend()"
      ],
      "execution_count": 35,
      "outputs": [
        {
          "output_type": "execute_result",
          "data": {
            "text/plain": [
              "<matplotlib.legend.Legend at 0x7f31917362b0>"
            ]
          },
          "metadata": {
            "tags": []
          },
          "execution_count": 35
        },
        {
          "output_type": "display_data",
          "data": {
            "image/png": "[encoded data removed]",
            "text/plain": [
              "<Figure size 432x288 with 1 Axes>"
            ]
          },
          "metadata": {
            "tags": [],
            "needs_background": "light"
          }
        }
      ]
    },
    {
      "cell_type": "code",
      "metadata": {
        "id": "6Zk21Jq4ye3o",
        "colab_type": "code",
        "colab": {
          "base_uri": "https://localhost:8080/",
          "height": 283
        },
        "outputId": "5a804960-2961-4e84-f738-cef03c72ca85"
      },
      "source": [
        "# Plot accuracy per iteration\n",
        "plt.plot(History.history['accuracy'], label='acc')\n",
        "plt.plot(History.history['val_accuracy'], label='val_acc')\n",
        "plt.legend()"
      ],
      "execution_count": 36,
      "outputs": [
        {
          "output_type": "execute_result",
          "data": {
            "text/plain": [
              "<matplotlib.legend.Legend at 0x7f31901547f0>"
            ]
          },
          "metadata": {
            "tags": []
          },
          "execution_count": 36
        },
        {
          "output_type": "display_data",
          "data": {
            "image/png": "[encoded data removed]",
            "text/plain": [
              "<Figure size 432x288 with 1 Axes>"
            ]
          },
          "metadata": {
            "tags": [],
            "needs_background": "light"
          }
        }
      ]
    },
    {
      "cell_type": "markdown",
      "metadata": {
        "id": "XFhVK_KEye9r",
        "colab_type": "text"
      },
      "source": [
        "## **5. Loading Model and Making Prediction**"
      ]
    },
    {
      "cell_type": "code",
      "metadata": {
        "id": "iPkvo7WCyfDS",
        "colab_type": "code",
        "colab": {
          "base_uri": "https://localhost:8080/",
          "height": 1000
        },
        "outputId": "dd36a95a-126f-4414-f9ea-ffe6b9860660"
      },
      "source": [
        "model1 = load_model(filepath)\n",
        "model1.summary()"
      ],
      "execution_count": 37,
      "outputs": [
        {
          "output_type": "stream",
          "text": [
            "Model: \"functional_7\"\n",
            "_________________________________________________________________\n",
            "Layer (type)                 Output Shape              Param #   \n",
            "=================================================================\n",
            "input_4 (InputLayer)         [(None, 32, 32, 3)]       0         \n",
            "_________________________________________________________________\n",
            "conv2d_18 (Conv2D)           (None, 32, 32, 32)        896       \n",
            "_________________________________________________________________\n",
            "batch_normalization_18 (Batc (None, 32, 32, 32)        128       \n",
            "_________________________________________________________________\n",
            "conv2d_19 (Conv2D)           (None, 32, 32, 32)        9248      \n",
            "_________________________________________________________________\n",
            "batch_normalization_19 (Batc (None, 32, 32, 32)        128       \n",
            "_________________________________________________________________\n",
            "max_pooling2d_9 (MaxPooling2 (None, 16, 16, 32)        0         \n",
            "_________________________________________________________________\n",
            "conv2d_20 (Conv2D)           (None, 16, 16, 64)        18496     \n",
            "_________________________________________________________________\n",
            "batch_normalization_20 (Batc (None, 16, 16, 64)        256       \n",
            "_________________________________________________________________\n",
            "conv2d_21 (Conv2D)           (None, 16, 16, 64)        36928     \n",
            "_________________________________________________________________\n",
            "batch_normalization_21 (Batc (None, 16, 16, 64)        256       \n",
            "_________________________________________________________________\n",
            "max_pooling2d_10 (MaxPooling (None, 8, 8, 64)          0         \n",
            "_________________________________________________________________\n",
            "conv2d_22 (Conv2D)           (None, 8, 8, 128)         73856     \n",
            "_________________________________________________________________\n",
            "batch_normalization_22 (Batc (None, 8, 8, 128)         512       \n",
            "_________________________________________________________________\n",
            "conv2d_23 (Conv2D)           (None, 8, 8, 128)         147584    \n",
            "_________________________________________________________________\n",
            "batch_normalization_23 (Batc (None, 8, 8, 128)         512       \n",
            "_________________________________________________________________\n",
            "max_pooling2d_11 (MaxPooling (None, 4, 4, 128)         0         \n",
            "_________________________________________________________________\n",
            "flatten_3 (Flatten)          (None, 2048)              0         \n",
            "_________________________________________________________________\n",
            "dropout_9 (Dropout)          (None, 2048)              0         \n",
            "_________________________________________________________________\n",
            "dense_9 (Dense)              (None, 1024)              2098176   \n",
            "_________________________________________________________________\n",
            "dropout_10 (Dropout)         (None, 1024)              0         \n",
            "_________________________________________________________________\n",
            "dense_10 (Dense)             (None, 400)               410000    \n",
            "_________________________________________________________________\n",
            "dropout_11 (Dropout)         (None, 400)               0         \n",
            "_________________________________________________________________\n",
            "dense_11 (Dense)             (None, 10)                4010      \n",
            "=================================================================\n",
            "Total params: 2,800,986\n",
            "Trainable params: 2,800,090\n",
            "Non-trainable params: 896\n",
            "_________________________________________________________________\n"
          ],
          "name": "stdout"
        }
      ]
    },
    {
      "cell_type": "code",
      "metadata": {
        "id": "4cTuusfIcZ8F",
        "colab_type": "code",
        "colab": {
          "base_uri": "https://localhost:8080/",
          "height": 495
        },
        "outputId": "3e0cc69e-bb2c-4c08-e37f-62043c35e8de"
      },
      "source": [
        "def plot_confusion_matrix(cm, classes,\n",
        "                          title='Confusion matrix',\n",
        "                          cmap=plt.cm.Blues):\n",
        "  print(cm)\n",
        "\n",
        "  plt.imshow(cm, interpolation='nearest', cmap=cmap)\n",
        "  plt.title(title)\n",
        "  plt.colorbar()\n",
        "  tick_marks = np.arange(len(classes))\n",
        "  plt.xticks(tick_marks, classes, rotation=45)\n",
        "  plt.yticks(tick_marks, classes)\n",
        "\n",
        "  fmt = 'd'\n",
        "  thresh = cm.max() / 2.\n",
        "  for i, j in itertools.product(range(cm.shape[0]), range(cm.shape[1])):\n",
        "      plt.text(j, i, format(cm[i, j], fmt),\n",
        "               horizontalalignment=\"center\",\n",
        "               color=\"white\" if cm[i, j] > thresh else \"black\")\n",
        "\n",
        "  plt.tight_layout()\n",
        "  plt.ylabel('True label')\n",
        "  plt.xlabel('Predicted label')\n",
        "  plt.show()\n",
        "\n",
        "\n",
        "p_test = model1.predict(x_test).argmax(axis=1)\n",
        "cm = confusion_matrix(y_test, p_test)\n",
        "plot_confusion_matrix(cm, list(range(10)))"
      ],
      "execution_count": 38,
      "outputs": [
        {
          "output_type": "stream",
          "text": [
            "[[933   5  10   3   3   0   7   3  20  16]\n",
            " [  7 937   2   1   0   0   3   0   7  43]\n",
            " [ 57   1 810  15  24  12  65   6   5   5]\n",
            " [ 37   6  70 605  37  61 139  15  16  14]\n",
            " [ 11   1  74  14 808   2  75  12   3   0]\n",
            " [ 13   2  66 103  40 661  78  29   5   3]\n",
            " [  5   0  15   8   5   2 957   1   5   2]\n",
            " [ 25   1  36  14  50  11  13 842   3   5]\n",
            " [ 46  11   3   0   0   0   5   0 918  17]\n",
            " [ 19  37   1   2   0   0   3   1   6 931]]\n"
          ],
          "name": "stdout"
        },
        {
          "output_type": "display_data",
          "data": {
            "image/png": "[encoded data removed]",
            "text/plain": [
              "<Figure size 432x288 with 2 Axes>"
            ]
          },
          "metadata": {
            "tags": [],
            "needs_background": "light"
          }
        }
      ]
    },
    {
      "cell_type": "code",
      "metadata": {
        "id": "5hXeEMKatBbL",
        "colab_type": "code",
        "colab": {}
      },
      "source": [
        ""
      ],
      "execution_count": 38,
      "outputs": []
    }
  ]
}