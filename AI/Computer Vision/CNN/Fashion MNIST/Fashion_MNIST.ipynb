{
  "nbformat": 4,
  "nbformat_minor": 0,
  "metadata": {
    "colab": {
      "name": "MNIST.ipynb",
      "provenance": [],
      "collapsed_sections": [],
      "mount_file_id": "1y83so0lwgq7dqWCGcO1Y9SDg_hp3Bv5_",
      "authorship_tag": "ABX9TyP78BaANHsYBHW80SPUGT1L",
      "include_colab_link": true
    },
    "kernelspec": {
      "name": "python3",
      "display_name": "Python 3"
    },
    "accelerator": "GPU"
  },
  "cells": [
    {
      "cell_type": "markdown",
      "metadata": {
        "id": "view-in-github",
        "colab_type": "text"
      },
      "source": [
        "<a href=\"https://colab.research.google.com/github/gpdsec/DataScience-Python/blob/master/Fashion_MNIST.ipynb\" target=\"_parent\"><img src=\"https://colab.research.google.com/assets/colab-badge.svg\" alt=\"Open In Colab\"/></a>"
      ]
    },
    {
      "cell_type": "markdown",
      "metadata": {
        "id": "zccG6NFayPEN",
        "colab_type": "text"
      },
      "source": [
        "## **1. Importing Libraries**"
      ]
    },
    {
      "cell_type": "code",
      "metadata": {
        "id": "LJS0A9V_rvB-",
        "colab_type": "code",
        "colab": {
          "base_uri": "https://localhost:8080/",
          "height": 74
        },
        "outputId": "d47863d6-b6a4-4432-a259-ded11e0d8036"
      },
      "source": [
        "import tensorflow as tf\n",
        "import pandas as pd\n",
        "import numpy as np\n",
        "from tensorflow.keras.models import Model, load_model\n",
        "from tensorflow.keras.layers import Input, Conv2D, Dense, Flatten, BatchNormalization, Dropout, MaxPooling2D\n",
        "from tensorflow.keras.callbacks import ModelCheckpoint, EarlyStopping\n",
        "from tensorflow.keras.preprocessing.image import ImageDataGenerator\n",
        "from tensorflow.keras.datasets import fashion_mnist\n",
        "from sklearn.model_selection import train_test_split\n",
        "from sklearn.metrics import confusion_matrix\n",
        "import itertools\n",
        "import matplotlib.pyplot as plt\n",
        "import seaborn as sbn\n",
        "%matplotlib inline"
      ],
      "execution_count": null,
      "outputs": [
        {
          "output_type": "stream",
          "text": [
            "/usr/local/lib/python3.6/dist-packages/statsmodels/tools/_testing.py:19: FutureWarning: pandas.util.testing is deprecated. Use the functions in the public API at pandas.testing instead.\n",
            "  import pandas.util.testing as tm\n"
          ],
          "name": "stderr"
        }
      ]
    },
    {
      "cell_type": "markdown",
      "metadata": {
        "id": "XbHi1wJjyN92",
        "colab_type": "text"
      },
      "source": [
        "## **2. Loading and Processing Data**"
      ]
    },
    {
      "cell_type": "code",
      "metadata": {
        "id": "CNf4QmONydfz",
        "colab_type": "code",
        "colab": {
          "base_uri": "https://localhost:8080/",
          "height": 35
        },
        "outputId": "26a2ede2-0536-430e-ef55-6ed37391c197"
      },
      "source": [
        "(x_train, y_train), (x_test, y_test) = fashion_mnist.load_data()\n",
        "x_train, x_test = x_train / 255.0, x_test / 255.0\n",
        "x_train.shape, x_test.shape"
      ],
      "execution_count": null,
      "outputs": [
        {
          "output_type": "execute_result",
          "data": {
            "text/plain": [
              "((60000, 28, 28), (10000, 28, 28))"
            ]
          },
          "metadata": {
            "tags": []
          },
          "execution_count": 2
        }
      ]
    },
    {
      "cell_type": "code",
      "metadata": {
        "id": "PViOjxXEyds0",
        "colab_type": "code",
        "colab": {
          "base_uri": "https://localhost:8080/",
          "height": 35
        },
        "outputId": "ab3a0fd2-22b0-4f5f-830d-3dc9b70c9f0e"
      },
      "source": [
        "## Adding color dimention to data\n",
        "x_train = np.expand_dims(x_train, -1)\n",
        "x_test = np.expand_dims(x_test, -1)\n",
        "x_train.shape, x_test.shape"
      ],
      "execution_count": null,
      "outputs": [
        {
          "output_type": "execute_result",
          "data": {
            "text/plain": [
              "((60000, 28, 28, 1), (10000, 28, 28, 1))"
            ]
          },
          "metadata": {
            "tags": []
          },
          "execution_count": 3
        }
      ]
    },
    {
      "cell_type": "code",
      "metadata": {
        "id": "H4tn-XQfyd1l",
        "colab_type": "code",
        "colab": {
          "base_uri": "https://localhost:8080/",
          "height": 302
        },
        "outputId": "fc2a1ee3-67c8-4545-e4af-74fee20a7755"
      },
      "source": [
        "K = len(set(y_train))      ###### Number Of Labels\n",
        "print(K)\n",
        "sbn.countplot(y_train)"
      ],
      "execution_count": null,
      "outputs": [
        {
          "output_type": "stream",
          "text": [
            "10\n"
          ],
          "name": "stdout"
        },
        {
          "output_type": "execute_result",
          "data": {
            "text/plain": [
              "<matplotlib.axes._subplots.AxesSubplot at 0x7fc4ee031c88>"
            ]
          },
          "metadata": {
            "tags": []
          },
          "execution_count": 4
        },
        {
          "output_type": "display_data",
          "data": {
            "image/png": "[encoded data removed]",
            "text/plain": [
              "<Figure size 432x288 with 1 Axes>"
            ]
          },
          "metadata": {
            "tags": [],
            "needs_background": "light"
          }
        }
      ]
    },
    {
      "cell_type": "code",
      "metadata": {
        "id": "mXDuYf7qyd9n",
        "colab_type": "code",
        "colab": {}
      },
      "source": [
        "# Spliting X_train Set into training set and validation test\n",
        "x_train, val_x, y_train, val_y = train_test_split(x_train, y_train, test_size=0.20)"
      ],
      "execution_count": null,
      "outputs": []
    },
    {
      "cell_type": "markdown",
      "metadata": {
        "id": "uJdqg8D5yeFR",
        "colab_type": "text"
      },
      "source": [
        "## **3. Some Variables and Traps**"
      ]
    },
    {
      "cell_type": "code",
      "metadata": {
        "id": "MpzD8nc-yeSm",
        "colab_type": "code",
        "colab": {}
      },
      "source": [
        "es = EarlyStopping(monitor='loss', patience=12)\n",
        "filepath=\"/content/drive/My Drive/Colab Notebooks/Model/bestmodel.h5\"\n",
        "md = ModelCheckpoint(filepath, monitor='loss', verbose=1, save_best_only=True, mode='min')"
      ],
      "execution_count": null,
      "outputs": []
    },
    {
      "cell_type": "code",
      "metadata": {
        "id": "fpWmAuaE3Ub3",
        "colab_type": "code",
        "colab": {}
      },
      "source": [
        "# Important Variables\n",
        "epochs = 10\n",
        "batch_size = 128\n",
        "input_shape = (28, 28, 1)\n",
        "adam = tf.keras.optimizers.Adam(0.001)"
      ],
      "execution_count": null,
      "outputs": []
    },
    {
      "cell_type": "markdown",
      "metadata": {
        "id": "m_k0YwmmyeZU",
        "colab_type": "text"
      },
      "source": [
        "## **4. Building Model with Basic Functional API**"
      ]
    },
    {
      "cell_type": "code",
      "metadata": {
        "id": "vQUGToSJyefH",
        "colab_type": "code",
        "colab": {
          "base_uri": "https://localhost:8080/",
          "height": 495
        },
        "outputId": "3134c8f4-aa77-4009-d962-be3d72bc578d"
      },
      "source": [
        "\n",
        "\n",
        "i = Input(shape=input_shape)\n",
        "x = Conv2D(32, (3, 3), strides=2, activation='relu')(i)\n",
        "x = BatchNormalization()(x)\n",
        "x = Conv2D(64, (3, 3), strides=2, activation='relu')(x)\n",
        "#x = BatchNormalization()(x)\n",
        "#x = Conv2D(128, (3, 3), strides=2, activation='relu')(x)\n",
        "x = Flatten()(x)\n",
        "x = Dropout(0.2)(x)\n",
        "x = Dense(512, activation='relu')(x)\n",
        "x = Dropout(0.4)(x)\n",
        "x = Dense(K, activation='softmax')(x)\n",
        "\n",
        "model = Model(i, x)\n",
        "model.summary()\n"
      ],
      "execution_count": null,
      "outputs": [
        {
          "output_type": "stream",
          "text": [
            "Model: \"model_4\"\n",
            "_________________________________________________________________\n",
            "Layer (type)                 Output Shape              Param #   \n",
            "=================================================================\n",
            "input_5 (InputLayer)         [(None, 28, 28, 1)]       0         \n",
            "_________________________________________________________________\n",
            "conv2d_12 (Conv2D)           (None, 13, 13, 32)        320       \n",
            "_________________________________________________________________\n",
            "batch_normalization_8 (Batch (None, 13, 13, 32)        128       \n",
            "_________________________________________________________________\n",
            "conv2d_13 (Conv2D)           (None, 6, 6, 64)          18496     \n",
            "_________________________________________________________________\n",
            "flatten_4 (Flatten)          (None, 2304)              0         \n",
            "_________________________________________________________________\n",
            "dropout_8 (Dropout)          (None, 2304)              0         \n",
            "_________________________________________________________________\n",
            "dense_8 (Dense)              (None, 512)               1180160   \n",
            "_________________________________________________________________\n",
            "dropout_9 (Dropout)          (None, 512)               0         \n",
            "_________________________________________________________________\n",
            "dense_9 (Dense)              (None, 10)                5130      \n",
            "=================================================================\n",
            "Total params: 1,204,234\n",
            "Trainable params: 1,204,170\n",
            "Non-trainable params: 64\n",
            "_________________________________________________________________\n"
          ],
          "name": "stdout"
        }
      ]
    },
    {
      "cell_type": "code",
      "metadata": {
        "id": "KnJCj9v7yeli",
        "colab_type": "code",
        "colab": {}
      },
      "source": [
        "# Compiling Model\n",
        "model.compile(optimizer=adam,\n",
        "              loss='sparse_categorical_crossentropy',\n",
        "              metrics=['accuracy'])"
      ],
      "execution_count": null,
      "outputs": []
    },
    {
      "cell_type": "code",
      "metadata": {
        "id": "hJ5aIsQHyerk",
        "colab_type": "code",
        "colab": {
          "base_uri": "https://localhost:8080/",
          "height": 752
        },
        "outputId": "8edc3812-2674-48a5-abc0-a6078b127512"
      },
      "source": [
        "# Fit Model\n",
        "History = model.fit(x_train, y_train, \n",
        "          batch_size=batch_size,\n",
        "          epochs = epochs,\n",
        "          validation_data = (val_x, val_y),\n",
        "          callbacks = [es,md],\n",
        "          shuffle= True\n",
        "        )"
      ],
      "execution_count": null,
      "outputs": [
        {
          "output_type": "stream",
          "text": [
            "Epoch 1/10\n",
            "250/263 [===========================>..] - ETA: 0s - loss: 0.5163 - accuracy: 0.8127\n",
            "Epoch 00001: loss did not improve from 0.18265\n",
            "263/263 [==============================] - 1s 5ms/step - loss: 0.5104 - accuracy: 0.8143 - val_loss: 1.2156 - val_accuracy: 0.8538\n",
            "Epoch 2/10\n",
            "248/263 [===========================>..] - ETA: 0s - loss: 0.3420 - accuracy: 0.8732\n",
            "Epoch 00002: loss did not improve from 0.18265\n",
            "263/263 [==============================] - 1s 4ms/step - loss: 0.3422 - accuracy: 0.8732 - val_loss: 0.4603 - val_accuracy: 0.8765\n",
            "Epoch 3/10\n",
            "260/263 [============================>.] - ETA: 0s - loss: 0.2879 - accuracy: 0.8923\n",
            "Epoch 00003: loss did not improve from 0.18265\n",
            "263/263 [==============================] - 1s 4ms/step - loss: 0.2878 - accuracy: 0.8922 - val_loss: 0.3128 - val_accuracy: 0.8855\n",
            "Epoch 4/10\n",
            "249/263 [===========================>..] - ETA: 0s - loss: 0.2560 - accuracy: 0.9052\n",
            "Epoch 00004: loss did not improve from 0.18265\n",
            "263/263 [==============================] - 1s 5ms/step - loss: 0.2562 - accuracy: 0.9049 - val_loss: 0.2913 - val_accuracy: 0.8937\n",
            "Epoch 5/10\n",
            "261/263 [============================>.] - ETA: 0s - loss: 0.2239 - accuracy: 0.9156\n",
            "Epoch 00005: loss did not improve from 0.18265\n",
            "263/263 [==============================] - 1s 4ms/step - loss: 0.2241 - accuracy: 0.9155 - val_loss: 0.2771 - val_accuracy: 0.8951\n",
            "Epoch 6/10\n",
            "251/263 [===========================>..] - ETA: 0s - loss: 0.1993 - accuracy: 0.9246\n",
            "Epoch 00006: loss did not improve from 0.18265\n",
            "263/263 [==============================] - 1s 4ms/step - loss: 0.1997 - accuracy: 0.9242 - val_loss: 0.2747 - val_accuracy: 0.9019\n",
            "Epoch 7/10\n",
            "260/263 [============================>.] - ETA: 0s - loss: 0.1844 - accuracy: 0.9304\n",
            "Epoch 00007: loss did not improve from 0.18265\n",
            "263/263 [==============================] - 1s 4ms/step - loss: 0.1843 - accuracy: 0.9306 - val_loss: 0.2810 - val_accuracy: 0.9004\n",
            "Epoch 8/10\n",
            "261/263 [============================>.] - ETA: 0s - loss: 0.1632 - accuracy: 0.9399\n",
            "Epoch 00008: loss improved from 0.18265 to 0.16313, saving model to /content/drive/My Drive/Colab Notebooks/Model/bestmodel.h5\n",
            "263/263 [==============================] - 2s 9ms/step - loss: 0.1631 - accuracy: 0.9400 - val_loss: 0.2830 - val_accuracy: 0.9014\n",
            "Epoch 9/10\n",
            "256/263 [============================>.] - ETA: 0s - loss: 0.1439 - accuracy: 0.9454\n",
            "Epoch 00009: loss improved from 0.16313 to 0.14438, saving model to /content/drive/My Drive/Colab Notebooks/Model/bestmodel.h5\n",
            "263/263 [==============================] - 1s 5ms/step - loss: 0.1444 - accuracy: 0.9451 - val_loss: 0.2832 - val_accuracy: 0.9073\n",
            "Epoch 10/10\n",
            "251/263 [===========================>..] - ETA: 0s - loss: 0.1296 - accuracy: 0.9514\n",
            "Epoch 00010: loss improved from 0.14438 to 0.13081, saving model to /content/drive/My Drive/Colab Notebooks/Model/bestmodel.h5\n",
            "263/263 [==============================] - 1s 4ms/step - loss: 0.1308 - accuracy: 0.9507 - val_loss: 0.3152 - val_accuracy: 0.9004\n"
          ],
          "name": "stdout"
        }
      ]
    },
    {
      "cell_type": "code",
      "metadata": {
        "id": "5XVxLOobyeyI",
        "colab_type": "code",
        "colab": {
          "base_uri": "https://localhost:8080/",
          "height": 283
        },
        "outputId": "7ad94cf5-f8e5-4536-8b35-b844d02b60f3"
      },
      "source": [
        "# Plot loss per iteration\n",
        "import matplotlib.pyplot as plt\n",
        "plt.plot(History.history['loss'], label='loss')\n",
        "plt.plot(History.history['val_loss'], label='val_loss')\n",
        "plt.legend()"
      ],
      "execution_count": null,
      "outputs": [
        {
          "output_type": "execute_result",
          "data": {
            "text/plain": [
              "<matplotlib.legend.Legend at 0x7fc47e2d8630>"
            ]
          },
          "metadata": {
            "tags": []
          },
          "execution_count": 62
        },
        {
          "output_type": "display_data",
          "data": {
            "image/png": "[encoded data removed]",
            "text/plain": [
              "<Figure size 432x288 with 1 Axes>"
            ]
          },
          "metadata": {
            "tags": [],
            "needs_background": "light"
          }
        }
      ]
    },
    {
      "cell_type": "code",
      "metadata": {
        "id": "6Zk21Jq4ye3o",
        "colab_type": "code",
        "colab": {
          "base_uri": "https://localhost:8080/",
          "height": 283
        },
        "outputId": "8266956f-747f-49f1-cb35-22bdca71f53d"
      },
      "source": [
        "# Plot accuracy per iteration\n",
        "plt.plot(History.history['accuracy'], label='acc')\n",
        "plt.plot(History.history['val_accuracy'], label='val_acc')\n",
        "plt.legend()"
      ],
      "execution_count": null,
      "outputs": [
        {
          "output_type": "execute_result",
          "data": {
            "text/plain": [
              "<matplotlib.legend.Legend at 0x7fc47e2e3278>"
            ]
          },
          "metadata": {
            "tags": []
          },
          "execution_count": 63
        },
        {
          "output_type": "display_data",
          "data": {
            "image/png": "[encoded data removed]",
            "text/plain": [
              "<Figure size 432x288 with 1 Axes>"
            ]
          },
          "metadata": {
            "tags": [],
            "needs_background": "light"
          }
        }
      ]
    },
    {
      "cell_type": "markdown",
      "metadata": {
        "id": "XFhVK_KEye9r",
        "colab_type": "text"
      },
      "source": [
        "## **5. Loading Model and Making Prediction**"
      ]
    },
    {
      "cell_type": "code",
      "metadata": {
        "id": "iPkvo7WCyfDS",
        "colab_type": "code",
        "colab": {
          "base_uri": "https://localhost:8080/",
          "height": 495
        },
        "outputId": "a91090aa-fea9-4a6c-efe1-2925b82cc29c"
      },
      "source": [
        "model1 = load_model(filepath)\n",
        "model1.summary()"
      ],
      "execution_count": null,
      "outputs": [
        {
          "output_type": "stream",
          "text": [
            "Model: \"model_4\"\n",
            "_________________________________________________________________\n",
            "Layer (type)                 Output Shape              Param #   \n",
            "=================================================================\n",
            "input_5 (InputLayer)         [(None, 28, 28, 1)]       0         \n",
            "_________________________________________________________________\n",
            "conv2d_12 (Conv2D)           (None, 13, 13, 32)        320       \n",
            "_________________________________________________________________\n",
            "batch_normalization_8 (Batch (None, 13, 13, 32)        128       \n",
            "_________________________________________________________________\n",
            "conv2d_13 (Conv2D)           (None, 6, 6, 64)          18496     \n",
            "_________________________________________________________________\n",
            "flatten_4 (Flatten)          (None, 2304)              0         \n",
            "_________________________________________________________________\n",
            "dropout_8 (Dropout)          (None, 2304)              0         \n",
            "_________________________________________________________________\n",
            "dense_8 (Dense)              (None, 512)               1180160   \n",
            "_________________________________________________________________\n",
            "dropout_9 (Dropout)          (None, 512)               0         \n",
            "_________________________________________________________________\n",
            "dense_9 (Dense)              (None, 10)                5130      \n",
            "=================================================================\n",
            "Total params: 1,204,234\n",
            "Trainable params: 1,204,170\n",
            "Non-trainable params: 64\n",
            "_________________________________________________________________\n"
          ],
          "name": "stdout"
        }
      ]
    },
    {
      "cell_type": "code",
      "metadata": {
        "id": "4cTuusfIcZ8F",
        "colab_type": "code",
        "colab": {
          "base_uri": "https://localhost:8080/",
          "height": 495
        },
        "outputId": "efc151c8-beeb-4586-da81-e30b20ce6d6b"
      },
      "source": [
        "def plot_confusion_matrix(cm, classes,\n",
        "                          title='Confusion matrix',\n",
        "                          cmap=plt.cm.Blues):\n",
        "  print(cm)\n",
        "\n",
        "  plt.imshow(cm, interpolation='nearest', cmap=cmap)\n",
        "  plt.title(title)\n",
        "  plt.colorbar()\n",
        "  tick_marks = np.arange(len(classes))\n",
        "  plt.xticks(tick_marks, classes, rotation=45)\n",
        "  plt.yticks(tick_marks, classes)\n",
        "\n",
        "  fmt = 'd'\n",
        "  thresh = cm.max() / 2.\n",
        "  for i, j in itertools.product(range(cm.shape[0]), range(cm.shape[1])):\n",
        "      plt.text(j, i, format(cm[i, j], fmt),\n",
        "               horizontalalignment=\"center\",\n",
        "               color=\"white\" if cm[i, j] > thresh else \"black\")\n",
        "\n",
        "  plt.tight_layout()\n",
        "  plt.ylabel('True label')\n",
        "  plt.xlabel('Predicted label')\n",
        "  plt.show()\n",
        "\n",
        "\n",
        "p_test = model1.predict(x_test).argmax(axis=1)\n",
        "cm = confusion_matrix(y_test, p_test)\n",
        "plot_confusion_matrix(cm, list(range(10)))"
      ],
      "execution_count": null,
      "outputs": [
        {
          "output_type": "stream",
          "text": [
            "[[822   1  27  11   4   3 125   0   7   0]\n",
            " [  0 981   1  13   1   0   2   0   2   0]\n",
            " [ 16   2 866   3  47   1  65   0   0   0]\n",
            " [ 15  20  27 857  37   0  43   0   1   0]\n",
            " [  0   0  77  17 832   1  72   0   1   0]\n",
            " [  0   0   0   0   0 987   0  12   0   1]\n",
            " [ 88   3  65  20  52   0 754   0  18   0]\n",
            " [  0   0   0   0   0  12   0 981   0   7]\n",
            " [  2   1   4   2   3   5   7   4 972   0]\n",
            " [  0   0   0   0   0  18   0  60   1 921]]\n"
          ],
          "name": "stdout"
        },
        {
          "output_type": "display_data",
          "data": {
            "image/png": "[encoded data removed]",
            "text/plain": [
              "<Figure size 432x288 with 2 Axes>"
            ]
          },
          "metadata": {
            "tags": [],
            "needs_background": "light"
          }
        }
      ]
    },
    {
      "cell_type": "code",
      "metadata": {
        "id": "5hXeEMKatBbL",
        "colab_type": "code",
        "colab": {}
      },
      "source": [
        ""
      ],
      "execution_count": null,
      "outputs": []
    }
  ]
}