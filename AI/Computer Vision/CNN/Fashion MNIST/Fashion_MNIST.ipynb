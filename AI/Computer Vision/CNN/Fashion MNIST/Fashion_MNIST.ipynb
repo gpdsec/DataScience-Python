{
  "nbformat": 4,
  "nbformat_minor": 0,
  "metadata": {
    "colab": {
      "name": "Fashion_MNIST.ipynb",
      "provenance": [],
      "collapsed_sections": []
    },
    "kernelspec": {
      "name": "python3",
      "display_name": "Python 3"
    },
    "accelerator": "GPU"
  },
  "cells": [
    {
      "cell_type": "markdown",
      "metadata": {
        "id": "zccG6NFayPEN",
        "colab_type": "text"
      },
      "source": [
        "## **1. Importing Libraries**"
      ]
    },
    {
      "cell_type": "code",
      "metadata": {
        "id": "LJS0A9V_rvB-",
        "colab_type": "code",
        "colab": {
          "base_uri": "https://localhost:8080/",
          "height": 74
        },
        "outputId": "6a5f6a50-06a7-49d2-a04b-395ca361c12b"
      },
      "source": [
        "import tensorflow as tf\n",
        "import pandas as pd\n",
        "import numpy as np\n",
        "from tensorflow.keras.models import Model, load_model\n",
        "from tensorflow.keras.layers import Input, Conv2D, Dense, Flatten, BatchNormalization, Dropout, MaxPooling2D, GlobalMaxPooling2D\n",
        "from tensorflow.keras.callbacks import ModelCheckpoint, EarlyStopping\n",
        "from tensorflow.keras.preprocessing.image import ImageDataGenerator\n",
        "from tensorflow.keras.datasets import fashion_mnist\n",
        "from sklearn.model_selection import train_test_split\n",
        "from sklearn.metrics import confusion_matrix\n",
        "import itertools\n",
        "import matplotlib.pyplot as plt\n",
        "import seaborn as sbn\n",
        "%matplotlib inline"
      ],
      "execution_count": 1,
      "outputs": [
        {
          "output_type": "stream",
          "text": [
            "/usr/local/lib/python3.6/dist-packages/statsmodels/tools/_testing.py:19: FutureWarning: pandas.util.testing is deprecated. Use the functions in the public API at pandas.testing instead.\n",
            "  import pandas.util.testing as tm\n"
          ],
          "name": "stderr"
        }
      ]
    },
    {
      "cell_type": "markdown",
      "metadata": {
        "id": "XbHi1wJjyN92",
        "colab_type": "text"
      },
      "source": [
        "## **2. Loading and Processing Data**"
      ]
    },
    {
      "cell_type": "code",
      "metadata": {
        "id": "CNf4QmONydfz",
        "colab_type": "code",
        "colab": {
          "base_uri": "https://localhost:8080/",
          "height": 182
        },
        "outputId": "20a97860-cd37-49fd-e78f-69d0d1bb55d7"
      },
      "source": [
        "(x_train, y_train), (x_test, y_test) = fashion_mnist.load_data()\n",
        "x_train, x_test = x_train / 255.0, x_test / 255.0\n",
        "x_train.shape, x_test.shape"
      ],
      "execution_count": 2,
      "outputs": [
        {
          "output_type": "stream",
          "text": [
            "Downloading data from https://storage.googleapis.com/tensorflow/tf-keras-datasets/train-labels-idx1-ubyte.gz\n",
            "32768/29515 [=================================] - 0s 0us/step\n",
            "Downloading data from https://storage.googleapis.com/tensorflow/tf-keras-datasets/train-images-idx3-ubyte.gz\n",
            "26427392/26421880 [==============================] - 0s 0us/step\n",
            "Downloading data from https://storage.googleapis.com/tensorflow/tf-keras-datasets/t10k-labels-idx1-ubyte.gz\n",
            "8192/5148 [===============================================] - 0s 0us/step\n",
            "Downloading data from https://storage.googleapis.com/tensorflow/tf-keras-datasets/t10k-images-idx3-ubyte.gz\n",
            "4423680/4422102 [==============================] - 0s 0us/step\n"
          ],
          "name": "stdout"
        },
        {
          "output_type": "execute_result",
          "data": {
            "text/plain": [
              "((60000, 28, 28), (10000, 28, 28))"
            ]
          },
          "metadata": {
            "tags": []
          },
          "execution_count": 2
        }
      ]
    },
    {
      "cell_type": "code",
      "metadata": {
        "id": "PViOjxXEyds0",
        "colab_type": "code",
        "colab": {
          "base_uri": "https://localhost:8080/",
          "height": 35
        },
        "outputId": "825d5f1e-5510-4f90-e0e2-bea7665cce70"
      },
      "source": [
        "## Adding color dimention to data\n",
        "x_train = np.expand_dims(x_train, -1)\n",
        "x_test = np.expand_dims(x_test, -1)\n",
        "x_train.shape, x_test.shape"
      ],
      "execution_count": 3,
      "outputs": [
        {
          "output_type": "execute_result",
          "data": {
            "text/plain": [
              "((60000, 28, 28, 1), (10000, 28, 28, 1))"
            ]
          },
          "metadata": {
            "tags": []
          },
          "execution_count": 3
        }
      ]
    },
    {
      "cell_type": "code",
      "metadata": {
        "id": "H4tn-XQfyd1l",
        "colab_type": "code",
        "colab": {
          "base_uri": "https://localhost:8080/",
          "height": 302
        },
        "outputId": "d80b9544-37c5-4206-ffed-0dac049f7cfe"
      },
      "source": [
        "K = len(set(y_train))      ###### Number Of Labels\n",
        "print(K)\n",
        "sbn.countplot(y_train)"
      ],
      "execution_count": 4,
      "outputs": [
        {
          "output_type": "stream",
          "text": [
            "10\n"
          ],
          "name": "stdout"
        },
        {
          "output_type": "execute_result",
          "data": {
            "text/plain": [
              "<matplotlib.axes._subplots.AxesSubplot at 0x7f3c5ae1c710>"
            ]
          },
          "metadata": {
            "tags": []
          },
          "execution_count": 4
        },
        {
          "output_type": "display_data",
          "data": {
            "image/png": "[encoded data removed]",
            "text/plain": [
              "<Figure size 432x288 with 1 Axes>"
            ]
          },
          "metadata": {
            "tags": [],
            "needs_background": "light"
          }
        }
      ]
    },
    {
      "cell_type": "code",
      "metadata": {
        "id": "mXDuYf7qyd9n",
        "colab_type": "code",
        "colab": {}
      },
      "source": [
        "# Spliting X_train Set into training set and validation test\n",
        "x_train, val_x, y_train, val_y = train_test_split(x_train, y_train, test_size=0.20)"
      ],
      "execution_count": 5,
      "outputs": []
    },
    {
      "cell_type": "markdown",
      "metadata": {
        "id": "uJdqg8D5yeFR",
        "colab_type": "text"
      },
      "source": [
        "## **3. Some Variables and Traps**"
      ]
    },
    {
      "cell_type": "code",
      "metadata": {
        "id": "MpzD8nc-yeSm",
        "colab_type": "code",
        "colab": {}
      },
      "source": [
        "es = EarlyStopping(monitor='loss', patience=12)\n",
        "filepath=\"/content/drive/My Drive/Colab Notebooks/Model/bestmodel.h5\"\n",
        "md = ModelCheckpoint(filepath, monitor='loss', verbose=1, save_best_only=True, mode='min')"
      ],
      "execution_count": 6,
      "outputs": []
    },
    {
      "cell_type": "code",
      "metadata": {
        "id": "fpWmAuaE3Ub3",
        "colab_type": "code",
        "colab": {}
      },
      "source": [
        "# Important Variables\n",
        "epochs = 10\n",
        "batch_size = 128\n",
        "input_shape = (28, 28, 1)\n",
        "adam = tf.keras.optimizers.Adam(0.001)"
      ],
      "execution_count": 7,
      "outputs": []
    },
    {
      "cell_type": "markdown",
      "metadata": {
        "id": "m_k0YwmmyeZU",
        "colab_type": "text"
      },
      "source": [
        "## **4. Building Model with Basic Functional API**"
      ]
    },
    {
      "cell_type": "code",
      "metadata": {
        "id": "vQUGToSJyefH",
        "colab_type": "code",
        "colab": {
          "base_uri": "https://localhost:8080/",
          "height": 935
        },
        "outputId": "33219618-53ce-4c47-a1e6-7608048c0de3"
      },
      "source": [
        "\n",
        "\n",
        "i = Input(shape=input_shape)\n",
        "x = Conv2D(32, (3, 3), activation='relu', padding='same')(i)\n",
        "x = BatchNormalization()(x)\n",
        "x = Conv2D(32, (3, 3), activation='relu', padding='same')(x)\n",
        "x = BatchNormalization()(x)\n",
        "x = MaxPooling2D((2, 2))(x)\n",
        "x = Conv2D(64, (3, 3), activation='relu', padding='same')(x)\n",
        "x = BatchNormalization()(x)\n",
        "x = Conv2D(64, (3, 3), activation='relu', padding='same')(x)\n",
        "x = BatchNormalization()(x)\n",
        "x = MaxPooling2D((2, 2))(x)\n",
        "x = Conv2D(128, (3, 3), activation='relu', padding='same')(x)\n",
        "x = BatchNormalization()(x)\n",
        "x = Conv2D(128, (3, 3), activation='relu', padding='same')(x)\n",
        "x = BatchNormalization()(x)\n",
        "x = MaxPooling2D((2, 2))(x)\n",
        "\n",
        "# x = GlobalMaxPooling2D()(x)\n",
        "x = Flatten()(x)\n",
        "x = Dropout(0.2)(x)\n",
        "x = Dense(1024, activation='relu')(x)\n",
        "x = Dropout(0.2)(x)\n",
        "x = Dense(K, activation='softmax')(x)\n",
        "\n",
        "model = Model(i, x)\n",
        "model.summary()\n"
      ],
      "execution_count": 8,
      "outputs": [
        {
          "output_type": "stream",
          "text": [
            "Model: \"functional_1\"\n",
            "_________________________________________________________________\n",
            "Layer (type)                 Output Shape              Param #   \n",
            "=================================================================\n",
            "input_1 (InputLayer)         [(None, 28, 28, 1)]       0         \n",
            "_________________________________________________________________\n",
            "conv2d (Conv2D)              (None, 28, 28, 32)        320       \n",
            "_________________________________________________________________\n",
            "batch_normalization (BatchNo (None, 28, 28, 32)        128       \n",
            "_________________________________________________________________\n",
            "conv2d_1 (Conv2D)            (None, 28, 28, 32)        9248      \n",
            "_________________________________________________________________\n",
            "batch_normalization_1 (Batch (None, 28, 28, 32)        128       \n",
            "_________________________________________________________________\n",
            "max_pooling2d (MaxPooling2D) (None, 14, 14, 32)        0         \n",
            "_________________________________________________________________\n",
            "conv2d_2 (Conv2D)            (None, 14, 14, 64)        18496     \n",
            "_________________________________________________________________\n",
            "batch_normalization_2 (Batch (None, 14, 14, 64)        256       \n",
            "_________________________________________________________________\n",
            "conv2d_3 (Conv2D)            (None, 14, 14, 64)        36928     \n",
            "_________________________________________________________________\n",
            "batch_normalization_3 (Batch (None, 14, 14, 64)        256       \n",
            "_________________________________________________________________\n",
            "max_pooling2d_1 (MaxPooling2 (None, 7, 7, 64)          0         \n",
            "_________________________________________________________________\n",
            "conv2d_4 (Conv2D)            (None, 7, 7, 128)         73856     \n",
            "_________________________________________________________________\n",
            "batch_normalization_4 (Batch (None, 7, 7, 128)         512       \n",
            "_________________________________________________________________\n",
            "conv2d_5 (Conv2D)            (None, 7, 7, 128)         147584    \n",
            "_________________________________________________________________\n",
            "batch_normalization_5 (Batch (None, 7, 7, 128)         512       \n",
            "_________________________________________________________________\n",
            "max_pooling2d_2 (MaxPooling2 (None, 3, 3, 128)         0         \n",
            "_________________________________________________________________\n",
            "flatten (Flatten)            (None, 1152)              0         \n",
            "_________________________________________________________________\n",
            "dropout (Dropout)            (None, 1152)              0         \n",
            "_________________________________________________________________\n",
            "dense (Dense)                (None, 1024)              1180672   \n",
            "_________________________________________________________________\n",
            "dropout_1 (Dropout)          (None, 1024)              0         \n",
            "_________________________________________________________________\n",
            "dense_1 (Dense)              (None, 10)                10250     \n",
            "=================================================================\n",
            "Total params: 1,479,146\n",
            "Trainable params: 1,478,250\n",
            "Non-trainable params: 896\n",
            "_________________________________________________________________\n"
          ],
          "name": "stdout"
        }
      ]
    },
    {
      "cell_type": "code",
      "metadata": {
        "id": "KnJCj9v7yeli",
        "colab_type": "code",
        "colab": {}
      },
      "source": [
        "# Compiling Model\n",
        "model.compile(optimizer=adam,\n",
        "              loss='sparse_categorical_crossentropy',\n",
        "              metrics=['accuracy'])"
      ],
      "execution_count": 9,
      "outputs": []
    },
    {
      "cell_type": "code",
      "metadata": {
        "id": "hJ5aIsQHyerk",
        "colab_type": "code",
        "colab": {
          "base_uri": "https://localhost:8080/",
          "height": 752
        },
        "outputId": "63c94025-84ac-45c6-c552-109155f4ee0b"
      },
      "source": [
        "# Fit Model\n",
        "History = model.fit(x_train, y_train, \n",
        "          batch_size=batch_size,\n",
        "          epochs = epochs,\n",
        "          validation_data = (val_x, val_y),\n",
        "          callbacks = [es,md],\n",
        "          shuffle= True\n",
        "        )"
      ],
      "execution_count": 10,
      "outputs": [
        {
          "output_type": "stream",
          "text": [
            "Epoch 1/10\n",
            "372/375 [============================>.] - ETA: 0s - loss: 0.4757 - accuracy: 0.8393\n",
            "Epoch 00001: loss improved from inf to 0.47447, saving model to /content/drive/My Drive/Colab Notebooks/Model/bestmodel.h5\n",
            "375/375 [==============================] - 7s 19ms/step - loss: 0.4745 - accuracy: 0.8396 - val_loss: 1.9319 - val_accuracy: 0.3797\n",
            "Epoch 2/10\n",
            "372/375 [============================>.] - ETA: 0s - loss: 0.2677 - accuracy: 0.9003\n",
            "Epoch 00002: loss improved from 0.47447 to 0.26764, saving model to /content/drive/My Drive/Colab Notebooks/Model/bestmodel.h5\n",
            "375/375 [==============================] - 5s 14ms/step - loss: 0.2676 - accuracy: 0.9003 - val_loss: 0.2544 - val_accuracy: 0.9057\n",
            "Epoch 3/10\n",
            "371/375 [============================>.] - ETA: 0s - loss: 0.2210 - accuracy: 0.9200\n",
            "Epoch 00003: loss improved from 0.26764 to 0.22131, saving model to /content/drive/My Drive/Colab Notebooks/Model/bestmodel.h5\n",
            "375/375 [==============================] - 5s 13ms/step - loss: 0.2213 - accuracy: 0.9200 - val_loss: 0.2360 - val_accuracy: 0.9128\n",
            "Epoch 4/10\n",
            "372/375 [============================>.] - ETA: 0s - loss: 0.1976 - accuracy: 0.9266\n",
            "Epoch 00004: loss improved from 0.22131 to 0.19741, saving model to /content/drive/My Drive/Colab Notebooks/Model/bestmodel.h5\n",
            "375/375 [==============================] - 5s 13ms/step - loss: 0.1974 - accuracy: 0.9268 - val_loss: 0.2359 - val_accuracy: 0.9121\n",
            "Epoch 5/10\n",
            "374/375 [============================>.] - ETA: 0s - loss: 0.1706 - accuracy: 0.9369\n",
            "Epoch 00005: loss improved from 0.19741 to 0.17052, saving model to /content/drive/My Drive/Colab Notebooks/Model/bestmodel.h5\n",
            "375/375 [==============================] - 5s 13ms/step - loss: 0.1705 - accuracy: 0.9369 - val_loss: 0.2576 - val_accuracy: 0.9078\n",
            "Epoch 6/10\n",
            "372/375 [============================>.] - ETA: 0s - loss: 0.1522 - accuracy: 0.9441\n",
            "Epoch 00006: loss improved from 0.17052 to 0.15237, saving model to /content/drive/My Drive/Colab Notebooks/Model/bestmodel.h5\n",
            "375/375 [==============================] - 5s 13ms/step - loss: 0.1524 - accuracy: 0.9440 - val_loss: 0.2556 - val_accuracy: 0.9103\n",
            "Epoch 7/10\n",
            "373/375 [============================>.] - ETA: 0s - loss: 0.1369 - accuracy: 0.9493\n",
            "Epoch 00007: loss improved from 0.15237 to 0.13690, saving model to /content/drive/My Drive/Colab Notebooks/Model/bestmodel.h5\n",
            "375/375 [==============================] - 5s 13ms/step - loss: 0.1369 - accuracy: 0.9493 - val_loss: 0.2125 - val_accuracy: 0.9243\n",
            "Epoch 8/10\n",
            "371/375 [============================>.] - ETA: 0s - loss: 0.1180 - accuracy: 0.9558\n",
            "Epoch 00008: loss improved from 0.13690 to 0.11852, saving model to /content/drive/My Drive/Colab Notebooks/Model/bestmodel.h5\n",
            "375/375 [==============================] - 5s 13ms/step - loss: 0.1185 - accuracy: 0.9558 - val_loss: 0.2997 - val_accuracy: 0.9083\n",
            "Epoch 9/10\n",
            "372/375 [============================>.] - ETA: 0s - loss: 0.1030 - accuracy: 0.9609\n",
            "Epoch 00009: loss improved from 0.11852 to 0.10293, saving model to /content/drive/My Drive/Colab Notebooks/Model/bestmodel.h5\n",
            "375/375 [==============================] - 5s 14ms/step - loss: 0.1029 - accuracy: 0.9610 - val_loss: 0.2640 - val_accuracy: 0.9233\n",
            "Epoch 10/10\n",
            "372/375 [============================>.] - ETA: 0s - loss: 0.0974 - accuracy: 0.9636\n",
            "Epoch 00010: loss improved from 0.10293 to 0.09757, saving model to /content/drive/My Drive/Colab Notebooks/Model/bestmodel.h5\n",
            "375/375 [==============================] - 5s 14ms/step - loss: 0.0976 - accuracy: 0.9635 - val_loss: 0.2436 - val_accuracy: 0.9237\n"
          ],
          "name": "stdout"
        }
      ]
    },
    {
      "cell_type": "code",
      "metadata": {
        "id": "5XVxLOobyeyI",
        "colab_type": "code",
        "colab": {
          "base_uri": "https://localhost:8080/",
          "height": 285
        },
        "outputId": "d70d2bba-5646-42b8-c578-20e3976b5fab"
      },
      "source": [
        "# Plot loss per iteration\n",
        "import matplotlib.pyplot as plt\n",
        "plt.plot(History.history['loss'], label='loss')\n",
        "plt.plot(History.history['val_loss'], label='val_loss')\n",
        "plt.legend()"
      ],
      "execution_count": 11,
      "outputs": [
        {
          "output_type": "execute_result",
          "data": {
            "text/plain": [
              "<matplotlib.legend.Legend at 0x7f3bfe1500b8>"
            ]
          },
          "metadata": {
            "tags": []
          },
          "execution_count": 11
        },
        {
          "output_type": "display_data",
          "data": {
            "image/png": "[encoded data removed]",
            "text/plain": [
              "<Figure size 432x288 with 1 Axes>"
            ]
          },
          "metadata": {
            "tags": [],
            "needs_background": "light"
          }
        }
      ]
    },
    {
      "cell_type": "code",
      "metadata": {
        "id": "6Zk21Jq4ye3o",
        "colab_type": "code",
        "colab": {
          "base_uri": "https://localhost:8080/",
          "height": 283
        },
        "outputId": "9b885d3b-9c10-485c-97ed-0bc9e3dc0213"
      },
      "source": [
        "# Plot accuracy per iteration\n",
        "plt.plot(History.history['accuracy'], label='acc')\n",
        "plt.plot(History.history['val_accuracy'], label='val_acc')\n",
        "plt.legend()"
      ],
      "execution_count": 12,
      "outputs": [
        {
          "output_type": "execute_result",
          "data": {
            "text/plain": [
              "<matplotlib.legend.Legend at 0x7f3bfe13bb70>"
            ]
          },
          "metadata": {
            "tags": []
          },
          "execution_count": 12
        },
        {
          "output_type": "display_data",
          "data": {
            "image/png": "[encoded data removed]",
            "text/plain": [
              "<Figure size 432x288 with 1 Axes>"
            ]
          },
          "metadata": {
            "tags": [],
            "needs_background": "light"
          }
        }
      ]
    },
    {
      "cell_type": "markdown",
      "metadata": {
        "id": "XFhVK_KEye9r",
        "colab_type": "text"
      },
      "source": [
        "## **5. Loading Model and Making Prediction**"
      ]
    },
    {
      "cell_type": "code",
      "metadata": {
        "id": "iPkvo7WCyfDS",
        "colab_type": "code",
        "colab": {
          "base_uri": "https://localhost:8080/",
          "height": 935
        },
        "outputId": "918fe61a-a931-41f9-97c8-bbef9b9155af"
      },
      "source": [
        "model1 = load_model(filepath)\n",
        "model1.summary()"
      ],
      "execution_count": 13,
      "outputs": [
        {
          "output_type": "stream",
          "text": [
            "Model: \"functional_1\"\n",
            "_________________________________________________________________\n",
            "Layer (type)                 Output Shape              Param #   \n",
            "=================================================================\n",
            "input_1 (InputLayer)         [(None, 28, 28, 1)]       0         \n",
            "_________________________________________________________________\n",
            "conv2d (Conv2D)              (None, 28, 28, 32)        320       \n",
            "_________________________________________________________________\n",
            "batch_normalization (BatchNo (None, 28, 28, 32)        128       \n",
            "_________________________________________________________________\n",
            "conv2d_1 (Conv2D)            (None, 28, 28, 32)        9248      \n",
            "_________________________________________________________________\n",
            "batch_normalization_1 (Batch (None, 28, 28, 32)        128       \n",
            "_________________________________________________________________\n",
            "max_pooling2d (MaxPooling2D) (None, 14, 14, 32)        0         \n",
            "_________________________________________________________________\n",
            "conv2d_2 (Conv2D)            (None, 14, 14, 64)        18496     \n",
            "_________________________________________________________________\n",
            "batch_normalization_2 (Batch (None, 14, 14, 64)        256       \n",
            "_________________________________________________________________\n",
            "conv2d_3 (Conv2D)            (None, 14, 14, 64)        36928     \n",
            "_________________________________________________________________\n",
            "batch_normalization_3 (Batch (None, 14, 14, 64)        256       \n",
            "_________________________________________________________________\n",
            "max_pooling2d_1 (MaxPooling2 (None, 7, 7, 64)          0         \n",
            "_________________________________________________________________\n",
            "conv2d_4 (Conv2D)            (None, 7, 7, 128)         73856     \n",
            "_________________________________________________________________\n",
            "batch_normalization_4 (Batch (None, 7, 7, 128)         512       \n",
            "_________________________________________________________________\n",
            "conv2d_5 (Conv2D)            (None, 7, 7, 128)         147584    \n",
            "_________________________________________________________________\n",
            "batch_normalization_5 (Batch (None, 7, 7, 128)         512       \n",
            "_________________________________________________________________\n",
            "max_pooling2d_2 (MaxPooling2 (None, 3, 3, 128)         0         \n",
            "_________________________________________________________________\n",
            "flatten (Flatten)            (None, 1152)              0         \n",
            "_________________________________________________________________\n",
            "dropout (Dropout)            (None, 1152)              0         \n",
            "_________________________________________________________________\n",
            "dense (Dense)                (None, 1024)              1180672   \n",
            "_________________________________________________________________\n",
            "dropout_1 (Dropout)          (None, 1024)              0         \n",
            "_________________________________________________________________\n",
            "dense_1 (Dense)              (None, 10)                10250     \n",
            "=================================================================\n",
            "Total params: 1,479,146\n",
            "Trainable params: 1,478,250\n",
            "Non-trainable params: 896\n",
            "_________________________________________________________________\n"
          ],
          "name": "stdout"
        }
      ]
    },
    {
      "cell_type": "code",
      "metadata": {
        "id": "4cTuusfIcZ8F",
        "colab_type": "code",
        "colab": {
          "base_uri": "https://localhost:8080/",
          "height": 495
        },
        "outputId": "92955c6d-d795-4dd6-b797-c8b2a5d79aad"
      },
      "source": [
        "def plot_confusion_matrix(cm, classes,\n",
        "                          title='Confusion matrix',\n",
        "                          cmap=plt.cm.Blues):\n",
        "  print(cm)\n",
        "\n",
        "  plt.imshow(cm, interpolation='nearest', cmap=cmap)\n",
        "  plt.title(title)\n",
        "  plt.colorbar()\n",
        "  tick_marks = np.arange(len(classes))\n",
        "  plt.xticks(tick_marks, classes, rotation=45)\n",
        "  plt.yticks(tick_marks, classes)\n",
        "\n",
        "  fmt = 'd'\n",
        "  thresh = cm.max() / 2.\n",
        "  for i, j in itertools.product(range(cm.shape[0]), range(cm.shape[1])):\n",
        "      plt.text(j, i, format(cm[i, j], fmt),\n",
        "               horizontalalignment=\"center\",\n",
        "               color=\"white\" if cm[i, j] > thresh else \"black\")\n",
        "\n",
        "  plt.tight_layout()\n",
        "  plt.ylabel('True label')\n",
        "  plt.xlabel('Predicted label')\n",
        "  plt.show()\n",
        "\n",
        "\n",
        "p_test = model1.predict(x_test).argmax(axis=1)\n",
        "cm = confusion_matrix(y_test, p_test)\n",
        "plot_confusion_matrix(cm, list(range(10)))"
      ],
      "execution_count": 14,
      "outputs": [
        {
          "output_type": "stream",
          "text": [
            "[[860   1  13  16   0   0  94   0  16   0]\n",
            " [  0 992   0   5   0   0   1   0   2   0]\n",
            " [  7   1 910   8  13   0  58   0   3   0]\n",
            " [ 14  11   9 917  19   0  27   0   2   1]\n",
            " [  0   1  75  28 786   0 105   0   5   0]\n",
            " [  0   0   0   0   0 978   0  10   2  10]\n",
            " [ 86   3  55  23  35   0 782   0  16   0]\n",
            " [  0   0   0   0   0   7   0 961   0  32]\n",
            " [  1   1   1   7   0   1   0   1 988   0]\n",
            " [  0   0   1   0   0   4   0  19   0 976]]\n"
          ],
          "name": "stdout"
        },
        {
          "output_type": "display_data",
          "data": {
            "image/png": "[encoded data removed]",
            "text/plain": [
              "<Figure size 432x288 with 2 Axes>"
            ]
          },
          "metadata": {
            "tags": [],
            "needs_background": "light"
          }
        }
      ]
    },
    {
      "cell_type": "code",
      "metadata": {
        "id": "5hXeEMKatBbL",
        "colab_type": "code",
        "colab": {}
      },
      "source": [
        ""
      ],
      "execution_count": 14,
      "outputs": []
    }
  ]
}