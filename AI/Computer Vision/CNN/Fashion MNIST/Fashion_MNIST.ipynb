{
  "nbformat": 4,
  "nbformat_minor": 0,
  "metadata": {
    "colab": {
      "name": "Fashion_MNIST.ipynb",
      "provenance": [],
      "collapsed_sections": [],
      "toc_visible": true
    },
    "kernelspec": {
      "name": "python3",
      "display_name": "Python 3"
    },
    "accelerator": "GPU"
  },
  "cells": [
    {
      "cell_type": "markdown",
      "metadata": {
        "id": "zccG6NFayPEN",
        "colab_type": "text"
      },
      "source": [
        "## **1. Importing Libraries**"
      ]
    },
    {
      "cell_type": "code",
      "metadata": {
        "id": "LJS0A9V_rvB-",
        "colab_type": "code",
        "colab": {
          "base_uri": "https://localhost:8080/",
          "height": 74
        },
        "outputId": "58e00802-1094-41d0-84ba-2027efe9743f"
      },
      "source": [
        "import tensorflow as tf\n",
        "import pandas as pd\n",
        "import numpy as np\n",
        "from tensorflow.keras.models import Model, load_model\n",
        "from tensorflow.keras.layers import Input, Conv2D, Dense, Flatten, BatchNormalization, Dropout, MaxPooling2D, GlobalMaxPooling2D\n",
        "from tensorflow.keras.callbacks import ModelCheckpoint, EarlyStopping\n",
        "from tensorflow.keras.preprocessing.image import ImageDataGenerator\n",
        "from tensorflow.keras.datasets import fashion_mnist\n",
        "from sklearn.model_selection import train_test_split\n",
        "from sklearn.metrics import confusion_matrix\n",
        "import itertools\n",
        "import matplotlib.pyplot as plt\n",
        "import seaborn as sbn\n",
        "%matplotlib inline"
      ],
      "execution_count": 1,
      "outputs": [
        {
          "output_type": "stream",
          "text": [
            "/usr/local/lib/python3.6/dist-packages/statsmodels/tools/_testing.py:19: FutureWarning: pandas.util.testing is deprecated. Use the functions in the public API at pandas.testing instead.\n",
            "  import pandas.util.testing as tm\n"
          ],
          "name": "stderr"
        }
      ]
    },
    {
      "cell_type": "markdown",
      "metadata": {
        "id": "XbHi1wJjyN92",
        "colab_type": "text"
      },
      "source": [
        "## **2. Loading and Processing Data**"
      ]
    },
    {
      "cell_type": "code",
      "metadata": {
        "id": "CNf4QmONydfz",
        "colab_type": "code",
        "colab": {
          "base_uri": "https://localhost:8080/",
          "height": 182
        },
        "outputId": "1504a310-2664-4d36-b3f7-043b2aea75f8"
      },
      "source": [
        "(x_train, y_train), (x_test, y_test) = fashion_mnist.load_data()\n",
        "x_train, x_test = x_train / 255.0, x_test / 255.0\n",
        "x_train.shape, x_test.shape"
      ],
      "execution_count": 2,
      "outputs": [
        {
          "output_type": "stream",
          "text": [
            "Downloading data from https://storage.googleapis.com/tensorflow/tf-keras-datasets/train-labels-idx1-ubyte.gz\n",
            "32768/29515 [=================================] - 0s 0us/step\n",
            "Downloading data from https://storage.googleapis.com/tensorflow/tf-keras-datasets/train-images-idx3-ubyte.gz\n",
            "26427392/26421880 [==============================] - 0s 0us/step\n",
            "Downloading data from https://storage.googleapis.com/tensorflow/tf-keras-datasets/t10k-labels-idx1-ubyte.gz\n",
            "8192/5148 [===============================================] - 0s 0us/step\n",
            "Downloading data from https://storage.googleapis.com/tensorflow/tf-keras-datasets/t10k-images-idx3-ubyte.gz\n",
            "4423680/4422102 [==============================] - 0s 0us/step\n"
          ],
          "name": "stdout"
        },
        {
          "output_type": "execute_result",
          "data": {
            "text/plain": [
              "((60000, 28, 28), (10000, 28, 28))"
            ]
          },
          "metadata": {
            "tags": []
          },
          "execution_count": 2
        }
      ]
    },
    {
      "cell_type": "code",
      "metadata": {
        "id": "PViOjxXEyds0",
        "colab_type": "code",
        "colab": {
          "base_uri": "https://localhost:8080/",
          "height": 35
        },
        "outputId": "b0f05bdf-991d-43de-8170-f5ce45aa9f0e"
      },
      "source": [
        "## Adding color dimention to data\n",
        "x_train = np.expand_dims(x_train, -1)\n",
        "x_test = np.expand_dims(x_test, -1)\n",
        "x_train.shape, x_test.shape"
      ],
      "execution_count": 3,
      "outputs": [
        {
          "output_type": "execute_result",
          "data": {
            "text/plain": [
              "((60000, 28, 28, 1), (10000, 28, 28, 1))"
            ]
          },
          "metadata": {
            "tags": []
          },
          "execution_count": 3
        }
      ]
    },
    {
      "cell_type": "code",
      "metadata": {
        "id": "H4tn-XQfyd1l",
        "colab_type": "code",
        "colab": {
          "base_uri": "https://localhost:8080/",
          "height": 302
        },
        "outputId": "4d7522ab-436b-4c1d-aef2-53f76516b822"
      },
      "source": [
        "\n",
        "K = len(set(y_train))      ###### Number Of Labels\n",
        "print(K)\n",
        "sbn.countplot(y_train)\n",
        " "
      ],
      "execution_count": 4,
      "outputs": [
        {
          "output_type": "stream",
          "text": [
            "10\n"
          ],
          "name": "stdout"
        },
        {
          "output_type": "execute_result",
          "data": {
            "text/plain": [
              "<matplotlib.axes._subplots.AxesSubplot at 0x7fe88a1d8d30>"
            ]
          },
          "metadata": {
            "tags": []
          },
          "execution_count": 4
        },
        {
          "output_type": "display_data",
          "data": {
            "image/png": "[encoded data removed]",
            "text/plain": [
              "<Figure size 432x288 with 1 Axes>"
            ]
          },
          "metadata": {
            "tags": [],
            "needs_background": "light"
          }
        }
      ]
    },
    {
      "cell_type": "code",
      "metadata": {
        "id": "mXDuYf7qyd9n",
        "colab_type": "code",
        "colab": {}
      },
      "source": [
        "# Spliting X_train Set into training set and validation test\n",
        "x_train, val_x, y_train, val_y = train_test_split(x_train, y_train, test_size=0.20)"
      ],
      "execution_count": 5,
      "outputs": []
    },
    {
      "cell_type": "markdown",
      "metadata": {
        "id": "uJdqg8D5yeFR",
        "colab_type": "text"
      },
      "source": [
        "## **3. Some Variables and Traps**"
      ]
    },
    {
      "cell_type": "code",
      "metadata": {
        "id": "MpzD8nc-yeSm",
        "colab_type": "code",
        "colab": {}
      },
      "source": [
        "es = EarlyStopping(monitor='loss', patience=12)\n",
        "filepath=\"/content/drive/My Drive/Colab Notebooks/Model/bestmodel.h5\"\n",
        "md = ModelCheckpoint(filepath, monitor='loss', verbose=1, save_best_only=True, mode='min')"
      ],
      "execution_count": 6,
      "outputs": []
    },
    {
      "cell_type": "code",
      "metadata": {
        "id": "fOB4S8IYkZ8I",
        "colab_type": "code",
        "colab": {}
      },
      "source": [
        "# defininig ImageDataGeneratore to increase data\n",
        "datagen = ImageDataGenerator(zoom_range = 0.1,\n",
        "                            height_shift_range = 0.1,\n",
        "                            width_shift_range = 0.1,\n",
        "                            rotation_range = 10)"
      ],
      "execution_count": 7,
      "outputs": []
    },
    {
      "cell_type": "code",
      "metadata": {
        "id": "fpWmAuaE3Ub3",
        "colab_type": "code",
        "colab": {}
      },
      "source": [
        "# Important Variables\n",
        "epochs = 20\n",
        "batch_size = 128\n",
        "input_shape = (28, 28, 1)\n",
        "adam = tf.keras.optimizers.Adam(0.001)"
      ],
      "execution_count": 16,
      "outputs": []
    },
    {
      "cell_type": "markdown",
      "metadata": {
        "id": "m_k0YwmmyeZU",
        "colab_type": "text"
      },
      "source": [
        "## **4. Building Model with Basic Functional API**"
      ]
    },
    {
      "cell_type": "code",
      "metadata": {
        "id": "vQUGToSJyefH",
        "colab_type": "code",
        "colab": {
          "base_uri": "https://localhost:8080/",
          "height": 935
        },
        "outputId": "ea92e0b0-e01c-4fdd-8605-6414db5396a7"
      },
      "source": [
        "\n",
        "\n",
        "i = Input(shape=input_shape)\n",
        "x = Conv2D(32, (3, 3), activation='relu', padding='same')(i)\n",
        "x = BatchNormalization()(x)\n",
        "x = Conv2D(32, (3, 3), activation='relu', padding='same')(x)\n",
        "x = BatchNormalization()(x)\n",
        "x = MaxPooling2D((2, 2))(x)\n",
        "x = Conv2D(64, (3, 3), activation='relu', padding='same')(x)\n",
        "x = BatchNormalization()(x)\n",
        "x = Conv2D(64, (3, 3), activation='relu', padding='same')(x)\n",
        "x = BatchNormalization()(x)\n",
        "x = MaxPooling2D((2, 2))(x)\n",
        "x = Conv2D(128, (3, 3), activation='relu', padding='same')(x)\n",
        "x = BatchNormalization()(x)\n",
        "x = Conv2D(128, (3, 3), activation='relu', padding='same')(x)\n",
        "x = BatchNormalization()(x)\n",
        "x = MaxPooling2D((2, 2))(x)\n",
        "\n",
        "# x = GlobalMaxPooling2D()(x)\n",
        "x = Flatten()(x)\n",
        "x = Dropout(0.2)(x)\n",
        "x = Dense(1024, activation='relu')(x)\n",
        "x = Dropout(0.2)(x)\n",
        "x = Dense(K, activation='softmax')(x)\n",
        "\n",
        "model = Model(i, x)\n",
        "model.summary()\n"
      ],
      "execution_count": 17,
      "outputs": [
        {
          "output_type": "stream",
          "text": [
            "Model: \"functional_3\"\n",
            "_________________________________________________________________\n",
            "Layer (type)                 Output Shape              Param #   \n",
            "=================================================================\n",
            "input_2 (InputLayer)         [(None, 28, 28, 1)]       0         \n",
            "_________________________________________________________________\n",
            "conv2d_6 (Conv2D)            (None, 28, 28, 32)        320       \n",
            "_________________________________________________________________\n",
            "batch_normalization_6 (Batch (None, 28, 28, 32)        128       \n",
            "_________________________________________________________________\n",
            "conv2d_7 (Conv2D)            (None, 28, 28, 32)        9248      \n",
            "_________________________________________________________________\n",
            "batch_normalization_7 (Batch (None, 28, 28, 32)        128       \n",
            "_________________________________________________________________\n",
            "max_pooling2d_3 (MaxPooling2 (None, 14, 14, 32)        0         \n",
            "_________________________________________________________________\n",
            "conv2d_8 (Conv2D)            (None, 14, 14, 64)        18496     \n",
            "_________________________________________________________________\n",
            "batch_normalization_8 (Batch (None, 14, 14, 64)        256       \n",
            "_________________________________________________________________\n",
            "conv2d_9 (Conv2D)            (None, 14, 14, 64)        36928     \n",
            "_________________________________________________________________\n",
            "batch_normalization_9 (Batch (None, 14, 14, 64)        256       \n",
            "_________________________________________________________________\n",
            "max_pooling2d_4 (MaxPooling2 (None, 7, 7, 64)          0         \n",
            "_________________________________________________________________\n",
            "conv2d_10 (Conv2D)           (None, 7, 7, 128)         73856     \n",
            "_________________________________________________________________\n",
            "batch_normalization_10 (Batc (None, 7, 7, 128)         512       \n",
            "_________________________________________________________________\n",
            "conv2d_11 (Conv2D)           (None, 7, 7, 128)         147584    \n",
            "_________________________________________________________________\n",
            "batch_normalization_11 (Batc (None, 7, 7, 128)         512       \n",
            "_________________________________________________________________\n",
            "max_pooling2d_5 (MaxPooling2 (None, 3, 3, 128)         0         \n",
            "_________________________________________________________________\n",
            "flatten_1 (Flatten)          (None, 1152)              0         \n",
            "_________________________________________________________________\n",
            "dropout_2 (Dropout)          (None, 1152)              0         \n",
            "_________________________________________________________________\n",
            "dense_2 (Dense)              (None, 1024)              1180672   \n",
            "_________________________________________________________________\n",
            "dropout_3 (Dropout)          (None, 1024)              0         \n",
            "_________________________________________________________________\n",
            "dense_3 (Dense)              (None, 10)                10250     \n",
            "=================================================================\n",
            "Total params: 1,479,146\n",
            "Trainable params: 1,478,250\n",
            "Non-trainable params: 896\n",
            "_________________________________________________________________\n"
          ],
          "name": "stdout"
        }
      ]
    },
    {
      "cell_type": "code",
      "metadata": {
        "id": "KnJCj9v7yeli",
        "colab_type": "code",
        "colab": {}
      },
      "source": [
        "# Compiling Model\n",
        "model.compile(optimizer=adam,\n",
        "              loss='sparse_categorical_crossentropy',\n",
        "              metrics=['accuracy'])"
      ],
      "execution_count": 18,
      "outputs": []
    },
    {
      "cell_type": "code",
      "metadata": {
        "id": "hJ5aIsQHyerk",
        "colab_type": "code",
        "colab": {
          "base_uri": "https://localhost:8080/",
          "height": 1000
        },
        "outputId": "f0cbcc16-3d0b-4a7b-b6f3-d02f5cded42e"
      },
      "source": [
        "# Fit Model\n",
        "History = model.fit(datagen.flow(x_train, y_train, batch_size=batch_size),\n",
        "          epochs = epochs,\n",
        "          validation_data = (val_x, val_y),\n",
        "          callbacks = [es,md],\n",
        "          shuffle= True\n",
        "        )"
      ],
      "execution_count": 19,
      "outputs": [
        {
          "output_type": "stream",
          "text": [
            "Epoch 1/20\n",
            "375/375 [==============================] - ETA: 0s - loss: 0.6082 - accuracy: 0.7819\n",
            "Epoch 00001: loss did not improve from 0.24930\n",
            "375/375 [==============================] - 17s 46ms/step - loss: 0.6082 - accuracy: 0.7819 - val_loss: 3.6530 - val_accuracy: 0.3110\n",
            "Epoch 2/20\n",
            "375/375 [==============================] - ETA: 0s - loss: 0.3861 - accuracy: 0.8556\n",
            "Epoch 00002: loss did not improve from 0.24930\n",
            "375/375 [==============================] - 17s 46ms/step - loss: 0.3861 - accuracy: 0.8556 - val_loss: 0.4072 - val_accuracy: 0.8545\n",
            "Epoch 3/20\n",
            "375/375 [==============================] - ETA: 0s - loss: 0.3453 - accuracy: 0.8722\n",
            "Epoch 00003: loss did not improve from 0.24930\n",
            "375/375 [==============================] - 18s 47ms/step - loss: 0.3453 - accuracy: 0.8722 - val_loss: 0.3059 - val_accuracy: 0.8878\n",
            "Epoch 4/20\n",
            "374/375 [============================>.] - ETA: 0s - loss: 0.3175 - accuracy: 0.8822\n",
            "Epoch 00004: loss did not improve from 0.24930\n",
            "375/375 [==============================] - 17s 46ms/step - loss: 0.3174 - accuracy: 0.8822 - val_loss: 0.2954 - val_accuracy: 0.8838\n",
            "Epoch 5/20\n",
            "374/375 [============================>.] - ETA: 0s - loss: 0.2958 - accuracy: 0.8917\n",
            "Epoch 00005: loss did not improve from 0.24930\n",
            "375/375 [==============================] - 17s 45ms/step - loss: 0.2959 - accuracy: 0.8916 - val_loss: 0.2736 - val_accuracy: 0.8993\n",
            "Epoch 6/20\n",
            "374/375 [============================>.] - ETA: 0s - loss: 0.2873 - accuracy: 0.8932\n",
            "Epoch 00006: loss did not improve from 0.24930\n",
            "375/375 [==============================] - 17s 45ms/step - loss: 0.2873 - accuracy: 0.8932 - val_loss: 0.3001 - val_accuracy: 0.8929\n",
            "Epoch 7/20\n",
            "374/375 [============================>.] - ETA: 0s - loss: 0.2736 - accuracy: 0.8991\n",
            "Epoch 00007: loss did not improve from 0.24930\n",
            "375/375 [==============================] - 17s 45ms/step - loss: 0.2736 - accuracy: 0.8991 - val_loss: 0.2650 - val_accuracy: 0.8997\n",
            "Epoch 8/20\n",
            "375/375 [==============================] - ETA: 0s - loss: 0.2618 - accuracy: 0.9033\n",
            "Epoch 00008: loss did not improve from 0.24930\n",
            "375/375 [==============================] - 17s 45ms/step - loss: 0.2618 - accuracy: 0.9033 - val_loss: 0.2586 - val_accuracy: 0.9023\n",
            "Epoch 9/20\n",
            "375/375 [==============================] - ETA: 0s - loss: 0.2506 - accuracy: 0.9071\n",
            "Epoch 00009: loss did not improve from 0.24930\n",
            "375/375 [==============================] - 17s 45ms/step - loss: 0.2506 - accuracy: 0.9071 - val_loss: 0.2279 - val_accuracy: 0.9189\n",
            "Epoch 10/20\n",
            "375/375 [==============================] - ETA: 0s - loss: 0.2476 - accuracy: 0.9086\n",
            "Epoch 00010: loss improved from 0.24930 to 0.24764, saving model to /content/drive/My Drive/Colab Notebooks/Model/bestmodel.h5\n",
            "375/375 [==============================] - 18s 49ms/step - loss: 0.2476 - accuracy: 0.9086 - val_loss: 0.2960 - val_accuracy: 0.8917\n",
            "Epoch 11/20\n",
            "374/375 [============================>.] - ETA: 0s - loss: 0.2410 - accuracy: 0.9118\n",
            "Epoch 00011: loss improved from 0.24764 to 0.24095, saving model to /content/drive/My Drive/Colab Notebooks/Model/bestmodel.h5\n",
            "375/375 [==============================] - 18s 49ms/step - loss: 0.2410 - accuracy: 0.9118 - val_loss: 0.2354 - val_accuracy: 0.9124\n",
            "Epoch 12/20\n",
            "374/375 [============================>.] - ETA: 0s - loss: 0.2332 - accuracy: 0.9134\n",
            "Epoch 00012: loss improved from 0.24095 to 0.23329, saving model to /content/drive/My Drive/Colab Notebooks/Model/bestmodel.h5\n",
            "375/375 [==============================] - 18s 49ms/step - loss: 0.2333 - accuracy: 0.9134 - val_loss: 0.2419 - val_accuracy: 0.9088\n",
            "Epoch 13/20\n",
            "375/375 [==============================] - ETA: 0s - loss: 0.2262 - accuracy: 0.9147\n",
            "Epoch 00013: loss improved from 0.23329 to 0.22617, saving model to /content/drive/My Drive/Colab Notebooks/Model/bestmodel.h5\n",
            "375/375 [==============================] - 19s 50ms/step - loss: 0.2262 - accuracy: 0.9147 - val_loss: 0.2423 - val_accuracy: 0.9093\n",
            "Epoch 14/20\n",
            "375/375 [==============================] - ETA: 0s - loss: 0.2228 - accuracy: 0.9175\n",
            "Epoch 00014: loss improved from 0.22617 to 0.22276, saving model to /content/drive/My Drive/Colab Notebooks/Model/bestmodel.h5\n",
            "375/375 [==============================] - 18s 49ms/step - loss: 0.2228 - accuracy: 0.9175 - val_loss: 0.2592 - val_accuracy: 0.9059\n",
            "Epoch 15/20\n",
            "375/375 [==============================] - ETA: 0s - loss: 0.2169 - accuracy: 0.9196\n",
            "Epoch 00015: loss improved from 0.22276 to 0.21686, saving model to /content/drive/My Drive/Colab Notebooks/Model/bestmodel.h5\n",
            "375/375 [==============================] - 18s 48ms/step - loss: 0.2169 - accuracy: 0.9196 - val_loss: 0.2553 - val_accuracy: 0.9082\n",
            "Epoch 16/20\n",
            "375/375 [==============================] - ETA: 0s - loss: 0.2086 - accuracy: 0.9239\n",
            "Epoch 00016: loss improved from 0.21686 to 0.20860, saving model to /content/drive/My Drive/Colab Notebooks/Model/bestmodel.h5\n",
            "375/375 [==============================] - 18s 49ms/step - loss: 0.2086 - accuracy: 0.9239 - val_loss: 0.2259 - val_accuracy: 0.9172\n",
            "Epoch 17/20\n",
            "375/375 [==============================] - ETA: 0s - loss: 0.2067 - accuracy: 0.9233\n",
            "Epoch 00017: loss improved from 0.20860 to 0.20667, saving model to /content/drive/My Drive/Colab Notebooks/Model/bestmodel.h5\n",
            "375/375 [==============================] - 18s 49ms/step - loss: 0.2067 - accuracy: 0.9233 - val_loss: 0.2740 - val_accuracy: 0.9038\n",
            "Epoch 18/20\n",
            "374/375 [============================>.] - ETA: 0s - loss: 0.2001 - accuracy: 0.9255\n",
            "Epoch 00018: loss improved from 0.20667 to 0.19991, saving model to /content/drive/My Drive/Colab Notebooks/Model/bestmodel.h5\n",
            "375/375 [==============================] - 19s 51ms/step - loss: 0.1999 - accuracy: 0.9255 - val_loss: 0.2349 - val_accuracy: 0.9185\n",
            "Epoch 19/20\n",
            "374/375 [============================>.] - ETA: 0s - loss: 0.1968 - accuracy: 0.9265\n",
            "Epoch 00019: loss improved from 0.19991 to 0.19657, saving model to /content/drive/My Drive/Colab Notebooks/Model/bestmodel.h5\n",
            "375/375 [==============================] - 19s 50ms/step - loss: 0.1966 - accuracy: 0.9266 - val_loss: 0.2036 - val_accuracy: 0.9243\n",
            "Epoch 20/20\n",
            "375/375 [==============================] - ETA: 0s - loss: 0.1939 - accuracy: 0.9271\n",
            "Epoch 00020: loss improved from 0.19657 to 0.19390, saving model to /content/drive/My Drive/Colab Notebooks/Model/bestmodel.h5\n",
            "375/375 [==============================] - 19s 51ms/step - loss: 0.1939 - accuracy: 0.9271 - val_loss: 0.2099 - val_accuracy: 0.9258\n"
          ],
          "name": "stdout"
        }
      ]
    },
    {
      "cell_type": "code",
      "metadata": {
        "id": "5XVxLOobyeyI",
        "colab_type": "code",
        "colab": {
          "base_uri": "https://localhost:8080/",
          "height": 283
        },
        "outputId": "769b354c-2aa2-4449-9463-a7db2e708390"
      },
      "source": [
        "# Plot loss per iteration\n",
        "import matplotlib.pyplot as plt\n",
        "plt.plot(History.history['loss'], label='loss')\n",
        "plt.plot(History.history['val_loss'], label='val_loss')\n",
        "plt.legend()"
      ],
      "execution_count": 20,
      "outputs": [
        {
          "output_type": "execute_result",
          "data": {
            "text/plain": [
              "<matplotlib.legend.Legend at 0x7fe8162efb00>"
            ]
          },
          "metadata": {
            "tags": []
          },
          "execution_count": 20
        },
        {
          "output_type": "display_data",
          "data": {
            "image/png": "[encoded data removed]",
            "text/plain": [
              "<Figure size 432x288 with 1 Axes>"
            ]
          },
          "metadata": {
            "tags": [],
            "needs_background": "light"
          }
        }
      ]
    },
    {
      "cell_type": "code",
      "metadata": {
        "id": "6Zk21Jq4ye3o",
        "colab_type": "code",
        "colab": {
          "base_uri": "https://localhost:8080/",
          "height": 283
        },
        "outputId": "49e7e872-761e-410d-bce2-bc6956b34df1"
      },
      "source": [
        "# Plot accuracy per iteration\n",
        "plt.plot(History.history['accuracy'], label='acc')\n",
        "plt.plot(History.history['val_accuracy'], label='val_acc')\n",
        "plt.legend()"
      ],
      "execution_count": 21,
      "outputs": [
        {
          "output_type": "execute_result",
          "data": {
            "text/plain": [
              "<matplotlib.legend.Legend at 0x7fe816265400>"
            ]
          },
          "metadata": {
            "tags": []
          },
          "execution_count": 21
        },
        {
          "output_type": "display_data",
          "data": {
            "image/png": "[encoded data removed]",
            "text/plain": [
              "<Figure size 432x288 with 1 Axes>"
            ]
          },
          "metadata": {
            "tags": [],
            "needs_background": "light"
          }
        }
      ]
    },
    {
      "cell_type": "markdown",
      "metadata": {
        "id": "XFhVK_KEye9r",
        "colab_type": "text"
      },
      "source": [
        "## **5. Loading Model and Making Prediction**"
      ]
    },
    {
      "cell_type": "code",
      "metadata": {
        "id": "iPkvo7WCyfDS",
        "colab_type": "code",
        "colab": {
          "base_uri": "https://localhost:8080/",
          "height": 935
        },
        "outputId": "402e2f90-fd95-48fd-bc26-30c4628277b9"
      },
      "source": [
        "model1 = load_model(filepath)\n",
        "model1.summary()"
      ],
      "execution_count": 22,
      "outputs": [
        {
          "output_type": "stream",
          "text": [
            "Model: \"functional_3\"\n",
            "_________________________________________________________________\n",
            "Layer (type)                 Output Shape              Param #   \n",
            "=================================================================\n",
            "input_2 (InputLayer)         [(None, 28, 28, 1)]       0         \n",
            "_________________________________________________________________\n",
            "conv2d_6 (Conv2D)            (None, 28, 28, 32)        320       \n",
            "_________________________________________________________________\n",
            "batch_normalization_6 (Batch (None, 28, 28, 32)        128       \n",
            "_________________________________________________________________\n",
            "conv2d_7 (Conv2D)            (None, 28, 28, 32)        9248      \n",
            "_________________________________________________________________\n",
            "batch_normalization_7 (Batch (None, 28, 28, 32)        128       \n",
            "_________________________________________________________________\n",
            "max_pooling2d_3 (MaxPooling2 (None, 14, 14, 32)        0         \n",
            "_________________________________________________________________\n",
            "conv2d_8 (Conv2D)            (None, 14, 14, 64)        18496     \n",
            "_________________________________________________________________\n",
            "batch_normalization_8 (Batch (None, 14, 14, 64)        256       \n",
            "_________________________________________________________________\n",
            "conv2d_9 (Conv2D)            (None, 14, 14, 64)        36928     \n",
            "_________________________________________________________________\n",
            "batch_normalization_9 (Batch (None, 14, 14, 64)        256       \n",
            "_________________________________________________________________\n",
            "max_pooling2d_4 (MaxPooling2 (None, 7, 7, 64)          0         \n",
            "_________________________________________________________________\n",
            "conv2d_10 (Conv2D)           (None, 7, 7, 128)         73856     \n",
            "_________________________________________________________________\n",
            "batch_normalization_10 (Batc (None, 7, 7, 128)         512       \n",
            "_________________________________________________________________\n",
            "conv2d_11 (Conv2D)           (None, 7, 7, 128)         147584    \n",
            "_________________________________________________________________\n",
            "batch_normalization_11 (Batc (None, 7, 7, 128)         512       \n",
            "_________________________________________________________________\n",
            "max_pooling2d_5 (MaxPooling2 (None, 3, 3, 128)         0         \n",
            "_________________________________________________________________\n",
            "flatten_1 (Flatten)          (None, 1152)              0         \n",
            "_________________________________________________________________\n",
            "dropout_2 (Dropout)          (None, 1152)              0         \n",
            "_________________________________________________________________\n",
            "dense_2 (Dense)              (None, 1024)              1180672   \n",
            "_________________________________________________________________\n",
            "dropout_3 (Dropout)          (None, 1024)              0         \n",
            "_________________________________________________________________\n",
            "dense_3 (Dense)              (None, 10)                10250     \n",
            "=================================================================\n",
            "Total params: 1,479,146\n",
            "Trainable params: 1,478,250\n",
            "Non-trainable params: 896\n",
            "_________________________________________________________________\n"
          ],
          "name": "stdout"
        }
      ]
    },
    {
      "cell_type": "code",
      "metadata": {
        "id": "4cTuusfIcZ8F",
        "colab_type": "code",
        "colab": {
          "base_uri": "https://localhost:8080/",
          "height": 495
        },
        "outputId": "9e71cd49-4daf-4bd8-be3d-7578c1b85052"
      },
      "source": [
        "def plot_confusion_matrix(cm, classes,\n",
        "                          title='Confusion matrix',\n",
        "                          cmap=plt.cm.Blues):\n",
        "  print(cm)\n",
        "\n",
        "  plt.imshow(cm, interpolation='nearest', cmap=cmap)\n",
        "  plt.title(title)\n",
        "  plt.colorbar()\n",
        "  tick_marks = np.arange(len(classes))\n",
        "  plt.xticks(tick_marks, classes, rotation=45)\n",
        "  plt.yticks(tick_marks, classes)\n",
        "\n",
        "  fmt = 'd'\n",
        "  thresh = cm.max() / 2.\n",
        "  for i, j in itertools.product(range(cm.shape[0]), range(cm.shape[1])):\n",
        "      plt.text(j, i, format(cm[i, j], fmt),\n",
        "               horizontalalignment=\"center\",\n",
        "               color=\"white\" if cm[i, j] > thresh else \"black\")\n",
        "\n",
        "  plt.tight_layout()\n",
        "  plt.ylabel('True label')\n",
        "  plt.xlabel('Predicted label')\n",
        "  plt.show()\n",
        "\n",
        "\n",
        "p_test = model1.predict(x_test).argmax(axis=1)\n",
        "cm = confusion_matrix(y_test, p_test)\n",
        "plot_confusion_matrix(cm, list(range(10)))"
      ],
      "execution_count": 23,
      "outputs": [
        {
          "output_type": "stream",
          "text": [
            "[[892   0  14   5   0   0  79   0  10   0]\n",
            " [  1 986   0   7   0   0   3   0   3   0]\n",
            " [ 18   1 878   6  47   0  46   0   4   0]\n",
            " [ 21   5  11 889  21   0  50   0   3   0]\n",
            " [  1   1  22  21 908   0  43   0   4   0]\n",
            " [  0   0   0   0   0 993   0   3   0   4]\n",
            " [117   0  46  14  69   0 741   0  13   0]\n",
            " [  0   0   0   0   0  24   0 926   2  48]\n",
            " [  1   0   0   0   0   0   0   0 999   0]\n",
            " [  0   0   0   0   0   5   0  14   0 981]]\n"
          ],
          "name": "stdout"
        },
        {
          "output_type": "display_data",
          "data": {
            "image/png": "[encoded data removed]",
            "text/plain": [
              "<Figure size 432x288 with 2 Axes>"
            ]
          },
          "metadata": {
            "tags": [],
            "needs_background": "light"
          }
        }
      ]
    },
    {
      "cell_type": "code",
      "metadata": {
        "id": "5hXeEMKatBbL",
        "colab_type": "code",
        "colab": {}
      },
      "source": [
        ""
      ],
      "execution_count": 23,
      "outputs": []
    }
  ]
}