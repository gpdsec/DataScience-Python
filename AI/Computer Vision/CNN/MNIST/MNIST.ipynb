{
  "nbformat": 4,
  "nbformat_minor": 0,
  "metadata": {
    "colab": {
      "name": "MNIST.ipynb",
      "provenance": [],
      "collapsed_sections": [],
      "mount_file_id": "1y83so0lwgq7dqWCGcO1Y9SDg_hp3Bv5_",
      "authorship_tag": "ABX9TyNxmy/xsv+6oX2cynzzEW2s",
      "include_colab_link": true
    },
    "kernelspec": {
      "name": "python3",
      "display_name": "Python 3"
    },
    "accelerator": "GPU"
  },
  "cells": [
    {
      "cell_type": "markdown",
      "metadata": {
        "id": "view-in-github",
        "colab_type": "text"
      },
      "source": [
        "<a href=\"https://colab.research.google.com/github/gpdsec/DataScience-Python/blob/master/MNIST.ipynb\" target=\"_parent\"><img src=\"https://colab.research.google.com/assets/colab-badge.svg\" alt=\"Open In Colab\"/></a>"
      ]
    },
    {
      "cell_type": "markdown",
      "metadata": {
        "id": "zccG6NFayPEN",
        "colab_type": "text"
      },
      "source": [
        "## **1. Importing Libraries**"
      ]
    },
    {
      "cell_type": "code",
      "metadata": {
        "id": "LJS0A9V_rvB-",
        "colab_type": "code",
        "colab": {
          "base_uri": "https://localhost:8080/",
          "height": 74
        },
        "outputId": "5500bce3-c467-4498-9b88-fb782513ccc0"
      },
      "source": [
        "import tensorflow as tf\n",
        "import pandas as pd\n",
        "import numpy as np\n",
        "from tensorflow.keras.models import Model, load_model\n",
        "from tensorflow.keras.layers import Input, Conv2D, Dense, Flatten, BatchNormalization, Dropout\n",
        "from tensorflow.keras.callbacks import ModelCheckpoint, EarlyStopping\n",
        "from tensorflow.keras.preprocessing.image import ImageDataGenerator\n",
        "from tensorflow.keras.datasets import mnist\n",
        "from sklearn.model_selection import train_test_split\n",
        "from sklearn.metrics import confusion_matrix\n",
        "import itertools\n",
        "import matplotlib.pyplot as plt\n",
        "import seaborn as sbn\n",
        "%matplotlib inline"
      ],
      "execution_count": 1,
      "outputs": [
        {
          "output_type": "stream",
          "text": [
            "/usr/local/lib/python3.6/dist-packages/statsmodels/tools/_testing.py:19: FutureWarning: pandas.util.testing is deprecated. Use the functions in the public API at pandas.testing instead.\n",
            "  import pandas.util.testing as tm\n"
          ],
          "name": "stderr"
        }
      ]
    },
    {
      "cell_type": "markdown",
      "metadata": {
        "id": "XbHi1wJjyN92",
        "colab_type": "text"
      },
      "source": [
        "## **2. Loading and Processing Data**"
      ]
    },
    {
      "cell_type": "code",
      "metadata": {
        "id": "CNf4QmONydfz",
        "colab_type": "code",
        "colab": {
          "base_uri": "https://localhost:8080/",
          "height": 35
        },
        "outputId": "e1438180-e41f-41f5-ce64-43ff98d1c67a"
      },
      "source": [
        "(x_train, y_train), (x_test, y_test) = mnist.load_data()\n",
        "x_train, x_test = x_train / 255.0, x_test / 255.0\n",
        "x_train.shape, x_test.shape"
      ],
      "execution_count": 2,
      "outputs": [
        {
          "output_type": "execute_result",
          "data": {
            "text/plain": [
              "((60000, 28, 28), (10000, 28, 28))"
            ]
          },
          "metadata": {
            "tags": []
          },
          "execution_count": 2
        }
      ]
    },
    {
      "cell_type": "code",
      "metadata": {
        "id": "PViOjxXEyds0",
        "colab_type": "code",
        "colab": {
          "base_uri": "https://localhost:8080/",
          "height": 35
        },
        "outputId": "53c5e8d0-d006-4b60-f6c4-e1b699afc7fd"
      },
      "source": [
        "## Adding color dimention to data\n",
        "x_train = np.expand_dims(x_train, -1)\n",
        "x_test = np.expand_dims(x_test, -1)\n",
        "x_train.shape, x_test.shape"
      ],
      "execution_count": 3,
      "outputs": [
        {
          "output_type": "execute_result",
          "data": {
            "text/plain": [
              "((60000, 28, 28, 1), (10000, 28, 28, 1))"
            ]
          },
          "metadata": {
            "tags": []
          },
          "execution_count": 3
        }
      ]
    },
    {
      "cell_type": "code",
      "metadata": {
        "id": "H4tn-XQfyd1l",
        "colab_type": "code",
        "colab": {
          "base_uri": "https://localhost:8080/",
          "height": 304
        },
        "outputId": "759427f1-9e38-46d4-fe5d-fea6241c30ff"
      },
      "source": [
        "K = len(set(y_train))      ###### Number Of Labels\n",
        "print(K)\n",
        "sbn.countplot(y_train)"
      ],
      "execution_count": 4,
      "outputs": [
        {
          "output_type": "stream",
          "text": [
            "10\n"
          ],
          "name": "stdout"
        },
        {
          "output_type": "execute_result",
          "data": {
            "text/plain": [
              "<matplotlib.axes._subplots.AxesSubplot at 0x7fb50d16d1d0>"
            ]
          },
          "metadata": {
            "tags": []
          },
          "execution_count": 4
        },
        {
          "output_type": "display_data",
          "data": {
            "image/png": "[encoded data removed]",
            "text/plain": [
              "<Figure size 432x288 with 1 Axes>"
            ]
          },
          "metadata": {
            "tags": [],
            "needs_background": "light"
          }
        }
      ]
    },
    {
      "cell_type": "code",
      "metadata": {
        "id": "mXDuYf7qyd9n",
        "colab_type": "code",
        "colab": {}
      },
      "source": [
        "# Spliting X_train Set into training set and validation test\n",
        "x_train, val_x, y_train, val_y = train_test_split(x_train, y_train, test_size=0.20)"
      ],
      "execution_count": 5,
      "outputs": []
    },
    {
      "cell_type": "markdown",
      "metadata": {
        "id": "uJdqg8D5yeFR",
        "colab_type": "text"
      },
      "source": [
        "## **3. Some Variables and Traps**"
      ]
    },
    {
      "cell_type": "code",
      "metadata": {
        "id": "MpzD8nc-yeSm",
        "colab_type": "code",
        "colab": {}
      },
      "source": [
        "es = EarlyStopping(monitor='loss', patience=12)\n",
        "filepath=\"/content/drive/My Drive/Colab Notebooks/Model/bestmodel.h5\"\n",
        "md = ModelCheckpoint(filepath, monitor='loss', verbose=1, save_best_only=True, mode='min')"
      ],
      "execution_count": 7,
      "outputs": []
    },
    {
      "cell_type": "code",
      "metadata": {
        "id": "fpWmAuaE3Ub3",
        "colab_type": "code",
        "colab": {}
      },
      "source": [
        "# Important Variables\n",
        "epochs = 10\n",
        "batch_size = 128\n",
        "input_shape = (28, 28, 1)\n",
        "adam = tf.keras.optimizers.Adam(0.001)"
      ],
      "execution_count": 8,
      "outputs": []
    },
    {
      "cell_type": "markdown",
      "metadata": {
        "id": "m_k0YwmmyeZU",
        "colab_type": "text"
      },
      "source": [
        "## **4. Building Model with Basic Functional API**"
      ]
    },
    {
      "cell_type": "code",
      "metadata": {
        "id": "vQUGToSJyefH",
        "colab_type": "code",
        "colab": {
          "base_uri": "https://localhost:8080/",
          "height": 495
        },
        "outputId": "c8eeb7ad-3650-46ca-89a1-6f542d60fc1c"
      },
      "source": [
        "\n",
        "\n",
        "i = Input(shape=input_shape)\n",
        "x = Conv2D(32, (3, 3), strides=2, activation='relu')(i)\n",
        "x = BatchNormalization()(x)\n",
        "x = Conv2D(64, (3, 3), strides=2, activation='relu')(x)\n",
        "#x = BatchNormalization()(x)\n",
        "#x = Conv2D(128, (3, 3), strides=2, activation='relu')(x)\n",
        "x = Flatten()(x)\n",
        "x = Dropout(0.2)(x)\n",
        "x = Dense(1024, activation='relu')(x)\n",
        "x = Dropout(0.4)(x)\n",
        "x = Dense(K, activation='softmax')(x)\n",
        "\n",
        "model = Model(i, x)\n",
        "model.summary()\n"
      ],
      "execution_count": 9,
      "outputs": [
        {
          "output_type": "stream",
          "text": [
            "Model: \"model\"\n",
            "_________________________________________________________________\n",
            "Layer (type)                 Output Shape              Param #   \n",
            "=================================================================\n",
            "input_1 (InputLayer)         [(None, 28, 28, 1)]       0         \n",
            "_________________________________________________________________\n",
            "conv2d (Conv2D)              (None, 13, 13, 32)        320       \n",
            "_________________________________________________________________\n",
            "batch_normalization (BatchNo (None, 13, 13, 32)        128       \n",
            "_________________________________________________________________\n",
            "conv2d_1 (Conv2D)            (None, 6, 6, 64)          18496     \n",
            "_________________________________________________________________\n",
            "flatten (Flatten)            (None, 2304)              0         \n",
            "_________________________________________________________________\n",
            "dropout (Dropout)            (None, 2304)              0         \n",
            "_________________________________________________________________\n",
            "dense (Dense)                (None, 1024)              2360320   \n",
            "_________________________________________________________________\n",
            "dropout_1 (Dropout)          (None, 1024)              0         \n",
            "_________________________________________________________________\n",
            "dense_1 (Dense)              (None, 10)                10250     \n",
            "=================================================================\n",
            "Total params: 2,389,514\n",
            "Trainable params: 2,389,450\n",
            "Non-trainable params: 64\n",
            "_________________________________________________________________\n"
          ],
          "name": "stdout"
        }
      ]
    },
    {
      "cell_type": "code",
      "metadata": {
        "id": "KnJCj9v7yeli",
        "colab_type": "code",
        "colab": {}
      },
      "source": [
        "# Compiling Model\n",
        "model.compile(optimizer=adam,\n",
        "              loss='sparse_categorical_crossentropy',\n",
        "              metrics=['accuracy'])"
      ],
      "execution_count": 10,
      "outputs": []
    },
    {
      "cell_type": "code",
      "metadata": {
        "id": "hJ5aIsQHyerk",
        "colab_type": "code",
        "colab": {
          "base_uri": "https://localhost:8080/",
          "height": 752
        },
        "outputId": "6a5e431a-e82f-4fc7-ad8b-fefc32bd57d9"
      },
      "source": [
        "# Fit Model\n",
        "History = model.fit(x_train, y_train, \n",
        "          batch_size=batch_size,\n",
        "          epochs = epochs,\n",
        "          validation_data = (val_x, val_y),\n",
        "          callbacks = [es,md],\n",
        "          shuffle= True\n",
        "        )"
      ],
      "execution_count": 11,
      "outputs": [
        {
          "output_type": "stream",
          "text": [
            "Epoch 1/10\n",
            "371/375 [============================>.] - ETA: 0s - loss: 0.1881 - accuracy: 0.9405\n",
            "Epoch 00001: loss improved from inf to 0.18733, saving model to /content/drive/My Drive/Colab Notebooks/Model/bestmodel.h5\n",
            "375/375 [==============================] - 6s 15ms/step - loss: 0.1873 - accuracy: 0.9406 - val_loss: 0.2570 - val_accuracy: 0.9768\n",
            "Epoch 2/10\n",
            "371/375 [============================>.] - ETA: 0s - loss: 0.0650 - accuracy: 0.9794\n",
            "Epoch 00002: loss improved from 0.18733 to 0.06476, saving model to /content/drive/My Drive/Colab Notebooks/Model/bestmodel.h5\n",
            "375/375 [==============================] - 3s 8ms/step - loss: 0.0648 - accuracy: 0.9796 - val_loss: 0.0629 - val_accuracy: 0.9808\n",
            "Epoch 3/10\n",
            "369/375 [============================>.] - ETA: 0s - loss: 0.0472 - accuracy: 0.9852\n",
            "Epoch 00003: loss improved from 0.06476 to 0.04718, saving model to /content/drive/My Drive/Colab Notebooks/Model/bestmodel.h5\n",
            "375/375 [==============================] - 3s 8ms/step - loss: 0.0472 - accuracy: 0.9852 - val_loss: 0.0460 - val_accuracy: 0.9855\n",
            "Epoch 4/10\n",
            "370/375 [============================>.] - ETA: 0s - loss: 0.0355 - accuracy: 0.9887\n",
            "Epoch 00004: loss improved from 0.04718 to 0.03549, saving model to /content/drive/My Drive/Colab Notebooks/Model/bestmodel.h5\n",
            "375/375 [==============================] - 3s 8ms/step - loss: 0.0355 - accuracy: 0.9886 - val_loss: 0.0485 - val_accuracy: 0.9851\n",
            "Epoch 5/10\n",
            "369/375 [============================>.] - ETA: 0s - loss: 0.0297 - accuracy: 0.9907\n",
            "Epoch 00005: loss improved from 0.03549 to 0.02988, saving model to /content/drive/My Drive/Colab Notebooks/Model/bestmodel.h5\n",
            "375/375 [==============================] - 3s 8ms/step - loss: 0.0299 - accuracy: 0.9907 - val_loss: 0.0460 - val_accuracy: 0.9870\n",
            "Epoch 6/10\n",
            "375/375 [==============================] - ETA: 0s - loss: 0.0244 - accuracy: 0.9920\n",
            "Epoch 00006: loss improved from 0.02988 to 0.02438, saving model to /content/drive/My Drive/Colab Notebooks/Model/bestmodel.h5\n",
            "375/375 [==============================] - 3s 8ms/step - loss: 0.0244 - accuracy: 0.9920 - val_loss: 0.0461 - val_accuracy: 0.9874\n",
            "Epoch 7/10\n",
            "372/375 [============================>.] - ETA: 0s - loss: 0.0232 - accuracy: 0.9923\n",
            "Epoch 00007: loss improved from 0.02438 to 0.02311, saving model to /content/drive/My Drive/Colab Notebooks/Model/bestmodel.h5\n",
            "375/375 [==============================] - 3s 8ms/step - loss: 0.0231 - accuracy: 0.9923 - val_loss: 0.0519 - val_accuracy: 0.9878\n",
            "Epoch 8/10\n",
            "371/375 [============================>.] - ETA: 0s - loss: 0.0201 - accuracy: 0.9931\n",
            "Epoch 00008: loss improved from 0.02311 to 0.02018, saving model to /content/drive/My Drive/Colab Notebooks/Model/bestmodel.h5\n",
            "375/375 [==============================] - 3s 8ms/step - loss: 0.0202 - accuracy: 0.9931 - val_loss: 0.0547 - val_accuracy: 0.9863\n",
            "Epoch 9/10\n",
            "367/375 [============================>.] - ETA: 0s - loss: 0.0168 - accuracy: 0.9942\n",
            "Epoch 00009: loss improved from 0.02018 to 0.01730, saving model to /content/drive/My Drive/Colab Notebooks/Model/bestmodel.h5\n",
            "375/375 [==============================] - 3s 8ms/step - loss: 0.0173 - accuracy: 0.9941 - val_loss: 0.0575 - val_accuracy: 0.9877\n",
            "Epoch 10/10\n",
            "375/375 [==============================] - ETA: 0s - loss: 0.0175 - accuracy: 0.9944\n",
            "Epoch 00010: loss did not improve from 0.01730\n",
            "375/375 [==============================] - 3s 7ms/step - loss: 0.0175 - accuracy: 0.9944 - val_loss: 0.0518 - val_accuracy: 0.9873\n"
          ],
          "name": "stdout"
        }
      ]
    },
    {
      "cell_type": "code",
      "metadata": {
        "id": "5XVxLOobyeyI",
        "colab_type": "code",
        "colab": {
          "base_uri": "https://localhost:8080/",
          "height": 283
        },
        "outputId": "6cbb3f16-6da7-4612-9ff8-b2d576a69cee"
      },
      "source": [
        "# Plot loss per iteration\n",
        "import matplotlib.pyplot as plt\n",
        "plt.plot(History.history['loss'], label='loss')\n",
        "plt.plot(History.history['val_loss'], label='val_loss')\n",
        "plt.legend()"
      ],
      "execution_count": 12,
      "outputs": [
        {
          "output_type": "execute_result",
          "data": {
            "text/plain": [
              "<matplotlib.legend.Legend at 0x7fb4b28487f0>"
            ]
          },
          "metadata": {
            "tags": []
          },
          "execution_count": 12
        },
        {
          "output_type": "display_data",
          "data": {
            "image/png": "[encoded data removed]",
            "text/plain": [
              "<Figure size 432x288 with 1 Axes>"
            ]
          },
          "metadata": {
            "tags": [],
            "needs_background": "light"
          }
        }
      ]
    },
    {
      "cell_type": "code",
      "metadata": {
        "id": "6Zk21Jq4ye3o",
        "colab_type": "code",
        "colab": {
          "base_uri": "https://localhost:8080/",
          "height": 283
        },
        "outputId": "65100e4a-6c1a-4818-9758-887a1df83136"
      },
      "source": [
        "# Plot accuracy per iteration\n",
        "plt.plot(History.history['accuracy'], label='acc')\n",
        "plt.plot(History.history['val_accuracy'], label='val_acc')\n",
        "plt.legend()"
      ],
      "execution_count": 13,
      "outputs": [
        {
          "output_type": "execute_result",
          "data": {
            "text/plain": [
              "<matplotlib.legend.Legend at 0x7fb4b183ee80>"
            ]
          },
          "metadata": {
            "tags": []
          },
          "execution_count": 13
        },
        {
          "output_type": "display_data",
          "data": {
            "image/png": "[encoded data removed]",
            "text/plain": [
              "<Figure size 432x288 with 1 Axes>"
            ]
          },
          "metadata": {
            "tags": [],
            "needs_background": "light"
          }
        }
      ]
    },
    {
      "cell_type": "markdown",
      "metadata": {
        "id": "XFhVK_KEye9r",
        "colab_type": "text"
      },
      "source": [
        "## **5. Loading Model and Making Prediction**"
      ]
    },
    {
      "cell_type": "code",
      "metadata": {
        "id": "iPkvo7WCyfDS",
        "colab_type": "code",
        "colab": {
          "base_uri": "https://localhost:8080/",
          "height": 495
        },
        "outputId": "992d2775-7be5-4a31-83a8-e2293c4674c7"
      },
      "source": [
        "model1 = load_model(filepath)\n",
        "model1.summary()"
      ],
      "execution_count": 14,
      "outputs": [
        {
          "output_type": "stream",
          "text": [
            "Model: \"model\"\n",
            "_________________________________________________________________\n",
            "Layer (type)                 Output Shape              Param #   \n",
            "=================================================================\n",
            "input_1 (InputLayer)         [(None, 28, 28, 1)]       0         \n",
            "_________________________________________________________________\n",
            "conv2d (Conv2D)              (None, 13, 13, 32)        320       \n",
            "_________________________________________________________________\n",
            "batch_normalization (BatchNo (None, 13, 13, 32)        128       \n",
            "_________________________________________________________________\n",
            "conv2d_1 (Conv2D)            (None, 6, 6, 64)          18496     \n",
            "_________________________________________________________________\n",
            "flatten (Flatten)            (None, 2304)              0         \n",
            "_________________________________________________________________\n",
            "dropout (Dropout)            (None, 2304)              0         \n",
            "_________________________________________________________________\n",
            "dense (Dense)                (None, 1024)              2360320   \n",
            "_________________________________________________________________\n",
            "dropout_1 (Dropout)          (None, 1024)              0         \n",
            "_________________________________________________________________\n",
            "dense_1 (Dense)              (None, 10)                10250     \n",
            "=================================================================\n",
            "Total params: 2,389,514\n",
            "Trainable params: 2,389,450\n",
            "Non-trainable params: 64\n",
            "_________________________________________________________________\n"
          ],
          "name": "stdout"
        }
      ]
    },
    {
      "cell_type": "code",
      "metadata": {
        "id": "4cTuusfIcZ8F",
        "colab_type": "code",
        "colab": {
          "base_uri": "https://localhost:8080/",
          "height": 495
        },
        "outputId": "de95d853-e2fc-418c-bfde-fd4aa3f54193"
      },
      "source": [
        "def plot_confusion_matrix(cm, classes,\n",
        "                          title='Confusion matrix',\n",
        "                          cmap=plt.cm.Blues):\n",
        "  print(cm)\n",
        "\n",
        "  plt.imshow(cm, interpolation='nearest', cmap=cmap)\n",
        "  plt.title(title)\n",
        "  plt.colorbar()\n",
        "  tick_marks = np.arange(len(classes))\n",
        "  plt.xticks(tick_marks, classes, rotation=45)\n",
        "  plt.yticks(tick_marks, classes)\n",
        "\n",
        "  fmt = 'd'\n",
        "  thresh = cm.max() / 2.\n",
        "  for i, j in itertools.product(range(cm.shape[0]), range(cm.shape[1])):\n",
        "      plt.text(j, i, format(cm[i, j], fmt),\n",
        "               horizontalalignment=\"center\",\n",
        "               color=\"white\" if cm[i, j] > thresh else \"black\")\n",
        "\n",
        "  plt.tight_layout()\n",
        "  plt.ylabel('True label')\n",
        "  plt.xlabel('Predicted label')\n",
        "  plt.show()\n",
        "\n",
        "\n",
        "p_test = model1.predict(x_test).argmax(axis=1)\n",
        "cm = confusion_matrix(y_test, p_test)\n",
        "plot_confusion_matrix(cm, list(range(10)))"
      ],
      "execution_count": 20,
      "outputs": [
        {
          "output_type": "stream",
          "text": [
            "[[ 978    0    0    0    0    0    1    1    0    0]\n",
            " [   0 1131    0    2    0    0    0    1    1    0]\n",
            " [   1    0 1025    1    0    0    0    4    1    0]\n",
            " [   0    0    0 1005    0    2    0    3    0    0]\n",
            " [   0    0    0    0  973    0    2    0    0    7]\n",
            " [   1    0    1    1    0  888    1    0    0    0]\n",
            " [   5    2    0    1    6    1  939    0    3    1]\n",
            " [   0    1    6    4    1    0    0 1010    3    3]\n",
            " [   4    0    2    2    1    2    0    0  960    3]\n",
            " [   0    1    2    0    7    2    0    3    2  992]]\n"
          ],
          "name": "stdout"
        },
        {
          "output_type": "display_data",
          "data": {
            "image/png": "[encoded data removed]",
            "text/plain": [
              "<Figure size 432x288 with 2 Axes>"
            ]
          },
          "metadata": {
            "tags": [],
            "needs_background": "light"
          }
        }
      ]
    },
    {
      "cell_type": "code",
      "metadata": {
        "id": "N5RKP3_5cob-",
        "colab_type": "code",
        "colab": {}
      },
      "source": [
        ""
      ],
      "execution_count": null,
      "outputs": []
    }
  ]
}