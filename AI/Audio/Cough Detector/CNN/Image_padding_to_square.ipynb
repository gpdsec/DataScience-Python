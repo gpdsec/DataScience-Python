{
 "cells": [
  {
   "cell_type": "code",
   "execution_count": 5,
   "metadata": {},
   "outputs": [],
   "source": [
    "from PIL import Image\n",
    "import pandas as pd"
   ]
  },
  {
   "cell_type": "code",
   "execution_count": 6,
   "metadata": {},
   "outputs": [
    {
     "data": {
      "text/plain": [
       "Index(['fname', 'label'], dtype='object')"
      ]
     },
     "execution_count": 6,
     "metadata": {},
     "output_type": "execute_result"
    }
   ],
   "source": [
    "df = pd.read_csv('Input_meta/meta.csv')\n",
    "df.columns"
   ]
  },
  {
   "cell_type": "code",
   "execution_count": 7,
   "metadata": {},
   "outputs": [],
   "source": [
    "\n",
    "def img_padding(img, fname):\n",
    "    x, y = img.size\n",
    "    min_size=279 \n",
    "    fill_color=(255, 255, 255, 0)\n",
    "    size = max(min_size, x, y)\n",
    "    p_img = Image.new('RGBA', (size, size), fill_color)\n",
    "    p_img.paste(img, (int((size - x) / 2), int((size - y) / 2)))\n",
    "    dest_path = 'Spectrogram_padded/'+fname+'.png'\n",
    "    p_img.save(dest_path)"
   ]
  },
  {
   "cell_type": "code",
   "execution_count": 8,
   "metadata": {},
   "outputs": [],
   "source": [
    "for i in range(len(df)):\n",
    "    if df['label'][i]==1:\n",
    "        path = 'Spectrogram_intial/cough/'+df['fname'][i]+'.png'\n",
    "    else:\n",
    "        path = 'Spectrogram_intial/non cough/'+df['fname'][i]+'.png'\n",
    "    img = Image.open(path)\n",
    "    img_padding(img, df['fname'][i])\n",
    "    "
   ]
  },
  {
   "cell_type": "code",
   "execution_count": null,
   "metadata": {},
   "outputs": [],
   "source": []
  }
 ],
 "metadata": {
  "kernelspec": {
   "display_name": "Python 3",
   "language": "python",
   "name": "python3"
  },
  "language_info": {
   "codemirror_mode": {
    "name": "ipython",
    "version": 3
   },
   "file_extension": ".py",
   "mimetype": "text/x-python",
   "name": "python",
   "nbconvert_exporter": "python",
   "pygments_lexer": "ipython3",
   "version": "3.7.7"
  }
 },
 "nbformat": 4,
 "nbformat_minor": 4
}
