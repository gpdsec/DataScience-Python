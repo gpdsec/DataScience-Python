{
 "cells": [
  {
   "cell_type": "code",
   "execution_count": 1,
   "metadata": {},
   "outputs": [],
   "source": [
    "import os\n",
    "import pandas as pd\n",
    "import glob\n",
    "from pathlib import Path\n",
    "from sklearn.utils import shuffle"
   ]
  },
  {
   "cell_type": "code",
   "execution_count": 2,
   "metadata": {},
   "outputs": [],
   "source": [
    "source_cough = Path('Spectrogram/cough/')\n",
    "source_non_cough = Path('Spectrogram/nocough/')\n",
    "output_path = 'Input_meta/'\n",
    "fname = []\n",
    "label = []\n",
    "for wfile in source_cough.glob(\"*.png\"):\n",
    "    fname.append(os.path.basename(wfile))\n",
    "    label.append(1)\n",
    "for wfile in source_non_cough.glob(\"*.png\"):\n",
    "    fname.append(os.path.basename(wfile))\n",
    "    label.append(0)\n",
    "\n",
    "df = pd.DataFrame()\n",
    "df['fname']= fname\n",
    "df['label']= label\n",
    "\n",
    "    \n",
    "    "
   ]
  },
  {
   "cell_type": "code",
   "execution_count": 3,
   "metadata": {},
   "outputs": [],
   "source": [
    "df = shuffle(df)\n",
    "df.to_csv(\"Input_meta/meta.csv\", index=False)\n",
    "\n",
    "\n",
    "\n",
    "\n",
    "\n"
   ]
  },
  {
   "cell_type": "code",
   "execution_count": null,
   "metadata": {},
   "outputs": [],
   "source": []
  }
 ],
 "metadata": {
  "kernelspec": {
   "display_name": "Python 3",
   "language": "python",
   "name": "python3"
  },
  "language_info": {
   "codemirror_mode": {
    "name": "ipython",
    "version": 3
   },
   "file_extension": ".py",
   "mimetype": "text/x-python",
   "name": "python",
   "nbconvert_exporter": "python",
   "pygments_lexer": "ipython3",
   "version": "3.7.7"
  }
 },
 "nbformat": 4,
 "nbformat_minor": 4
}
